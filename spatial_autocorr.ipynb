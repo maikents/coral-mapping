{
 "cells": [
  {
   "cell_type": "code",
   "execution_count": 52,
   "id": "92146d2a-6cab-422d-b81b-cd87c9032ea5",
   "metadata": {},
   "outputs": [],
   "source": [
    "import pandas as pd\n",
    "import pysal\n",
    "import numpy as np\n",
    "from pysal.lib import weights"
   ]
  },
  {
   "cell_type": "code",
   "execution_count": 53,
   "id": "701de22a-97bb-4da8-9a37-fa4f359fa698",
   "metadata": {},
   "outputs": [],
   "source": [
    "data_filepath = '/cluster/home/maikents/coral-mapping/processed_data/df_ready_for_training.parquet'\n",
    "df = pd.read_parquet(data_filepath)"
   ]
  },
  {
   "cell_type": "code",
   "execution_count": 54,
   "id": "679c77d6-51e4-4873-b5ef-405d9d8e8157",
   "metadata": {},
   "outputs": [],
   "source": [
    "coral_df = df[['x', 'y', 'label']]\n",
    "coral_df = coral_df.dropna()"
   ]
  },
  {
   "cell_type": "code",
   "execution_count": 55,
   "id": "df463888-eb3b-40b0-90f4-53d216630f36",
   "metadata": {},
   "outputs": [],
   "source": [
    "absence_df = coral_df[coral_df['label'] == 0]\n",
    "downsampled_absences = absence_df.sample(n=718, random_state=42)\n"
   ]
  },
  {
   "cell_type": "code",
   "execution_count": 57,
   "id": "94579360-dbc8-4821-a806-52474065e408",
   "metadata": {},
   "outputs": [],
   "source": [
    "presence_df = coral_df[coral_df['label'] == 1]\n",
    "\n",
    "balanced_df = pd.concat([downsampled_absences, presence_df])\n",
    "\n",
    "# Shuffle the dataframe\n",
    "balanced_df = balanced_df.sample(frac=1, random_state=42).reset_index(drop=True)\n"
   ]
  },
  {
   "cell_type": "code",
   "execution_count": 58,
   "id": "c33ad591-f659-47c5-a7d5-5ce8978b7d77",
   "metadata": {},
   "outputs": [],
   "source": [
    "labels = balanced_df['label'].values.reshape(-1, 1)\n"
   ]
  },
  {
   "cell_type": "code",
   "execution_count": 59,
   "id": "c211093b-9263-4070-8c64-acd195685654",
   "metadata": {},
   "outputs": [],
   "source": [
    "from esda.moran import Moran"
   ]
  },
  {
   "cell_type": "code",
   "execution_count": 60,
   "id": "d1116d46-756a-4a39-a833-6e52d87429d4",
   "metadata": {},
   "outputs": [],
   "source": [
    "coords = balanced_df[['x', 'y']].values"
   ]
  },
  {
   "cell_type": "code",
   "execution_count": 65,
   "id": "1ac5041b-41b2-48a9-af24-84d217743865",
   "metadata": {},
   "outputs": [
    {
     "name": "stderr",
     "output_type": "stream",
     "text": [
      "/cluster/home/maikents/PyEnvCoralMapping/lib/python3.12/site-packages/libpysal/weights/distance.py:153: UserWarning: The weights matrix is not fully connected: \n",
      " There are 4 disconnected components.\n",
      "  W.__init__(self, neighbors, id_order=ids, **kwargs)\n"
     ]
    }
   ],
   "source": [
    "\n",
    "\n",
    "w = weights.KNN.from_array(coords, k=4)  # Create a KNN spatial weights matrix based on the coords\n",
    "                                         # k=4 means that the matrix should include the 4 nearest\n",
    "                                         # neighbors for each data point."
   ]
  },
  {
   "cell_type": "code",
   "execution_count": 66,
   "id": "30c645d1-ba78-422d-8108-868ae3c4b2a3",
   "metadata": {},
   "outputs": [],
   "source": [
    "w.transform = 'r'"
   ]
  },
  {
   "cell_type": "code",
   "execution_count": 67,
   "id": "dece5eb8-1aef-4f03-b253-46a667bce64c",
   "metadata": {},
   "outputs": [
    {
     "name": "stdout",
     "output_type": "stream",
     "text": [
      "Moran's I: 0.6814066852367688\n",
      "p-value: 0.001\n"
     ]
    }
   ],
   "source": [
    "\n",
    "# Use the 'label' column as the variable of interest\n",
    "moran = Moran(labels, w)\n",
    "\n",
    "# Print Moran's I and p-value\n",
    "print(f\"Moran's I: {moran.I}\")\n",
    "print(f\"p-value: {moran.p_sim}\")"
   ]
  },
  {
   "cell_type": "code",
   "execution_count": 64,
   "id": "ff4d549a-8539-4c1d-b547-073abc8f772c",
   "metadata": {},
   "outputs": [
    {
     "name": "stdout",
     "output_type": "stream",
     "text": [
      "Labels shape: (1436, 1)\n",
      "Weights shape: (78900000, 78900000)\n"
     ]
    }
   ],
   "source": [
    "#Moran's I: nan\n",
    "#p-value: 0.001\n",
    "print(f\"Labels shape: {labels.shape}\")\n",
    "print(f\"Weights shape: {w.sparse.shape}\")\n"
   ]
  },
  {
   "cell_type": "code",
   "execution_count": null,
   "id": "1d451d68-f75b-4c54-9b13-6b3fa4f08533",
   "metadata": {},
   "outputs": [],
   "source": []
  }
 ],
 "metadata": {
  "kernelspec": {
   "display_name": "Python 3 (ipykernel)",
   "language": "python",
   "name": "python3"
  },
  "language_info": {
   "codemirror_mode": {
    "name": "ipython",
    "version": 3
   },
   "file_extension": ".py",
   "mimetype": "text/x-python",
   "name": "python",
   "nbconvert_exporter": "python",
   "pygments_lexer": "ipython3",
   "version": "3.12.3"
  }
 },
 "nbformat": 4,
 "nbformat_minor": 5
}
