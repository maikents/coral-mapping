{
 "cells": [
  {
   "cell_type": "code",
   "execution_count": 61,
   "id": "cb62010e-1574-4575-b8fd-70d18db4ee25",
   "metadata": {},
   "outputs": [],
   "source": [
    "import numpy as np\n",
    "import random\n",
    "import matplotlib.pyplot as plt\n",
    "import xarray as xr"
   ]
  },
  {
   "cell_type": "code",
   "execution_count": 62,
   "id": "960da507-797c-455b-a163-9c9c8ac1c102",
   "metadata": {},
   "outputs": [],
   "source": [
    "#Hourly 2D bottom currents\n",
    "jan_jun = xr.open_dataset(\"/cluster/projects/itk-SINMOD/coral-mapping/midnor/samp_2D_jan_jun.nc\")\n",
    "jun_aug = xr.open_dataset(\"/cluster/projects/itk-SINMOD/coral-mapping/midnor/samp_2D_jun-aug.nc\")\n",
    "sep_dec = xr.open_dataset(\"/cluster/projects/itk-SINMOD/coral-mapping/midnor/samp_2D_sep-dec.nc\")"
   ]
  },
  {
   "cell_type": "code",
   "execution_count": 63,
   "id": "68f5340d-fe7c-41cc-92b8-34127f6f0389",
   "metadata": {},
   "outputs": [
    {
     "name": "stdout",
     "output_type": "stream",
     "text": [
      "4201\n"
     ]
    }
   ],
   "source": [
    "print(len(jan_jun.variables['time']))"
   ]
  },
  {
   "cell_type": "code",
   "execution_count": 64,
   "id": "e2fd13e2-49d4-4526-9ad6-2dd407b81609",
   "metadata": {},
   "outputs": [],
   "source": [
    "#Remove overlap\n",
    "jan_jun = jan_jun.isel(time=slice(0, -360))  \n",
    "jun_aug = jun_aug.isel(time=slice(0, -192))  "
   ]
  },
  {
   "cell_type": "code",
   "execution_count": null,
   "id": "3368c5ab-1e2b-4a45-9c9a-11c4c8f167ec",
   "metadata": {},
   "outputs": [],
   "source": [
    "#Merge (not possible with this memory size.. Can do this later if necessary)\n",
    "current_2019 = xr.concat([current_jan_jun, current_jun_aug, current_sep_dec], dim=\"time\")"
   ]
  },
  {
   "cell_type": "code",
   "execution_count": 65,
   "id": "191bd3fe-1c38-4c00-95db-d57e55dbbce9",
   "metadata": {},
   "outputs": [],
   "source": [
    "#Importing coral data\n",
    "import pandas as pd\n",
    "\n",
    "coral_data = pd.read_parquet('/cluster/home/maikents/midnor_total_coral_data_processed_v2.parquet')\n"
   ]
  },
  {
   "cell_type": "code",
   "execution_count": 30,
   "id": "486be080-bc5a-4574-b2c3-6364efb421e3",
   "metadata": {},
   "outputs": [
    {
     "name": "stdout",
     "output_type": "stream",
     "text": [
      "941\n"
     ]
    }
   ],
   "source": [
    "print(len(coral_data))"
   ]
  },
  {
   "cell_type": "code",
   "execution_count": 19,
   "id": "e6fde633-4d68-421d-8b8a-6232211785f7",
   "metadata": {},
   "outputs": [],
   "source": [
    "#Histogram for bottom current speed\n",
    "hor_res = jun_aug.grid_mapping.attrs['horizontal_resolution']\n",
    "t_start, t_stop = (0,1)#(0, len(jun_aug.variables['time']))\n",
    "coral_values_jun_aug = []\n",
    "valid_coords_jun_aug = []\n",
    "xc_max = jun_aug.variables['xc'].shape[0]\n",
    "yc_max = jun_aug.variables['yc'].shape[0]\n",
    "for time in range(t_start, t_stop):\n",
    "        for x, y in zip(coral_data['x']/hor_res, coral_data['y']/hor_res):\n",
    "            x = np.clip(np.round(coral_data['x']/hor_res).astype(int), 0, xc_max-1)\n",
    "            y = np.clip(np.round(coral_data['y']/hor_res).astype(int), 0, yc_max-1)\n",
    "            value = np.sqrt(jun_aug.variables['u-bottom'][time, y, x]**2 + jun_aug.variables['v-bottom'][time, y, x]**2)\n",
    "            if not np.ma.is_masked(value):\n",
    "                coral_values_jun_aug.append(value)\n",
    "    \n",
    "                    \n"
   ]
  },
  {
   "cell_type": "code",
   "execution_count": 44,
   "id": "b1c56708-41fc-4a3e-95ca-5594c346db5c",
   "metadata": {},
   "outputs": [
    {
     "name": "stdout",
     "output_type": "stream",
     "text": [
      "2014\n"
     ]
    }
   ],
   "source": [
    "print(len(jun_aug.variables['time']))"
   ]
  },
  {
   "cell_type": "code",
   "execution_count": 45,
   "id": "c94dcc97-e850-46c3-a6c2-ac680432f945",
   "metadata": {},
   "outputs": [
    {
     "name": "stdout",
     "output_type": "stream",
     "text": [
      "Processing from time index 0 to 2013\n",
      "Grid size: xc_max=950, yc_max=555\n",
      "\n",
      "Total execution time: 1528.262462 seconds\n",
      "Time step 0, Point 0 (x=705, y=179) - 0.001199 sec\n",
      "Time step 0, Point 1 (x=612, y=44) - 0.000740 sec\n",
      "Time step 0, Point 2 (x=528, y=176) - 0.000711 sec\n",
      "Time step 0, Point 3 (x=637, y=157) - 0.000777 sec\n",
      "Time step 0, Point 4 (x=586, y=182) - 0.000789 sec\n",
      "Time step 0, Point 5 (x=744, y=138) - 0.000757 sec\n",
      "Time step 0, Point 6 (x=582, y=113) - 0.000760 sec\n",
      "Time step 0, Point 7 (x=631, y=169) - 0.000760 sec\n",
      "Time step 0, Point 8 (x=584, y=71) - 0.000785 sec\n",
      "Time step 0, Point 9 (x=571, y=179) - 0.000747 sec\n"
     ]
    }
   ],
   "source": [
    "import time\n",
    "import numpy as np\n",
    "\n",
    "hor_res = jun_aug.grid_mapping.attrs['horizontal_resolution']\n",
    "t_start, t_stop = (0, 2014)  # (0, len(jun_aug.variables['time']))\n",
    "coral_values_jun_aug = []\n",
    "valid_coords_jun_aug = []\n",
    "xc_max = jun_aug.variables['xc'].shape[0]\n",
    "yc_max = jun_aug.variables['yc'].shape[0]\n",
    "\n",
    "timing_results = []\n",
    "\n",
    "start_total = time.perf_counter()  # Track total execution time\n",
    "\n",
    "print(f\"Processing from time index {t_start} to {t_stop-1}\")\n",
    "print(f\"Grid size: xc_max={xc_max}, yc_max={yc_max}\")\n",
    "\n",
    "for time_idx in range(t_start, t_stop):\n",
    "    start_time = time.perf_counter()\n",
    "    #print(f\"\\nProcessing timestep {time_idx}...\")\n",
    "\n",
    "    # Precompute x and y indices\n",
    "    x_indices = np.clip(np.round(coral_data['x'] / hor_res).astype(int), 0, xc_max - 1)\n",
    "    y_indices = np.clip(np.round(coral_data['y'] / hor_res).astype(int), 0, yc_max - 1)\n",
    "\n",
    "    #print(f\"Total coral points: {len(x_indices)}\")\n",
    "    \n",
    "    for i, (x, y) in enumerate(zip(x_indices, y_indices)):\n",
    "        step_start = time.perf_counter()\n",
    "\n",
    "        # Check if indices are within bounds\n",
    "        if 0 <= x < xc_max and 0 <= y < yc_max:\n",
    "            value = np.sqrt(jun_aug.variables['u-bottom'][time_idx, y, x]**2 +\n",
    "                            jun_aug.variables['v-bottom'][time_idx, y, x]**2)\n",
    "            \n",
    "            #print(f\"Point {i}: (x={x}, y={y}) -> Current Speed: {value:.6f}\")\n",
    "\n",
    "            if not np.ma.is_masked(value):\n",
    "                coral_values_jun_aug.append(value)\n",
    "                #print(f\"Value at ({x}, {y}) added: {value:.6f}\")\n",
    "            else:\n",
    "                print(f\"Skipping masked value at ({x}, {y})\")\n",
    "        else:\n",
    "            print(f\"Skipping out-of-bounds point: x={x}, y={y}\")\n",
    "\n",
    "        step_end = time.perf_counter()\n",
    "        timing_results.append(f\"Time step {time_idx}, Point {i} (x={x}, y={y}) - {step_end - step_start:.6f} sec\")\n",
    "\n",
    "    end_time = time.perf_counter()\n",
    "    #print(f\"Finished timestep {time_idx} in {end_time - start_time:.6f} seconds\")\n",
    "\n",
    "end_total = time.perf_counter()\n",
    "print(f\"\\nTotal execution time: {end_total - start_total:.6f} seconds\")\n",
    "\n",
    "# Optional: Print or save timing results\n",
    "for result in timing_results[:10]:  # Print only first 10 to avoid too much output\n",
    "    print(result)"
   ]
  },
  {
   "cell_type": "code",
   "execution_count": 49,
   "id": "9d047496-f908-4a35-b1e6-6f48aef49485",
   "metadata": {},
   "outputs": [],
   "source": [
    "#Convert list to numpy array for easier manipulation\n",
    "coral_values_jun_aug = np.array(coral_values_jun_aug)\n"
   ]
  },
  {
   "cell_type": "code",
   "execution_count": 50,
   "id": "34494083-6d04-4e84-ade2-34c363132e79",
   "metadata": {},
   "outputs": [
    {
     "name": "stdout",
     "output_type": "stream",
     "text": [
      "1895174\n"
     ]
    }
   ],
   "source": [
    "print(len(coral_values_jun_aug))"
   ]
  },
  {
   "cell_type": "code",
   "execution_count": 53,
   "id": "ece21b24-9cfd-40de-b61b-306f0c770f6e",
   "metadata": {},
   "outputs": [],
   "source": [
    "current_speed_df = pd.DataFrame({'current speed jun_aug': coral_values_jun_aug})\n",
    "#current_speed_df.to_csv(\"coral_values_jun_aug.csv\", index=False)"
   ]
  },
  {
   "cell_type": "code",
   "execution_count": 55,
   "id": "b34c5d7b-cbc9-45da-85e7-d68c25efd6bd",
   "metadata": {},
   "outputs": [
    {
     "name": "stdout",
     "output_type": "stream",
     "text": [
      "3481\n"
     ]
    }
   ],
   "source": [
    "print(len(jan_jun.variables['time']))"
   ]
  },
  {
   "cell_type": "code",
   "execution_count": 57,
   "id": "2664ec24-7f01-4bcb-b1c7-8897c0468430",
   "metadata": {},
   "outputs": [
    {
     "name": "stdout",
     "output_type": "stream",
     "text": [
      "Processing from time index 0 to 1999\n",
      "Grid size: xc_max=950, yc_max=555\n",
      "\n",
      "Total execution time: 1453.584112 seconds\n",
      "Time step 0, Point 0 (x=705, y=179) - 0.951020 sec\n",
      "Time step 0, Point 1 (x=612, y=44) - 0.000978 sec\n",
      "Time step 0, Point 2 (x=528, y=176) - 0.000736 sec\n",
      "Time step 0, Point 3 (x=637, y=157) - 0.000710 sec\n",
      "Time step 0, Point 4 (x=586, y=182) - 0.000729 sec\n",
      "Time step 0, Point 5 (x=744, y=138) - 0.000764 sec\n",
      "Time step 0, Point 6 (x=582, y=113) - 0.000706 sec\n",
      "Time step 0, Point 7 (x=631, y=169) - 0.000698 sec\n",
      "Time step 0, Point 8 (x=584, y=71) - 0.000701 sec\n",
      "Time step 0, Point 9 (x=571, y=179) - 0.000698 sec\n"
     ]
    }
   ],
   "source": [
    "hor_res = jan_jun.grid_mapping.attrs['horizontal_resolution']\n",
    "t_start, t_stop = (0, 2000)  # (0, len(jun_aug.variables['time']))\n",
    "coral_values_jan_jun = []\n",
    "valid_coords_jan_jun = []\n",
    "xc_max = jan_jun.variables['xc'].shape[0]\n",
    "yc_max = jan_jun.variables['yc'].shape[0]\n",
    "\n",
    "timing_results = []\n",
    "\n",
    "start_total = time.perf_counter()  # Track total execution time\n",
    "\n",
    "print(f\"Processing from time index {t_start} to {t_stop-1}\")\n",
    "print(f\"Grid size: xc_max={xc_max}, yc_max={yc_max}\")\n",
    "\n",
    "for time_idx in range(t_start, t_stop):\n",
    "    start_time = time.perf_counter()\n",
    "    #print(f\"\\nProcessing timestep {time_idx}...\")\n",
    "\n",
    "    # Precompute x and y indices\n",
    "    x_indices = np.clip(np.round(coral_data['x'] / hor_res).astype(int), 0, xc_max - 1)\n",
    "    y_indices = np.clip(np.round(coral_data['y'] / hor_res).astype(int), 0, yc_max - 1)\n",
    "\n",
    "    #print(f\"Total coral points: {len(x_indices)}\")\n",
    "    \n",
    "    for i, (x, y) in enumerate(zip(x_indices, y_indices)):\n",
    "        step_start = time.perf_counter()\n",
    "\n",
    "        # Check if indices are within bounds\n",
    "        if 0 <= x < xc_max and 0 <= y < yc_max:\n",
    "            value = np.sqrt(jan_jun.variables['u-bottom'][time_idx, y, x]**2 +\n",
    "                            jan_jun.variables['v-bottom'][time_idx, y, x]**2)\n",
    "            \n",
    "            #print(f\"Point {i}: (x={x}, y={y}) -> Current Speed: {value:.6f}\")\n",
    "\n",
    "            if not np.ma.is_masked(value):\n",
    "                coral_values_jan_jun.append(value)\n",
    "                #print(f\"Value at ({x}, {y}) added: {value:.6f}\")\n",
    "            else:\n",
    "                print(f\"Skipping masked value at ({x}, {y})\")\n",
    "        else:\n",
    "            print(f\"Skipping out-of-bounds point: x={x}, y={y}\")\n",
    "\n",
    "        step_end = time.perf_counter()\n",
    "        timing_results.append(f\"Time step {time_idx}, Point {i} (x={x}, y={y}) - {step_end - step_start:.6f} sec\")\n",
    "\n",
    "    end_time = time.perf_counter()\n",
    "    #print(f\"Finished timestep {time_idx} in {end_time - start_time:.6f} seconds\")\n",
    "\n",
    "end_total = time.perf_counter()\n",
    "print(f\"\\nTotal execution time: {end_total - start_total:.6f} seconds\")\n",
    "\n",
    "# Optional: Print or save timing results\n",
    "for result in timing_results[:10]:  # Print only first 10 to avoid too much output\n",
    "    print(result)"
   ]
  },
  {
   "cell_type": "code",
   "execution_count": 70,
   "id": "8b2c635c-1d57-40c8-ae11-1678fe77df2f",
   "metadata": {},
   "outputs": [
    {
     "name": "stdout",
     "output_type": "stream",
     "text": [
      "2928\n"
     ]
    }
   ],
   "source": [
    "print(len(sep_dec.variables['time']))"
   ]
  },
  {
   "cell_type": "code",
   "execution_count": 71,
   "id": "cf875b06-e177-4d74-89d0-675559392695",
   "metadata": {},
   "outputs": [
    {
     "name": "stdout",
     "output_type": "stream",
     "text": [
      "Processing from time index 0 to 2927\n",
      "Grid size: xc_max=950, yc_max=555\n",
      "\n",
      "Total execution time: 2229.990836 seconds\n",
      "Time step 0, Point 0 (x=705, y=179) - 0.641473 sec\n",
      "Time step 0, Point 1 (x=612, y=44) - 0.000939 sec\n",
      "Time step 0, Point 2 (x=528, y=176) - 0.000814 sec\n",
      "Time step 0, Point 3 (x=637, y=157) - 0.000800 sec\n",
      "Time step 0, Point 4 (x=586, y=182) - 0.000792 sec\n",
      "Time step 0, Point 5 (x=744, y=138) - 0.000788 sec\n",
      "Time step 0, Point 6 (x=582, y=113) - 0.000780 sec\n",
      "Time step 0, Point 7 (x=631, y=169) - 0.000785 sec\n",
      "Time step 0, Point 8 (x=584, y=71) - 0.000790 sec\n",
      "Time step 0, Point 9 (x=571, y=179) - 0.000777 sec\n"
     ]
    }
   ],
   "source": [
    "hor_res = sep_dec.grid_mapping.attrs['horizontal_resolution']\n",
    "t_start, t_stop = (0, 2928)  # (0, len(jun_aug.variables['time']))\n",
    "coral_values_sep_dec = []\n",
    "valid_coords_sep_dec = []\n",
    "xc_max = sep_dec.variables['xc'].shape[0]\n",
    "yc_max = sep_dec.variables['yc'].shape[0]\n",
    "\n",
    "timing_results = []\n",
    "\n",
    "start_total = time.perf_counter()  # Track total execution time\n",
    "\n",
    "print(f\"Processing from time index {t_start} to {t_stop-1}\")\n",
    "print(f\"Grid size: xc_max={xc_max}, yc_max={yc_max}\")\n",
    "\n",
    "for time_idx in range(t_start, t_stop):\n",
    "    start_time = time.perf_counter()\n",
    "    #print(f\"\\nProcessing timestep {time_idx}...\")\n",
    "\n",
    "    # Precompute x and y indices\n",
    "    x_indices = np.clip(np.round(coral_data['x'] / hor_res).astype(int), 0, xc_max - 1)\n",
    "    y_indices = np.clip(np.round(coral_data['y'] / hor_res).astype(int), 0, yc_max - 1)\n",
    "\n",
    "    #print(f\"Total coral points: {len(x_indices)}\")\n",
    "    \n",
    "    for i, (x, y) in enumerate(zip(x_indices, y_indices)):\n",
    "        step_start = time.perf_counter()\n",
    "\n",
    "        # Check if indices are within bounds\n",
    "        if 0 <= x < xc_max and 0 <= y < yc_max:\n",
    "            value = np.sqrt(sep_dec.variables['u-bottom'][time_idx, y, x]**2 +\n",
    "                            sep_dec.variables['v-bottom'][time_idx, y, x]**2)\n",
    "            \n",
    "            #print(f\"Point {i}: (x={x}, y={y}) -> Current Speed: {value:.6f}\")\n",
    "\n",
    "            if not np.ma.is_masked(value):\n",
    "                coral_values_sep_dec.append(value)\n",
    "                #print(f\"Value at ({x}, {y}) added: {value:.6f}\")\n",
    "            else:\n",
    "                print(f\"Skipping masked value at ({x}, {y})\")\n",
    "        else:\n",
    "            print(f\"Skipping out-of-bounds point: x={x}, y={y}\")\n",
    "\n",
    "        step_end = time.perf_counter()\n",
    "        timing_results.append(f\"Time step {time_idx}, Point {i} (x={x}, y={y}) - {step_end - step_start:.6f} sec\")\n",
    "\n",
    "    end_time = time.perf_counter()\n",
    "    #print(f\"Finished timestep {time_idx} in {end_time - start_time:.6f} seconds\")\n",
    "\n",
    "end_total = time.perf_counter()\n",
    "print(f\"\\nTotal execution time: {end_total - start_total:.6f} seconds\")\n",
    "\n",
    "# Optional: Print or save timing results\n",
    "for result in timing_results[:10]:  # Print only first 10 to avoid too much output\n",
    "    print(result)"
   ]
  },
  {
   "cell_type": "code",
   "execution_count": 60,
   "id": "f9455a8d-1bae-4b56-954a-58030c0bbf35",
   "metadata": {},
   "outputs": [
    {
     "name": "stdout",
     "output_type": "stream",
     "text": [
      "1895174\n"
     ]
    }
   ],
   "source": [
    "coral_values_jan_jun_flat = np.ravel(coral_values_jan_jun)  # Flattening the first array\n",
    "coral_values_jun_aug_flat = np.ravel(coral_values_jun_aug)  # Flattening the second array\n",
    "print(len(coral_values_jun_aug_flat))\n",
    "# Concatenate the flattened arrays\n",
    "all_current_speeds = np.concatenate((coral_values_jan_jun_flat, coral_values_jun_aug_flat))\n",
    "\n",
    "# Create DataFrame with one column\n",
    "current_speed_df = pd.DataFrame({'current speeds': all_current_speeds})\n",
    "\n",
    "# Save to CSV\n",
    "current_speed_df.to_csv(\"coral_values.csv\", index=False)"
   ]
  },
  {
   "cell_type": "code",
   "execution_count": 69,
   "id": "2d68505b-b16e-4938-8550-8810c76673e8",
   "metadata": {},
   "outputs": [],
   "source": [
    "coral_values_jan_jun2_flat = np.ravel(coral_values_jan_jun2)\n",
    "all_current_speeds = np.concatenate((coral_values_jan_jun_flat, coral_values_jun_aug_flat, coral_values_jan_jun2_flat))\n",
    "current_speed_df = pd.DataFrame({'current speeds': all_current_speeds})\n",
    "current_speed_df.to_csv(\"coral_values.csv\", index=False)"
   ]
  },
  {
   "cell_type": "code",
   "execution_count": 72,
   "id": "820e7941-3df1-4849-b633-5b678d763ff7",
   "metadata": {},
   "outputs": [],
   "source": [
    "coral_values_sep_dec_flat = np.ravel(coral_values_sep_dec)\n",
    "all_current_speeds = np.concatenate((coral_values_jan_jun_flat, coral_values_jan_jun2_flat, coral_values_jun_aug_flat, coral_values_sep_dec_flat))\n",
    "current_speed_df = pd.DataFrame({'current speeds': all_current_speeds})\n",
    "current_speed_df.to_csv(\"coral_values.csv\", index=False)"
   ]
  },
  {
   "cell_type": "code",
   "execution_count": 79,
   "id": "2242fc2a-b07e-4274-bf56-72be9a5d6210",
   "metadata": {},
   "outputs": [],
   "source": [
    "current_speeds = current_speed_df['current speeds'].dropna().values\n",
    "current_speed_df.to_csv(\"coral_values.csv\", index=False)"
   ]
  },
  {
   "cell_type": "code",
   "execution_count": null,
   "id": "6e9eb5de-88ad-41e0-bff1-70c57e075e0e",
   "metadata": {},
   "outputs": [],
   "source": [
    "hor_res = jan_jun.grid_mapping.attrs['horizontal_resolution']\n",
    "t_start, t_stop = (2001, 3481)  # (0, len(jun_aug.variables['time']))\n",
    "coral_values_jan_jun2 = []\n",
    "valid_coords_jan_jun2 = []\n",
    "xc_max = jan_jun.variables['xc'].shape[0]\n",
    "yc_max = jan_jun.variables['yc'].shape[0]\n",
    "\n",
    "timing_results = []\n",
    "\n",
    "start_total = time.perf_counter()  # Track total execution time\n",
    "\n",
    "print(f\"Processing from time index {t_start} to {t_stop-1}\")\n",
    "print(f\"Grid size: xc_max={xc_max}, yc_max={yc_max}\")\n",
    "\n",
    "for time_idx in range(t_start, t_stop):\n",
    "    start_time = time.perf_counter()\n",
    "    #print(f\"\\nProcessing timestep {time_idx}...\")\n",
    "\n",
    "    # Precompute x and y indices\n",
    "    x_indices = np.clip(np.round(coral_data['x'] / hor_res).astype(int), 0, xc_max - 1)\n",
    "    y_indices = np.clip(np.round(coral_data['y'] / hor_res).astype(int), 0, yc_max - 1)\n",
    "\n",
    "    #print(f\"Total coral points: {len(x_indices)}\")\n",
    "    \n",
    "    for i, (x, y) in enumerate(zip(x_indices, y_indices)):\n",
    "        step_start = time.perf_counter()\n",
    "\n",
    "        # Check if indices are within bounds\n",
    "        if 0 <= x < xc_max and 0 <= y < yc_max:\n",
    "            value = np.sqrt(jan_jun.variables['u-bottom'][time_idx, y, x]**2 +\n",
    "                            jan_jun.variables['v-bottom'][time_idx, y, x]**2)\n",
    "            \n",
    "            #print(f\"Point {i}: (x={x}, y={y}) -> Current Speed: {value:.6f}\")\n",
    "\n",
    "            if not np.ma.is_masked(value):\n",
    "                coral_values_jan_jun2.append(value)\n",
    "                #print(f\"Value at ({x}, {y}) added: {value:.6f}\")\n",
    "            else:\n",
    "                print(f\"Skipping masked value at ({x}, {y})\")\n",
    "        else:\n",
    "            print(f\"Skipping out-of-bounds point: x={x}, y={y}\")\n",
    "\n",
    "        step_end = time.perf_counter()\n",
    "        timing_results.append(f\"Time step {time_idx}, Point {i} (x={x}, y={y}) - {step_end - step_start:.6f} sec\")\n",
    "\n",
    "    end_time = time.perf_counter()\n",
    "    #print(f\"Finished timestep {time_idx} in {end_time - start_time:.6f} seconds\")\n",
    "\n",
    "end_total = time.perf_counter()\n",
    "print(f\"\\nTotal execution time: {end_total - start_total:.6f} seconds\")\n",
    "\n",
    "# Optional: Print or save timing results\n",
    "for result in timing_results[:10]:  # Print only first 10 to avoid too much output\n",
    "    print(result)"
   ]
  },
  {
   "cell_type": "code",
   "execution_count": 81,
   "id": "7c9f4319-dbca-450f-85c0-f8978e6db611",
   "metadata": {},
   "outputs": [
    {
     "name": "stdout",
     "output_type": "stream",
     "text": [
      "Statistics for current speed: {'mean': np.float32(0.09981488), 'max': np.float32(0.7515798), 'min': np.float32(0.0), '90th_percentile': np.float32(0.19479178), '10th_percentile': np.float32(0.028968481)}\n"
     ]
    }
   ],
   "source": [
    "# Calculate statistics for coral values\n",
    "if 'current speeds' not in current_speed_df.columns:\n",
    "    print(\"Error: 'current speeds' column not found in CSV!\")\n",
    "else:\n",
    "    # Drop NaNs and convert to NumPy array\n",
    "    current_speeds = current_speed_df['current speeds'].dropna().values\n",
    "\n",
    "    # Check for empty array\n",
    "    if len(current_speeds) == 0:\n",
    "        print(\"Error: current_speeds array is empty after dropping NaNs!\")\n",
    "    else:\n",
    "        # Compute statistics\n",
    "        statistics = {\n",
    "            'mean': np.float32(np.mean(current_speeds)),\n",
    "            'max': np.float32(np.max(current_speeds)),\n",
    "            'min': np.float32(np.min(current_speeds)),\n",
    "            '90th_percentile': np.float32(np.percentile(current_speeds, 90)),\n",
    "            '10th_percentile': np.float32(np.percentile(current_speeds, 10))\n",
    "        }\n",
    "\n",
    "        print(\"Statistics for current speed:\", statistics)"
   ]
  },
  {
   "cell_type": "code",
   "execution_count": 82,
   "id": "83064b16-2c56-4788-a59e-a6fd5d542c3d",
   "metadata": {},
   "outputs": [],
   "source": [
    "#Determine the bin edges for the histograms\n",
    "bin_edges = np.histogram_bin_edges(current_speeds, bins=20)"
   ]
  },
  {
   "cell_type": "code",
   "execution_count": null,
   "id": "6673927b-02dc-47b6-9428-e2a035bc8203",
   "metadata": {},
   "outputs": [],
   "source": [
    "np.savetxt(\"bin_edges.csv\", bin_edges, delimiter=\",\")\n"
   ]
  },
  {
   "cell_type": "code",
   "execution_count": 86,
   "id": "7bed6622-9861-4655-864a-ee3a021d8998",
   "metadata": {},
   "outputs": [
    {
     "data": {
      "image/png": "[encoded data removed]",
      "text/plain": [
       "<Figure size 640x480 with 1 Axes>"
      ]
     },
     "metadata": {},
     "output_type": "display_data"
    }
   ],
   "source": [
    "#Plot histogram of the current speeds\n",
    "plt.hist(current_speeds, bins=bin_edges, edgecolor='black')\n",
    "plt.xlabel('Current speed [m/s]', fontsize=14)\n",
    "plt.ylabel('Frequency', fontsize=14)\n",
    "plt.title(f'Histogram of current speeds at coral data points', fontsize=16)\n",
    "plt.grid(True, linestyle='--', linewidth=0.5, alpha=0.7)  # Main grid\n",
    "plt.minorticks_on()  # Enable minor ticks\n",
    "plt.grid(which='minor', linestyle=':', linewidth=0.4, alpha=0.5)  # Finer minor grid\n",
    "\n",
    "plt.savefig(f'/cluster/home/maikents/current_speed_histogram_coral_points_jun_aug.png')\n",
    " \n",
    "plt.show()"
   ]
  },
  {
   "cell_type": "code",
   "execution_count": 94,
   "id": "b12e51b5-450c-44ff-a9ab-dbe9a4468b3d",
   "metadata": {},
   "outputs": [],
   "source": [
    "midnor_2019 = xr.open_dataset(\"/cluster/projects/itk-SINMOD/coral-mapping/midnor/PhysStates_2019.nc\")\n"
   ]
  },
  {
   "cell_type": "code",
   "execution_count": 95,
   "id": "0e8693cc-b3ae-4742-be08-592ee69b2624",
   "metadata": {},
   "outputs": [
    {
     "name": "stdout",
     "output_type": "stream",
     "text": [
      "['time', 'grid_mapping', 'LayerDepths', 'xc', 'yc', 'zc', 'depth', 'DXxDYy', 'u_velocity', 'v_velocity', 'elevation', 'temperature', 'salinity', 'ice_thickness', 'ice_compactness', 'salinity_ice']\n"
     ]
    }
   ],
   "source": [
    "print(list(midnor_2019.variables))"
   ]
  },
  {
   "cell_type": "code",
   "execution_count": 99,
   "id": "aebab293-7e39-431a-a7be-bddafae94d8d",
   "metadata": {},
   "outputs": [
    {
     "name": "stdout",
     "output_type": "stream",
     "text": [
      "<xarray.Variable (time: 365, zc: 50, yc: 555, xc: 950)> Size: 38GB\n",
      "[9622312500 values with dtype=float32]\n",
      "Attributes:\n",
      "    units:         m/s\n",
      "    cell_methods:  time: mean\n"
     ]
    }
   ],
   "source": [
    "print(midnor_2019.variables['u_velocity'])"
   ]
  },
  {
   "cell_type": "code",
   "execution_count": 100,
   "id": "aa20305c-47ba-4927-abe5-4699181928f7",
   "metadata": {},
   "outputs": [
    {
     "name": "stdout",
     "output_type": "stream",
     "text": [
      "Processing from time index 0 to 364\n",
      "Grid size: xc_max=950, yc_max=555\n",
      "\n",
      "Total execution time: 3970.869639 seconds\n",
      "Time step 0, Point 0 (x=705, y=179) - 0.424029 sec\n",
      "Time step 0, Point 1 (x=612, y=44) - 0.001467 sec\n",
      "Time step 0, Point 2 (x=528, y=176) - 0.001214 sec\n",
      "Time step 0, Point 3 (x=637, y=157) - 0.001182 sec\n",
      "Time step 0, Point 4 (x=586, y=182) - 0.001169 sec\n",
      "Time step 0, Point 5 (x=744, y=138) - 0.001179 sec\n",
      "Time step 0, Point 6 (x=582, y=113) - 0.001165 sec\n",
      "Time step 0, Point 7 (x=631, y=169) - 0.001160 sec\n",
      "Time step 0, Point 8 (x=584, y=71) - 0.001157 sec\n",
      "Time step 0, Point 9 (x=571, y=179) - 0.001151 sec\n"
     ]
    }
   ],
   "source": [
    "hor_res = midnor_2019.grid_mapping.attrs['horizontal_resolution']\n",
    "t_start, t_stop = (0, len(midnor_2019.variables['time']))\n",
    "coral_values_midnor_2019 = []\n",
    "valid_coords_midnor_2019 = []\n",
    "xc_max = midnor_2019.variables['xc'].shape[0]\n",
    "yc_max = midnor_2019.variables['yc'].shape[0]\n",
    "zc = midnor_2019.variables['LayerDepths'][:]\n",
    "cumulative_depth = np.cumsum(zc, axis=0)\n",
    "timing_results = []\n",
    "\n",
    "start_total = time.perf_counter()  # Track total execution time\n",
    "\n",
    "print(f\"Processing from time index {t_start} to {t_stop-1}\")\n",
    "print(f\"Grid size: xc_max={xc_max}, yc_max={yc_max}\")\n",
    "\n",
    "for time_idx in range(t_start, t_stop):\n",
    "    start_time = time.perf_counter()\n",
    "    #print(f\"\\nProcessing timestep {time_idx}...\")\n",
    "\n",
    "    # Precompute x and y indices\n",
    "    x_indices = np.clip(np.round(coral_data['x'] / hor_res).astype(int), 0, xc_max - 1)\n",
    "    y_indices = np.clip(np.round(coral_data['y'] / hor_res).astype(int), 0, yc_max - 1)\n",
    "\n",
    "    #print(f\"Total coral points: {len(x_indices)}\")\n",
    "    \n",
    "    for i, (x, y) in enumerate(zip(x_indices, y_indices)):\n",
    "        step_start = time.perf_counter()\n",
    "\n",
    "        # Check if indices are within bounds\n",
    "        if 0 <= x < xc_max and 0 <= y < yc_max:\n",
    "\n",
    "            depth_at_point = midnor_2019.variables['depth'][int(y), int(x)]\n",
    "            layer_index = np.searchsorted(cumulative_depth, depth_at_point)\n",
    "\n",
    "            value = np.sqrt(midnor_2019.variables['u_velocity'][time_idx, layer_index, int(y), int(x)]**2 + midnor_2019.variables['v_velocity'][time_idx, layer_index, int(y), int(x)]**2)\n",
    "\n",
    "            if not np.ma.is_masked(value):\n",
    "                coral_values_midnor_2019.append(value)\n",
    "                #print(f\"Value at ({x}, {y}) added: {value:.6f}\")\n",
    "            else:\n",
    "                print(f\"Skipping masked value at ({x}, {y})\")\n",
    "        else:\n",
    "            print(f\"Skipping out-of-bounds point: x={x}, y={y}\")\n",
    "\n",
    "        step_end = time.perf_counter()\n",
    "        timing_results.append(f\"Time step {time_idx}, Point {i} (x={x}, y={y}) - {step_end - step_start:.6f} sec\")\n",
    "\n",
    "    end_time = time.perf_counter()\n",
    "    #print(f\"Finished timestep {time_idx} in {end_time - start_time:.6f} seconds\")\n",
    "\n",
    "end_total = time.perf_counter()\n",
    "print(f\"\\nTotal execution time: {end_total - start_total:.6f} seconds\")\n",
    "\n",
    "# Optional: Print or save timing results\n",
    "for result in timing_results[:10]:  # Print only first 10 to avoid too much output\n",
    "    print(result)"
   ]
  },
  {
   "cell_type": "code",
   "execution_count": 101,
   "id": "43ac2440-6604-4eda-b059-ae084f892ee6",
   "metadata": {},
   "outputs": [],
   "source": [
    "coral_values_midnor_2019_flat = np.ravel(coral_values_midnor_2019)\n",
    "current_speed_midnor_2019 = pd.DataFrame({'current speeds': coral_values_midnor_2019_flat})\n"
   ]
  },
  {
   "cell_type": "code",
   "execution_count": 102,
   "id": "5de77752-7648-4788-b1f3-dd563c500e56",
   "metadata": {},
   "outputs": [
    {
     "name": "stdout",
     "output_type": "stream",
     "text": [
      "Statistics for current speed: {'mean': np.float32(0.08369906), 'max': np.float32(0.66142267), 'min': np.float32(0.0), '90th_percentile': np.float32(0.17554247), '10th_percentile': np.float32(0.011638081)}\n"
     ]
    }
   ],
   "source": [
    "if 'current speeds' not in current_speed_midnor_2019.columns:\n",
    "    print(\"Error: 'current speeds' column not found in CSV!\")\n",
    "else:\n",
    "    # Drop NaNs and convert to NumPy array\n",
    "    current_speeds_midnor = current_speed_midnor_2019['current speeds'].dropna().values\n",
    "\n",
    "    # Check for empty array\n",
    "    if len(current_speeds_midnor) == 0:\n",
    "        print(\"Error: current_speeds array is empty after dropping NaNs!\")\n",
    "    else:x \n",
    "        # Compute statistics\n",
    "        statistics_midnor = {\n",
    "            'mean': np.float32(np.mean(current_speeds_midnor)),\n",
    "            'max': np.float32(np.max(current_speeds_midnor)),\n",
    "            'min': np.float32(np.min(current_speeds_midnor)),\n",
    "            '90th_percentile': np.float32(np.percentile(current_speeds_midnor, 90)),\n",
    "            '10th_percentile': np.float32(np.percentile(current_speeds_midnor, 10))\n",
    "        }\n",
    "\n",
    "        print(\"Statistics for current speed:\", statistics_midnor)"
   ]
  },
  {
   "cell_type": "code",
   "execution_count": 103,
   "id": "e2b35697-f5c4-4da9-a018-f08952fb033f",
   "metadata": {},
   "outputs": [
    {
     "data": {
      "image/png": "[encoded data removed]",
      "text/plain": [
       "<Figure size 640x480 with 1 Axes>"
      ]
     },
     "metadata": {},
     "output_type": "display_data"
    }
   ],
   "source": [
    "#Plot histogram of the current speeds midnor\n",
    "plt.hist(current_speeds_midnor, bins=bin_edges, edgecolor='black')\n",
    "plt.xlabel('Current speed [m/s]', fontsize=14)\n",
    "plt.ylabel('Frequency', fontsize=14)\n",
    "plt.title(f'Histogram of current speeds at coral data points', fontsize=16)\n",
    "plt.grid(True, linestyle='--', linewidth=0.5, alpha=0.7)  # Main grid\n",
    "plt.minorticks_on()  # Enable minor ticks\n",
    "plt.grid(which='minor', linestyle=':', linewidth=0.4, alpha=0.5)  # Finer minor grid\n",
    "\n",
    "plt.savefig(f'/cluster/home/maikents/current_speed_histogram_coral_points_midnor.png')\n",
    " \n",
    "plt.show()"
   ]
  },
  {
   "cell_type": "code",
   "execution_count": null,
   "id": "e5cd45ad-7480-468d-8545-9186b42eeadd",
   "metadata": {},
   "outputs": [],
   "source": []
  }
 ],
 "metadata": {
  "kernelspec": {
   "display_name": "Python 3 (ipykernel)",
   "language": "python",
   "name": "python3"
  },
  "language_info": {
   "codemirror_mode": {
    "name": "ipython",
    "version": 3
   },
   "file_extension": ".py",
   "mimetype": "text/x-python",
   "name": "python",
   "nbconvert_exporter": "python",
   "pygments_lexer": "ipython3",
   "version": "3.12.3"
  }
 },
 "nbformat": 4,
 "nbformat_minor": 5
}
