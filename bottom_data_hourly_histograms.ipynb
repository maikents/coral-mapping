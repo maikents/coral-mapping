{
 "cells": [
  {
   "cell_type": "code",
   "execution_count": 1,
   "id": "cb62010e-1574-4575-b8fd-70d18db4ee25",
   "metadata": {},
   "outputs": [],
   "source": [
    "import numpy as np\n",
    "import random\n",
    "import matplotlib.pyplot as plt\n",
    "import xarray as xr\n",
    "from scipy.stats import shapiro\n",
    "from scipy.stats import chisquare\n",
    "import time"
   ]
  },
  {
   "cell_type": "code",
   "execution_count": 3,
   "id": "960da507-797c-455b-a163-9c9c8ac1c102",
   "metadata": {},
   "outputs": [],
   "source": [
    "#Hourly 2D bottom currents\n",
    "jan_jun = xr.open_dataset(\"/cluster/projects/itk-SINMOD/coral-mapping/midnor/samp_2D_jan_jun.nc\")\n",
    "jun_aug = xr.open_dataset(\"/cluster/projects/itk-SINMOD/coral-mapping/midnor/samp_2D_jun-aug.nc\")\n",
    "sep_dec = xr.open_dataset(\"/cluster/projects/itk-SINMOD/coral-mapping/midnor/samp_2D_sep-dec.nc\")"
   ]
  },
  {
   "cell_type": "code",
   "execution_count": 63,
   "id": "68f5340d-fe7c-41cc-92b8-34127f6f0389",
   "metadata": {},
   "outputs": [
    {
     "name": "stdout",
     "output_type": "stream",
     "text": [
      "4201\n"
     ]
    }
   ],
   "source": [
    "print(len(jan_jun.variables['time']))"
   ]
  },
  {
   "cell_type": "code",
   "execution_count": 4,
   "id": "e2fd13e2-49d4-4526-9ad6-2dd407b81609",
   "metadata": {},
   "outputs": [],
   "source": [
    "#Remove overlap\n",
    "jan_jun = jan_jun.isel(time=slice(0, -360))  \n",
    "jun_aug = jun_aug.isel(time=slice(0, -192))  "
   ]
  },
  {
   "cell_type": "code",
   "execution_count": 4,
   "id": "3368c5ab-1e2b-4a45-9c9a-11c4c8f167ec",
   "metadata": {
    "collapsed": true,
    "jupyter": {
     "outputs_hidden": true,
     "source_hidden": true
    }
   },
   "outputs": [
    {
     "ename": "NameError",
     "evalue": "name 'current_jan_jun' is not defined",
     "output_type": "error",
     "traceback": [
      "\u001b[0;31m---------------------------------------------------------------------------\u001b[0m",
      "\u001b[0;31mNameError\u001b[0m                                 Traceback (most recent call last)",
      "Cell \u001b[0;32mIn[4], line 2\u001b[0m\n\u001b[1;32m      1\u001b[0m \u001b[38;5;66;03m#Merge (not possible with this memory size.. Can do this later if necessary)\u001b[39;00m\n\u001b[0;32m----> 2\u001b[0m current_2019 \u001b[38;5;241m=\u001b[39m xr\u001b[38;5;241m.\u001b[39mconcat([\u001b[43mcurrent_jan_jun\u001b[49m, current_jun_aug, current_sep_dec], dim\u001b[38;5;241m=\u001b[39m\u001b[38;5;124m\"\u001b[39m\u001b[38;5;124mtime\u001b[39m\u001b[38;5;124m\"\u001b[39m)\n",
      "\u001b[0;31mNameError\u001b[0m: name 'current_jan_jun' is not defined"
     ]
    }
   ],
   "source": [
    "#Merge (not possible with this memory size.. Can do this later if necessary)\n",
    "current_2019 = xr.concat([current_jan_jun, current_jun_aug, current_sep_dec], dim=\"time\")"
   ]
  },
  {
   "cell_type": "code",
   "execution_count": 5,
   "id": "191bd3fe-1c38-4c00-95db-d57e55dbbce9",
   "metadata": {},
   "outputs": [],
   "source": [
    "#Importing coral data\n",
    "import pandas as pd\n",
    "\n",
    "coral_data = pd.read_parquet('/cluster/home/maikents/midnor_total_coral_data_processed_v2.parquet')\n"
   ]
  },
  {
   "cell_type": "code",
   "execution_count": 30,
   "id": "486be080-bc5a-4574-b2c3-6364efb421e3",
   "metadata": {},
   "outputs": [
    {
     "name": "stdout",
     "output_type": "stream",
     "text": [
      "941\n"
     ]
    }
   ],
   "source": [
    "print(len(coral_data))"
   ]
  },
  {
   "cell_type": "code",
   "execution_count": 19,
   "id": "e6fde633-4d68-421d-8b8a-6232211785f7",
   "metadata": {},
   "outputs": [],
   "source": [
    "#Histogram for bottom current speed\n",
    "hor_res = jun_aug.grid_mapping.attrs['horizontal_resolution']\n",
    "t_start, t_stop = (0,1)#(0, len(jun_aug.variables['time']))\n",
    "coral_values_jun_aug = []\n",
    "valid_coords_jun_aug = []\n",
    "xc_max = jun_aug.variables['xc'].shape[0]\n",
    "yc_max = jun_aug.variables['yc'].shape[0]\n",
    "for time in range(t_start, t_stop):\n",
    "        for x, y in zip(coral_data['x']/hor_res, coral_data['y']/hor_res):\n",
    "            x = np.clip(np.round(coral_data['x']/hor_res).astype(int), 0, xc_max-1)\n",
    "            y = np.clip(np.round(coral_data['y']/hor_res).astype(int), 0, yc_max-1)\n",
    "            value = np.sqrt(jun_aug.variables['u-bottom'][time, y, x]**2 + jun_aug.variables['v-bottom'][time, y, x]**2)\n",
    "            if not np.ma.is_masked(value):\n",
    "                coral_values_jun_aug.append(value)\n",
    "    \n",
    "                    \n"
   ]
  },
  {
   "cell_type": "code",
   "execution_count": 44,
   "id": "b1c56708-41fc-4a3e-95ca-5594c346db5c",
   "metadata": {},
   "outputs": [
    {
     "name": "stdout",
     "output_type": "stream",
     "text": [
      "2014\n"
     ]
    }
   ],
   "source": [
    "print(len(jun_aug.variables['time']))"
   ]
  },
  {
   "cell_type": "code",
   "execution_count": 18,
   "id": "9cb28342-b720-4e5f-b9c7-a4e4b94b57ac",
   "metadata": {},
   "outputs": [
    {
     "name": "stdout",
     "output_type": "stream",
     "text": [
      "['time', 'grid_mapping', 'LayerDepths', 'xc', 'yc', 'zc', 'depth', 'DXxDYy', 'gridLats', 'gridLons', 'u_velocity', 'v_velocity', 'temperature', 'salinity', 'elevation', 'u-wind', 'v-wind', 'u-bottom', 'v-bottom', 'ice_thickness', 'ice_compactness', 'u_ice', 'v_ice', 'salinity_ice', 'ice_melt_rate', 'ice_prod_rate', 'IceVFluxX', 'IceVFluxY', 'IceAFluxX', 'IceAFluxY']\n"
     ]
    }
   ],
   "source": [
    "print(list(jan_jun.variables))"
   ]
  },
  {
   "cell_type": "code",
   "execution_count": 17,
   "id": "c94dcc97-e850-46c3-a6c2-ac680432f945",
   "metadata": {},
   "outputs": [
    {
     "name": "stdout",
     "output_type": "stream",
     "text": [
      "Processing from time index 0 to 2013\n",
      "Grid size: xc_max=950, yc_max=555\n",
      "\n",
      "Total execution time: 1224.079378 seconds\n",
      "Time step 0, Point 0 (x=705, y=179) - 0.152515 sec\n",
      "Time step 0, Point 1 (x=612, y=44) - 0.000907 sec\n",
      "Time step 0, Point 2 (x=528, y=176) - 0.000705 sec\n",
      "Time step 0, Point 3 (x=637, y=157) - 0.000659 sec\n",
      "Time step 0, Point 4 (x=586, y=182) - 0.000638 sec\n",
      "Time step 0, Point 5 (x=744, y=138) - 0.000660 sec\n",
      "Time step 0, Point 6 (x=582, y=113) - 0.000630 sec\n",
      "Time step 0, Point 7 (x=631, y=169) - 0.000621 sec\n",
      "Time step 0, Point 8 (x=584, y=71) - 0.000631 sec\n",
      "Time step 0, Point 9 (x=571, y=179) - 0.000617 sec\n"
     ]
    }
   ],
   "source": [
    "import time\n",
    "import numpy as np\n",
    "\n",
    "hor_res = jun_aug.grid_mapping.attrs['horizontal_resolution']\n",
    "t_start, t_stop = (0, 2014)  # (0, len(jun_aug.variables['time']))\n",
    "coral_values_jun_aug = []\n",
    "valid_coords_jun_aug = []\n",
    "xc_max = jun_aug.variables['xc'].shape[0]\n",
    "yc_max = jun_aug.variables['yc'].shape[0]\n",
    "\n",
    "timing_results = []\n",
    "\n",
    "start_total = time.perf_counter()  # Track total execution time\n",
    "\n",
    "print(f\"Processing from time index {t_start} to {t_stop-1}\")\n",
    "print(f\"Grid size: xc_max={xc_max}, yc_max={yc_max}\")\n",
    "\n",
    "for time_idx in range(t_start, t_stop):\n",
    "    start_time = time.perf_counter()\n",
    "    #print(f\"\\nProcessing timestep {time_idx}...\")\n",
    "\n",
    "    # Precompute x and y indices\n",
    "    x_indices = np.clip(np.round(coral_data['x'] / hor_res).astype(int), 0, xc_max - 1)\n",
    "    y_indices = np.clip(np.round(coral_data['y'] / hor_res).astype(int), 0, yc_max - 1)\n",
    "\n",
    "    #print(f\"Total coral points: {len(x_indices)}\")\n",
    "    \n",
    "    for i, (x, y) in enumerate(zip(x_indices, y_indices)):\n",
    "        step_start = time.perf_counter()\n",
    "\n",
    "        # Check if indices are within bounds\n",
    "        if 0 <= x < xc_max and 0 <= y < yc_max:\n",
    "            value = np.sqrt(jun_aug.variables['u-bottom'][time_idx, y, x]**2 +\n",
    "                            jun_aug.variables['v-bottom'][time_idx, y, x]**2)\n",
    "            \n",
    "            #print(f\"Point {i}: (x={x}, y={y}) -> Current Speed: {value:.6f}\")\n",
    "\n",
    "            if not np.ma.is_masked(value):\n",
    "                coral_values_jun_aug.append(value)\n",
    "                #print(f\"Value at ({x}, {y}) added: {value:.6f}\")\n",
    "            else:\n",
    "                print(f\"Skipping masked value at ({x}, {y})\")\n",
    "        else:\n",
    "            print(f\"Skipping out-of-bounds point: x={x}, y={y}\")\n",
    "\n",
    "        step_end = time.perf_counter()\n",
    "        timing_results.append(f\"Time step {time_idx}, Point {i} (x={x}, y={y}) - {step_end - step_start:.6f} sec\")\n",
    "\n",
    "    end_time = time.perf_counter()\n",
    "    #print(f\"Finished timestep {time_idx} in {end_time - start_time:.6f} seconds\")\n",
    "\n",
    "end_total = time.perf_counter()\n",
    "print(f\"\\nTotal execution time: {end_total - start_total:.6f} seconds\")\n",
    "\n",
    "# Optional: Print or save timing results\n",
    "for result in timing_results[:10]:  # Print only first 10 to avoid too much output\n",
    "    print(result)"
   ]
  },
  {
   "cell_type": "code",
   "execution_count": 18,
   "id": "9d047496-f908-4a35-b1e6-6f48aef49485",
   "metadata": {},
   "outputs": [],
   "source": [
    "#Convert list to numpy array for easier manipulation\n",
    "coral_values_jun_aug = np.array(coral_values_jun_aug)\n"
   ]
  },
  {
   "cell_type": "code",
   "execution_count": 50,
   "id": "34494083-6d04-4e84-ade2-34c363132e79",
   "metadata": {},
   "outputs": [
    {
     "name": "stdout",
     "output_type": "stream",
     "text": [
      "1895174\n"
     ]
    }
   ],
   "source": [
    "print(len(coral_values_jun_aug))"
   ]
  },
  {
   "cell_type": "code",
   "execution_count": 19,
   "id": "ece21b24-9cfd-40de-b61b-306f0c770f6e",
   "metadata": {},
   "outputs": [],
   "source": [
    "current_speed_df = pd.DataFrame({'current speed jun_aug': coral_values_jun_aug})\n",
    "#current_speed_df.to_csv(\"coral_values_jun_aug.csv\", index=False)"
   ]
  },
  {
   "cell_type": "code",
   "execution_count": 55,
   "id": "b34c5d7b-cbc9-45da-85e7-d68c25efd6bd",
   "metadata": {},
   "outputs": [
    {
     "name": "stdout",
     "output_type": "stream",
     "text": [
      "3481\n"
     ]
    }
   ],
   "source": [
    "print(len(jan_jun.variables['time']))"
   ]
  },
  {
   "cell_type": "code",
   "execution_count": 20,
   "id": "2664ec24-7f01-4bcb-b1c7-8897c0468430",
   "metadata": {},
   "outputs": [
    {
     "name": "stdout",
     "output_type": "stream",
     "text": [
      "Processing from time index 0 to 1999\n",
      "Grid size: xc_max=950, yc_max=555\n",
      "\n",
      "Total execution time: 1218.976203 seconds\n",
      "Time step 0, Point 0 (x=705, y=179) - 0.231130 sec\n",
      "Time step 0, Point 1 (x=612, y=44) - 0.000937 sec\n",
      "Time step 0, Point 2 (x=528, y=176) - 0.000724 sec\n",
      "Time step 0, Point 3 (x=637, y=157) - 0.000698 sec\n",
      "Time step 0, Point 4 (x=586, y=182) - 0.000943 sec\n",
      "Time step 0, Point 5 (x=744, y=138) - 0.000696 sec\n",
      "Time step 0, Point 6 (x=582, y=113) - 0.000685 sec\n",
      "Time step 0, Point 7 (x=631, y=169) - 0.000728 sec\n",
      "Time step 0, Point 8 (x=584, y=71) - 0.000715 sec\n",
      "Time step 0, Point 9 (x=571, y=179) - 0.000610 sec\n"
     ]
    }
   ],
   "source": [
    "hor_res = jan_jun.grid_mapping.attrs['horizontal_resolution']\n",
    "t_start, t_stop = (0, 2000)  # (0, len(jun_aug.variables['time']))\n",
    "coral_values_jan_jun = []\n",
    "valid_coords_jan_jun = []\n",
    "xc_max = jan_jun.variables['xc'].shape[0]\n",
    "yc_max = jan_jun.variables['yc'].shape[0]\n",
    "\n",
    "timing_results = []\n",
    "\n",
    "start_total = time.perf_counter()  # Track total execution time\n",
    "\n",
    "print(f\"Processing from time index {t_start} to {t_stop-1}\")\n",
    "print(f\"Grid size: xc_max={xc_max}, yc_max={yc_max}\")\n",
    "\n",
    "for time_idx in range(t_start, t_stop):\n",
    "    start_time = time.perf_counter()\n",
    "    #print(f\"\\nProcessing timestep {time_idx}...\")\n",
    "\n",
    "    # Precompute x and y indices\n",
    "    x_indices = np.clip(np.round(coral_data['x'] / hor_res).astype(int), 0, xc_max - 1)\n",
    "    y_indices = np.clip(np.round(coral_data['y'] / hor_res).astype(int), 0, yc_max - 1)\n",
    "\n",
    "    #print(f\"Total coral points: {len(x_indices)}\")\n",
    "    \n",
    "    for i, (x, y) in enumerate(zip(x_indices, y_indices)):\n",
    "        step_start = time.perf_counter()\n",
    "\n",
    "        # Check if indices are within bounds\n",
    "        if 0 <= x < xc_max and 0 <= y < yc_max:\n",
    "            value = np.sqrt(jan_jun.variables['u-bottom'][time_idx, y, x]**2 +\n",
    "                            jan_jun.variables['v-bottom'][time_idx, y, x]**2)\n",
    "            \n",
    "            #print(f\"Point {i}: (x={x}, y={y}) -> Current Speed: {value:.6f}\")\n",
    "\n",
    "            if not np.ma.is_masked(value):\n",
    "                coral_values_jan_jun.append(value)\n",
    "                #print(f\"Value at ({x}, {y}) added: {value:.6f}\")\n",
    "            else:\n",
    "                print(f\"Skipping masked value at ({x}, {y})\")\n",
    "        else:\n",
    "            print(f\"Skipping out-of-bounds point: x={x}, y={y}\")\n",
    "\n",
    "        step_end = time.perf_counter()\n",
    "        timing_results.append(f\"Time step {time_idx}, Point {i} (x={x}, y={y}) - {step_end - step_start:.6f} sec\")\n",
    "\n",
    "    end_time = time.perf_counter()\n",
    "    #print(f\"Finished timestep {time_idx} in {end_time - start_time:.6f} seconds\")\n",
    "\n",
    "end_total = time.perf_counter()\n",
    "print(f\"\\nTotal execution time: {end_total - start_total:.6f} seconds\")\n",
    "\n",
    "# Optional: Print or save timing results\n",
    "for result in timing_results[:10]:  # Print only first 10 to avoid too much output\n",
    "    print(result)"
   ]
  },
  {
   "cell_type": "code",
   "execution_count": 23,
   "id": "94b9b76d-c62c-4659-bcd8-315ee870134d",
   "metadata": {},
   "outputs": [
    {
     "name": "stdout",
     "output_type": "stream",
     "text": [
      "Processing from time index 2000 to 3480\n",
      "Grid size: xc_max=950, yc_max=555\n",
      "\n",
      "Total execution time: 888.307989 seconds\n",
      "Time step 2000, Point 0 (x=705, y=179) - 0.059961 sec\n",
      "Time step 2000, Point 1 (x=612, y=44) - 0.000893 sec\n",
      "Time step 2000, Point 2 (x=528, y=176) - 0.000791 sec\n",
      "Time step 2000, Point 3 (x=637, y=157) - 0.000696 sec\n",
      "Time step 2000, Point 4 (x=586, y=182) - 0.000618 sec\n",
      "Time step 2000, Point 5 (x=744, y=138) - 0.000625 sec\n",
      "Time step 2000, Point 6 (x=582, y=113) - 0.003541 sec\n",
      "Time step 2000, Point 7 (x=631, y=169) - 0.000621 sec\n",
      "Time step 2000, Point 8 (x=584, y=71) - 0.000640 sec\n",
      "Time step 2000, Point 9 (x=571, y=179) - 0.000626 sec\n"
     ]
    }
   ],
   "source": [
    "hor_res = jan_jun.grid_mapping.attrs['horizontal_resolution']\n",
    "t_start, t_stop = (2000, 3481)  # (0, len(jun_aug.variables['time']))\n",
    "coral_values_jan_jun2 = []\n",
    "valid_coords_jan_jun2 = []\n",
    "xc_max = jan_jun.variables['xc'].shape[0]\n",
    "yc_max = jan_jun.variables['yc'].shape[0]\n",
    "\n",
    "timing_results = []\n",
    "\n",
    "start_total = time.perf_counter()  # Track total execution time\n",
    "\n",
    "print(f\"Processing from time index {t_start} to {t_stop-1}\")\n",
    "print(f\"Grid size: xc_max={xc_max}, yc_max={yc_max}\")\n",
    "\n",
    "for time_idx in range(t_start, t_stop):\n",
    "    start_time = time.perf_counter()\n",
    "    #print(f\"\\nProcessing timestep {time_idx}...\")\n",
    "\n",
    "    # Precompute x and y indices\n",
    "    x_indices = np.clip(np.round(coral_data['x'] / hor_res).astype(int), 0, xc_max - 1)\n",
    "    y_indices = np.clip(np.round(coral_data['y'] / hor_res).astype(int), 0, yc_max - 1)\n",
    "\n",
    "    #print(f\"Total coral points: {len(x_indices)}\")\n",
    "    \n",
    "    for i, (x, y) in enumerate(zip(x_indices, y_indices)):\n",
    "        step_start = time.perf_counter()\n",
    "\n",
    "        # Check if indices are within bounds\n",
    "        if 0 <= x < xc_max and 0 <= y < yc_max:\n",
    "            value = np.sqrt(jan_jun.variables['u-bottom'][time_idx, y, x]**2 +\n",
    "                            jan_jun.variables['v-bottom'][time_idx, y, x]**2)\n",
    "            \n",
    "            #print(f\"Point {i}: (x={x}, y={y}) -> Current Speed: {value:.6f}\")\n",
    "\n",
    "            if not np.ma.is_masked(value):\n",
    "                coral_values_jan_jun.append(value)\n",
    "                #print(f\"Value at ({x}, {y}) added: {value:.6f}\")\n",
    "            else:\n",
    "                print(f\"Skipping masked value at ({x}, {y})\")\n",
    "        else:\n",
    "            print(f\"Skipping out-of-bounds point: x={x}, y={y}\")\n",
    "\n",
    "        step_end = time.perf_counter()\n",
    "        timing_results.append(f\"Time step {time_idx}, Point {i} (x={x}, y={y}) - {step_end - step_start:.6f} sec\")\n",
    "\n",
    "    end_time = time.perf_counter()\n",
    "    #print(f\"Finished timestep {time_idx} in {end_time - start_time:.6f} seconds\")\n",
    "\n",
    "end_total = time.perf_counter()\n",
    "print(f\"\\nTotal execution time: {end_total - start_total:.6f} seconds\")\n",
    "\n",
    "# Optional: Print or save timing results\n",
    "for result in timing_results[:10]:  # Print only first 10 to avoid too much output\n",
    "    print(result)"
   ]
  },
  {
   "cell_type": "code",
   "execution_count": 21,
   "id": "8b2c635c-1d57-40c8-ae11-1678fe77df2f",
   "metadata": {},
   "outputs": [
    {
     "name": "stdout",
     "output_type": "stream",
     "text": [
      "2928\n"
     ]
    }
   ],
   "source": [
    "print(len(sep_dec.variables['time']))"
   ]
  },
  {
   "cell_type": "code",
   "execution_count": 24,
   "id": "cf875b06-e177-4d74-89d0-675559392695",
   "metadata": {},
   "outputs": [
    {
     "name": "stdout",
     "output_type": "stream",
     "text": [
      "Processing from time index 0 to 2927\n",
      "Grid size: xc_max=950, yc_max=555\n",
      "\n",
      "Total execution time: 1765.210707 seconds\n",
      "Time step 0, Point 0 (x=705, y=179) - 0.013543 sec\n",
      "Time step 0, Point 1 (x=612, y=44) - 0.000945 sec\n",
      "Time step 0, Point 2 (x=528, y=176) - 0.000737 sec\n",
      "Time step 0, Point 3 (x=637, y=157) - 0.000675 sec\n",
      "Time step 0, Point 4 (x=586, y=182) - 0.000672 sec\n",
      "Time step 0, Point 5 (x=744, y=138) - 0.000714 sec\n",
      "Time step 0, Point 6 (x=582, y=113) - 0.000647 sec\n",
      "Time step 0, Point 7 (x=631, y=169) - 0.000617 sec\n",
      "Time step 0, Point 8 (x=584, y=71) - 0.000625 sec\n",
      "Time step 0, Point 9 (x=571, y=179) - 0.000620 sec\n"
     ]
    }
   ],
   "source": [
    "hor_res = sep_dec.grid_mapping.attrs['horizontal_resolution']\n",
    "t_start, t_stop = (0, 2928)  # (0, len(jun_aug.variables['time']))\n",
    "coral_values_sep_dec = []\n",
    "valid_coords_sep_dec = []\n",
    "xc_max = sep_dec.variables['xc'].shape[0]\n",
    "yc_max = sep_dec.variables['yc'].shape[0]\n",
    "\n",
    "timing_results = []\n",
    "\n",
    "start_total = time.perf_counter()  # Track total execution time\n",
    "\n",
    "print(f\"Processing from time index {t_start} to {t_stop-1}\")\n",
    "print(f\"Grid size: xc_max={xc_max}, yc_max={yc_max}\")\n",
    "\n",
    "for time_idx in range(t_start, t_stop):\n",
    "    start_time = time.perf_counter()\n",
    "    #print(f\"\\nProcessing timestep {time_idx}...\")\n",
    "\n",
    "    # Precompute x and y indices\n",
    "    x_indices = np.clip(np.round(coral_data['x'] / hor_res).astype(int), 0, xc_max - 1)\n",
    "    y_indices = np.clip(np.round(coral_data['y'] / hor_res).astype(int), 0, yc_max - 1)\n",
    "\n",
    "    #print(f\"Total coral points: {len(x_indices)}\")\n",
    "    \n",
    "    for i, (x, y) in enumerate(zip(x_indices, y_indices)):\n",
    "        step_start = time.perf_counter()\n",
    "\n",
    "        # Check if indices are within bounds\n",
    "        if 0 <= x < xc_max and 0 <= y < yc_max:\n",
    "            value = np.sqrt(sep_dec.variables['u-bottom'][time_idx, y, x]**2 +\n",
    "                            sep_dec.variables['v-bottom'][time_idx, y, x]**2)\n",
    "            \n",
    "            #print(f\"Point {i}: (x={x}, y={y}) -> Current Speed: {value:.6f}\")\n",
    "\n",
    "            if not np.ma.is_masked(value):\n",
    "                coral_values_sep_dec.append(value)\n",
    "                #print(f\"Value at ({x}, {y}) added: {value:.6f}\")\n",
    "            else:\n",
    "                print(f\"Skipping masked value at ({x}, {y})\")\n",
    "        else:\n",
    "            print(f\"Skipping out-of-bounds point: x={x}, y={y}\")\n",
    "\n",
    "        step_end = time.perf_counter()\n",
    "        timing_results.append(f\"Time step {time_idx}, Point {i} (x={x}, y={y}) - {step_end - step_start:.6f} sec\")\n",
    "\n",
    "    end_time = time.perf_counter()\n",
    "    #print(f\"Finished timestep {time_idx} in {end_time - start_time:.6f} seconds\")\n",
    "\n",
    "end_total = time.perf_counter()\n",
    "print(f\"\\nTotal execution time: {end_total - start_total:.6f} seconds\")\n",
    "\n",
    "# Optional: Print or save timing results\n",
    "for result in timing_results[:10]:  # Print only first 10 to avoid too much output\n",
    "    print(result)"
   ]
  },
  {
   "cell_type": "code",
   "execution_count": 26,
   "id": "f9455a8d-1bae-4b56-954a-58030c0bbf35",
   "metadata": {},
   "outputs": [
    {
     "name": "stdout",
     "output_type": "stream",
     "text": [
      "1895174\n"
     ]
    }
   ],
   "source": [
    "coral_values_jan_jun_flat = np.ravel(coral_values_jan_jun)  # Flattening the first array\n",
    "coral_values_jun_aug_flat = np.ravel(coral_values_jun_aug)  # Flattening the second array\n",
    "print(len(coral_values_jun_aug_flat))\n",
    "# Concatenate the flattened arrays\n",
    "all_current_speeds = np.concatenate((coral_values_jan_jun_flat, coral_values_jun_aug_flat))\n",
    "\n",
    "# Create DataFrame with one column\n",
    "current_speed_df = pd.DataFrame({'current speeds': all_current_speeds})\n",
    "\n",
    "# Save to CSV\n",
    "#current_speed_df.to_csv(\"coral_values.csv\", index=False)"
   ]
  },
  {
   "cell_type": "code",
   "execution_count": 27,
   "id": "2d68505b-b16e-4938-8550-8810c76673e8",
   "metadata": {},
   "outputs": [],
   "source": [
    "coral_values_jan_jun2_flat = np.ravel(coral_values_jan_jun2)\n",
    "all_current_speeds = np.concatenate((coral_values_jan_jun_flat, coral_values_jun_aug_flat, coral_values_jan_jun2_flat))\n",
    "current_speed_df = pd.DataFrame({'current speeds': all_current_speeds})\n",
    "#current_speed_df.to_csv(\"coral_values.csv\", index=False)"
   ]
  },
  {
   "cell_type": "code",
   "execution_count": 28,
   "id": "820e7941-3df1-4849-b633-5b678d763ff7",
   "metadata": {},
   "outputs": [],
   "source": [
    "coral_values_sep_dec_flat = np.ravel(coral_values_sep_dec)\n",
    "all_current_speeds = np.concatenate((coral_values_jan_jun_flat, coral_values_jan_jun2_flat, coral_values_jun_aug_flat, coral_values_sep_dec_flat))\n",
    "current_speed_df = pd.DataFrame({'current speeds': all_current_speeds})\n",
    "#current_speed_df.to_csv(\"coral_values.csv\", index=False)"
   ]
  },
  {
   "cell_type": "code",
   "execution_count": 29,
   "id": "2242fc2a-b07e-4274-bf56-72be9a5d6210",
   "metadata": {},
   "outputs": [],
   "source": [
    "current_speeds = current_speed_df['current speeds'].dropna().values\n",
    "current_speed_df.to_csv(\"current_speed_hourly.csv\", index=False)"
   ]
  },
  {
   "cell_type": "code",
   "execution_count": null,
   "id": "6e9eb5de-88ad-41e0-bff1-70c57e075e0e",
   "metadata": {},
   "outputs": [],
   "source": [
    "hor_res = jan_jun.grid_mapping.attrs['horizontal_resolution']\n",
    "t_start, t_stop = (2001, 3481)  # (0, len(jun_aug.variables['time']))\n",
    "coral_values_jan_jun2 = []\n",
    "valid_coords_jan_jun2 = []\n",
    "xc_max = jan_jun.variables['xc'].shape[0]\n",
    "yc_max = jan_jun.variables['yc'].shape[0]\n",
    "\n",
    "timing_results = []\n",
    "c\n",
    "start_total = time.perf_counter()  # Track total execution time\n",
    "\n",
    "print(f\"Processing from time index {t_start} to {t_stop-1}\")\n",
    "print(f\"Grid size: xc_max={xc_max}, yc_max={yc_max}\")\n",
    "\n",
    "for time_idx in range(t_start, t_stop):\n",
    "    start_time = time.perf_counter()\n",
    "    #print(f\"\\nProcessing timestep {time_idx}...\")\n",
    "\n",
    "    # Precompute x and y indices\n",
    "    x_indices = np.clip(np.round(coral_data['x'] / hor_res).astype(int), 0, xc_max - 1)\n",
    "    y_indices = np.clip(np.round(coral_data['y'] / hor_res).astype(int), 0, yc_max - 1)\n",
    "\n",
    "    #print(f\"Total coral points: {len(x_indices)}\")\n",
    "    \n",
    "    for i, (x, y) in enumerate(zip(x_indices, y_indices)):\n",
    "        step_start = time.perf_counter()\n",
    "\n",
    "        # Check if indices are within bounds\n",
    "        if 0 <= x < xc_max and 0 <= y < yc_max:\n",
    "            value = np.sqrt(jan_jun.variables['u-bottom'][time_idx, y, x]**2 +\n",
    "                            jan_jun.variables['v-bottom'][time_idx, y, x]**2)\n",
    "            \n",
    "            #print(f\"Point {i}: (x={x}, y={y}) -> Current Speed: {value:.6f}\")\n",
    "\n",
    "            if not np.ma.is_masked(value):\n",
    "                coral_values_jan_jun2.append(value)\n",
    "                #print(f\"Value at ({x}, {y}) added: {value:.6f}\")\n",
    "            else:\n",
    "                print(f\"Skipping masked value at ({x}, {y})\")\n",
    "        else:\n",
    "            print(f\"Skipping out-of-bounds point: x={x}, y={y}\")\n",
    "\n",
    "        step_end = time.perf_counter()\n",
    "        timing_results.append(f\"Time step {time_idx}, Point {i} (x={x}, y={y}) - {step_end - step_start:.6f} sec\")\n",
    "\n",
    "    end_time = time.perf_counter()\n",
    "    #print(f\"Finished timestep {time_idx} in {end_time - start_time:.6f} seconds\")\n",
    "\n",
    "end_total = time.perf_counter()\n",
    "print(f\"\\nTotal execution time: {end_total - start_total:.6f} seconds\")\n",
    "\n",
    "# Optional: Print or save timing results\n",
    "for result in timing_results[:10]:  # Print only first 10 to avoid too much output\n",
    "    print(result)"
   ]
  },
  {
   "cell_type": "code",
   "execution_count": 81,
   "id": "7c9f4319-dbca-450f-85c0-f8978e6db611",
   "metadata": {},
   "outputs": [
    {
     "name": "stdout",
     "output_type": "stream",
     "text": [
      "Statistics for current speed: {'mean': np.float32(0.09981488), 'max': np.float32(0.7515798), 'min': np.float32(0.0), '90th_percentile': np.float32(0.19479178), '10th_percentile': np.float32(0.028968481)}\n"
     ]
    }
   ],
   "source": [
    "# Calculate statistics for coral values\n",
    "if 'current speeds' not in current_speed_df.columns:\n",
    "    print(\"Error: 'current speeds' column not found in CSV!\")\n",
    "else:\n",
    "    # Drop NaNs and convert to NumPy array\n",
    "    current_speeds = current_speed_df['current speeds'].dropna().values\n",
    "\n",
    "    # Check for empty array\n",
    "    if len(current_speeds) == 0:\n",
    "        print(\"Error: current_speeds array is empty after dropping NaNs!\")\n",
    "    else:\n",
    "        # Compute statistics\n",
    "        statistics = {\n",
    "            'mean': np.float32(np.mean(current_speeds)),\n",
    "            'max': np.float32(np.max(current_speeds)),\n",
    "            'min': np.float32(np.min(current_speeds)),\n",
    "            '90th_percentile': np.float32(np.percentile(current_speeds, 90)),\n",
    "            '10th_percentile': np.float32(np.percentile(current_speeds, 10))\n",
    "        }\n",
    "\n",
    "        print(\"Statistics for current speed:\", statistics)"
   ]
  },
  {
   "cell_type": "code",
   "execution_count": 82,
   "id": "83064b16-2c56-4788-a59e-a6fd5d542c3d",
   "metadata": {},
   "outputs": [],
   "source": [
    "#Determine the bin edges for the histograms\n",
    "bin_edges = np.histogram_bin_edges(current_speeds, bins=20)"
   ]
  },
  {
   "cell_type": "code",
   "execution_count": null,
   "id": "6673927b-02dc-47b6-9428-e2a035bc8203",
   "metadata": {},
   "outputs": [],
   "source": [
    "np.savetxt(\"bin_edges.csv\", bin_edges, delimiter=\",\")\n"
   ]
  },
  {
   "cell_type": "code",
   "execution_count": 86,
   "id": "7bed6622-9861-4655-864a-ee3a021d8998",
   "metadata": {},
   "outputs": [
    {
     "data": {
      "image/png": "[encoded data removed]",
      "text/plain": [
       "<Figure size 640x480 with 1 Axes>"
      ]
     },
     "metadata": {},
     "output_type": "display_data"
    }
   ],
   "source": [
    "#Plot histogram of the current speeds\n",
    "plt.hist(current_speeds, bins=bin_edges, edgecolor='black')\n",
    "plt.xlabel('Current speed [m/s]', fontsize=14)\n",
    "plt.ylabel('Frequency', fontsize=14)\n",
    "plt.title(f'Histogram of current speeds at coral data points', fontsize=16)\n",
    "plt.grid(True, linestyle='--', linewidth=0.5, alpha=0.7)  # Main grid\n",
    "plt.minorticks_on()  # Enable minor ticks\n",
    "plt.grid(which='minor', linestyle=':', linewidth=0.4, alpha=0.5)  # Finer minor grid\n",
    "\n",
    "plt.savefig(f'/cluster/home/maikents/current_speed_histogram_coral_points_jun_aug.png')\n",
    " \n",
    "plt.show()"
   ]
  },
  {
   "cell_type": "code",
   "execution_count": 7,
   "id": "b12e51b5-450c-44ff-a9ab-dbe9a4468b3d",
   "metadata": {},
   "outputs": [],
   "source": [
    "midnor_2019 = xr.open_dataset(\"/cluster/projects/itk-SINMOD/coral-mapping/midnor/PhysStates_2019.nc\")\n"
   ]
  },
  {
   "cell_type": "code",
   "execution_count": 8,
   "id": "0e8693cc-b3ae-4742-be08-592ee69b2624",
   "metadata": {},
   "outputs": [
    {
     "name": "stdout",
     "output_type": "stream",
     "text": [
      "['time', 'grid_mapping', 'LayerDepths', 'xc', 'yc', 'zc', 'depth', 'DXxDYy', 'u_velocity', 'v_velocity', 'elevation', 'temperature', 'salinity', 'ice_thickness', 'ice_compactness', 'salinity_ice']\n"
     ]
    }
   ],
   "source": [
    "print(list(midnor_2019.variables))"
   ]
  },
  {
   "cell_type": "code",
   "execution_count": 5,
   "id": "aebab293-7e39-431a-a7be-bddafae94d8d",
   "metadata": {},
   "outputs": [
    {
     "name": "stdout",
     "output_type": "stream",
     "text": [
      "<xarray.Variable (time: 365, zc: 50, yc: 555, xc: 950)> Size: 38GB\n",
      "[9622312500 values with dtype=float32]\n",
      "Attributes:\n",
      "    units:         m/s\n",
      "    cell_methods:  time: mean\n"
     ]
    }
   ],
   "source": [
    "print(midnor_2019.variables['u_velocity'])"
   ]
  },
  {
   "cell_type": "code",
   "execution_count": 9,
   "id": "aa20305c-47ba-4927-abe5-4699181928f7",
   "metadata": {
    "jupyter": {
     "source_hidden": true
    }
   },
   "outputs": [
    {
     "name": "stdout",
     "output_type": "stream",
     "text": [
      "Processing from time index 0 to 364\n",
      "Grid size: xc_max=950, yc_max=555\n",
      "\n",
      "Total execution time: 4497.307102 seconds\n",
      "Time step 0, Point 0 (x=705, y=179) - 3.014640 sec\n",
      "Time step 0, Point 1 (x=612, y=44) - 0.001657 sec\n",
      "Time step 0, Point 2 (x=528, y=176) - 0.001130 sec\n",
      "Time step 0, Point 3 (x=637, y=157) - 0.001061 sec\n",
      "Time step 0, Point 4 (x=586, y=182) - 0.000988 sec\n",
      "Time step 0, Point 5 (x=744, y=138) - 0.001015 sec\n",
      "Time step 0, Point 6 (x=582, y=113) - 0.000973 sec\n",
      "Time step 0, Point 7 (x=631, y=169) - 0.001024 sec\n",
      "Time step 0, Point 8 (x=584, y=71) - 0.000972 sec\n",
      "Time step 0, Point 9 (x=571, y=179) - 0.001032 sec\n"
     ]
    }
   ],
   "source": [
    "import time\n",
    "\n",
    "hor_res = midnor_2019.grid_mapping.attrs['horizontal_resolution']\n",
    "t_start, t_stop = (0, len(midnor_2019.variables['time']))\n",
    "coral_values_midnor_2019 = []\n",
    "valid_coords_midnor_2019 = []\n",
    "xc_max = midnor_2019.variables['xc'].shape[0]\n",
    "yc_max = midnor_2019.variables['yc'].shape[0]\n",
    "zc = midnor_2019.variables['LayerDepths'][:]\n",
    "cumulative_depth = np.cumsum(zc, axis=0)\n",
    "timing_results = []\n",
    "\n",
    "start_total = time.perf_counter()  # Track total execution time\n",
    "\n",
    "print(f\"Processing from time index {t_start} to {t_stop-1}\")\n",
    "print(f\"Grid size: xc_max={xc_max}, yc_max={yc_max}\")\n",
    "\n",
    "for time_idx in range(t_start, t_stop):\n",
    "    start_time = time.perf_counter()\n",
    "    #print(f\"\\nProcessing timestep {time_idx}...\")\n",
    "\n",
    "    # Precompute x and y indices\n",
    "    x_indices = np.clip(np.round(coral_data['x'] / hor_res).astype(int), 0, xc_max - 1)\n",
    "    y_indices = np.clip(np.round(coral_data['y'] / hor_res).astype(int), 0, yc_max - 1)\n",
    "\n",
    "    #print(f\"Total coral points: {len(x_indices)}\")\n",
    "    \n",
    "    for i, (x, y) in enumerate(zip(x_indices, y_indices)):\n",
    "        step_start = time.perf_counter()\n",
    "\n",
    "        # Check if indices are within bounds\n",
    "        if 0 <= x < xc_max and 0 <= y < yc_max:\n",
    "\n",
    "            depth_at_point = midnor_2019.variables['depth'][int(y), int(x)]\n",
    "            layer_index = np.searchsorted(cumulative_depth, depth_at_point)\n",
    "\n",
    "            value = np.sqrt(midnor_2019.variables['u_velocity'][time_idx, layer_index, int(y), int(x)]**2 + midnor_2019.variables['v_velocity'][time_idx, layer_index, int(y), int(x)]**2)\n",
    "\n",
    "            if not np.ma.is_masked(value):\n",
    "                coral_values_midnor_2019.append(value)\n",
    "                #print(f\"Value at ({x}, {y}) added: {value:.6f}\")\n",
    "            else:\n",
    "                print(f\"Skipping masked value at ({x}, {y})\")\n",
    "        else:\n",
    "            print(f\"Skipping out-of-bounds point: x={x}, y={y}\")\n",
    "\n",
    "        step_end = time.perf_counter()\n",
    "        timing_results.append(f\"Time step {time_idx}, Point {i} (x={x}, y={y}) - {step_end - step_start:.6f} sec\")\n",
    "\n",
    "    end_time = time.perf_counter()\n",
    "    #print(f\"Finished timestep {time_idx} in {end_time - start_time:.6f} seconds\")\n",
    "\n",
    "end_total = time.perf_counter()\n",
    "print(f\"\\nTotal execution time: {end_total - start_total:.6f} seconds\")\n",
    "\n",
    "# Optional: Print or save timing results\n",
    "for result in timing_results[:10]:  # Print only first 10 to avoid too much output\n",
    "    print(result)"
   ]
  },
  {
   "cell_type": "raw",
   "id": "1a1f4cf0-478f-4ef1-87c4-076ad291954f",
   "metadata": {},
   "source": [
    "print(list(midnor_2019.variables))"
   ]
  },
  {
   "cell_type": "code",
   "execution_count": 9,
   "id": "41f5352f-cecf-4145-836d-494807c33d4e",
   "metadata": {},
   "outputs": [],
   "source": [
    "physstates_2d = xr.open_dataset(\"/cluster/projects/itk-SINMOD/coral-mapping/midnor/samp_2D_jan_jun.nc\")\n",
    "\n",
    "gridLons = physstates_2d.variables['gridLons']"
   ]
  },
  {
   "cell_type": "code",
   "execution_count": 10,
   "id": "750e0135-632a-44b6-8c67-fc95b7bc8c27",
   "metadata": {
    "jupyter": {
     "source_hidden": true
    }
   },
   "outputs": [
    {
     "name": "stdout",
     "output_type": "stream",
     "text": [
      "Processing from time index 0 to 364\n",
      "Grid size: xc_max=950, yc_max=555\n",
      "\n",
      "Total execution time: 4270.979698 seconds\n",
      "Time step 0, Point 0 (x=705, y=179) - 1.971335 sec\n",
      "Time step 0, Point 1 (x=612, y=44) - 0.013701 sec\n",
      "Time step 0, Point 2 (x=528, y=176) - 0.013569 sec\n",
      "Time step 0, Point 3 (x=637, y=157) - 0.008169 sec\n",
      "Time step 0, Point 4 (x=586, y=182) - 0.002679 sec\n",
      "Time step 0, Point 5 (x=744, y=138) - 0.005327 sec\n",
      "Time step 0, Point 6 (x=582, y=113) - 0.008121 sec\n",
      "Time step 0, Point 7 (x=631, y=169) - 0.003013 sec\n",
      "Time step 0, Point 8 (x=584, y=71) - 0.003419 sec\n",
      "Time step 0, Point 9 (x=571, y=179) - 0.002124 sec\n"
     ]
    }
   ],
   "source": [
    "#midnor stat eastness\n",
    "\n",
    "import time\n",
    "\n",
    "hor_res = midnor_2019.grid_mapping.attrs['horizontal_resolution']\n",
    "t_start, t_stop = (0, len(midnor_2019.variables['time']))\n",
    "coral_values_midnor_2019 = []\n",
    "valid_coords_midnor_2019 = []\n",
    "xc_max = midnor_2019.variables['xc'].shape[0]\n",
    "yc_max = midnor_2019.variables['yc'].shape[0]\n",
    "zc = midnor_2019.variables['LayerDepths'][:]\n",
    "cumulative_depth = np.cumsum(zc, axis=0)\n",
    "timing_results = []\n",
    "longitude_of_projection_origin = midnor_2019.grid_mapping.attrs['longitude_of_projection_origin']\n",
    "\n",
    "start_total = time.perf_counter()  # Track total execution time\n",
    "\n",
    "print(f\"Processing from time index {t_start} to {t_stop-1}\")\n",
    "print(f\"Grid size: xc_max={xc_max}, yc_max={yc_max}\")\n",
    "\n",
    "for time_idx in range(t_start, t_stop):\n",
    "    start_time = time.perf_counter()\n",
    "    #print(f\"\\nProcessing timestep {time_idx}...\")\n",
    "\n",
    "    # Precompute x and y indices\n",
    "    x_indices = np.clip(np.round(coral_data['x'] / hor_res).astype(int), 0, xc_max - 1)\n",
    "    y_indices = np.clip(np.round(coral_data['y'] / hor_res).astype(int), 0, yc_max - 1)\n",
    "\n",
    "    #print(f\"Total coral points: {len(x_indices)}\")\n",
    "    \n",
    "    for i, (x, y) in enumerate(zip(x_indices, y_indices)):\n",
    "        step_start = time.perf_counter()\n",
    "\n",
    "        # Check if indices are within bounds\n",
    "        if 0 <= x < xc_max and 0 <= y < yc_max:\n",
    "\n",
    "            depth_at_point = midnor_2019.variables['depth'][int(y), int(x)]\n",
    "            layer_index = np.searchsorted(cumulative_depth, depth_at_point)\n",
    "\n",
    "            #value = np.sqrt(midnor_2019.variables['u_velocity'][time_idx, layer_index, int(y), int(x)]**2 + midnor_2019.variables['v_velocity'][time_idx, layer_index, int(y), int(x)]**2)\n",
    "            longitude_at_point = gridLons[int(y),int(x)]\n",
    "            theta = longitude_at_point - longitude_of_projection_origin\n",
    "            eastward_velocity = midnor_2019.variables['u_velocity'][time_idx, layer_index, int(y), int(x)] * np.cos(np.deg2rad(theta)) - midnor_2019.variables['v_velocity'][time_idx, layer_index, int(y), int(x)] * np.sin(np.deg2rad(theta))\n",
    "            northward_velocity = midnor_2019.variables['u_velocity'][time_idx, layer_index, int(y), int(x)] * np.sin(np.deg2rad(theta)) + midnor_2019.variables['v_velocity'][time_idx, layer_index, int(y), int(x)] * np.cos(np.deg2rad(theta))\n",
    "            aspect = np.arctan2(eastward_velocity, northward_velocity)\n",
    "            value = np.sin(aspect)\n",
    "            \n",
    "            if not np.ma.is_masked(value):\n",
    "                coral_values_midnor_2019.append(value)\n",
    "                #print(f\"Value at ({x}, {y}) added: {value:.6f}\")\n",
    "            else:\n",
    "                print(f\"Skipping masked value at ({x}, {y})\")\n",
    "        else:\n",
    "            print(f\"Skipping out-of-bounds point: x={x}, y={y}\")\n",
    "\n",
    "        step_end = time.perf_counter()\n",
    "        timing_results.append(f\"Time step {time_idx}, Point {i} (x={x}, y={y}) - {step_end - step_start:.6f} sec\")\n",
    "\n",
    "    end_time = time.perf_counter()\n",
    "    #print(f\"Finished timestep {time_idx} in {end_time - start_time:.6f} seconds\")\n",
    "\n",
    "end_total = time.perf_counter()\n",
    "print(f\"\\nTotal execution time: {end_total - start_total:.6f} seconds\")\n",
    "\n",
    "# Optional: Print or save timing results\n",
    "for result in timing_results[:10]:  # Print only first 10 to avoid too much output\n",
    "    print(result)"
   ]
  },
  {
   "cell_type": "code",
   "execution_count": 23,
   "id": "991ce30d-a7a7-4847-841e-1558e81f14e1",
   "metadata": {},
   "outputs": [
    {
     "name": "stdout",
     "output_type": "stream",
     "text": [
      "Processing from time index 0 to 364\n",
      "Grid size: xc_max=950, yc_max=555\n",
      "\n",
      "Total execution time: 77.056567 seconds\n",
      "Time step 0, Point 0 (x=705, y=179) - 0.000494 sec\n",
      "Time step 0, Point 1 (x=612, y=44) - 0.000318 sec\n",
      "Time step 0, Point 2 (x=528, y=176) - 0.000271 sec\n",
      "Time step 0, Point 3 (x=637, y=157) - 0.000253 sec\n",
      "Time step 0, Point 4 (x=586, y=182) - 0.000254 sec\n",
      "Time step 0, Point 5 (x=744, y=138) - 0.000265 sec\n",
      "Time step 0, Point 6 (x=582, y=113) - 0.000240 sec\n",
      "Time step 0, Point 7 (x=631, y=169) - 0.000234 sec\n",
      "Time step 0, Point 8 (x=584, y=71) - 0.000240 sec\n",
      "Time step 0, Point 9 (x=571, y=179) - 0.000308 sec\n"
     ]
    }
   ],
   "source": [
    "#midnor depth\n",
    "\n",
    "import time\n",
    "\n",
    "hor_res = midnor_2019.grid_mapping.attrs['horizontal_resolution']\n",
    "t_start, t_stop = (0, len(midnor_2019.variables['time']))\n",
    "coral_values_midnor_2019 = []\n",
    "valid_coords_midnor_2019 = []\n",
    "xc_max = midnor_2019.variables['xc'].shape[0]\n",
    "yc_max = midnor_2019.variables['yc'].shape[0]\n",
    "zc = midnor_2019.variables['LayerDepths'][:]\n",
    "cumulative_depth = np.cumsum(zc, axis=0)\n",
    "timing_results = []\n",
    "\n",
    "start_total = time.perf_counter()  # Track total execution time\n",
    "\n",
    "print(f\"Processing from time index {t_start} to {t_stop-1}\")\n",
    "print(f\"Grid size: xc_max={xc_max}, yc_max={yc_max}\")\n",
    "\n",
    "for time_idx in range(t_start, t_stop):\n",
    "    start_time = time.perf_counter()\n",
    "    #print(f\"\\nProcessing timestep {time_idx}...\")\n",
    "\n",
    "    # Precompute x and y indices\n",
    "    x_indices = np.clip(np.round(coral_data['x'] / hor_res).astype(int), 0, xc_max - 1)\n",
    "    y_indices = np.clip(np.round(coral_data['y'] / hor_res).astype(int), 0, yc_max - 1)\n",
    "\n",
    "    #print(f\"Total coral points: {len(x_indices)}\")\n",
    "    \n",
    "    for i, (x, y) in enumerate(zip(x_indices, y_indices)):\n",
    "        step_start = time.perf_counter()\n",
    "\n",
    "        # Check if indices are within bounds\n",
    "        if 0 <= x < xc_max and 0 <= y < yc_max:\n",
    "\n",
    "            depth_at_point = midnor_2019.variables['depth'][int(y), int(x)]\n",
    "            layer_index = np.searchsorted(cumulative_depth, depth_at_point)\n",
    "\n",
    "            \n",
    "            value = layer_index\n",
    "            \n",
    "            if not np.ma.is_masked(value):\n",
    "                coral_values_midnor_2019.append(value)\n",
    "                #print(f\"Value at ({x}, {y}) added: {value:.6f}\")\n",
    "            else:\n",
    "                print(f\"Skipping masked value at ({x}, {y})\")\n",
    "        else:\n",
    "            print(f\"Skipping out-of-bounds point: x={x}, y={y}\")\n",
    "\n",
    "        step_end = time.perf_counter()\n",
    "        timing_results.append(f\"Time step {time_idx}, Point {i} (x={x}, y={y}) - {step_end - step_start:.6f} sec\")\n",
    "\n",
    "    end_time = time.perf_counter()\n",
    "    #print(f\"Finished timestep {time_idx} in {end_time - start_time:.6f} seconds\")\n",
    "\n",
    "end_total = time.perf_counter()\n",
    "print(f\"\\nTotal execution time: {end_total - start_total:.6f} seconds\")\n",
    "\n",
    "# Optional: Print or save timing results\n",
    "for result in timing_results[:10]:  # Print only first 10 to avoid too much output\n",
    "    print(result)"
   ]
  },
  {
   "cell_type": "code",
   "execution_count": 16,
   "id": "0b278c0f-32ce-437c-aa99-b5cc4ac29b2a",
   "metadata": {},
   "outputs": [
    {
     "name": "stdout",
     "output_type": "stream",
     "text": [
      "['time', 'grid_mapping', 'LayerDepths', 'xc', 'yc', 'zc', 'depth', 'DXxDYy', 'u_velocity', 'v_velocity', 'elevation', 'temperature', 'salinity', 'ice_thickness', 'ice_compactness', 'salinity_ice']\n"
     ]
    }
   ],
   "source": [
    "print(list(midnor_2019.variables))"
   ]
  },
  {
   "cell_type": "code",
   "execution_count": 19,
   "id": "da38070c-776e-4a26-abb2-a852beed2be8",
   "metadata": {},
   "outputs": [
    {
     "name": "stdout",
     "output_type": "stream",
     "text": [
      "['time', 'grid_mapping', 'LayerDepths', 'xc', 'yc', 'zc', 'depth', 'DXxDYy', 'u_velocity', 'v_velocity', 'elevation', 'temperature', 'salinity', 'ice_thickness', 'ice_compactness', 'salinity_ice']\n"
     ]
    }
   ],
   "source": [
    "print(list(midnor_2019.variables))"
   ]
  },
  {
   "cell_type": "code",
   "execution_count": 12,
   "id": "43ac2440-6604-4eda-b059-ae084f892ee6",
   "metadata": {
    "jupyter": {
     "source_hidden": true
    }
   },
   "outputs": [],
   "source": [
    "coral_values_midnor_2019_flat = np.ravel(coral_values_midnor_2019)\n",
    "current_speed_midnor_2019 = pd.DataFrame({'current speeds': coral_values_midnor_2019_flat})\n"
   ]
  },
  {
   "cell_type": "code",
   "execution_count": 24,
   "id": "ed490c93-e7aa-4830-98d8-66326b277cf2",
   "metadata": {},
   "outputs": [],
   "source": [
    "coral_values_midnor_2019_flat = np.ravel(coral_values_midnor_2019)\n",
    "depth_midnor_2019 = pd.DataFrame({'depth': coral_values_midnor_2019_flat})\n"
   ]
  },
  {
   "cell_type": "code",
   "execution_count": 13,
   "id": "5de77752-7648-4788-b1f3-dd563c500e56",
   "metadata": {
    "jupyter": {
     "source_hidden": true
    }
   },
   "outputs": [
    {
     "name": "stdout",
     "output_type": "stream",
     "text": [
      "Statistics for current speed: {'mean': np.float32(0.08369906), 'max': np.float32(0.66142267), 'min': np.float32(0.0), '90th_percentile': np.float32(0.17554247), '10th_percentile': np.float32(0.011638081)}\n"
     ]
    }
   ],
   "source": [
    "if 'current speeds' not in current_speed_midnor_2019.columns:\n",
    "    print(\"Error: 'current speeds' column not found in CSV!\")\n",
    "else:\n",
    "    # Drop NaNs and convert to NumPy array\n",
    "    current_speeds_midnor = current_speed_midnor_2019['current speeds'].dropna().values\n",
    "\n",
    "    # Check for empty array\n",
    "    if len(current_speeds_midnor) == 0:\n",
    "        print(\"Error: current_speeds array is empty after dropping NaNs!\")\n",
    "    else:\n",
    "        # Compute statistics\n",
    "        statistics_midnor = {\n",
    "            'mean': np.float32(np.mean(current_speeds_midnor)),\n",
    "            'max': np.float32(np.max(current_speeds_midnor)),\n",
    "            'min': np.float32(np.min(current_speeds_midnor)),\n",
    "            '90th_percentile': np.float32(np.percentile(current_speeds_midnor, 90)),\n",
    "            '10th_percentile': np.float32(np.percentile(current_speeds_midnor, 10))\n",
    "        }\n",
    "\n",
    "        print(\"Statistics for current speed:\", statistics_midnor)"
   ]
  },
  {
   "cell_type": "code",
   "execution_count": 25,
   "id": "18e22b6b-8c47-40bc-b992-1f9ac6a267e0",
   "metadata": {},
   "outputs": [
    {
     "name": "stdout",
     "output_type": "stream",
     "text": [
      "Statistics for depth: {'mean': np.float32(19.069075), 'max': np.float32(35.0), 'min': np.float32(0.0), '90th_percentile': np.float32(23.0), '10th_percentile': np.float32(15.0)}\n"
     ]
    }
   ],
   "source": [
    "if 'depth' not in depth_midnor_2019.columns:\n",
    "    print(\"Error: 'depth' column not found in CSV!\")\n",
    "else:\n",
    "    # Drop NaNs and convert to NumPy array\n",
    "    depth_midnor = depth_midnor_2019['depth'].dropna().values\n",
    "\n",
    "    # Check for empty array\n",
    "    if len(depth_midnor) == 0:\n",
    "        print(\"Error: depth array is empty after dropping NaNs!\")\n",
    "    else:\n",
    "        # Compute statistics\n",
    "        statistics_midnor = {\n",
    "            'mean': np.float32(np.mean(depth_midnor)),\n",
    "            'max': np.float32(np.max(depth_midnor)),\n",
    "            'min': np.float32(np.min(depth_midnor)),\n",
    "            '90th_percentile': np.float32(np.percentile(depth_midnor, 90)),\n",
    "            '10th_percentile': np.float32(np.percentile(depth_midnor, 10))\n",
    "        }\n",
    "\n",
    "        print(\"Statistics for depth:\", statistics_midnor)"
   ]
  },
  {
   "cell_type": "code",
   "execution_count": 26,
   "id": "72fb4345-19eb-4f0b-90f1-87a9190a38af",
   "metadata": {},
   "outputs": [],
   "source": [
    "bin_edges = np.histogram_bin_edges(depth_midnor, bins=20)"
   ]
  },
  {
   "cell_type": "code",
   "execution_count": 103,
   "id": "e2b35697-f5c4-4da9-a018-f08952fb033f",
   "metadata": {
    "collapsed": true,
    "jupyter": {
     "outputs_hidden": true,
     "source_hidden": true
    }
   },
   "outputs": [
    {
     "data": {
      "image/png": "[encoded data removed]",
      "text/plain": [
       "<Figure size 640x480 with 1 Axes>"
      ]
     },
     "metadata": {},
     "output_type": "display_data"
    }
   ],
   "source": [
    "#Plot histogram of the current speeds midnor\n",
    "plt.hist(current_speeds_midnor, bins=bin_edges, edgecolor='black')\n",
    "plt.xlabel('Current speed [m/s]', fontsize=14)\n",
    "plt.ylabel('Frequency', fontsize=14)\n",
    "plt.title(f'Histogram of current speeds at coral data points', fontsize=16)\n",
    "plt.grid(True, linestyle='--', linewidth=0.5, alpha=0.7)  # Main grid\n",
    "plt.minorticks_on()  # Enable minor ticks\n",
    "plt.grid(which='minor', linestyle=':', linewidth=0.4, alpha=0.5)  # Finer minor grid\n",
    "\n",
    "plt.savefig(f'/cluster/home/maikents/current_speed_histogram_coral_points_midnor.png')\n",
    " \n",
    "plt.show()"
   ]
  },
  {
   "cell_type": "code",
   "execution_count": 28,
   "id": "ace01201-159a-4911-b10e-3cace978978c",
   "metadata": {},
   "outputs": [
    {
     "data": {
      "image/png": "[encoded data removed]",
      "text/plain": [
       "<Figure size 640x480 with 1 Axes>"
      ]
     },
     "metadata": {},
     "output_type": "display_data"
    }
   ],
   "source": [
    "#Plot histogram of the depth midnor\n",
    "plt.hist(depth_midnor, bins=bin_edges, edgecolor='black')\n",
    "plt.xlabel('Depth [layer index]', fontsize=14)\n",
    "plt.ylabel('Frequency', fontsize=14)\n",
    "plt.title(f'Histogram of depth at coral data points', fontsize=16)\n",
    "plt.grid(True, linestyle='--', linewidth=0.5, alpha=0.7)  # Main grid\n",
    "plt.minorticks_on()  # Enable minor ticks\n",
    "plt.grid(which='minor', linestyle=':', linewidth=0.4, alpha=0.5)  # Finer minor grid\n",
    "\n",
    "plt.savefig(f'/cluster/home/maikents/depth_histogram_coral_points_midnor.png')\n",
    " \n",
    "plt.show()"
   ]
  },
  {
   "cell_type": "code",
   "execution_count": 30,
   "id": "e5cd45ad-7480-468d-8545-9186b42eeadd",
   "metadata": {},
   "outputs": [
    {
     "name": "stdout",
     "output_type": "stream",
     "text": [
      "   current speeds\n",
      "0        0.051808\n",
      "1             NaN\n",
      "2        0.014002\n",
      "3        0.117651\n",
      "4        0.158672\n",
      "   current speeds\n",
      "0        0.051810\n",
      "1             NaN\n",
      "2        0.013868\n",
      "3        0.077517\n",
      "4        0.000000\n"
     ]
    }
   ],
   "source": [
    "#Calculating statistical significance of results\n",
    "\n",
    "hourly_current_speed = pd.read_csv(\"current_speed_hourly.csv\")\n",
    "print(hourly_current_speed.head())\n",
    "print(current_speed_midnor_2019.head())     \n"
   ]
  },
  {
   "cell_type": "code",
   "execution_count": 32,
   "id": "e3ebf6cd-a2a9-4a61-9d2c-3430849f3b07",
   "metadata": {},
   "outputs": [],
   "source": [
    "hourly_current_speed = hourly_current_speed.dropna()\n",
    "current_speed_midnor_2019 = current_speed_midnor_2019.dropna()"
   ]
  },
  {
   "cell_type": "code",
   "execution_count": 34,
   "id": "9b5069ce-0095-42ea-8a32-a599ef31e0cb",
   "metadata": {},
   "outputs": [
    {
     "name": "stdout",
     "output_type": "stream",
     "text": [
      "Hourly current speed: p-value = 1.0848101384792317e-169\n",
      "24-Hourly current speed: p-value = 1.779195775524983e-141\n"
     ]
    },
    {
     "name": "stderr",
     "output_type": "stream",
     "text": [
      "/cluster/home/maikents/PyEnvCoralMapping/lib/python3.12/site-packages/scipy/stats/_axis_nan_policy.py:573: UserWarning: scipy.stats.shapiro: For N > 5000, computed p-value may not be accurate. Current N is 336895.\n",
      "  res = hypotest_fun_out(*samples, **kwds)\n"
     ]
    }
   ],
   "source": [
    "stat_hourly, p_hourly = shapiro(hourly_current_speed['current speeds']) \n",
    "print(f\"Hourly current speed: p-value = {p_hourly}\")\n",
    "\n",
    "stat_24, p_24 = shapiro(current_speed_midnor_2019['current speeds'])  \n",
    "print(f\"24-Hourly current speed: p-value = {p_24}\")\n",
    "\n",
    "#If p > 0.05, the data is likely normally distributed.\n",
    "#If p ≤ 0.05, the data is not normally distributed."
   ]
  },
  {
   "cell_type": "code",
   "execution_count": 38,
   "id": "34960796-7277-41be-a53f-5d1d44c0b517",
   "metadata": {},
   "outputs": [
    {
     "name": "stdout",
     "output_type": "stream",
     "text": [
      "Mann-Whitney U test: U = 1517597563748.0, p = 0.0\n"
     ]
    }
   ],
   "source": [
    "from scipy.stats import mannwhitneyu\n",
    "\n",
    "stat, p_val = mannwhitneyu(hourly_current_speed['current speeds'], current_speed_midnor_2019['current speeds'], alternative='two-sided')\n",
    "print(f\"Mann-Whitney U test: U = {stat}, p = {p_val}\")\n"
   ]
  },
  {
   "cell_type": "code",
   "execution_count": 41,
   "id": "b39a450c-adf2-422c-b9bd-17ccca8875c9",
   "metadata": {},
   "outputs": [
    {
     "name": "stdout",
     "output_type": "stream",
     "text": [
      "0    0.051810\n",
      "2    0.013868\n",
      "3    0.077517\n",
      "4    0.000000\n",
      "5    0.024589\n",
      "Name: current speeds, dtype: float32\n"
     ]
    }
   ],
   "source": [
    "print(current_speed_midnor_2019['current speeds'].head())"
   ]
  },
  {
   "cell_type": "code",
   "execution_count": 43,
   "id": "143ca582-b8e4-4e45-b975-5d5332816e31",
   "metadata": {},
   "outputs": [
    {
     "name": "stdout",
     "output_type": "stream",
     "text": [
      "0    0.051808\n",
      "2    0.014002\n",
      "3    0.117651\n",
      "4    0.158672\n",
      "5    0.024662\n",
      "Name: current speeds, dtype: float64\n"
     ]
    }
   ],
   "source": [
    "print(hourly_current_speed['current speeds'].head())"
   ]
  },
  {
   "cell_type": "code",
   "execution_count": 5,
   "id": "7aa2bf69-a3a8-4f11-9ef5-9d604b24fe72",
   "metadata": {},
   "outputs": [],
   "source": [
    "import pandas as pd"
   ]
  },
  {
   "cell_type": "code",
   "execution_count": 6,
   "id": "fc4e8bf9-4c31-4475-98c1-4e2eb9227b3d",
   "metadata": {},
   "outputs": [],
   "source": [
    "hourly = pd.read_csv(\"current_speed_hourly.csv\")\n",
    "daily = pd.read_csv(\"current_speed_24hourly.csv\")"
   ]
  },
  {
   "cell_type": "code",
   "execution_count": 7,
   "id": "5e514d49-f13b-4e8b-bdbc-876ed94f7a7e",
   "metadata": {},
   "outputs": [],
   "source": [
    "import scipy.stats as stats\n"
   ]
  },
  {
   "cell_type": "code",
   "execution_count": 53,
   "id": "59369730-11d1-4dac-8afb-48c12a299f1b",
   "metadata": {},
   "outputs": [
    {
     "name": "stdout",
     "output_type": "stream",
     "text": [
      "   current speeds\n",
      "0        0.051808\n",
      "1             NaN\n",
      "2        0.014002\n",
      "3        0.117651\n",
      "4        0.158672\n"
     ]
    }
   ],
   "source": [
    "print(hourly.head())"
   ]
  },
  {
   "cell_type": "code",
   "execution_count": 9,
   "id": "71759001-86fd-4634-97a7-dbf072e79626",
   "metadata": {},
   "outputs": [
    {
     "name": "stdout",
     "output_type": "stream",
     "text": [
      "p-value: 0.0000000000000000\n",
      "KS Statistic: 0.11352851307582354\n",
      "p-value: 0.0\n",
      "Reject the null hypothesis: The distributions are different.\n"
     ]
    }
   ],
   "source": [
    "#Kolmogorov-Smirnov (KS) test\n",
    "\n",
    "ks_stat, p_value = stats.ks_2samp(hourly[\"current speeds\"].dropna(), daily[\"current speeds\"].dropna())\n",
    "print(f\"p-value: {p_value:.16f}\") \n",
    "\n",
    "print(f\"KS Statistic: {ks_stat}\")\n",
    "print(f\"p-value: {p_value}\")\n",
    "\n",
    "alpha = 0.05  #Significance level\n",
    "if p_value < alpha:\n",
    "    print(\"Reject the null hypothesis: The distributions are different.\")\n",
    "else:\n",
    "    print(\"Fail to reject the null hypothesis: The distributions are similar.\")\n"
   ]
  },
  {
   "cell_type": "code",
   "execution_count": null,
   "id": "c9134010-7b46-4d26-8e82-da542b3580c2",
   "metadata": {},
   "outputs": [],
   "source": [
    "#Anderson-Darling Test\n",
    "result = stats.anderson_ksamp([hourly[\"current speeds\"].dropna(), daily[\"current speeds\"].dropna()], method=stats.PermutationMethod())\n",
    "\n",
    "print(f\"AD Statistic: {result.statistic:.16f}\")\n",
    "print(f\"p-value: {result.pvalue:.16f}\")  \n",
    "alpha = 0.05  # Significance level\n",
    "if result.pvalue < alpha:\n",
    "    print(\"Reject the null hypothesis: The distributions are different.\")\n",
    "else:\n",
    "    print(\"Fail to reject the null hypothesis: The distributions are similar.\")\n"
   ]
  },
  {
   "cell_type": "code",
   "execution_count": 8,
   "id": "0416bf0a-9817-42ad-82ca-a29edee91eed",
   "metadata": {},
   "outputs": [
    {
     "name": "stdout",
     "output_type": "stream",
     "text": [
      "U Statistic: 1517600093209.5\n",
      "P-value: 0.0000000000000000\n",
      "Reject the null hypothesis: The distributions are different.\n"
     ]
    }
   ],
   "source": [
    "import scipy.stats as stats\n",
    "\n",
    "#Mann-Whitney U Test\n",
    "u_stat, p_value = stats.mannwhitneyu(hourly[\"current speeds\"].dropna(), daily[\"current speeds\"].dropna(), alternative=\"two-sided\")\n",
    "\n",
    "print(f\"U Statistic: {u_stat}\")\n",
    "print(f\"P-value: {p_value:.16f}\")\n",
    "\n",
    "alpha = 0.05  # Significance level\n",
    "if p_value < alpha:\n",
    "    print(\"Reject the null hypothesis: The distributions are different.\")\n",
    "else:\n",
    "    print(\"Fail to reject the null hypothesis: The distributions are similar.\")\n"
   ]
  },
  {
   "cell_type": "code",
   "execution_count": 11,
   "id": "0e4a46a5-ff5a-42ab-b359-443caf0c6fad",
   "metadata": {},
   "outputs": [
    {
     "name": "stdout",
     "output_type": "stream",
     "text": [
      "['time', 'grid_mapping', 'LayerDepths', 'xc', 'yc', 'zc', 'depth', 'DXxDYy', 'gridLats', 'gridLons', 'u_velocity', 'v_velocity', 'temperature', 'salinity', 'elevation', 'u-wind', 'v-wind', 'u-bottom', 'v-bottom', 'ice_thickness', 'ice_compactness', 'u_ice', 'v_ice', 'salinity_ice', 'ice_melt_rate', 'ice_prod_rate', 'IceVFluxX', 'IceVFluxY', 'IceAFluxX', 'IceAFluxY']\n"
     ]
    }
   ],
   "source": [
    "print(list(jan_jun.variables))\n",
    "#jun_aug \n",
    "#sep_dec"
   ]
  },
  {
   "cell_type": "code",
   "execution_count": 9,
   "id": "26ba593f-cec7-4a71-b595-9ad1a450bf90",
   "metadata": {},
   "outputs": [
    {
     "name": "stdout",
     "output_type": "stream",
     "text": [
      "Processing from time index 0 to 1999\n",
      "Grid size: xc_max=950, yc_max=555\n",
      "\n",
      "Total execution time: 2998.187395 seconds\n",
      "Time step 0, Point 0 (x=705, y=179) - 1.428796 sec\n",
      "Time step 0, Point 1 (x=612, y=44) - 0.021123 sec\n",
      "Time step 0, Point 2 (x=528, y=176) - 0.016312 sec\n",
      "Time step 0, Point 3 (x=637, y=157) - 0.008257 sec\n",
      "Time step 0, Point 4 (x=586, y=182) - 0.002076 sec\n",
      "Time step 0, Point 5 (x=744, y=138) - 0.005856 sec\n",
      "Time step 0, Point 6 (x=582, y=113) - 0.007947 sec\n",
      "Time step 0, Point 7 (x=631, y=169) - 0.002037 sec\n",
      "Time step 0, Point 8 (x=584, y=71) - 0.002144 sec\n",
      "Time step 0, Point 9 (x=571, y=179) - 0.001559 sec\n"
     ]
    }
   ],
   "source": [
    "#Statistical northness\n",
    "hor_res = jan_jun.grid_mapping.attrs['horizontal_resolution']\n",
    "t_start, t_stop = (0, 2000)  # (0, len(jun_aug.variables['time']))\n",
    "coral_values_jan_jun = []\n",
    "valid_coords_jan_jun = []\n",
    "xc_max = jan_jun.variables['xc'].shape[0]\n",
    "yc_max = jan_jun.variables['yc'].shape[0]\n",
    "longitude_of_projection_origin = jan_jun.grid_mapping.attrs['longitude_of_projection_origin']\n",
    "\n",
    "timing_results = []\n",
    "start_total = time.perf_counter()  # Track total execution time\n",
    "\n",
    "print(f\"Processing from time index {t_start} to {t_stop-1}\")\n",
    "print(f\"Grid size: xc_max={xc_max}, yc_max={yc_max}\")\n",
    "\n",
    "for time_idx in range(t_start, t_stop):\n",
    "    start_time = time.perf_counter()\n",
    "    #print(f\"\\nProcessing timestep {time_idx}...\")\n",
    "\n",
    "    # Precompute x and y indices\n",
    "    x_indices = np.clip(np.round(coral_data['x'] / hor_res).astype(int), 0, xc_max - 1)\n",
    "    y_indices = np.clip(np.round(coral_data['y'] / hor_res).astype(int), 0, yc_max - 1)\n",
    "\n",
    "    #print(f\"Total coral points: {len(x_indices)}\")\n",
    "    \n",
    "    for i, (x, y) in enumerate(zip(x_indices, y_indices)):\n",
    "        step_start = time.perf_counter()\n",
    "\n",
    "        # Check if indices are within bounds\n",
    "        if 0 <= x < xc_max and 0 <= y < yc_max:\n",
    "            longitude_at_point = jan_jun.variables['gridLons'][y,x]\n",
    "            theta = longitude_at_point - longitude_of_projection_origin\n",
    "            eastward_velocity = jan_jun.variables['u_velocity'][time_idx, y, x] * np.cos(np.deg2rad(theta)) - jan_jun.variables['v_velocity'][time_idx, y, x] * np.sin(np.deg2rad(theta))\n",
    "            northward_velocity = jan_jun.variables['u_velocity'][time_idx, y, x] * np.sin(np.deg2rad(theta)) + jan_jun.variables['v_velocity'][time_idx, y, x] * np.cos(np.deg2rad(theta))\n",
    "            aspect = np.arctan2(eastward_velocity, northward_velocity)\n",
    "                    #if variable_name == 'statistical_eastness':\n",
    "                        #value = np.sin(aspect)\n",
    "    \n",
    "            value = np.cos(aspect)\n",
    "               \n",
    "            if not np.ma.is_masked(value):\n",
    "                coral_values_jan_jun.append(value)\n",
    "            else:\n",
    "                print(f\"Skipping masked value at ({x}, {y})\")\n",
    "        else:\n",
    "            print(f\"Skipping out-of-bounds point: x={x}, y={y}\")\n",
    "\n",
    "        step_end = time.perf_counter()\n",
    "        timing_results.append(f\"Time step {time_idx}, Point {i} (x={x}, y={y}) - {step_end - step_start:.6f} sec\")\n",
    "\n",
    "    end_time = time.perf_counter()\n",
    "\n",
    "end_total = time.perf_counter()\n",
    "print(f\"\\nTotal execution time: {end_total - start_total:.6f} seconds\")\n",
    "\n",
    "# Optional: Print or save timing results\n",
    "for result in timing_results[:10]:  # Print only first 10 to avoid too much output\n",
    "    print(result)"
   ]
  },
  {
   "cell_type": "code",
   "execution_count": 6,
   "id": "1d96de4c-a5da-44fa-8ebb-af6924d24cfc",
   "metadata": {},
   "outputs": [
    {
     "name": "stdout",
     "output_type": "stream",
     "text": [
      "Processing from time index 0 to 1999\n",
      "Grid size: xc_max=950, yc_max=555\n",
      "\n",
      "Total execution time: 2942.299924 seconds\n",
      "Time step 0, Point 0 (x=705, y=179) - 1.567925 sec\n",
      "Time step 0, Point 1 (x=612, y=44) - 0.011883 sec\n",
      "Time step 0, Point 2 (x=528, y=176) - 0.017376 sec\n",
      "Time step 0, Point 3 (x=637, y=157) - 0.033437 sec\n",
      "Time step 0, Point 4 (x=586, y=182) - 0.002362 sec\n",
      "Time step 0, Point 5 (x=744, y=138) - 0.005695 sec\n",
      "Time step 0, Point 6 (x=582, y=113) - 0.007921 sec\n",
      "Time step 0, Point 7 (x=631, y=169) - 0.002275 sec\n",
      "Time step 0, Point 8 (x=584, y=71) - 0.002474 sec\n",
      "Time step 0, Point 9 (x=571, y=179) - 0.001581 sec\n"
     ]
    }
   ],
   "source": [
    "#Statistical eastness\n",
    "hor_res = jan_jun.grid_mapping.attrs['horizontal_resolution']\n",
    "t_start, t_stop = (0, 2000)  # (0, len(jun_aug.variables['time']))\n",
    "coral_values_jan_jun = []\n",
    "valid_coords_jan_jun = []\n",
    "xc_max = jan_jun.variables['xc'].shape[0]\n",
    "yc_max = jan_jun.variables['yc'].shape[0]\n",
    "longitude_of_projection_origin = jan_jun.grid_mapping.attrs['longitude_of_projection_origin']\n",
    "\n",
    "timing_results = []\n",
    "start_total = time.perf_counter()  # Track total execution time\n",
    "\n",
    "print(f\"Processing from time index {t_start} to {t_stop-1}\")\n",
    "print(f\"Grid size: xc_max={xc_max}, yc_max={yc_max}\")\n",
    "\n",
    "for time_idx in range(t_start, t_stop):\n",
    "    start_time = time.perf_counter()\n",
    "    #print(f\"\\nProcessing timestep {time_idx}...\")\n",
    "\n",
    "    # Precompute x and y indices\n",
    "    x_indices = np.clip(np.round(coral_data['x'] / hor_res).astype(int), 0, xc_max - 1)\n",
    "    y_indices = np.clip(np.round(coral_data['y'] / hor_res).astype(int), 0, yc_max - 1)\n",
    "\n",
    "    #print(f\"Total coral points: {len(x_indices)}\")\n",
    "    \n",
    "    for i, (x, y) in enumerate(zip(x_indices, y_indices)):\n",
    "        step_start = time.perf_counter()\n",
    "\n",
    "        # Check if indices are within bounds\n",
    "        if 0 <= x < xc_max and 0 <= y < yc_max:\n",
    "            longitude_at_point = jan_jun.variables['gridLons'][y,x]\n",
    "            theta = longitude_at_point - longitude_of_projection_origin\n",
    "            eastward_velocity = jan_jun.variables['u_velocity'][time_idx, y, x] * np.cos(np.deg2rad(theta)) - jan_jun.variables['v_velocity'][time_idx, y, x] * np.sin(np.deg2rad(theta))\n",
    "            northward_velocity = jan_jun.variables['u_velocity'][time_idx, y, x] * np.sin(np.deg2rad(theta)) + jan_jun.variables['v_velocity'][time_idx, y, x] * np.cos(np.deg2rad(theta))\n",
    "            aspect = np.arctan2(eastward_velocity, northward_velocity)\n",
    "                    #if variable_name == 'statistical_eastness':\n",
    "                        #value = np.sin(aspect)\n",
    "    \n",
    "            value = np.sin(aspect)\n",
    "               \n",
    "            if not np.ma.is_masked(value):\n",
    "                coral_values_jan_jun.append(value)\n",
    "            else:\n",
    "                print(f\"Skipping masked value at ({x}, {y})\")\n",
    "        else:\n",
    "            print(f\"Skipping out-of-bounds point: x={x}, y={y}\")\n",
    "\n",
    "        step_end = time.perf_counter()\n",
    "        timing_results.append(f\"Time step {time_idx}, Point {i} (x={x}, y={y}) - {step_end - step_start:.6f} sec\")\n",
    "\n",
    "    end_time = time.perf_counter()\n",
    "\n",
    "end_total = time.perf_counter()\n",
    "print(f\"\\nTotal execution time: {end_total - start_total:.6f} seconds\")\n",
    "\n",
    "# Optional: Print or save timing results\n",
    "for result in timing_results[:10]:  # Print only first 10 to avoid too much output\n",
    "    print(result)"
   ]
  },
  {
   "cell_type": "code",
   "execution_count": 6,
   "id": "314b9a23-95f5-484b-90cb-78ce140a342a",
   "metadata": {
    "jupyter": {
     "source_hidden": true
    }
   },
   "outputs": [
    {
     "name": "stdout",
     "output_type": "stream",
     "text": [
      "Processing from time index 2001 to 3840\n",
      "Grid size: xc_max=950, yc_max=555\n",
      "\n",
      "Total execution time: 4751.304636 seconds\n",
      "Time step 2001, Point 0 (x=705, y=179) - 0.072793 sec\n",
      "Time step 2001, Point 1 (x=612, y=44) - 0.002924 sec\n",
      "Time step 2001, Point 2 (x=528, y=176) - 0.002877 sec\n",
      "Time step 2001, Point 3 (x=637, y=157) - 0.002855 sec\n",
      "Time step 2001, Point 4 (x=586, y=182) - 0.002755 sec\n",
      "Time step 2001, Point 5 (x=744, y=138) - 0.002770 sec\n",
      "Time step 2001, Point 6 (x=582, y=113) - 0.002680 sec\n",
      "Time step 2001, Point 7 (x=631, y=169) - 0.002771 sec\n",
      "Time step 2001, Point 8 (x=584, y=71) - 0.002801 sec\n",
      "Time step 2001, Point 9 (x=571, y=179) - 0.002706 sec\n"
     ]
    }
   ],
   "source": [
    "#Statistical northness\n",
    "hor_res = jan_jun.grid_mapping.attrs['horizontal_resolution']\n",
    "t_start, t_stop = (2001, len(jan_jun.variables['time']))  # (0, len(jun_aug.variables['time']))\n",
    "coral_values_jan_jun2 = []\n",
    "valid_coords_jan_jun2 = []\n",
    "xc_max = jan_jun.variables['xc'].shape[0]\n",
    "yc_max = jan_jun.variables['yc'].shape[0]\n",
    "longitude_of_projection_origin = jan_jun.grid_mapping.attrs['longitude_of_projection_origin']\n",
    "\n",
    "timing_results = []\n",
    "start_total = time.perf_counter()  # Track total execution time\n",
    "\n",
    "print(f\"Processing from time index {t_start} to {t_stop-1}\")\n",
    "print(f\"Grid size: xc_max={xc_max}, yc_max={yc_max}\")\n",
    "\n",
    "for time_idx in range(t_start, t_stop):\n",
    "    start_time = time.perf_counter()\n",
    "    #print(f\"\\nProcessing timestep {time_idx}...\")\n",
    "\n",
    "    # Precompute x and y indices\n",
    "    x_indices = np.clip(np.round(coral_data['x'] / hor_res).astype(int), 0, xc_max - 1)\n",
    "    y_indices = np.clip(np.round(coral_data['y'] / hor_res).astype(int), 0, yc_max - 1)\n",
    "\n",
    "    #print(f\"Total coral points: {len(x_indices)}\")\n",
    "    \n",
    "    for i, (x, y) in enumerate(zip(x_indices, y_indices)):\n",
    "        step_start = time.perf_counter()\n",
    "\n",
    "        # Check if indices are within bounds\n",
    "        if 0 <= x < xc_max and 0 <= y < yc_max:\n",
    "            longitude_at_point = jan_jun.variables['gridLons'][y,x]\n",
    "            theta = longitude_at_point - longitude_of_projection_origin\n",
    "            eastward_velocity = jan_jun.variables['u_velocity'][time_idx, y, x] * np.cos(np.deg2rad(theta)) - jan_jun.variables['v_velocity'][time_idx, y, x] * np.sin(np.deg2rad(theta))\n",
    "            northward_velocity = jan_jun.variables['u_velocity'][time_idx, y, x] * np.sin(np.deg2rad(theta)) + jan_jun.variables['v_velocity'][time_idx, y, x] * np.cos(np.deg2rad(theta))\n",
    "            aspect = np.arctan2(eastward_velocity, northward_velocity)\n",
    "                    #if variable_name == 'statistical_eastness':\n",
    "                        #value = np.sin(aspect)\n",
    "    \n",
    "            value = np.cos(aspect)\n",
    "               \n",
    "            if not np.ma.is_masked(value):\n",
    "                coral_values_jan_jun2.append(value)\n",
    "            else:\n",
    "                print(f\"Skipping masked value at ({x}, {y})\")\n",
    "        else:\n",
    "            print(f\"Skipping out-of-bounds point: x={x}, y={y}\")\n",
    "\n",
    "        step_end = time.perf_counter()\n",
    "        timing_results.append(f\"Time step {time_idx}, Point {i} (x={x}, y={y}) - {step_end - step_start:.6f} sec\")\n",
    "\n",
    "    end_time = time.perf_counter()\n",
    "\n",
    "end_total = time.perf_counter()\n",
    "print(f\"\\nTotal execution time: {end_total - start_total:.6f} seconds\")\n",
    "\n",
    "# Optional: Print or save timing results\n",
    "for result in timing_results[:10]:  # Print only first 10 to avoid too much output\n",
    "    print(result)"
   ]
  },
  {
   "cell_type": "code",
   "execution_count": 7,
   "id": "faae0b0d-19b9-4176-b29e-e81e076ed72f",
   "metadata": {},
   "outputs": [
    {
     "name": "stdout",
     "output_type": "stream",
     "text": [
      "Processing from time index 2001 to 3840\n",
      "Grid size: xc_max=950, yc_max=555\n",
      "\n",
      "Total execution time: 2645.040694 seconds\n",
      "Time step 2001, Point 0 (x=705, y=179) - 0.050116 sec\n",
      "Time step 2001, Point 1 (x=612, y=44) - 0.001625 sec\n",
      "Time step 2001, Point 2 (x=528, y=176) - 0.001626 sec\n",
      "Time step 2001, Point 3 (x=637, y=157) - 0.001566 sec\n",
      "Time step 2001, Point 4 (x=586, y=182) - 0.001546 sec\n",
      "Time step 2001, Point 5 (x=744, y=138) - 0.001520 sec\n",
      "Time step 2001, Point 6 (x=582, y=113) - 0.001549 sec\n",
      "Time step 2001, Point 7 (x=631, y=169) - 0.001527 sec\n",
      "Time step 2001, Point 8 (x=584, y=71) - 0.001521 sec\n",
      "Time step 2001, Point 9 (x=571, y=179) - 0.001496 sec\n"
     ]
    }
   ],
   "source": [
    "#Statistical eastness\n",
    "hor_res = jan_jun.grid_mapping.attrs['horizontal_resolution']\n",
    "t_start, t_stop = (2001, len(jan_jun.variables['time']))  # (0, len(jun_aug.variables['time']))\n",
    "coral_values_jan_jun2 = []\n",
    "valid_coords_jan_jun2 = []\n",
    "xc_max = jan_jun.variables['xc'].shape[0]\n",
    "yc_max = jan_jun.variables['yc'].shape[0]\n",
    "longitude_of_projection_origin = jan_jun.grid_mapping.attrs['longitude_of_projection_origin']\n",
    "\n",
    "timing_results = []\n",
    "start_total = time.perf_counter()  # Track total execution time\n",
    "\n",
    "print(f\"Processing from time index {t_start} to {t_stop-1}\")\n",
    "print(f\"Grid size: xc_max={xc_max}, yc_max={yc_max}\")\n",
    "\n",
    "for time_idx in range(t_start, t_stop):\n",
    "    start_time = time.perf_counter()\n",
    "    #print(f\"\\nProcessing timestep {time_idx}...\")\n",
    "\n",
    "    # Precompute x and y indices\n",
    "    x_indices = np.clip(np.round(coral_data['x'] / hor_res).astype(int), 0, xc_max - 1)\n",
    "    y_indices = np.clip(np.round(coral_data['y'] / hor_res).astype(int), 0, yc_max - 1)\n",
    "\n",
    "    #print(f\"Total coral points: {len(x_indices)}\")\n",
    "    \n",
    "    for i, (x, y) in enumerate(zip(x_indices, y_indices)):\n",
    "        step_start = time.perf_counter()\n",
    "\n",
    "        # Check if indices are within bounds\n",
    "        if 0 <= x < xc_max and 0 <= y < yc_max:\n",
    "            longitude_at_point = jan_jun.variables['gridLons'][y,x]\n",
    "            theta = longitude_at_point - longitude_of_projection_origin\n",
    "            eastward_velocity = jan_jun.variables['u_velocity'][time_idx, y, x] * np.cos(np.deg2rad(theta)) - jan_jun.variables['v_velocity'][time_idx, y, x] * np.sin(np.deg2rad(theta))\n",
    "            northward_velocity = jan_jun.variables['u_velocity'][time_idx, y, x] * np.sin(np.deg2rad(theta)) + jan_jun.variables['v_velocity'][time_idx, y, x] * np.cos(np.deg2rad(theta))\n",
    "            aspect = np.arctan2(eastward_velocity, northward_velocity)\n",
    "                    #if variable_name == 'statistical_eastness':\n",
    "                        #value = np.sin(aspect)\n",
    "    \n",
    "            value = np.sin(aspect)\n",
    "               \n",
    "            if not np.ma.is_masked(value):\n",
    "                coral_values_jan_jun2.append(value)\n",
    "            else:\n",
    "                print(f\"Skipping masked value at ({x}, {y})\")\n",
    "        else:\n",
    "            print(f\"Skipping out-of-bounds point: x={x}, y={y}\")\n",
    "\n",
    "        step_end = time.perf_counter()\n",
    "        timing_results.append(f\"Time step {time_idx}, Point {i} (x={x}, y={y}) - {step_end - step_start:.6f} sec\")\n",
    "\n",
    "    end_time = time.perf_counter()\n",
    "\n",
    "end_total = time.perf_counter()\n",
    "print(f\"\\nTotal execution time: {end_total - start_total:.6f} seconds\")\n",
    "\n",
    "# Optional: Print or save timing results\n",
    "for result in timing_results[:10]:  # Print only first 10 to avoid too much output\n",
    "    print(result)"
   ]
  },
  {
   "cell_type": "code",
   "execution_count": 11,
   "id": "eda9048d-a3a7-4686-80d7-2f2ba4ca4359",
   "metadata": {
    "jupyter": {
     "source_hidden": true
    }
   },
   "outputs": [
    {
     "name": "stdout",
     "output_type": "stream",
     "text": [
      "Processing from time index 0 to 2013\n",
      "Grid size: xc_max=950, yc_max=555\n",
      "\n",
      "Total execution time: 2919.113083 seconds\n",
      "Time step 0, Point 0 (x=705, y=179) - 0.725049 sec\n",
      "Time step 0, Point 1 (x=612, y=44) - 0.019285 sec\n",
      "Time step 0, Point 2 (x=528, y=176) - 0.023369 sec\n",
      "Time step 0, Point 3 (x=637, y=157) - 0.004655 sec\n",
      "Time step 0, Point 4 (x=586, y=182) - 0.002158 sec\n",
      "Time step 0, Point 5 (x=744, y=138) - 0.009426 sec\n",
      "Time step 0, Point 6 (x=582, y=113) - 0.004268 sec\n",
      "Time step 0, Point 7 (x=631, y=169) - 0.001978 sec\n",
      "Time step 0, Point 8 (x=584, y=71) - 0.002145 sec\n",
      "Time step 0, Point 9 (x=571, y=179) - 0.001576 sec\n"
     ]
    }
   ],
   "source": [
    "#Statistical northness\n",
    "hor_res = jun_aug.grid_mapping.attrs['horizontal_resolution']\n",
    "t_start, t_stop = (0, len(jun_aug.variables['time']))  # (0, len(jun_aug.variables['time']))\n",
    "coral_values_jun_aug = []\n",
    "valid_coords_jun_aug = []\n",
    "xc_max = jun_aug.variables['xc'].shape[0]\n",
    "yc_max = jun_aug.variables['yc'].shape[0]\n",
    "longitude_of_projection_origin = jun_aug.grid_mapping.attrs['longitude_of_projection_origin']\n",
    "\n",
    "timing_results = []\n",
    "start_total = time.perf_counter()  # Track total execution time\n",
    "\n",
    "print(f\"Processing from time index {t_start} to {t_stop-1}\")\n",
    "print(f\"Grid size: xc_max={xc_max}, yc_max={yc_max}\")\n",
    "\n",
    "for time_idx in range(t_start, t_stop):\n",
    "    start_time = time.perf_counter()\n",
    "    #print(f\"\\nProcessing timestep {time_idx}...\")\n",
    "\n",
    "    # Precompute x and y indices\n",
    "    x_indices = np.clip(np.round(coral_data['x'] / hor_res).astype(int), 0, xc_max - 1)\n",
    "    y_indices = np.clip(np.round(coral_data['y'] / hor_res).astype(int), 0, yc_max - 1)\n",
    "\n",
    "    #print(f\"Total coral points: {len(x_indices)}\")\n",
    "    \n",
    "    for i, (x, y) in enumerate(zip(x_indices, y_indices)):\n",
    "        step_start = time.perf_counter()\n",
    "\n",
    "        # Check if indices are within bounds\n",
    "        if 0 <= x < xc_max and 0 <= y < yc_max:\n",
    "            longitude_at_point = jun_aug.variables['gridLons'][y,x]\n",
    "            theta = longitude_at_point - longitude_of_projection_origin\n",
    "            eastward_velocity = jun_aug.variables['u_velocity'][time_idx, y, x] * np.cos(np.deg2rad(theta)) - jun_aug.variables['v_velocity'][time_idx, y, x] * np.sin(np.deg2rad(theta))\n",
    "            northward_velocity = jun_aug.variables['u_velocity'][time_idx, y, x] * np.sin(np.deg2rad(theta)) + jun_aug.variables['v_velocity'][time_idx, y, x] * np.cos(np.deg2rad(theta))\n",
    "            aspect = np.arctan2(eastward_velocity, northward_velocity)\n",
    "                    #if variable_name == 'statistical_eastness':\n",
    "                        #value = np.sin(aspect)\n",
    "    \n",
    "            value = np.cos(aspect)\n",
    "               \n",
    "            if not np.ma.is_masked(value):\n",
    "                coral_values_jun_aug.append(value)\n",
    "            else:\n",
    "                print(f\"Skipping masked value at ({x}, {y})\")\n",
    "        else:\n",
    "            print(f\"Skipping out-of-bounds point: x={x}, y={y}\")\n",
    "\n",
    "        step_end = time.perf_counter()\n",
    "        timing_results.append(f\"Time step {time_idx}, Point {i} (x={x}, y={y}) - {step_end - step_start:.6f} sec\")\n",
    "\n",
    "    end_time = time.perf_counter()\n",
    "\n",
    "end_total = time.perf_counter()\n",
    "print(f\"\\nTotal execution time: {end_total - start_total:.6f} seconds\")\n",
    "\n",
    "# Optional: Print or save timing results\n",
    "for result in timing_results[:10]:  # Print only first 10 to avoid too much output\n",
    "    print(result)"
   ]
  },
  {
   "cell_type": "code",
   "execution_count": 8,
   "id": "aa674aa8-966b-4b5a-a726-3e8e07dd8ca3",
   "metadata": {},
   "outputs": [
    {
     "name": "stdout",
     "output_type": "stream",
     "text": [
      "Processing from time index 0 to 2013\n",
      "Grid size: xc_max=950, yc_max=555\n",
      "\n",
      "Total execution time: 2937.174884 seconds\n",
      "Time step 0, Point 0 (x=705, y=179) - 0.158154 sec\n",
      "Time step 0, Point 1 (x=612, y=44) - 0.020588 sec\n",
      "Time step 0, Point 2 (x=528, y=176) - 0.019535 sec\n",
      "Time step 0, Point 3 (x=637, y=157) - 0.008413 sec\n",
      "Time step 0, Point 4 (x=586, y=182) - 0.002284 sec\n",
      "Time step 0, Point 5 (x=744, y=138) - 0.022266 sec\n",
      "Time step 0, Point 6 (x=582, y=113) - 0.007945 sec\n",
      "Time step 0, Point 7 (x=631, y=169) - 0.002251 sec\n",
      "Time step 0, Point 8 (x=584, y=71) - 0.002342 sec\n",
      "Time step 0, Point 9 (x=571, y=179) - 0.001483 sec\n"
     ]
    }
   ],
   "source": [
    "#Statistical eastness\n",
    "hor_res = jun_aug.grid_mapping.attrs['horizontal_resolution']\n",
    "t_start, t_stop = (0, len(jun_aug.variables['time']))  # (0, len(jun_aug.variables['time']))\n",
    "coral_values_jun_aug = []\n",
    "valid_coords_jun_aug = []\n",
    "xc_max = jun_aug.variables['xc'].shape[0]\n",
    "yc_max = jun_aug.variables['yc'].shape[0]\n",
    "longitude_of_projection_origin = jun_aug.grid_mapping.attrs['longitude_of_projection_origin']\n",
    "\n",
    "timing_results = []\n",
    "start_total = time.perf_counter()  # Track total execution time\n",
    "\n",
    "print(f\"Processing from time index {t_start} to {t_stop-1}\")\n",
    "print(f\"Grid size: xc_max={xc_max}, yc_max={yc_max}\")\n",
    "\n",
    "for time_idx in range(t_start, t_stop):\n",
    "    start_time = time.perf_counter()\n",
    "    #print(f\"\\nProcessing timestep {time_idx}...\")\n",
    "\n",
    "    # Precompute x and y indices\n",
    "    x_indices = np.clip(np.round(coral_data['x'] / hor_res).astype(int), 0, xc_max - 1)\n",
    "    y_indices = np.clip(np.round(coral_data['y'] / hor_res).astype(int), 0, yc_max - 1)\n",
    "\n",
    "    #print(f\"Total coral points: {len(x_indices)}\")\n",
    "    \n",
    "    for i, (x, y) in enumerate(zip(x_indices, y_indices)):\n",
    "        step_start = time.perf_counter()\n",
    "\n",
    "        # Check if indices are within bounds\n",
    "        if 0 <= x < xc_max and 0 <= y < yc_max:\n",
    "            longitude_at_point = jun_aug.variables['gridLons'][y,x]\n",
    "            theta = longitude_at_point - longitude_of_projection_origin\n",
    "            eastward_velocity = jun_aug.variables['u_velocity'][time_idx, y, x] * np.cos(np.deg2rad(theta)) - jun_aug.variables['v_velocity'][time_idx, y, x] * np.sin(np.deg2rad(theta))\n",
    "            northward_velocity = jun_aug.variables['u_velocity'][time_idx, y, x] * np.sin(np.deg2rad(theta)) + jun_aug.variables['v_velocity'][time_idx, y, x] * np.cos(np.deg2rad(theta))\n",
    "            aspect = np.arctan2(eastward_velocity, northward_velocity)\n",
    "                    #if variable_name == 'statistical_eastness':\n",
    "                        #value = np.sin(aspect)\n",
    "    \n",
    "            value = np.sin(aspect)\n",
    "               \n",
    "            if not np.ma.is_masked(value):\n",
    "                coral_values_jun_aug.append(value)\n",
    "            else:\n",
    "                print(f\"Skipping masked value at ({x}, {y})\")\n",
    "        else:\n",
    "            print(f\"Skipping out-of-bounds point: x={x}, y={y}\")\n",
    "\n",
    "        step_end = time.perf_counter()\n",
    "        timing_results.append(f\"Time step {time_idx}, Point {i} (x={x}, y={y}) - {step_end - step_start:.6f} sec\")\n",
    "\n",
    "    end_time = time.perf_counter()\n",
    "\n",
    "end_total = time.perf_counter()\n",
    "print(f\"\\nTotal execution time: {end_total - start_total:.6f} seconds\")\n",
    "\n",
    "# Optional: Print or save timing results\n",
    "for result in timing_results[:10]:  # Print only first 10 to avoid too much output\n",
    "    print(result)"
   ]
  },
  {
   "cell_type": "code",
   "execution_count": 12,
   "id": "d9f420bd-5b13-422e-b485-ed2a283db273",
   "metadata": {
    "jupyter": {
     "source_hidden": true
    }
   },
   "outputs": [
    {
     "name": "stdout",
     "output_type": "stream",
     "text": [
      "Processing from time index 0 to 2927\n",
      "Grid size: xc_max=950, yc_max=555\n",
      "\n",
      "Total execution time: 4203.052008 seconds\n",
      "Time step 0, Point 0 (x=705, y=179) - 0.871257 sec\n",
      "Time step 0, Point 1 (x=612, y=44) - 0.014750 sec\n",
      "Time step 0, Point 2 (x=528, y=176) - 0.025443 sec\n",
      "Time step 0, Point 3 (x=637, y=157) - 0.016691 sec\n",
      "Time step 0, Point 4 (x=586, y=182) - 0.002038 sec\n",
      "Time step 0, Point 5 (x=744, y=138) - 0.006026 sec\n",
      "Time step 0, Point 6 (x=582, y=113) - 0.007938 sec\n",
      "Time step 0, Point 7 (x=631, y=169) - 0.001947 sec\n",
      "Time step 0, Point 8 (x=584, y=71) - 0.002097 sec\n",
      "Time step 0, Point 9 (x=571, y=179) - 0.001510 sec\n"
     ]
    }
   ],
   "source": [
    "#Statistical northness\n",
    "hor_res = sep_dec.grid_mapping.attrs['horizontal_resolution']\n",
    "t_start, t_stop = (0, len(sep_dec.variables['time']))  # (0, len(jun_aug.variables['time']))\n",
    "coral_values_sep_dec = []\n",
    "valid_coords_sep_dec = []\n",
    "xc_max = sep_dec.variables['xc'].shape[0]\n",
    "yc_max = sep_dec.variables['yc'].shape[0]\n",
    "longitude_of_projection_origin = sep_dec.grid_mapping.attrs['longitude_of_projection_origin']\n",
    "\n",
    "timing_results = []\n",
    "start_total = time.perf_counter()  # Track total execution time\n",
    "\n",
    "print(f\"Processing from time index {t_start} to {t_stop-1}\")\n",
    "print(f\"Grid size: xc_max={xc_max}, yc_max={yc_max}\")\n",
    "\n",
    "for time_idx in range(t_start, t_stop):\n",
    "    start_time = time.perf_counter()\n",
    "    #print(f\"\\nProcessing timestep {time_idx}...\")\n",
    "\n",
    "    # Precompute x and y indices\n",
    "    x_indices = np.clip(np.round(coral_data['x'] / hor_res).astype(int), 0, xc_max - 1)\n",
    "    y_indices = np.clip(np.round(coral_data['y'] / hor_res).astype(int), 0, yc_max - 1)\n",
    "\n",
    "    #print(f\"Total coral points: {len(x_indices)}\")\n",
    "    \n",
    "    for i, (x, y) in enumerate(zip(x_indices, y_indices)):\n",
    "        step_start = time.perf_counter()\n",
    "\n",
    "        # Check if indices are within bounds\n",
    "        if 0 <= x < xc_max and 0 <= y < yc_max:\n",
    "            longitude_at_point = sep_dec.variables['gridLons'][y,x]\n",
    "            theta = longitude_at_point - longitude_of_projection_origin\n",
    "            eastward_velocity = sep_dec.variables['u_velocity'][time_idx, y, x] * np.cos(np.deg2rad(theta)) - sep_dec.variables['v_velocity'][time_idx, y, x] * np.sin(np.deg2rad(theta))\n",
    "            northward_velocity = sep_dec.variables['u_velocity'][time_idx, y, x] * np.sin(np.deg2rad(theta)) + sep_dec.variables['v_velocity'][time_idx, y, x] * np.cos(np.deg2rad(theta))\n",
    "            aspect = np.arctan2(eastward_velocity, northward_velocity)\n",
    "                    #if variable_name == 'statistical_eastness':\n",
    "                        #value = np.sin(aspect)\n",
    "    \n",
    "            value = np.cos(aspect)\n",
    "               \n",
    "            if not np.ma.is_masked(value):\n",
    "                coral_values_sep_dec.append(value)\n",
    "            else:\n",
    "                print(f\"Skipping masked value at ({x}, {y})\")\n",
    "        else:\n",
    "            print(f\"Skipping out-of-bounds point: x={x}, y={y}\")\n",
    "\n",
    "        step_end = time.perf_counter()\n",
    "        timing_results.append(f\"Time step {time_idx}, Point {i} (x={x}, y={y}) - {step_end - step_start:.6f} sec\")\n",
    "\n",
    "    end_time = time.perf_counter()\n",
    "\n",
    "end_total = time.perf_counter()\n",
    "print(f\"\\nTotal execution time: {end_total - start_total:.6f} seconds\")\n",
    "\n",
    "# Optional: Print or save timing results\n",
    "for result in timing_results[:10]:  # Print only first 10 to avoid too much output\n",
    "    print(result)"
   ]
  },
  {
   "cell_type": "code",
   "execution_count": 9,
   "id": "14d6c9a5-c1b1-4f41-b49e-046bc2001acf",
   "metadata": {},
   "outputs": [
    {
     "name": "stdout",
     "output_type": "stream",
     "text": [
      "Processing from time index 0 to 2927\n",
      "Grid size: xc_max=950, yc_max=555\n",
      "\n",
      "Total execution time: 4286.512665 seconds\n",
      "Time step 0, Point 0 (x=705, y=179) - 0.161357 sec\n",
      "Time step 0, Point 1 (x=612, y=44) - 0.058589 sec\n",
      "Time step 0, Point 2 (x=528, y=176) - 0.011677 sec\n",
      "Time step 0, Point 3 (x=637, y=157) - 0.025189 sec\n",
      "Time step 0, Point 4 (x=586, y=182) - 0.002242 sec\n",
      "Time step 0, Point 5 (x=744, y=138) - 0.005806 sec\n",
      "Time step 0, Point 6 (x=582, y=113) - 0.014217 sec\n",
      "Time step 0, Point 7 (x=631, y=169) - 0.074662 sec\n",
      "Time step 0, Point 8 (x=584, y=71) - 0.008112 sec\n",
      "Time step 0, Point 9 (x=571, y=179) - 0.001552 sec\n"
     ]
    }
   ],
   "source": [
    "#Statistical eastness\n",
    "hor_res = sep_dec.grid_mapping.attrs['horizontal_resolution']\n",
    "t_start, t_stop = (0, len(sep_dec.variables['time']))  # (0, len(jun_aug.variables['time']))\n",
    "coral_values_sep_dec = []\n",
    "valid_coords_sep_dec = []\n",
    "xc_max = sep_dec.variables['xc'].shape[0]\n",
    "yc_max = sep_dec.variables['yc'].shape[0]\n",
    "longitude_of_projection_origin = sep_dec.grid_mapping.attrs['longitude_of_projection_origin']\n",
    "\n",
    "timing_results = []\n",
    "start_total = time.perf_counter()  # Track total execution time\n",
    "\n",
    "print(f\"Processing from time index {t_start} to {t_stop-1}\")\n",
    "print(f\"Grid size: xc_max={xc_max}, yc_max={yc_max}\")\n",
    "\n",
    "for time_idx in range(t_start, t_stop):\n",
    "    start_time = time.perf_counter()\n",
    "    #print(f\"\\nProcessing timestep {time_idx}...\")\n",
    "\n",
    "    # Precompute x and y indices\n",
    "    x_indices = np.clip(np.round(coral_data['x'] / hor_res).astype(int), 0, xc_max - 1)\n",
    "    y_indices = np.clip(np.round(coral_data['y'] / hor_res).astype(int), 0, yc_max - 1)\n",
    "\n",
    "    #print(f\"Total coral points: {len(x_indices)}\")\n",
    "    \n",
    "    for i, (x, y) in enumerate(zip(x_indices, y_indices)):\n",
    "        step_start = time.perf_counter()\n",
    "\n",
    "        # Check if indices are within bounds\n",
    "        if 0 <= x < xc_max and 0 <= y < yc_max:\n",
    "            longitude_at_point = sep_dec.variables['gridLons'][y,x]\n",
    "            theta = longitude_at_point - longitude_of_projection_origin\n",
    "            eastward_velocity = sep_dec.variables['u_velocity'][time_idx, y, x] * np.cos(np.deg2rad(theta)) - sep_dec.variables['v_velocity'][time_idx, y, x] * np.sin(np.deg2rad(theta))\n",
    "            northward_velocity = sep_dec.variables['u_velocity'][time_idx, y, x] * np.sin(np.deg2rad(theta)) + sep_dec.variables['v_velocity'][time_idx, y, x] * np.cos(np.deg2rad(theta))\n",
    "            aspect = np.arctan2(eastward_velocity, northward_velocity)\n",
    "                    #if variable_name == 'statistical_eastness':\n",
    "                        #value = np.sin(aspect)\n",
    "    \n",
    "            value = np.sin(aspect)\n",
    "               \n",
    "            if not np.ma.is_masked(value):\n",
    "                coral_values_sep_dec.append(value)\n",
    "            else:\n",
    "                print(f\"Skipping masked value at ({x}, {y})\")\n",
    "        else:\n",
    "            print(f\"Skipping out-of-bounds point: x={x}, y={y}\")\n",
    "\n",
    "        step_end = time.perf_counter()\n",
    "        timing_results.append(f\"Time step {time_idx}, Point {i} (x={x}, y={y}) - {step_end - step_start:.6f} sec\")\n",
    "\n",
    "    end_time = time.perf_counter()\n",
    "\n",
    "end_total = time.perf_counter()\n",
    "print(f\"\\nTotal execution time: {end_total - start_total:.6f} seconds\")\n",
    "\n",
    "# Optional: Print or save timing results\n",
    "for result in timing_results[:10]:  # Print only first 10 to avoid too much output\n",
    "    print(result)"
   ]
  },
  {
   "cell_type": "code",
   "execution_count": 13,
   "id": "f853fc06-48de-4d80-b981-0a63a4dfa0a7",
   "metadata": {
    "jupyter": {
     "source_hidden": true
    }
   },
   "outputs": [],
   "source": [
    "coral_values_jan_jun_flat = np.ravel(coral_values_jan_jun)  # Flattening the first array\n",
    "coral_values_jan_jun2_flat = np.ravel(coral_values_jan_jun2)  # Flattening the second array\n",
    "coral_values_jun_aug_flat = np.ravel(coral_values_jun_aug)  # Flattening the second array\n",
    "coral_values_sep_dec_flat = np.ravel(coral_values_sep_dec)  # Flattening the second array\n",
    "\n",
    "# Concatenate the flattened arrays\n",
    "all_stat_northness = np.concatenate((coral_values_jan_jun_flat, coral_values_jan_jun2_flat, coral_values_jun_aug_flat, coral_values_sep_dec_flat))\n",
    "\n",
    "# Create DataFrame with one column\n",
    "stat_northness_df = pd.DataFrame({'statistical northness': all_stat_northness})\n",
    "\n",
    "# Save to CSV\n",
    "stat_northness_df.to_csv(\"statistical_northness_hourly.csv\", index=False)"
   ]
  },
  {
   "cell_type": "code",
   "execution_count": 11,
   "id": "8622d929-f509-419d-a8db-6e4258d09b77",
   "metadata": {},
   "outputs": [],
   "source": [
    "coral_values_jan_jun_flat = np.ravel(coral_values_jan_jun)  # Flattening the first array\n",
    "coral_values_jan_jun2_flat = np.ravel(coral_values_jan_jun2)  # Flattening the second array\n",
    "coral_values_jun_aug_flat = np.ravel(coral_values_jun_aug)  # Flattening the second array\n",
    "coral_values_sep_dec_flat = np.ravel(coral_values_sep_dec)  # Flattening the second array\n",
    "\n",
    "# Concatenate the flattened arrays\n",
    "all_stat_eastness = np.concatenate((coral_values_jan_jun_flat, coral_values_jan_jun2_flat, coral_values_jun_aug_flat, coral_values_sep_dec_flat))\n",
    "\n",
    "# Create DataFrame with one column\n",
    "stat_eastness_df = pd.DataFrame({'statistical eastness': all_stat_eastness})\n",
    "\n",
    "# Save to CSV\n",
    "stat_eastness_df.to_csv(\"statistical_easthness_hourly.csv\", index=False)"
   ]
  },
  {
   "cell_type": "code",
   "execution_count": 14,
   "id": "e368fa39-e689-4c58-baa8-1c4bff86c06a",
   "metadata": {
    "jupyter": {
     "source_hidden": true
    }
   },
   "outputs": [
    {
     "name": "stdout",
     "output_type": "stream",
     "text": [
      "Statistics for statistical northness: {'mean': np.float32(-0.23848051), 'max': np.float32(1.0), 'min': np.float32(-1.0), '90th_percentile': np.float32(0.893171), '10th_percentile': np.float32(-0.9813516)}\n"
     ]
    }
   ],
   "source": [
    "# Calculate statistics for coral values\n",
    "if 'statistical northness' not in stat_northness_df.columns:\n",
    "    print(\"Error: 'statistical northness' column not found in CSV!\")\n",
    "else:\n",
    "    # Drop NaNs and convert to NumPy array\n",
    "    statistical_northness = stat_northness_df['statistical northness'].dropna().values\n",
    "\n",
    "    # Check for empty array\n",
    "    if len(statistical_northness) == 0:\n",
    "        print(\"Error: stat_northness array is empty after dropping NaNs!\")\n",
    "    else:\n",
    "        # Compute statistics\n",
    "        statistics = {\n",
    "            'mean': np.float32(np.mean(statistical_northness)),\n",
    "            'max': np.float32(np.max(statistical_northness)),\n",
    "            'min': np.float32(np.min(statistical_northness)),\n",
    "            '90th_percentile': np.float32(np.percentile(statistical_northness, 90)),\n",
    "            '10th_percentile': np.float32(np.percentile(statistical_northness, 10))\n",
    "        }\n",
    "\n",
    "        print(\"Statistics for statistical northness:\", statistics)"
   ]
  },
  {
   "cell_type": "code",
   "execution_count": 13,
   "id": "7a4bdd67-2f58-4cb9-8ef7-960fd7be6ba5",
   "metadata": {},
   "outputs": [
    {
     "name": "stdout",
     "output_type": "stream",
     "text": [
      "Statistics for statistical eastness: {'mean': np.float32(0.27967995), 'max': np.float32(1.0), 'min': np.float32(-1.0), '90th_percentile': np.float32(0.97196823), '10th_percentile': np.float32(-0.74365896)}\n"
     ]
    }
   ],
   "source": [
    "# Calculate statistics for coral values\n",
    "if 'statistical eastness' not in stat_eastness_df.columns:\n",
    "    print(\"Error: 'statistical eastness' column not found in CSV!\")\n",
    "else:\n",
    "    # Drop NaNs and convert to NumPy array\n",
    "    statistical_eastness = stat_eastness_df['statistical eastness'].dropna().values\n",
    "\n",
    "    # Check for empty array\n",
    "    if len(statistical_eastness) == 0:\n",
    "        print(\"Error: stat_eastness array is empty after dropping NaNs!\")\n",
    "    else:\n",
    "        # Compute statistics\n",
    "        statistics = {\n",
    "            'mean': np.float32(np.mean(statistical_eastness)),\n",
    "            'max': np.float32(np.max(statistical_eastness)),\n",
    "            'min': np.float32(np.min(statistical_eastness)),\n",
    "            '90th_percentile': np.float32(np.percentile(statistical_eastness, 90)),\n",
    "            '10th_percentile': np.float32(np.percentile(statistical_eastness, 10))\n",
    "        }\n",
    "\n",
    "        print(\"Statistics for statistical eastness:\", statistics)"
   ]
  },
  {
   "cell_type": "code",
   "execution_count": 15,
   "id": "33f22ac1-4a2c-4f74-922d-d3479088e85d",
   "metadata": {
    "jupyter": {
     "source_hidden": true
    }
   },
   "outputs": [],
   "source": [
    "#Determine the bin edges for the histograms\n",
    "bin_edges_stat_northness = np.histogram_bin_edges(statistical_northness, bins=20)"
   ]
  },
  {
   "cell_type": "code",
   "execution_count": 14,
   "id": "85db2ba3-3330-4dba-ba9b-af04f3867d5e",
   "metadata": {},
   "outputs": [],
   "source": [
    "#Determine the bin edges for the histograms\n",
    "bin_edges_stat_eastness = np.histogram_bin_edges(statistical_eastness, bins=20)"
   ]
  },
  {
   "cell_type": "code",
   "execution_count": 17,
   "id": "3054dd0a-0d2b-45f1-8e7f-58c5eddfd4fc",
   "metadata": {
    "collapsed": true,
    "jupyter": {
     "outputs_hidden": true,
     "source_hidden": true
    }
   },
   "outputs": [
    {
     "data": {
      "image/png": "[encoded data removed]",
      "text/plain": [
       "<Figure size 640x480 with 1 Axes>"
      ]
     },
     "metadata": {},
     "output_type": "display_data"
    }
   ],
   "source": [
    "#Plot histogram of statistical northness\n",
    "plt.hist(statistical_northness, bins=bin_edges_stat_northness, edgecolor='black')\n",
    "plt.xlabel('Statistical Northness', fontsize=14)\n",
    "plt.ylabel('Frequency', fontsize=14)\n",
    "plt.title(f'Histogram of statistical northness at coral data points', fontsize=16)\n",
    "plt.grid(True, linestyle='--', linewidth=0.5, alpha=0.7)  # Main grid\n",
    "plt.minorticks_on()  # Enable minor ticks\n",
    "plt.grid(which='minor', linestyle=':', linewidth=0.4, alpha=0.5)  # Finer minor grid\n",
    "\n",
    "plt.savefig(f'/cluster/home/maikents/statistical_northness_hourly_histogram_coral_points.png')\n",
    " \n",
    "plt.show()"
   ]
  },
  {
   "cell_type": "code",
   "execution_count": 15,
   "id": "6ee3342c-c2a5-41a2-94cf-84700682901f",
   "metadata": {},
   "outputs": [
    {
     "data": {
      "image/png": "[encoded data removed]",
      "text/plain": [
       "<Figure size 640x480 with 1 Axes>"
      ]
     },
     "metadata": {},
     "output_type": "display_data"
    }
   ],
   "source": [
    "#Plot histogram of statistical eastness\n",
    "plt.hist(statistical_eastness, bins=bin_edges_stat_eastness, edgecolor='black')\n",
    "plt.xlabel('Statistical Eastness', fontsize=14)\n",
    "plt.ylabel('Frequency', fontsize=14)\n",
    "plt.title(f'Histogram of statistical eastness at coral data points', fontsize=16)\n",
    "plt.grid(True, linestyle='--', linewidth=0.5, alpha=0.7)  # Main grid\n",
    "plt.minorticks_on()  # Enable minor ticks\n",
    "plt.grid(which='minor', linestyle=':', linewidth=0.4, alpha=0.5)  # Finer minor grid\n",
    "\n",
    "plt.savefig(f'/cluster/home/maikents/statistical_eastness_hourly_histogram_coral_points.png')\n",
    " \n",
    "plt.show()"
   ]
  },
  {
   "cell_type": "code",
   "execution_count": null,
   "id": "54e1091b-7439-4354-9396-c1cb9c9ece13",
   "metadata": {},
   "outputs": [],
   "source": []
  }
 ],
 "metadata": {
  "kernelspec": {
   "display_name": "Python 3 (ipykernel)",
   "language": "python",
   "name": "python3"
  },
  "language_info": {
   "codemirror_mode": {
    "name": "ipython",
    "version": 3
   },
   "file_extension": ".py",
   "mimetype": "text/x-python",
   "name": "python",
   "nbconvert_exporter": "python",
   "pygments_lexer": "ipython3",
   "version": "3.12.3"
  }
 },
 "nbformat": 4,
 "nbformat_minor": 5
}
