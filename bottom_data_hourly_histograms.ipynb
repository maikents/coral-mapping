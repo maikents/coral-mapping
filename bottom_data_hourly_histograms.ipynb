{
 "cells": [
  {
   "cell_type": "code",
   "execution_count": 20,
   "id": "cb62010e-1574-4575-b8fd-70d18db4ee25",
   "metadata": {},
   "outputs": [],
   "source": [
    "import numpy as np\n",
    "import random\n",
    "import matplotlib.pyplot as plt\n",
    "import xarray as xr"
   ]
  },
  {
   "cell_type": "code",
   "execution_count": 21,
   "id": "960da507-797c-455b-a163-9c9c8ac1c102",
   "metadata": {},
   "outputs": [],
   "source": [
    "#Hourly 2D bottom currents\n",
    "jan_jun = xr.open_dataset(\"/cluster/projects/itk-SINMOD/coral-mapping/midnor/samp_2D_jan_jun.nc\")\n",
    "jun_aug = xr.open_dataset(\"/cluster/projects/itk-SINMOD/coral-mapping/midnor/samp_2D_jun-aug.nc\")\n",
    "sep_dec = xr.open_dataset(\"/cluster/projects/itk-SINMOD/coral-mapping/midnor/samp_2D_sep-dec.nc\")"
   ]
  },
  {
   "cell_type": "code",
   "execution_count": 23,
   "id": "68f5340d-fe7c-41cc-92b8-34127f6f0389",
   "metadata": {},
   "outputs": [
    {
     "name": "stdout",
     "output_type": "stream",
     "text": [
      "4201\n"
     ]
    }
   ],
   "source": [
    "print(len(jan_jun.variables['time']))"
   ]
  },
  {
   "cell_type": "code",
   "execution_count": 17,
   "id": "e2fd13e2-49d4-4526-9ad6-2dd407b81609",
   "metadata": {},
   "outputs": [],
   "source": [
    "#Remove overlap\n",
    "jan_jun = jan_jun.isel(time=slice(0, -360))  \n",
    "jun_aug = jun_aug.isel(time=slice(0, -192))  "
   ]
  },
  {
   "cell_type": "code",
   "execution_count": null,
   "id": "3368c5ab-1e2b-4a45-9c9a-11c4c8f167ec",
   "metadata": {},
   "outputs": [],
   "source": [
    "#Merge (not possible with this memory size.. Can do this later if necessary)\n",
    "current_2019 = xr.concat([current_jan_jun, current_jun_aug, current_sep_dec], dim=\"time\")"
   ]
  },
  {
   "cell_type": "code",
   "execution_count": 18,
   "id": "191bd3fe-1c38-4c00-95db-d57e55dbbce9",
   "metadata": {},
   "outputs": [],
   "source": [
    "#Importing coral data\n",
    "import pandas as pd\n",
    "\n",
    "coral_data = pd.read_parquet('/cluster/home/maikents/midnor_total_coral_data_processed_v2.parquet')\n"
   ]
  },
  {
   "cell_type": "code",
   "execution_count": null,
   "id": "e6fde633-4d68-421d-8b8a-6232211785f7",
   "metadata": {},
   "outputs": [],
   "source": [
    "#Histogram for bottom current speed\n",
    "hor_res = jun_aug.grid_mapping.attrs['horizontal_resolution']\n",
    "t_start, t_stop = (0, len(jun_aug.variables['time']))\n",
    "coral_values_jun_aug = []\n",
    "valid_coords_jun_aug = []\n",
    "xc_max = jun_aug.variables['xc'].shape[0]\n",
    "yc_max = jun_aug.variables['yc'].shape[0]\n",
    "for time in range(t_start, t_stop):\n",
    "        for x, y in zip(coral_data['x']/hor_res, coral_data['y']/hor_res):\n",
    "            x = np.clip(np.round(coral_data['x']/hor_res).astype(int), 0, xc_max-1)\n",
    "            y = np.clip(np.round(coral_data['y']/hor_res).astype(int), 0, yc_max-1)\n",
    "            value = np.sqrt(jun_aug.variables['u-bottom'][time, y, x]**2 + jun_aug.variables['v-bottom'][time, y, x]**2)\n",
    "            if not np.ma.is_masked(value):\n",
    "                coral_values_jun_aug.append(value)\n",
    "    \n",
    "                    \n"
   ]
  },
  {
   "cell_type": "code",
   "execution_count": null,
   "id": "9d047496-f908-4a35-b1e6-6f48aef49485",
   "metadata": {},
   "outputs": [],
   "source": [
    "#Convert list to numpy array for easier manipulation\n",
    "coral_values_jun_aug = np.array(coral_values_jun_aug)\n",
    "\n",
    "#Flatten the array to combine all time steps\n",
    "coral_values_jun_aug_flat = coral_values_jun_aug.flatten()\n"
   ]
  },
  {
   "cell_type": "code",
   "execution_count": null,
   "id": "ece21b24-9cfd-40de-b61b-306f0c770f6e",
   "metadata": {},
   "outputs": [],
   "source": [
    "np.savetxt(\"coral_values_jun_aug.csv\", coral_values_jun_aug, delimiter=\",\")\n"
   ]
  },
  {
   "cell_type": "code",
   "execution_count": null,
   "id": "7c9f4319-dbca-450f-85c0-f8978e6db611",
   "metadata": {},
   "outputs": [],
   "source": [
    "# Calculate statistics for coral values\n",
    "stats_jun_aug = {\n",
    "    'mean': np.mean(coral_values_jun_aug_flat),\n",
    "    'max': np.max(coral_values_jun_aug_flat),\n",
    "    'min': np.min(coral_values_jun_aug_flat,\n",
    "    '90th_percentile': np.percentile(coral_values_jun_aug_flat, 90),\n",
    "    '10th_percentile': np.percentile(coral_values_jun_aug_flat, 10)\n",
    "}\n",
    "\n",
    "print(f\"Statistics for coral values: {stats_jun_aug}\")\n"
   ]
  },
  {
   "cell_type": "code",
   "execution_count": null,
   "id": "83064b16-2c56-4788-a59e-a6fd5d542c3d",
   "metadata": {},
   "outputs": [],
   "source": [
    "#Determine the bin edges for the histograms\n",
    "bin_edges = np.histogram_bin_edges(coral_values_jun_aug_flat, bins=20)"
   ]
  },
  {
   "cell_type": "code",
   "execution_count": null,
   "id": "6673927b-02dc-47b6-9428-e2a035bc8203",
   "metadata": {},
   "outputs": [],
   "source": [
    "np.savetxt(\"bin_edges.csv\", bin_edges, delimiter=\",\")\n"
   ]
  },
  {
   "cell_type": "code",
   "execution_count": null,
   "id": "7bed6622-9861-4655-864a-ee3a021d8998",
   "metadata": {},
   "outputs": [],
   "source": [
    "#Plot histogram of the combined variable values\n",
    "plt.hist(coral_values_jun_aug_flat, bins=bin_edges, edgecolor='black')\n",
    "plt.xlabel('Current speed [m/s]', fontsize=14)\n",
    "plt.ylabel('Frequency', fontsize=14)\n",
    "plt.title(f'Histogram of current speeds at coral data points', fontsize=16)\n",
    "plt.grid(True)\n",
    "plt.savefig(f'/cluster/home/maikents/current_speed_histogram_coral_points_jun_aug.png')\n",
    "    \n",
    "plt.show()"
   ]
  },
  {
   "cell_type": "code",
   "execution_count": null,
   "id": "b12e51b5-450c-44ff-a9ab-dbe9a4468b3d",
   "metadata": {},
   "outputs": [],
   "source": []
  }
 ],
 "metadata": {
  "kernelspec": {
   "display_name": "Python 3 (ipykernel)",
   "language": "python",
   "name": "python3"
  },
  "language_info": {
   "codemirror_mode": {
    "name": "ipython",
    "version": 3
   },
   "file_extension": ".py",
   "mimetype": "text/x-python",
   "name": "python",
   "nbconvert_exporter": "python",
   "pygments_lexer": "ipython3",
   "version": "3.12.3"
  }
 },
 "nbformat": 4,
 "nbformat_minor": 5
}
