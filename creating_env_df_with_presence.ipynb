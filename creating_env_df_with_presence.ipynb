{
 "cells": [
  {
   "cell_type": "code",
   "execution_count": 14,
   "id": "8f324f8a-ebdd-41a9-a414-3cd0f28467e2",
   "metadata": {},
   "outputs": [],
   "source": [
    "import pandas as pd\n",
    "import numpy as np\n",
    "import elapid\n",
    "from elapid import MaxentModel\n",
    "import xarray as xr\n",
    "from sklearn.model_selection import train_test_split\n",
    "from sklearn.preprocessing import StandardScaler"
   ]
  },
  {
   "cell_type": "code",
   "execution_count": 15,
   "id": "4036f991-8996-47f3-bd05-b7422b9d705c",
   "metadata": {},
   "outputs": [],
   "source": [
    "env_filepath_nan = '/cluster/home/maikents/coral-mapping/processed_data/env_df_with_nan.parquet'\n",
    "env_df_nan = pd.read_parquet(env_filepath_nan)"
   ]
  },
  {
   "cell_type": "code",
   "execution_count": 16,
   "id": "05ef4f0b-3714-4d62-b4e6-e530e1b06640",
   "metadata": {},
   "outputs": [],
   "source": [
    "env_filepath_no_nan = '/cluster/home/maikents/coral-mapping/processed_data/env_df_no_nan.parquet'\n",
    "env_df_no_nan = pd.read_parquet(env_filepath_no_nan)"
   ]
  },
  {
   "cell_type": "code",
   "execution_count": 17,
   "id": "656d6b7f-cedc-447e-abdf-d4ba5a9989f2",
   "metadata": {},
   "outputs": [],
   "source": [
    "coral_filepath = '/cluster/home/maikents/midnor_total_coral_data_processed.parquet'\n",
    "presence_df = pd.read_parquet(coral_filepath)\n"
   ]
  },
  {
   "cell_type": "code",
   "execution_count": 19,
   "id": "5c15a06a-dd46-4efa-9572-00b8844a2e5d",
   "metadata": {},
   "outputs": [],
   "source": [
    "stat_northness_before_reprojection_file = \"/cluster/home/maikents/coral-mapping/processed_data/features/statistical_northness_features.nc\"\n",
    "stat_northness_before_reprojection = xr.open_dataset(stat_northness_before_reprojection_file)"
   ]
  },
  {
   "cell_type": "code",
   "execution_count": 23,
   "id": "9e19cde4-db36-4ee1-bc95-e2dd52130eea",
   "metadata": {},
   "outputs": [],
   "source": [
    "stat_northness_before_reprojection_df = stat_northness_before_reprojection.to_dataframe().reset_index()"
   ]
  },
  {
   "cell_type": "code",
   "execution_count": 24,
   "id": "836784e8-d511-4845-a59b-0d6ba7b2d800",
   "metadata": {},
   "outputs": [
    {
     "name": "stdout",
     "output_type": "stream",
     "text": [
      "Index(['xc', 'yc', 'stat', 'zc', 'statistical_northness_features'], dtype='object')\n"
     ]
    }
   ],
   "source": [
    "print(stat_northness_before_reprojection_df.columns)"
   ]
  },
  {
   "cell_type": "code",
   "execution_count": 26,
   "id": "c5de4ea0-e549-41ee-9007-360d9c0b333a",
   "metadata": {},
   "outputs": [
    {
     "name": "stdout",
     "output_type": "stream",
     "text": [
      "X min, env data:  -65456.088686234725\n",
      "X max, env data:  692027.9113137652\n",
      "X min, stat northness before reprojection:  800.0\n",
      "X max, stat northness before reprojection:  760000.0\n",
      "X min, coral data:  18334.953319572378\n",
      "X max, coral data:  893776.8785220876\n"
     ]
    }
   ],
   "source": [
    "\n",
    "print(\"X min, env data: \", env_df_nan['x'].min())\n",
    "print(\"X max, env data: \", env_df_nan['x'].max())\n",
    "print(\"X min, stat northness before reprojection: \", stat_northness_before_reprojection_df['xc'].min())\n",
    "print(\"X max, stat northness before reprojection: \", stat_northness_before_reprojection_df['xc'].max())\n",
    "print(\"X min, coral data: \", presence_df['x'].min())\n",
    "print(\"X max, coral data: \", presence_df['x'].max())"
   ]
  },
  {
   "cell_type": "code",
   "execution_count": 27,
   "id": "d6cc45f1-83f0-4f42-94c3-6272fce1e4d7",
   "metadata": {},
   "outputs": [
    {
     "name": "stdout",
     "output_type": "stream",
     "text": [
      "Y min, env data:  6659218.347672726\n",
      "Y max, env data:  7539188.347672726\n",
      "Y min, stat northness before reprojection:  800.0\n",
      "Y max, stat northness before reprojection:  444000.0\n",
      "Y min, coral data:  -31935.75522181671\n",
      "Y max, coral data:  361915.8423262872\n"
     ]
    }
   ],
   "source": [
    "\n",
    "print(\"Y min, env data: \", env_df_nan['y'].min())\n",
    "print(\"Y max, env data: \", env_df_nan['y'].max())\n",
    "print(\"Y min, stat northness before reprojection: \", stat_northness_before_reprojection_df['yc'].min())\n",
    "print(\"Y max, stat northness before reprojection: \", stat_northness_before_reprojection_df['yc'].max())\n",
    "print(\"Y min, coral data: \", presence_df['y'].min())\n",
    "print(\"Y max, coral data: \", presence_df['y'].max())"
   ]
  },
  {
   "cell_type": "code",
   "execution_count": null,
   "id": "3386e3e6-ecf4-4530-819c-6e5876ecd948",
   "metadata": {},
   "outputs": [],
   "source": []
  }
 ],
 "metadata": {
  "kernelspec": {
   "display_name": "Python 3 (ipykernel)",
   "language": "python",
   "name": "python3"
  },
  "language_info": {
   "codemirror_mode": {
    "name": "ipython",
    "version": 3
   },
   "file_extension": ".py",
   "mimetype": "text/x-python",
   "name": "python",
   "nbconvert_exporter": "python",
   "pygments_lexer": "ipython3",
   "version": "3.12.3"
  }
 },
 "nbformat": 4,
 "nbformat_minor": 5
}
