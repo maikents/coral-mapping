{
 "cells": [
  {
   "cell_type": "code",
   "execution_count": 1,
   "id": "7e99f2a9-1c87-428b-aaf0-b4f94111b0a0",
   "metadata": {},
   "outputs": [],
   "source": [
    "import numpy as np\n",
    "import pandas as pd\n",
    "import matplotlib.pyplot as plt\n",
    "from sklearn.model_selection import train_test_split\n"
   ]
  },
  {
   "cell_type": "code",
   "execution_count": 3,
   "id": "85e10161-825a-426c-829b-e343eacf74f8",
   "metadata": {},
   "outputs": [],
   "source": [
    "combined_df_nans = pd.read_parquet(\"/cluster/home/maikents/sinmod_features_masters/dataframes_pipeline_6/total_df_with_nans_and_labels.parquet\")"
   ]
  },
  {
   "cell_type": "code",
   "execution_count": 4,
   "id": "c245c7ee-f148-43eb-9419-d5c36c5a4931",
   "metadata": {},
   "outputs": [],
   "source": [
    "combined_df_no_nans = combined_df_nans.dropna()"
   ]
  },
  {
   "cell_type": "code",
   "execution_count": 7,
   "id": "c7e7967c-00ac-4b40-9265-b7f3cdde0194",
   "metadata": {},
   "outputs": [
    {
     "name": "stdout",
     "output_type": "stream",
     "text": [
      "Index(['x', 'y', 'bathymetry', 'slope', 'fine_BPI_std', 'broad_BPI_std',\n",
      "       'log_ruggedness', 'aspect_cos', 'aspect_sin', 'temperature_min',\n",
      "       'temperature_mean', 'salinity_mean', 'current_speed_mean',\n",
      "       'statistical_northness', 'statistical_eastness', 'current_aspect_angle',\n",
      "       'chlor_a_mean', 'sediment_nitrate_10th_percentile',\n",
      "       'sediment_silicate_10th_percentile',\n",
      "       'sediment_silicate_90th_percentile', 'labels'],\n",
      "      dtype='object')\n"
     ]
    }
   ],
   "source": [
    "#Remove features after correlation analysis \n",
    "print(combined_df_no_nans.columns)"
   ]
  },
  {
   "cell_type": "code",
   "execution_count": 6,
   "id": "2a372acf-4402-413f-92db-50374e121dd1",
   "metadata": {},
   "outputs": [],
   "source": [
    "combined_df_no_nans = combined_df_no_nans.drop(columns=['chlor_a_10th_percentile', 'sediment_nitrate_mean',\n",
    "'sediment_nitrate_90th_percentile', 'temperature_max', 'salinity_10th_percentile', 'salinity_90th_percentile',\n",
    "'current_speed_90th_percentile', 'chlor_a_90th_percentile', 'sediment_silicate_mean'], axis=1)"
   ]
  },
  {
   "cell_type": "code",
   "execution_count": 8,
   "id": "aaa3e2f8-aae4-4bcb-88ad-c6b64418eb1c",
   "metadata": {},
   "outputs": [],
   "source": [
    "presence_df = combined_df_no_nans[combined_df_no_nans['labels'] == 1]"
   ]
  },
  {
   "cell_type": "code",
   "execution_count": 9,
   "id": "eaa197c4-46a5-4c59-a582-b876daa68f73",
   "metadata": {},
   "outputs": [],
   "source": [
    "absence_df = combined_df_no_nans[combined_df_no_nans['labels'] == 0]\n",
    "downsampled_absences = absence_df.sample(n=2000, random_state=42)"
   ]
  },
  {
   "cell_type": "code",
   "execution_count": 10,
   "id": "61653b01-5d14-472a-b951-df89d60b5f49",
   "metadata": {},
   "outputs": [],
   "source": [
    "balanced_df = pd.concat([downsampled_absences, presence_df])"
   ]
  },
  {
   "cell_type": "code",
   "execution_count": 11,
   "id": "79764136-9331-42e6-89ac-62e17942e1c6",
   "metadata": {},
   "outputs": [],
   "source": [
    "#Define features and labels\n",
    "X = balanced_df.drop(columns=['labels', 'x', 'y'])  \n",
    "y = balanced_df['labels']"
   ]
  },
  {
   "cell_type": "code",
   "execution_count": 12,
   "id": "f474a50b-f807-468b-ab2e-2163526444a6",
   "metadata": {},
   "outputs": [],
   "source": [
    "#Train test split\n",
    "X_train, X_test, y_train, y_test = train_test_split(X, y, test_size=0.2, random_state=42)"
   ]
  },
  {
   "cell_type": "code",
   "execution_count": 13,
   "id": "f0fc2be3-4b94-4d94-84b1-302bb2bcca84",
   "metadata": {
    "jupyter": {
     "source_hidden": true
    }
   },
   "outputs": [],
   "source": [
    "X_train.to_csv(\"/cluster/home/maikents/sinmod_features_masters/ready_for_training/pipeline6_v2/X_train_spatial.csv\", index=False)\n",
    "X_test.to_csv(\"/cluster/home/maikents/sinmod_features_masters/ready_for_training/pipeline6_v2/X_test_spatial.csv\", index=False)\n",
    "y_train.to_csv(\"/cluster/home/maikents/sinmod_features_masters/ready_for_training/pipeline6_v2/y_train_spatial.csv\", index=False)\n",
    "y_test.to_csv(\"/cluster/home/maikents/sinmod_features_masters/ready_for_training/pipeline6_v2/y_test_spatial.csv\", index=False)"
   ]
  },
  {
   "cell_type": "code",
   "execution_count": 14,
   "id": "ae492d65-c7e0-43e3-ae9a-c3e36bb71629",
   "metadata": {},
   "outputs": [],
   "source": [
    "#For spatial block cv:\n",
    "n_x_bins = 3\n",
    "n_y_bins = 2\n",
    "\n",
    "balanced_df['x_bin'] = pd.cut(balanced_df['x'], bins=n_x_bins, labels=False)\n",
    "balanced_df['y_bin'] = pd.cut(balanced_df['y'], bins=n_y_bins, labels=False)\n",
    "\n",
    "balanced_df['spatial_block'] = balanced_df['y_bin'] * n_x_bins + balanced_df['x_bin']\n",
    "\n"
   ]
  },
  {
   "cell_type": "code",
   "execution_count": 15,
   "id": "8de0dd79-03c2-498a-8677-ee8b2e33cf3f",
   "metadata": {},
   "outputs": [],
   "source": [
    "X = balanced_df.drop(columns=['labels', 'spatial_block', 'x', 'y'])  \n",
    "y = balanced_df['labels']\n",
    "groups = balanced_df['spatial_block'] \n",
    "\n",
    "X_train, X_test, y_train, y_test, groups_train, groups_test = train_test_split(\n",
    "    X, y, groups, test_size=0.2, random_state=42, stratify=groups\n",
    ")\n"
   ]
  },
  {
   "cell_type": "code",
   "execution_count": 16,
   "id": "bc4fc610-9132-4b3c-a9f8-81abe74d2ee8",
   "metadata": {},
   "outputs": [],
   "source": [
    "X_train.to_csv(\"/cluster/home/maikents/sinmod_features_masters/ready_for_training/pipeline6/X_train_spatial.csv\", index=False)\n",
    "X_test.to_csv(\"/cluster/home/maikents/sinmod_features_masters/ready_for_training/pipeline6/X_test_spatial.csv\", index=False)\n",
    "y_train.to_csv(\"/cluster/home/maikents/sinmod_features_masters/ready_for_training/pipeline6/y_train_spatial.csv\", index=False)\n",
    "y_test.to_csv(\"/cluster/home/maikents/sinmod_features_masters/ready_for_training/pipeline6/y_test_spatial.csv\", index=False)\n",
    "groups_train.to_csv(\"/cluster/home/maikents/sinmod_features_masters/ready_for_training/pipeline6/groups_train_spatial.csv\", index=False)\n",
    "groups_test.to_csv(\"/cluster/home/maikents/sinmod_features_masters/ready_for_training/pipeline6/groups_test_spatial.csv\", index=False)\n"
   ]
  },
  {
   "cell_type": "code",
   "execution_count": null,
   "id": "d674bf5a-0ccf-4c24-af8d-b928b9bc86f3",
   "metadata": {},
   "outputs": [],
   "source": []
  }
 ],
 "metadata": {
  "kernelspec": {
   "display_name": "Python 3 (ipykernel)",
   "language": "python",
   "name": "python3"
  },
  "language_info": {
   "codemirror_mode": {
    "name": "ipython",
    "version": 3
   },
   "file_extension": ".py",
   "mimetype": "text/x-python",
   "name": "python",
   "nbconvert_exporter": "python",
   "pygments_lexer": "ipython3",
   "version": "3.12.3"
  }
 },
 "nbformat": 4,
 "nbformat_minor": 5
}
