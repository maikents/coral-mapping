{
 "cells": [
  {
   "cell_type": "code",
   "execution_count": 11,
   "metadata": {},
   "outputs": [],
   "source": [
    "import geopandas as gpd\n",
    "import matplotlib.pyplot as plt\n",
    "import numpy as np\n",
    "import matplotlib.pyplot as plt "
   ]
  },
  {
   "cell_type": "markdown",
   "metadata": {},
   "source": [
    "# Extracting necessary SINMOD data\n",
    "\n",
    "Extracting more than a few time steps will take a while and potentially cause crashing. Then we will need to run on IDUN. Can set up via VS code ssh.\n",
    "\n",
    "We will now:\n",
    "- Look at a few data sets to check the numbers make sense\n",
    "- Standardise and normalise the data"
   ]
  },
  {
   "cell_type": "code",
   "execution_count": 105,
   "metadata": {},
   "outputs": [
    {
     "name": "stdout",
     "output_type": "stream",
     "text": [
      "time                 No units\n",
      "grid_mapping         No units\n",
      "LayerDepths          m\n",
      "xc                   meter\n",
      "yc                   meter\n",
      "zc                   m\n",
      "depth                m\n",
      "DXxDYy               m2\n",
      "u_velocity           m/s\n",
      "v_velocity           m/s\n",
      "elevation            m\n",
      "temperature          degC\n",
      "salinity             psu\n",
      "ice_thickness        m\n",
      "ice_compactness      -\n",
      "salinity_ice         psu\n"
     ]
    }
   ],
   "source": [
    "import netCDF4 as nc\n",
    "from netCDF4 import Dataset\n",
    "\n",
    "# Importing SINMOD data\n",
    "filename_PhysStates = 'PhysStates.nc'\n",
    "\n",
    "PhysStates_data = Dataset(filename_PhysStates, 'r')\n",
    "\n",
    "# Looking at our list of available variables\n",
    "variables_list = list(PhysStates_data.variables.keys())\n",
    "for variable in variables_list:\n",
    "    units = PhysStates_data.variables[variable].units if 'units' in PhysStates_data.variables[variable].ncattrs() else 'No units'\n",
    "    print(f\"{variable:<20} {units}\")"
   ]
  },
  {
   "cell_type": "code",
   "execution_count": 103,
   "metadata": {
    "vscode": {
     "languageId": "julia"
    }
   },
   "outputs": [
    {
     "name": "stdout",
     "output_type": "stream",
     "text": [
      "time                 No units\n",
      "grid_mapping         No units\n",
      "LayerDepths          m\n",
      "xc                   meter\n",
      "yc                   meter\n",
      "zc                   m\n",
      "depth                m\n",
      "DXxDYy               m2\n",
      "u_velocity           m/s\n",
      "v_velocity           m/s\n",
      "elevation            m\n",
      "temperature          degC\n",
      "salinity             psu\n",
      "ice_thickness        m\n",
      "ice_compactness      -\n",
      "salinity_ice         psu\n"
     ]
    }
   ],
   "source": [
    "# Extracting all the map dimensions, we can extract both ways, I don't think it matters\n",
    "xc = PhysStates_data.variables['xc'][:]  # x-coordinates (meters)\n",
    "yc = PhysStates_data.variables['yc'][:]  # y-coordinates (meters)\n",
    "zc = PhysStates_data['LayerDepths'][:]  # z-coordinates (meters)\n",
    "\n",
    "# Now checking temperature data matches what we expect from the dimensions\n",
    "# Extracting temperature at t = 0, and check the dimensions\n",
    "temperature_var = PhysStates_data.variables['temperature']\n",
    "temperature = temperature_var[0,:,:,:]\n",
    "print(\"SINMOD grid dimensions:\")\n",
    "print(f\"xc shape: {xc.shape}\")\n",
    "print(f\"yc shape: {yc.shape}\")\n",
    "print(f\"zc shape: {zc.shape}\")\n",
    "\n",
    "print(f\"\\nTemperature data shape: {temperature.shape}\")\n",
    "# Now checking mean, max and min temperature to see if it makes sense\n",
    "print(f\"Mean temperature:\\t{temperature.mean():.2f}\")\n",
    "print(f\"Max temperature:\\t{temperature.max():.2f}\")\n",
    "print(f\"Min temperature:\\t{temperature.min():.2f}\")\n",
    "\n",
    "# Repeating for salinity\n",
    "salinity_var = PhysStates_data.variables['salinity']\n",
    "salinity = salinity_var[0,:,:,:]\n",
    "\n",
    "print(f\"\\nSalinity data shape:\\t{salinity.shape}\")\n",
    "print(f\"Mean salinity:\\t\\t{salinity.mean():.2f}\")\n",
    "print(f\"Max salinity:\\t\\t{salinity.max():.2f}\")\n",
    "print(f\"Min salinity:\\t\\t{salinity.min():.2f}\")\n"
   ]
  },
  {
   "cell_type": "code",
   "execution_count": 98,
   "metadata": {},
   "outputs": [
    {
     "name": "stdout",
     "output_type": "stream",
     "text": [
      "Standardized Temperature - Mean: 0.00, Std Dev: 1.00\n",
      "Standardized Salinity - Mean: -0.00, Std Dev: 1.00\n"
     ]
    }
   ],
   "source": [
    "from sklearn.preprocessing import StandardScaler\n",
    "\n",
    "# Many options for what sort of standardisation we want here, but a simple one:\n",
    "# Initialize the StandardScaler\n",
    "scaler = StandardScaler()\n",
    "\n",
    "# Standardize the temperature and salinity data\n",
    "temperature_standardized = scaler.fit_transform(temperature.reshape(-1, temperature.shape[-1])).reshape(temperature.shape)\n",
    "salinity_standardized = scaler.fit_transform(salinity.reshape(-1, salinity.shape[-1])).reshape(salinity.shape)\n",
    "\n",
    "# Print the mean and standard deviation of the standardized data to verify\n",
    "print(f\"Standardized Temperature - Mean: {temperature_standardized.mean():.2f}, Std Dev: {temperature_standardized.std():.2f}\")\n",
    "print(f\"Standardized Salinity - Mean: {salinity_standardized.mean():.2f}, Std Dev: {salinity_standardized.std():.2f}\")\n"
   ]
  },
  {
   "cell_type": "markdown",
   "metadata": {},
   "source": [
    "Now repeating for Biostates"
   ]
  },
  {
   "cell_type": "code",
   "execution_count": null,
   "metadata": {},
   "outputs": [],
   "source": [
    "# Importing BioStates data\n",
    "filename_BioStates = 'BioStates.nc'\n",
    "\n",
    "BioStates_data = Dataset(filename_BioStates, 'r')\n",
    "\n",
    "# Extracting all the map dimensions, we can extract both ways, I don't think it matters\n",
    "xc_bio = BioStates_data.variables['xc'][:]  # x-coordinates (meters)\n",
    "yc_bio = BioStates_data.variables['yc'][:]  # y-coordinates (meters)\n",
    "zc_bio = BioStates_data['LayerDepths'][:]  # z-coordinates (meters)\n",
    "\n",
    "# Now checking chlorophyll data matches what we expect from the dimensions\n",
    "# Extracting chlorophyll at t = 0, and check the dimensions\n",
    "chlorophyll_var = BioStates_data.variables['chlorophyll']\n",
    "chlorophyll = chlorophyll_var[0,:,:,:]\n",
    "print(\"BioStates grid dimensions:\")\n",
    "print(f\"xc shape: {xc_bio.shape}\")\n",
    "print(f\"yc shape: {yc_bio.shape}\")\n",
    "print(f\"zc shape: {zc_bio.shape}\")\n",
    "\n",
    "print(f\"\\nChlorophyll data shape: {chlorophyll.shape}\")\n",
    "# Now checking mean, max and min chlorophyll to see if it makes sense\n",
    "print(f\"Mean chlorophyll:\\t{chlorophyll.mean():.2f}\")\n",
    "print(f\"Max chlorophyll:\\t{chlorophyll.max():.2f}\")\n",
    "print(f\"Min chlorophyll:\\t{chlorophyll.min():.2f}\")\n",
    "\n",
    "# Repeating for nitrate\n",
    "nitrate_var = BioStates_data.variables['nitrate']\n",
    "nitrate = nitrate_var[0,:,:,:]\n",
    "\n",
    "print(f\"\\nNitrate data shape:\\t{nitrate.shape}\")\n",
    "print(f\"Mean nitrate:\\t\\t{nitrate.mean():.2f}\")\n",
    "print(f\"Max nitrate:\\t\\t{nitrate.max():.2f}\")\n",
    "print(f\"Min nitrate:\\t\\t{nitrate.min():.2f}\")"
   ]
  },
  {
   "cell_type": "code",
   "execution_count": 78,
   "metadata": {},
   "outputs": [],
   "source": [
    "# Importing coral reef data\n",
    "\n",
    "# gml_file_coral_reefs = \"./KystOgFiskeri_50_Trondelag_25832_Korallrev_GML.gml\"\n",
    "gml_file_coral_reefs = \"KystOgFiskeri_50_Trondelag_25833_Korallrev_GML.gml\"\n",
    "\n",
    "gdf_coral_reefs = gpd.read_file(gml_file_coral_reefs)\n",
    "\n",
    "# Not sure this is necessary since all the naturtypeNavn are the same\n",
    "# unique_naturtypeNavn = gdf_coral_reefs['naturtypeNavn'].unique()\n",
    "# print(unique_naturtypeNavn)\n",
    "coral_data = gdf_coral_reefs[gdf_coral_reefs['naturtypeNavn'] == 'Korallforekomster']\n",
    "\n",
    "# I think it's already a dataframe, so also unnecessary\n",
    "coral_df = pd.DataFrame(coral_data)\n",
    "\n",
    "\n",
    "coral_location_df = coral_df[['lengdegrad', 'breddegrad']]"
   ]
  },
  {
   "cell_type": "code",
   "execution_count": 79,
   "metadata": {},
   "outputs": [
    {
     "name": "stdout",
     "output_type": "stream",
     "text": [
      "<class 'netCDF4._netCDF4.Variable'>\n",
      "int32 grid_mapping()\n",
      "    grid_mapping_name: polar_stereographic\n",
      "    straight_vertical_longitude_from_pole: 58.0\n",
      "    horizontal_resolution: 20000.0\n",
      "    latitude_of_projection_origin: 90.0\n",
      "    longitude_of_projection_origin: 58.0\n",
      "    standard_parallel: 60.0\n",
      "    origoRef: [0. 0.]\n",
      "    semi_minor_axis: 6370000.0\n",
      "    semi_major_axis: 6370000.0\n",
      "    false_easting: 3900000.0\n",
      "    false_northing: 2570000.0\n",
      "    scale_factor_at_projection_origin: 1.0\n",
      "unlimited dimensions: \n",
      "current shape = ()\n",
      "filling on, default _FillValue of -2147483647 used\n"
     ]
    }
   ],
   "source": [
    "# Now to transform the coordinates to the same projection as the SINMOD data\n",
    "\n",
    "from pyproj import CRS, Transformer\n",
    "\n",
    "# Print grid mapping to see what the horizontal resolution is\n",
    "# In the case of gin it is 20km, for nor4km it is 4km\n",
    "grid_mapping = PhysStates_data.variables['grid_mapping']\n",
    "print(grid_mapping)\n"
   ]
  },
  {
   "cell_type": "code",
   "execution_count": 87,
   "metadata": {},
   "outputs": [
    {
     "name": "stdout",
     "output_type": "stream",
     "text": [
      "coral_lons range before: 7.84797 11.32001\n",
      "coral_lats range before: 63.4133 65.00816\n",
      "--------------------------------\n",
      "coral_lons grid-coordinates after: 87.50081214535975 98.74281827314783\n",
      "coral_lats grid-coordinates before: 33.6640977812021 39.715041231478516\n",
      "Grid dimensions (xc): 300\n",
      "Grid dimensions (yc): 235\n"
     ]
    }
   ],
   "source": [
    "# Specifying projection to SINMOD format\n",
    "\n",
    "# Define the Coordinate Reference Systems (CRS) for the coral data\n",
    "# It could be any of these, need to double check\n",
    "crs_wgs84 = CRS.from_epsg(4326)  # WGS84 (lat/lon coordinates)\n",
    "# crs_euref89_utm32 = CRS.from_epsg(25832)  # EUREF89 / UTM zone 32N\n",
    "# crs_euref89 = CRS.from_epsg(4258)  # EUREF89 (geographic lat/lon)\n",
    "\n",
    "# SINMOD projection parameters as a custom projection\n",
    "crs_sinmod = CRS.from_proj4(\"+proj=stere +lat_0=90 +lat_ts=60 +lon_0=58 \"\n",
    "                            \"+x_0=3900000 +y_0=2570000 +ellps=WGS84 +units=m +no_defs\")\n",
    "\n",
    "# Create a transformer to transform from wgs84 (geographic) to SINMOD\n",
    "transformer_wgs84_to_sinmod = Transformer.from_crs(crs_wgs84, crs_sinmod, always_xy=True)\n",
    "\n",
    "xc_grid, yc_grid = np.meshgrid(xc, yc)\n",
    "lon_grid, lat_grid = transformer_wgs84_to_sinmod.transform(xc_grid, yc_grid)\n",
    "\n",
    "# Performing projection on coral reef data\n",
    "print(\"coral_lons range before:\", coral_location_df['lengdegrad'].min(), coral_location_df['lengdegrad'].max())\n",
    "print(\"coral_lats range before:\", coral_location_df['breddegrad'].min(), coral_location_df['breddegrad'].max())\n",
    "print(\"--------------------------------\")\n",
    "\n",
    "# Transform coral coordinates from EUREF89 to SINMOD\n",
    "coral_x, coral_y = transformer_wgs84_to_sinmod.transform(coral_location_df['lengdegrad'], coral_location_df['breddegrad'])\n",
    "\n",
    "# We need to DIVIDE by the resolution of the SINMOD grid to get the grid coordinates\n",
    "# In the case of gin this is 20km\n",
    "coral_x /= 20000\n",
    "coral_y /= 20000\n",
    "\n",
    "# The values after are NOT lat lon, but rather the SINMOD grid coordinates \n",
    "print(\"coral_lons grid-coordinates after:\", coral_x.min(), coral_x.max())\n",
    "print(\"coral_lats grid-coordinates before:\", coral_y.min(), coral_y.max())\n",
    "\n",
    "# So we expect them to be in the range of the SINMOD grid:\n",
    "print(f\"Grid dimensions (xc): {xc.shape[0]}\")\n",
    "print(f\"Grid dimensions (yc): {yc.shape[0]}\")\n"
   ]
  },
  {
   "cell_type": "code",
   "execution_count": null,
   "metadata": {},
   "outputs": [],
   "source": []
  },
  {
   "cell_type": "code",
   "execution_count": null,
   "metadata": {},
   "outputs": [],
   "source": []
  }
 ],
 "metadata": {
  "kernelspec": {
   "display_name": "SINMOD",
   "language": "python",
   "name": "python3"
  },
  "language_info": {
   "codemirror_mode": {
    "name": "ipython",
    "version": 3
   },
   "file_extension": ".py",
   "mimetype": "text/x-python",
   "name": "python",
   "nbconvert_exporter": "python",
   "pygments_lexer": "ipython3",
   "version": "3.12.5"
  }
 },
 "nbformat": 4,
 "nbformat_minor": 2
}
