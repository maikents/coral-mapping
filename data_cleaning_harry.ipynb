{
 "cells": [
  {
   "cell_type": "code",
   "execution_count": 1,
   "metadata": {},
   "outputs": [],
   "source": [
    "import matplotlib.pyplot as plt\n",
    "import numpy as np\n",
    "import matplotlib.pyplot as plt "
   ]
  },
  {
   "cell_type": "markdown",
   "metadata": {},
   "source": [
    "# Extracting necessary SINMOD data\n",
    "\n",
    "Extracting more than a few time steps will take a while and potentially cause crashing. Then we will need to run on IDUN. Can set up via VS code ssh.\n",
    "\n",
    "We will now:\n",
    "- Look at a few data sets to check the numbers make sense\n",
    "- Standardise and normalise the data"
   ]
  },
  {
   "cell_type": "code",
   "execution_count": 94,
   "metadata": {},
   "outputs": [
    {
     "name": "stdout",
     "output_type": "stream",
     "text": [
      "time                 No units\n",
      "grid_mapping         No units\n",
      "LayerDepths          m\n",
      "xc                   meter\n",
      "yc                   meter\n",
      "zc                   m\n",
      "depth                m\n",
      "DXxDYy               m2\n",
      "u_velocity           m/s\n",
      "v_velocity           m/s\n",
      "elevation            m\n",
      "temperature          degC\n",
      "salinity             psu\n",
      "ice_thickness        m\n",
      "ice_compactness      -\n",
      "salinity_ice         psu\n"
     ]
    }
   ],
   "source": [
    "import netCDF4 as nc\n",
    "from netCDF4 import Dataset\n",
    "\n",
    "# Importing SINMOD data\n",
    "filename_PhysStates = '/cluster/projects/itk-SINMOD/coral-mapping/gin/spinup/run2/PhysStates.nc'\n",
    "\n",
    "PhysStates_data = Dataset(filename_PhysStates, 'r')\n",
    "\n",
    "filename_PhysStates = '/cluster/projects/itk-SINMOD/coral-mapping/nor4km_2019/2019/PhysStates.nc'\n",
    "\n",
    "nor4km_PhysStates_data = Dataset(filename_PhysStates, 'r')\n",
    "\n",
    "# Looking at our list of available variables\n",
    "variables_list = list(PhysStates_data.variables.keys())\n",
    "for variable in variables_list:\n",
    "    units = PhysStates_data.variables[variable].units if 'units' in PhysStates_data.variables[variable].ncattrs() else 'No units'\n",
    "    print(f\"{variable:<20} {units}\")"
   ]
  },
  {
   "cell_type": "code",
   "execution_count": 3,
   "metadata": {},
   "outputs": [
    {
     "name": "stdout",
     "output_type": "stream",
     "text": [
      "SINMOD grid dimensions:\n",
      "xc shape: (300,)\n",
      "yc shape: (235,)\n",
      "zc shape: (25,)\n",
      "\n",
      "Temperature data shape: (25, 235, 300)\n",
      "Mean temperature:\t1.89\n",
      "Max temperature:\t11.51\n",
      "Min temperature:\t-1.80\n",
      "\n",
      "Salinity data shape:\t(25, 235, 300)\n",
      "Mean salinity:\t\t34.14\n",
      "Max salinity:\t\t37.37\n",
      "Min salinity:\t\t0.10\n"
     ]
    }
   ],
   "source": [
    "# Extracting all the map dimensions, we can extract both ways, I don't think it matters\n",
    "xc = PhysStates_data.variables['xc'][:]  # x-coordinates (meters)\n",
    "yc = PhysStates_data.variables['yc'][:]  # y-coordinates (meters)\n",
    "zc = PhysStates_data['LayerDepths'][:]  # z-coordinates (meters)\n",
    "\n",
    "# Now checking temperature data matches what we expect from the dimensions\n",
    "# Extracting temperature at t = 0, and check the dimensions\n",
    "temperature_var = PhysStates_data.variables['temperature']\n",
    "temperature = temperature_var[0,:,:,:]\n",
    "print(\"SINMOD grid dimensions:\")\n",
    "print(f\"xc shape: {xc.shape}\")\n",
    "print(f\"yc shape: {yc.shape}\")\n",
    "print(f\"zc shape: {zc.shape}\")\n",
    "\n",
    "print(f\"\\nTemperature data shape: {temperature.shape}\")\n",
    "# Now checking mean, max and min temperature to see if it makes sense\n",
    "print(f\"Mean temperature:\\t{temperature.mean():.2f}\")\n",
    "print(f\"Max temperature:\\t{temperature.max():.2f}\")\n",
    "print(f\"Min temperature:\\t{temperature.min():.2f}\")\n",
    "\n",
    "# Repeating for salinity\n",
    "salinity_var = PhysStates_data.variables['salinity']\n",
    "salinity = salinity_var[0,:,:,:]\n",
    "\n",
    "print(f\"\\nSalinity data shape:\\t{salinity.shape}\")\n",
    "print(f\"Mean salinity:\\t\\t{salinity.mean():.2f}\")\n",
    "print(f\"Max salinity:\\t\\t{salinity.max():.2f}\")\n",
    "print(f\"Min salinity:\\t\\t{salinity.min():.2f}\")\n"
   ]
  },
  {
   "cell_type": "code",
   "execution_count": 4,
   "metadata": {},
   "outputs": [
    {
     "name": "stdout",
     "output_type": "stream",
     "text": [
      "Standardised Temperature - Mean: 0.00, Std Dev: 1.00\n",
      "Standardised Salinity - Mean: -0.00, Std Dev: 1.00\n"
     ]
    }
   ],
   "source": [
    "from sklearn.preprocessing import StandardScaler\n",
    "\n",
    "# Many options for what sort of standardisation we want here, but a simple one:\n",
    "# Initialize the StandardScaler\n",
    "scaler = StandardScaler()\n",
    "\n",
    "# Standardize the temperature and salinity data\n",
    "temperature_standardized = scaler.fit_transform(temperature.reshape(-1, 1)).reshape(temperature.shape)\n",
    "salinity_standardized = scaler.fit_transform(salinity.reshape(-1, 1)).reshape(salinity.shape)\n",
    "\n",
    "# Print the mean and standard deviation of the standardised data to verify\n",
    "print(f\"Standardised Temperature - Mean: {temperature_standardized.mean():.2f}, Std Dev: {temperature_standardized.std():.2f}\")\n",
    "print(f\"Standardised Salinity - Mean: {salinity_standardized.mean():.2f}, Std Dev: {salinity_standardized.std():.2f}\")"
   ]
  },
  {
   "cell_type": "code",
   "execution_count": 5,
   "metadata": {},
   "outputs": [],
   "source": [
    "# We want to save this processed data, there are multiple options:\n",
    "# 1. NetCDF\n",
    "# 2. Pandas (2D data)\n",
    "# 3. Xarray ()\n",
    "# Need to determine best method"
   ]
  },
  {
   "cell_type": "markdown",
   "metadata": {},
   "source": [
    "Now repeating for Biostates"
   ]
  },
  {
   "cell_type": "code",
   "execution_count": 6,
   "metadata": {},
   "outputs": [
    {
     "name": "stdout",
     "output_type": "stream",
     "text": [
      "time                 No units\n",
      "grid_mapping         No units\n",
      "LayerDepths          m\n",
      "xc                   meter\n",
      "yc                   meter\n",
      "zc                   m\n",
      "depth                m\n",
      "DXxDYy               m2\n",
      "nitrate              mmmol N m-3\n",
      "silicate             mmmol N m-3\n",
      "ammonium             mmmol N m-3\n",
      "diatoms              mmmol N m-3\n",
      "flagellates          mmmol N m-3\n",
      "ciliates             mmmol N m-3\n",
      "HNANO                mmmol N m-3\n",
      "bacteria             mmmol N m-3\n",
      "calanus_finmarchicus gC m-2\n",
      "calanus_glacialis    gC m-2\n",
      "detritus_slow        mmmol N m-3\n",
      "detritus_fast        mmmol N m-3\n",
      "DOC                  mmmol N m-3\n",
      "cDOM                 m-1\n",
      "silicate_detritus    mmmol N m-3\n",
      "sediment_Si          mmmol Si m-2\n",
      "sediment_N           mmmol N m-2\n"
     ]
    }
   ],
   "source": [
    "# Importing BioStates data\n",
    "filename_BioStates = '/cluster/projects/itk-SINMOD/coral-mapping/gin/spinup/run2/BioStates.nc'\n",
    "\n",
    "BioStates_data = Dataset(filename_BioStates, 'r')\n",
    "\n",
    "# Looking at our list of available variables\n",
    "bio_variables_list = list(BioStates_data.variables.keys())\n",
    "for variable in bio_variables_list:\n",
    "    units = BioStates_data.variables[variable].units if 'units' in BioStates_data.variables[variable].ncattrs() else 'No units'\n",
    "    print(f\"{variable:<20} {units}\")"
   ]
  },
  {
   "cell_type": "code",
   "execution_count": 7,
   "metadata": {},
   "outputs": [
    {
     "name": "stdout",
     "output_type": "stream",
     "text": [
      "Silicate data shape: (25, 235, 300)\n",
      "Mean silicate:\t7.07\n",
      "Max silicate:\t99.35\n",
      "Min silicate:\t0.17\n",
      "\n",
      "DOC data shape: (25, 235, 300)\n",
      "Mean DOC:\t0.00\n",
      "Max DOC:\t0.08\n",
      "Min DOC:\t0.00\n"
     ]
    }
   ],
   "source": [
    "# Extracting silicate and DOC data\n",
    "silicate_var = BioStates_data.variables['silicate']\n",
    "DOC_var = BioStates_data.variables['DOC']\n",
    "\n",
    "# Extracting silicate and DOC at t = 0, and check the dimensions\n",
    "silicate = silicate_var[0, :, :, :]\n",
    "DOC = DOC_var[0, :, :, :]\n",
    "\n",
    "print(\"Silicate data shape:\", silicate.shape)\n",
    "print(f\"Mean silicate:\\t{silicate.mean():.2f}\")\n",
    "print(f\"Max silicate:\\t{silicate.max():.2f}\")\n",
    "print(f\"Min silicate:\\t{silicate.min():.2f}\")\n",
    "\n",
    "print(\"\\nDOC data shape:\", DOC.shape)\n",
    "print(f\"Mean DOC:\\t{DOC.mean():.2f}\")\n",
    "print(f\"Max DOC:\\t{DOC.max():.2f}\")\n",
    "print(f\"Min DOC:\\t{DOC.min():.2f}\")"
   ]
  },
  {
   "cell_type": "markdown",
   "metadata": {},
   "source": [
    "# Extracting coral data and transforming to SINMOD co-ordinate system\n",
    "\n",
    "1. Transformation to SINMOD co-ordinates\n",
    "- What cleaning steps should do?"
   ]
  },
  {
   "cell_type": "code",
   "execution_count": 78,
   "metadata": {},
   "outputs": [
    {
     "name": "stdout",
     "output_type": "stream",
     "text": [
      "Index(['gml_id', 'lokalId', 'navnerom', 'verifiseringsdato', 'produkt',\n",
      "       'versjon', 'målemetode', 'nøyaktighet', 'medium', 'opphav',\n",
      "       'minimumsdybde', 'maksimumsdybde', 'naturtype', 'naturtypeNavn',\n",
      "       'kildeNavn', 'observasjonsMetode', 'observasjonsSted',\n",
      "       'observasjonsSlutt', 'lengdegrad', 'breddegrad', 'geometry'],\n",
      "      dtype='object')\n"
     ]
    }
   ],
   "source": [
    "import geopandas as gpd\n",
    "import pandas as pd\n",
    "# Importing coral reef data\n",
    "\n",
    "# gml_file_coral_reefs = \"./KystOgFiskeri_50_Trondelag_25832_Korallrev_GML.gml\"\n",
    "gml_file_coral_reefs = \"/cluster/home/haroldh/coral-mapping/raw_data/KystOgFiskeri_50_Trondelag_25833_Korallrev_GML.gml\"\n",
    "\n",
    "gdf_coral_reefs_trondelag = gpd.read_file(gml_file_coral_reefs)\n",
    "\n",
    "# Not sure this is necessary since all the naturtypeNavn are the same\n",
    "# unique_naturtypeNavn = gdf_coral_reefs_trondelag['naturtypeNavn'].unique()\n",
    "# print(unique_naturtypeNavn)\n",
    "\n",
    "coral_data = gdf_coral_reefs_trondelag[gdf_coral_reefs_trondelag['naturtypeNavn'] == 'Korallforekomster']\n",
    "\n",
    "coral_location_df = coral_data[['lengdegrad', 'breddegrad']]\n",
    "\n",
    "# Display the columns of the coral reef data\n",
    "print(coral_data.columns)"
   ]
  },
  {
   "cell_type": "code",
   "execution_count": 85,
   "metadata": {},
   "outputs": [
    {
     "name": "stdout",
     "output_type": "stream",
     "text": [
      "<class 'netCDF4._netCDF4.Variable'>\n",
      "int32 grid_mapping()\n",
      "    grid_mapping_name: polar_stereographic\n",
      "    straight_vertical_longitude_from_pole: 58.0\n",
      "    horizontal_resolution: 20000.0\n",
      "    latitude_of_projection_origin: 90.0\n",
      "    longitude_of_projection_origin: 58.0\n",
      "    standard_parallel: 60.0\n",
      "    origoRef: [0. 0.]\n",
      "    semi_minor_axis: 6370000.0\n",
      "    semi_major_axis: 6370000.0\n",
      "    false_easting: 3900000.0\n",
      "    false_northing: 2570000.0\n",
      "    scale_factor_at_projection_origin: 1.0\n",
      "unlimited dimensions: \n",
      "current shape = ()\n",
      "filling on, default _FillValue of -2147483647 used\n",
      "\n",
      "Horizontal resolution: 20000.0 meters\n"
     ]
    },
    {
     "data": {
      "text/plain": [
       "<Projected CRS: +proj=stere +lat_0=90.0 +lat_ts=60.0 +lon_0=58.0 + ...>\n",
       "Name: unknown\n",
       "Axis Info [cartesian]:\n",
       "- E[south]: Easting (metre)\n",
       "- N[south]: Northing (metre)\n",
       "Area of Use:\n",
       "- undefined\n",
       "Coordinate Operation:\n",
       "- name: unknown\n",
       "- method: Polar Stereographic (variant B)\n",
       "Datum: unknown\n",
       "- Ellipsoid: unknown\n",
       "- Prime Meridian: Greenwich"
      ]
     },
     "execution_count": 85,
     "metadata": {},
     "output_type": "execute_result"
    }
   ],
   "source": [
    "from pyproj import CRS, Transformer\n",
    "\n",
    "def obtain_sinmod_crs(PhysStates_data):\n",
    "    # Print grid mapping to see details, particularly the horizontal resolution\n",
    "    grid_mapping = PhysStates_data.variables['grid_mapping']\n",
    "    print(grid_mapping)\n",
    "\n",
    "    horizontal_resolution = grid_mapping.getncattr('horizontal_resolution')\n",
    "    print(f\"\\nHorizontal resolution: {horizontal_resolution} meters\")\n",
    "\n",
    "    crs_sinmod = CRS.from_proj4(f\"+proj=stere \"\n",
    "                                f\"+lat_0={grid_mapping.latitude_of_projection_origin} \"\n",
    "                                f\"+lat_ts={grid_mapping.standard_parallel} \"\n",
    "                                f\"+lon_0={grid_mapping.straight_vertical_longitude_from_pole} \"\n",
    "                                f\"+x_0={grid_mapping.false_easting} \"\n",
    "                                f\"+y_0={grid_mapping.false_northing} \"\n",
    "                                f\"+a={grid_mapping.semi_major_axis} \"\n",
    "                                f\"+b={grid_mapping.semi_minor_axis} \"\n",
    "                                f\"+units=m +no_defs\")\n",
    "    \n",
    "    print(f\"\\n Determined SINMOD CRS: {crs_sinmod}\")\n",
    "    return crs_sinmod\n",
    "\n",
    "# Example usage\n",
    "crs_sinmod = transform_coordinates_to_sinmod_projection(PhysStates_data)\n",
    "\n",
    "crs_sinmod\n"
   ]
  },
  {
   "cell_type": "code",
   "execution_count": 74,
   "metadata": {},
   "outputs": [
    {
     "name": "stdout",
     "output_type": "stream",
     "text": [
      "coral_lons range before: 7.84797 11.32001\n",
      "coral_lats range before: 63.4133 65.00816\n",
      "--------------------------------\n",
      "coral_lons grid-coordinates: 1758563.197848186 1982664.8368724776\n",
      "coral_lats grid-coordinates: 680827.3874419844 801418.9750177762\n"
     ]
    },
    {
     "name": "stderr",
     "output_type": "stream",
     "text": [
      "/tmp/ipykernel_849434/363774127.py:24: SettingWithCopyWarning: \n",
      "A value is trying to be set on a copy of a slice from a DataFrame.\n",
      "Try using .loc[row_indexer,col_indexer] = value instead\n",
      "\n",
      "See the caveats in the documentation: https://pandas.pydata.org/pandas-docs/stable/user_guide/indexing.html#returning-a-view-versus-a-copy\n",
      "  coral_data.loc[:, 'x'] = coral_x\n",
      "/tmp/ipykernel_849434/363774127.py:25: SettingWithCopyWarning: \n",
      "A value is trying to be set on a copy of a slice from a DataFrame.\n",
      "Try using .loc[row_indexer,col_indexer] = value instead\n",
      "\n",
      "See the caveats in the documentation: https://pandas.pydata.org/pandas-docs/stable/user_guide/indexing.html#returning-a-view-versus-a-copy\n",
      "  coral_data.loc[:, 'y'] = coral_y\n"
     ]
    }
   ],
   "source": [
    "from pyproj import CRS, Transformer\n",
    "\n",
    "def transform_coral_coordinates(coral_data, crs_sinmod=CRS.from_proj4(\"+proj=stere +lat_0=90 +lat_ts=60 +lon_0=58 \"\n",
    "                                \"+x_0=3900000 +y_0=2570000 +a=6370000 +b=6370000 +units=m +no_defs\")):\n",
    "    # Define the Coordinate Reference Systems (CRS) for the coral data\n",
    "    crs_wgs84 = CRS.from_epsg(4326)  # WGS84 (lat/lon coordinates)\n",
    "\n",
    "    # Create a transformer to transform from wgs84 (geographic) to SINMOD\n",
    "    transformer_wgs84_to_sinmod = Transformer.from_crs(crs_wgs84, crs_sinmod, always_xy=True)\n",
    "\n",
    "    # Performing projection on coral reef data\n",
    "    print(\"coral_lons range before:\", coral_data['lengdegrad'].min(), coral_data['lengdegrad'].max())\n",
    "    print(\"coral_lats range before:\", coral_data['breddegrad'].min(), coral_data['breddegrad'].max())\n",
    "    print(\"--------------------------------\")\n",
    "\n",
    "    # Transform coral coordinates from WGS84 to SINMOD\n",
    "    coral_x, coral_y = transformer_wgs84_to_sinmod.transform(coral_data['lengdegrad'], coral_data['breddegrad'])\n",
    "\n",
    "    # The values after are NOT lat lon, but rather the SINMOD grid coordinates \n",
    "    print(\"coral_lons grid-coordinates:\", coral_x.min(), coral_x.max())\n",
    "    print(\"coral_lats grid-coordinates:\", coral_y.min(), coral_y.max())\n",
    "\n",
    "    # Save coral_x and coral_y as new columns called x and y\n",
    "    coral_data.loc[:, 'x'] = coral_x\n",
    "    coral_data.loc[:, 'y'] = coral_y\n",
    "\n",
    "    return coral_data\n",
    "\n",
    "# Example usage\n",
    "coral_data = transform_coral_coordinates(coral_location_df)\n",
    "\n",
    "# Save the dataframe to a parquet file\n",
    "coral_data.to_parquet('./processed_data/coral_data_trondelag_processed.parquet', index=False)"
   ]
  },
  {
   "cell_type": "code",
   "execution_count": null,
   "metadata": {},
   "outputs": [
    {
     "name": "stdout",
     "output_type": "stream",
     "text": [
      "<class 'netCDF4._netCDF4.Variable'>\n",
      "int32 grid_mapping()\n",
      "    grid_mapping_name: polar_stereographic\n",
      "    straight_vertical_longitude_from_pole: 58.0\n",
      "    horizontal_resolution: 4000.0\n",
      "    latitude_of_projection_origin: 90.0\n",
      "    longitude_of_projection_origin: 58.0\n",
      "    standard_parallel: 60.0\n",
      "    origoRef: [0. 0.]\n",
      "    semi_minor_axis: 6370000.0\n",
      "    semi_major_axis: 6370000.0\n",
      "    false_easting: 3304000.0\n",
      "    false_northing: 2554000.0\n",
      "    scale_factor_at_projection_origin: 1.0\n",
      "unlimited dimensions: \n",
      "current shape = ()\n",
      "filling on, default _FillValue of -2147483647 used\n",
      "\n",
      "Horizontal resolution: 4000.0 meters\n",
      "\n",
      " Determined SINMOD CRS: +proj=stere +lat_0=90.0 +lat_ts=60.0 +lon_0=58.0 +x_0=3304000.0 +y_0=2554000.0 +a=6370000.0 +b=6370000.0 +units=m +no_defs +type=crs\n",
      "coral_lons range before: 7.84797 11.32001\n",
      "coral_lats range before: 63.4133 65.00816\n",
      "--------------------------------\n",
      "coral_lons grid-coordinates: 1162563.197848186 1386664.8368724776\n",
      "coral_lats grid-coordinates: 664827.3874419844 785418.9750177762\n"
     ]
    },
    {
     "name": "stderr",
     "output_type": "stream",
     "text": [
      "/tmp/ipykernel_849434/2875483595.py:12: RuntimeWarning: invalid value encountered in sqrt\n",
      "  current_speed = np.sqrt(phystates_data.variables['u_velocity'][0, 0, :, :]**2 +\n"
     ]
    },
    {
     "data": {
      "image/png": "[encoded data removed]",
      "text/plain": [
       "<Figure size 1000x800 with 2 Axes>"
      ]
     },
     "metadata": {},
     "output_type": "display_data"
    }
   ],
   "source": [
    "def plot_coral_on_nor4km(phystates_data, coral_data, x_range=None, y_range=None):\n",
    "\n",
    "    crs  = obtain_sinmod_crs(phystates_data)\n",
    "\n",
    "    # Extracting necessary data from nor4km PhysStates.nc\n",
    "    xc = phystates_data.variables['xc'][:]  # x-coordinates (meters)\n",
    "    yc = phystates_data.variables['yc'][:]  # y-coordinates (meters)\n",
    "\n",
    "    current_speed = np.sqrt(phystates_data.variables['u_velocity'][0, 0, :, :]**2 + \n",
    "                                   phystates_data.variables['v_velocity'][0, 0, :, :]**2)\n",
    "\n",
    "    coral_data = transform_coral_coordinates(coral_data, crs)\n",
    "\n",
    "    # If x_range and y_range are provided, extract the subset of the data\n",
    "    if x_range and y_range:\n",
    "        x_subset = xc[x_range[0]:x_range[1]]\n",
    "        y_subset = yc[y_range[0]:y_range[1]]\n",
    "        current_speed_subset = current_speed[y_range[0]:y_range[1], x_range[0]:x_range[1]]\n",
    "        u_velocity_subset = phystates_data.variables['u_velocity'][0, 0, y_range[0]:y_range[1], x_range[0]:x_range[1]]\n",
    "        v_velocity_subset = phystates_data.variables['v_velocity'][0, 0, y_range[0]:y_range[1], x_range[0]:x_range[1]]\n",
    "    else:\n",
    "        x_subset = xc\n",
    "        y_subset = yc\n",
    "        current_speed_subset = current_speed\n",
    "        u_velocity_subset = phystates_data.variables['u_velocity'][0, 0, :, :]\n",
    "        v_velocity_subset = phystates_data.variables['v_velocity'][0, 0, :, :]\n",
    "\n",
    "    # Plot the transformed coral data points on top of the nor4km SINMOD grid\n",
    "    plt.figure(figsize=(10, 8))\n",
    "    plt.contourf(x_subset, y_subset, current_speed_subset, cmap='viridis')\n",
    "    plt.colorbar(label='Current Speed (m/s)')\n",
    "    plt.quiver(x_subset, y_subset, u_velocity_subset, v_velocity_subset, scale=50, color='white')\n",
    "    plt.scatter(coral_data['x'], coral_data['y'], color='red', label='Coral Reefs', s=10)\n",
    "\n",
    "    plt.xlabel('X Index')\n",
    "    plt.ylabel('Y Index')\n",
    "    plt.title('Current Speed and Direction with Coral Reefs')\n",
    "    plt.legend()\n",
    "    plt.show()\n",
    "\n",
    "# Suggested gin ranges\n",
    "x_range_gin = (85, 110)\n",
    "y_range_gin = (30, 45)\n",
    "\n",
    "# Suggested nor4km ranges\n",
    "x_range_nor4km = (200, 300)\n",
    "y_range_nor4km = (200, 240)\n",
    "\n",
    "# Example usage\n",
    "plot_coral_on_nor4km(nor4km_PhysStates_data, coral_data, x_range=x_range_nor4km, y_range=y_range_nor4km)\n"
   ]
  },
  {
   "cell_type": "code",
   "execution_count": null,
   "metadata": {},
   "outputs": [
    {
     "name": "stdout",
     "output_type": "stream",
     "text": [
      "nor4km dataset corners in WGS84:\n",
      "Corner 1 in WGS84: Longitude = 1.3698685244952065, Latitude = 47.143175348243595\n",
      "Corner 2 in WGS84: Longitude = 57.553432429347204, Latitude = 65.63584746357313\n",
      "Corner 3 in WGS84: Longitude = -31.55881945222753, Latitude = 53.70437639133848\n",
      "Corner 4 in WGS84: Longitude = 24.309932474020215, Latitude = 89.65241102881276\n",
      "\n",
      "Gin dataset corners in WGS84:\n",
      "Corner 1 in WGS84: Longitude = 1.3135773804601496, Latitude = 47.32841550936124\n",
      "Corner 1 in WGS84: Longitude = 1.3135773804601496, Latitude = 47.32841550936124\n",
      "Corner 2 in WGS84: Longitude = 97.47245984834383, Latitude = 58.93764626594391\n",
      "Corner 2 in WGS84: Longitude = 97.47245984834383, Latitude = 58.93764626594391\n",
      "Corner 3 in WGS84: Longitude = -60.765424432837115, Latitude = 49.15236120778398\n",
      "Corner 3 in WGS84: Longitude = -60.765424432837115, Latitude = 49.15236120778398\n",
      "Corner 4 in WGS84: Longitude = -166.59365376669095, Latitude = 61.750729037153114\n",
      "Corner 4 in WGS84: Longitude = -166.59365376669095, Latitude = 61.750729037153114\n"
     ]
    }
   ],
   "source": [
    "# Comparing grids between gin and nor4km\n",
    "\n",
    "# Create a transformer to transform from SINMOD to wgs84 (geographic)\n",
    "transformer_sinmod_to_wgs84 = Transformer.from_crs(crs_sinmod, crs_wgs84, always_xy=True)\n",
    "\n",
    "# Import the nor4km SINMOD data\n",
    "filename_nor4km_PhysStates = '/cluster/projects/itk-SINMOD/coral-mapping/nor4km_2019/2019/PhysStates.nc'\n",
    "nor4km_PhysStates_data = Dataset(filename_nor4km_PhysStates, 'r')\n",
    "\n",
    "# Extract the corners of the nor4km dataset\n",
    "nor4km_xc = nor4km_PhysStates_data.variables['xc'][:]  # x-coordinates (meters)\n",
    "nor4km_yc = nor4km_PhysStates_data.variables['yc'][:]  # y-coordinates (meters)\n",
    "\n",
    "# Get the corner points of the nor4km grid in SINMOD\n",
    "nor4km_corners_sinmod = [\n",
    "    (nor4km_xc[0], nor4km_yc[0]),  # bottom-left\n",
    "    (nor4km_xc[-1], nor4km_yc[0]),  # bottom-right\n",
    "    (nor4km_xc[0], nor4km_yc[-1]),  # top-left\n",
    "    (nor4km_xc[-1], nor4km_yc[-1])  # top-right\n",
    "]\n",
    "\n",
    "# Transform each corner to WGS84\n",
    "nor4km_corners_wgs84 = [transformer_sinmod_to_wgs84.transform(x, y) for x, y in nor4km_corners_sinmod]\n",
    "\n",
    "# Print the corners in WGS84 for the nor4km dataset\n",
    "print(\"nor4km dataset corners in WGS84:\")\n",
    "for i, (lon, lat) in enumerate(nor4km_corners_wgs84):\n",
    "    print(f\"Corner {i + 1} in WGS84: Longitude = {lon}, Latitude = {lat}\")\n",
    "\n",
    "# Get the corner points of the grid in SINMOD\n",
    "corners_sinmod = [\n",
    "    (xc[0], yc[0]),  # bottom-left\n",
    "    (xc[-1], yc[0]),  # bottom-right\n",
    "    (xc[0], yc[-1]),  # top-left\n",
    "    (xc[-1], yc[-1])  # top-right\n",
    "]\n",
    "\n",
    "# Transform each corner to WGS84\n",
    "corners_wgs84 = [transformer_sinmod_to_wgs84.transform(x, y) for x, y in corners_sinmod]\n",
    "\n",
    "# Compare with the gin corners\n",
    "print(\"\\nGin dataset corners in WGS84:\")\n",
    "for i, (lon, lat) in enumerate(corners_wgs84):\n",
    "    print(f\"Corner {i + 1} in WGS84: Longitude = {lon}, Latitude = {lat}\")"
   ]
  }
 ],
 "metadata": {
  "kernelspec": {
   "display_name": "SINMOD",
   "language": "python",
   "name": "python3"
  },
  "language_info": {
   "codemirror_mode": {
    "name": "ipython",
    "version": 3
   },
   "file_extension": ".py",
   "mimetype": "text/x-python",
   "name": "python",
   "nbconvert_exporter": "python",
   "pygments_lexer": "ipython3",
   "version": "3.12.5"
  }
 },
 "nbformat": 4,
 "nbformat_minor": 2
}
