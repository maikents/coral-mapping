{
 "cells": [
  {
   "cell_type": "code",
   "execution_count": 11,
   "metadata": {},
   "outputs": [],
   "source": [
    "import geopandas as gpd\n",
    "import matplotlib.pyplot as plt\n",
    "import numpy as np\n",
    "import matplotlib.pyplot as plt \n",
    "import netCDF4 as nc\n",
    "from netCDF4 import Dataset\n",
    "import pyproj\n",
    "import pandas as pd"
   ]
  },
  {
   "cell_type": "code",
   "execution_count": 77,
   "metadata": {},
   "outputs": [
    {
     "name": "stdout",
     "output_type": "stream",
     "text": [
      "Temperature data shape: (25, 235, 300)\n",
      "xc shape: (300,)\n",
      "yc shape: (235,)\n",
      "zc shape: (25,)\n"
     ]
    }
   ],
   "source": [
    "# Importing SINMOD data\n",
    "filename_PhysStates = 'PhysStates.nc'\n",
    "\n",
    "PhysStates_data = Dataset(filename_PhysStates, 'r')\n",
    "\n",
    "# Extracting all the dimensions, we can extract both ways, I don't think it matters\n",
    "xc = PhysStates_data.variables['xc'][:]  # x-coordinates (meters)\n",
    "yc = PhysStates_data.variables['yc'][:]  # y-coordinates (meters)\n",
    "zc = PhysStates_data['LayerDepths'][:]  # z-coordinates (meters)\n",
    "\n",
    "# Extracting temperature at t = 0, and check the dimensions\n",
    "temperature_var = PhysStates_data.variables['temperature']\n",
    "temperature = temperature_var[0,:,:,:]\n",
    "\n",
    "print(f\"Temperature data shape: {temperature.shape}\")\n",
    "print(f\"xc shape: {xc.shape}\")\n",
    "print(f\"yc shape: {yc.shape}\")\n",
    "print(f\"zc shape: {zc.shape}\")"
   ]
  },
  {
   "cell_type": "code",
   "execution_count": 78,
   "metadata": {},
   "outputs": [],
   "source": [
    "# Importing coral reef data\n",
    "\n",
    "# gml_file_coral_reefs = \"./KystOgFiskeri_50_Trondelag_25832_Korallrev_GML.gml\"\n",
    "gml_file_coral_reefs = \"KystOgFiskeri_50_Trondelag_25833_Korallrev_GML.gml\"\n",
    "\n",
    "gdf_coral_reefs = gpd.read_file(gml_file_coral_reefs)\n",
    "\n",
    "# Not sure this is necessary since all the naturtypeNavn are the same\n",
    "# unique_naturtypeNavn = gdf_coral_reefs['naturtypeNavn'].unique()\n",
    "# print(unique_naturtypeNavn)\n",
    "coral_data = gdf_coral_reefs[gdf_coral_reefs['naturtypeNavn'] == 'Korallforekomster']\n",
    "\n",
    "# I think it's already a dataframe, so also unnecessary\n",
    "coral_df = pd.DataFrame(coral_data)\n",
    "\n",
    "\n",
    "coral_location_df = coral_df[['lengdegrad', 'breddegrad']]"
   ]
  },
  {
   "cell_type": "code",
   "execution_count": 79,
   "metadata": {},
   "outputs": [
    {
     "name": "stdout",
     "output_type": "stream",
     "text": [
      "<class 'netCDF4._netCDF4.Variable'>\n",
      "int32 grid_mapping()\n",
      "    grid_mapping_name: polar_stereographic\n",
      "    straight_vertical_longitude_from_pole: 58.0\n",
      "    horizontal_resolution: 20000.0\n",
      "    latitude_of_projection_origin: 90.0\n",
      "    longitude_of_projection_origin: 58.0\n",
      "    standard_parallel: 60.0\n",
      "    origoRef: [0. 0.]\n",
      "    semi_minor_axis: 6370000.0\n",
      "    semi_major_axis: 6370000.0\n",
      "    false_easting: 3900000.0\n",
      "    false_northing: 2570000.0\n",
      "    scale_factor_at_projection_origin: 1.0\n",
      "unlimited dimensions: \n",
      "current shape = ()\n",
      "filling on, default _FillValue of -2147483647 used\n"
     ]
    }
   ],
   "source": [
    "# Now to transform the coordinates to the same projection as the SINMOD data\n",
    "\n",
    "from pyproj import CRS, Transformer\n",
    "\n",
    "# Print grid mapping to see what the horizontal resolution is\n",
    "# In the case of gin it is 20km, for nor4km it is 4km\n",
    "grid_mapping = PhysStates_data.variables['grid_mapping']\n",
    "print(grid_mapping)\n"
   ]
  },
  {
   "cell_type": "code",
   "execution_count": 87,
   "metadata": {},
   "outputs": [
    {
     "name": "stdout",
     "output_type": "stream",
     "text": [
      "coral_lons range before: 7.84797 11.32001\n",
      "coral_lats range before: 63.4133 65.00816\n",
      "--------------------------------\n",
      "coral_lons grid-coordinates after: 87.50081214535975 98.74281827314783\n",
      "coral_lats grid-coordinates before: 33.6640977812021 39.715041231478516\n",
      "Grid dimensions (xc): 300\n",
      "Grid dimensions (yc): 235\n"
     ]
    }
   ],
   "source": [
    "# Specifying projection to SINMOD format\n",
    "\n",
    "# Define the Coordinate Reference Systems (CRS) for the coral data\n",
    "# It could be any of these, need to double check\n",
    "crs_wgs84 = CRS.from_epsg(4326)  # WGS84 (lat/lon coordinates)\n",
    "# crs_euref89_utm32 = CRS.from_epsg(25832)  # EUREF89 / UTM zone 32N\n",
    "# crs_euref89 = CRS.from_epsg(4258)  # EUREF89 (geographic lat/lon)\n",
    "\n",
    "# SINMOD projection parameters as a custom projection\n",
    "crs_sinmod = CRS.from_proj4(\"+proj=stere +lat_0=90 +lat_ts=60 +lon_0=58 \"\n",
    "                            \"+x_0=3900000 +y_0=2570000 +ellps=WGS84 +units=m +no_defs\")\n",
    "\n",
    "# Create a transformer to transform from wgs84 (geographic) to SINMOD\n",
    "transformer_wgs84_to_sinmod = Transformer.from_crs(crs_wgs84, crs_sinmod, always_xy=True)\n",
    "\n",
    "xc_grid, yc_grid = np.meshgrid(xc, yc)\n",
    "lon_grid, lat_grid = transformer_wgs84_to_sinmod.transform(xc_grid, yc_grid)\n",
    "\n",
    "# Performing projection on coral reef data\n",
    "print(\"coral_lons range before:\", coral_location_df['lengdegrad'].min(), coral_location_df['lengdegrad'].max())\n",
    "print(\"coral_lats range before:\", coral_location_df['breddegrad'].min(), coral_location_df['breddegrad'].max())\n",
    "print(\"--------------------------------\")\n",
    "\n",
    "# Transform coral coordinates from EUREF89 to SINMOD\n",
    "coral_x, coral_y = transformer_wgs84_to_sinmod.transform(coral_location_df['lengdegrad'], coral_location_df['breddegrad'])\n",
    "\n",
    "# We need to DIVIDE by the resolution of the SINMOD grid to get the grid coordinates\n",
    "# In the case of gin this is 20km\n",
    "coral_x /= 20000\n",
    "coral_y /= 20000\n",
    "\n",
    "# The values after are NOT lat lon, but rather the SINMOD grid coordinates \n",
    "print(\"coral_lons grid-coordinates after:\", coral_x.min(), coral_x.max())\n",
    "print(\"coral_lats grid-coordinates before:\", coral_y.min(), coral_y.max())\n",
    "\n",
    "# So we expect them to be in the range of the SINMOD grid:\n",
    "print(f\"Grid dimensions (xc): {xc.shape[0]}\")\n",
    "print(f\"Grid dimensions (yc): {yc.shape[0]}\")\n"
   ]
  },
  {
   "cell_type": "code",
   "execution_count": null,
   "metadata": {},
   "outputs": [],
   "source": []
  },
  {
   "cell_type": "code",
   "execution_count": null,
   "metadata": {},
   "outputs": [],
   "source": []
  }
 ],
 "metadata": {
  "kernelspec": {
   "display_name": "SINMOD",
   "language": "python",
   "name": "python3"
  },
  "language_info": {
   "codemirror_mode": {
    "name": "ipython",
    "version": 3
   },
   "file_extension": ".py",
   "mimetype": "text/x-python",
   "name": "python",
   "nbconvert_exporter": "python",
   "pygments_lexer": "ipython3",
   "version": "3.12.5"
  }
 },
 "nbformat": 4,
 "nbformat_minor": 2
}
