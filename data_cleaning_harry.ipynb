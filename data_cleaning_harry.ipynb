{
 "cells": [
  {
   "cell_type": "code",
   "execution_count": 1,
   "metadata": {},
   "outputs": [],
   "source": [
    "import matplotlib.pyplot as plt\n",
    "import numpy as np\n",
    "import matplotlib.pyplot as plt "
   ]
  },
  {
   "cell_type": "markdown",
   "metadata": {},
   "source": [
    "# Extracting necessary SINMOD data\n",
    "\n",
    "Extracting more than a few time steps will take a while and potentially cause crashing. Then we will need to run on IDUN. Can set up via VS code ssh.\n",
    "\n",
    "We will now:\n",
    "- Look at a few data sets to check the numbers make sense\n",
    "- Standardise and normalise the data"
   ]
  },
  {
   "cell_type": "code",
   "execution_count": 2,
   "metadata": {},
   "outputs": [
    {
     "name": "stdout",
     "output_type": "stream",
     "text": [
      "time                 No units\n",
      "grid_mapping         No units\n",
      "LayerDepths          m\n",
      "xc                   meter\n",
      "yc                   meter\n",
      "zc                   m\n",
      "depth                m\n",
      "DXxDYy               m2\n",
      "u_velocity           m/s\n",
      "v_velocity           m/s\n",
      "elevation            m\n",
      "temperature          degC\n",
      "salinity             psu\n",
      "ice_thickness        m\n",
      "ice_compactness      -\n",
      "salinity_ice         psu\n"
     ]
    }
   ],
   "source": [
    "import netCDF4 as nc\n",
    "from netCDF4 import Dataset\n",
    "\n",
    "# Importing SINMOD data\n",
    "filename_PhysStates = 'PhysStates.nc'\n",
    "\n",
    "PhysStates_data = Dataset(filename_PhysStates, 'r')\n",
    "\n",
    "# Looking at our list of available variables\n",
    "variables_list = list(PhysStates_data.variables.keys())\n",
    "for variable in variables_list:\n",
    "    units = PhysStates_data.variables[variable].units if 'units' in PhysStates_data.variables[variable].ncattrs() else 'No units'\n",
    "    print(f\"{variable:<20} {units}\")"
   ]
  },
  {
   "cell_type": "code",
   "execution_count": 3,
   "metadata": {},
   "outputs": [
    {
     "name": "stdout",
     "output_type": "stream",
     "text": [
      "SINMOD grid dimensions:\n",
      "xc shape: (300,)\n",
      "yc shape: (235,)\n",
      "zc shape: (25,)\n",
      "\n",
      "Temperature data shape: (25, 235, 300)\n",
      "Mean temperature:\t1.89\n",
      "Max temperature:\t11.51\n",
      "Min temperature:\t-1.80\n",
      "\n",
      "Salinity data shape:\t(25, 235, 300)\n",
      "Mean salinity:\t\t34.14\n",
      "Max salinity:\t\t37.37\n",
      "Min salinity:\t\t0.10\n"
     ]
    }
   ],
   "source": [
    "# Extracting all the map dimensions, we can extract both ways, I don't think it matters\n",
    "xc = PhysStates_data.variables['xc'][:]  # x-coordinates (meters)\n",
    "yc = PhysStates_data.variables['yc'][:]  # y-coordinates (meters)\n",
    "zc = PhysStates_data['LayerDepths'][:]  # z-coordinates (meters)\n",
    "\n",
    "# Now checking temperature data matches what we expect from the dimensions\n",
    "# Extracting temperature at t = 0, and check the dimensions\n",
    "temperature_var = PhysStates_data.variables['temperature']\n",
    "temperature = temperature_var[0,:,:,:]\n",
    "print(\"SINMOD grid dimensions:\")\n",
    "print(f\"xc shape: {xc.shape}\")\n",
    "print(f\"yc shape: {yc.shape}\")\n",
    "print(f\"zc shape: {zc.shape}\")\n",
    "\n",
    "print(f\"\\nTemperature data shape: {temperature.shape}\")\n",
    "# Now checking mean, max and min temperature to see if it makes sense\n",
    "print(f\"Mean temperature:\\t{temperature.mean():.2f}\")\n",
    "print(f\"Max temperature:\\t{temperature.max():.2f}\")\n",
    "print(f\"Min temperature:\\t{temperature.min():.2f}\")\n",
    "\n",
    "# Repeating for salinity\n",
    "salinity_var = PhysStates_data.variables['salinity']\n",
    "salinity = salinity_var[0,:,:,:]\n",
    "\n",
    "print(f\"\\nSalinity data shape:\\t{salinity.shape}\")\n",
    "print(f\"Mean salinity:\\t\\t{salinity.mean():.2f}\")\n",
    "print(f\"Max salinity:\\t\\t{salinity.max():.2f}\")\n",
    "print(f\"Min salinity:\\t\\t{salinity.min():.2f}\")\n"
   ]
  },
  {
   "cell_type": "code",
   "execution_count": 4,
   "metadata": {},
   "outputs": [
    {
     "name": "stdout",
     "output_type": "stream",
     "text": [
      "Standardized Temperature - Mean: 0.00, Std Dev: 1.00\n",
      "Standardized Salinity - Mean: -0.00, Std Dev: 1.00\n"
     ]
    }
   ],
   "source": [
    "from sklearn.preprocessing import StandardScaler\n",
    "\n",
    "# Many options for what sort of standardisation we want here, but a simple one:\n",
    "# Initialize the StandardScaler\n",
    "scaler = StandardScaler()\n",
    "\n",
    "# Standardize the temperature and salinity data\n",
    "temperature_standardized = scaler.fit_transform(temperature.reshape(-1, 1)).reshape(temperature.shape)\n",
    "salinity_standardized = scaler.fit_transform(salinity.reshape(-1, 1)).reshape(salinity.shape)\n",
    "\n",
    "# Print the mean and standard deviation of the standardized data to verify\n",
    "print(f\"Standardized Temperature - Mean: {temperature_standardized.mean():.2f}, Std Dev: {temperature_standardized.std():.2f}\")\n",
    "print(f\"Standardized Salinity - Mean: {salinity_standardized.mean():.2f}, Std Dev: {salinity_standardized.std():.2f}\")"
   ]
  },
  {
   "cell_type": "markdown",
   "metadata": {},
   "source": [
    "Now repeating for Biostates"
   ]
  },
  {
   "cell_type": "code",
   "execution_count": null,
   "metadata": {},
   "outputs": [],
   "source": []
  },
  {
   "cell_type": "code",
   "execution_count": 5,
   "metadata": {},
   "outputs": [],
   "source": [
    "import geopandas as gpd\n",
    "import pandas as pd\n",
    "# Importing coral reef data\n",
    "\n",
    "# gml_file_coral_reefs = \"./KystOgFiskeri_50_Trondelag_25832_Korallrev_GML.gml\"\n",
    "gml_file_coral_reefs = \"KystOgFiskeri_50_Trondelag_25833_Korallrev_GML.gml\"\n",
    "\n",
    "gdf_coral_reefs = gpd.read_file(gml_file_coral_reefs)\n",
    "\n",
    "# Not sure this is necessary since all the naturtypeNavn are the same\n",
    "# unique_naturtypeNavn = gdf_coral_reefs['naturtypeNavn'].unique()\n",
    "# print(unique_naturtypeNavn)\n",
    "coral_data = gdf_coral_reefs[gdf_coral_reefs['naturtypeNavn'] == 'Korallforekomster']\n",
    "\n",
    "# I think it's already a dataframe, so also unnecessary\n",
    "coral_df = pd.DataFrame(coral_data)\n",
    "\n",
    "\n",
    "coral_location_df = coral_df[['lengdegrad', 'breddegrad']]"
   ]
  },
  {
   "cell_type": "code",
   "execution_count": 6,
   "metadata": {},
   "outputs": [
    {
     "name": "stdout",
     "output_type": "stream",
     "text": [
      "Index(['gml_id', 'lokalId', 'navnerom', 'verifiseringsdato', 'produkt',\n",
      "       'versjon', 'målemetode', 'nøyaktighet', 'medium', 'opphav',\n",
      "       'minimumsdybde', 'maksimumsdybde', 'naturtype', 'naturtypeNavn',\n",
      "       'kildeNavn', 'observasjonsMetode', 'observasjonsSted',\n",
      "       'observasjonsSlutt', 'lengdegrad', 'breddegrad', 'geometry'],\n",
      "      dtype='object')\n"
     ]
    }
   ],
   "source": [
    "# Check what metadata we have with the coral reef data\n",
    "# We can use this later for grouping or further analysis\n",
    " \n",
    "# Display the columns of the coral reef data\n",
    "print(coral_df.columns)"
   ]
  },
  {
   "cell_type": "code",
   "execution_count": 7,
   "metadata": {},
   "outputs": [
    {
     "name": "stdout",
     "output_type": "stream",
     "text": [
      "<class 'netCDF4._netCDF4.Variable'>\n",
      "int32 grid_mapping()\n",
      "    grid_mapping_name: polar_stereographic\n",
      "    straight_vertical_longitude_from_pole: 58.0\n",
      "    horizontal_resolution: 20000.0\n",
      "    latitude_of_projection_origin: 90.0\n",
      "    longitude_of_projection_origin: 58.0\n",
      "    standard_parallel: 60.0\n",
      "    origoRef: [0. 0.]\n",
      "    semi_minor_axis: 6370000.0\n",
      "    semi_major_axis: 6370000.0\n",
      "    false_easting: 3900000.0\n",
      "    false_northing: 2570000.0\n",
      "    scale_factor_at_projection_origin: 1.0\n",
      "unlimited dimensions: \n",
      "current shape = ()\n",
      "filling on, default _FillValue of -2147483647 used\n"
     ]
    }
   ],
   "source": [
    "# Now to transform the coordinates to the same projection as the SINMOD data\n",
    "\n",
    "from pyproj import CRS, Transformer\n",
    "\n",
    "# Print grid mapping to see what the horizontal resolution is\n",
    "# In the case of gin it is 20km, for nor4km it is 4km\n",
    "grid_mapping = PhysStates_data.variables['grid_mapping']\n",
    "print(grid_mapping)\n"
   ]
  },
  {
   "cell_type": "code",
   "execution_count": 8,
   "metadata": {},
   "outputs": [
    {
     "name": "stdout",
     "output_type": "stream",
     "text": [
      "coral_lons range before: 7.84797 11.32001\n",
      "coral_lats range before: 63.4133 65.00816\n",
      "--------------------------------\n",
      "coral_lons grid-coordinates after: 87.50081214535975 98.74281827314783\n",
      "coral_lats grid-coordinates before: 33.6640977812021 39.715041231478516\n",
      "Grid dimensions (xc): 300\n",
      "Grid dimensions (yc): 235\n"
     ]
    }
   ],
   "source": [
    "# Specifying projection to SINMOD format\n",
    "\n",
    "# Define the Coordinate Reference Systems (CRS) for the coral data\n",
    "# It could be any of these, need to double check\n",
    "crs_wgs84 = CRS.from_epsg(4326)  # WGS84 (lat/lon coordinates)\n",
    "# crs_euref89_utm32 = CRS.from_epsg(25832)  # EUREF89 / UTM zone 32N\n",
    "# crs_euref89 = CRS.from_epsg(4258)  # EUREF89 (geographic lat/lon)\n",
    "\n",
    "# SINMOD projection parameters as a custom projection\n",
    "crs_sinmod = CRS.from_proj4(\"+proj=stere +lat_0=90 +lat_ts=60 +lon_0=58 \"\n",
    "                            \"+x_0=3900000 +y_0=2570000 +ellps=WGS84 +units=m +no_defs\")\n",
    "\n",
    "# Create a transformer to transform from wgs84 (geographic) to SINMOD\n",
    "transformer_wgs84_to_sinmod = Transformer.from_crs(crs_wgs84, crs_sinmod, always_xy=True)\n",
    "\n",
    "xc_grid, yc_grid = np.meshgrid(xc, yc)\n",
    "lon_grid, lat_grid = transformer_wgs84_to_sinmod.transform(xc_grid, yc_grid)\n",
    "\n",
    "# Performing projection on coral reef data\n",
    "print(\"coral_lons range before:\", coral_location_df['lengdegrad'].min(), coral_location_df['lengdegrad'].max())\n",
    "print(\"coral_lats range before:\", coral_location_df['breddegrad'].min(), coral_location_df['breddegrad'].max())\n",
    "print(\"--------------------------------\")\n",
    "\n",
    "# Transform coral coordinates from EUREF89 to SINMOD\n",
    "coral_x, coral_y = transformer_wgs84_to_sinmod.transform(coral_location_df['lengdegrad'], coral_location_df['breddegrad'])\n",
    "\n",
    "# We need to DIVIDE by the resolution of the SINMOD grid to get the grid coordinates\n",
    "# In the case of gin this is 20km\n",
    "coral_x /= 20000\n",
    "coral_y /= 20000\n",
    "\n",
    "# The values after are NOT lat lon, but rather the SINMOD grid coordinates \n",
    "print(\"coral_lons grid-coordinates after:\", coral_x.min(), coral_x.max())\n",
    "print(\"coral_lats grid-coordinates before:\", coral_y.min(), coral_y.max())\n",
    "\n",
    "# So we expect them to be in the range of the SINMOD grid:\n",
    "print(f\"Grid dimensions (xc): {xc.shape[0]}\")\n",
    "print(f\"Grid dimensions (yc): {yc.shape[0]}\")\n"
   ]
  },
  {
   "cell_type": "code",
   "execution_count": 9,
   "metadata": {},
   "outputs": [
    {
     "data": {
      "text/plain": [
       "masked_array(\n",
       "  data=[[inf, inf, inf, ..., inf, inf, inf],\n",
       "        [inf, inf, inf, ..., inf, inf, inf],\n",
       "        [inf, inf, inf, ..., inf, inf, inf],\n",
       "        ...,\n",
       "        [inf, inf, inf, ..., inf, inf, inf],\n",
       "        [inf, inf, inf, ..., inf, inf, inf],\n",
       "        [inf, inf, inf, ..., inf, inf, inf]],\n",
       "  mask=False,\n",
       "  fill_value=1e+20)"
      ]
     },
     "execution_count": 9,
     "metadata": {},
     "output_type": "execute_result"
    }
   ],
   "source": [
    "# Get the corner points of the grid in SINMOD\n",
    "corners_sinmod = [\n",
    "    (xc[0], yc[0]),  # bottom-left\n",
    "    (xc[-1], yc[0]),  # bottom-right\n",
    "    (xc[0], yc[-1]),  # top-left\n",
    "    (xc[-1], yc[-1])  # top-right\n",
    "]\n",
    "\n",
    "transformer_sinmod_to_wgs84 = Transformer.from_crs(crs_sinmod, crs_wgs84, always_xy=True)\n",
    "\n",
    "# Transform each corner to WGS84\n",
    "corners_wgs84 = [transformer_sinmod_to_wgs84.transform(x, y) for x, y in corners_sinmod]\n",
    "\n",
    "# Print the corners in WGS84\n",
    "for i, (lon, lat) in enumerate(corners_wgs84):\n",
    "    print(f\"Corner {i + 1} in WGS84: Longitude = {lon}, Latitude = {lat}\")"
   ]
  },
  {
   "cell_type": "code",
   "execution_count": 10,
   "metadata": {},
   "outputs": [
    {
     "name": "stdout",
     "output_type": "stream",
     "text": [
      "(25, 235, 300)\n",
      "Mean temperature: 1.89\n",
      "Max temperature: 11.51\n",
      "Min temperature: -1.80\n"
     ]
    },
    {
     "data": {
      "text/plain": [
       "masked"
      ]
     },
     "execution_count": 10,
     "metadata": {},
     "output_type": "execute_result"
    }
   ],
   "source": [
    "print(temperature.shape)\n",
    "mean_temp = temperature.mean()\n",
    "max_temp = temperature.max()\n",
    "min_temp = temperature.min()\n",
    "\n",
    "print(f\"Mean temperature: {mean_temp:.2f}\")\n",
    "print(f\"Max temperature: {max_temp:.2f}\")\n",
    "print(f\"Min temperature: {min_temp:.2f}\")\n",
    "\n",
    "temperature[0,1,1]"
   ]
  },
  {
   "cell_type": "code",
   "execution_count": 11,
   "metadata": {},
   "outputs": [
    {
     "name": "stdout",
     "output_type": "stream",
     "text": [
      "Depth index for 250m: 16\n"
     ]
    },
    {
     "data": {
      "image/png": "[encoded data removed]",
      "text/plain": [
       "<Figure size 640x480 with 1 Axes>"
      ]
     },
     "metadata": {},
     "output_type": "display_data"
    }
   ],
   "source": [
    "# Extracting u and v velocity components at t = 0 and depth closest to 250m\n",
    "temperature_var = PhysStates_data.variables['temperature']\n",
    "\n",
    "# Find the index of the depth closest to 250m\n",
    "depth_index = np.abs(zc - 250).argmin()\n",
    "print(f\"Depth index for 250m: {depth_index}\")\n",
    "\n",
    "# Using the first 150 time steps\n",
    "temperature = temperature_var[:150, depth_index, :, :]\n",
    "\n",
    "# Extract temperature at coral data points\n",
    "coral_temperatures = []\n",
    "for time in range(temperature.shape[0]):\n",
    "    for x, y in zip(coral_x, coral_y):\n",
    "        # Ensure the coordinates are within the grid bounds\n",
    "        if 0 <= x < temperature.shape[2] and 0 <= y < temperature.shape[1]:\n",
    "            temp_value = temperature[time, int(y), int(x)]\n",
    "            if not np.ma.is_masked(temp_value):\n",
    "                coral_temperatures.append(temp_value)\n",
    "\n",
    "# Convert list to numpy array for easier manipulation\n",
    "coral_temperatures = np.array(coral_temperatures)\n",
    "\n",
    "# Flatten the array to combine all time steps\n",
    "coral_temperatures_flat = coral_temperatures.flatten()\n",
    "\n",
    "# Plot histogram of the combined temperature values\n",
    "plt.hist(coral_temperatures_flat, bins=20, edgecolor='black')\n",
    "plt.xlabel('Temperature (°C)')\n",
    "plt.ylabel('Frequency')\n",
    "plt.title('Histogram of Temperatures at Coral Data Points (Combined Time Steps)')\n",
    "plt.show()"
   ]
  },
  {
   "cell_type": "code",
   "execution_count": null,
   "metadata": {},
   "outputs": [
    {
     "name": "stderr",
     "output_type": "stream",
     "text": [
      "/tmp/ipykernel_23870/2701508233.py:10: RuntimeWarning: invalid value encountered in sqrt\n",
      "  current_speed = np.sqrt(u_velocity**2 + v_velocity**2)\n"
     ]
    }
   ],
   "source": [
    "# Extracting u and v velocity components at t = 0 and depth closest to 250m\n",
    "u_velocity_var = PhysStates_data.variables['u_velocity']\n",
    "v_velocity_var = PhysStates_data.variables['v_velocity']\n",
    "\n",
    "# Using the first 100 time steps\n",
    "u_velocity = u_velocity_var[:150, depth_index, :, :]\n",
    "v_velocity = v_velocity_var[:150, depth_index, :, :]\n",
    "\n",
    "# Calculate the magnitude of the current speed\n",
    "current_speed = np.sqrt(u_velocity**2 + v_velocity**2)\n",
    "\n",
    "# Extract current speed at coral data points\n",
    "coral_current_speeds = []\n",
    "\n",
    "for time in range(current_speed.shape[0]):\n",
    "    for x, y in zip(coral_x, coral_y):\n",
    "        # Ensure the coordinates are within the grid bounds\n",
    "        if 0 <= x < current_speed.shape[2] and 0 <= y < current_speed.shape[1]:\n",
    "            coral_current_speeds.append(current_speed[int(y), int(x)])\n",
    "\n",
    "# Plot histogram of the current speed values\n",
    "plt.hist(coral_current_speeds, bins=200, edgecolor='black')\n",
    "plt.xlabel('Current Speed (m/s)')\n",
    "plt.ylabel('Frequency')\n",
    "plt.title('Histogram of Current Speeds at Coral Data Points')\n",
    "plt.show()"
   ]
  },
  {
   "cell_type": "code",
   "execution_count": 73,
   "metadata": {},
   "outputs": [
    {
     "name": "stdout",
     "output_type": "stream",
     "text": [
      "0.0\n"
     ]
    },
    {
     "data": {
      "text/plain": [
       "np.float64(0.0)"
      ]
     },
     "execution_count": 73,
     "metadata": {},
     "output_type": "execute_result"
    }
   ],
   "source": []
  },
  {
   "cell_type": "code",
   "execution_count": 72,
   "metadata": {},
   "outputs": [
    {
     "data": {
      "text/plain": [
       "(150, 235, 300)"
      ]
     },
     "execution_count": 72,
     "metadata": {},
     "output_type": "execute_result"
    }
   ],
   "source": [
    "current_speed.shape"
   ]
  },
  {
   "cell_type": "code",
   "execution_count": null,
   "metadata": {},
   "outputs": [],
   "source": []
  }
 ],
 "metadata": {
  "kernelspec": {
   "display_name": "SINMOD",
   "language": "python",
   "name": "python3"
  },
  "language_info": {
   "codemirror_mode": {
    "name": "ipython",
    "version": 3
   },
   "file_extension": ".py",
   "mimetype": "text/x-python",
   "name": "python",
   "nbconvert_exporter": "python",
   "pygments_lexer": "ipython3",
   "version": "3.12.5"
  }
 },
 "nbformat": 4,
 "nbformat_minor": 2
}
