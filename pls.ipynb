{
 "cells": [
  {
   "cell_type": "code",
   "execution_count": 3,
   "id": "aa88707c-dbc1-4684-ab00-35df2814ba2d",
   "metadata": {},
   "outputs": [],
   "source": [
    "import matplotlib.pyplot as plt\n",
    "import numpy as np\n",
    "import matplotlib.pyplot as plt \n",
    "import netCDF4 as nc\n",
    "from netCDF4 import Dataset\n",
    "import geopandas as gpd\n",
    "import pandas as pd\n",
    "from sklearn.preprocessing import StandardScaler\n",
    "import seaborn as sns\n",
    "import random\n",
    "from sklearn.model_selection import train_test_split\n",
    "from pyproj import CRS, Transformer\n",
    "import xarray as xr\n",
    "from sklearn.cross_decomposition import PLSRegression\n"
   ]
  },
  {
   "cell_type": "code",
   "execution_count": 3,
   "id": "544595a0-e9ad-4ddc-90f1-146537572ee6",
   "metadata": {},
   "outputs": [],
   "source": [
    "env_filepath = '/cluster/home/maikents/coral-mapping/processed_data/env_df_no_nan.parquet'\n",
    "env_df = pd.read_parquet(env_filepath)"
   ]
  },
  {
   "cell_type": "code",
   "execution_count": 4,
   "id": "94f90a9f-c80b-42f2-8a3b-23d5b847e3ff",
   "metadata": {},
   "outputs": [],
   "source": [
    "coral_filepath = '/cluster/projects/itk-SINMOD/coral-mapping/data/processed_data/midnor_total_coral_data_filtered_UTM32N.parquet'\n",
    "coral_df = pd.read_parquet(coral_filepath)"
   ]
  },
  {
   "cell_type": "code",
   "execution_count": 5,
   "id": "f9897c37-bc13-4c34-b369-7d5e45b9b847",
   "metadata": {},
   "outputs": [],
   "source": [
    "#Clean env_data\n",
    "env_df = env_df.drop(columns=['stat_mean','spatial_ref_mean'])"
   ]
  },
  {
   "cell_type": "code",
   "execution_count": 89,
   "id": "02635fd6-c3fb-4d57-bc61-ff9ae4ede827",
   "metadata": {},
   "outputs": [],
   "source": [
    "#print(env_df.columns)"
   ]
  },
  {
   "cell_type": "code",
   "execution_count": 15,
   "id": "cf162de5-0381-4e40-9747-af411ff94136",
   "metadata": {},
   "outputs": [
    {
     "name": "stdout",
     "output_type": "stream",
     "text": [
      "100128072\n"
     ]
    }
   ],
   "source": [
    "env_df['label'] = 0\n"
   ]
  },
  {
   "cell_type": "code",
   "execution_count": null,
   "id": "fca11588-8985-41fb-a262-5260589e14e9",
   "metadata": {},
   "outputs": [],
   "source": [
    "env_df['x'].min"
   ]
  },
  {
   "cell_type": "code",
   "execution_count": 65,
   "id": "8fd536fe-4f0a-4d47-8e9f-c2828092b135",
   "metadata": {},
   "outputs": [],
   "source": [
    "#100: 718\n",
    "#200: 718\n",
    "#300: 718\n",
    "search_radiuses = [100]\n",
    "counts = []\n",
    "env_df_copy = env_df.copy(deep=True)\n",
    "\n",
    "env_df['x_rounded'] = env_df['x'].round()\n",
    "env_df['y_rounded'] = env_df['y'].round()\n",
    "\n",
    "coral_df['x_rounded'] = coral_df['x'].round()\n",
    "coral_df['y_rounded'] = coral_df['y'].round()\n",
    "\n",
    "for radius in search_radiuses:    \n",
    "      \n",
    "    for idx, row in coral_df.iterrows():\n",
    "        x, y = row['x_rounded'], row['y_rounded']\n",
    "    \n",
    "        distances = np.sqrt((env_df_copy['x_rounded'] - x)**2 + (env_df_copy['y_rounded'] - y)**2)\n",
    "    \n",
    "        nearest_idx = distances[distances <= radius].idxmin() if not distances[distances <= radius].empty else None\n",
    "    \n",
    "        if nearest_idx is not None:\n",
    "            env_df.at[nearest_idx, 'label'] = 1\n",
    "        num_ones = env_df_copy['label'].sum()\n",
    "    counts.append(num_ones)\n",
    "\n",
    "# Drop temporary columns if desired\n",
    "#env_df.drop(['x_rounded', 'y_rounded'], axis=1, inplace=True)\n"
   ]
  },
  {
   "cell_type": "code",
   "execution_count": 66,
   "id": "6c791578-2dad-4ce8-9289-400d9f3e786c",
   "metadata": {},
   "outputs": [
    {
     "name": "stdout",
     "output_type": "stream",
     "text": [
      "718\n"
     ]
    }
   ],
   "source": [
    "print(env_df['label'].sum())"
   ]
  },
  {
   "cell_type": "code",
   "execution_count": 68,
   "id": "fbfb2bf2-762b-47c4-b07d-00535e987138",
   "metadata": {},
   "outputs": [
    {
     "name": "stdout",
     "output_type": "stream",
     "text": [
      "Index(['x', 'y', 'bottom_temperature_features', 'bottom_salinity_features',\n",
      "       'bottom_current_features', 'bottom_statistical_northness_features',\n",
      "       'bottom_statistical_eastness_features', 'current_aspect_angle',\n",
      "       'bottom_temperature_features_mean', 'bottom_salinity_features_mean',\n",
      "       'bottom_current_features_mean',\n",
      "       'bottom_statistical_northness_features_mean',\n",
      "       'bottom_statistical_eastness_features_mean',\n",
      "       'bottom_temperature_features_10th_percentile',\n",
      "       'bottom_salinity_features_10th_percentile',\n",
      "       'bottom_current_features_10th_percentile',\n",
      "       'bottom_temperature_features_90th_percentile',\n",
      "       'bottom_salinity_features_90th_percentile',\n",
      "       'bottom_current_features_90th_percentile', 'label', 'x_rounded',\n",
      "       'y_rounded', '_merge'],\n",
      "      dtype='object')\n"
     ]
    }
   ],
   "source": [
    "print(env_df.columns)"
   ]
  },
  {
   "cell_type": "code",
   "execution_count": 69,
   "id": "a559de7d-c57c-4c51-ab2a-0798e4896a28",
   "metadata": {},
   "outputs": [],
   "source": [
    "env_df = env_df.drop(columns=['y_rounded','x_rounded'])"
   ]
  },
  {
   "cell_type": "code",
   "execution_count": 67,
   "id": "ea6efa81-230e-4d9c-a0ec-a4e067254e26",
   "metadata": {},
   "outputs": [],
   "source": [
    "emod_filepath = '/cluster/projects/itk-SINMOD/coral-mapping/data/processed_data/features/ready-for-training/EMOD_features.nc'\n",
    "EMOD_features = xr.open_dataset(emod_filepath)"
   ]
  },
  {
   "cell_type": "code",
   "execution_count": 71,
   "id": "1fa1baf8-994f-4adb-972f-ab5f6cae2ecd",
   "metadata": {},
   "outputs": [
    {
     "name": "stdout",
     "output_type": "stream",
     "text": [
      "['x', 'y', 'aspect_cos_clipped', 'aspect_sin_clipped', 'bathymetry_32N_Clip_sample_clipped', 'broad_BPI_std_clipped', 'fine_BPI_std_clipped', 'log_ruggedness_1_clipped', 'slope_clipped']\n"
     ]
    }
   ],
   "source": [
    "print(list(EMOD_features.variables))"
   ]
  },
  {
   "cell_type": "code",
   "execution_count": 73,
   "id": "10218fb3-faab-4b9c-9dc7-d9487f8bad92",
   "metadata": {},
   "outputs": [
    {
     "name": "stdout",
     "output_type": "stream",
     "text": [
      "(80511075, 9)\n",
      "(100128072, 21)\n"
     ]
    }
   ],
   "source": [
    "emod_df = EMOD_features[['x', 'y', 'aspect_cos_clipped', 'aspect_sin_clipped', 'bathymetry_32N_Clip_sample_clipped',\n",
    "                        'broad_BPI_std_clipped', 'fine_BPI_std_clipped', 'log_ruggedness_1_clipped', 'slope_clipped']].to_dataframe().reset_index()\n"
   ]
  },
  {
   "cell_type": "code",
   "execution_count": 85,
   "id": "efdb2202-8829-4ef0-8e1d-4473aa18699c",
   "metadata": {},
   "outputs": [],
   "source": [
    "emod_df = emod_df.dropna(axis=0)\n",
    "env_df = env_df.dropna(axis=0)"
   ]
  },
  {
   "cell_type": "code",
   "execution_count": null,
   "id": "71684781-1a7b-45f4-87fe-daae4aa01677",
   "metadata": {},
   "outputs": [],
   "source": [
    "scaler = StandardScaler()\n",
    "features_to_scale = [\n",
    "    'aspect_cos_clipped',\n",
    "    'aspect_sin_clipped',\n",
    "    'bathymetry_32N_Clip_sample_clipped',\n",
    "    'broad_BPI_std_clipped',\n",
    "    'fine_BPI_std_clipped', \n",
    "    'log_ruggedness_1_clipped', \n",
    "    'slope_clipped'\n",
    "]\n",
    "scaled_emod_data = scaler.fit_transform(emod_df[features_to_scale])\n",
    "emod_df[features_to_scale] = scaled_emod_data\n",
    "\n",
    "print(env_df.head())\n"
   ]
  },
  {
   "cell_type": "code",
   "execution_count": 92,
   "id": "f6fe5b68-3de9-46f2-9850-705ce6e8d398",
   "metadata": {},
   "outputs": [
    {
     "name": "stdout",
     "output_type": "stream",
     "text": [
      "Index(['x', 'y', 'bottom_temperature_features', 'bottom_salinity_features',\n",
      "       'bottom_current_features', 'bottom_statistical_northness_features',\n",
      "       'bottom_statistical_eastness_features', 'current_aspect_angle',\n",
      "       'bottom_temperature_features_mean', 'bottom_salinity_features_mean',\n",
      "       'bottom_current_features_mean',\n",
      "       'bottom_statistical_northness_features_mean',\n",
      "       'bottom_statistical_eastness_features_mean',\n",
      "       'bottom_temperature_features_10th_percentile',\n",
      "       'bottom_salinity_features_10th_percentile',\n",
      "       'bottom_current_features_10th_percentile',\n",
      "       'bottom_temperature_features_90th_percentile',\n",
      "       'bottom_salinity_features_90th_percentile',\n",
      "       'bottom_current_features_90th_percentile', 'label', '_merge',\n",
      "       'aspect_cos_clipped', 'aspect_sin_clipped',\n",
      "       'bathymetry_32N_Clip_sample_clipped', 'broad_BPI_std_clipped',\n",
      "       'fine_BPI_std_clipped', 'log_ruggedness_1_clipped', 'slope_clipped'],\n",
      "      dtype='object')\n"
     ]
    }
   ],
   "source": [
    "merged_df = pd.merge(env_df, emod_df, on=['x', 'y'], how='outer')\n",
    "\n",
    "print(merged_df.columns)"
   ]
  },
  {
   "cell_type": "code",
   "execution_count": 96,
   "id": "43a369b8-fe9a-4c8c-96e7-91003de6ab8a",
   "metadata": {},
   "outputs": [
    {
     "name": "stdout",
     "output_type": "stream",
     "text": [
      "Index(['bottom_temperature_features', 'bottom_salinity_features',\n",
      "       'bottom_current_features', 'bottom_statistical_northness_features',\n",
      "       'bottom_statistical_eastness_features', 'current_aspect_angle',\n",
      "       'bottom_temperature_features_mean', 'bottom_salinity_features_mean',\n",
      "       'bottom_current_features_mean',\n",
      "       'bottom_statistical_northness_features_mean',\n",
      "       'bottom_statistical_eastness_features_mean',\n",
      "       'bottom_temperature_features_10th_percentile',\n",
      "       'bottom_salinity_features_10th_percentile',\n",
      "       'bottom_current_features_10th_percentile',\n",
      "       'bottom_temperature_features_90th_percentile',\n",
      "       'bottom_salinity_features_90th_percentile',\n",
      "       'bottom_current_features_90th_percentile', 'aspect_cos_clipped',\n",
      "       'aspect_sin_clipped', 'bathymetry_32N_Clip_sample_clipped',\n",
      "       'broad_BPI_std_clipped', 'fine_BPI_std_clipped',\n",
      "       'log_ruggedness_1_clipped', 'slope_clipped'],\n",
      "      dtype='object')\n",
      "Index(['label'], dtype='object')\n",
      "Index(['x', 'y', 'bottom_temperature_features', 'bottom_salinity_features',\n",
      "       'bottom_current_features', 'bottom_statistical_northness_features',\n",
      "       'bottom_statistical_eastness_features', 'current_aspect_angle',\n",
      "       'bottom_temperature_features_mean', 'bottom_salinity_features_mean',\n",
      "       'bottom_current_features_mean',\n",
      "       'bottom_statistical_northness_features_mean',\n",
      "       'bottom_statistical_eastness_features_mean',\n",
      "       'bottom_temperature_features_10th_percentile',\n",
      "       'bottom_salinity_features_10th_percentile',\n",
      "       'bottom_current_features_10th_percentile',\n",
      "       'bottom_temperature_features_90th_percentile',\n",
      "       'bottom_salinity_features_90th_percentile',\n",
      "       'bottom_current_features_90th_percentile', 'label', '_merge',\n",
      "       'aspect_cos_clipped', 'aspect_sin_clipped',\n",
      "       'bathymetry_32N_Clip_sample_clipped', 'broad_BPI_std_clipped',\n",
      "       'fine_BPI_std_clipped', 'log_ruggedness_1_clipped', 'slope_clipped'],\n",
      "      dtype='object')\n"
     ]
    }
   ],
   "source": [
    "#PLS:\n",
    "\n",
    "X = merged_df[['bottom_temperature_features', 'bottom_salinity_features',\n",
    "       'bottom_current_features', 'bottom_statistical_northness_features',\n",
    "       'bottom_statistical_eastness_features', 'current_aspect_angle',\n",
    "       'bottom_temperature_features_mean', 'bottom_salinity_features_mean',\n",
    "       'bottom_current_features_mean',\n",
    "       'bottom_statistical_northness_features_mean',\n",
    "       'bottom_statistical_eastness_features_mean',\n",
    "       'bottom_temperature_features_10th_percentile',\n",
    "       'bottom_salinity_features_10th_percentile',\n",
    "       'bottom_current_features_10th_percentile',\n",
    "       'bottom_temperature_features_90th_percentile',\n",
    "       'bottom_salinity_features_90th_percentile',\n",
    "       'bottom_current_features_90th_percentile',\n",
    "       'aspect_cos_clipped', 'aspect_sin_clipped',\n",
    "       'bathymetry_32N_Clip_sample_clipped', 'broad_BPI_std_clipped',\n",
    "       'fine_BPI_std_clipped', 'log_ruggedness_1_clipped', 'slope_clipped']]\n",
    "\n",
    "y = merged_df[['label']]\n",
    "print(X.columns)\n",
    "print(y.columns)\n",
    "print(merged_df.columns)"
   ]
  },
  {
   "cell_type": "code",
   "execution_count": 97,
   "id": "24b08a5f-39f6-40b1-b47c-6c4a76404785",
   "metadata": {},
   "outputs": [],
   "source": [
    "final_merged_df = merged_df[['x', 'y',\n",
    "       'bottom_statistical_northness_features',\n",
    "       'bottom_statistical_eastness_features', 'current_aspect_angle',\n",
    "       'bottom_salinity_features_mean',\n",
    "       'bottom_current_features_mean',\n",
    "       'bottom_temperature_features_10th_percentile',\n",
    "       'label','aspect_cos_clipped', 'aspect_sin_clipped',\n",
    "       'bathymetry_32N_Clip_sample_clipped', 'broad_BPI_std_clipped',\n",
    "       'fine_BPI_std_clipped', 'slope_clipped']]"
   ]
  },
  {
   "cell_type": "code",
   "execution_count": 98,
   "id": "c97aefe5-41b8-4771-bafb-d9f04a0dcf61",
   "metadata": {},
   "outputs": [],
   "source": [
    "final_merged_df.to_parquet('/cluster/home/maikents/coral-mapping/processed_data/df_ready_for_training.parquet')\n"
   ]
  },
  {
   "cell_type": "code",
   "execution_count": 4,
   "id": "cddf7223-077d-4dc3-a843-ac1d317a7c81",
   "metadata": {},
   "outputs": [],
   "source": [
    "merged_df_file = '/cluster/home/maikents/coral-mapping/processed_data/df_ready_for_training.parquet'\n",
    "merged_df = pd.read_parquet(merged_df_file)"
   ]
  },
  {
   "cell_type": "code",
   "execution_count": 5,
   "id": "7e4a020e-5fbc-45be-a961-f739011b1940",
   "metadata": {},
   "outputs": [
    {
     "name": "stdout",
     "output_type": "stream",
     "text": [
      "Index(['x', 'y', 'bottom_statistical_northness_features',\n",
      "       'bottom_statistical_eastness_features', 'current_aspect_angle',\n",
      "       'bottom_salinity_features_mean', 'bottom_current_features_mean',\n",
      "       'bottom_temperature_features_10th_percentile', 'label',\n",
      "       'aspect_cos_clipped', 'aspect_sin_clipped',\n",
      "       'bathymetry_32N_Clip_sample_clipped', 'broad_BPI_std_clipped',\n",
      "       'fine_BPI_std_clipped', 'slope_clipped'],\n",
      "      dtype='object')\n"
     ]
    }
   ],
   "source": [
    "print(merged_df.columns)"
   ]
  },
  {
   "cell_type": "code",
   "execution_count": 16,
   "id": "1e8258e1-b79f-4f37-b527-ee31e700456a",
   "metadata": {},
   "outputs": [],
   "source": [
    "X = merged_df[['bottom_statistical_northness_features',\n",
    "       'bottom_statistical_eastness_features', 'current_aspect_angle',\n",
    "       'bottom_salinity_features_mean', 'bottom_current_features_mean',\n",
    "       'bottom_temperature_features_10th_percentile',\n",
    "       'aspect_cos_clipped', 'aspect_sin_clipped',\n",
    "       'bathymetry_32N_Clip_sample_clipped', 'broad_BPI_std_clipped',\n",
    "       'fine_BPI_std_clipped', 'slope_clipped']]\n",
    "y = merged_df[['label']]"
   ]
  },
  {
   "cell_type": "code",
   "execution_count": 17,
   "id": "19172b93-cb05-4cba-9bca-48fcaa3de35e",
   "metadata": {},
   "outputs": [],
   "source": [
    "from sklearn.metrics import explained_variance_score\n",
    "from sklearn.model_selection import train_test_split "
   ]
  },
  {
   "cell_type": "code",
   "execution_count": 18,
   "id": "4af7ddb9-55b6-4b3b-abda-99aeb34d3ebd",
   "metadata": {},
   "outputs": [],
   "source": [
    "\n",
    "X_train, X_test, Y_train, Y_test = train_test_split(X, y, test_size=0.2, random_state=42)\n",
    "\n"
   ]
  },
  {
   "cell_type": "code",
   "execution_count": 20,
   "id": "0547a98e-32ec-4f1e-843b-576cbdb5b0cc",
   "metadata": {},
   "outputs": [
    {
     "data": {
      "text/html": [
       "<style>#sk-container-id-1 {\n",
       "  /* Definition of color scheme common for light and dark mode */\n",
       "  --sklearn-color-text: black;\n",
       "  --sklearn-color-line: gray;\n",
       "  /* Definition of color scheme for unfitted estimators */\n",
       "  --sklearn-color-unfitted-level-0: #fff5e6;\n",
       "  --sklearn-color-unfitted-level-1: #f6e4d2;\n",
       "  --sklearn-color-unfitted-level-2: #ffe0b3;\n",
       "  --sklearn-color-unfitted-level-3: chocolate;\n",
       "  /* Definition of color scheme for fitted estimators */\n",
       "  --sklearn-color-fitted-level-0: #f0f8ff;\n",
       "  --sklearn-color-fitted-level-1: #d4ebff;\n",
       "  --sklearn-color-fitted-level-2: #b3dbfd;\n",
       "  --sklearn-color-fitted-level-3: cornflowerblue;\n",
       "\n",
       "  /* Specific color for light theme */\n",
       "  --sklearn-color-text-on-default-background: var(--sg-text-color, var(--theme-code-foreground, var(--jp-content-font-color1, black)));\n",
       "  --sklearn-color-background: var(--sg-background-color, var(--theme-background, var(--jp-layout-color0, white)));\n",
       "  --sklearn-color-border-box: var(--sg-text-color, var(--theme-code-foreground, var(--jp-content-font-color1, black)));\n",
       "  --sklearn-color-icon: #696969;\n",
       "\n",
       "  @media (prefers-color-scheme: dark) {\n",
       "    /* Redefinition of color scheme for dark theme */\n",
       "    --sklearn-color-text-on-default-background: var(--sg-text-color, var(--theme-code-foreground, var(--jp-content-font-color1, white)));\n",
       "    --sklearn-color-background: var(--sg-background-color, var(--theme-background, var(--jp-layout-color0, #111)));\n",
       "    --sklearn-color-border-box: var(--sg-text-color, var(--theme-code-foreground, var(--jp-content-font-color1, white)));\n",
       "    --sklearn-color-icon: #878787;\n",
       "  }\n",
       "}\n",
       "\n",
       "#sk-container-id-1 {\n",
       "  color: var(--sklearn-color-text);\n",
       "}\n",
       "\n",
       "#sk-container-id-1 pre {\n",
       "  padding: 0;\n",
       "}\n",
       "\n",
       "#sk-container-id-1 input.sk-hidden--visually {\n",
       "  border: 0;\n",
       "  clip: rect(1px 1px 1px 1px);\n",
       "  clip: rect(1px, 1px, 1px, 1px);\n",
       "  height: 1px;\n",
       "  margin: -1px;\n",
       "  overflow: hidden;\n",
       "  padding: 0;\n",
       "  position: absolute;\n",
       "  width: 1px;\n",
       "}\n",
       "\n",
       "#sk-container-id-1 div.sk-dashed-wrapped {\n",
       "  border: 1px dashed var(--sklearn-color-line);\n",
       "  margin: 0 0.4em 0.5em 0.4em;\n",
       "  box-sizing: border-box;\n",
       "  padding-bottom: 0.4em;\n",
       "  background-color: var(--sklearn-color-background);\n",
       "}\n",
       "\n",
       "#sk-container-id-1 div.sk-container {\n",
       "  /* jupyter's `normalize.less` sets `[hidden] { display: none; }`\n",
       "     but bootstrap.min.css set `[hidden] { display: none !important; }`\n",
       "     so we also need the `!important` here to be able to override the\n",
       "     default hidden behavior on the sphinx rendered scikit-learn.org.\n",
       "     See: https://github.com/scikit-learn/scikit-learn/issues/21755 */\n",
       "  display: inline-block !important;\n",
       "  position: relative;\n",
       "}\n",
       "\n",
       "#sk-container-id-1 div.sk-text-repr-fallback {\n",
       "  display: none;\n",
       "}\n",
       "\n",
       "div.sk-parallel-item,\n",
       "div.sk-serial,\n",
       "div.sk-item {\n",
       "  /* draw centered vertical line to link estimators */\n",
       "  background-image: linear-gradient(var(--sklearn-color-text-on-default-background), var(--sklearn-color-text-on-default-background));\n",
       "  background-size: 2px 100%;\n",
       "  background-repeat: no-repeat;\n",
       "  background-position: center center;\n",
       "}\n",
       "\n",
       "/* Parallel-specific style estimator block */\n",
       "\n",
       "#sk-container-id-1 div.sk-parallel-item::after {\n",
       "  content: \"\";\n",
       "  width: 100%;\n",
       "  border-bottom: 2px solid var(--sklearn-color-text-on-default-background);\n",
       "  flex-grow: 1;\n",
       "}\n",
       "\n",
       "#sk-container-id-1 div.sk-parallel {\n",
       "  display: flex;\n",
       "  align-items: stretch;\n",
       "  justify-content: center;\n",
       "  background-color: var(--sklearn-color-background);\n",
       "  position: relative;\n",
       "}\n",
       "\n",
       "#sk-container-id-1 div.sk-parallel-item {\n",
       "  display: flex;\n",
       "  flex-direction: column;\n",
       "}\n",
       "\n",
       "#sk-container-id-1 div.sk-parallel-item:first-child::after {\n",
       "  align-self: flex-end;\n",
       "  width: 50%;\n",
       "}\n",
       "\n",
       "#sk-container-id-1 div.sk-parallel-item:last-child::after {\n",
       "  align-self: flex-start;\n",
       "  width: 50%;\n",
       "}\n",
       "\n",
       "#sk-container-id-1 div.sk-parallel-item:only-child::after {\n",
       "  width: 0;\n",
       "}\n",
       "\n",
       "/* Serial-specific style estimator block */\n",
       "\n",
       "#sk-container-id-1 div.sk-serial {\n",
       "  display: flex;\n",
       "  flex-direction: column;\n",
       "  align-items: center;\n",
       "  background-color: var(--sklearn-color-background);\n",
       "  padding-right: 1em;\n",
       "  padding-left: 1em;\n",
       "}\n",
       "\n",
       "\n",
       "/* Toggleable style: style used for estimator/Pipeline/ColumnTransformer box that is\n",
       "clickable and can be expanded/collapsed.\n",
       "- Pipeline and ColumnTransformer use this feature and define the default style\n",
       "- Estimators will overwrite some part of the style using the `sk-estimator` class\n",
       "*/\n",
       "\n",
       "/* Pipeline and ColumnTransformer style (default) */\n",
       "\n",
       "#sk-container-id-1 div.sk-toggleable {\n",
       "  /* Default theme specific background. It is overwritten whether we have a\n",
       "  specific estimator or a Pipeline/ColumnTransformer */\n",
       "  background-color: var(--sklearn-color-background);\n",
       "}\n",
       "\n",
       "/* Toggleable label */\n",
       "#sk-container-id-1 label.sk-toggleable__label {\n",
       "  cursor: pointer;\n",
       "  display: block;\n",
       "  width: 100%;\n",
       "  margin-bottom: 0;\n",
       "  padding: 0.5em;\n",
       "  box-sizing: border-box;\n",
       "  text-align: center;\n",
       "}\n",
       "\n",
       "#sk-container-id-1 label.sk-toggleable__label-arrow:before {\n",
       "  /* Arrow on the left of the label */\n",
       "  content: \"▸\";\n",
       "  float: left;\n",
       "  margin-right: 0.25em;\n",
       "  color: var(--sklearn-color-icon);\n",
       "}\n",
       "\n",
       "#sk-container-id-1 label.sk-toggleable__label-arrow:hover:before {\n",
       "  color: var(--sklearn-color-text);\n",
       "}\n",
       "\n",
       "/* Toggleable content - dropdown */\n",
       "\n",
       "#sk-container-id-1 div.sk-toggleable__content {\n",
       "  max-height: 0;\n",
       "  max-width: 0;\n",
       "  overflow: hidden;\n",
       "  text-align: left;\n",
       "  /* unfitted */\n",
       "  background-color: var(--sklearn-color-unfitted-level-0);\n",
       "}\n",
       "\n",
       "#sk-container-id-1 div.sk-toggleable__content.fitted {\n",
       "  /* fitted */\n",
       "  background-color: var(--sklearn-color-fitted-level-0);\n",
       "}\n",
       "\n",
       "#sk-container-id-1 div.sk-toggleable__content pre {\n",
       "  margin: 0.2em;\n",
       "  border-radius: 0.25em;\n",
       "  color: var(--sklearn-color-text);\n",
       "  /* unfitted */\n",
       "  background-color: var(--sklearn-color-unfitted-level-0);\n",
       "}\n",
       "\n",
       "#sk-container-id-1 div.sk-toggleable__content.fitted pre {\n",
       "  /* unfitted */\n",
       "  background-color: var(--sklearn-color-fitted-level-0);\n",
       "}\n",
       "\n",
       "#sk-container-id-1 input.sk-toggleable__control:checked~div.sk-toggleable__content {\n",
       "  /* Expand drop-down */\n",
       "  max-height: 200px;\n",
       "  max-width: 100%;\n",
       "  overflow: auto;\n",
       "}\n",
       "\n",
       "#sk-container-id-1 input.sk-toggleable__control:checked~label.sk-toggleable__label-arrow:before {\n",
       "  content: \"▾\";\n",
       "}\n",
       "\n",
       "/* Pipeline/ColumnTransformer-specific style */\n",
       "\n",
       "#sk-container-id-1 div.sk-label input.sk-toggleable__control:checked~label.sk-toggleable__label {\n",
       "  color: var(--sklearn-color-text);\n",
       "  background-color: var(--sklearn-color-unfitted-level-2);\n",
       "}\n",
       "\n",
       "#sk-container-id-1 div.sk-label.fitted input.sk-toggleable__control:checked~label.sk-toggleable__label {\n",
       "  background-color: var(--sklearn-color-fitted-level-2);\n",
       "}\n",
       "\n",
       "/* Estimator-specific style */\n",
       "\n",
       "/* Colorize estimator box */\n",
       "#sk-container-id-1 div.sk-estimator input.sk-toggleable__control:checked~label.sk-toggleable__label {\n",
       "  /* unfitted */\n",
       "  background-color: var(--sklearn-color-unfitted-level-2);\n",
       "}\n",
       "\n",
       "#sk-container-id-1 div.sk-estimator.fitted input.sk-toggleable__control:checked~label.sk-toggleable__label {\n",
       "  /* fitted */\n",
       "  background-color: var(--sklearn-color-fitted-level-2);\n",
       "}\n",
       "\n",
       "#sk-container-id-1 div.sk-label label.sk-toggleable__label,\n",
       "#sk-container-id-1 div.sk-label label {\n",
       "  /* The background is the default theme color */\n",
       "  color: var(--sklearn-color-text-on-default-background);\n",
       "}\n",
       "\n",
       "/* On hover, darken the color of the background */\n",
       "#sk-container-id-1 div.sk-label:hover label.sk-toggleable__label {\n",
       "  color: var(--sklearn-color-text);\n",
       "  background-color: var(--sklearn-color-unfitted-level-2);\n",
       "}\n",
       "\n",
       "/* Label box, darken color on hover, fitted */\n",
       "#sk-container-id-1 div.sk-label.fitted:hover label.sk-toggleable__label.fitted {\n",
       "  color: var(--sklearn-color-text);\n",
       "  background-color: var(--sklearn-color-fitted-level-2);\n",
       "}\n",
       "\n",
       "/* Estimator label */\n",
       "\n",
       "#sk-container-id-1 div.sk-label label {\n",
       "  font-family: monospace;\n",
       "  font-weight: bold;\n",
       "  display: inline-block;\n",
       "  line-height: 1.2em;\n",
       "}\n",
       "\n",
       "#sk-container-id-1 div.sk-label-container {\n",
       "  text-align: center;\n",
       "}\n",
       "\n",
       "/* Estimator-specific */\n",
       "#sk-container-id-1 div.sk-estimator {\n",
       "  font-family: monospace;\n",
       "  border: 1px dotted var(--sklearn-color-border-box);\n",
       "  border-radius: 0.25em;\n",
       "  box-sizing: border-box;\n",
       "  margin-bottom: 0.5em;\n",
       "  /* unfitted */\n",
       "  background-color: var(--sklearn-color-unfitted-level-0);\n",
       "}\n",
       "\n",
       "#sk-container-id-1 div.sk-estimator.fitted {\n",
       "  /* fitted */\n",
       "  background-color: var(--sklearn-color-fitted-level-0);\n",
       "}\n",
       "\n",
       "/* on hover */\n",
       "#sk-container-id-1 div.sk-estimator:hover {\n",
       "  /* unfitted */\n",
       "  background-color: var(--sklearn-color-unfitted-level-2);\n",
       "}\n",
       "\n",
       "#sk-container-id-1 div.sk-estimator.fitted:hover {\n",
       "  /* fitted */\n",
       "  background-color: var(--sklearn-color-fitted-level-2);\n",
       "}\n",
       "\n",
       "/* Specification for estimator info (e.g. \"i\" and \"?\") */\n",
       "\n",
       "/* Common style for \"i\" and \"?\" */\n",
       "\n",
       ".sk-estimator-doc-link,\n",
       "a:link.sk-estimator-doc-link,\n",
       "a:visited.sk-estimator-doc-link {\n",
       "  float: right;\n",
       "  font-size: smaller;\n",
       "  line-height: 1em;\n",
       "  font-family: monospace;\n",
       "  background-color: var(--sklearn-color-background);\n",
       "  border-radius: 1em;\n",
       "  height: 1em;\n",
       "  width: 1em;\n",
       "  text-decoration: none !important;\n",
       "  margin-left: 1ex;\n",
       "  /* unfitted */\n",
       "  border: var(--sklearn-color-unfitted-level-1) 1pt solid;\n",
       "  color: var(--sklearn-color-unfitted-level-1);\n",
       "}\n",
       "\n",
       ".sk-estimator-doc-link.fitted,\n",
       "a:link.sk-estimator-doc-link.fitted,\n",
       "a:visited.sk-estimator-doc-link.fitted {\n",
       "  /* fitted */\n",
       "  border: var(--sklearn-color-fitted-level-1) 1pt solid;\n",
       "  color: var(--sklearn-color-fitted-level-1);\n",
       "}\n",
       "\n",
       "/* On hover */\n",
       "div.sk-estimator:hover .sk-estimator-doc-link:hover,\n",
       ".sk-estimator-doc-link:hover,\n",
       "div.sk-label-container:hover .sk-estimator-doc-link:hover,\n",
       ".sk-estimator-doc-link:hover {\n",
       "  /* unfitted */\n",
       "  background-color: var(--sklearn-color-unfitted-level-3);\n",
       "  color: var(--sklearn-color-background);\n",
       "  text-decoration: none;\n",
       "}\n",
       "\n",
       "div.sk-estimator.fitted:hover .sk-estimator-doc-link.fitted:hover,\n",
       ".sk-estimator-doc-link.fitted:hover,\n",
       "div.sk-label-container:hover .sk-estimator-doc-link.fitted:hover,\n",
       ".sk-estimator-doc-link.fitted:hover {\n",
       "  /* fitted */\n",
       "  background-color: var(--sklearn-color-fitted-level-3);\n",
       "  color: var(--sklearn-color-background);\n",
       "  text-decoration: none;\n",
       "}\n",
       "\n",
       "/* Span, style for the box shown on hovering the info icon */\n",
       ".sk-estimator-doc-link span {\n",
       "  display: none;\n",
       "  z-index: 9999;\n",
       "  position: relative;\n",
       "  font-weight: normal;\n",
       "  right: .2ex;\n",
       "  padding: .5ex;\n",
       "  margin: .5ex;\n",
       "  width: min-content;\n",
       "  min-width: 20ex;\n",
       "  max-width: 50ex;\n",
       "  color: var(--sklearn-color-text);\n",
       "  box-shadow: 2pt 2pt 4pt #999;\n",
       "  /* unfitted */\n",
       "  background: var(--sklearn-color-unfitted-level-0);\n",
       "  border: .5pt solid var(--sklearn-color-unfitted-level-3);\n",
       "}\n",
       "\n",
       ".sk-estimator-doc-link.fitted span {\n",
       "  /* fitted */\n",
       "  background: var(--sklearn-color-fitted-level-0);\n",
       "  border: var(--sklearn-color-fitted-level-3);\n",
       "}\n",
       "\n",
       ".sk-estimator-doc-link:hover span {\n",
       "  display: block;\n",
       "}\n",
       "\n",
       "/* \"?\"-specific style due to the `<a>` HTML tag */\n",
       "\n",
       "#sk-container-id-1 a.estimator_doc_link {\n",
       "  float: right;\n",
       "  font-size: 1rem;\n",
       "  line-height: 1em;\n",
       "  font-family: monospace;\n",
       "  background-color: var(--sklearn-color-background);\n",
       "  border-radius: 1rem;\n",
       "  height: 1rem;\n",
       "  width: 1rem;\n",
       "  text-decoration: none;\n",
       "  /* unfitted */\n",
       "  color: var(--sklearn-color-unfitted-level-1);\n",
       "  border: var(--sklearn-color-unfitted-level-1) 1pt solid;\n",
       "}\n",
       "\n",
       "#sk-container-id-1 a.estimator_doc_link.fitted {\n",
       "  /* fitted */\n",
       "  border: var(--sklearn-color-fitted-level-1) 1pt solid;\n",
       "  color: var(--sklearn-color-fitted-level-1);\n",
       "}\n",
       "\n",
       "/* On hover */\n",
       "#sk-container-id-1 a.estimator_doc_link:hover {\n",
       "  /* unfitted */\n",
       "  background-color: var(--sklearn-color-unfitted-level-3);\n",
       "  color: var(--sklearn-color-background);\n",
       "  text-decoration: none;\n",
       "}\n",
       "\n",
       "#sk-container-id-1 a.estimator_doc_link.fitted:hover {\n",
       "  /* fitted */\n",
       "  background-color: var(--sklearn-color-fitted-level-3);\n",
       "}\n",
       "</style><div id=\"sk-container-id-1\" class=\"sk-top-container\"><div class=\"sk-text-repr-fallback\"><pre>PLSRegression()</pre><b>In a Jupyter environment, please rerun this cell to show the HTML representation or trust the notebook. <br />On GitHub, the HTML representation is unable to render, please try loading this page with nbviewer.org.</b></div><div class=\"sk-container\" hidden><div class=\"sk-item\"><div class=\"sk-estimator fitted sk-toggleable\"><input class=\"sk-toggleable__control sk-hidden--visually\" id=\"sk-estimator-id-1\" type=\"checkbox\" checked><label for=\"sk-estimator-id-1\" class=\"sk-toggleable__label fitted sk-toggleable__label-arrow fitted\">&nbsp;&nbsp;PLSRegression<a class=\"sk-estimator-doc-link fitted\" rel=\"noreferrer\" target=\"_blank\" href=\"https://scikit-learn.org/1.5/modules/generated/sklearn.cross_decomposition.PLSRegression.html\">?<span>Documentation for PLSRegression</span></a><span class=\"sk-estimator-doc-link fitted\">i<span>Fitted</span></span></label><div class=\"sk-toggleable__content fitted\"><pre>PLSRegression()</pre></div> </div></div></div></div>"
      ],
      "text/plain": [
       "PLSRegression()"
      ]
     },
     "execution_count": 20,
     "metadata": {},
     "output_type": "execute_result"
    }
   ],
   "source": [
    "pls = PLSRegression(n_components=2)\n",
    "pls.fit(X_train, Y_train)"
   ]
  },
  {
   "cell_type": "code",
   "execution_count": 21,
   "id": "18bd8a26-2caf-4777-addf-ecc4a926e9b4",
   "metadata": {},
   "outputs": [
    {
     "name": "stdout",
     "output_type": "stream",
     "text": [
      "X Loadings: [[ 0.08001637  0.16084068]\n",
      " [ 0.05835076  0.03635853]\n",
      " [-0.01266508 -0.05065122]\n",
      " [ 0.03738774 -0.32556931]\n",
      " [ 0.1219858  -0.33357691]\n",
      " [ 0.66842424  0.26884807]\n",
      " [-0.34251279  0.34933973]\n",
      " [ 0.11599332  0.50596066]\n",
      " [ 0.63962692  0.42149726]\n",
      " [ 0.09600884  0.20179331]\n",
      " [ 0.12627826 -0.01397626]\n",
      " [ 0.20639165 -0.41017808]]\n",
      "Y Loadings: [[ 0.00212137 -0.0012798 ]]\n"
     ]
    }
   ],
   "source": [
    "# Predictions\n",
    "Y_train_pred = pls.predict(X_train)\n",
    "Y_test_pred = pls.predict(X_test)\n",
    "\n",
    "# Explained variance\n",
    "print(\"X Loadings:\", pls.x_loadings_)\n",
    "print(\"Y Loadings:\", pls.y_loadings_)\n",
    "\n"
   ]
  },
  {
   "cell_type": "code",
   "execution_count": 22,
   "id": "5659b32b-6efe-4ebe-ba00-b3aa39d70a42",
   "metadata": {},
   "outputs": [
    {
     "name": "stdout",
     "output_type": "stream",
     "text": [
      "Train MSE: 7.253092880476349e-06\n",
      "Test MSE: 6.8411361980942085e-06\n",
      "Train R^2: 8.99371269791338e-06\n",
      "Test R^2: 8.051768876637944e-06\n"
     ]
    }
   ],
   "source": [
    "# Evaluate performance\n",
    "from sklearn.metrics import mean_squared_error, r2_score\n",
    "\n",
    "print(f\"Train MSE: {mean_squared_error(Y_train, Y_train_pred)}\")\n",
    "print(f\"Test MSE: {mean_squared_error(Y_test, Y_test_pred)}\")\n",
    "print(f\"Train R^2: {r2_score(Y_train, Y_train_pred)}\")\n",
    "print(f\"Test R^2: {r2_score(Y_test, Y_test_pred)}\")"
   ]
  },
  {
   "cell_type": "code",
   "execution_count": 25,
   "id": "880f546e-8584-4c32-9ec2-494e4ec68df9",
   "metadata": {},
   "outputs": [
    {
     "name": "stdout",
     "output_type": "stream",
     "text": [
      "Index(['bottom_statistical_northness_features',\n",
      "       'bottom_statistical_eastness_features', 'current_aspect_angle',\n",
      "       'bottom_salinity_features_mean', 'bottom_current_features_mean',\n",
      "       'bottom_temperature_features_10th_percentile', 'aspect_cos_clipped',\n",
      "       'aspect_sin_clipped', 'bathymetry_32N_Clip_sample_clipped',\n",
      "       'broad_BPI_std_clipped', 'fine_BPI_std_clipped', 'slope_clipped'],\n",
      "      dtype='object')\n"
     ]
    }
   ],
   "source": [
    "print(X.columns)\n",
    "\n",
    "\n",
    "X = X.rename(columns={'bottom_statistical_northness_features':'statistical northness',\n",
    "       'bottom_statistical_eastness_features': 'statistical eastness', 'current_aspect_angle': 'current aspect angle',\n",
    "       'bottom_salinity_features_mean': 'salinity mean', 'bottom_current_features_mean': 'current speed mean',\n",
    "       'bottom_temperature_features_10th_percentile':'temperature min', 'aspect_cos_clipped': 'aspect cos',\n",
    "       'aspect_sin_clipped': 'aspect sin', 'bathymetry_32N_Clip_sample_clipped': 'bathymetry 32N' ,\n",
    "       'broad_BPI_std_clipped': 'broad BPI std', 'fine_BPI_std_clipped': 'fine BPI std', 'slope_clipped': 'slope'})\n"
   ]
  },
  {
   "cell_type": "code",
   "execution_count": 26,
   "id": "c11cbefc-a9b5-4530-8319-d77ba5428858",
   "metadata": {},
   "outputs": [
    {
     "data": {
      "image/png": "[encoded data removed]",
      "text/plain": [
       "<Figure size 640x480 with 1 Axes>"
      ]
     },
     "metadata": {},
     "output_type": "display_data"
    }
   ],
   "source": [
    "import matplotlib.pyplot as plt\n",
    "\n",
    "plt.bar(X.columns, pls.coef_.ravel())\n",
    "plt.title(\"Feature Importance from PLS\")\n",
    "plt.xticks(rotation=90)\n",
    "plt.show()"
   ]
  },
  {
   "cell_type": "code",
   "execution_count": null,
   "id": "7d5888b4-a25a-4a49-901c-6f7b3ae7a4e2",
   "metadata": {},
   "outputs": [],
   "source": []
  }
 ],
 "metadata": {
  "kernelspec": {
   "display_name": "Python 3 (ipykernel)",
   "language": "python",
   "name": "python3"
  },
  "language_info": {
   "codemirror_mode": {
    "name": "ipython",
    "version": 3
   },
   "file_extension": ".py",
   "mimetype": "text/x-python",
   "name": "python",
   "nbconvert_exporter": "python",
   "pygments_lexer": "ipython3",
   "version": "3.12.3"
  }
 },
 "nbformat": 4,
 "nbformat_minor": 5
}
