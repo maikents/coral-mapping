{
 "cells": [
  {
   "cell_type": "code",
   "execution_count": 1,
   "id": "aa88707c-dbc1-4684-ab00-35df2814ba2d",
   "metadata": {},
   "outputs": [],
   "source": [
    "import matplotlib.pyplot as plt\n",
    "import numpy as np\n",
    "import matplotlib.pyplot as plt \n",
    "import netCDF4 as nc\n",
    "from netCDF4 import Dataset\n",
    "import geopandas as gpd\n",
    "import pandas as pd\n",
    "from sklearn.preprocessing import StandardScaler\n",
    "import seaborn as sns\n",
    "import random\n",
    "from sklearn.model_selection import train_test_split\n",
    "from pyproj import CRS, Transformer\n",
    "import xarray as xr\n"
   ]
  },
  {
   "cell_type": "code",
   "execution_count": 15,
   "id": "f9897c37-bc13-4c34-b369-7d5e45b9b847",
   "metadata": {},
   "outputs": [],
   "source": [
    "#Clean env_data\n",
    "env_df = env_df.drop(columns=['bottom_temperature_features', 'bottom_salinity_features', 'bottom_current_features', 'stat_mean','spatial_ref_mean',])"
   ]
  },
  {
   "cell_type": "code",
   "execution_count": null,
   "id": "1925a0a1-d2e9-4450-bc0e-2ac76c011d5c",
   "metadata": {},
   "outputs": [],
   "source": [
    "coral_df"
   ]
  }
 ],
 "metadata": {
  "kernelspec": {
   "display_name": "Python 3 (ipykernel)",
   "language": "python",
   "name": "python3"
  },
  "language_info": {
   "codemirror_mode": {
    "name": "ipython",
    "version": 3
   },
   "file_extension": ".py",
   "mimetype": "text/x-python",
   "name": "python",
   "nbconvert_exporter": "python",
   "pygments_lexer": "ipython3",
   "version": "3.12.3"
  }
 },
 "nbformat": 4,
 "nbformat_minor": 5
}
