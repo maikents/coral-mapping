{
 "cells": [
  {
   "cell_type": "code",
   "execution_count": 14,
   "id": "7f162231-fbcc-473e-af86-999a322bdac7",
   "metadata": {},
   "outputs": [],
   "source": [
    "import numpy as np\n",
    "import xarray as xr\n",
    "import time \n",
    "import os\n",
    "from netCDF4 import Dataset\n",
    "from pyproj import CRS\n",
    "import rasterio\n",
    "import rioxarray\n",
    "from rasterio.enums import Resampling\n",
    "from sklearn.preprocessing import StandardScaler\n",
    "import matplotlib.pyplot as plt\n",
    "import pandas as pd\n",
    "import rasterio\n",
    "from rasterio.transform import from_origin\n",
    "from rasterio.enums import Resampling\n",
    "from sklearn.model_selection import GroupKFold, GridSearchCV\n"
   ]
  },
  {
   "cell_type": "code",
   "execution_count": 2,
   "id": "f2138737-91c8-4c20-b97e-491902e5a67a",
   "metadata": {},
   "outputs": [],
   "source": [
    "sinmod_unstandardized = xr.open_dataset('/cluster/home/maikents/sinmod_features_masters/sinmod_bottom_features_emod_grid.nc')"
   ]
  },
  {
   "cell_type": "code",
   "execution_count": 3,
   "id": "60527d1b-7e69-4da9-ba89-4b26b4a18e21",
   "metadata": {},
   "outputs": [
    {
     "name": "stdout",
     "output_type": "stream",
     "text": [
      "<xarray.Dataset> Size: 14GB\n",
      "Dimensions:                                (stat: 5, x: 8319, y: 9668)\n",
      "Coordinates:\n",
      "  * stat                                   (stat) <U20 400B '10th_percentile'...\n",
      "  * x                                      (x) float64 67kB -6.546e+04 ... 6....\n",
      "  * y                                      (y) float64 77kB 7.539e+06 ... 6.6...\n",
      "Data variables:\n",
      "    spatial_ref                            int64 8B ...\n",
      "    bottom_temperature_sundahl_features    (stat, y, x) float32 2GB ...\n",
      "    bottom_temperature_features            (stat, y, x) float32 2GB ...\n",
      "    bottom_salinity_features               (stat, y, x) float32 2GB ...\n",
      "    bottom_current_features                (stat, y, x) float32 2GB ...\n",
      "    bottom_statistical_northness_features  (stat, y, x) float64 3GB ...\n",
      "    bottom_statistical_eastness_features   (stat, y, x) float64 3GB ...\n",
      "    current_aspect_angle                   (y, x) float64 643MB ...\n"
     ]
    }
   ],
   "source": [
    "print(sinmod_unstandardized )"
   ]
  },
  {
   "cell_type": "code",
   "execution_count": 4,
   "id": "939adc96-ec0b-45bf-ba1d-9949f1325611",
   "metadata": {},
   "outputs": [],
   "source": [
    "temp = sinmod_unstandardized['bottom_temperature_features']"
   ]
  },
  {
   "cell_type": "code",
   "execution_count": 5,
   "id": "c1ee11a4-3ade-489e-a008-e10ebd784866",
   "metadata": {},
   "outputs": [
    {
     "name": "stdout",
     "output_type": "stream",
     "text": [
      "<xarray.DataArray 'bottom_temperature_features' (stat: 5, y: 9668, x: 8319)> Size: 2GB\n",
      "[402140460 values with dtype=float32]\n",
      "Coordinates:\n",
      "  * stat     (stat) <U20 400B '10th_percentile' ... 'min_(mean_march_may)'\n",
      "  * x        (x) float64 67kB -6.546e+04 -6.537e+04 ... 6.914e+05 6.915e+05\n",
      "  * y        (y) float64 77kB 7.539e+06 7.539e+06 ... 6.66e+06 6.659e+06\n",
      "Attributes:\n",
      "    grid_mapping:  spatial_ref\n"
     ]
    }
   ],
   "source": [
    "print(temp)"
   ]
  },
  {
   "cell_type": "code",
   "execution_count": 6,
   "id": "a6b14f75-a808-4a91-a2ff-577b01e24753",
   "metadata": {},
   "outputs": [],
   "source": [
    "temp = temp.sel(stat='mean')"
   ]
  },
  {
   "cell_type": "code",
   "execution_count": 11,
   "id": "95e8753b-6938-4f47-b2d1-1af986d17862",
   "metadata": {},
   "outputs": [],
   "source": [
    "combined_df_nans = pd.read_parquet(\"/cluster/home/maikents/sinmod_features_masters/dataframes_pipeline_5/total_df_with_nans_and_labels.parquet\")\n",
    "\n",
    "x_coords = combined_df_nans['x']\n",
    "y_coords = combined_df_nans['y']"
   ]
  },
  {
   "cell_type": "code",
   "execution_count": 15,
   "id": "35ea7f06-101d-45ed-9f27-17e98477edc9",
   "metadata": {},
   "outputs": [],
   "source": [
    "res_x = (x_coords.max() - x_coords.min()) / temp.shape[1]\n",
    "res_y = (y_coords.max() - y_coords.min()) / temp.shape[0]\n",
    "\n",
    "transform = from_origin(x_coords.min(), y_coords.max(), res_x, res_y)\n",
    "\n",
    "#Save to GeoTIFF with correct CRS\n",
    "with rasterio.open(\n",
    "    \"/cluster/home/maikents/sinmod_features_masters/temperature_plotting.tif\",\n",
    "    \"w\",\n",
    "    driver=\"GTiff\",\n",
    "    height=temp.shape[0],\n",
    "    width=temp.shape[1],\n",
    "    count=1,\n",
    "    dtype=\"float32\",\n",
    "    crs=\"EPSG:25833\",  #EMODnet UTM Zone 33N / ETRS89\n",
    "    transform=transform,\n",
    ") as dst:\n",
    "    dst.write(temp.astype(\"float32\"), 1)"
   ]
  },
  {
   "cell_type": "code",
   "execution_count": 17,
   "id": "a58badb1-abd8-4adb-9047-60959277cc1b",
   "metadata": {},
   "outputs": [
    {
     "name": "stdout",
     "output_type": "stream",
     "text": [
      "Vertical flip complete.\n"
     ]
    }
   ],
   "source": [
    "\n",
    "with rasterio.open(\"/cluster/home/maikents/sinmod_features_masters/temperature_plotting.tif\") as src:\n",
    "    data = src.read(1)\n",
    "\n",
    "    flipped_data = np.flipud(data)\n",
    "\n",
    "    meta = src.meta.copy()\n",
    "\n",
    "    with rasterio.open('/cluster/home/maikents/sinmod_features_masters/temperature_flipped_vertically_finished.tif', 'w', **meta) as dst:\n",
    "        dst.write(flipped_data, 1)\n",
    "\n",
    "print(\"Vertical flip complete.\")\n"
   ]
  },
  {
   "cell_type": "code",
   "execution_count": 18,
   "id": "3da67308-26c6-4cf8-b2d5-4f13c2ba96a1",
   "metadata": {},
   "outputs": [],
   "source": [
    "\n",
    "with rasterio.open('/cluster/home/maikents/sinmod_features_masters/temperature_flipped_vertically_finished.tif') as src:\n",
    "    data = src.read(1)\n",
    "    profile = src.profile\n",
    "\n",
    "data_clean = np.where(np.isnan(data), -9999, data)\n",
    "\n",
    "profile.update(nodata=-9999)\n",
    "\n",
    "with rasterio.open('/cluster/home/maikents/sinmod_features_masters/temp_final.tif', \"w\", **profile) as dst:\n",
    "    dst.write(data_clean, 1)\n"
   ]
  },
  {
   "cell_type": "code",
   "execution_count": null,
   "id": "e37e2d04-926f-4cea-a9b4-ac562f4a80db",
   "metadata": {},
   "outputs": [],
   "source": []
  }
 ],
 "metadata": {
  "kernelspec": {
   "display_name": "Python 3 (ipykernel)",
   "language": "python",
   "name": "python3"
  },
  "language_info": {
   "codemirror_mode": {
    "name": "ipython",
    "version": 3
   },
   "file_extension": ".py",
   "mimetype": "text/x-python",
   "name": "python",
   "nbconvert_exporter": "python",
   "pygments_lexer": "ipython3",
   "version": "3.12.3"
  }
 },
 "nbformat": 4,
 "nbformat_minor": 5
}
