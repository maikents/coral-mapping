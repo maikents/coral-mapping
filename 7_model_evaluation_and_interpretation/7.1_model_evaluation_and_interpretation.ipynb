{
 "cells": [
  {
   "cell_type": "code",
   "execution_count": 1,
   "id": "1a3a26cd-41b2-47b4-b3be-6e850eaf2295",
   "metadata": {},
   "outputs": [],
   "source": [
    "import pandas as pd\n",
    "import numpy as np\n",
    "import xarray as xr\n",
    "from sklearn.metrics import make_scorer, roc_auc_score\n",
    "from sklearn import metrics\n",
    "import matplotlib.pyplot as plt"
   ]
  },
  {
   "cell_type": "code",
   "execution_count": 4,
   "id": "be5fe7c9-a481-438b-b695-9dc1b8332cfe",
   "metadata": {},
   "outputs": [],
   "source": [
    "predicted_grid = np.load(\"/cluster/home/maikents/sinmod_features_masters/predicted_probabilities_pipeline1.npy\")"
   ]
  },
  {
   "cell_type": "code",
   "execution_count": 9,
   "id": "506383b7-9301-485d-a9a4-49f115cf6d57",
   "metadata": {},
   "outputs": [],
   "source": [
    "combined_df_nans = pd.read_parquet(\"/cluster/home/maikents/sinmod_features_masters/dataframes_pipeline_1/total_df_with_nans_and_labels.parquet\")\n",
    "x_coords = combined_df_nans['x']\n",
    "y_coords = combined_df_nans['y']\n",
    "x_sorted = np.sort(np.unique(x_coords))\n",
    "y_sorted = np.sort(np.unique(y_coords))"
   ]
  },
  {
   "cell_type": "code",
   "execution_count": 11,
   "id": "9e30d9df-34a2-4bf9-a00a-38ef82c18ac4",
   "metadata": {},
   "outputs": [],
   "source": [
    "X_train = pd.read_csv(\"/cluster/home/maikents/sinmod_features_masters/ready_for_training/X_train.csv\")\n",
    "X_test = pd.read_csv(\"/cluster/home/maikents/sinmod_features_masters/ready_for_training/X_test.csv\")\n",
    "y_train = pd.read_csv(\"/cluster/home/maikents/sinmod_features_masters/ready_for_training/y_train.csv\")\n",
    "y_test = pd.read_csv(\"/cluster/home/maikents/sinmod_features_masters/ready_for_training/y_test.csv\")"
   ]
  },
  {
   "cell_type": "code",
   "execution_count": 10,
   "id": "4bcedc23-10a2-49dc-841d-59e96f96bfc4",
   "metadata": {},
   "outputs": [
    {
     "ename": "ValueError",
     "evalue": "The truth value of an array with more than one element is ambiguous. Use a.any() or a.all()",
     "output_type": "error",
     "traceback": [
      "\u001b[0;31m---------------------------------------------------------------------------\u001b[0m",
      "\u001b[0;31mValueError\u001b[0m                                Traceback (most recent call last)",
      "Cell \u001b[0;32mIn[10], line 8\u001b[0m\n\u001b[1;32m      5\u001b[0m plt\u001b[38;5;241m.\u001b[39mfigure(figsize\u001b[38;5;241m=\u001b[39m(\u001b[38;5;241m10\u001b[39m, \u001b[38;5;241m8\u001b[39m))\n\u001b[1;32m      7\u001b[0m \u001b[38;5;66;03m# Normalize the predicted probabilities for color scaling (optional, if needed)\u001b[39;00m\n\u001b[0;32m----> 8\u001b[0m norm \u001b[38;5;241m=\u001b[39m mcolors\u001b[38;5;241m.\u001b[39mNormalize(vmin\u001b[38;5;241m=\u001b[39m\u001b[38;5;28;43mmin\u001b[39;49m\u001b[43m(\u001b[49m\u001b[43mpredicted_grid\u001b[49m\u001b[43m)\u001b[49m, vmax\u001b[38;5;241m=\u001b[39m\u001b[38;5;28mmax\u001b[39m(predicted_grid))\n\u001b[1;32m     10\u001b[0m \u001b[38;5;66;03m# Plot the predicted probabilities for each (x, y) pair\u001b[39;00m\n\u001b[1;32m     11\u001b[0m scatter \u001b[38;5;241m=\u001b[39m plt\u001b[38;5;241m.\u001b[39mscatter(x, y, c\u001b[38;5;241m=\u001b[39mpredicted_grid, cmap\u001b[38;5;241m=\u001b[39m\u001b[38;5;124m'\u001b[39m\u001b[38;5;124mBlues\u001b[39m\u001b[38;5;124m'\u001b[39m, s\u001b[38;5;241m=\u001b[39m\u001b[38;5;241m1\u001b[39m, marker\u001b[38;5;241m=\u001b[39m\u001b[38;5;124m'\u001b[39m\u001b[38;5;124mo\u001b[39m\u001b[38;5;124m'\u001b[39m, norm\u001b[38;5;241m=\u001b[39mnorm)\n",
      "\u001b[0;31mValueError\u001b[0m: The truth value of an array with more than one element is ambiguous. Use a.any() or a.all()"
     ]
    },
    {
     "data": {
      "text/plain": [
       "<Figure size 1000x800 with 0 Axes>"
      ]
     },
     "metadata": {},
     "output_type": "display_data"
    }
   ],
   "source": [
    "def jackknife_test(model, X_train, y_train, X_test, y_test):\n",
    "    n_features = X_train.shape[1]\n",
    "    \n",
    "    auc_scores_individual_features = {}\n",
    "    auc_scores_leave_one_out = {}\n",
    "\n",
    "    for i in range(n_features):\n",
    "        X_train_single = X_train.iloc[:, i].values.reshape(-1, 1)\n",
    "        X_test_single = X_test.iloc[:, i].values.reshape(-1, 1)\n",
    "\n",
    "        model.fit(X_train_single, y_train)\n",
    "\n",
    "        y_pred_single = model.predict(X_test_single)\n",
    "        auc_single = roc_auc_score(y_test, y_pred_single)\n",
    "        auc_scores_individual_features[X_train.columns[i]] = auc_single\n",
    "    \n",
    "    for i in range(n_features):\n",
    "        X_train_loo = X_train.drop(X_train.columns[i], axis=1)\n",
    "        X_test_loo = X_test.drop(X_test.columns[i], axis=1)\n",
    "\n",
    "        model.fit(X_train_loo, y_train)\n",
    "\n",
    "        y_pred_loo = model.predict(X_test_loo)\n",
    "        auc_loo = roc_auc_score(y_test, y_pred_loo)\n",
    "        auc_scores_leave_one_out[X_train.columns[i]] = auc_loo\n",
    "    \n",
    "    model.fit(X_train, y_train)\n",
    "    y_pred_full = model.predict(X_test)\n",
    "    full_auc = roc_auc_score(y_test, y_pred_full)\n",
    "\n",
    "    return full_auc, auc_scores_individual_features, auc_scores_leave_one_out\n",
    "\n",
    "best_model = cv_model.best_estimator_\n",
    "\n",
    "full_auc, auc_scores_individual_features, auc_scores_leave_one_out = jackknife_test(best_model, X_train, y_train, X_test, y_test)\n",
    "\n",
    "print(f\"Full AUC score = {full_auc:.3f}\")\n",
    "\n",
    "\n",
    "for feature, auc in auc_scores_leave_one_out.items():\n",
    "    print(f\"{feature} dropped: AUC = {auc:.3f}\")\n",
    "\n",
    "\n",
    "for feature, auc in auc_scores_individual_features.items():\n",
    "    print(f\"{feature} only: AUC = {auc:.3f}\")"
   ]
  },
  {
   "cell_type": "code",
   "execution_count": null,
   "id": "b69239ac-4924-40bb-afd4-ebce2a3fd1fb",
   "metadata": {},
   "outputs": [],
   "source": []
  }
 ],
 "metadata": {
  "kernelspec": {
   "display_name": "Python 3 (ipykernel)",
   "language": "python",
   "name": "python3"
  },
  "language_info": {
   "codemirror_mode": {
    "name": "ipython",
    "version": 3
   },
   "file_extension": ".py",
   "mimetype": "text/x-python",
   "name": "python",
   "nbconvert_exporter": "python",
   "pygments_lexer": "ipython3",
   "version": "3.12.3"
  }
 },
 "nbformat": 4,
 "nbformat_minor": 5
}
