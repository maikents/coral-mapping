{
 "cells": [
  {
   "cell_type": "code",
   "execution_count": 21,
   "metadata": {},
   "outputs": [
    {
     "name": "stdout",
     "output_type": "stream",
     "text": [
      "{'driver': 'GTiff', 'dtype': 'float32', 'nodata': -3.4028230607370965e+38, 'width': 6491, 'height': 13181, 'count': 1, 'crs': CRS.from_epsg(32632), 'transform': Affine(80.0, 0.0, 210863.54288175795,\n",
      "       0.0, -80.0, 7914483.248744318), 'blockxsize': 128, 'blockysize': 128, 'tiled': True, 'compress': 'lzw', 'interleave': 'band'}\n",
      "Dimensions: (13181, 6491)\n",
      "Number of grids: 85557871\n"
     ]
    }
   ],
   "source": [
    "import rasterio\n",
    "\n",
    "with rasterio.open('raw_data/EMOD-tifs/C5_slope.tif') as dataset:\n",
    "    print(dataset.profile)\n",
    "    data = dataset.read(1)\n",
    "\n",
    "    dimensions = data.shape\n",
    "    num_grids = data.size\n",
    "    print(f\"Dimensions: {dimensions}\")\n",
    "    print(f\"Number of grids: {num_grids}\")\n",
    "\n",
    "slope = rasterio.open('raw_data/EMOD-tifs/C5_slope.tif')"
   ]
  },
  {
   "cell_type": "code",
   "execution_count": 49,
   "metadata": {},
   "outputs": [
    {
     "name": "stdout",
     "output_type": "stream",
     "text": [
      "\n",
      "Native Corner Points:\n",
      "\n",
      "bottom_left: x = 800.0, y = 800.0\n",
      "bottom_right: x = 800.0, y = 444000.0\n",
      "top_left: x = 760000.0, y = 800.0\n",
      "top_right: x = 760000.0, y = 444000.0\n"
     ]
    }
   ],
   "source": [
    "from netCDF4 import Dataset\n",
    "\n",
    "# Cut down each tif to the same grid boundaries as MidNor data\n",
    "# 1. Get the grid boundaries of MidNor data\n",
    "filename_PhysStates = '/cluster/projects/itk-SINMOD/coral-mapping/midnor/samp_2D_jan_jun.nc'\n",
    "\n",
    "midnor_PhysStates_data = Dataset(filename_PhysStates, 'r')\n",
    "\n",
    "# # Looking at our list of available variables\n",
    "# variables_list = list(midnor_PhysStates_data.variables.keys())\n",
    "# for variable in variables_list:\n",
    "#     units = midnor_PhysStates_data.variables[variable].units if 'units' in midnor_PhysStates_data.variables[variable].ncattrs() else 'No units'\n",
    "#     print(f\"{variable:<20} {units}\")\n",
    "\n",
    "# Get the corner points from gridLats and gridLons\n",
    "gridLats = midnor_PhysStates_data.variables['gridLats'][:]\n",
    "gridLons = midnor_PhysStates_data.variables['gridLons'][:]\n",
    "\n",
    "corner_points = {\n",
    "    'bottom_left': (gridLats[0, 0], gridLons[0, 0]),\n",
    "    'bottom_right': (gridLats[0, -1], gridLons[0, -1]),\n",
    "    'top_left': (gridLats[-1, 0], gridLons[-1, 0]),\n",
    "    'top_right': (gridLats[-1, -1], gridLons[-1, -1])\n",
    "}\n",
    "\n",
    "# print(\"Corner Points:\")\n",
    "# for corner, (lat, lon) in corner_points.items():\n",
    "#     print(f\"{corner}: Latitude = {lat}, Longitude = {lon}\")\n",
    "\n",
    "# Get the corner coordinates in native coordinates using xc and yc\n",
    "xc = midnor_PhysStates_data.variables['xc'][:]\n",
    "yc = midnor_PhysStates_data.variables['yc'][:]\n",
    "\n",
    "native_corner_points = {\n",
    "    'bottom_left': (xc[0], yc[0]),\n",
    "    'bottom_right': (xc[0], yc[-1]),\n",
    "    'top_left': (xc[-1], yc[0]),\n",
    "    'top_right': (xc[-1], yc[-1])\n",
    "}\n",
    "\n",
    "print(\"\\nNative Corner Points:\\n\")\n",
    "for corner, (x, y) in native_corner_points.items():\n",
    "    print(f\"{corner}: x = {x}, y = {y}\")"
   ]
  },
  {
   "cell_type": "code",
   "execution_count": 54,
   "metadata": {},
   "outputs": [],
   "source": [
    "from pyproj import CRS, Transformer\n",
    "import numpy as np\n",
    "from rasterio import warp\n",
    "\n",
    "def obtain_sinmod_crs(PhysStates_data):\n",
    "    # Print grid mapping to see details, particularly the horizontal resolution\n",
    "    grid_mapping = PhysStates_data.variables['grid_mapping']\n",
    "    print(grid_mapping)\n",
    "\n",
    "    horizontal_resolution = grid_mapping.getncattr('horizontal_resolution')\n",
    "    print(f\"\\nHorizontal resolution: {horizontal_resolution} meters\")\n",
    "\n",
    "    crs_sinmod = CRS.from_proj4(f\"+proj=stere \"\n",
    "                                f\"+lat_0={grid_mapping.latitude_of_projection_origin} \"\n",
    "                                f\"+lat_ts={grid_mapping.standard_parallel} \"\n",
    "                                f\"+lon_0={grid_mapping.straight_vertical_longitude_from_pole} \"\n",
    "                                f\"+x_0={grid_mapping.false_easting} \"\n",
    "                                f\"+y_0={grid_mapping.false_northing} \"\n",
    "                                f\"+a={grid_mapping.semi_major_axis} \"\n",
    "                                f\"+b={grid_mapping.semi_minor_axis} \"\n",
    "                                f\"+units=m +no_defs\")\n",
    "    \n",
    "    print(f\"\\n Determined SINMOD CRS: {crs_sinmod}\")\n",
    "    return crs_sinmod\n",
    "\n",
    "def transform_coral_coordinates(coral_data, crs_sinmod):\n",
    "    # Define the Coordinate Reference Systems (CRS) for the coral data\n",
    "    crs_wgs84 = CRS.from_epsg(4326)  # WGS84 (lat/lon coordinates)\n",
    "\n",
    "    # Create a transformer to transform from wgs84 (geographic) to SINMOD\n",
    "    transformer_wgs84_to_sinmod = Transformer.from_crs(crs_wgs84, crs_sinmod, always_xy=True)\n",
    "\n",
    "    # Transform coral coordinates from WGS84 to SINMOD\n",
    "    coral_x, coral_y = transformer_wgs84_to_sinmod.transform(coral_data['lengdegrad'], coral_data['breddegrad'])\n",
    "\n",
    "    # Save coral_x and coral_y as new columns called x and y\n",
    "    coral_data.loc[:, 'x'] = coral_x\n",
    "    coral_data.loc[:, 'y'] = coral_y\n",
    "\n",
    "    return coral_data\n",
    "\n",
    "def transform_tif_coordinates(tif_data, crs_sinmod, transform):\n",
    "    # Define the Coordinate Reference Systems (CRS) for the tif data\n",
    "    crs_tif = CRS.from_epsg(32632)  # UTM Zone 32N\n",
    "\n",
    "    # Create a transformer to transform from UTM Zone 32N to SINMOD\n",
    "    transformer_tif_to_sinmod = Transformer.from_crs(crs_tif, crs_sinmod, always_xy=True)\n",
    "\n",
    "    # Get the coordinates of the tif data\n",
    "    rows, cols = tif_data.shape\n",
    "    x_coords, y_coords = rasterio.transform.xy(transform, np.arange(rows), np.arange(cols), offset='center')\n",
    "\n",
    "    # Transform tif coordinates from UTM Zone 32N to SINMOD\n",
    "    tif_x, tif_y = transformer_tif_to_sinmod.transform(x_coords, y_coords)\n",
    "\n",
    "    return tif_x, tif_y\n",
    "\n",
    "def transform_raster_to_crs(input_tif, output_tif, target_crs):\n",
    "    \"\"\"\n",
    "    Transforms a GeoTIFF file's coordinates to a specified CRS.\n",
    "    \n",
    "    Parameters:\n",
    "        input_tif (str): Path to the input GeoTIFF file.\n",
    "        output_tif (str): Path to save the transformed GeoTIFF file.\n",
    "        target_crs (str): Target CRS in WKT or EPSG format (e.g., 'EPSG:3413').\n",
    "    \"\"\"\n",
    "    with rasterio.open(input_tif) as src:\n",
    "        # Define the transformer\n",
    "        transformer = Transformer.from_crs(src.crs, target_crs, always_xy=True)\n",
    "\n",
    "        # Transform the bounding box coordinates\n",
    "        bounds = src.bounds\n",
    "        corners = [\n",
    "            (bounds.left, bounds.bottom),  # Bottom-left\n",
    "            (bounds.right, bounds.top)    # Top-right\n",
    "        ]\n",
    "        transformed_corners = [transformer.transform(x, y) for x, y in corners]\n",
    "        print(f\"Transformed corners: {transformed_corners}\")\n",
    "\n",
    "        # Get the new bounds\n",
    "        new_left, new_bottom = transformed_corners[0]\n",
    "        new_right, new_top = transformed_corners[1]\n",
    "\n",
    "        # Update the transform and metadata for the new CRS\n",
    "        new_transform, new_width, new_height = rasterio.warp.calculate_default_transform(\n",
    "            src.crs, target_crs, src.width, src.height, left=new_left, bottom=new_bottom, right=new_right, top=new_top\n",
    "        )\n",
    "\n",
    "        # Update metadata\n",
    "        new_meta = src.meta.copy()\n",
    "        new_meta.update({\n",
    "            \"crs\": target_crs,\n",
    "            \"transform\": new_transform,\n",
    "            \"width\": new_width,\n",
    "            \"height\": new_height\n",
    "        })\n",
    "\n",
    "        # Write the transformed raster to the output file\n",
    "        with rasterio.open(output_tif, \"w\", **new_meta) as dst:\n",
    "            rasterio.warp.reproject(\n",
    "                source=rasterio.band(src, 1),\n",
    "                destination=rasterio.band(dst, 1),\n",
    "                src_transform=src.transform,\n",
    "                src_crs=src.crs,\n",
    "                dst_transform=new_transform,\n",
    "                dst_crs=target_crs,\n",
    "                resampling=rasterio.warp.Resampling.nearest\n",
    "            )\n"
   ]
  },
  {
   "cell_type": "code",
   "execution_count": 55,
   "metadata": {},
   "outputs": [
    {
     "name": "stdout",
     "output_type": "stream",
     "text": [
      "<class 'netCDF4._netCDF4.Variable'>\n",
      "int32 grid_mapping()\n",
      "    grid_mapping_name: polar_stereographic\n",
      "    straight_vertical_longitude_from_pole: 58.0\n",
      "    horizontal_resolution: 800.0\n",
      "    latitude_of_projection_origin: 90.0\n",
      "    longitude_of_projection_origin: 58.0\n",
      "    standard_parallel: 60.0\n",
      "    origoRef: [0. 0.]\n",
      "    semi_minor_axis: 6370000.0\n",
      "    semi_major_axis: 6370000.0\n",
      "    false_easting: 2544800.0\n",
      "    false_northing: 1918800.0\n",
      "    scale_factor_at_projection_origin: 1.0\n",
      "unlimited dimensions: \n",
      "current shape = ()\n",
      "filling on, default _FillValue of -2147483647 used\n",
      "\n",
      "Horizontal resolution: 800.0 meters\n",
      "\n",
      " Determined SINMOD CRS: +proj=stere +lat_0=90.0 +lat_ts=60.0 +lon_0=58.0 +x_0=2544800.0 +y_0=1918800.0 +a=6370000.0 +b=6370000.0 +units=m +no_defs +type=crs\n",
      "Transformed corners: [(111322.95730004925, 181891.28435119358), (1214916.3274095315, 471715.03834121255)]\n"
     ]
    }
   ],
   "source": [
    "midnor_crs = obtain_sinmod_crs(midnor_PhysStates_data)\n",
    "\n",
    "transform_raster_to_crs('raw_data/EMOD-tifs/C5_slope.tif', 'raw_data/EMOD-tifs/C5_slope_transformed.tif', midnor_crs)"
   ]
  },
  {
   "cell_type": "code",
   "execution_count": 58,
   "metadata": {},
   "outputs": [
    {
     "data": {
      "text/plain": [
       "6491"
      ]
     },
     "execution_count": 58,
     "metadata": {},
     "output_type": "execute_result"
    }
   ],
   "source": [
    "slope.width"
   ]
  },
  {
   "cell_type": "code",
   "execution_count": 57,
   "metadata": {},
   "outputs": [
    {
     "data": {
      "text/plain": [
       "12341"
      ]
     },
     "execution_count": 57,
     "metadata": {},
     "output_type": "execute_result"
    }
   ],
   "source": [
    "slope_transformed = rasterio.open('raw_data/EMOD-tifs/C5_slope_transformed.tif')\n",
    "\n",
    "slope_transformed.width"
   ]
  },
  {
   "cell_type": "code",
   "execution_count": null,
   "metadata": {},
   "outputs": [],
   "source": []
  }
 ],
 "metadata": {
  "kernelspec": {
   "display_name": "SINMOD",
   "language": "python",
   "name": "python3"
  },
  "language_info": {
   "codemirror_mode": {
    "name": "ipython",
    "version": 3
   },
   "file_extension": ".py",
   "mimetype": "text/x-python",
   "name": "python",
   "nbconvert_exporter": "python",
   "pygments_lexer": "ipython3",
   "version": "3.12.5"
  }
 },
 "nbformat": 4,
 "nbformat_minor": 2
}
