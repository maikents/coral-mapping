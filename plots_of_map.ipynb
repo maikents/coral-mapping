{
 "cells": [
  {
   "cell_type": "code",
   "execution_count": 1,
   "id": "3984ebb6-4cd2-4019-96f1-63dec414cbe7",
   "metadata": {},
   "outputs": [],
   "source": [
    "import netCDF4 as nc\n",
    "from netCDF4 import Dataset\n",
    "import geopandas as gpd\n",
    "import pandas as pd"
   ]
  },
  {
   "cell_type": "code",
   "execution_count": 2,
   "id": "5a8d1f53-95ee-4ef5-a3b7-5b3c84799d3e",
   "metadata": {},
   "outputs": [],
   "source": [
    "filename_PhysStates_SINMOD = \"/cluster/projects/itk-SINMOD/coral-mapping/midnor/PhysStates_2019.nc\"\n",
    "\n",
    "midnor_PhysStates_data = Dataset(filename_PhysStates_SINMOD, 'r')\n"
   ]
  },
  {
   "cell_type": "code",
   "execution_count": 3,
   "id": "e4de768d-a819-436c-b6d9-e678f4a07eca",
   "metadata": {},
   "outputs": [
    {
     "ename": "SyntaxError",
     "evalue": "unterminated string literal (detected at line 1) (2159521559.py, line 1)",
     "output_type": "error",
     "traceback": [
      "\u001b[0;36m  Cell \u001b[0;32mIn[3], line 1\u001b[0;36m\u001b[0m\n\u001b[0;31m    coral_filepath = '/cluster/home/maikents/midnor_total_coral_data_processed.parquet\u001b[0m\n\u001b[0m                     ^\u001b[0m\n\u001b[0;31mSyntaxError\u001b[0m\u001b[0;31m:\u001b[0m unterminated string literal (detected at line 1)\n"
     ]
    }
   ],
   "source": [
    "coral_filepath = '/cluster/home/maikents/midnor_total_coral_data_processed.parquet\n",
    "df = pd.read_parquet(data_filepath)"
   ]
  },
  {
   "cell_type": "code",
   "execution_count": null,
   "id": "fc2fa4db-10a6-4cbb-a957-89de6424680d",
   "metadata": {},
   "outputs": [],
   "source": []
  }
 ],
 "metadata": {
  "kernelspec": {
   "display_name": "Python 3 (ipykernel)",
   "language": "python",
   "name": "python3"
  },
  "language_info": {
   "codemirror_mode": {
    "name": "ipython",
    "version": 3
   },
   "file_extension": ".py",
   "mimetype": "text/x-python",
   "name": "python",
   "nbconvert_exporter": "python",
   "pygments_lexer": "ipython3",
   "version": "3.12.3"
  }
 },
 "nbformat": 4,
 "nbformat_minor": 5
}
