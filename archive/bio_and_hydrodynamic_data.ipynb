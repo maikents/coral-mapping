{
 "cells": [
  {
   "cell_type": "code",
   "execution_count": 1,
   "id": "eceed8c8-805f-46cb-8a0b-9a41ae71e447",
   "metadata": {},
   "outputs": [
    {
     "name": "stderr",
     "output_type": "stream",
     "text": [
      "\n",
      "KeyboardInterrupt\n",
      "\n"
     ]
    }
   ],
   "source": [
    "import numpy as np\n",
    "import random\n",
    "import matplotlib.pyplot as plt\n",
    "import xarray as xr\n",
    "import pandas as pd"
   ]
  },
  {
   "cell_type": "code",
   "execution_count": 2,
   "id": "e784188b-4b71-4dd4-bc1a-9bcfbf78f13a",
   "metadata": {},
   "outputs": [],
   "source": [
    "#Open bio data\n",
    "bio_states_2019 = xr.open_dataset(\"/cluster/projects/itk-SINMOD/coral-mapping/midnor/BioStates_2019.nc\")\n"
   ]
  },
  {
   "cell_type": "code",
   "execution_count": 3,
   "id": "1b6ab16f-010a-4ead-96cd-0ea17ed69973",
   "metadata": {},
   "outputs": [
    {
     "name": "stdout",
     "output_type": "stream",
     "text": [
      "['time', 'grid_mapping', 'LayerDepths', 'xc', 'yc', 'zc', 'depth', 'DXxDYy', 'nitrate', 'silicate', 'ammonium', 'diatoms', 'flagellates', 'ciliates', 'HNANO', 'bacteria', 'calanus_finmarchicus', 'calanus_glacialis', 'detritus_slow', 'detritus_fast', 'DOC', 'cDOM', 'silicate_detritus', 'sediment_Si', 'sediment_N']\n"
     ]
    }
   ],
   "source": [
    "print(list(bio_states_2019.variables))"
   ]
  },
  {
   "cell_type": "code",
   "execution_count": 16,
   "id": "4655a380-1b07-4a8b-9b3e-ffa7ad02be68",
   "metadata": {},
   "outputs": [],
   "source": [
    "diatoms = bio_states_2019[\"diatoms\"]\n",
    "flagellates = bio_states_2019[\"flagellates\"]\n",
    "\n",
    "chlorophyll = 3.192*diatoms + 1.186*flagellates    #[mg/m3]"
   ]
  },
  {
   "cell_type": "code",
   "execution_count": 17,
   "id": "ed2f551b-f73a-4b56-92e4-3291260fc33b",
   "metadata": {},
   "outputs": [],
   "source": [
    "nitrate = bio_states_2019[\"nitrate\"]\n",
    "silicate = bio_states_2019[\"silicate\"]"
   ]
  },
  {
   "cell_type": "code",
   "execution_count": 18,
   "id": "6ef749b4-5540-4384-83ab-cd663a6959c3",
   "metadata": {},
   "outputs": [],
   "source": [
    "#Zooplankton\n",
    "calanus_finmarchicus = bio_states_2019[\"calanus_finmarchicus\"]\n",
    "calanus_glacialis = bio_states_2019[\"calanus_glacialis\"]"
   ]
  },
  {
   "cell_type": "code",
   "execution_count": 19,
   "id": "0f049b3a-5afc-45ca-b1b3-056b6f2e0c60",
   "metadata": {},
   "outputs": [],
   "source": [
    "bacteria = bio_states_2019[\"bacteria\"]"
   ]
  },
  {
   "cell_type": "code",
   "execution_count": null,
   "id": "ab564fc7-32d4-410f-9c8e-044ad4b59805",
   "metadata": {},
   "outputs": [],
   "source": [
    " #calcite and aragonite saturation state??"
   ]
  },
  {
   "cell_type": "code",
   "execution_count": 11,
   "id": "5d421be5-4214-43bd-8adc-dcc3de809c9c",
   "metadata": {},
   "outputs": [],
   "source": [
    "#downwelling"
   ]
  },
  {
   "cell_type": "code",
   "execution_count": null,
   "id": "8a5c2194-0ed7-48fa-af68-deaaee357508",
   "metadata": {},
   "outputs": [],
   "source": [
    "#upwelling\n"
   ]
  },
  {
   "cell_type": "code",
   "execution_count": 20,
   "id": "fc4cc2cd-2895-4287-bd73-72a8a6c00bc0",
   "metadata": {},
   "outputs": [],
   "source": [
    "\n",
    "phys_states_2019 = xr.open_dataset(\"/cluster/projects/itk-SINMOD/coral-mapping/midnor/PhysStates_2019.nc\")\n"
   ]
  },
  {
   "cell_type": "code",
   "execution_count": 21,
   "id": "e8ddf970-338f-47e1-bfd1-f572c8ee9bb3",
   "metadata": {},
   "outputs": [
    {
     "name": "stdout",
     "output_type": "stream",
     "text": [
      "['time', 'grid_mapping', 'LayerDepths', 'xc', 'yc', 'zc', 'depth', 'DXxDYy', 'u_velocity', 'v_velocity', 'elevation', 'temperature', 'salinity', 'ice_thickness', 'ice_compactness', 'salinity_ice']\n"
     ]
    }
   ],
   "source": [
    "print(list(phys_states_2019.variables))"
   ]
  },
  {
   "cell_type": "code",
   "execution_count": 24,
   "id": "5bc81b70-66d8-4604-8c51-b3a287d4c00e",
   "metadata": {},
   "outputs": [],
   "source": [
    "coral_data = pd.read_parquet('/cluster/home/maikents/midnor_total_coral_data_processed_v2.parquet')"
   ]
  },
  {
   "cell_type": "code",
   "execution_count": 26,
   "id": "6a810ee7-973f-479e-91d5-746b9abee32f",
   "metadata": {},
   "outputs": [
    {
     "name": "stdout",
     "output_type": "stream",
     "text": [
      "['gml_id', 'lokalId', 'navnerom', 'verifiseringsdato', 'produkt', 'versjon', 'målemetode', 'nøyaktighet', 'medium', 'opphav', 'minimumsdybde', 'maksimumsdybde', 'naturtype', 'naturtypeNavn', 'kildeNavn', 'observasjonsMetode', 'observasjonsSted', 'observasjonsSlutt', 'lengdegrad', 'breddegrad', 'geometry', 'x', 'y']\n"
     ]
    }
   ],
   "source": [
    "print(list(coral_data))\n",
    "coral_x = coral_data[\"x\"]\n",
    "coral_y = coral_data[\"y\"]"
   ]
  },
  {
   "cell_type": "code",
   "execution_count": null,
   "id": "33f3ad4d-8d47-4a9d-aae7-c7b5abbf5e59",
   "metadata": {},
   "outputs": [],
   "source": [
    "#Eddies\n",
    "#Okubo-Weiss parameter\n",
    "u = phys_states_2019[\"u_velocity\"] \n",
    "v = phys_states_2019[\"v_velocity\"]  \n",
    "xc = phys_states_2019[\"xc\"] \n",
    "yc = phys_states_2019[\"yc\"] \n",
    "\n",
    "#grid spacing\n",
    "dx = np.gradient(xc)  \n",
    "dy = np.gradient(yc)  \n",
    "dx = np.expand_dims(dx, axis=(0, 1, -1))  # Shape: (1, 1, 1, 950)\n",
    "\n",
    "# dy should be broadcast to match the third dimension of u/v (555)\n",
    "dy = np.expand_dims(dy, axis=(0, 1, -2))  # Shape: (1, 1, 555, 1)\n",
    "\n",
    "du_dx_temp = np.gradient(u, axis=-1)  \n",
    "du_dy_temp = np.gradient(u, axis=-2)  \n",
    "dv_dx_temp = np.gradient(v, axis=-1) \n",
    "dv_dy_temp = np.gradient(v, axis=-2)  \n",
    "\n",
    "du_dx = du_dx_temp / dx  \n",
    "du_dy = du_dy_temp / dy  \n",
    "dv_dx = dv_dx_temp / dx \n",
    "dv_dy = dv_dy_temp / dy  \n",
    "\n",
    "#Okubo-Weiss components\n",
    "zeta = dv_dx - du_dy  #relative vorticity\n",
    "Sn = du_dx - dv_dy  #normal strain\n",
    "Ss = dv_dx + du_dy  #shear strain\n",
    "\n",
    "#Okubo-Weiss parameter\n",
    "W = Sn**2 + Ss**2 - zeta**2\n",
    "\n",
    "coral_W_time_series = []\n",
    "\n",
    "for t in range(W.shape[0]):  \n",
    "    W_t = W[t, 0, :, :]  #surface layer at time t\n",
    "\n",
    "    interp_W = RegularGridInterpolator((yc, xc), W_t, bounds_error=False, fill_value=np.nan)\n",
    "\n",
    "    #extract Okubo-Weiss values at coral locations\n",
    "    coral_W_t = interp_W(np.array([coral_y, coral_x]).T)\n",
    "\n",
    "    coral_W_time_series.append(coral_W_t)\n",
    "\n",
    "coral_W_time_series = np.array(coral_W_time_series)\n"
   ]
  },
  {
   "cell_type": "code",
   "execution_count": null,
   "id": "61f86203-e31a-4dba-ba48-27666f9ac356",
   "metadata": {},
   "outputs": [],
   "source": [
    "\"\"\"\n",
    "#Eddies correspond to negative W regions. \n",
    "W_std = W.std()\n",
    "W_c = 0.2 * W_std  #eddy threshold\n",
    "eddy_mask = W < -W_c  #identify eddies\n",
    "\"\"\""
   ]
  },
  {
   "cell_type": "code",
   "execution_count": 38,
   "id": "aa44573f-7ad8-4284-b477-70bffca5f433",
   "metadata": {},
   "outputs": [
    {
     "name": "stdout",
     "output_type": "stream",
     "text": [
      "Shape of u: (365, 50, 555, 950)\n",
      "Shape of dx: (1, 1, 950, 1)\n",
      "Shape of dy: (1, 1, 1, 555)\n"
     ]
    }
   ],
   "source": [
    "print(f\"Shape of u: {u.shape}\")\n",
    "print(f\"Shape of dx: {dx.shape}\")\n",
    "print(f\"Shape of dy: {dy.shape}\")"
   ]
  },
  {
   "cell_type": "code",
   "execution_count": null,
   "id": "df676b70-e442-4128-ab6d-7e078ea9187f",
   "metadata": {},
   "outputs": [],
   "source": []
  }
 ],
 "metadata": {
  "kernelspec": {
   "display_name": "Python 3 (ipykernel)",
   "language": "python",
   "name": "python3"
  },
  "language_info": {
   "codemirror_mode": {
    "name": "ipython",
    "version": 3
   },
   "file_extension": ".py",
   "mimetype": "text/x-python",
   "name": "python",
   "nbconvert_exporter": "python",
   "pygments_lexer": "ipython3",
   "version": "3.12.3"
  }
 },
 "nbformat": 4,
 "nbformat_minor": 5
}
