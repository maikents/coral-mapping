{
 "cells": [
  {
   "cell_type": "markdown",
   "metadata": {},
   "source": [
    "# Exploring the coral data"
   ]
  },
  {
   "cell_type": "code",
   "execution_count": 1,
   "metadata": {},
   "outputs": [
    {
     "name": "stdout",
     "output_type": "stream",
     "text": [
      "Index(['gml_id', 'lokalId', 'navnerom', 'verifiseringsdato', 'produkt',\n",
      "       'versjon', 'målemetode', 'nøyaktighet', 'medium', 'opphav',\n",
      "       'minimumsdybde', 'maksimumsdybde', 'naturtype', 'naturtypeNavn',\n",
      "       'kildeNavn', 'observasjonsMetode', 'observasjonsSted',\n",
      "       'observasjonsSlutt', 'lengdegrad', 'breddegrad', 'geometry'],\n",
      "      dtype='object')\n"
     ]
    }
   ],
   "source": [
    "import geopandas as gpd\n",
    "# gml_file_coral_reefs = \"./KystOgFiskeri_50_Trondelag_25832_Korallrev_GML.gml\"\n",
    "gml_file_coral_reefs = \"./raw_data/KystOgFiskeri_50_Trondelag_25833_Korallrev_GML.gml\"\n",
    "\n",
    "coral_data = gpd.read_file(gml_file_coral_reefs)\n",
    "\n",
    "print(coral_data.columns)"
   ]
  },
  {
   "cell_type": "code",
   "execution_count": 2,
   "metadata": {},
   "outputs": [
    {
     "data": {
      "image/png": "[encoded data removed]",
      "text/plain": [
       "<Figure size 1000x600 with 1 Axes>"
      ]
     },
     "metadata": {},
     "output_type": "display_data"
    },
    {
     "name": "stdout",
     "output_type": "stream",
     "text": [
      "Number of coral data entries without depth data: 89 out of 104\n"
     ]
    }
   ],
   "source": [
    "import matplotlib.pyplot as plt\n",
    "import numpy as np\n",
    "\n",
    "coral_data_drop_depth_data = coral_data[(coral_data['minimumsdybde'] != 0) & (coral_data['maksimumsdybde'] != 0)]\n",
    "\n",
    "observation_numbers = np.arange(0, len(coral_data_drop_depth_data))\n",
    "min_depths = coral_data_drop_depth_data['minimumsdybde'].values  \n",
    "max_depths = coral_data_drop_depth_data['maksimumsdybde'].values \n",
    "depth_ranges = max_depths - min_depths\n",
    "\n",
    "plt.figure(figsize=(10, 6))\n",
    "plt.bar(observation_numbers, depth_ranges, bottom=min_depths, color='skyblue', edgecolor='black')\n",
    "\n",
    "plt.xlabel(\"Observation number\")\n",
    "plt.ylabel(\"Depth (m)\")\n",
    "plt.title(\"Depth ranges for each observation\")\n",
    "plt.xticks(observation_numbers)\n",
    "plt.gca().invert_yaxis()  \n",
    "plt.show()\n",
    "\n",
    "missing_depth_data_count = coral_data[(coral_data['minimumsdybde'] == 0) | (coral_data['maksimumsdybde'] == 0)].shape[0]\n",
    "print(f\"Number of coral data entries without depth data: {missing_depth_data_count} out of {len(coral_data)}\")"
   ]
  },
  {
   "cell_type": "markdown",
   "metadata": {},
   "source": [
    "# Exploring SINMOD data\n",
    "\n",
    "- PCA"
   ]
  },
  {
   "cell_type": "markdown",
   "metadata": {},
   "source": []
  },
  {
   "cell_type": "markdown",
   "metadata": {},
   "source": [
    "# Exploring SINMOD and Coral data\n",
    "\n",
    "- Histograms of features at coral data locations (and randomly sampled histograms)\n",
    "- PLS\n"
   ]
  },
  {
   "cell_type": "code",
   "execution_count": null,
   "metadata": {},
   "outputs": [
    {
     "name": "stdout",
     "output_type": "stream",
     "text": [
      "time                 No units\n",
      "grid_mapping         No units\n",
      "LayerDepths          m\n",
      "xc                   meter\n",
      "yc                   meter\n",
      "zc                   m\n",
      "depth                m\n",
      "DXxDYy               m2\n",
      "u_velocity           m/s\n",
      "v_velocity           m/s\n",
      "elevation            m\n",
      "temperature          degC\n",
      "salinity             psu\n",
      "ice_thickness        m\n",
      "ice_compactness      -\n",
      "salinity_ice         psu\n"
     ]
    },
    {
     "ename": "DataSourceError",
     "evalue": "'./processed_data/coral_data_trondelag_processed.parquet' not recognized as being in a supported file format. It could have been recognized by driver Parquet, but plugin ogr_Parquet.so is not available in your installation. You may install it with 'conda install -c conda-forge libgdal-arrow-parquet'",
     "output_type": "error",
     "traceback": [
      "\u001b[0;31m---------------------------------------------------------------------------\u001b[0m",
      "\u001b[0;31mDataSourceError\u001b[0m                           Traceback (most recent call last)",
      "Cell \u001b[0;32mIn[3], line 15\u001b[0m\n\u001b[1;32m     12\u001b[0m     \u001b[38;5;28mprint\u001b[39m(\u001b[38;5;124mf\u001b[39m\u001b[38;5;124m\"\u001b[39m\u001b[38;5;132;01m{\u001b[39;00mvariable\u001b[38;5;132;01m:\u001b[39;00m\u001b[38;5;124m<20\u001b[39m\u001b[38;5;132;01m}\u001b[39;00m\u001b[38;5;124m \u001b[39m\u001b[38;5;132;01m{\u001b[39;00munits\u001b[38;5;132;01m}\u001b[39;00m\u001b[38;5;124m\"\u001b[39m)\n\u001b[1;32m     14\u001b[0m \u001b[38;5;66;03m# Import coral data\u001b[39;00m\n\u001b[0;32m---> 15\u001b[0m coral_data \u001b[38;5;241m=\u001b[39m \u001b[43mgpd\u001b[49m\u001b[38;5;241;43m.\u001b[39;49m\u001b[43mread_file\u001b[49m\u001b[43m(\u001b[49m\u001b[38;5;124;43m'\u001b[39;49m\u001b[38;5;124;43m./processed_data/coral_data_trondelag_processed.parquet\u001b[39;49m\u001b[38;5;124;43m'\u001b[39;49m\u001b[43m)\u001b[49m\n",
      "File \u001b[0;32m~/.conda/envs/SINMOD/lib/python3.12/site-packages/geopandas/io/file.py:294\u001b[0m, in \u001b[0;36m_read_file\u001b[0;34m(filename, bbox, mask, columns, rows, engine, **kwargs)\u001b[0m\n\u001b[1;32m    291\u001b[0m             from_bytes \u001b[38;5;241m=\u001b[39m \u001b[38;5;28;01mTrue\u001b[39;00m\n\u001b[1;32m    293\u001b[0m \u001b[38;5;28;01mif\u001b[39;00m engine \u001b[38;5;241m==\u001b[39m \u001b[38;5;124m\"\u001b[39m\u001b[38;5;124mpyogrio\u001b[39m\u001b[38;5;124m\"\u001b[39m:\n\u001b[0;32m--> 294\u001b[0m     \u001b[38;5;28;01mreturn\u001b[39;00m \u001b[43m_read_file_pyogrio\u001b[49m\u001b[43m(\u001b[49m\n\u001b[1;32m    295\u001b[0m \u001b[43m        \u001b[49m\u001b[43mfilename\u001b[49m\u001b[43m,\u001b[49m\u001b[43m \u001b[49m\u001b[43mbbox\u001b[49m\u001b[38;5;241;43m=\u001b[39;49m\u001b[43mbbox\u001b[49m\u001b[43m,\u001b[49m\u001b[43m \u001b[49m\u001b[43mmask\u001b[49m\u001b[38;5;241;43m=\u001b[39;49m\u001b[43mmask\u001b[49m\u001b[43m,\u001b[49m\u001b[43m \u001b[49m\u001b[43mcolumns\u001b[49m\u001b[38;5;241;43m=\u001b[39;49m\u001b[43mcolumns\u001b[49m\u001b[43m,\u001b[49m\u001b[43m \u001b[49m\u001b[43mrows\u001b[49m\u001b[38;5;241;43m=\u001b[39;49m\u001b[43mrows\u001b[49m\u001b[43m,\u001b[49m\u001b[43m \u001b[49m\u001b[38;5;241;43m*\u001b[39;49m\u001b[38;5;241;43m*\u001b[39;49m\u001b[43mkwargs\u001b[49m\n\u001b[1;32m    296\u001b[0m \u001b[43m    \u001b[49m\u001b[43m)\u001b[49m\n\u001b[1;32m    298\u001b[0m \u001b[38;5;28;01melif\u001b[39;00m engine \u001b[38;5;241m==\u001b[39m \u001b[38;5;124m\"\u001b[39m\u001b[38;5;124mfiona\u001b[39m\u001b[38;5;124m\"\u001b[39m:\n\u001b[1;32m    299\u001b[0m     \u001b[38;5;28;01mif\u001b[39;00m pd\u001b[38;5;241m.\u001b[39mapi\u001b[38;5;241m.\u001b[39mtypes\u001b[38;5;241m.\u001b[39mis_file_like(filename):\n",
      "File \u001b[0;32m~/.conda/envs/SINMOD/lib/python3.12/site-packages/geopandas/io/file.py:547\u001b[0m, in \u001b[0;36m_read_file_pyogrio\u001b[0;34m(path_or_bytes, bbox, mask, rows, **kwargs)\u001b[0m\n\u001b[1;32m    538\u001b[0m     warnings\u001b[38;5;241m.\u001b[39mwarn(\n\u001b[1;32m    539\u001b[0m         \u001b[38;5;124m\"\u001b[39m\u001b[38;5;124mThe \u001b[39m\u001b[38;5;124m'\u001b[39m\u001b[38;5;124minclude_fields\u001b[39m\u001b[38;5;124m'\u001b[39m\u001b[38;5;124m and \u001b[39m\u001b[38;5;124m'\u001b[39m\u001b[38;5;124mignore_fields\u001b[39m\u001b[38;5;124m'\u001b[39m\u001b[38;5;124m keywords are deprecated, and \u001b[39m\u001b[38;5;124m\"\u001b[39m\n\u001b[1;32m    540\u001b[0m         \u001b[38;5;124m\"\u001b[39m\u001b[38;5;124mwill be removed in a future release. You can use the \u001b[39m\u001b[38;5;124m'\u001b[39m\u001b[38;5;124mcolumns\u001b[39m\u001b[38;5;124m'\u001b[39m\u001b[38;5;124m keyword \u001b[39m\u001b[38;5;124m\"\u001b[39m\n\u001b[0;32m   (...)\u001b[0m\n\u001b[1;32m    543\u001b[0m         stacklevel\u001b[38;5;241m=\u001b[39m\u001b[38;5;241m3\u001b[39m,\n\u001b[1;32m    544\u001b[0m     )\n\u001b[1;32m    545\u001b[0m     kwargs[\u001b[38;5;124m\"\u001b[39m\u001b[38;5;124mcolumns\u001b[39m\u001b[38;5;124m\"\u001b[39m] \u001b[38;5;241m=\u001b[39m kwargs\u001b[38;5;241m.\u001b[39mpop(\u001b[38;5;124m\"\u001b[39m\u001b[38;5;124minclude_fields\u001b[39m\u001b[38;5;124m\"\u001b[39m)\n\u001b[0;32m--> 547\u001b[0m \u001b[38;5;28;01mreturn\u001b[39;00m \u001b[43mpyogrio\u001b[49m\u001b[38;5;241;43m.\u001b[39;49m\u001b[43mread_dataframe\u001b[49m\u001b[43m(\u001b[49m\u001b[43mpath_or_bytes\u001b[49m\u001b[43m,\u001b[49m\u001b[43m \u001b[49m\u001b[43mbbox\u001b[49m\u001b[38;5;241;43m=\u001b[39;49m\u001b[43mbbox\u001b[49m\u001b[43m,\u001b[49m\u001b[43m \u001b[49m\u001b[38;5;241;43m*\u001b[39;49m\u001b[38;5;241;43m*\u001b[39;49m\u001b[43mkwargs\u001b[49m\u001b[43m)\u001b[49m\n",
      "File \u001b[0;32m~/.conda/envs/SINMOD/lib/python3.12/site-packages/pyogrio/geopandas.py:261\u001b[0m, in \u001b[0;36mread_dataframe\u001b[0;34m(path_or_buffer, layer, encoding, columns, read_geometry, force_2d, skip_features, max_features, where, bbox, mask, fids, sql, sql_dialect, fid_as_index, use_arrow, on_invalid, arrow_to_pandas_kwargs, **kwargs)\u001b[0m\n\u001b[1;32m    256\u001b[0m \u001b[38;5;28;01mif\u001b[39;00m \u001b[38;5;129;01mnot\u001b[39;00m use_arrow:\n\u001b[1;32m    257\u001b[0m     \u001b[38;5;66;03m# For arrow, datetimes are read as is.\u001b[39;00m\n\u001b[1;32m    258\u001b[0m     \u001b[38;5;66;03m# For numpy IO, datetimes are read as string values to preserve timezone info\u001b[39;00m\n\u001b[1;32m    259\u001b[0m     \u001b[38;5;66;03m# as numpy does not directly support timezones.\u001b[39;00m\n\u001b[1;32m    260\u001b[0m     kwargs[\u001b[38;5;124m\"\u001b[39m\u001b[38;5;124mdatetime_as_string\u001b[39m\u001b[38;5;124m\"\u001b[39m] \u001b[38;5;241m=\u001b[39m \u001b[38;5;28;01mTrue\u001b[39;00m\n\u001b[0;32m--> 261\u001b[0m result \u001b[38;5;241m=\u001b[39m \u001b[43mread_func\u001b[49m\u001b[43m(\u001b[49m\n\u001b[1;32m    262\u001b[0m \u001b[43m    \u001b[49m\u001b[43mpath_or_buffer\u001b[49m\u001b[43m,\u001b[49m\n\u001b[1;32m    263\u001b[0m \u001b[43m    \u001b[49m\u001b[43mlayer\u001b[49m\u001b[38;5;241;43m=\u001b[39;49m\u001b[43mlayer\u001b[49m\u001b[43m,\u001b[49m\n\u001b[1;32m    264\u001b[0m \u001b[43m    \u001b[49m\u001b[43mencoding\u001b[49m\u001b[38;5;241;43m=\u001b[39;49m\u001b[43mencoding\u001b[49m\u001b[43m,\u001b[49m\n\u001b[1;32m    265\u001b[0m \u001b[43m    \u001b[49m\u001b[43mcolumns\u001b[49m\u001b[38;5;241;43m=\u001b[39;49m\u001b[43mcolumns\u001b[49m\u001b[43m,\u001b[49m\n\u001b[1;32m    266\u001b[0m \u001b[43m    \u001b[49m\u001b[43mread_geometry\u001b[49m\u001b[38;5;241;43m=\u001b[39;49m\u001b[43mread_geometry\u001b[49m\u001b[43m,\u001b[49m\n\u001b[1;32m    267\u001b[0m \u001b[43m    \u001b[49m\u001b[43mforce_2d\u001b[49m\u001b[38;5;241;43m=\u001b[39;49m\u001b[43mgdal_force_2d\u001b[49m\u001b[43m,\u001b[49m\n\u001b[1;32m    268\u001b[0m \u001b[43m    \u001b[49m\u001b[43mskip_features\u001b[49m\u001b[38;5;241;43m=\u001b[39;49m\u001b[43mskip_features\u001b[49m\u001b[43m,\u001b[49m\n\u001b[1;32m    269\u001b[0m \u001b[43m    \u001b[49m\u001b[43mmax_features\u001b[49m\u001b[38;5;241;43m=\u001b[39;49m\u001b[43mmax_features\u001b[49m\u001b[43m,\u001b[49m\n\u001b[1;32m    270\u001b[0m \u001b[43m    \u001b[49m\u001b[43mwhere\u001b[49m\u001b[38;5;241;43m=\u001b[39;49m\u001b[43mwhere\u001b[49m\u001b[43m,\u001b[49m\n\u001b[1;32m    271\u001b[0m \u001b[43m    \u001b[49m\u001b[43mbbox\u001b[49m\u001b[38;5;241;43m=\u001b[39;49m\u001b[43mbbox\u001b[49m\u001b[43m,\u001b[49m\n\u001b[1;32m    272\u001b[0m \u001b[43m    \u001b[49m\u001b[43mmask\u001b[49m\u001b[38;5;241;43m=\u001b[39;49m\u001b[43mmask\u001b[49m\u001b[43m,\u001b[49m\n\u001b[1;32m    273\u001b[0m \u001b[43m    \u001b[49m\u001b[43mfids\u001b[49m\u001b[38;5;241;43m=\u001b[39;49m\u001b[43mfids\u001b[49m\u001b[43m,\u001b[49m\n\u001b[1;32m    274\u001b[0m \u001b[43m    \u001b[49m\u001b[43msql\u001b[49m\u001b[38;5;241;43m=\u001b[39;49m\u001b[43msql\u001b[49m\u001b[43m,\u001b[49m\n\u001b[1;32m    275\u001b[0m \u001b[43m    \u001b[49m\u001b[43msql_dialect\u001b[49m\u001b[38;5;241;43m=\u001b[39;49m\u001b[43msql_dialect\u001b[49m\u001b[43m,\u001b[49m\n\u001b[1;32m    276\u001b[0m \u001b[43m    \u001b[49m\u001b[43mreturn_fids\u001b[49m\u001b[38;5;241;43m=\u001b[39;49m\u001b[43mfid_as_index\u001b[49m\u001b[43m,\u001b[49m\n\u001b[1;32m    277\u001b[0m \u001b[43m    \u001b[49m\u001b[38;5;241;43m*\u001b[39;49m\u001b[38;5;241;43m*\u001b[39;49m\u001b[43mkwargs\u001b[49m\u001b[43m,\u001b[49m\n\u001b[1;32m    278\u001b[0m \u001b[43m\u001b[49m\u001b[43m)\u001b[49m\n\u001b[1;32m    280\u001b[0m \u001b[38;5;28;01mif\u001b[39;00m use_arrow:\n\u001b[1;32m    281\u001b[0m     meta, table \u001b[38;5;241m=\u001b[39m result\n",
      "File \u001b[0;32m~/.conda/envs/SINMOD/lib/python3.12/site-packages/pyogrio/raw.py:196\u001b[0m, in \u001b[0;36mread\u001b[0;34m(path_or_buffer, layer, encoding, columns, read_geometry, force_2d, skip_features, max_features, where, bbox, mask, fids, sql, sql_dialect, return_fids, datetime_as_string, **kwargs)\u001b[0m\n\u001b[1;32m     56\u001b[0m \u001b[38;5;250m\u001b[39m\u001b[38;5;124;03m\"\"\"Read OGR data source into numpy arrays.\u001b[39;00m\n\u001b[1;32m     57\u001b[0m \n\u001b[1;32m     58\u001b[0m \u001b[38;5;124;03mIMPORTANT: non-linear geometry types (e.g., MultiSurface) are converted\u001b[39;00m\n\u001b[0;32m   (...)\u001b[0m\n\u001b[1;32m    191\u001b[0m \n\u001b[1;32m    192\u001b[0m \u001b[38;5;124;03m\"\"\"\u001b[39;00m\n\u001b[1;32m    194\u001b[0m dataset_kwargs \u001b[38;5;241m=\u001b[39m _preprocess_options_key_value(kwargs) \u001b[38;5;28;01mif\u001b[39;00m kwargs \u001b[38;5;28;01melse\u001b[39;00m {}\n\u001b[0;32m--> 196\u001b[0m \u001b[38;5;28;01mreturn\u001b[39;00m \u001b[43mogr_read\u001b[49m\u001b[43m(\u001b[49m\n\u001b[1;32m    197\u001b[0m \u001b[43m    \u001b[49m\u001b[43mget_vsi_path_or_buffer\u001b[49m\u001b[43m(\u001b[49m\u001b[43mpath_or_buffer\u001b[49m\u001b[43m)\u001b[49m\u001b[43m,\u001b[49m\n\u001b[1;32m    198\u001b[0m \u001b[43m    \u001b[49m\u001b[43mlayer\u001b[49m\u001b[38;5;241;43m=\u001b[39;49m\u001b[43mlayer\u001b[49m\u001b[43m,\u001b[49m\n\u001b[1;32m    199\u001b[0m \u001b[43m    \u001b[49m\u001b[43mencoding\u001b[49m\u001b[38;5;241;43m=\u001b[39;49m\u001b[43mencoding\u001b[49m\u001b[43m,\u001b[49m\n\u001b[1;32m    200\u001b[0m \u001b[43m    \u001b[49m\u001b[43mcolumns\u001b[49m\u001b[38;5;241;43m=\u001b[39;49m\u001b[43mcolumns\u001b[49m\u001b[43m,\u001b[49m\n\u001b[1;32m    201\u001b[0m \u001b[43m    \u001b[49m\u001b[43mread_geometry\u001b[49m\u001b[38;5;241;43m=\u001b[39;49m\u001b[43mread_geometry\u001b[49m\u001b[43m,\u001b[49m\n\u001b[1;32m    202\u001b[0m \u001b[43m    \u001b[49m\u001b[43mforce_2d\u001b[49m\u001b[38;5;241;43m=\u001b[39;49m\u001b[43mforce_2d\u001b[49m\u001b[43m,\u001b[49m\n\u001b[1;32m    203\u001b[0m \u001b[43m    \u001b[49m\u001b[43mskip_features\u001b[49m\u001b[38;5;241;43m=\u001b[39;49m\u001b[43mskip_features\u001b[49m\u001b[43m,\u001b[49m\n\u001b[1;32m    204\u001b[0m \u001b[43m    \u001b[49m\u001b[43mmax_features\u001b[49m\u001b[38;5;241;43m=\u001b[39;49m\u001b[43mmax_features\u001b[49m\u001b[43m \u001b[49m\u001b[38;5;129;43;01mor\u001b[39;49;00m\u001b[43m \u001b[49m\u001b[38;5;241;43m0\u001b[39;49m\u001b[43m,\u001b[49m\n\u001b[1;32m    205\u001b[0m \u001b[43m    \u001b[49m\u001b[43mwhere\u001b[49m\u001b[38;5;241;43m=\u001b[39;49m\u001b[43mwhere\u001b[49m\u001b[43m,\u001b[49m\n\u001b[1;32m    206\u001b[0m \u001b[43m    \u001b[49m\u001b[43mbbox\u001b[49m\u001b[38;5;241;43m=\u001b[39;49m\u001b[43mbbox\u001b[49m\u001b[43m,\u001b[49m\n\u001b[1;32m    207\u001b[0m \u001b[43m    \u001b[49m\u001b[43mmask\u001b[49m\u001b[38;5;241;43m=\u001b[39;49m\u001b[43m_mask_to_wkb\u001b[49m\u001b[43m(\u001b[49m\u001b[43mmask\u001b[49m\u001b[43m)\u001b[49m\u001b[43m,\u001b[49m\n\u001b[1;32m    208\u001b[0m \u001b[43m    \u001b[49m\u001b[43mfids\u001b[49m\u001b[38;5;241;43m=\u001b[39;49m\u001b[43mfids\u001b[49m\u001b[43m,\u001b[49m\n\u001b[1;32m    209\u001b[0m \u001b[43m    \u001b[49m\u001b[43msql\u001b[49m\u001b[38;5;241;43m=\u001b[39;49m\u001b[43msql\u001b[49m\u001b[43m,\u001b[49m\n\u001b[1;32m    210\u001b[0m \u001b[43m    \u001b[49m\u001b[43msql_dialect\u001b[49m\u001b[38;5;241;43m=\u001b[39;49m\u001b[43msql_dialect\u001b[49m\u001b[43m,\u001b[49m\n\u001b[1;32m    211\u001b[0m \u001b[43m    \u001b[49m\u001b[43mreturn_fids\u001b[49m\u001b[38;5;241;43m=\u001b[39;49m\u001b[43mreturn_fids\u001b[49m\u001b[43m,\u001b[49m\n\u001b[1;32m    212\u001b[0m \u001b[43m    \u001b[49m\u001b[43mdataset_kwargs\u001b[49m\u001b[38;5;241;43m=\u001b[39;49m\u001b[43mdataset_kwargs\u001b[49m\u001b[43m,\u001b[49m\n\u001b[1;32m    213\u001b[0m \u001b[43m    \u001b[49m\u001b[43mdatetime_as_string\u001b[49m\u001b[38;5;241;43m=\u001b[39;49m\u001b[43mdatetime_as_string\u001b[49m\u001b[43m,\u001b[49m\n\u001b[1;32m    214\u001b[0m \u001b[43m\u001b[49m\u001b[43m)\u001b[49m\n",
      "File \u001b[0;32m~/.conda/envs/SINMOD/lib/python3.12/site-packages/pyogrio/_io.pyx:1239\u001b[0m, in \u001b[0;36mpyogrio._io.ogr_read\u001b[0;34m()\u001b[0m\n",
      "File \u001b[0;32m~/.conda/envs/SINMOD/lib/python3.12/site-packages/pyogrio/_io.pyx:219\u001b[0m, in \u001b[0;36mpyogrio._io.ogr_open\u001b[0;34m()\u001b[0m\n",
      "\u001b[0;31mDataSourceError\u001b[0m: './processed_data/coral_data_trondelag_processed.parquet' not recognized as being in a supported file format. It could have been recognized by driver Parquet, but plugin ogr_Parquet.so is not available in your installation. You may install it with 'conda install -c conda-forge libgdal-arrow-parquet'"
     ]
    }
   ],
   "source": [
    "from netCDF4 import Dataset\n",
    "\n",
    "# Importing SINMOD data\n",
    "filename_PhysStates = '/cluster/projects/itk-SINMOD/coral-mapping/gin/spinup/run2/PhysStates.nc'\n",
    "\n",
    "PhysStates_data = Dataset(filename_PhysStates, 'r')\n",
    "\n",
    "# Looking at our list of available variables\n",
    "variables_list = list(PhysStates_data.variables.keys())\n",
    "for variable in variables_list:\n",
    "    units = PhysStates_data.variables[variable].units if 'units' in PhysStates_data.variables[variable].ncattrs() else 'No units'\n",
    "    print(f\"{variable:<20} {units}\")\n",
    "\n",
    "# Import coral data\n",
    "coral_data = gpd.read_file('./processed_data/coral_data_trondelag_processed.parquet')"
   ]
  },
  {
   "cell_type": "code",
   "execution_count": null,
   "metadata": {},
   "outputs": [
    {
     "data": {
      "text/plain": [
       "numpy.ndarray"
      ]
     },
     "execution_count": 19,
     "metadata": {},
     "output_type": "execute_result"
    }
   ],
   "source": [
    "type(coral_data['x'].value)"
   ]
  },
  {
   "cell_type": "code",
   "execution_count": null,
   "metadata": {},
   "outputs": [
    {
     "name": "stdout",
     "output_type": "stream",
     "text": [
      "Depth index for 250m: 16\n",
      "<class 'str'>\n"
     ]
    },
    {
     "ename": "TypeError",
     "evalue": "'<=' not supported between instances of 'int' and 'str'",
     "output_type": "error",
     "traceback": [
      "\u001b[0;31m---------------------------------------------------------------------------\u001b[0m",
      "\u001b[0;31mTypeError\u001b[0m                                 Traceback (most recent call last)",
      "Cell \u001b[0;32mIn[21], line 21\u001b[0m\n\u001b[1;32m     18\u001b[0m \u001b[38;5;28;01mfor\u001b[39;00m x, y \u001b[38;5;129;01min\u001b[39;00m \u001b[38;5;28mzip\u001b[39m(coral_data[\u001b[38;5;124m'\u001b[39m\u001b[38;5;124mx\u001b[39m\u001b[38;5;124m'\u001b[39m]\u001b[38;5;241m.\u001b[39mvalues, coral_data[\u001b[38;5;124m'\u001b[39m\u001b[38;5;124my\u001b[39m\u001b[38;5;124m'\u001b[39m]\u001b[38;5;241m.\u001b[39mvalues):\n\u001b[1;32m     19\u001b[0m     \u001b[38;5;66;03m# Ensure the coordinates are within the grid bounds\u001b[39;00m\n\u001b[1;32m     20\u001b[0m     \u001b[38;5;28mprint\u001b[39m(\u001b[38;5;28mtype\u001b[39m(x))\n\u001b[0;32m---> 21\u001b[0m     \u001b[38;5;28;01mif\u001b[39;00m \u001b[38;5;241;43m0\u001b[39;49m\u001b[43m \u001b[49m\u001b[38;5;241;43m<\u001b[39;49m\u001b[38;5;241;43m=\u001b[39;49m\u001b[43m \u001b[49m\u001b[43mx\u001b[49m\u001b[43m \u001b[49m\u001b[38;5;241;43m<\u001b[39;49m\u001b[43m \u001b[49m\u001b[43mtemperature\u001b[49m\u001b[38;5;241;43m.\u001b[39;49m\u001b[43mshape\u001b[49m\u001b[43m[\u001b[49m\u001b[38;5;241;43m2\u001b[39;49m\u001b[43m]\u001b[49m \u001b[38;5;129;01mand\u001b[39;00m \u001b[38;5;241m0\u001b[39m \u001b[38;5;241m<\u001b[39m\u001b[38;5;241m=\u001b[39m y \u001b[38;5;241m<\u001b[39m temperature\u001b[38;5;241m.\u001b[39mshape[\u001b[38;5;241m1\u001b[39m]:\n\u001b[1;32m     22\u001b[0m         temp_value \u001b[38;5;241m=\u001b[39m temperature[\u001b[38;5;241m0\u001b[39m, \u001b[38;5;28mint\u001b[39m(x), \u001b[38;5;28mint\u001b[39m(y)]\n\u001b[1;32m     23\u001b[0m         \u001b[38;5;28;01mif\u001b[39;00m \u001b[38;5;129;01mnot\u001b[39;00m np\u001b[38;5;241m.\u001b[39mma\u001b[38;5;241m.\u001b[39mis_masked(temp_value):\n",
      "\u001b[0;31mTypeError\u001b[0m: '<=' not supported between instances of 'int' and 'str'"
     ]
    }
   ],
   "source": [
    "import numpy as np\n",
    "import matplotlib.pyplot as plt\n",
    "\n",
    "# Extracting temperature\n",
    "temperature_var = PhysStates_data.variables['temperature']\n",
    "zc = PhysStates_data.variables['LayerDepths'][:]\n",
    "\n",
    "# Find the index of the depth closest to 250m\n",
    "depth_index = np.abs(zc - 250).argmin()\n",
    "print(f\"Depth index for 250m: {depth_index}\")\n",
    "\n",
    "# Using the first 150 time steps, depth index and all x, y coordinates\n",
    "temperature = temperature_var[:150, depth_index, :, :]\n",
    "\n",
    "# Check alignment of coral_x and coral_y with temperature matrix\n",
    "valid_coordinates = []\n",
    "\n",
    "for x, y in zip(coral_data['x'].values, coral_data['y'].values):\n",
    "    # Ensure the coordinates are within the grid bounds\n",
    "    print(type(x))\n",
    "    if 0 <= x < temperature.shape[2] and 0 <= y < temperature.shape[1]:\n",
    "        temp_value = temperature[0, int(x), int(y)]\n",
    "        if not np.ma.is_masked(temp_value):\n",
    "            valid_coordinates.append((int(x), int(y)))\n",
    "\n",
    "# Print the number of valid coordinates\n",
    "print(f\"Number of valid coordinates: {len(valid_coordinates)}\")\n",
    "print(f\"Total number of coral coordinates: {len(coral_data['x'])}\")\n",
    "\n",
    "# Print some valid coordinates for verification\n",
    "print(\"Some valid coordinates (x, y):\", valid_coordinates[:10])"
   ]
  },
  {
   "cell_type": "code",
   "execution_count": null,
   "metadata": {},
   "outputs": [
    {
     "ename": "NameError",
     "evalue": "name 'PhysStates_data' is not defined",
     "output_type": "error",
     "traceback": [
      "\u001b[0;31m---------------------------------------------------------------------------\u001b[0m",
      "\u001b[0;31mNameError\u001b[0m                                 Traceback (most recent call last)",
      "Cell \u001b[0;32mIn[1], line 6\u001b[0m\n\u001b[1;32m      3\u001b[0m \u001b[38;5;28;01mimport\u001b[39;00m \u001b[38;5;21;01mmatplotlib\u001b[39;00m\u001b[38;5;21;01m.\u001b[39;00m\u001b[38;5;21;01mpyplot\u001b[39;00m \u001b[38;5;28;01mas\u001b[39;00m \u001b[38;5;21;01mplt\u001b[39;00m\n\u001b[1;32m      5\u001b[0m \u001b[38;5;66;03m# Extracting u and v velocity components at t = 0 and depth closest to 250m\u001b[39;00m\n\u001b[0;32m----> 6\u001b[0m temperature_var \u001b[38;5;241m=\u001b[39m \u001b[43mPhysStates_data\u001b[49m\u001b[38;5;241m.\u001b[39mvariables[\u001b[38;5;124m'\u001b[39m\u001b[38;5;124mtemperature\u001b[39m\u001b[38;5;124m'\u001b[39m]\n\u001b[1;32m      8\u001b[0m \u001b[38;5;66;03m# Find the index of the depth closest to 250m\u001b[39;00m\n\u001b[1;32m      9\u001b[0m depth_index \u001b[38;5;241m=\u001b[39m np\u001b[38;5;241m.\u001b[39mabs(zc \u001b[38;5;241m-\u001b[39m \u001b[38;5;241m250\u001b[39m)\u001b[38;5;241m.\u001b[39margmin()\n",
      "\u001b[0;31mNameError\u001b[0m: name 'PhysStates_data' is not defined"
     ]
    }
   ],
   "source": [
    "# Now plot histogram of temperature values at coral data points\n",
    "\n",
    "# Extract temperature at coral data points\n",
    "coral_temperatures = []\n",
    "for time in range(temperature.shape[0]):\n",
    "    for x, y in zip(coral_data['x'], coral_data['y']):\n",
    "        # Ensure the coordinates are within the grid bounds\n",
    "        if 0 <= x < temperature.shape[2] and 0 <= y < temperature.shape[1]:\n",
    "            temp_value = temperature[time, int(x), int(y)]\n",
    "            if not np.ma.is_masked(temp_value):\n",
    "                coral_temperatures.append(temp_value)\n",
    "\n",
    "# Convert list to numpy array for easier manipulation\n",
    "coral_temperatures = np.array(coral_temperatures)\n",
    "\n",
    "# Flatten the array to combine all time steps\n",
    "coral_temperatures_flat = coral_temperatures.flatten()\n",
    "\n",
    "# Plot histogram of the combined temperature values\n",
    "plt.hist(coral_temperatures_flat, bins=20, edgecolor='black')\n",
    "plt.xlabel('Temperature (°C)')\n",
    "plt.ylabel('Frequency')\n",
    "plt.title('Histogram of Temperatures at Coral Data Points (Combined Time Steps)')\n",
    "plt.show()"
   ]
  },
  {
   "cell_type": "code",
   "execution_count": null,
   "metadata": {},
   "outputs": [],
   "source": [
    "# Plotting randomly sampled points to compare the distributions\n",
    "# We could also plot ALL the points to get the exact distribution\n",
    "# Could be worth testing plotting more points \n",
    "\n",
    "# Randomly sample the same number of points as the coral data at each time point\n",
    "num_coral_points = len(coral_data['x'])\n",
    "random_temperatures = []\n",
    "\n",
    "# Get the valid (non-masked) indices\n",
    "valid_indices = np.argwhere(~temperature.mask[0, :, :])\n",
    "\n",
    "for time in range(temperature.shape[0]):\n",
    "    # Randomly select indices from the valid indices\n",
    "    selected_indices = valid_indices[np.random.choice(valid_indices.shape[0], num_coral_points, replace=False)]\n",
    "    \n",
    "    for y_idx, x_idx in selected_indices:\n",
    "        temp_value = temperature[time, y_idx, x_idx]\n",
    "        random_temperatures.append(temp_value)\n",
    "\n",
    "# Convert list to numpy array for easier manipulation\n",
    "random_temperatures = np.array(random_temperatures)\n",
    "\n",
    "# Flatten the array to combine all time steps\n",
    "random_temperatures_flat = random_temperatures.flatten()\n",
    "\n",
    "# Plot histogram of the combined random temperature values\n",
    "plt.hist(random_temperatures_flat, bins=20, edgecolor='black')\n",
    "plt.xlabel('Temperature (°C)')\n",
    "plt.ylabel('Frequency')\n",
    "plt.title('Histogram of Randomly Sampled Temperatures (Combined Time Steps)')\n",
    "plt.show()"
   ]
  },
  {
   "cell_type": "code",
   "execution_count": null,
   "metadata": {},
   "outputs": [],
   "source": [
    "# Extracting u and v velocity components at t = 0 and depth closest to 250m\n",
    "u_velocity_var = PhysStates_data.variables['u_velocity']\n",
    "v_velocity_var = PhysStates_data.variables['v_velocity']\n",
    "\n",
    "# Using the first 150 time steps\n",
    "u_velocity = u_velocity_var[:150, depth_index, :, :]\n",
    "v_velocity = v_velocity_var[:150, depth_index, :, :]\n",
    "\n",
    "# Calculate the magnitude of the current speed\n",
    "current_speed = np.sqrt(u_velocity**2 + v_velocity**2)\n",
    "\n",
    "# Extract current speed at coral data points\n",
    "coral_current_speeds = []\n",
    "for time in range(current_speed.shape[0]):\n",
    "    for x, y in zip(coral_data['x'], coral_data['y']):\n",
    "        # Ensure the coordinates are within the grid bounds\n",
    "        if 0 <= x < current_speed.shape[2] and 0 <= y < current_speed.shape[1]:\n",
    "            speed_value = current_speed[time, int(x), int(y)]\n",
    "            if not np.ma.is_masked(speed_value):\n",
    "                coral_current_speeds.append(speed_value)\n",
    "\n",
    "# Convert list to numpy array for easier manipulation\n",
    "coral_current_speeds = np.array(coral_current_speeds)\n",
    "\n",
    "# Flatten the array to combine all time steps\n",
    "coral_current_speeds_flat = coral_current_speeds.flatten()\n",
    "\n",
    "# Plot histogram of the combined current speed values\n",
    "plt.hist(coral_current_speeds_flat, bins=20, edgecolor='black')\n",
    "plt.xlabel('Current Speed (m/s)')\n",
    "plt.ylabel('Frequency')\n",
    "plt.title('Histogram of Current Speeds at Coral Data Points (Combined Time Steps)')\n",
    "plt.show()"
   ]
  },
  {
   "cell_type": "code",
   "execution_count": null,
   "metadata": {},
   "outputs": [],
   "source": [
    "# Randomly sample the same number of points as the coral data at each time point\n",
    "random_current_speeds = []\n",
    "\n",
    "# Get the valid (non-masked) indices\n",
    "valid_indices = np.argwhere(~current_speed.mask[0, :, :])\n",
    "\n",
    "for time in range(current_speed.shape[0]):\n",
    "    # Randomly select indices from the valid indices\n",
    "    selected_indices = valid_indices[np.random.choice(valid_indices.shape[0], num_coral_points, replace=False)]\n",
    "    \n",
    "    for y_idx, x_idx in selected_indices:\n",
    "        speed_value = current_speed[time, y_idx, x_idx]\n",
    "        random_current_speeds.append(speed_value)\n",
    "\n",
    "# Convert list to numpy array for easier manipulation\n",
    "random_current_speeds = np.array(random_current_speeds)\n",
    "\n",
    "# Flatten the array to combine all time steps\n",
    "random_current_speeds_flat = random_current_speeds.flatten()\n",
    "\n",
    "# Plot histogram of the combined random current speed values\n",
    "plt.hist(random_current_speeds_flat, bins=20, edgecolor='black')\n",
    "plt.xlabel('Current Speed (m/s)')\n",
    "plt.ylabel('Frequency')\n",
    "plt.title('Histogram of Randomly Sampled Current Speeds (Combined Time Steps)')\n",
    "plt.show()\n",
    "\n",
    "# Print the total number of data points on each histogram\n",
    "print(f\"Total data points in coral current speeds histogram: {len(coral_current_speeds_flat)}\")\n",
    "print(f\"Total data points in random current speeds histogram: {len(random_current_speeds_flat)}\")"
   ]
  }
 ],
 "metadata": {
  "kernelspec": {
   "display_name": "SINMOD",
   "language": "python",
   "name": "python3"
  },
  "language_info": {
   "codemirror_mode": {
    "name": "ipython",
    "version": 3
   },
   "file_extension": ".py",
   "mimetype": "text/x-python",
   "name": "python",
   "nbconvert_exporter": "python",
   "pygments_lexer": "ipython3",
   "version": "3.12.5"
  }
 },
 "nbformat": 4,
 "nbformat_minor": 2
}
