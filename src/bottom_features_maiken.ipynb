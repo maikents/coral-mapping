{
 "cells": [
  {
   "cell_type": "code",
   "execution_count": 4,
   "id": "f3b4baa8-ce1a-4c3e-818a-4887acbf5925",
   "metadata": {},
   "outputs": [
    {
     "name": "stdout",
     "output_type": "stream",
     "text": [
      "\n",
      "Accessed the dataset after 4.76 seconds\n",
      "<xarray.DataArray 'u_velocity' (time: 365, yc: 555, xc: 950)> Size: 770MB\n",
      "[192446250 values with dtype=float32]\n",
      "Coordinates:\n",
      "  * xc       (xc) float32 4kB 800.0 1.6e+03 2.4e+03 ... 7.592e+05 7.6e+05\n",
      "  * yc       (yc) float32 2kB 800.0 1.6e+03 2.4e+03 ... 4.432e+05 4.44e+05\n",
      "    zc       (yc, xc) float32 2MB 3.0 3.0 3.0 3.0 ... 2e+03 2e+03 2e+03 2e+03\n",
      "Dimensions without coordinates: time\n",
      "Attributes:\n",
      "    units:         m/s\n",
      "    cell_methods:  time: mean\n",
      "halloo\n",
      "\n",
      "Extracted the bottom layer data after 544.87 seconds.\n",
      "\n",
      "Starting computation of statistics...\n",
      "/cluster/home/maikents/PyEnvCoralMapping/lib/python3.12/site-packages/numpy/lib/_nanfunctions_impl.py:1650: RuntimeWarning: All-NaN slice encountered\n",
      "  return fnb._ureduce(a,\n",
      "\n",
      "Computed statistics after 569.03 seconds\n"
     ]
    }
   ],
   "source": [
    "!python create-SINMOD-bottom-features.py"
   ]
  },
  {
   "cell_type": "code",
   "execution_count": null,
   "id": "f0a4e6ac-4a49-4491-8e03-1a292132fe50",
   "metadata": {},
   "outputs": [],
   "source": []
  },
  {
   "cell_type": "code",
   "execution_count": null,
   "id": "fba0d82d-7861-470b-8ba5-e069eba8170f",
   "metadata": {},
   "outputs": [],
   "source": []
  }
 ],
 "metadata": {
  "kernelspec": {
   "display_name": "Python 3 (ipykernel)",
   "language": "python",
   "name": "python3"
  },
  "language_info": {
   "codemirror_mode": {
    "name": "ipython",
    "version": 3
   },
   "file_extension": ".py",
   "mimetype": "text/x-python",
   "name": "python",
   "nbconvert_exporter": "python",
   "pygments_lexer": "ipython3",
   "version": "3.12.3"
  }
 },
 "nbformat": 4,
 "nbformat_minor": 5
}
