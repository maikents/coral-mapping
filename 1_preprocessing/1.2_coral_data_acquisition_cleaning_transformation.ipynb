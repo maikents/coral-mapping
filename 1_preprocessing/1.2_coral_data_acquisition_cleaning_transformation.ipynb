{
 "cells": [
  {
   "cell_type": "code",
   "execution_count": 1,
   "id": "40e6513c-3e02-4323-a07c-64915a9481c0",
   "metadata": {},
   "outputs": [],
   "source": [
    "import geopandas as gpd\n",
    "import pandas as pd\n",
    "import numpy as np\n",
    "import matplotlib.pyplot as plt\n",
    "from pyproj import CRS, Transformer\n",
    "import os\n",
    "import matplotlib.colors as mcolors\n",
    "import xarray as xr\n",
    "import netCDF4 as nc\n",
    "from netCDF4 import Dataset"
   ]
  },
  {
   "cell_type": "code",
   "execution_count": 40,
   "id": "84a1da94-bb2f-4e68-afe8-d52d6f9316af",
   "metadata": {},
   "outputs": [],
   "source": [
    "#ACQUISITION\n",
    "\n",
    "#All coral data files are from MAREANO\n",
    "gml_file_coral_reefs_trondelag = \"/cluster/home/maikents/coral-mapping/raw_data/KystOgFiskeri_50_Trondelag_25832_Korallrev_GML.gml\"\n",
    "gdf_coral_reefs_trondelag = gpd.read_file(gml_file_coral_reefs_trondelag)\n",
    "\n",
    "gml_file_coral_reefs_more_og_romsdal = \"/cluster/home/maikents/coral-mapping/raw_data/KystOgFiskeri_15_More_og_Romsdal_25832_Korallrev_GML.gml\"\n",
    "gdf_coral_reefs_more_og_roms = gpd.read_file(gml_file_coral_reefs_more_og_romsdal)\n",
    "\n",
    "gml_file_coral_reefs_nordland = \"/cluster/home/maikents/coral-mapping/raw_data/KystOgFiskeri_18_Nordland_25833_Korallrev_GML.gml\"\n",
    "gdf_coral_reefs_nordland = gpd.read_file(gml_file_coral_reefs_nordland)\n",
    "\n",
    "gml_file_coral_reefs_vestland = \"/cluster/home/maikents/coral-mapping/raw_data/KystOgFiskeri_46_Vestland_25832_Korallrev_GML.gml\"\n",
    "gdf_coral_reefs_vestland = gpd.read_file(gml_file_coral_reefs_vestland)\n",
    "\n",
    "gml_file_coral_reefs_troms = \"/cluster/home/maikents/coral-mapping/raw_data/KystOgFiskeri_55_Troms_25833_Korallrev_GML.gml\"\n",
    "gdf_coral_reefs_troms = gpd.read_file(gml_file_coral_reefs_troms)\n",
    "\n",
    "gml_file_coral_reefs_finnmark = \"/cluster/home/maikents/coral-mapping/raw_data/KystOgFiskeri_56_Finnmark_25833_Korallrev_GML.gml\"\n",
    "gdf_coral_reefs_finnmark = gpd.read_file(gml_file_coral_reefs_finnmark)\n",
    "\n",
    "gml_file_coral_reefs_norskehavet = \"/cluster/home/maikents/coral-mapping/raw_data/KystOgFiskeri_63_Norskehavet_25832_Korallrev_GML.gml\"\n",
    "gdf_coral_reefs_norskehavet = gpd.read_file(gml_file_coral_reefs_norskehavet)\n",
    "\n",
    "gml_file_coral_reefs_barentshavet = \"/cluster/home/maikents/coral-mapping/raw_data/KystOgFiskeri_64_Barentshavet_vest_25833_Korallrev_GML.gml\"\n",
    "gdf_coral_reefs_barentshavet = gpd.read_file(gml_file_coral_reefs_barentshavet)\n",
    "\n",
    "\n",
    "#Define file paths to merge\n",
    "gml_files = {\n",
    "    \"Trondelag\": \"/cluster/home/maikents/coral-mapping/raw_data/KystOgFiskeri_50_Trondelag_25832_Korallrev_GML.gml\",\n",
    "    \"More_og_Romsdal\": \"/cluster/home/maikents/coral-mapping/raw_data/KystOgFiskeri_15_More_og_Romsdal_25832_Korallrev_GML.gml\",\n",
    "    \"Nordland\": \"/cluster/home/maikents/coral-mapping/raw_data/KystOgFiskeri_18_Nordland_25833_Korallrev_GML.gml\",\n",
    "    \"Vestland\": \"/cluster/home/maikents/coral-mapping/raw_data/KystOgFiskeri_46_Vestland_25832_Korallrev_GML.gml\",\n",
    "    \"Troms\": \"/cluster/home/maikents/coral-mapping/raw_data/KystOgFiskeri_55_Troms_25833_Korallrev_GML.gml\",\n",
    "    \"Finnmark\": \"/cluster/home/maikents/coral-mapping/raw_data/KystOgFiskeri_56_Finnmark_25833_Korallrev_GML.gml\",\n",
    "    \"Norskehavet\": \"/cluster/home/maikents/coral-mapping/raw_data/KystOgFiskeri_63_Norskehavet_25832_Korallrev_GML.gml\",\n",
    "    \"Barentshavet\": \"/cluster/home/maikents/coral-mapping/raw_data/KystOgFiskeri_64_Barentshavet_vest_25833_Korallrev_GML.gml\"\n",
    "}\n",
    "\n",
    "#Read all files into a list of GeoDataFrames\n",
    "gdfs = [gpd.read_file(file).to_crs(\"EPSG:4326\") for file in gml_files.values()]\n",
    "\n",
    "#Combine\n",
    "gdf_all_coral_files = gpd.GeoDataFrame(pd.concat(gdfs, ignore_index=True))\n"
   ]
  },
  {
   "cell_type": "code",
   "execution_count": 41,
   "id": "a37476bc-c331-4008-b76a-2a037fb13d9d",
   "metadata": {},
   "outputs": [],
   "source": [
    "#CLEANING\n",
    "#remove any entries with nan values for longitude or latitude (none of the points used here had this)\n",
    "gdf_all_coral_files = gdf_all_coral_files.dropna(subset=['lengdegrad', 'breddegrad'])"
   ]
  },
  {
   "cell_type": "code",
   "execution_count": 45,
   "id": "17c638bc-bbc3-4d8f-bb58-277d0baa78b5",
   "metadata": {},
   "outputs": [],
   "source": [
    "#Load the original SINMOD data from SINMOD grid\n",
    "\n",
    "filename_SINMOD_original_grid = \"/cluster/projects/itk-SINMOD/coral-mapping/midnor/PhysStates_2019.nc\"\n",
    "\n",
    "sinmod_data = Dataset(filename_SINMOD_original_grid, 'r')\n"
   ]
  },
  {
   "cell_type": "code",
   "execution_count": 43,
   "id": "02d28876-4136-4176-b9b8-a37b1600d823",
   "metadata": {},
   "outputs": [],
   "source": [
    "#Remove coral points outside model area (change limits based on lon/lat range of SINMOD model area)\n",
    "\n",
    "gdf_all_coral_reefs = gdf_all_coral_files[\n",
    "    (gdf_all_coral_files['lengdegrad'] >= -1.9012374877929688) &\n",
    "    (gdf_all_coral_files['lengdegrad'] <= 15.060638427734375) &\n",
    "    (gdf_all_coral_files['breddegrad'] >= 59.99595260620117) &\n",
    "    (gdf_all_coral_files['breddegrad'] <= 67.96094512939453)\n",
    "]\n"
   ]
  },
  {
   "cell_type": "code",
   "execution_count": 47,
   "id": "89c6cb77-9644-41d1-981f-0670e936de34",
   "metadata": {},
   "outputs": [
    {
     "name": "stdout",
     "output_type": "stream",
     "text": [
      "Horizontal resolution: 800.0 meters\n"
     ]
    }
   ],
   "source": [
    "#Transformation of coral coordinates to SINMOD grid coordinates\n",
    "\n",
    "def obtain_sinmod_crs(sinmod_data):\n",
    "    \n",
    "    grid_mapping = sinmod_data.variables['grid_mapping']\n",
    "\n",
    "    horizontal_resolution = grid_mapping.getncattr('horizontal_resolution')\n",
    "\n",
    "    print(f\"Horizontal resolution: {horizontal_resolution} meters\")\n",
    "\n",
    "    crs_sinmod = CRS.from_proj4(f\"+proj=stere \"\n",
    "                                f\"+lat_0={grid_mapping.latitude_of_projection_origin} \"\n",
    "                                f\"+lat_ts={grid_mapping.standard_parallel} \"\n",
    "                                f\"+lon_0={grid_mapping.straight_vertical_longitude_from_pole} \"\n",
    "                                f\"+x_0={grid_mapping.false_easting} \"\n",
    "                                f\"+y_0={grid_mapping.false_northing} \"\n",
    "                                f\"+a={grid_mapping.semi_major_axis} \"\n",
    "                                f\"+b={grid_mapping.semi_minor_axis} \"\n",
    "                                f\"+units=m +no_defs\")\n",
    "    return crs_sinmod\n",
    "\n",
    "\n",
    "crs_sinmod = obtain_sinmod_crs(sinmod_data)"
   ]
  },
  {
   "cell_type": "code",
   "execution_count": 48,
   "id": "a93ed00c-3fdc-4df8-af3b-602d9f8821d4",
   "metadata": {},
   "outputs": [],
   "source": [
    "#Next, transform all coral points to SINMOD grid coordinates\n",
    "\n",
    "def transform_coral_coordinates(coral_data, crs_sinmod):\n",
    "    \n",
    "    #Define the crs for the coral data\n",
    "    crs_wgs84 = CRS.from_epsg(4326)  #WGS84 (lat/lon coordinates)\n",
    "\n",
    "    transformer_wgs84_to_sinmod = Transformer.from_crs(crs_wgs84, crs_sinmod, always_xy=True)\n",
    "\n",
    "    #Transform coral coordinates from WGS84 to SINMOD\n",
    "    coral_x, coral_y = transformer_wgs84_to_sinmod.transform(coral_data['lengdegrad'], coral_data['breddegrad'])\n",
    "\n",
    "    #Save coral_x and coral_y as new columns\n",
    "    coral_data.loc[:, 'x'] = coral_x\n",
    "    coral_data.loc[:, 'y'] = coral_y\n",
    "\n",
    "    return coral_data\n",
    "\n",
    "transformed_coral_data = transform_coral_coordinates(gdf_all_coral_files, crs_sinmod)\n",
    "\n",
    "output_directory = '/cluster/home/maikents/features_midnor_2019/coral_data/'\n",
    "output_file = 'midnor_coral_data_sinmod_grid.parquet'\n",
    "\n",
    "os.makedirs(output_directory, exist_ok=True)\n",
    "\n",
    "\n",
    "#Save the dataframe to a parquet file\n",
    "transformed_coral_data.to_parquet(os.path.join(output_directory, output_file), index=False)\n",
    "\n"
   ]
  },
  {
   "cell_type": "code",
   "execution_count": null,
   "id": "609f5304-9767-457e-90bb-de1d547f9191",
   "metadata": {},
   "outputs": [],
   "source": [
    "#How to load coral data later:\n",
    "#coral_filepath = '/output_directory/output_file'\n",
    "#coral_data = pd.read_parquet(coral_filepath)"
   ]
  },
  {
   "cell_type": "code",
   "execution_count": 25,
   "id": "26b2e932-a324-4ebb-b699-848ba4fcd450",
   "metadata": {},
   "outputs": [],
   "source": [
    "coral_file_sinmod_grid = '/cluster/projects/itk-SINMOD/coral-mapping/data/processed_data/midnor_total_coral_data_processed.parquet'\n",
    "coral_ds_sinmod_grid = pd.read_parquet(coral_file_sinmod_grid)"
   ]
  },
  {
   "cell_type": "code",
   "execution_count": 2,
   "id": "d26807ec-97ce-4975-aeb1-a1bbcc7d5740",
   "metadata": {},
   "outputs": [],
   "source": [
    "coral_file_emod_grid = '/cluster/projects/itk-SINMOD/coral-mapping/data/processed_data/midnor_total_coral_data_filtered_UTM32N.parquet'\n",
    "coral_ds_emod_grid = pd.read_parquet(coral_file_emod_grid)"
   ]
  },
  {
   "cell_type": "code",
   "execution_count": null,
   "id": "a115ad11-c0e7-4d9c-930f-b0afa778a702",
   "metadata": {},
   "outputs": [],
   "source": [
    "#OPTIONAL\n",
    "\n",
    "fig, ax = plt.subplots(figsize=(10, 10))\n",
    "\n",
    "#Plot the reprojected SINMOD data (bottom_temperature, for example)\n",
    "SINMOD_features_reprojected['bottom_temperature_sundahl_features'].isel(stat=0).plot(ax=ax, cmap='viridis', alpha=0.6)\n",
    "\n",
    "#Plot coral locations\n",
    "ax.scatter(coral_ds_emod_grid['x'], coral_ds_emod_grid['y'], color='red', s=10, label='Coral Locations')\n",
    "\n",
    "ax.set_title('Coral Locations on Reprojected SINMOD Temperature Features')\n",
    "plt.xlabel(\"xc (SINMOD grid coordinates)\")\n",
    "plt.ylabel(\"yc (SINMOD grid coordinates)\")\n",
    "plt.legend()\n",
    "plt.show()"
   ]
  },
  {
   "cell_type": "code",
   "execution_count": 2,
   "id": "6c8cbb9a-b2aa-4db1-95b5-c2917f53775d",
   "metadata": {},
   "outputs": [],
   "source": [
    "coral_filepath_emod = '/cluster/home/maikents/features_midnor_2019/coral_data/midnor_coral_data_emod_grid.parquet'\n",
    "coral_data_emod = pd.read_parquet(coral_filepath_emod)"
   ]
  },
  {
   "cell_type": "code",
   "execution_count": 4,
   "id": "d721125e-6034-429a-bec9-f2aff1ef89af",
   "metadata": {},
   "outputs": [
    {
     "name": "stdout",
     "output_type": "stream",
     "text": [
      "<class 'pandas.core.frame.DataFrame'>\n",
      "                 x             y\n",
      "0    541563.035108  7.183257e+06\n",
      "1    574769.093767  7.053834e+06\n",
      "2    448510.482064  7.072666e+06\n",
      "3    518562.649871  7.129859e+06\n",
      "4    475671.223693  7.111198e+06\n",
      "..             ...           ...\n",
      "836  503204.433394  7.472706e+06\n",
      "837  530483.004326  7.455677e+06\n",
      "838  530353.382786  7.455445e+06\n",
      "839  530295.396581  7.455336e+06\n",
      "840  510370.164806  7.466556e+06\n",
      "\n",
      "[841 rows x 2 columns]\n"
     ]
    }
   ],
   "source": [
    "print(type(coral_data_emod))\n",
    "print(coral_data_emod)"
   ]
  },
  {
   "cell_type": "code",
   "execution_count": 5,
   "id": "2ec858a9-b848-41e9-a56b-291902050cdf",
   "metadata": {},
   "outputs": [],
   "source": [
    "coral_data_emod.to_csv('/cluster/home/maikents/sinmod_features_masters/coral_points_for_arcgis.csv', index=False)\n"
   ]
  },
  {
   "cell_type": "code",
   "execution_count": null,
   "id": "f8ebbff2-ae14-431a-bfe8-943e5814e247",
   "metadata": {},
   "outputs": [],
   "source": []
  }
 ],
 "metadata": {
  "kernelspec": {
   "display_name": "Python 3 (ipykernel)",
   "language": "python",
   "name": "python3"
  },
  "language_info": {
   "codemirror_mode": {
    "name": "ipython",
    "version": 3
   },
   "file_extension": ".py",
   "mimetype": "text/x-python",
   "name": "python",
   "nbconvert_exporter": "python",
   "pygments_lexer": "ipython3",
   "version": "3.12.3"
  }
 },
 "nbformat": 4,
 "nbformat_minor": 5
}
