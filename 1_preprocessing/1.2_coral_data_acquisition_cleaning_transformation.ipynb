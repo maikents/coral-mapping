{
 "cells": [
  {
   "cell_type": "code",
   "execution_count": 5,
   "id": "40e6513c-3e02-4323-a07c-64915a9481c0",
   "metadata": {},
   "outputs": [],
   "source": [
    "import geopandas as gpd\n",
    "import pandas as pd\n",
    "import numpy as np\n",
    "import matplotlib.pyplot as plt\n",
    "from pyproj import CRS, Transformer\n",
    "import os\n",
    "import matplotlib.colors as mcolors\n",
    "import xarray as xr"
   ]
  },
  {
   "cell_type": "code",
   "execution_count": 2,
   "id": "84a1da94-bb2f-4e68-afe8-d52d6f9316af",
   "metadata": {},
   "outputs": [],
   "source": [
    "#ACQUISITION\n",
    "\n",
    "#All coral data files are from MAREANO\n",
    "gml_file_coral_reefs_trondelag = \"/cluster/home/maikents/coral-mapping/raw_data/KystOgFiskeri_50_Trondelag_25832_Korallrev_GML.gml\"\n",
    "gdf_coral_reefs_trondelag = gpd.read_file(gml_file_coral_reefs_trondelag)\n",
    "\n",
    "gml_file_coral_reefs_more_og_romsdal = \"/cluster/home/maikents/coral-mapping/raw_data/KystOgFiskeri_15_More_og_Romsdal_25832_Korallrev_GML.gml\"\n",
    "gdf_coral_reefs_more_og_roms = gpd.read_file(gml_file_coral_reefs_more_og_romsdal)\n",
    "\n",
    "gml_file_coral_reefs_nordland = \"/cluster/home/maikents/coral-mapping/raw_data/KystOgFiskeri_18_Nordland_25833_Korallrev_GML.gml\"\n",
    "gdf_coral_reefs_nordland = gpd.read_file(gml_file_coral_reefs_nordland)\n",
    "\n",
    "gml_file_coral_reefs_vestland = \"/cluster/home/maikents/coral-mapping/raw_data/KystOgFiskeri_46_Vestland_25832_Korallrev_GML.gml\"\n",
    "gdf_coral_reefs_vestland = gpd.read_file(gml_file_coral_reefs_vestland)\n",
    "\n",
    "gml_file_coral_reefs_troms = \"/cluster/home/maikents/coral-mapping/raw_data/KystOgFiskeri_55_Troms_25833_Korallrev_GML.gml\"\n",
    "gdf_coral_reefs_troms = gpd.read_file(gml_file_coral_reefs_troms)\n",
    "\n",
    "gml_file_coral_reefs_finnmark = \"/cluster/home/maikents/coral-mapping/raw_data/KystOgFiskeri_56_Finnmark_25833_Korallrev_GML.gml\"\n",
    "gdf_coral_reefs_finnmark = gpd.read_file(gml_file_coral_reefs_finnmark)\n",
    "\n",
    "gml_file_coral_reefs_norskehavet = \"/cluster/home/maikents/coral-mapping/raw_data/KystOgFiskeri_63_Norskehavet_25832_Korallrev_GML.gml\"\n",
    "gdf_coral_reefs_norskehavet = gpd.read_file(gml_file_coral_reefs_norskehavet)\n",
    "\n",
    "gml_file_coral_reefs_barentshavet = \"/cluster/home/maikents/coral-mapping/raw_data/KystOgFiskeri_64_Barentshavet_vest_25833_Korallrev_GML.gml\"\n",
    "gdf_coral_reefs_barentshavet = gpd.read_file(gml_file_coral_reefs_barentshavet)\n",
    "\n",
    "\n",
    "#Define file paths to merge\n",
    "gml_files = {\n",
    "    \"Trondelag\": \"/cluster/home/maikents/coral-mapping/raw_data/KystOgFiskeri_50_Trondelag_25832_Korallrev_GML.gml\",\n",
    "    \"More_og_Romsdal\": \"/cluster/home/maikents/coral-mapping/raw_data/KystOgFiskeri_15_More_og_Romsdal_25832_Korallrev_GML.gml\",\n",
    "    \"Nordland\": \"/cluster/home/maikents/coral-mapping/raw_data/KystOgFiskeri_18_Nordland_25833_Korallrev_GML.gml\",\n",
    "    \"Vestland\": \"/cluster/home/maikents/coral-mapping/raw_data/KystOgFiskeri_46_Vestland_25832_Korallrev_GML.gml\",\n",
    "    \"Troms\": \"/cluster/home/maikents/coral-mapping/raw_data/KystOgFiskeri_55_Troms_25833_Korallrev_GML.gml\",\n",
    "    \"Finnmark\": \"/cluster/home/maikents/coral-mapping/raw_data/KystOgFiskeri_56_Finnmark_25833_Korallrev_GML.gml\",\n",
    "    \"Norskehavet\": \"/cluster/home/maikents/coral-mapping/raw_data/KystOgFiskeri_63_Norskehavet_25832_Korallrev_GML.gml\",\n",
    "    \"Barentshavet\": \"/cluster/home/maikents/coral-mapping/raw_data/KystOgFiskeri_64_Barentshavet_vest_25833_Korallrev_GML.gml\"\n",
    "}\n",
    "\n",
    "#Read all files into a list of GeoDataFrames\n",
    "gdfs = [gpd.read_file(file).to_crs(\"EPSG:4326\") for file in gml_files.values()]\n",
    "\n",
    "#Combine\n",
    "gdf_all_coral_files = gpd.GeoDataFrame(pd.concat(gdfs, ignore_index=True))\n"
   ]
  },
  {
   "cell_type": "code",
   "execution_count": 3,
   "id": "a37476bc-c331-4008-b76a-2a037fb13d9d",
   "metadata": {},
   "outputs": [],
   "source": [
    "#CLEANING\n",
    "#remove any entries with nan values for longitude or latitude (none of the points used here had this)\n",
    "gdf_all_coral_files = gdf_all_coral_files.dropna(subset=['lengdegrad', 'breddegrad'])"
   ]
  },
  {
   "cell_type": "code",
   "execution_count": 6,
   "id": "1fc05b04-8541-410d-bc03-32bb21519a7d",
   "metadata": {},
   "outputs": [],
   "source": [
    "#Load the reprojected and standardized SINMOD dataset\n",
    "SINMOD_features_reprojected = xr.open_dataset('/cluster/home/maikents/features_midnor_2019/ready_for_training/SINMOD_bottom_features_emod_grid_standardized.nc')\n"
   ]
  },
  {
   "cell_type": "code",
   "execution_count": 21,
   "id": "17c638bc-bbc3-4d8f-bb58-277d0baa78b5",
   "metadata": {},
   "outputs": [],
   "source": [
    "#Load the original SINMOD data from SINMOD grid\n",
    "SINMOD_features_original_grid = xr.open_dataset('/cluster/projects/itk-SINMOD/coral-mapping/midnor/PhysStates_2019.nc')"
   ]
  },
  {
   "cell_type": "code",
   "execution_count": 24,
   "id": "a93ed00c-3fdc-4df8-af3b-602d9f8821d4",
   "metadata": {},
   "outputs": [
    {
     "name": "stdout",
     "output_type": "stream",
     "text": [
      "SINMOD crs: +proj=stere +lat_0=90.0 +lat_ts=60.0 +lon_0=58.0 +x_0=2544800.0 +y_0=1918800.0 +a=6370000.0 +b=6370000.0 +units=m +no_defs +type=crs\n"
     ]
    }
   ],
   "source": [
    "#TRANSFORMATION\n",
    "\n",
    "#first we need to obtain the SINMOD crs (coordinate reference system)\n",
    "\n",
    "def obtain_sinmod_crs(sinmod_data):\n",
    "    \n",
    "    grid_mapping = sinmod_data.variables['grid_mapping']\n",
    "    horizontal_resolution = grid_mapping.attrs.get('horizontal_resolution')\n",
    "\n",
    "    crs_sinmod = CRS.from_proj4(f\"+proj=stere \"\n",
    "                                f\"+lat_0={grid_mapping.attrs.get('latitude_of_projection_origin')} \"\n",
    "                                f\"+lat_ts={grid_mapping.attrs.get('standard_parallel')} \"\n",
    "                                f\"+lon_0={grid_mapping.attrs.get('straight_vertical_longitude_from_pole')} \"\n",
    "                                f\"+x_0={grid_mapping.attrs.get('false_easting')} \"\n",
    "                                f\"+y_0={grid_mapping.attrs.get('false_northing')} \"\n",
    "                                f\"+a={grid_mapping.attrs.get('semi_major_axis')} \"\n",
    "                                f\"+b={grid_mapping.attrs.get('semi_minor_axis')} \"\n",
    "                                f\"+units=m +no_defs\")\n",
    "\n",
    "    print(f\"SINMOD crs: {crs_sinmod}\")\n",
    "    return crs_sinmod\n",
    "\n",
    "crs_sinmod = obtain_sinmod_crs(SINMOD_features_original_grid)\n",
    "\n",
    "#Next, transform all coral points to SINMOD grid coordinates\n",
    "\n",
    "def transform_coral_coordinates(coral_data, crs_sinmod):\n",
    "    \n",
    "    #define the crs for the coral data\n",
    "    crs_wgs84 = CRS.from_epsg(4326)  #WGS84 (lat/lon coordinates)\n",
    "\n",
    "    transformer_wgs84_to_sinmod = Transformer.from_crs(crs_wgs84, crs_sinmod, always_xy=True)\n",
    "\n",
    "    #transform coral coordinates from WGS84 to SINMOD\n",
    "    coral_x, coral_y = transformer_wgs84_to_sinmod.transform(coral_data['lengdegrad'], coral_data['breddegrad'])\n",
    "\n",
    "    #save coral_x and coral_y as new columns\n",
    "    coral_data.loc[:, 'x'] = coral_x\n",
    "    coral_data.loc[:, 'y'] = coral_y\n",
    "\n",
    "    return coral_data\n",
    "\n",
    "transformed_coral_data = transform_coral_coordinates(gdf_all_coral_files, crs_sinmod)\n"
   ]
  },
  {
   "cell_type": "code",
   "execution_count": 1,
   "id": "8d01a501-5dcf-4189-8652-a4f61b1e5e1b",
   "metadata": {},
   "outputs": [
    {
     "ename": "NameError",
     "evalue": "name 'coral_ds' is not defined",
     "output_type": "error",
     "traceback": [
      "\u001b[0;31m---------------------------------------------------------------------------\u001b[0m",
      "\u001b[0;31mNameError\u001b[0m                                 Traceback (most recent call last)",
      "Cell \u001b[0;32mIn[1], line 4\u001b[0m\n\u001b[1;32m      1\u001b[0m \u001b[38;5;66;03m#Remove coral points outside model area and drop coral locations that are Nan in the SINMOD dataset\u001b[39;00m\n\u001b[0;32m----> 4\u001b[0m filtered_coral_ds \u001b[38;5;241m=\u001b[39m \u001b[43mcoral_ds\u001b[49m[\n\u001b[1;32m      5\u001b[0m     \u001b[38;5;241m~\u001b[39mcoral_ds\u001b[38;5;241m.\u001b[39mapply(\u001b[38;5;28;01mlambda\u001b[39;00m row: null_mask\u001b[38;5;241m.\u001b[39msel(x\u001b[38;5;241m=\u001b[39mrow[\u001b[38;5;124m'\u001b[39m\u001b[38;5;124mx\u001b[39m\u001b[38;5;124m'\u001b[39m], y\u001b[38;5;241m=\u001b[39mrow[\u001b[38;5;124m'\u001b[39m\u001b[38;5;124my\u001b[39m\u001b[38;5;124m'\u001b[39m], method\u001b[38;5;241m=\u001b[39m\u001b[38;5;124m'\u001b[39m\u001b[38;5;124mnearest\u001b[39m\u001b[38;5;124m'\u001b[39m)\u001b[38;5;241m.\u001b[39mitem(), axis\u001b[38;5;241m=\u001b[39m\u001b[38;5;241m1\u001b[39m)\n\u001b[1;32m      6\u001b[0m ]\n\u001b[1;32m      8\u001b[0m \u001b[38;5;28mprint\u001b[39m(coral_ds\u001b[38;5;241m.\u001b[39mshape)\n\u001b[1;32m      9\u001b[0m filtered_coral_ds\u001b[38;5;241m.\u001b[39mshape\n",
      "\u001b[0;31mNameError\u001b[0m: name 'coral_ds' is not defined"
     ]
    }
   ],
   "source": [
    "#Remove coral points outside model area and drop coral locations that are Nan in the SINMOD dataset\n",
    "\n",
    "def remove_coral_points_outside_area(transformed_coral_data, sinmod_data):\n",
    "    xc = sinmod_data.variables['xc'][:]\n",
    "    yc = sinmod_data.variables['yc'][:]\n",
    "    xmin, xmax = xc.min(), xc.max()\n",
    "    ymin, ymax = yc.min(), yc.max()\n",
    "\n",
    "    coral_x = transformed_coral_data['x']\n",
    "    coral_y = transformed_coral_data ['y']\n",
    "    \n",
    "    valid_indices = ((coral_x >= xmin) & (coral_x <= xmax) & (coral_y >= ymin) & (coral_y <= ymax))\n",
    "\n",
    "    coral_points_inside_area = transformed_coral_data[valid_indices].copy()\n",
    "\n",
    "    null_mask = sinmod_data['bottom_temperature_features'].isel(stat=0).isnull()\n",
    "    \n",
    "    filtered_coral_ds = coral_points_inside_area[\n",
    "    ~coral_points_inside_area.apply(lambda row: null_mask.sel(x=row['x'], y=row['y'], method='nearest').item(), axis=1)\n",
    "    ]\n",
    "\n",
    "    \n",
    "    \n",
    "return filtered_coral_ds\n",
    "\n",
    "coral_data = remove_coral_points_outside_area(transformed_coral_data, SINMOD_features_reprojected)"
   ]
  },
  {
   "cell_type": "code",
   "execution_count": null,
   "id": "5d9ced0e-9da2-40ea-9c7b-6aa015c456e6",
   "metadata": {},
   "outputs": [],
   "source": [
    "#save to your chosen directory\n",
    "output_directory = '/coral-mapping/processed_data/'\n",
    "output_file = 'coral_data_processed.parquet' \n",
    "os.makedirs(output_directory, exist_ok=True)\n",
    "\n",
    "coral_data.to_parquet(os.path.join(output_directory, output_file), index=False)"
   ]
  },
  {
   "cell_type": "code",
   "execution_count": null,
   "id": "609f5304-9767-457e-90bb-de1d547f9191",
   "metadata": {},
   "outputs": [],
   "source": [
    "#How to load coral data later:\n",
    "#coral_filepath = '/output_directory/output_file'\n",
    "#coral_data = pd.read_parquet(coral_filepath)"
   ]
  },
  {
   "cell_type": "code",
   "execution_count": null,
   "id": "ec8e58d9-c7b2-40e7-aa4c-ff2564cd5719",
   "metadata": {},
   "outputs": [],
   "source": [
    "#OPTIONAL\n",
    "#plot all coral points on top of bathymetry to view their position in model area\n",
    "\n",
    "fig, ax = plt.subplots(figsize=(10, 10))\n",
    "\n",
    "#Plot the reprojected SINMOD data (bottom_temperature, for example)\n",
    "SINMOD_features_reprojected['bottom_temperature_features'].isel(stat=0).plot(ax=ax, cmap='viridis', alpha=0.6)\n",
    "\n",
    "#Plot coral locations\n",
    "ax.scatter(coral_ds['x'], coral_ds['y'], color='red', s=10, label='Coral Locations')\n",
    "\n",
    "ax.set_title('Coral Locations on Reprojected SINMOD Temperature Features')\n",
    "plt.xlabel(\"xc (SINMOD grid coordinates)\")\n",
    "plt.ylabel(\"yc (SINMOD grid coordinates)\")\n",
    "plt.legend()\n",
    "plt.show()"
   ]
  },
  {
   "cell_type": "code",
   "execution_count": 25,
   "id": "26b2e932-a324-4ebb-b699-848ba4fcd450",
   "metadata": {},
   "outputs": [],
   "source": [
    "coral_file_sinmod_grid = '/cluster/projects/itk-SINMOD/coral-mapping/data/processed_data/midnor_total_coral_data_processed.parquet'\n",
    "coral_ds_sinmod_grid = pd.read_parquet(coral_file_sinmod_grid)"
   ]
  },
  {
   "cell_type": "code",
   "execution_count": 26,
   "id": "d26807ec-97ce-4975-aeb1-a1bbcc7d5740",
   "metadata": {},
   "outputs": [],
   "source": [
    "coral_file_emod_grid = '/cluster/projects/itk-SINMOD/coral-mapping/data/processed_data/midnor_total_coral_data_filtered_UTM32N.parquet'\n",
    "coral_ds_emod_grid = pd.read_parquet(coral_file_emod_grid)"
   ]
  }
 ],
 "metadata": {
  "kernelspec": {
   "display_name": "Python 3 (ipykernel)",
   "language": "python",
   "name": "python3"
  },
  "language_info": {
   "codemirror_mode": {
    "name": "ipython",
    "version": 3
   },
   "file_extension": ".py",
   "mimetype": "text/x-python",
   "name": "python",
   "nbconvert_exporter": "python",
   "pygments_lexer": "ipython3",
   "version": "3.12.3"
  }
 },
 "nbformat": 4,
 "nbformat_minor": 5
}
