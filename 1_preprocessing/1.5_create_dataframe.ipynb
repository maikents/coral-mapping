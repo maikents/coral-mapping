{
 "cells": [
  {
   "cell_type": "code",
   "execution_count": 1,
   "id": "e6d3ad1e-f203-4118-aad9-346978ded3fa",
   "metadata": {},
   "outputs": [],
   "source": [
    "import matplotlib.pyplot as plt\n",
    "import numpy as np\n",
    "import matplotlib.pyplot as plt \n",
    "import netCDF4 as nc\n",
    "from netCDF4 import Dataset\n",
    "import geopandas as gpd\n",
    "import pandas as pd\n",
    "import random\n",
    "import xarray as xr"
   ]
  },
  {
   "cell_type": "code",
   "execution_count": 3,
   "id": "808bb23d-13ac-45c0-b8c8-89924d9f439a",
   "metadata": {},
   "outputs": [],
   "source": [
    "#Import all standardized features \n",
    "\n",
    "sinmod = xr.open_dataset('/cluster/home/maikents/features_midnor_2019/ready_for_training/SINMOD_bottom_features_emod_grid_standardized2.nc')\n",
    "\n",
    "emod = xr.open_dataset('/cluster/home/maikents/features_midnor_2019/ready_for_training/EMOD_standardized2.nc')\n"
   ]
  },
  {
   "cell_type": "code",
   "execution_count": 7,
   "id": "b9c2c017-2d94-4ec1-b47e-be402f38dcec",
   "metadata": {},
   "outputs": [],
   "source": [
    "#Temperature \n",
    "temperature = xr.open_dataset('/cluster/home/maikents/sinmod_features_masters/standardized_features_emod_grid/standardized_temperature.nc')"
   ]
  },
  {
   "cell_type": "code",
   "execution_count": 4,
   "id": "b00bf048-9463-4a00-8d03-4ed6aba874f5",
   "metadata": {},
   "outputs": [],
   "source": [
    "#current aspect angle\n",
    "sinmod_bottom = xr.open_dataset('/cluster/projects/itk-SINMOD/coral-mapping/data/processed_data/features/ready-for-training/SINMOD_bottom_features.nc')\n",
    "current_aspect_angle = sinmod_bottom['current_aspect_angle']"
   ]
  },
  {
   "cell_type": "code",
   "execution_count": 5,
   "id": "1c636da9-f9af-43b9-a85c-48fd54aabb3d",
   "metadata": {},
   "outputs": [
    {
     "name": "stdout",
     "output_type": "stream",
     "text": [
      "Index(['x', 'y', 'aspect_cos', 'aspect_sin', 'bathymetry_32N_Clip_sample',\n",
      "       'broad_BPI_std', 'fine_BPI_std', 'log_ruggedness_1', 'slope'],\n",
      "      dtype='object')\n"
     ]
    }
   ],
   "source": [
    "# EMOD first\n",
    "emod_df = emod.to_dataframe().reset_index()\n",
    "print(emod_df.columns)"
   ]
  },
  {
   "cell_type": "code",
   "execution_count": 9,
   "id": "119ea62f-8910-4b16-8761-3988ea1abbd2",
   "metadata": {},
   "outputs": [
    {
     "name": "stdout",
     "output_type": "stream",
     "text": [
      "['stat', 'x', 'y', 'spatial_ref', 'bottom_temperature_sundahl_features', 'bottom_salinity_features', 'bottom_current_features', 'bottom_statistical_northness_features', 'bottom_statistical_eastness_features', 'current_aspect_angle']\n"
     ]
    }
   ],
   "source": [
    "print(list(sinmod.variables))"
   ]
  },
  {
   "cell_type": "code",
   "execution_count": null,
   "id": "dcfb49fe-97a4-4514-8663-ee9e882cf2a4",
   "metadata": {},
   "outputs": [],
   "source": [
    "sinmod_df = sinmod[['x', 'y', 'bottom_salinity_features',\n",
    "                                  'bottom_current_features', 'bottom_statistical_northness_features',\n",
    "                                  'bottom_statistical_eastness_features', 'current_aspect_angle']].to_dataframe().reset_index()\n"
   ]
  },
  {
   "cell_type": "code",
   "execution_count": 8,
   "id": "e4a97a4b-affd-42b7-a100-731a2addcc01",
   "metadata": {
    "collapsed": true,
    "jupyter": {
     "outputs_hidden": true
    }
   },
   "outputs": [
    {
     "ename": "ValueError",
     "evalue": "Length of values (9671) does not match length of index (638857070)",
     "output_type": "error",
     "traceback": [
      "\u001b[0;31m---------------------------------------------------------------------------\u001b[0m",
      "\u001b[0;31mValueError\u001b[0m                                Traceback (most recent call last)",
      "Cell \u001b[0;32mIn[8], line 1\u001b[0m\n\u001b[0;32m----> 1\u001b[0m \u001b[43msinmod_df\u001b[49m\u001b[43m[\u001b[49m\u001b[38;5;124;43m'\u001b[39;49m\u001b[38;5;124;43mcurrent_aspect_angle\u001b[39;49m\u001b[38;5;124;43m'\u001b[39;49m\u001b[43m]\u001b[49m \u001b[38;5;241m=\u001b[39m current_aspect_angle\n",
      "File \u001b[0;32m~/PyEnvCoralMapping/lib/python3.12/site-packages/pandas/core/frame.py:4311\u001b[0m, in \u001b[0;36mDataFrame.__setitem__\u001b[0;34m(self, key, value)\u001b[0m\n\u001b[1;32m   4308\u001b[0m     \u001b[38;5;28mself\u001b[39m\u001b[38;5;241m.\u001b[39m_setitem_array([key], value)\n\u001b[1;32m   4309\u001b[0m \u001b[38;5;28;01melse\u001b[39;00m:\n\u001b[1;32m   4310\u001b[0m     \u001b[38;5;66;03m# set column\u001b[39;00m\n\u001b[0;32m-> 4311\u001b[0m     \u001b[38;5;28;43mself\u001b[39;49m\u001b[38;5;241;43m.\u001b[39;49m\u001b[43m_set_item\u001b[49m\u001b[43m(\u001b[49m\u001b[43mkey\u001b[49m\u001b[43m,\u001b[49m\u001b[43m \u001b[49m\u001b[43mvalue\u001b[49m\u001b[43m)\u001b[49m\n",
      "File \u001b[0;32m~/PyEnvCoralMapping/lib/python3.12/site-packages/pandas/core/frame.py:4524\u001b[0m, in \u001b[0;36mDataFrame._set_item\u001b[0;34m(self, key, value)\u001b[0m\n\u001b[1;32m   4514\u001b[0m \u001b[38;5;28;01mdef\u001b[39;00m \u001b[38;5;21m_set_item\u001b[39m(\u001b[38;5;28mself\u001b[39m, key, value) \u001b[38;5;241m-\u001b[39m\u001b[38;5;241m>\u001b[39m \u001b[38;5;28;01mNone\u001b[39;00m:\n\u001b[1;32m   4515\u001b[0m \u001b[38;5;250m    \u001b[39m\u001b[38;5;124;03m\"\"\"\u001b[39;00m\n\u001b[1;32m   4516\u001b[0m \u001b[38;5;124;03m    Add series to DataFrame in specified column.\u001b[39;00m\n\u001b[1;32m   4517\u001b[0m \n\u001b[0;32m   (...)\u001b[0m\n\u001b[1;32m   4522\u001b[0m \u001b[38;5;124;03m    ensure homogeneity.\u001b[39;00m\n\u001b[1;32m   4523\u001b[0m \u001b[38;5;124;03m    \"\"\"\u001b[39;00m\n\u001b[0;32m-> 4524\u001b[0m     value, refs \u001b[38;5;241m=\u001b[39m \u001b[38;5;28;43mself\u001b[39;49m\u001b[38;5;241;43m.\u001b[39;49m\u001b[43m_sanitize_column\u001b[49m\u001b[43m(\u001b[49m\u001b[43mvalue\u001b[49m\u001b[43m)\u001b[49m\n\u001b[1;32m   4526\u001b[0m     \u001b[38;5;28;01mif\u001b[39;00m (\n\u001b[1;32m   4527\u001b[0m         key \u001b[38;5;129;01min\u001b[39;00m \u001b[38;5;28mself\u001b[39m\u001b[38;5;241m.\u001b[39mcolumns\n\u001b[1;32m   4528\u001b[0m         \u001b[38;5;129;01mand\u001b[39;00m value\u001b[38;5;241m.\u001b[39mndim \u001b[38;5;241m==\u001b[39m \u001b[38;5;241m1\u001b[39m\n\u001b[1;32m   4529\u001b[0m         \u001b[38;5;129;01mand\u001b[39;00m \u001b[38;5;129;01mnot\u001b[39;00m \u001b[38;5;28misinstance\u001b[39m(value\u001b[38;5;241m.\u001b[39mdtype, ExtensionDtype)\n\u001b[1;32m   4530\u001b[0m     ):\n\u001b[1;32m   4531\u001b[0m         \u001b[38;5;66;03m# broadcast across multiple columns if necessary\u001b[39;00m\n\u001b[1;32m   4532\u001b[0m         \u001b[38;5;28;01mif\u001b[39;00m \u001b[38;5;129;01mnot\u001b[39;00m \u001b[38;5;28mself\u001b[39m\u001b[38;5;241m.\u001b[39mcolumns\u001b[38;5;241m.\u001b[39mis_unique \u001b[38;5;129;01mor\u001b[39;00m \u001b[38;5;28misinstance\u001b[39m(\u001b[38;5;28mself\u001b[39m\u001b[38;5;241m.\u001b[39mcolumns, MultiIndex):\n",
      "File \u001b[0;32m~/PyEnvCoralMapping/lib/python3.12/site-packages/pandas/core/frame.py:5266\u001b[0m, in \u001b[0;36mDataFrame._sanitize_column\u001b[0;34m(self, value)\u001b[0m\n\u001b[1;32m   5263\u001b[0m     \u001b[38;5;28;01mreturn\u001b[39;00m _reindex_for_setitem(value, \u001b[38;5;28mself\u001b[39m\u001b[38;5;241m.\u001b[39mindex)\n\u001b[1;32m   5265\u001b[0m \u001b[38;5;28;01mif\u001b[39;00m is_list_like(value):\n\u001b[0;32m-> 5266\u001b[0m     \u001b[43mcom\u001b[49m\u001b[38;5;241;43m.\u001b[39;49m\u001b[43mrequire_length_match\u001b[49m\u001b[43m(\u001b[49m\u001b[43mvalue\u001b[49m\u001b[43m,\u001b[49m\u001b[43m \u001b[49m\u001b[38;5;28;43mself\u001b[39;49m\u001b[38;5;241;43m.\u001b[39;49m\u001b[43mindex\u001b[49m\u001b[43m)\u001b[49m\n\u001b[1;32m   5267\u001b[0m arr \u001b[38;5;241m=\u001b[39m sanitize_array(value, \u001b[38;5;28mself\u001b[39m\u001b[38;5;241m.\u001b[39mindex, copy\u001b[38;5;241m=\u001b[39m\u001b[38;5;28;01mTrue\u001b[39;00m, allow_2d\u001b[38;5;241m=\u001b[39m\u001b[38;5;28;01mTrue\u001b[39;00m)\n\u001b[1;32m   5268\u001b[0m \u001b[38;5;28;01mif\u001b[39;00m (\n\u001b[1;32m   5269\u001b[0m     \u001b[38;5;28misinstance\u001b[39m(value, Index)\n\u001b[1;32m   5270\u001b[0m     \u001b[38;5;129;01mand\u001b[39;00m value\u001b[38;5;241m.\u001b[39mdtype \u001b[38;5;241m==\u001b[39m \u001b[38;5;124m\"\u001b[39m\u001b[38;5;124mobject\u001b[39m\u001b[38;5;124m\"\u001b[39m\n\u001b[0;32m   (...)\u001b[0m\n\u001b[1;32m   5273\u001b[0m     \u001b[38;5;66;03m# TODO: Remove kludge in sanitize_array for string mode when enforcing\u001b[39;00m\n\u001b[1;32m   5274\u001b[0m     \u001b[38;5;66;03m# this deprecation\u001b[39;00m\n",
      "File \u001b[0;32m~/PyEnvCoralMapping/lib/python3.12/site-packages/pandas/core/common.py:573\u001b[0m, in \u001b[0;36mrequire_length_match\u001b[0;34m(data, index)\u001b[0m\n\u001b[1;32m    569\u001b[0m \u001b[38;5;250m\u001b[39m\u001b[38;5;124;03m\"\"\"\u001b[39;00m\n\u001b[1;32m    570\u001b[0m \u001b[38;5;124;03mCheck the length of data matches the length of the index.\u001b[39;00m\n\u001b[1;32m    571\u001b[0m \u001b[38;5;124;03m\"\"\"\u001b[39;00m\n\u001b[1;32m    572\u001b[0m \u001b[38;5;28;01mif\u001b[39;00m \u001b[38;5;28mlen\u001b[39m(data) \u001b[38;5;241m!=\u001b[39m \u001b[38;5;28mlen\u001b[39m(index):\n\u001b[0;32m--> 573\u001b[0m     \u001b[38;5;28;01mraise\u001b[39;00m \u001b[38;5;167;01mValueError\u001b[39;00m(\n\u001b[1;32m    574\u001b[0m         \u001b[38;5;124m\"\u001b[39m\u001b[38;5;124mLength of values \u001b[39m\u001b[38;5;124m\"\u001b[39m\n\u001b[1;32m    575\u001b[0m         \u001b[38;5;124mf\u001b[39m\u001b[38;5;124m\"\u001b[39m\u001b[38;5;124m(\u001b[39m\u001b[38;5;132;01m{\u001b[39;00m\u001b[38;5;28mlen\u001b[39m(data)\u001b[38;5;132;01m}\u001b[39;00m\u001b[38;5;124m) \u001b[39m\u001b[38;5;124m\"\u001b[39m\n\u001b[1;32m    576\u001b[0m         \u001b[38;5;124m\"\u001b[39m\u001b[38;5;124mdoes not match length of index \u001b[39m\u001b[38;5;124m\"\u001b[39m\n\u001b[1;32m    577\u001b[0m         \u001b[38;5;124mf\u001b[39m\u001b[38;5;124m\"\u001b[39m\u001b[38;5;124m(\u001b[39m\u001b[38;5;132;01m{\u001b[39;00m\u001b[38;5;28mlen\u001b[39m(index)\u001b[38;5;132;01m}\u001b[39;00m\u001b[38;5;124m)\u001b[39m\u001b[38;5;124m\"\u001b[39m\n\u001b[1;32m    578\u001b[0m     )\n",
      "\u001b[0;31mValueError\u001b[0m: Length of values (9671) does not match length of index (638857070)"
     ]
    }
   ],
   "source": [
    "sinmod_df['current_aspect_angle'] = current_aspect_angle"
   ]
  },
  {
   "cell_type": "code",
   "execution_count": 5,
   "id": "364cfdbe-d877-4507-8e7f-090f0e478bb0",
   "metadata": {},
   "outputs": [],
   "source": [
    "#Create mean, min and max features for desired variables\n",
    "sinmod_df['temperature_sundahl_mean'] = sinmod_df['bottom_temperature_sundahl_features'].mean()\n",
    "sinmod_df['temperature_sundahl_10th_percentile'] = sinmod_df['bottom_temperature_sundahl_features'].quantile(0.1)\n",
    "sinmod_df['temperature_sundahl_90th_percentile'] = sinmod_df['bottom_temperature_sundahl_features'].quantile(0.9)"
   ]
  },
  {
   "cell_type": "code",
   "execution_count": 6,
   "id": "d0f5e91a-87af-484d-9641-d3e227d80ccc",
   "metadata": {},
   "outputs": [],
   "source": [
    "sinmod_df['salinity_mean'] = sinmod_df['bottom_salinity_features'].mean()\n",
    "sinmod_df['salinity_10th_percentile'] = sinmod_df['bottom_salinity_features'].quantile(0.1)\n",
    "sinmod_df['salinity_90th_percentile'] = sinmod_df['bottom_salinity_features'].quantile(0.9)"
   ]
  },
  {
   "cell_type": "code",
   "execution_count": 7,
   "id": "1f8878b0-8083-4996-a73f-a962029b08c5",
   "metadata": {},
   "outputs": [],
   "source": [
    "sinmod_df['current_mean'] = sinmod_df['bottom_current_features'].mean()\n",
    "sinmod_df['current_10th_percentile'] = sinmod_df['bottom_current_features'].quantile(0.1)\n",
    "sinmod_df['current_90th_percentile'] = sinmod_df['bottom_current_features'].quantile(0.9)"
   ]
  },
  {
   "cell_type": "code",
   "execution_count": 14,
   "id": "caa152c3-4e45-449b-9882-9917023cfb31",
   "metadata": {},
   "outputs": [
    {
     "name": "stdout",
     "output_type": "stream",
     "text": [
      "Index(['x', 'y', 'stat', 'bottom_temperature_sundahl_features',\n",
      "       'bottom_salinity_features', 'bottom_current_features',\n",
      "       'bottom_statistical_northness_features',\n",
      "       'bottom_statistical_eastness_features', 'temperature_sundahl_mean',\n",
      "       'temperature_sundahl_10th_percentile',\n",
      "       'temperature_sundahl_90th_percentile', 'salinity_mean',\n",
      "       'salinity_10th_percentile', 'salinity_90th_percentile', 'current_mean',\n",
      "       'current_10th_percentile', 'current_90th_percentile'],\n",
      "      dtype='object')\n"
     ]
    }
   ],
   "source": [
    "print(sinmod_df.columns)"
   ]
  },
  {
   "cell_type": "code",
   "execution_count": 8,
   "id": "d3f0d7e3-ea84-4cf2-b0f7-ab68c880cf63",
   "metadata": {},
   "outputs": [],
   "source": [
    "sinmod_df = sinmod_df.drop(['stat', 'bottom_temperature_sundahl_features','bottom_salinity_features', 'bottom_current_features' ], axis=1)"
   ]
  },
  {
   "cell_type": "code",
   "execution_count": 9,
   "id": "325dc90a-3c8c-4a6e-ad04-6fb18b2885a4",
   "metadata": {},
   "outputs": [
    {
     "name": "stdout",
     "output_type": "stream",
     "text": [
      "Index(['x', 'y', 'bottom_statistical_northness_features',\n",
      "       'bottom_statistical_eastness_features', 'temperature_sundahl_mean',\n",
      "       'temperature_sundahl_10th_percentile',\n",
      "       'temperature_sundahl_90th_percentile', 'salinity_mean',\n",
      "       'salinity_10th_percentile', 'salinity_90th_percentile', 'current_mean',\n",
      "       'current_10th_percentile', 'current_90th_percentile'],\n",
      "      dtype='object')\n"
     ]
    }
   ],
   "source": [
    "print(sinmod_df.columns)"
   ]
  },
  {
   "cell_type": "code",
   "execution_count": null,
   "id": "840158de-01ab-4ce0-8c78-05ba536b6070",
   "metadata": {},
   "outputs": [],
   "source": [
    "total_df = sinmod_df.merge(emod_df, on=['x', 'y'])"
   ]
  },
  {
   "cell_type": "code",
   "execution_count": 30,
   "id": "ad015bab-d456-4ac6-a11a-2c032899cc87",
   "metadata": {},
   "outputs": [
    {
     "name": "stdout",
     "output_type": "stream",
     "text": [
      "Index(['x', 'y', 'stat', 'bottom_temperature_sundahl_features',\n",
      "       'bottom_salinity_features', 'bottom_current_features',\n",
      "       'bottom_statistical_northness_features',\n",
      "       'bottom_statistical_eastness_features', 'current_aspect_angle',\n",
      "       'bottom_temperature_sundahl_features_mean',\n",
      "       'bottom_salinity_features_mean', 'bottom_current_features_mean',\n",
      "       'bottom_temperature_sundahl_features_10th_percentile',\n",
      "       'bottom_salinity_features_10th_percentile',\n",
      "       'bottom_temperature_sundahl_features_90th_percentile',\n",
      "       'bottom_salinity_features_90th_percentile',\n",
      "       'bottom_current_features_90th_percentile', 'aspect_cos', 'aspect_sin',\n",
      "       'bathymetry', 'broad_BPI', 'fine_BPI', 'log_ruggedness', 'slope'],\n",
      "      dtype='object')\n"
     ]
    }
   ],
   "source": [
    "print(total_df.columns)"
   ]
  },
  {
   "cell_type": "code",
   "execution_count": null,
   "id": "84c2a266-b0e5-4cf8-b466-15b207c928af",
   "metadata": {},
   "outputs": [],
   "source": [
    "#sinmod_df = sinmod_df.dropna()\n",
    "#emod_df = emod_df.dropna()\n"
   ]
  },
  {
   "cell_type": "code",
   "execution_count": 31,
   "id": "3d543619-006b-490a-bc8b-fc4900e81628",
   "metadata": {},
   "outputs": [],
   "source": [
    "total_df.to_parquet('/cluster/home/maikents/features_midnor_2019/ready_for_training/total_df.parquet')"
   ]
  },
  {
   "cell_type": "code",
   "execution_count": 36,
   "id": "3e0a27a3-2351-4cfe-9721-ca412b032cda",
   "metadata": {},
   "outputs": [],
   "source": [
    "#To open later: total_df = pd.read_parquet('/cluster/home/maikents/features_midnor_2019/ready_for_training/total_df.parquet')"
   ]
  }
 ],
 "metadata": {
  "kernelspec": {
   "display_name": "Python 3 (ipykernel)",
   "language": "python",
   "name": "python3"
  },
  "language_info": {
   "codemirror_mode": {
    "name": "ipython",
    "version": 3
   },
   "file_extension": ".py",
   "mimetype": "text/x-python",
   "name": "python",
   "nbconvert_exporter": "python",
   "pygments_lexer": "ipython3",
   "version": "3.12.3"
  }
 },
 "nbformat": 4,
 "nbformat_minor": 5
}
