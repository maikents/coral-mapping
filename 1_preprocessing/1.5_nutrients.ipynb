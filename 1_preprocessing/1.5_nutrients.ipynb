{
 "cells": [
  {
   "cell_type": "code",
   "execution_count": 1,
   "id": "42fade86-cb56-4887-bd2e-b0fa171ebf1f",
   "metadata": {},
   "outputs": [],
   "source": [
    "import numpy as np\n",
    "import xarray as xr\n",
    "import time \n",
    "import os\n",
    "from netCDF4 import Dataset\n",
    "from pyproj import CRS\n",
    "import rasterio\n",
    "import rioxarray\n",
    "from rasterio.enums import Resampling\n",
    "from sklearn.preprocessing import StandardScaler\n",
    "import rioxarray"
   ]
  },
  {
   "cell_type": "code",
   "execution_count": 3,
   "id": "cfa528b1-2135-4d63-9588-178671b63db8",
   "metadata": {},
   "outputs": [],
   "source": [
    "filename_biostates_2019 = '/cluster/projects/itk-SINMOD/coral-mapping/midnor/BioStates_2019.nc'\n",
    "biostates_2019 = xr.open_dataset(filename_biostates_2019)"
   ]
  },
  {
   "cell_type": "code",
   "execution_count": 3,
   "id": "0d92eae6-5894-4259-b406-d1d39cd2863e",
   "metadata": {},
   "outputs": [
    {
     "name": "stdout",
     "output_type": "stream",
     "text": [
      "['time', 'grid_mapping', 'LayerDepths', 'xc', 'yc', 'zc', 'depth', 'DXxDYy', 'nitrate', 'silicate', 'ammonium', 'diatoms', 'flagellates', 'ciliates', 'HNANO', 'bacteria', 'calanus_finmarchicus', 'calanus_glacialis', 'detritus_slow', 'detritus_fast', 'DOC', 'cDOM', 'silicate_detritus', 'sediment_Si', 'sediment_N']\n"
     ]
    }
   ],
   "source": [
    "print(list(biostates_2022.variables))"
   ]
  },
  {
   "cell_type": "code",
   "execution_count": 4,
   "id": "c6164cd3-9545-4d83-bdb6-042c32648158",
   "metadata": {
    "jupyter": {
     "source_hidden": true
    }
   },
   "outputs": [],
   "source": [
    "nitrate_2022 = biostates_2022['nitrate']\n",
    "valid_mask = ~nitrate_2022.isnull()  \n",
    "reversed_valid_mask = valid_mask.isel(zc=slice(None, None, -1))\n",
    "bottom_layer_idx_reversed = reversed_valid_mask.argmax(dim=\"zc\")\n",
    "bottom_layer_idx = valid_mask.zc.size - 1 - bottom_layer_idx_reversed\n",
    "no_valid_data_mask = valid_mask.sum(dim=\"zc\") == 0\n",
    "nitrate_bottom_layer_2022 = nitrate_2022.isel(zc=bottom_layer_idx)\n",
    "nitrate_bottom_layer_2022 = nitrate_bottom_layer_2022.where(~no_valid_data_mask, np.nan)"
   ]
  },
  {
   "cell_type": "code",
   "execution_count": 5,
   "id": "e043408d-56e7-4d01-8a7c-b388787845bb",
   "metadata": {
    "jupyter": {
     "source_hidden": true
    }
   },
   "outputs": [],
   "source": [
    "nitrate_bottom_layer_2022.to_netcdf('/cluster/home/maikents/surface_chlorophyll/nitrate_22.nc')"
   ]
  },
  {
   "cell_type": "code",
   "execution_count": 5,
   "id": "1cafb431-4022-455b-bf51-624b5603b9c3",
   "metadata": {
    "jupyter": {
     "source_hidden": true
    }
   },
   "outputs": [],
   "source": [
    "silicate_2019 = biostates_2019['silicate']\n",
    "valid_mask = ~silicate_2019.isnull()  \n",
    "reversed_valid_mask = valid_mask.isel(zc=slice(None, None, -1))\n",
    "bottom_layer_idx_reversed = reversed_valid_mask.argmax(dim=\"zc\")\n",
    "bottom_layer_idx = valid_mask.zc.size - 1 - bottom_layer_idx_reversed\n",
    "no_valid_data_mask = valid_mask.sum(dim=\"zc\") == 0\n",
    "silicate_bottom_layer_2019 = silicate_2019.isel(zc=bottom_layer_idx)\n",
    "silicate_bottom_layer_2019 = silicate_bottom_layer_2019.where(~no_valid_data_mask, np.nan)"
   ]
  },
  {
   "cell_type": "code",
   "execution_count": 6,
   "id": "8f24a99e-029c-424a-9c8f-388b5dfd875d",
   "metadata": {
    "jupyter": {
     "source_hidden": true
    }
   },
   "outputs": [],
   "source": [
    "silicate_bottom_layer_2019.to_netcdf('/cluster/home/maikents/surface_chlorophyll/silicate_19.nc')"
   ]
  },
  {
   "cell_type": "code",
   "execution_count": 8,
   "id": "211d7449-fbf0-472b-9fa6-b0e6cb1553b3",
   "metadata": {},
   "outputs": [],
   "source": [
    "sediment_nitrate_2023 = biostates_2023['sediment_N']\n",
    "sediment_nitrate_2023 = sediment_nitrate_2023.where(~sediment_nitrate_2023.isnull(), np.nan)"
   ]
  },
  {
   "cell_type": "code",
   "execution_count": 9,
   "id": "30cd27bb-8bb0-4281-96b2-c00e82370deb",
   "metadata": {},
   "outputs": [],
   "source": [
    "sediment_nitrate_2023.to_netcdf('/cluster/home/maikents/surface_chlorophyll/sediment_nitrate_23.nc')"
   ]
  },
  {
   "cell_type": "code",
   "execution_count": 10,
   "id": "4f9b7f7c-32a4-45c9-a839-2ebfd83659dc",
   "metadata": {},
   "outputs": [],
   "source": [
    "sediment_silicate_2023 = biostates_2023['sediment_Si']\n",
    "sediment_silicate_2023 = sediment_silicate_2023.where(~sediment_silicate_2023.isnull(), np.nan)"
   ]
  },
  {
   "cell_type": "code",
   "execution_count": 11,
   "id": "cb5afee8-023d-4a65-9549-395111986f54",
   "metadata": {},
   "outputs": [],
   "source": [
    "sediment_silicate_2023.to_netcdf('/cluster/home/maikents/surface_chlorophyll/sediment_silicate_23.nc')"
   ]
  },
  {
   "cell_type": "code",
   "execution_count": 3,
   "id": "fd0dd495-2fe2-47de-9b81-9c82e23f2fe0",
   "metadata": {},
   "outputs": [],
   "source": [
    "#Now combine all 3 years \n",
    "sediment_nitrate_2022 = xr.open_dataset('/cluster/home/maikents/surface_chlorophyll/sediment_nitrate_22.nc')\n",
    "sediment_nitrate_2019 = xr.open_dataset('/cluster/home/maikents/surface_chlorophyll/sediment_nitrate_19.nc')\n",
    "sediment_nitrate_2023 = xr.open_dataset('/cluster/home/maikents/surface_chlorophyll/sediment_nitrate_23.nc')"
   ]
  },
  {
   "cell_type": "code",
   "execution_count": 4,
   "id": "db171243-fcfe-41f3-a696-4642b6f4266d",
   "metadata": {},
   "outputs": [],
   "source": [
    "sediment_nitrate_2022 = sediment_nitrate_2022.isel(time=slice(0, 365))"
   ]
  },
  {
   "cell_type": "code",
   "execution_count": 5,
   "id": "6646f9fd-4db1-4d3e-899c-82b74581ecc8",
   "metadata": {},
   "outputs": [],
   "source": [
    "sediment_nitrate = xr.concat([sediment_nitrate_2019, sediment_nitrate_2022, sediment_nitrate_2023], dim=\"time\")\n",
    "\n",
    "\n",
    "sediment_nitrate.to_netcdf('/cluster/home/maikents/surface_chlorophyll/sediment_nitrate_2019_2022_2023.nc')"
   ]
  },
  {
   "cell_type": "code",
   "execution_count": 6,
   "id": "0c4db812-bdfa-4d5f-a099-b3d36e74fa0f",
   "metadata": {},
   "outputs": [],
   "source": [
    "sediment_silicate_2022 = xr.open_dataset('/cluster/home/maikents/surface_chlorophyll/sediment_silicate_22.nc')\n",
    "sediment_silicate_2019 = xr.open_dataset('/cluster/home/maikents/surface_chlorophyll/sediment_silicate_19.nc')\n",
    "sediment_silicate_2023 = xr.open_dataset('/cluster/home/maikents/surface_chlorophyll/sediment_silicate_23.nc')"
   ]
  },
  {
   "cell_type": "code",
   "execution_count": 7,
   "id": "52ae3d24-732b-4f08-96ec-c7086cf9df06",
   "metadata": {},
   "outputs": [],
   "source": [
    "sediment_silicate_2022 = sediment_silicate_2022.isel(time=slice(0, 365))"
   ]
  },
  {
   "cell_type": "code",
   "execution_count": 8,
   "id": "2be6493d-70bf-4781-96ca-09391b7dc1b9",
   "metadata": {},
   "outputs": [],
   "source": [
    "sediment_silicate = xr.concat([sediment_silicate_2019, sediment_silicate_2022, sediment_silicate_2023], dim=\"time\")\n",
    "\n",
    "\n",
    "sediment_silicate.to_netcdf('/cluster/home/maikents/surface_chlorophyll/sediment_silicate_2019_2022_2023.nc')"
   ]
  },
  {
   "cell_type": "code",
   "execution_count": 9,
   "id": "6bc0d04e-5631-41e2-a96e-8eff1312a974",
   "metadata": {},
   "outputs": [
    {
     "name": "stdout",
     "output_type": "stream",
     "text": [
      "<xarray.Dataset> Size: 2GB\n",
      "Dimensions:      (time: 1095, yc: 555, xc: 950)\n",
      "Coordinates:\n",
      "  * xc           (xc) float32 4kB 800.0 1.6e+03 2.4e+03 ... 7.592e+05 7.6e+05\n",
      "  * yc           (yc) float32 2kB 800.0 1.6e+03 2.4e+03 ... 4.432e+05 4.44e+05\n",
      "Dimensions without coordinates: time\n",
      "Data variables:\n",
      "    sediment_Si  (time, yc, xc) float32 2GB nan nan nan ... 59.41 59.48 59.58\n"
     ]
    }
   ],
   "source": [
    "print(sediment_silicate)"
   ]
  },
  {
   "cell_type": "code",
   "execution_count": 2,
   "id": "5a1f5f4e-7639-40d1-9aa2-5ec3143fde2f",
   "metadata": {},
   "outputs": [],
   "source": [
    "sediment_nitrate = xr.open_dataset('/cluster/home/maikents/surface_chlorophyll/sediment_nitrate_2019_2022_2023.nc')\n",
    "sediment_silicate = xr.open_dataset('/cluster/home/maikents/surface_chlorophyll/sediment_silicate_2019_2022_2023.nc')"
   ]
  },
  {
   "cell_type": "code",
   "execution_count": 3,
   "id": "d4ca34c6-a130-45c3-8682-3b0be0bdba5c",
   "metadata": {
    "collapsed": true,
    "jupyter": {
     "outputs_hidden": true
    }
   },
   "outputs": [
    {
     "name": "stderr",
     "output_type": "stream",
     "text": [
      "/cluster/home/maikents/PyEnvCoralMapping/lib/python3.12/site-packages/numpy/lib/nanfunctions.py:1563: RuntimeWarning: All-NaN slice encountered\n",
      "  return function_base._ureduce(a,\n"
     ]
    }
   ],
   "source": [
    "#Create min, mean and max features across time\n",
    "\n",
    "data_var_ni = sediment_nitrate['sediment_N']\n",
    "time_avg_layer = data_var_ni.mean(dim=\"time\", skipna=True)\n",
    "time_percentiles = data_var_ni.quantile([0.1, 0.9], dim=\"time\", skipna=True)\n",
    "\n",
    "stats_array = xr.concat(\n",
    "    [time_avg_layer, time_percentiles.sel(quantile=0.1).drop_vars(\"quantile\"), \n",
    "     time_percentiles.sel(quantile=0.9).drop_vars(\"quantile\")],\n",
    "    dim=\"stat\"\n",
    ").rename(f\"sediment_nitrate_features\")\n",
    "stats_array = stats_array.assign_coords(stat=[\"mean\", \"10th_percentile\", \"90th_percentile\"])\n",
    "\n",
    "stats_array.to_netcdf('/cluster/home/maikents/surface_chlorophyll/sediment_nitrate_2019_2022_2023_features.nc', mode='w')"
   ]
  },
  {
   "cell_type": "code",
   "execution_count": 4,
   "id": "1d15e522-e903-47a2-a76c-2ef7d91c9a8f",
   "metadata": {
    "collapsed": true,
    "jupyter": {
     "outputs_hidden": true
    }
   },
   "outputs": [
    {
     "name": "stderr",
     "output_type": "stream",
     "text": [
      "/cluster/home/maikents/PyEnvCoralMapping/lib/python3.12/site-packages/numpy/lib/nanfunctions.py:1563: RuntimeWarning: All-NaN slice encountered\n",
      "  return function_base._ureduce(a,\n"
     ]
    }
   ],
   "source": [
    "data_var_si = sediment_silicate['sediment_Si']\n",
    "time_avg_layer = data_var_si.mean(dim=\"time\", skipna=True)\n",
    "time_percentiles = data_var_si.quantile([0.1, 0.9], dim=\"time\", skipna=True)\n",
    "\n",
    "stats_array = xr.concat(\n",
    "    [time_avg_layer, time_percentiles.sel(quantile=0.1).drop_vars(\"quantile\"), \n",
    "     time_percentiles.sel(quantile=0.9).drop_vars(\"quantile\")],\n",
    "    dim=\"stat\"\n",
    ").rename(f\"sediment_silicate_features\")\n",
    "stats_array = stats_array.assign_coords(stat=[\"mean\", \"10th_percentile\", \"90th_percentile\"])\n",
    "\n",
    "stats_array.to_netcdf('/cluster/home/maikents/surface_chlorophyll/sediment_silicate_2019_2022_2023_features.nc', mode='w')"
   ]
  },
  {
   "cell_type": "code",
   "execution_count": 2,
   "id": "904e50cb-1d97-4999-8ff3-f2e612538e5f",
   "metadata": {},
   "outputs": [],
   "source": [
    "#Transform to emod grid\n",
    "nitrate = xr.open_dataset('/cluster/home/maikents/surface_chlorophyll/sediment_nitrate_2019_2022_2023_features.nc')\n",
    "silicate = xr.open_dataset('/cluster/home/maikents/surface_chlorophyll/sediment_silicate_2019_2022_2023_features.nc')"
   ]
  },
  {
   "cell_type": "code",
   "execution_count": 4,
   "id": "bea2b464-e355-4018-b1a3-05a0a0c4e73d",
   "metadata": {},
   "outputs": [
    {
     "name": "stdout",
     "output_type": "stream",
     "text": [
      "\n",
      "Horizontal resolution: 800.0 meters\n",
      "\n",
      "SINMOD CRS: +proj=stere +lat_0=90.0 +lat_ts=60.0 +lon_0=58.0 +x_0=2544800.0 +y_0=1918800.0 +a=6370000.0 +b=6370000.0 +units=m +no_defs +type=crs\n"
     ]
    }
   ],
   "source": [
    "def obtain_sinmod_crs(PhysStates_data):\n",
    "    grid_mapping = PhysStates_data['grid_mapping']  #Replace 'grid_mapping' with the correct variable name if different\n",
    "    grid_attrs = grid_mapping.attrs  \n",
    "\n",
    "    #Print horizontal resolution if available\n",
    "    horizontal_resolution = grid_attrs.get('horizontal_resolution', 'unknown')\n",
    "    print(f\"\\nHorizontal resolution: {horizontal_resolution} meters\")\n",
    "\n",
    "    #Construct the CRS using the attributes\n",
    "    crs_sinmod = CRS.from_proj4(\n",
    "        f\"+proj=stere \"\n",
    "        f\"+lat_0={grid_attrs['latitude_of_projection_origin']} \"\n",
    "        f\"+lat_ts={grid_attrs['standard_parallel']} \"\n",
    "        f\"+lon_0={grid_attrs['straight_vertical_longitude_from_pole']} \"\n",
    "        f\"+x_0={grid_attrs['false_easting']} \"\n",
    "        f\"+y_0={grid_attrs['false_northing']} \"\n",
    "        f\"+a={grid_attrs['semi_major_axis']} \"\n",
    "        f\"+b={grid_attrs['semi_minor_axis']} \"\n",
    "        f\"+units=m +no_defs\"\n",
    "    )\n",
    "\n",
    "    print(f\"\\nSINMOD CRS: {crs_sinmod}\")\n",
    "    return crs_sinmod\n",
    "\n",
    "midnor_crs = obtain_sinmod_crs(biostates_2019)\n"
   ]
  },
  {
   "cell_type": "code",
   "execution_count": 5,
   "id": "bf2c9dfb-679e-4036-a13e-1a9b943e67de",
   "metadata": {},
   "outputs": [],
   "source": [
    "#Attach the crs to the SINMOD dataset\n",
    "nitrate_sinmod = nitrate.rio.write_crs(midnor_crs)\n",
    "silicate_sinmod = silicate.rio.write_crs(midnor_crs)"
   ]
  },
  {
   "cell_type": "code",
   "execution_count": 10,
   "id": "2b1b7274-925c-452d-af36-3d553144bef9",
   "metadata": {},
   "outputs": [],
   "source": [
    "#4: Align the SINMOD data with the bathymetry\n",
    "\n",
    "tif_file = '/cluster/projects/itk-SINMOD/coral-mapping/data/raw_data/EMOD-tifs/bathymetry_32N_Clip_sample.tif'\n",
    "\n",
    "def align_SINMOD_and_bathymetry(SINMOD_features, tif_file, resampling=Resampling.bilinear):\n",
    "        \n",
    "    with rioxarray.open_rasterio(tif_file) as tif:\n",
    "\n",
    "        if 'band' in tif.dims:\n",
    "            tif = tif.isel(band=0)\n",
    "\n",
    "        SINMOD_features_reprojected = SINMOD_features.rio.reproject_match(tif, resampling=resampling)\n",
    "\n",
    "        print(SINMOD_features_reprojected.rio.bounds())\n",
    "\n",
    "        \n",
    "        sinmod_mask = SINMOD_features_reprojected['sediment_silicate_features'][0].isnull()\n",
    "\n",
    "        #Apply the mask to the EMOD data\n",
    "        tif = tif.where(~sinmod_mask, np.nan)\n",
    "\n",
    "        valid_mask = SINMOD_features_reprojected['sediment_silicate_features'][0].notnull()\n",
    "\n",
    "        valid_columns = valid_mask.any(dim=\"y\")  \n",
    "        min_col = valid_columns.argmax().item()  #First non-NaN column from the left\n",
    "        max_col = valid_columns.shape[0] - valid_columns[::-1].argmax().item() - 1  #First non-NaN column from the right\n",
    "\n",
    "        #Find the first valid row (non-NaN) from the top (min row index)\n",
    "        valid_rows = valid_mask.any(dim=\"x\")  #Check for valid values in each row\n",
    "        min_row = valid_rows.argmax().item()  #First non-NaN row from the top\n",
    "        max_row = valid_rows.shape[0] - valid_rows[::-1].argmax().item() - 1  #Adjust for reverse indexing\n",
    "\n",
    "        #Slice the raster to the bounding box of valid data\n",
    "        clipped_SINMOD_features = SINMOD_features_reprojected.isel(x=slice(min_col, max_col + 1), y=slice(min_row, max_row + 1))\n",
    "        \n",
    "        clipped_tif = tif.rio.clip_box(minx=clipped_SINMOD_features.rio.bounds()[0]+1, \n",
    "                                        miny=clipped_SINMOD_features.rio.bounds()[1], \n",
    "                                        maxx=clipped_SINMOD_features.rio.bounds()[2], \n",
    "                                        maxy=clipped_SINMOD_features.rio.bounds()[3])\n",
    "        \n",
    "        clipped_tif = clipped_tif.reset_coords(drop=True)\n",
    "\n",
    "    return clipped_SINMOD_features, clipped_tif"
   ]
  },
  {
   "cell_type": "code",
   "execution_count": 9,
   "id": "78f37267-a2e5-4a3d-a86a-21dcdc06b250",
   "metadata": {},
   "outputs": [
    {
     "name": "stdout",
     "output_type": "stream",
     "text": [
      "(-148857.58868623473, 6580002.847672726, 866884.4113137652, 7621679.847672726)\n"
     ]
    }
   ],
   "source": [
    "nitrate_features_reprojected, tif = align_SINMOD_and_bathymetry(nitrate_sinmod, tif_file)"
   ]
  },
  {
   "cell_type": "code",
   "execution_count": 11,
   "id": "9c1aed1c-b00e-4dd5-82db-e47831abfc98",
   "metadata": {},
   "outputs": [
    {
     "name": "stdout",
     "output_type": "stream",
     "text": [
      "(-148857.58868623473, 6580002.847672726, 866884.4113137652, 7621679.847672726)\n"
     ]
    }
   ],
   "source": [
    "silicate_features_reprojected, tif = align_SINMOD_and_bathymetry(silicate_sinmod, tif_file)"
   ]
  },
  {
   "cell_type": "code",
   "execution_count": 13,
   "id": "090ea7ce-b3a3-4be1-83da-32221a55c90a",
   "metadata": {},
   "outputs": [],
   "source": [
    "nitrate_features_reprojected.to_netcdf('/cluster/home/maikents/surface_chlorophyll/nitrate_features_reprojected_features_emod_grid.nc')"
   ]
  },
  {
   "cell_type": "code",
   "execution_count": 14,
   "id": "567d38ce-8943-45e7-968f-e441b635fb14",
   "metadata": {},
   "outputs": [],
   "source": [
    "silicate_features_reprojected.to_netcdf('/cluster/home/maikents/surface_chlorophyll/silicate_features_reprojected_features_emod_grid.nc')"
   ]
  },
  {
   "cell_type": "code",
   "execution_count": 2,
   "id": "f312fb78-7081-4f7f-8417-947f4d3c8212",
   "metadata": {},
   "outputs": [],
   "source": [
    "#Standardize\n",
    "nitrate_features_reprojected = xr.open_dataset('/cluster/home/maikents/surface_chlorophyll/nitrate_features_reprojected_features_emod_grid.nc')\n",
    "silicate_features_reprojected = xr.open_dataset('/cluster/home/maikents/surface_chlorophyll/silicate_features_reprojected_features_emod_grid.nc')"
   ]
  },
  {
   "cell_type": "code",
   "execution_count": 3,
   "id": "0ca6d937-3458-48ce-9b96-ec18387d7d58",
   "metadata": {},
   "outputs": [],
   "source": [
    "nitrate_mean = nitrate_features_reprojected['sediment_nitrate_features'].isel(stat=0)\n",
    "nitrate_min = nitrate_features_reprojected['sediment_nitrate_features'].isel(stat=1)\n",
    "nitrate_max = nitrate_features_reprojected['sediment_nitrate_features'].isel(stat=2)"
   ]
  },
  {
   "cell_type": "code",
   "execution_count": 4,
   "id": "9a11e4fc-b275-4145-b99d-1009e741aac2",
   "metadata": {},
   "outputs": [],
   "source": [
    "silicate_mean = silicate_features_reprojected['sediment_silicate_features'].isel(stat=0)\n",
    "silicate_min = silicate_features_reprojected['sediment_silicate_features'].isel(stat=1)\n",
    "silicate_max = silicate_features_reprojected['sediment_silicate_features'].isel(stat=2)"
   ]
  },
  {
   "cell_type": "code",
   "execution_count": 5,
   "id": "a8fe19ec-7713-4d75-9c4e-90b372945ba7",
   "metadata": {},
   "outputs": [
    {
     "name": "stdout",
     "output_type": "stream",
     "text": [
      "Standardised nitrate mean - Mean: 0.00, Std Dev: 1.00\n"
     ]
    }
   ],
   "source": [
    "#Mean nitrate\n",
    "\n",
    "nitrate_data_mean = nitrate_mean.astype(np.float32)  \n",
    "nitrate_data_mean_scaled = np.copy(nitrate_data_mean)    \n",
    "\n",
    "reshaped_nitrate_data_mean = nitrate_data_mean.values.reshape(nitrate_data_mean.shape[0], -1)  \n",
    "\n",
    "mask = np.isnan(reshaped_nitrate_data_mean)\n",
    "\n",
    "nitrate_scaler = StandardScaler()\n",
    "for i in range(reshaped_nitrate_data_mean.shape[1]):  \n",
    "    column = reshaped_nitrate_data_mean[:, i] \n",
    "    if not np.all(np.isnan(column)):  \n",
    "        reshaped_nitrate_data_mean[:, i][~mask[:, i]] = nitrate_scaler.fit_transform(column[~mask[:, i]].reshape(-1, 1)).ravel()\n",
    "\n",
    "\n",
    "reshaped_nitrate_data_mean_scaled = reshaped_nitrate_data_mean.reshape(nitrate_data_mean.shape)\n",
    "\n",
    "nitrate_data_mean_standardized = xr.DataArray(reshaped_nitrate_data_mean_scaled, dims=nitrate_mean.dims, attrs=nitrate_mean.attrs)\n",
    "\n",
    "print(f\"Standardised nitrate mean - Mean: {nitrate_data_mean_standardized.mean():.2f}, Std Dev: {nitrate_data_mean_standardized.std():.2f}\")\n",
    "\n",
    "\n",
    "nitrate_standardized = nitrate_features_reprojected.copy()\n",
    "\n",
    "nitrate_standardized['sediment_nitrate_features'].data[0, :, :] = nitrate_data_mean_standardized.data\n"
   ]
  },
  {
   "cell_type": "code",
   "execution_count": 6,
   "id": "0d21c9cb-0bd7-4249-a848-529e42e979c1",
   "metadata": {},
   "outputs": [
    {
     "name": "stdout",
     "output_type": "stream",
     "text": [
      "Standardised nitrate min - Mean: -0.00, Std Dev: 1.00\n"
     ]
    }
   ],
   "source": [
    "#Min nitrate\n",
    "\n",
    "nitrate_data_min = nitrate_min.astype(np.float32)  \n",
    "nitrate_data_min_scaled = np.copy(nitrate_data_min)    \n",
    "\n",
    "reshaped_nitrate_data_min = nitrate_data_min.values.reshape(nitrate_data_min.shape[0], -1)  \n",
    "\n",
    "mask = np.isnan(reshaped_nitrate_data_min)\n",
    "\n",
    "nitrate_scaler = StandardScaler()\n",
    "for i in range(reshaped_nitrate_data_min.shape[1]):  \n",
    "    column = reshaped_nitrate_data_min[:, i] \n",
    "    if not np.all(np.isnan(column)):  \n",
    "        reshaped_nitrate_data_min[:, i][~mask[:, i]] = nitrate_scaler.fit_transform(column[~mask[:, i]].reshape(-1, 1)).ravel()\n",
    "\n",
    "\n",
    "reshaped_nitrate_data_min_scaled = reshaped_nitrate_data_min.reshape(nitrate_data_min.shape)\n",
    "\n",
    "nitrate_data_min_standardized = xr.DataArray(reshaped_nitrate_data_min_scaled, dims=nitrate_min.dims, attrs=nitrate_min.attrs)\n",
    "\n",
    "print(f\"Standardised nitrate min - Mean: {nitrate_data_min_standardized.mean():.2f}, Std Dev: {nitrate_data_min_standardized.std():.2f}\")\n",
    "\n",
    "\n",
    "nitrate_standardized = nitrate_features_reprojected.copy()\n",
    "\n",
    "nitrate_standardized['sediment_nitrate_features'].data[1, :, :] = nitrate_data_min_standardized.data\n"
   ]
  },
  {
   "cell_type": "code",
   "execution_count": 7,
   "id": "e14fd61d-ce08-485a-a25a-8aa7692ad557",
   "metadata": {},
   "outputs": [
    {
     "name": "stdout",
     "output_type": "stream",
     "text": [
      "Standardised nitrate max - Mean: -0.00, Std Dev: 1.00\n"
     ]
    }
   ],
   "source": [
    "#Max nitrate\n",
    "\n",
    "nitrate_data_max = nitrate_max.astype(np.float32)  \n",
    "nitrate_data_max_scaled = np.copy(nitrate_data_max)    \n",
    "\n",
    "reshaped_nitrate_data_max = nitrate_data_max.values.reshape(nitrate_data_max.shape[0], -1)  \n",
    "\n",
    "mask = np.isnan(reshaped_nitrate_data_max)\n",
    "\n",
    "nitrate_scaler = StandardScaler()\n",
    "for i in range(reshaped_nitrate_data_max.shape[1]):  \n",
    "    column = reshaped_nitrate_data_max[:, i] \n",
    "    if not np.all(np.isnan(column)):  \n",
    "        reshaped_nitrate_data_max[:, i][~mask[:, i]] = nitrate_scaler.fit_transform(column[~mask[:, i]].reshape(-1, 1)).ravel()\n",
    "\n",
    "\n",
    "reshaped_nitrate_data_max_scaled = reshaped_nitrate_data_max.reshape(nitrate_data_max.shape)\n",
    "\n",
    "nitrate_data_max_standardized = xr.DataArray(reshaped_nitrate_data_max_scaled, dims=nitrate_max.dims, attrs=nitrate_max.attrs)\n",
    "\n",
    "print(f\"Standardised nitrate max - Mean: {nitrate_data_max_standardized.mean():.2f}, Std Dev: {nitrate_data_max_standardized.std():.2f}\")\n",
    "\n",
    "\n",
    "nitrate_standardized = nitrate_features_reprojected.copy()\n",
    "\n",
    "nitrate_standardized['sediment_nitrate_features'].data[2, :, :] = nitrate_data_max_standardized.data\n"
   ]
  },
  {
   "cell_type": "code",
   "execution_count": 8,
   "id": "c448dda8-b707-451d-b800-cf88166ba0cb",
   "metadata": {},
   "outputs": [],
   "source": [
    "nitrate_standardized.to_netcdf('/cluster/home/maikents/surface_chlorophyll/nitrate_2019_2022_2023_features_emod_grid_standardized.nc')"
   ]
  },
  {
   "cell_type": "code",
   "execution_count": 9,
   "id": "20a79be0-813f-416f-86f6-7b2395f04393",
   "metadata": {},
   "outputs": [
    {
     "name": "stdout",
     "output_type": "stream",
     "text": [
      "Standardised silicate mean - Mean: -0.00, Std Dev: 1.00\n"
     ]
    }
   ],
   "source": [
    "#Mean silicate\n",
    "\n",
    "silicate_data_mean = silicate_mean.astype(np.float32)  \n",
    "silicate_data_mean_scaled = np.copy(silicate_data_mean)    \n",
    "\n",
    "reshaped_silicate_data_mean = silicate_data_mean.values.reshape(silicate_data_mean.shape[0], -1)  \n",
    "\n",
    "mask = np.isnan(reshaped_silicate_data_mean)\n",
    "\n",
    "silicate_scaler = StandardScaler()\n",
    "for i in range(reshaped_silicate_data_mean.shape[1]):  \n",
    "    column = reshaped_silicate_data_mean[:, i] \n",
    "    if not np.all(np.isnan(column)):  \n",
    "        reshaped_silicate_data_mean[:, i][~mask[:, i]] = silicate_scaler.fit_transform(column[~mask[:, i]].reshape(-1, 1)).ravel()\n",
    "\n",
    "\n",
    "reshaped_silicate_data_mean_scaled = reshaped_silicate_data_mean.reshape(silicate_data_mean.shape)\n",
    "\n",
    "silicate_data_mean_standardized = xr.DataArray(reshaped_silicate_data_mean_scaled, dims=silicate_mean.dims, attrs=silicate_mean.attrs)\n",
    "\n",
    "print(f\"Standardised silicate mean - Mean: {silicate_data_mean_standardized.mean():.2f}, Std Dev: {silicate_data_mean_standardized.std():.2f}\")\n",
    "\n",
    "\n",
    "silicate_standardized = silicate_features_reprojected.copy()\n",
    "\n",
    "silicate_standardized['sediment_silicate_features'].data[0, :, :] = silicate_data_mean_standardized.data\n"
   ]
  },
  {
   "cell_type": "code",
   "execution_count": 10,
   "id": "3e6f99ff-55f9-4e5f-9fff-0a941a8b00c8",
   "metadata": {},
   "outputs": [
    {
     "name": "stdout",
     "output_type": "stream",
     "text": [
      "Standardised silicate min - Mean: -0.00, Std Dev: 1.00\n"
     ]
    }
   ],
   "source": [
    "#Min silicate\n",
    "\n",
    "silicate_data_min = silicate_min.astype(np.float32)  \n",
    "silicate_data_min_scaled = np.copy(silicate_data_min)    \n",
    "\n",
    "reshaped_silicate_data_min = silicate_data_min.values.reshape(silicate_data_min.shape[0], -1)  \n",
    "\n",
    "mask = np.isnan(reshaped_silicate_data_min)\n",
    "\n",
    "silicate_scaler = StandardScaler()\n",
    "for i in range(reshaped_silicate_data_min.shape[1]):  \n",
    "    column = reshaped_silicate_data_min[:, i] \n",
    "    if not np.all(np.isnan(column)):  \n",
    "        reshaped_silicate_data_min[:, i][~mask[:, i]] = silicate_scaler.fit_transform(column[~mask[:, i]].reshape(-1, 1)).ravel()\n",
    "\n",
    "\n",
    "reshaped_silicate_data_min_scaled = reshaped_silicate_data_min.reshape(silicate_data_min.shape)\n",
    "\n",
    "silicate_data_min_standardized = xr.DataArray(reshaped_silicate_data_min_scaled, dims=silicate_min.dims, attrs=silicate_min.attrs)\n",
    "\n",
    "print(f\"Standardised silicate min - Mean: {silicate_data_min_standardized.mean():.2f}, Std Dev: {silicate_data_min_standardized.std():.2f}\")\n",
    "\n",
    "\n",
    "silicate_standardized = silicate_features_reprojected.copy()\n",
    "\n",
    "silicate_standardized['sediment_silicate_features'].data[1, :, :] = silicate_data_min_standardized.data\n"
   ]
  },
  {
   "cell_type": "code",
   "execution_count": 11,
   "id": "91c3ecb5-5498-48e8-8799-0453112bf063",
   "metadata": {},
   "outputs": [
    {
     "name": "stdout",
     "output_type": "stream",
     "text": [
      "Standardised silicate max - Mean: -0.00, Std Dev: 1.00\n"
     ]
    }
   ],
   "source": [
    "#Max silicate\n",
    "\n",
    "silicate_data_max = silicate_max.astype(np.float32)  \n",
    "silicate_data_max_scaled = np.copy(silicate_data_max)    \n",
    "\n",
    "reshaped_silicate_data_max = silicate_data_max.values.reshape(silicate_data_max.shape[0], -1)  \n",
    "\n",
    "mask = np.isnan(reshaped_silicate_data_max)\n",
    "\n",
    "silicate_scaler = StandardScaler()\n",
    "for i in range(reshaped_silicate_data_max.shape[1]):  \n",
    "    column = reshaped_silicate_data_max[:, i] \n",
    "    if not np.all(np.isnan(column)):  \n",
    "        reshaped_silicate_data_max[:, i][~mask[:, i]] = silicate_scaler.fit_transform(column[~mask[:, i]].reshape(-1, 1)).ravel()\n",
    "\n",
    "\n",
    "reshaped_silicate_data_max_scaled = reshaped_silicate_data_max.reshape(silicate_data_max.shape)\n",
    "\n",
    "silicate_data_max_standardized = xr.DataArray(reshaped_silicate_data_max_scaled, dims=silicate_max.dims, attrs=silicate_max.attrs)\n",
    "\n",
    "print(f\"Standardised silicate max - Mean: {silicate_data_max_standardized.mean():.2f}, Std Dev: {silicate_data_max_standardized.std():.2f}\")\n",
    "\n",
    "\n",
    "silicate_standardized = silicate_features_reprojected.copy()\n",
    "\n",
    "silicate_standardized['sediment_silicate_features'].data[2, :, :] = silicate_data_max_standardized.data"
   ]
  },
  {
   "cell_type": "code",
   "execution_count": 12,
   "id": "1533f5ca-d134-431a-92f3-9f3c794b24d3",
   "metadata": {},
   "outputs": [],
   "source": [
    "silicate_standardized.to_netcdf('/cluster/home/maikents/surface_chlorophyll/silicate_2019_2022_2023_features_emod_grid_standardized.nc')"
   ]
  },
  {
   "cell_type": "code",
   "execution_count": null,
   "id": "16ab3e2e-2c49-4871-a100-22ef01de53eb",
   "metadata": {},
   "outputs": [],
   "source": []
  }
 ],
 "metadata": {
  "kernelspec": {
   "display_name": "Python 3 (ipykernel)",
   "language": "python",
   "name": "python3"
  },
  "language_info": {
   "codemirror_mode": {
    "name": "ipython",
    "version": 3
   },
   "file_extension": ".py",
   "mimetype": "text/x-python",
   "name": "python",
   "nbconvert_exporter": "python",
   "pygments_lexer": "ipython3",
   "version": "3.12.3"
  }
 },
 "nbformat": 4,
 "nbformat_minor": 5
}
