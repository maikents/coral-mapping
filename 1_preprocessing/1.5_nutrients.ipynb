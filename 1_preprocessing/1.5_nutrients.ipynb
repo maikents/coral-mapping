{
 "cells": [
  {
   "cell_type": "code",
   "execution_count": 1,
   "id": "42fade86-cb56-4887-bd2e-b0fa171ebf1f",
   "metadata": {},
   "outputs": [],
   "source": [
    "import numpy as np\n",
    "import xarray as xr\n",
    "import time \n",
    "import os\n",
    "from netCDF4 import Dataset\n",
    "from pyproj import CRS\n",
    "import rasterio\n",
    "import rioxarray\n",
    "from rasterio.enums import Resampling\n",
    "from sklearn.preprocessing import StandardScaler\n",
    "import rioxarray"
   ]
  },
  {
   "cell_type": "code",
   "execution_count": 7,
   "id": "cfa528b1-2135-4d63-9588-178671b63db8",
   "metadata": {},
   "outputs": [],
   "source": [
    "filename_biostates_2023 = '/cluster/projects/itk-SINMOD/coral-mapping/midnor/BioStates_2023.nc'\n",
    "biostates_2023 = xr.open_dataset(filename_biostates_2023)"
   ]
  },
  {
   "cell_type": "code",
   "execution_count": 3,
   "id": "0d92eae6-5894-4259-b406-d1d39cd2863e",
   "metadata": {},
   "outputs": [
    {
     "name": "stdout",
     "output_type": "stream",
     "text": [
      "['time', 'grid_mapping', 'LayerDepths', 'xc', 'yc', 'zc', 'depth', 'DXxDYy', 'nitrate', 'silicate', 'ammonium', 'diatoms', 'flagellates', 'ciliates', 'HNANO', 'bacteria', 'calanus_finmarchicus', 'calanus_glacialis', 'detritus_slow', 'detritus_fast', 'DOC', 'cDOM', 'silicate_detritus', 'sediment_Si', 'sediment_N']\n"
     ]
    }
   ],
   "source": [
    "print(list(biostates_2022.variables))"
   ]
  },
  {
   "cell_type": "code",
   "execution_count": 4,
   "id": "c6164cd3-9545-4d83-bdb6-042c32648158",
   "metadata": {
    "jupyter": {
     "source_hidden": true
    }
   },
   "outputs": [],
   "source": [
    "nitrate_2022 = biostates_2022['nitrate']\n",
    "valid_mask = ~nitrate_2022.isnull()  \n",
    "reversed_valid_mask = valid_mask.isel(zc=slice(None, None, -1))\n",
    "bottom_layer_idx_reversed = reversed_valid_mask.argmax(dim=\"zc\")\n",
    "bottom_layer_idx = valid_mask.zc.size - 1 - bottom_layer_idx_reversed\n",
    "no_valid_data_mask = valid_mask.sum(dim=\"zc\") == 0\n",
    "nitrate_bottom_layer_2022 = nitrate_2022.isel(zc=bottom_layer_idx)\n",
    "nitrate_bottom_layer_2022 = nitrate_bottom_layer_2022.where(~no_valid_data_mask, np.nan)"
   ]
  },
  {
   "cell_type": "code",
   "execution_count": 5,
   "id": "e043408d-56e7-4d01-8a7c-b388787845bb",
   "metadata": {
    "jupyter": {
     "source_hidden": true
    }
   },
   "outputs": [],
   "source": [
    "nitrate_bottom_layer_2022.to_netcdf('/cluster/home/maikents/surface_chlorophyll/nitrate_22.nc')"
   ]
  },
  {
   "cell_type": "code",
   "execution_count": 5,
   "id": "1cafb431-4022-455b-bf51-624b5603b9c3",
   "metadata": {
    "jupyter": {
     "source_hidden": true
    }
   },
   "outputs": [],
   "source": [
    "silicate_2019 = biostates_2019['silicate']\n",
    "valid_mask = ~silicate_2019.isnull()  \n",
    "reversed_valid_mask = valid_mask.isel(zc=slice(None, None, -1))\n",
    "bottom_layer_idx_reversed = reversed_valid_mask.argmax(dim=\"zc\")\n",
    "bottom_layer_idx = valid_mask.zc.size - 1 - bottom_layer_idx_reversed\n",
    "no_valid_data_mask = valid_mask.sum(dim=\"zc\") == 0\n",
    "silicate_bottom_layer_2019 = silicate_2019.isel(zc=bottom_layer_idx)\n",
    "silicate_bottom_layer_2019 = silicate_bottom_layer_2019.where(~no_valid_data_mask, np.nan)"
   ]
  },
  {
   "cell_type": "code",
   "execution_count": 6,
   "id": "8f24a99e-029c-424a-9c8f-388b5dfd875d",
   "metadata": {
    "jupyter": {
     "source_hidden": true
    }
   },
   "outputs": [],
   "source": [
    "silicate_bottom_layer_2019.to_netcdf('/cluster/home/maikents/surface_chlorophyll/silicate_19.nc')"
   ]
  },
  {
   "cell_type": "code",
   "execution_count": 8,
   "id": "211d7449-fbf0-472b-9fa6-b0e6cb1553b3",
   "metadata": {},
   "outputs": [],
   "source": [
    "sediment_nitrate_2023 = biostates_2023['sediment_N']\n",
    "sediment_nitrate_2023 = sediment_nitrate_2023.where(~sediment_nitrate_2023.isnull(), np.nan)"
   ]
  },
  {
   "cell_type": "code",
   "execution_count": 9,
   "id": "30cd27bb-8bb0-4281-96b2-c00e82370deb",
   "metadata": {},
   "outputs": [],
   "source": [
    "sediment_nitrate_2023.to_netcdf('/cluster/home/maikents/surface_chlorophyll/sediment_nitrate_23.nc')"
   ]
  },
  {
   "cell_type": "code",
   "execution_count": 10,
   "id": "4f9b7f7c-32a4-45c9-a839-2ebfd83659dc",
   "metadata": {},
   "outputs": [],
   "source": [
    "sediment_silicate_2023 = biostates_2023['sediment_Si']\n",
    "sediment_silicate_2023 = sediment_silicate_2023.where(~sediment_silicate_2023.isnull(), np.nan)"
   ]
  },
  {
   "cell_type": "code",
   "execution_count": 11,
   "id": "cb5afee8-023d-4a65-9549-395111986f54",
   "metadata": {},
   "outputs": [],
   "source": [
    "sediment_silicate_2023.to_netcdf('/cluster/home/maikents/surface_chlorophyll/sediment_silicate_23.nc')"
   ]
  },
  {
   "cell_type": "code",
   "execution_count": 3,
   "id": "fd0dd495-2fe2-47de-9b81-9c82e23f2fe0",
   "metadata": {},
   "outputs": [],
   "source": [
    "#Now combine all 3 years \n",
    "sediment_nitrate_2022 = xr.open_dataset('/cluster/home/maikents/surface_chlorophyll/sediment_nitrate_22.nc')\n",
    "sediment_nitrate_2019 = xr.open_dataset('/cluster/home/maikents/surface_chlorophyll/sediment_nitrate_19.nc')\n",
    "sediment_nitrate_2023 = xr.open_dataset('/cluster/home/maikents/surface_chlorophyll/sediment_nitrate_23.nc')"
   ]
  },
  {
   "cell_type": "code",
   "execution_count": 4,
   "id": "db171243-fcfe-41f3-a696-4642b6f4266d",
   "metadata": {},
   "outputs": [],
   "source": [
    "sediment_nitrate_2022 = sediment_nitrate_2022.isel(time=slice(0, 365))"
   ]
  },
  {
   "cell_type": "code",
   "execution_count": 5,
   "id": "6646f9fd-4db1-4d3e-899c-82b74581ecc8",
   "metadata": {},
   "outputs": [],
   "source": [
    "sediment_nitrate = xr.concat([sediment_nitrate_2019, sediment_nitrate_2022, sediment_nitrate_2023], dim=\"time\")\n",
    "\n",
    "\n",
    "sediment_nitrate.to_netcdf('/cluster/home/maikents/surface_chlorophyll/sediment_nitrate_2019_2022_2023.nc')"
   ]
  },
  {
   "cell_type": "code",
   "execution_count": 6,
   "id": "0c4db812-bdfa-4d5f-a099-b3d36e74fa0f",
   "metadata": {},
   "outputs": [],
   "source": [
    "sediment_silicate_2022 = xr.open_dataset('/cluster/home/maikents/surface_chlorophyll/sediment_silicate_22.nc')\n",
    "sediment_silicate_2019 = xr.open_dataset('/cluster/home/maikents/surface_chlorophyll/sediment_silicate_19.nc')\n",
    "sediment_silicate_2023 = xr.open_dataset('/cluster/home/maikents/surface_chlorophyll/sediment_silicate_23.nc')"
   ]
  },
  {
   "cell_type": "code",
   "execution_count": 7,
   "id": "52ae3d24-732b-4f08-96ec-c7086cf9df06",
   "metadata": {},
   "outputs": [],
   "source": [
    "sediment_silicate_2022 = sediment_silicate_2022.isel(time=slice(0, 365))"
   ]
  },
  {
   "cell_type": "code",
   "execution_count": 8,
   "id": "2be6493d-70bf-4781-96ca-09391b7dc1b9",
   "metadata": {},
   "outputs": [],
   "source": [
    "sediment_silicate = xr.concat([sediment_silicate_2019, sediment_silicate_2022, sediment_silicate_2023], dim=\"time\")\n",
    "\n",
    "\n",
    "sediment_silicate.to_netcdf('/cluster/home/maikents/surface_chlorophyll/sediment_silicate_2019_2022_2023.nc')"
   ]
  },
  {
   "cell_type": "code",
   "execution_count": 9,
   "id": "6bc0d04e-5631-41e2-a96e-8eff1312a974",
   "metadata": {},
   "outputs": [
    {
     "name": "stdout",
     "output_type": "stream",
     "text": [
      "<xarray.Dataset> Size: 2GB\n",
      "Dimensions:      (time: 1095, yc: 555, xc: 950)\n",
      "Coordinates:\n",
      "  * xc           (xc) float32 4kB 800.0 1.6e+03 2.4e+03 ... 7.592e+05 7.6e+05\n",
      "  * yc           (yc) float32 2kB 800.0 1.6e+03 2.4e+03 ... 4.432e+05 4.44e+05\n",
      "Dimensions without coordinates: time\n",
      "Data variables:\n",
      "    sediment_Si  (time, yc, xc) float32 2GB nan nan nan ... 59.41 59.48 59.58\n"
     ]
    }
   ],
   "source": [
    "print(sediment_silicate)"
   ]
  },
  {
   "cell_type": "code",
   "execution_count": 2,
   "id": "5a1f5f4e-7639-40d1-9aa2-5ec3143fde2f",
   "metadata": {},
   "outputs": [],
   "source": [
    "sediment_nitrate = xr.open_dataset('/cluster/home/maikents/surface_chlorophyll/sediment_nitrate_2019_2022_2023.nc')\n",
    "sediment_silicate = xr.open_dataset('/cluster/home/maikents/surface_chlorophyll/sediment_silicate_2019_2022_2023.nc')"
   ]
  },
  {
   "cell_type": "code",
   "execution_count": 3,
   "id": "d4ca34c6-a130-45c3-8682-3b0be0bdba5c",
   "metadata": {},
   "outputs": [
    {
     "name": "stderr",
     "output_type": "stream",
     "text": [
      "/cluster/home/maikents/PyEnvCoralMapping/lib/python3.12/site-packages/numpy/lib/nanfunctions.py:1563: RuntimeWarning: All-NaN slice encountered\n",
      "  return function_base._ureduce(a,\n"
     ]
    }
   ],
   "source": [
    "#Create min, mean and max features across time\n",
    "\n",
    "data_var_ni = sediment_nitrate['sediment_N']\n",
    "time_avg_layer = data_var_ni.mean(dim=\"time\", skipna=True)\n",
    "time_percentiles = data_var_ni.quantile([0.1, 0.9], dim=\"time\", skipna=True)\n",
    "\n",
    "stats_array = xr.concat(\n",
    "    [time_avg_layer, time_percentiles.sel(quantile=0.1).drop_vars(\"quantile\"), \n",
    "     time_percentiles.sel(quantile=0.9).drop_vars(\"quantile\")],\n",
    "    dim=\"stat\"\n",
    ").rename(f\"sediment_nitrate_features\")\n",
    "stats_array = stats_array.assign_coords(stat=[\"mean\", \"10th_percentile\", \"90th_percentile\"])\n",
    "\n",
    "stats_array.to_netcdf('/cluster/home/maikents/surface_chlorophyll/sediment_nitrate_2019_2022_2023_features.nc', mode='w')"
   ]
  },
  {
   "cell_type": "code",
   "execution_count": 4,
   "id": "1d15e522-e903-47a2-a76c-2ef7d91c9a8f",
   "metadata": {},
   "outputs": [
    {
     "name": "stderr",
     "output_type": "stream",
     "text": [
      "/cluster/home/maikents/PyEnvCoralMapping/lib/python3.12/site-packages/numpy/lib/nanfunctions.py:1563: RuntimeWarning: All-NaN slice encountered\n",
      "  return function_base._ureduce(a,\n"
     ]
    }
   ],
   "source": [
    "data_var_si = sediment_silicate['sediment_Si']\n",
    "time_avg_layer = data_var_si.mean(dim=\"time\", skipna=True)\n",
    "time_percentiles = data_var_si.quantile([0.1, 0.9], dim=\"time\", skipna=True)\n",
    "\n",
    "stats_array = xr.concat(\n",
    "    [time_avg_layer, time_percentiles.sel(quantile=0.1).drop_vars(\"quantile\"), \n",
    "     time_percentiles.sel(quantile=0.9).drop_vars(\"quantile\")],\n",
    "    dim=\"stat\"\n",
    ").rename(f\"sediment_silicate_features\")\n",
    "stats_array = stats_array.assign_coords(stat=[\"mean\", \"10th_percentile\", \"90th_percentile\"])\n",
    "\n",
    "stats_array.to_netcdf('/cluster/home/maikents/surface_chlorophyll/sediment_silicate_2019_2022_2023_features.nc', mode='w')"
   ]
  },
  {
   "cell_type": "code",
   "execution_count": null,
   "id": "904e50cb-1d97-4999-8ff3-f2e612538e5f",
   "metadata": {},
   "outputs": [],
   "source": [
    "l"
   ]
  }
 ],
 "metadata": {
  "kernelspec": {
   "display_name": "Python 3 (ipykernel)",
   "language": "python",
   "name": "python3"
  },
  "language_info": {
   "codemirror_mode": {
    "name": "ipython",
    "version": 3
   },
   "file_extension": ".py",
   "mimetype": "text/x-python",
   "name": "python",
   "nbconvert_exporter": "python",
   "pygments_lexer": "ipython3",
   "version": "3.12.3"
  }
 },
 "nbformat": 4,
 "nbformat_minor": 5
}
