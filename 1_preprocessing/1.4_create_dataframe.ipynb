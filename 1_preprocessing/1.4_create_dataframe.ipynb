{
 "cells": [
  {
   "cell_type": "code",
   "execution_count": 1,
   "id": "e6d3ad1e-f203-4118-aad9-346978ded3fa",
   "metadata": {},
   "outputs": [],
   "source": [
    "import matplotlib.pyplot as plt\n",
    "import numpy as np\n",
    "import matplotlib.pyplot as plt \n",
    "import netCDF4 as nc\n",
    "from netCDF4 import Dataset\n",
    "import geopandas as gpd\n",
    "import pandas as pd\n",
    "import seaborn as sns\n",
    "import random\n",
    "from sklearn.model_selection import train_test_split\n",
    "import xarray as xr"
   ]
  },
  {
   "cell_type": "code",
   "execution_count": 2,
   "id": "808bb23d-13ac-45c0-b8c8-89924d9f439a",
   "metadata": {},
   "outputs": [],
   "source": [
    "# Import all standardized features \n",
    "\n",
    "sinmod = xr.open_dataset('/cluster/home/maikents/features_midnor_2019/ready_for_training/SINMOD_bottom_features_emod_grid_standardized.nc')\n",
    "current_aspect_angle = xr.open_dataset('/cluster/home/maikents/features_midnor_2019/ready_for_training/standardized_single_features/standardized_current_aspect_angle.nc')\n",
    "emod = xr.open_dataset('/cluster/home/maikents/features_midnor_2019/ready_for_training/EMOD_standardized.nc')\n"
   ]
  },
  {
   "cell_type": "code",
   "execution_count": 3,
   "id": "1c636da9-f9af-43b9-a85c-48fd54aabb3d",
   "metadata": {},
   "outputs": [
    {
     "name": "stdout",
     "output_type": "stream",
     "text": [
      "Index(['x', 'y', 'aspect_cos', 'aspect_sin', 'bathymetry', 'broad_BPI',\n",
      "       'fine_BPI', 'log_ruggedness', 'slope'],\n",
      "      dtype='object')\n"
     ]
    }
   ],
   "source": [
    "# EMOD first\n",
    "emod_df = emod.to_dataframe().reset_index()\n",
    "print(emod_df.columns)\n",
    "emod_df = emod_df.dropna()\n"
   ]
  },
  {
   "cell_type": "code",
   "execution_count": 5,
   "id": "0e98cb65-d05d-4a14-a1cc-cf6e941e8ecf",
   "metadata": {},
   "outputs": [],
   "source": [
    "# Get the \"stats sinmod features\"\n",
    "\n",
    "mean = sinmod.sel(stat='mean')\n",
    "minimum = sinmod.sel(stat='10th_percentile')\n",
    "maximum = sinmod.sel(stat='90th_percentile')\n",
    "\n",
    "mean_data_df = mean.to_dataframe().reset_index()\n",
    "min_data_df = minimum.to_dataframe().reset_index()\n",
    "max_data_df = maximum.to_dataframe().reset_index()\n",
    "\n",
    "mean_data_df = mean_data_df.rename(columns={col: f\"{col}_mean\" for col in mean_data_df.columns if col not in ['x', 'y']})\n",
    "min_data_df = min_data_df.rename(columns={col: f\"{col}_10th_percentile\" for col in min_data_df.columns if col not in ['x', 'y']})\n",
    "max_data_df = max_data_df.rename(columns={col: f\"{col}_90th_percentile\" for col in max_data_df.columns if col not in ['x', 'y']})\n",
    "\n"
   ]
  },
  {
   "cell_type": "code",
   "execution_count": 6,
   "id": "119ea62f-8910-4b16-8761-3988ea1abbd2",
   "metadata": {},
   "outputs": [
    {
     "name": "stdout",
     "output_type": "stream",
     "text": [
      "['stat', 'x', 'y', 'spatial_ref', 'bottom_temperature_sundahl_features', 'bottom_salinity_features', 'bottom_current_features', 'bottom_statistical_northness_features', 'bottom_statistical_eastness_features']\n"
     ]
    }
   ],
   "source": [
    "print(list(sinmod.variables))"
   ]
  },
  {
   "cell_type": "code",
   "execution_count": 6,
   "id": "dcfb49fe-97a4-4514-8663-ee9e882cf2a4",
   "metadata": {},
   "outputs": [],
   "source": [
    "sinmod_df = sinmod[['x', 'y', 'bottom_temperature_sundahl_features', 'bottom_salinity_features',\n",
    "                                  'bottom_current_features', 'bottom_statistical_northness_features',\n",
    "                                  'bottom_statistical_eastness_features']].to_dataframe().reset_index()\n"
   ]
  },
  {
   "cell_type": "code",
   "execution_count": 7,
   "id": "26a25d2d-8144-4a04-b775-102638f90cde",
   "metadata": {},
   "outputs": [],
   "source": [
    "sinmod_df['current_aspect_angle'] = current_aspect_angle"
   ]
  },
  {
   "cell_type": "code",
   "execution_count": 8,
   "id": "ad1f3c2c-ccb2-4436-a271-2454bce1c5f4",
   "metadata": {},
   "outputs": [],
   "source": [
    "sinmod_df = sinmod_df.dropna()"
   ]
  },
  {
   "cell_type": "code",
   "execution_count": 12,
   "id": "de9ff2c0-df1f-4979-9e7c-5e30756f2fa7",
   "metadata": {},
   "outputs": [
    {
     "name": "stdout",
     "output_type": "stream",
     "text": [
      "Index(['x', 'y', 'stat_mean', 'spatial_ref_mean',\n",
      "       'bottom_temperature_sundahl_features_mean',\n",
      "       'bottom_salinity_features_mean', 'bottom_current_features_mean',\n",
      "       'bottom_statistical_northness_features_mean',\n",
      "       'bottom_statistical_eastness_features_mean'],\n",
      "      dtype='object')\n",
      "Index(['x', 'y', 'stat_10th_percentile', 'spatial_ref_10th_percentile',\n",
      "       'bottom_temperature_sundahl_features_10th_percentile',\n",
      "       'bottom_salinity_features_10th_percentile',\n",
      "       'bottom_current_features_10th_percentile',\n",
      "       'bottom_statistical_northness_features_10th_percentile',\n",
      "       'bottom_statistical_eastness_features_10th_percentile'],\n",
      "      dtype='object')\n",
      "Index(['x', 'y', 'stat_90th_percentile', 'spatial_ref_90th_percentile',\n",
      "       'bottom_temperature_sundahl_features_90th_percentile',\n",
      "       'bottom_salinity_features_90th_percentile',\n",
      "       'bottom_current_features_90th_percentile',\n",
      "       'bottom_statistical_northness_features_90th_percentile',\n",
      "       'bottom_statistical_eastness_features_90th_percentile'],\n",
      "      dtype='object')\n"
     ]
    }
   ],
   "source": [
    "print(mean_data_df.columns)\n",
    "print(min_data_df.columns)\n",
    "print(max_data_df.columns)"
   ]
  },
  {
   "cell_type": "code",
   "execution_count": 13,
   "id": "c8fffcba-4bc7-4b96-8420-fa7271e950b2",
   "metadata": {},
   "outputs": [],
   "source": [
    "mean_data_df = mean_data_df.drop(['stat_mean', 'spatial_ref_mean', 'bottom_statistical_northness_features_mean','bottom_statistical_eastness_features_mean'], axis=1)\n",
    "min_data_df = min_data_df.drop(['stat_10th_percentile', 'spatial_ref_10th_percentile', 'bottom_statistical_northness_features_10th_percentile', 'bottom_statistical_eastness_features_10th_percentile', 'bottom_current_features_10th_percentile'], axis=1)\n",
    "max_data_df = max_data_df.drop(['stat_90th_percentile', 'spatial_ref_90th_percentile','bottom_statistical_northness_features_90th_percentile', 'bottom_statistical_eastness_features_90th_percentile'], axis=1)"
   ]
  },
  {
   "cell_type": "code",
   "execution_count": 20,
   "id": "325dc90a-3c8c-4a6e-ad04-6fb18b2885a4",
   "metadata": {},
   "outputs": [
    {
     "name": "stdout",
     "output_type": "stream",
     "text": [
      "Index(['x', 'y', 'stat', 'bottom_temperature_sundahl_features',\n",
      "       'bottom_salinity_features', 'bottom_current_features',\n",
      "       'bottom_statistical_northness_features',\n",
      "       'bottom_statistical_eastness_features', 'current_aspect_angle'],\n",
      "      dtype='object')\n"
     ]
    }
   ],
   "source": [
    "print(sinmod_df.columns)"
   ]
  },
  {
   "cell_type": "code",
   "execution_count": 21,
   "id": "d507a5e6-c60b-4fe4-8e77-a99755a10980",
   "metadata": {},
   "outputs": [],
   "source": [
    "sinmod_df = sinmod_df.merge(mean_data_df, on=['x', 'y'], suffixes=('', '_mean'))"
   ]
  },
  {
   "cell_type": "code",
   "execution_count": 22,
   "id": "47d96437-82ed-47d1-a589-d23e619e4498",
   "metadata": {},
   "outputs": [],
   "source": [
    "sinmod_df = sinmod_df.merge(min_data_df, on=['x', 'y'], suffixes=('_mean', '_10th_percentile'))"
   ]
  },
  {
   "cell_type": "code",
   "execution_count": 23,
   "id": "2fd1ea55-b923-49c0-93d2-6da7c2b228b6",
   "metadata": {},
   "outputs": [],
   "source": [
    "sinmod_df = sinmod_df.merge(max_data_df, on=['x', 'y'], suffixes=('_10th_percentile', '_90th_percentile'))"
   ]
  },
  {
   "cell_type": "code",
   "execution_count": 25,
   "id": "b0a21f8c-7794-4914-9ea1-392f556b5657",
   "metadata": {},
   "outputs": [],
   "source": [
    "sinmod_df = sinmod_df.dropna(axis=0, how='any')"
   ]
  },
  {
   "cell_type": "code",
   "execution_count": 29,
   "id": "840158de-01ab-4ce0-8c78-05ba536b6070",
   "metadata": {},
   "outputs": [],
   "source": [
    "total_df = sinmod_df.merge(emod_df, on=['x', 'y'])"
   ]
  },
  {
   "cell_type": "code",
   "execution_count": 30,
   "id": "ad015bab-d456-4ac6-a11a-2c032899cc87",
   "metadata": {},
   "outputs": [
    {
     "name": "stdout",
     "output_type": "stream",
     "text": [
      "Index(['x', 'y', 'stat', 'bottom_temperature_sundahl_features',\n",
      "       'bottom_salinity_features', 'bottom_current_features',\n",
      "       'bottom_statistical_northness_features',\n",
      "       'bottom_statistical_eastness_features', 'current_aspect_angle',\n",
      "       'bottom_temperature_sundahl_features_mean',\n",
      "       'bottom_salinity_features_mean', 'bottom_current_features_mean',\n",
      "       'bottom_temperature_sundahl_features_10th_percentile',\n",
      "       'bottom_salinity_features_10th_percentile',\n",
      "       'bottom_temperature_sundahl_features_90th_percentile',\n",
      "       'bottom_salinity_features_90th_percentile',\n",
      "       'bottom_current_features_90th_percentile', 'aspect_cos', 'aspect_sin',\n",
      "       'bathymetry', 'broad_BPI', 'fine_BPI', 'log_ruggedness', 'slope'],\n",
      "      dtype='object')\n"
     ]
    }
   ],
   "source": [
    "print(total_df.columns)"
   ]
  },
  {
   "cell_type": "code",
   "execution_count": null,
   "id": "3d543619-006b-490a-bc8b-fc4900e81628",
   "metadata": {},
   "outputs": [],
   "source": [
    "total_df.to_parquet('/cluster/home/maikents/coral-mapping/processed_data/env_df_no_nan.parquet')"
   ]
  }
 ],
 "metadata": {
  "kernelspec": {
   "display_name": "Python 3 (ipykernel)",
   "language": "python",
   "name": "python3"
  },
  "language_info": {
   "codemirror_mode": {
    "name": "ipython",
    "version": 3
   },
   "file_extension": ".py",
   "mimetype": "text/x-python",
   "name": "python",
   "nbconvert_exporter": "python",
   "pygments_lexer": "ipython3",
   "version": "3.12.3"
  }
 },
 "nbformat": 4,
 "nbformat_minor": 5
}
