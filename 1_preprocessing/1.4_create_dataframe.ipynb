{
 "cells": [
  {
   "cell_type": "code",
   "execution_count": 1,
   "id": "e6d3ad1e-f203-4118-aad9-346978ded3fa",
   "metadata": {},
   "outputs": [],
   "source": [
    "import matplotlib.pyplot as plt\n",
    "import numpy as np\n",
    "import matplotlib.pyplot as plt \n",
    "import netCDF4 as nc\n",
    "from netCDF4 import Dataset\n",
    "import geopandas as gpd\n",
    "import pandas as pd\n",
    "import seaborn as sns\n",
    "import random\n",
    "from sklearn.model_selection import train_test_split\n",
    "import xarray as xr"
   ]
  },
  {
   "cell_type": "code",
   "execution_count": 2,
   "id": "808bb23d-13ac-45c0-b8c8-89924d9f439a",
   "metadata": {},
   "outputs": [],
   "source": [
    "# Import all standardized features \n",
    "\n",
    "sinmod = xr.open_dataset('/cluster/home/maikents/features_midnor_2019/ready_for_training/SINMOD_bottom_features_emod_grid_standardized.nc')\n",
    "current_aspect_angle = xr.open_dataset('/cluster/home/maikents/features_midnor_2019/ready_for_training/standardized_single_features/standardized_current_aspect_angle.nc')\n",
    "emod = xr.open_dataset('/cluster/home/maikents/features_midnor_2019/ready_for_training/EMOD_standardized.nc')\n"
   ]
  },
  {
   "cell_type": "code",
   "execution_count": 3,
   "id": "1c636da9-f9af-43b9-a85c-48fd54aabb3d",
   "metadata": {},
   "outputs": [
    {
     "name": "stdout",
     "output_type": "stream",
     "text": [
      "Index(['x', 'y', 'aspect_cos', 'aspect_sin', 'bathymetry', 'broad_BPI',\n",
      "       'fine_BPI', 'log_ruggedness', 'slope'],\n",
      "      dtype='object')\n"
     ]
    }
   ],
   "source": [
    "# EMOD first\n",
    "emod_df = emod.to_dataframe().reset_index()\n",
    "print(emod_df.columns)\n",
    "emod_df = emod_df.dropna()\n"
   ]
  },
  {
   "cell_type": "code",
   "execution_count": 4,
   "id": "82e911b6-f94b-4619-aff1-90cc3029c396",
   "metadata": {},
   "outputs": [],
   "source": [
    "#Rename x and y columns to prevent mixup with sinmod\n",
    "emod_df = emod_df.rename(columns={\n",
    "    'x': 'x_emod',\n",
    "    'y': 'y_emod',\n",
    "})"
   ]
  },
  {
   "cell_type": "code",
   "execution_count": 5,
   "id": "0e98cb65-d05d-4a14-a1cc-cf6e941e8ecf",
   "metadata": {},
   "outputs": [],
   "source": [
    "# Get the \"stats sinmod features\"\n",
    "\n",
    "mean = sinmod.sel(stat='mean')\n",
    "minimum = sinmod.sel(stat='10th_percentile')\n",
    "maximum = sinmod.sel(stat='90th_percentile')\n",
    "\n",
    "mean_data_df = mean.to_dataframe().reset_index()\n",
    "min_data_df = minimum.to_dataframe().reset_index()\n",
    "max_data_df = maximum.to_dataframe().reset_index()\n",
    "\n",
    "mean_data_df = mean_data_df.rename(columns={col: f\"{col}_mean\" for col in mean_data_df.columns if col not in ['x', 'y']})\n",
    "min_data_df = min_data_df.rename(columns={col: f\"{col}_10th_percentile\" for col in min_data_df.columns if col not in ['x', 'y']})\n",
    "max_data_df = max_data_df.rename(columns={col: f\"{col}_90th_percentile\" for col in max_data_df.columns if col not in ['x', 'y']})\n",
    "\n"
   ]
  },
  {
   "cell_type": "code",
   "execution_count": 6,
   "id": "119ea62f-8910-4b16-8761-3988ea1abbd2",
   "metadata": {},
   "outputs": [
    {
     "name": "stdout",
     "output_type": "stream",
     "text": [
      "['stat', 'x', 'y', 'spatial_ref', 'bottom_temperature_sundahl_features', 'bottom_salinity_features', 'bottom_current_features', 'bottom_statistical_northness_features', 'bottom_statistical_eastness_features']\n"
     ]
    }
   ],
   "source": [
    "print(list(sinmod.variables))"
   ]
  },
  {
   "cell_type": "code",
   "execution_count": null,
   "id": "dcfb49fe-97a4-4514-8663-ee9e882cf2a4",
   "metadata": {},
   "outputs": [],
   "source": [
    "sinmod_df = sinmod[['x', 'y', 'bottom_temperature_sundahl_features', 'bottom_salinity_features',\n",
    "                                  'bottom_current_features', 'bottom_statistical_northness_features',\n",
    "                                  'bottom_statistical_eastness_features']].to_dataframe().reset_index()\n"
   ]
  },
  {
   "cell_type": "code",
   "execution_count": null,
   "id": "26a25d2d-8144-4a04-b775-102638f90cde",
   "metadata": {},
   "outputs": [],
   "source": [
    "sinmod_df['current_aspect_angle'] = current_aspect_angle"
   ]
  },
  {
   "cell_type": "code",
   "execution_count": null,
   "id": "ad1f3c2c-ccb2-4436-a271-2454bce1c5f4",
   "metadata": {},
   "outputs": [],
   "source": [
    "sinmod_df = sinmod_df.dropna()"
   ]
  },
  {
   "cell_type": "code",
   "execution_count": null,
   "id": "ccae4d14-7514-4215-a0a1-f023ff8102ef",
   "metadata": {},
   "outputs": [],
   "source": [
    "#Rename x and y columns to prevent mixup with emod\n",
    "sinmod_df = sinmod_df.rename(columns={\n",
    "    'x': 'x_sinmod',\n",
    "    'y': 'y_sinmod',\n",
    "})"
   ]
  }
 ],
 "metadata": {
  "kernelspec": {
   "display_name": "Python 3 (ipykernel)",
   "language": "python",
   "name": "python3"
  },
  "language_info": {
   "codemirror_mode": {
    "name": "ipython",
    "version": 3
   },
   "file_extension": ".py",
   "mimetype": "text/x-python",
   "name": "python",
   "nbconvert_exporter": "python",
   "pygments_lexer": "ipython3",
   "version": "3.12.3"
  }
 },
 "nbformat": 4,
 "nbformat_minor": 5
}
