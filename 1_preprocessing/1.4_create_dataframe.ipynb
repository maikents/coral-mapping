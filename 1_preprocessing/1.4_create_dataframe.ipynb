{
 "cells": [
  {
   "cell_type": "code",
   "execution_count": 1,
   "id": "e6d3ad1e-f203-4118-aad9-346978ded3fa",
   "metadata": {},
   "outputs": [],
   "source": [
    "import matplotlib.pyplot as plt\n",
    "import numpy as np\n",
    "import matplotlib.pyplot as plt \n",
    "import netCDF4 as nc\n",
    "from netCDF4 import Dataset\n",
    "import geopandas as gpd\n",
    "import pandas as pd\n",
    "import seaborn as sns\n",
    "import random\n",
    "from sklearn.model_selection import train_test_split\n",
    "import xarray as xr"
   ]
  },
  {
   "cell_type": "code",
   "execution_count": 4,
   "id": "808bb23d-13ac-45c0-b8c8-89924d9f439a",
   "metadata": {},
   "outputs": [],
   "source": [
    "# Import all standardized features \n",
    "\n",
    "sinmod = xr.open_dataset('/cluster/home/maikents/features_midnor_2019/ready_for_training/SINMOD_bottom_features_emod_grid_standardized.nc')\n",
    "current_aspect_angle = xr.open_dataset('/cluster/home/maikents/features_midnor_2019/ready_for_training/standardized_single_features/standardized_current_aspect_angle.nc')\n",
    "emod = xr.open_dataset('/cluster/home/maikents/features_midnor_2019/ready_for_training/EMOD_standardized.nc')\n"
   ]
  },
  {
   "cell_type": "code",
   "execution_count": null,
   "id": "0e98cb65-d05d-4a14-a1cc-cf6e941e8ecf",
   "metadata": {},
   "outputs": [],
   "source": [
    "# Get the \"stats sinmod features\"\n",
    "\n",
    "mean = sinmod.sel(stat='mean')\n",
    "minimum = sinmod.sel(stat='10th_percentile')\n",
    "maximum = sinmod.sel(stat='90th_percentile')\n",
    "\n",
    "mean_data_df = mean.to_dataframe().reset_index()\n",
    "min_data_df = minimum.to_dataframe().reset_index()\n",
    "max_data_df = maximum.to_dataframe().reset_index()\n",
    "\n",
    "mean_data_df = mean_data_df.rename(columns={col: f\"{col}_mean\" for col in mean_data_df.columns if col not in ['x', 'y']})\n",
    "min_data_df = min_data_df.rename(columns={col: f\"{col}_10th_percentile\" for col in min_data_df.columns if col not in ['x', 'y']})\n",
    "max_data_df = max_data_df.rename(columns={col: f\"{col}_90th_percentile\" for col in max_data_df.columns if col not in ['x', 'y']})\n",
    "\n"
   ]
  },
  {
   "cell_type": "code",
   "execution_count": null,
   "id": "119ea62f-8910-4b16-8761-3988ea1abbd2",
   "metadata": {},
   "outputs": [],
   "source": []
  }
 ],
 "metadata": {
  "kernelspec": {
   "display_name": "Python 3 (ipykernel)",
   "language": "python",
   "name": "python3"
  },
  "language_info": {
   "codemirror_mode": {
    "name": "ipython",
    "version": 3
   },
   "file_extension": ".py",
   "mimetype": "text/x-python",
   "name": "python",
   "nbconvert_exporter": "python",
   "pygments_lexer": "ipython3",
   "version": "3.12.3"
  }
 },
 "nbformat": 4,
 "nbformat_minor": 5
}
