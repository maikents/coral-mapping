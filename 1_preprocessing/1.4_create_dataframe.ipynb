{
 "cells": [
  {
   "cell_type": "code",
   "execution_count": 1,
   "id": "e6d3ad1e-f203-4118-aad9-346978ded3fa",
   "metadata": {},
   "outputs": [],
   "source": [
    "import matplotlib.pyplot as plt\n",
    "import numpy as np\n",
    "import matplotlib.pyplot as plt \n",
    "import netCDF4 as nc\n",
    "from netCDF4 import Dataset\n",
    "import geopandas as gpd\n",
    "import pandas as pd\n",
    "import random\n",
    "import xarray as xr"
   ]
  },
  {
   "cell_type": "code",
   "execution_count": 2,
   "id": "808bb23d-13ac-45c0-b8c8-89924d9f439a",
   "metadata": {},
   "outputs": [],
   "source": [
    "# Import all standardized features \n",
    "\n",
    "sinmod = xr.open_dataset('/cluster/home/maikents/features_midnor_2019/ready_for_training/SINMOD_bottom_features_emod_grid_standardized.nc')\n",
    "\n",
    "emod = xr.open_dataset('/cluster/home/maikents/features_midnor_2019/ready_for_training/EMOD_standardized.nc')\n"
   ]
  },
  {
   "cell_type": "code",
   "execution_count": 3,
   "id": "1c636da9-f9af-43b9-a85c-48fd54aabb3d",
   "metadata": {},
   "outputs": [
    {
     "name": "stdout",
     "output_type": "stream",
     "text": [
      "Index(['x', 'y', 'aspect_cos', 'aspect_sin', 'bathymetry', 'broad_BPI',\n",
      "       'fine_BPI', 'log_ruggedness', 'slope'],\n",
      "      dtype='object')\n"
     ]
    }
   ],
   "source": [
    "# EMOD first\n",
    "emod_df = emod.to_dataframe().reset_index()\n",
    "print(emod_df.columns)"
   ]
  },
  {
   "cell_type": "code",
   "execution_count": 4,
   "id": "119ea62f-8910-4b16-8761-3988ea1abbd2",
   "metadata": {},
   "outputs": [
    {
     "name": "stdout",
     "output_type": "stream",
     "text": [
      "['stat', 'x', 'y', 'spatial_ref', 'bottom_temperature_sundahl_features', 'bottom_salinity_features', 'bottom_current_features', 'bottom_statistical_northness_features', 'bottom_statistical_eastness_features']\n"
     ]
    }
   ],
   "source": [
    "print(list(sinmod.variables))"
   ]
  },
  {
   "cell_type": "code",
   "execution_count": 4,
   "id": "dcfb49fe-97a4-4514-8663-ee9e882cf2a4",
   "metadata": {},
   "outputs": [],
   "source": [
    "sinmod_df = sinmod[['x', 'y', 'bottom_temperature_sundahl_features', 'bottom_salinity_features',\n",
    "                                  'bottom_current_features', 'bottom_statistical_northness_features',\n",
    "                                  'bottom_statistical_eastness_features']].to_dataframe().reset_index()\n"
   ]
  },
  {
   "cell_type": "code",
   "execution_count": 5,
   "id": "364cfdbe-d877-4507-8e7f-090f0e478bb0",
   "metadata": {},
   "outputs": [],
   "source": [
    "#Create mean, min and max features for desired variables\n",
    "sinmod_df['temperature_sundahl_mean'] = sinmod_df['bottom_temperature_sundahl_features'].mean()\n",
    "sinmod_df['temperature_sundahl_10th_percentile'] = sinmod_df['bottom_temperature_sundahl_features'].quantile(0.1)\n",
    "sinmod_df['temperature_sundahl_90th_percentile'] = sinmod_df['bottom_temperature_sundahl_features'].quantile(0.9)"
   ]
  },
  {
   "cell_type": "code",
   "execution_count": 6,
   "id": "d0f5e91a-87af-484d-9641-d3e227d80ccc",
   "metadata": {},
   "outputs": [],
   "source": [
    "sinmod_df['salinity_mean'] = sinmod_df['bottom_salinity_features'].mean()\n",
    "sinmod_df['salinity_10th_percentile'] = sinmod_df['bottom_salinity_features'].quantile(0.1)\n",
    "sinmod_df['salinity_90th_percentile'] = sinmod_df['bottom_salinity_features'].quantile(0.9)"
   ]
  },
  {
   "cell_type": "code",
   "execution_count": 7,
   "id": "1f8878b0-8083-4996-a73f-a962029b08c5",
   "metadata": {},
   "outputs": [],
   "source": [
    "sinmod_df['current_mean'] = sinmod_df['bottom_current_features'].mean()\n",
    "sinmod_df['current_10th_percentile'] = sinmod_df['bottom_current_features'].quantile(0.1)\n",
    "sinmod_df['current_90th_percentile'] = sinmod_df['bottom_current_features'].quantile(0.9)"
   ]
  },
  {
   "cell_type": "code",
   "execution_count": 14,
   "id": "caa152c3-4e45-449b-9882-9917023cfb31",
   "metadata": {},
   "outputs": [
    {
     "name": "stdout",
     "output_type": "stream",
     "text": [
      "Index(['x', 'y', 'stat', 'bottom_temperature_sundahl_features',\n",
      "       'bottom_salinity_features', 'bottom_current_features',\n",
      "       'bottom_statistical_northness_features',\n",
      "       'bottom_statistical_eastness_features', 'temperature_sundahl_mean',\n",
      "       'temperature_sundahl_10th_percentile',\n",
      "       'temperature_sundahl_90th_percentile', 'salinity_mean',\n",
      "       'salinity_10th_percentile', 'salinity_90th_percentile', 'current_mean',\n",
      "       'current_10th_percentile', 'current_90th_percentile'],\n",
      "      dtype='object')\n"
     ]
    }
   ],
   "source": [
    "print(sinmod_df.columns)"
   ]
  },
  {
   "cell_type": "code",
   "execution_count": 8,
   "id": "d3f0d7e3-ea84-4cf2-b0f7-ab68c880cf63",
   "metadata": {},
   "outputs": [],
   "source": [
    "sinmod_df = sinmod_df.drop(['stat', 'bottom_temperature_sundahl_features','bottom_salinity_features', 'bottom_current_features' ], axis=1)"
   ]
  },
  {
   "cell_type": "code",
   "execution_count": 9,
   "id": "325dc90a-3c8c-4a6e-ad04-6fb18b2885a4",
   "metadata": {},
   "outputs": [
    {
     "name": "stdout",
     "output_type": "stream",
     "text": [
      "Index(['x', 'y', 'bottom_statistical_northness_features',\n",
      "       'bottom_statistical_eastness_features', 'temperature_sundahl_mean',\n",
      "       'temperature_sundahl_10th_percentile',\n",
      "       'temperature_sundahl_90th_percentile', 'salinity_mean',\n",
      "       'salinity_10th_percentile', 'salinity_90th_percentile', 'current_mean',\n",
      "       'current_10th_percentile', 'current_90th_percentile'],\n",
      "      dtype='object')\n"
     ]
    }
   ],
   "source": [
    "print(sinmod_df.columns)"
   ]
  },
  {
   "cell_type": "code",
   "execution_count": null,
   "id": "840158de-01ab-4ce0-8c78-05ba536b6070",
   "metadata": {},
   "outputs": [],
   "source": [
    "total_df = sinmod_df.merge(emod_df, on=['x', 'y'])"
   ]
  },
  {
   "cell_type": "code",
   "execution_count": 30,
   "id": "ad015bab-d456-4ac6-a11a-2c032899cc87",
   "metadata": {},
   "outputs": [
    {
     "name": "stdout",
     "output_type": "stream",
     "text": [
      "Index(['x', 'y', 'stat', 'bottom_temperature_sundahl_features',\n",
      "       'bottom_salinity_features', 'bottom_current_features',\n",
      "       'bottom_statistical_northness_features',\n",
      "       'bottom_statistical_eastness_features', 'current_aspect_angle',\n",
      "       'bottom_temperature_sundahl_features_mean',\n",
      "       'bottom_salinity_features_mean', 'bottom_current_features_mean',\n",
      "       'bottom_temperature_sundahl_features_10th_percentile',\n",
      "       'bottom_salinity_features_10th_percentile',\n",
      "       'bottom_temperature_sundahl_features_90th_percentile',\n",
      "       'bottom_salinity_features_90th_percentile',\n",
      "       'bottom_current_features_90th_percentile', 'aspect_cos', 'aspect_sin',\n",
      "       'bathymetry', 'broad_BPI', 'fine_BPI', 'log_ruggedness', 'slope'],\n",
      "      dtype='object')\n"
     ]
    }
   ],
   "source": [
    "print(total_df.columns)"
   ]
  },
  {
   "cell_type": "code",
   "execution_count": null,
   "id": "84c2a266-b0e5-4cf8-b466-15b207c928af",
   "metadata": {},
   "outputs": [],
   "source": [
    "#sinmod_df = sinmod_df.dropna()\n",
    "#emod_df = emod_df.dropna()\n"
   ]
  },
  {
   "cell_type": "code",
   "execution_count": 31,
   "id": "3d543619-006b-490a-bc8b-fc4900e81628",
   "metadata": {},
   "outputs": [],
   "source": [
    "total_df.to_parquet('/cluster/home/maikents/features_midnor_2019/ready_for_training/total_df.parquet')"
   ]
  },
  {
   "cell_type": "code",
   "execution_count": 36,
   "id": "3e0a27a3-2351-4cfe-9721-ca412b032cda",
   "metadata": {},
   "outputs": [],
   "source": [
    "#To open later: total_df = pd.read_parquet('/cluster/home/maikents/features_midnor_2019/ready_for_training/total_df.parquet')"
   ]
  }
 ],
 "metadata": {
  "kernelspec": {
   "display_name": "Python 3 (ipykernel)",
   "language": "python",
   "name": "python3"
  },
  "language_info": {
   "codemirror_mode": {
    "name": "ipython",
    "version": 3
   },
   "file_extension": ".py",
   "mimetype": "text/x-python",
   "name": "python",
   "nbconvert_exporter": "python",
   "pygments_lexer": "ipython3",
   "version": "3.12.3"
  }
 },
 "nbformat": 4,
 "nbformat_minor": 5
}
