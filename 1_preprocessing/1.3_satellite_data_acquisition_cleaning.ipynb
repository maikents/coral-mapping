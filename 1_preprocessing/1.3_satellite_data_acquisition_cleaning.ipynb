{
 "cells": [
  {
   "cell_type": "code",
   "execution_count": 1,
   "id": "02f4cdad-cefe-422b-83a5-11ac1878b5dc",
   "metadata": {},
   "outputs": [],
   "source": [
    "import numpy as np\n",
    "import xarray as xr\n",
    "from netCDF4 import Dataset\n",
    "import pandas as pd\n",
    "import matplotlib.pyplot as plt\n",
    "import netCDF4 as nc\n",
    "import os\n",
    "import glob\n",
    "import re"
   ]
  },
  {
   "cell_type": "code",
   "execution_count": 2,
   "id": "47d26f95-17b7-4e2c-b6e4-a1990837e6d5",
   "metadata": {
    "collapsed": true,
    "jupyter": {
     "outputs_hidden": true
    }
   },
   "outputs": [
    {
     "name": "stdout",
     "output_type": "stream",
     "text": [
      "new folder\n",
      "new folder\n",
      "new folder\n",
      "went through all files\n"
     ]
    }
   ],
   "source": [
    "folder_paths = ['/cluster/home/maikents/satellite_data/MODISA_L3m_CHL_R2022.0-20250317_094824', '/cluster/home/maikents/satellite_data/MODISA_L3m_CHL_R2022.0-20250317_104942', '/cluster/home/maikents/satellite_data/MODISA_L3m_CHL_R2022.0-20250317_102335']\n",
    "\n",
    "chlor_a_data_list = []\n",
    "\n",
    "for folder_path in folder_paths:\n",
    "    print(\"new folder\")\n",
    "    nc_files = [f for f in os.listdir(folder_path) if f.endswith('.nc')]\n",
    "    for file_name in nc_files:\n",
    "        file_path = os.path.join(folder_path, file_name)\n",
    "        \n",
    "        dataset = xr.open_dataset(file_path)\n",
    "\n",
    "        chlor_a_data_list.append(dataset['chlor_a'])\n",
    "\n",
    "        dataset.close()\n",
    "\n",
    "print(\"went through all files\")"
   ]
  },
  {
   "cell_type": "code",
   "execution_count": 12,
   "id": "6a1eaeb5-5af4-40ae-8395-1d32954473df",
   "metadata": {
    "collapsed": true,
    "jupyter": {
     "outputs_hidden": true
    }
   },
   "outputs": [
    {
     "name": "stdout",
     "output_type": "stream",
     "text": [
      "Processed chunk 1 of 18\n",
      "Processed chunk 2 of 18\n",
      "Processed chunk 3 of 18\n",
      "Processed chunk 4 of 18\n",
      "Processed chunk 5 of 18\n",
      "Processed chunk 6 of 18\n",
      "Processed chunk 7 of 18\n",
      "Processed chunk 8 of 18\n",
      "Processed chunk 9 of 18\n",
      "Processed chunk 10 of 18\n",
      "Processed chunk 11 of 18\n",
      "Processed chunk 12 of 18\n",
      "Processed chunk 13 of 18\n",
      "Processed chunk 14 of 18\n",
      "Processed chunk 15 of 18\n",
      "Processed chunk 16 of 18\n",
      "Processed chunk 17 of 18\n",
      "Processed chunk 18 of 18\n"
     ]
    }
   ],
   "source": [
    "chunk_size = 20 \n",
    "\n",
    "concatenated_chlor_a = None\n",
    "\n",
    "for i in range(0, len(chlor_a_data_list), chunk_size):\n",
    "    chunk = chlor_a_data_list[i:i+chunk_size]\n",
    "    chunk_concat = xr.concat(chunk, dim='time')\n",
    "    \n",
    "    if concatenated_chlor_a is None:\n",
    "        concatenated_chlor_a = chunk_concat\n",
    "    else:\n",
    "        concatenated_chlor_a = xr.concat([concatenated_chlor_a, chunk_concat], dim='time')\n",
    "\n",
    "\n"
   ]
  },
  {
   "cell_type": "code",
   "execution_count": 13,
   "id": "e9e0ff5c-9223-411e-b70b-7d2cf705ba1d",
   "metadata": {},
   "outputs": [],
   "source": [
    "output_file1 = '/cluster/home/maikents/satellite_data/chunks/chlor3.nc'\n",
    "concatenated_chlor_a.to_netcdf(output_file1)"
   ]
  },
  {
   "cell_type": "code",
   "execution_count": 21,
   "id": "c8f5980d-68a6-4b1d-9a2a-3e10d7bd4fa3",
   "metadata": {},
   "outputs": [
    {
     "name": "stdout",
     "output_type": "stream",
     "text": [
      "<xarray.Dataset> Size: 161GB\n",
      "Dimensions:  (time: 1081, lat: 4320, lon: 8640)\n",
      "Coordinates:\n",
      "  * lat      (lat) float32 17kB 89.98 89.94 89.9 89.85 ... -89.9 -89.94 -89.98\n",
      "  * lon      (lon) float32 35kB -180.0 -179.9 -179.9 ... 179.9 179.9 180.0\n",
      "Dimensions without coordinates: time\n",
      "Data variables:\n",
      "    chlor_a  (time, lat, lon) float32 161GB dask.array<chunksize=(23, 288, 576), meta=np.ndarray>\n"
     ]
    }
   ],
   "source": [
    "import xarray as xr\n",
    "\n",
    "file_paths = [\n",
    "    '/cluster/home/maikents/satellite_data/chunks/chlor1.nc',\n",
    "    '/cluster/home/maikents/satellite_data/chunks/chlor2.nc',\n",
    "    '/cluster/home/maikents/satellite_data/chunks/chlor3.nc'\n",
    "]\n",
    "\n",
    "concatenated_chlor_a = xr.open_mfdataset(file_paths, combine='nested', concat_dim='time')\n",
    "\n",
    "print(concatenated_chlor_a)"
   ]
  },
  {
   "cell_type": "code",
   "execution_count": null,
   "id": "71139127-d142-4389-8199-ad3c6fb8d881",
   "metadata": {},
   "outputs": [],
   "source": [
    "concatenated_chlor_a.to_netcdf('/cluster/home/maikents/satellite_data/concatenated_chlor_a')"
   ]
  },
  {
   "cell_type": "code",
   "execution_count": 16,
   "id": "f95e3cff-80ce-4f8e-bcef-9371854e144c",
   "metadata": {},
   "outputs": [
    {
     "name": "stderr",
     "output_type": "stream",
     "text": [
      "/cluster/home/maikents/PyEnvCoralMapping/lib/python3.12/site-packages/numpy/lib/_nanfunctions_impl.py:1620: RuntimeWarning: All-NaN slice encountered\n",
      "  return fnb._ureduce(a,\n",
      "\n",
      "KeyboardInterrupt\n",
      "\n"
     ]
    }
   ],
   "source": [
    "import xarray as xr\n",
    "#denne!!\n",
    "# Assuming concatenated_chlor_a is the concatenated chlorophyll data across time\n",
    "\n",
    "# Calculate the mean across the time dimension\n",
    "mean_chl = concatenated_chlor_a.mean(dim='time')\n",
    "\n",
    "# Calculate the 10th percentile (min) across the time dimension\n",
    "percentile_10 = concatenated_chlor_a.quantile(0.1, dim='time')\n",
    "\n",
    "# Calculate the 90th percentile (max) across the time dimension\n",
    "percentile_90 = concatenated_chlor_a.quantile(0.9, dim='time')\n",
    "\n",
    "# Ensure that all variables (mean_chl, percentile_10, percentile_90) have the same coordinates\n",
    "# Extract the coordinates from the original dataset\n",
    "coords = {'lat': concatenated_chlor_a['lat'], 'lon': concatenated_chlor_a['lon']}\n",
    "\n",
    "# Create a new xarray Dataset to hold the results\n",
    "features = xr.Dataset({\n",
    "    'mean_chl': (['lat', 'lon'], mean_chl),\n",
    "    'percentile_10': (['lat', 'lon'], percentile_10),\n",
    "    'percentile_90': (['lat', 'lon'], percentile_90)\n",
    "}, coords=coords)\n",
    "\n",
    "# Print the dataset structure to verify it contains the correct data\n",
    "print(features)\n",
    "\n",
    "# Optionally, save the dataset to a new NetCDF file for future use\n",
    "features.to_netcdf('/cluster/home/maikents/satellite_data/satellite_features.nc')\n",
    "\n",
    "print(\"Features (mean, 10th percentile, 90th percentile) saved\")\n"
   ]
  }
 ],
 "metadata": {
  "kernelspec": {
   "display_name": "Python 3 (ipykernel)",
   "language": "python",
   "name": "python3"
  },
  "language_info": {
   "codemirror_mode": {
    "name": "ipython",
    "version": 3
   },
   "file_extension": ".py",
   "mimetype": "text/x-python",
   "name": "python",
   "nbconvert_exporter": "python",
   "pygments_lexer": "ipython3",
   "version": "3.12.3"
  }
 },
 "nbformat": 4,
 "nbformat_minor": 5
}
