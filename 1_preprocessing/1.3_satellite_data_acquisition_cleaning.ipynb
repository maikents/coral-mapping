{
 "cells": [
  {
   "cell_type": "code",
   "execution_count": 13,
   "id": "02f4cdad-cefe-422b-83a5-11ac1878b5dc",
   "metadata": {},
   "outputs": [],
   "source": [
    "import numpy as np\n",
    "import xarray as xr\n",
    "from netCDF4 import Dataset\n",
    "import pandas as pd\n",
    "import matplotlib.pyplot as plt\n",
    "import netCDF4 as nc\n",
    "import os\n",
    "import glob\n",
    "import re"
   ]
  },
  {
   "cell_type": "code",
   "execution_count": null,
   "id": "47d26f95-17b7-4e2c-b6e4-a1990837e6d5",
   "metadata": {},
   "outputs": [
    {
     "name": "stdout",
     "output_type": "stream",
     "text": [
      "new folder\n"
     ]
    }
   ],
   "source": [
    "folder_paths = ['/cluster/home/maikents/satellite_data/MODISA_L3m_CHL_R2022.0-20250317_094824', '/cluster/home/maikents/satellite_data/MODISA_L3m_CHL_R2022.0-20250317_104942', '/cluster/home/maikents/satellite_data/MODISA_L3m_CHL_R2022.0-20250317_102335']\n",
    "\n",
    "chlor_a_data_list = []\n",
    "\n",
    "for folder_path in folder_paths:\n",
    "    print(\"new folder\")\n",
    "    nc_files = [f for f in os.listdir(folder_path) if f.endswith('.nc')]\n",
    "    for file_name in nc_files:\n",
    "        file_path = os.path.join(folder_path, file_name)\n",
    "        \n",
    "        dataset = xr.open_dataset(file_path)\n",
    "\n",
    "        chlor_a_data_list.append(dataset['chlor_a'])\n",
    "\n",
    "        dataset.close()\n",
    "\n",
    "print(\"went through all files\")"
   ]
  },
  {
   "cell_type": "code",
   "execution_count": 5,
   "id": "ed9459d7-9b54-49c3-bae6-fa90d4022358",
   "metadata": {},
   "outputs": [
    {
     "name": "stdout",
     "output_type": "stream",
     "text": [
      "109\n"
     ]
    }
   ],
   "source": [
    "chunk_size = 10\n",
    "n_chunks = int(np.ceil(len(chlor_a_data_list) / chunk_size))\n",
    "\n",
    "print(n_chunks)\n"
   ]
  },
  {
   "cell_type": "code",
   "execution_count": 6,
   "id": "ef3dc0ce-e3f6-4116-8f20-721ff2400a88",
   "metadata": {
    "collapsed": true,
    "jupyter": {
     "outputs_hidden": true
    }
   },
   "outputs": [
    {
     "name": "stdout",
     "output_type": "stream",
     "text": [
      "Chunk 1 concatenation completed.\n",
      "Chunk 2 concatenation completed.\n",
      "Chunk 3 concatenation completed.\n",
      "Chunk 4 concatenation completed.\n",
      "Chunk 5 concatenation completed.\n",
      "Chunk 6 concatenation completed.\n",
      "Chunk 7 concatenation completed.\n",
      "Chunk 8 concatenation completed.\n",
      "Chunk 9 concatenation completed.\n",
      "Chunk 10 concatenation completed.\n",
      "Chunk 11 concatenation completed.\n",
      "Chunk 12 concatenation completed.\n",
      "Chunk 13 concatenation completed.\n",
      "Chunk 14 concatenation completed.\n",
      "Chunk 15 concatenation completed.\n",
      "Chunk 16 concatenation completed.\n",
      "Chunk 17 concatenation completed.\n",
      "Chunk 18 concatenation completed.\n",
      "Chunk 19 concatenation completed.\n",
      "Chunk 20 concatenation completed.\n",
      "Chunk 21 concatenation completed.\n",
      "Chunk 22 concatenation completed.\n",
      "Chunk 23 concatenation completed.\n",
      "Chunk 24 concatenation completed.\n",
      "Chunk 25 concatenation completed.\n",
      "Chunk 26 concatenation completed.\n",
      "Chunk 27 concatenation completed.\n",
      "Chunk 28 concatenation completed.\n",
      "Chunk 29 concatenation completed.\n",
      "Chunk 30 concatenation completed.\n",
      "Chunk 31 concatenation completed.\n",
      "Chunk 32 concatenation completed.\n",
      "Chunk 33 concatenation completed.\n",
      "Chunk 34 concatenation completed.\n",
      "Chunk 35 concatenation completed.\n",
      "Chunk 36 concatenation completed.\n"
     ]
    }
   ],
   "source": [
    "concatenated_result1 = None\n",
    "for i in range(0,36):\n",
    "    chunk = chlor_a_data_list[i * chunk_size: (i + 1) * chunk_size]\n",
    "\n",
    "    chunk_concat = xr.concat(chunk, dim='time')\n",
    "\n",
    "    if concatenated_result1 is None:\n",
    "        concatenated_result1 = chunk_concat\n",
    "    else:\n",
    "        concatenated_result1 = xr.concat([concatenated_result1, chunk_concat], dim='time')\n",
    "\n",
    "    print(f\"Chunk {i + 1} concatenation completed.\")"
   ]
  },
  {
   "cell_type": "code",
   "execution_count": null,
   "id": "bcdac296-5c0f-4b42-adaa-f999ee47bb44",
   "metadata": {},
   "outputs": [],
   "source": [
    "output_file1 = '/cluster/home/maikents/satellite_data/chunks/chunk1.nc'\n",
    "concatenated_result1.to_netcdf(output_file1)"
   ]
  },
  {
   "cell_type": "code",
   "execution_count": null,
   "id": "fed1c61a-1487-4fb1-be9b-270639786c4a",
   "metadata": {},
   "outputs": [],
   "source": [
    "concatenated_result2 = None\n",
    "for i in range(37,72):\n",
    "    chunk = chlor_a_data_list[i * chunk_size: (i + 1) * chunk_size]\n",
    "\n",
    "    chunk_concat = xr.concat(chunk, dim='time')\n",
    "\n",
    "    if concatenated_result2 is None:\n",
    "        concatenated_result2 = chunk_concat\n",
    "    else:\n",
    "        concatenated_result2 = xr.concat([concatenated_result2, chunk_concat], dim='time')\n",
    "\n",
    "    print(f\"Chunk {i + 1} concatenation completed.\")"
   ]
  },
  {
   "cell_type": "code",
   "execution_count": null,
   "id": "66163195-d6cb-4446-807c-47ae9d333c77",
   "metadata": {},
   "outputs": [],
   "source": [
    "output_file2 = '/cluster/home/maikents/satellite_data/chunks/chunk2.nc'\n",
    "concatenated_result2.to_netcdf(output_file2)"
   ]
  },
  {
   "cell_type": "code",
   "execution_count": null,
   "id": "6b912ad3-73e8-4265-ade1-83756c9a853e",
   "metadata": {},
   "outputs": [],
   "source": [
    "concatenated_result3 = None\n",
    "for i in range(73,109):\n",
    "    chunk = chlor_a_data_list[i * chunk_size: (i + 1) * chunk_size]\n",
    "\n",
    "    chunk_concat = xr.concat(chunk, dim='time')\n",
    "\n",
    "    if concatenated_result3 is None:\n",
    "        concatenated_result3 = chunk_concat\n",
    "    else:\n",
    "        concatenated_result3 = xr.concat([concatenated_result3, chunk_concat], dim='time')\n",
    "\n",
    "    print(f\"Chunk {i + 1} concatenation completed.\")"
   ]
  },
  {
   "cell_type": "code",
   "execution_count": null,
   "id": "f2f77365-f36d-43d4-a514-517268686d86",
   "metadata": {},
   "outputs": [],
   "source": [
    "concatenated_result = xr.concat([concatenated_result1, concatenated_result2, concatenated_result3], dim='time')"
   ]
  },
  {
   "cell_type": "code",
   "execution_count": null,
   "id": "a5f49e06-10da-49bc-a1d6-dd0eb300d36c",
   "metadata": {},
   "outputs": [],
   "source": [
    "chl_time_avg = concatenated_result.mean(dim='time')\n",
    "print(\"averaged data\")\n"
   ]
  },
  {
   "cell_type": "code",
   "execution_count": null,
   "id": "4e20c092-44fe-42f6-a2ff-2931bf9197f8",
   "metadata": {},
   "outputs": [],
   "source": [
    "output_file = '/cluster/home/maikents/satellite_data/chlorophyll_time_avg.nc'\n",
    "chl_time_avg.to_netcdf(output_file)\n",
    "\n",
    "\n",
    "print(f\"Time-averaged chlorophyll data saved to {output_file}\")\n",
    "\n",
    "\"\"\"\n",
    "The output of the time-averaged chlorophyll data will look like this:\n",
    "Dimensions: (lat, lon)\n",
    "Data: Each point on the grid will have the average chlorophyll concentration over the period you’re averaging (in this case, across three years).\n",
    "\"\"\""
   ]
  }
 ],
 "metadata": {
  "kernelspec": {
   "display_name": "Python 3 (ipykernel)",
   "language": "python",
   "name": "python3"
  },
  "language_info": {
   "codemirror_mode": {
    "name": "ipython",
    "version": 3
   },
   "file_extension": ".py",
   "mimetype": "text/x-python",
   "name": "python",
   "nbconvert_exporter": "python",
   "pygments_lexer": "ipython3",
   "version": "3.12.3"
  }
 },
 "nbformat": 4,
 "nbformat_minor": 5
}
