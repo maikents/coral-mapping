{
 "cells": [
  {
   "cell_type": "code",
   "execution_count": 1,
   "id": "02f4cdad-cefe-422b-83a5-11ac1878b5dc",
   "metadata": {},
   "outputs": [],
   "source": [
    "import numpy as np\n",
    "import xarray as xr\n",
    "from netCDF4 import Dataset\n",
    "import pandas as pd\n",
    "import matplotlib.pyplot as plt\n",
    "import netCDF4 as nc\n",
    "import os\n",
    "import glob\n",
    "import re\n",
    "from pyproj import CRS, Transformer\n",
    "import os\n",
    "import matplotlib.colors as mcolors\n",
    "import xarray as xr\n",
    "import rasterio\n",
    "import rioxarray\n",
    "from rasterio.enums import Resampling\n"
   ]
  },
  {
   "cell_type": "code",
   "execution_count": 2,
   "id": "5b7aa324-25be-403d-bd29-d6bd264d74ca",
   "metadata": {},
   "outputs": [],
   "source": [
    "from sklearn.preprocessing import StandardScaler\n"
   ]
  },
  {
   "cell_type": "code",
   "execution_count": 2,
   "id": "47d26f95-17b7-4e2c-b6e4-a1990837e6d5",
   "metadata": {
    "collapsed": true,
    "jupyter": {
     "outputs_hidden": true
    }
   },
   "outputs": [
    {
     "name": "stdout",
     "output_type": "stream",
     "text": [
      "new folder\n",
      "new folder\n",
      "new folder\n",
      "went through all files\n"
     ]
    }
   ],
   "source": [
    "folder_paths = ['/cluster/home/maikents/satellite_data/MODISA_L3m_CHL_R2022.0-20250317_094824', '/cluster/home/maikents/satellite_data/MODISA_L3m_CHL_R2022.0-20250317_104942', '/cluster/home/maikents/satellite_data/MODISA_L3m_CHL_R2022.0-20250317_102335']\n",
    "\n",
    "chlor_a_data_list = []\n",
    "\n",
    "for folder_path in folder_paths:\n",
    "    print(\"new folder\")\n",
    "    nc_files = [f for f in os.listdir(folder_path) if f.endswith('.nc')]\n",
    "    for file_name in nc_files:\n",
    "        file_path = os.path.join(folder_path, file_name)\n",
    "        \n",
    "        dataset = xr.open_dataset(file_path)\n",
    "\n",
    "        chlor_a_data_list.append(dataset['chlor_a'])\n",
    "\n",
    "        dataset.close()\n",
    "\n",
    "print(\"went through all files\")"
   ]
  },
  {
   "cell_type": "code",
   "execution_count": 12,
   "id": "6a1eaeb5-5af4-40ae-8395-1d32954473df",
   "metadata": {
    "collapsed": true,
    "jupyter": {
     "outputs_hidden": true
    }
   },
   "outputs": [
    {
     "name": "stdout",
     "output_type": "stream",
     "text": [
      "Processed chunk 1 of 18\n",
      "Processed chunk 2 of 18\n",
      "Processed chunk 3 of 18\n",
      "Processed chunk 4 of 18\n",
      "Processed chunk 5 of 18\n",
      "Processed chunk 6 of 18\n",
      "Processed chunk 7 of 18\n",
      "Processed chunk 8 of 18\n",
      "Processed chunk 9 of 18\n",
      "Processed chunk 10 of 18\n",
      "Processed chunk 11 of 18\n",
      "Processed chunk 12 of 18\n",
      "Processed chunk 13 of 18\n",
      "Processed chunk 14 of 18\n",
      "Processed chunk 15 of 18\n",
      "Processed chunk 16 of 18\n",
      "Processed chunk 17 of 18\n",
      "Processed chunk 18 of 18\n"
     ]
    }
   ],
   "source": [
    "chunk_size = 20 \n",
    "\n",
    "concatenated_chlor_a = None\n",
    "\n",
    "for i in range(0, len(chlor_a_data_list), chunk_size):\n",
    "    chunk = chlor_a_data_list[i:i+chunk_size]\n",
    "    chunk_concat = xr.concat(chunk, dim='time')\n",
    "    \n",
    "    if concatenated_chlor_a is None:\n",
    "        concatenated_chlor_a = chunk_concat\n",
    "    else:\n",
    "        concatenated_chlor_a = xr.concat([concatenated_chlor_a, chunk_concat], dim='time')\n",
    "\n",
    "\n"
   ]
  },
  {
   "cell_type": "code",
   "execution_count": 13,
   "id": "e9e0ff5c-9223-411e-b70b-7d2cf705ba1d",
   "metadata": {},
   "outputs": [],
   "source": [
    "output_file1 = '/cluster/home/maikents/satellite_data/chunks/chlor3.nc'\n",
    "concatenated_chlor_a.to_netcdf(output_file1)"
   ]
  },
  {
   "cell_type": "code",
   "execution_count": null,
   "id": "c8f5980d-68a6-4b1d-9a2a-3e10d7bd4fa3",
   "metadata": {},
   "outputs": [],
   "source": [
    "import xarray as xr\n",
    "\n",
    "file_paths = [\n",
    "    '/cluster/home/maikents/satellite_data/chunks/chlor1.nc',\n",
    "    '/cluster/home/maikents/satellite_data/chunks/chlor2.nc',\n",
    "    '/cluster/home/maikents/satellite_data/chunks/chlor3.nc'\n",
    "]\n",
    "\n",
    "concatenated_chlor_a = xr.open_mfdataset(file_paths, combine='nested', concat_dim='time')\n",
    "\n",
    "print(concatenated_chlor_a)"
   ]
  },
  {
   "cell_type": "code",
   "execution_count": 6,
   "id": "9231ee2f-6ec9-451f-9c7e-6edf3e0eb291",
   "metadata": {
    "collapsed": true,
    "jupyter": {
     "outputs_hidden": true
    }
   },
   "outputs": [
    {
     "name": "stderr",
     "output_type": "stream",
     "text": [
      "/cluster/home/maikents/PyEnvCoralMapping/lib/python3.12/site-packages/numpy/lib/_nanfunctions_impl.py:1620: RuntimeWarning: All-NaN slice encountered\n",
      "  return fnb._ureduce(a,\n",
      "/cluster/home/maikents/PyEnvCoralMapping/lib/python3.12/site-packages/numpy/lib/_nanfunctions_impl.py:1620: RuntimeWarning: All-NaN slice encountered\n",
      "  return fnb._ureduce(a,\n",
      "/cluster/home/maikents/PyEnvCoralMapping/lib/python3.12/site-packages/numpy/lib/_nanfunctions_impl.py:1620: RuntimeWarning: All-NaN slice encountered\n",
      "  return fnb._ureduce(a,\n",
      "/cluster/home/maikents/PyEnvCoralMapping/lib/python3.12/site-packages/numpy/lib/_nanfunctions_impl.py:1620: RuntimeWarning: All-NaN slice encountered\n",
      "  return fnb._ureduce(a,\n",
      "/cluster/home/maikents/PyEnvCoralMapping/lib/python3.12/site-packages/numpy/lib/_nanfunctions_impl.py:1620: RuntimeWarning: All-NaN slice encountered\n",
      "  return fnb._ureduce(a,\n",
      "/cluster/home/maikents/PyEnvCoralMapping/lib/python3.12/site-packages/numpy/lib/_nanfunctions_impl.py:1620: RuntimeWarning: All-NaN slice encountered\n",
      "  return fnb._ureduce(a,\n",
      "/cluster/home/maikents/PyEnvCoralMapping/lib/python3.12/site-packages/numpy/lib/_nanfunctions_impl.py:1620: RuntimeWarning: All-NaN slice encountered\n",
      "  return fnb._ureduce(a,\n",
      "/cluster/home/maikents/PyEnvCoralMapping/lib/python3.12/site-packages/numpy/lib/_nanfunctions_impl.py:1620: RuntimeWarning: All-NaN slice encountered\n",
      "  return fnb._ureduce(a,\n",
      "/cluster/home/maikents/PyEnvCoralMapping/lib/python3.12/site-packages/numpy/lib/_nanfunctions_impl.py:1620: RuntimeWarning: All-NaN slice encountered\n",
      "  return fnb._ureduce(a,\n",
      "/cluster/home/maikents/PyEnvCoralMapping/lib/python3.12/site-packages/numpy/lib/_nanfunctions_impl.py:1620: RuntimeWarning: All-NaN slice encountered\n",
      "  return fnb._ureduce(a,\n",
      "/cluster/home/maikents/PyEnvCoralMapping/lib/python3.12/site-packages/numpy/lib/_nanfunctions_impl.py:1620: RuntimeWarning: All-NaN slice encountered\n",
      "  return fnb._ureduce(a,\n",
      "/cluster/home/maikents/PyEnvCoralMapping/lib/python3.12/site-packages/numpy/lib/_nanfunctions_impl.py:1620: RuntimeWarning: All-NaN slice encountered\n",
      "  return fnb._ureduce(a,\n",
      "/cluster/home/maikents/PyEnvCoralMapping/lib/python3.12/site-packages/numpy/lib/_nanfunctions_impl.py:1620: RuntimeWarning: All-NaN slice encountered\n",
      "  return fnb._ureduce(a,\n",
      "/cluster/home/maikents/PyEnvCoralMapping/lib/python3.12/site-packages/numpy/lib/_nanfunctions_impl.py:1620: RuntimeWarning: All-NaN slice encountered\n",
      "  return fnb._ureduce(a,\n",
      "/cluster/home/maikents/PyEnvCoralMapping/lib/python3.12/site-packages/numpy/lib/_nanfunctions_impl.py:1620: RuntimeWarning: All-NaN slice encountered\n",
      "  return fnb._ureduce(a,\n",
      "/cluster/home/maikents/PyEnvCoralMapping/lib/python3.12/site-packages/numpy/lib/_nanfunctions_impl.py:1620: RuntimeWarning: All-NaN slice encountered\n",
      "  return fnb._ureduce(a,\n",
      "/cluster/home/maikents/PyEnvCoralMapping/lib/python3.12/site-packages/numpy/lib/_nanfunctions_impl.py:1620: RuntimeWarning: All-NaN slice encountered\n",
      "  return fnb._ureduce(a,\n",
      "/cluster/home/maikents/PyEnvCoralMapping/lib/python3.12/site-packages/numpy/lib/_nanfunctions_impl.py:1620: RuntimeWarning: All-NaN slice encountered\n",
      "  return fnb._ureduce(a,\n",
      "/cluster/home/maikents/PyEnvCoralMapping/lib/python3.12/site-packages/numpy/lib/_nanfunctions_impl.py:1620: RuntimeWarning: All-NaN slice encountered\n",
      "  return fnb._ureduce(a,\n",
      "/cluster/home/maikents/PyEnvCoralMapping/lib/python3.12/site-packages/numpy/lib/_nanfunctions_impl.py:1620: RuntimeWarning: All-NaN slice encountered\n",
      "  return fnb._ureduce(a,\n",
      "/cluster/home/maikents/PyEnvCoralMapping/lib/python3.12/site-packages/numpy/lib/_nanfunctions_impl.py:1620: RuntimeWarning: All-NaN slice encountered\n",
      "  return fnb._ureduce(a,\n",
      "/cluster/home/maikents/PyEnvCoralMapping/lib/python3.12/site-packages/numpy/lib/_nanfunctions_impl.py:1620: RuntimeWarning: All-NaN slice encountered\n",
      "  return fnb._ureduce(a,\n",
      "/cluster/home/maikents/PyEnvCoralMapping/lib/python3.12/site-packages/numpy/lib/_nanfunctions_impl.py:1620: RuntimeWarning: All-NaN slice encountered\n",
      "  return fnb._ureduce(a,\n",
      "/cluster/home/maikents/PyEnvCoralMapping/lib/python3.12/site-packages/numpy/lib/_nanfunctions_impl.py:1620: RuntimeWarning: All-NaN slice encountered\n",
      "  return fnb._ureduce(a,\n",
      "/cluster/home/maikents/PyEnvCoralMapping/lib/python3.12/site-packages/numpy/lib/_nanfunctions_impl.py:1620: RuntimeWarning: All-NaN slice encountered\n",
      "  return fnb._ureduce(a,\n",
      "/cluster/home/maikents/PyEnvCoralMapping/lib/python3.12/site-packages/numpy/lib/_nanfunctions_impl.py:1620: RuntimeWarning: All-NaN slice encountered\n",
      "  return fnb._ureduce(a,\n",
      "/cluster/home/maikents/PyEnvCoralMapping/lib/python3.12/site-packages/numpy/lib/_nanfunctions_impl.py:1620: RuntimeWarning: All-NaN slice encountered\n",
      "  return fnb._ureduce(a,\n"
     ]
    }
   ],
   "source": [
    "concatenated_chlor_a.to_netcdf('/cluster/home/maikents/satellite_data/chlor_a_midnor_all_time_steps.nc')"
   ]
  },
  {
   "cell_type": "code",
   "execution_count": 3,
   "id": "8d627e55-6e53-46e0-8639-b0cb2d2d9bb2",
   "metadata": {},
   "outputs": [],
   "source": [
    "concatenated_chlor_a = xr.open_dataset('/cluster/home/maikents/satellite_data/chlor_a_midnor_all_time_steps.nc')"
   ]
  },
  {
   "cell_type": "code",
   "execution_count": 4,
   "id": "ceedd9ee-36eb-4af6-bc63-d75713e9b02f",
   "metadata": {},
   "outputs": [
    {
     "name": "stdout",
     "output_type": "stream",
     "text": [
      "<xarray.Dataset> Size: 336MB\n",
      "Dimensions:  (time: 1081, lat: 191, lon: 407)\n",
      "Coordinates:\n",
      "  * lat      (lat) float32 764B 67.94 67.9 67.85 67.81 ... 60.1 60.06 60.02\n",
      "  * lon      (lon) float32 2kB -1.896 -1.854 -1.812 -1.771 ... 14.94 14.98 15.02\n",
      "Dimensions without coordinates: time\n",
      "Data variables:\n",
      "    chlor_a  (time, lat, lon) float32 336MB ...\n"
     ]
    }
   ],
   "source": [
    "print(concatenated_chlor_a)"
   ]
  },
  {
   "cell_type": "code",
   "execution_count": 5,
   "id": "ed319796-763f-4188-b05c-3f4f43856874",
   "metadata": {},
   "outputs": [],
   "source": [
    "filename_jan_jun = '/cluster/projects/itk-SINMOD/coral-mapping/midnor/samp_2D_jan_jun.nc'\n",
    "\n",
    "jan_jun_data = xr.open_dataset(filename_jan_jun)"
   ]
  },
  {
   "cell_type": "code",
   "execution_count": 14,
   "id": "70fce4ac-820f-4115-aec7-e584248e2a89",
   "metadata": {},
   "outputs": [],
   "source": [
    "min_lat = jan_jun_data.gridLats.min().item()\n",
    "max_lat = jan_jun_data.gridLats.max().item()\n",
    "min_lon = jan_jun_data.gridLons.min().item()\n",
    "max_lon = jan_jun_data.gridLons.max().item()\n",
    "\n",
    "concatenated_chlor_a = concatenated_chlor_a.sel(\n",
    "    lat=slice(max_lat, min_lat),  \n",
    "    lon=slice(min_lon, max_lon)\n",
    ")"
   ]
  },
  {
   "cell_type": "code",
   "execution_count": 19,
   "id": "1a0dc929-3133-42de-a73c-9e57627d1cd4",
   "metadata": {},
   "outputs": [],
   "source": [
    "concatenated_chlor_a['chlor_a'] = concatenated_chlor_a['chlor_a'].clip(max=10)"
   ]
  },
  {
   "cell_type": "code",
   "execution_count": 23,
   "id": "29a21f7f-014d-4d42-9b4b-17eadca1c800",
   "metadata": {},
   "outputs": [
    {
     "name": "stderr",
     "output_type": "stream",
     "text": [
      "/cluster/home/maikents/PyEnvCoralMapping/lib/python3.12/site-packages/numpy/lib/_nanfunctions_impl.py:1620: RuntimeWarning: All-NaN slice encountered\n",
      "  return fnb._ureduce(a,\n"
     ]
    }
   ],
   "source": [
    "import xarray as xr\n",
    "\n",
    "#Combine timesteps. We will now have three features: chlor a mean, chlor a min, and chlor a max \n",
    "\n",
    "chlor_a_mean = concatenated_chlor_a['chlor_a'].mean(dim='time').compute()  #Mean \n",
    "chlor_a_min = concatenated_chlor_a['chlor_a'].quantile(0.1, dim='time').compute() #10th percentile\n",
    "chlor_a_max = concatenated_chlor_a['chlor_a'].quantile(0.9, dim='time').compute() #90th percentile\n",
    "\n",
    "mean_dataset = xr.Dataset(\n",
    "    {\n",
    "        'chlor_a_mean': chlor_a_mean\n",
    "    },\n",
    "    coords={\n",
    "        'lat': chlor_a_mean.coords['lat'],\n",
    "        'lon': chlor_a_mean.coords['lon']\n",
    "    }\n",
    ")\n",
    "\n",
    "min_dataset = xr.Dataset(\n",
    "    {\n",
    "        'chlor_a_min': chlor_a_min\n",
    "    },\n",
    "    coords={\n",
    "        'lat': chlor_a_min.coords['lat'],\n",
    "        'lon': chlor_a_min.coords['lon']\n",
    "    }\n",
    ")\n",
    "\n",
    "max_dataset = xr.Dataset(\n",
    "    {\n",
    "        'chlor_a_max': chlor_a_max\n",
    "    },\n",
    "    coords={\n",
    "        'lat': chlor_a_max.coords['lat'],\n",
    "        'lon': chlor_a_max.coords['lon']\n",
    "    }\n",
    ")\n",
    "chlor_a_dataset = xr.merge([mean_dataset, min_dataset, max_dataset], compat='override').drop_vars('quantile')"
   ]
  },
  {
   "cell_type": "code",
   "execution_count": 30,
   "id": "2390b44d-70a4-4765-a3e6-33cd7625a2f8",
   "metadata": {},
   "outputs": [
    {
     "data": {
      "image/png": "[encoded data removed]",
      "text/plain": [
       "<Figure size 640x480 with 2 Axes>"
      ]
     },
     "metadata": {},
     "output_type": "display_data"
    }
   ],
   "source": [
    "chlor_a_dataset['chlor_a_max'].plot()\n",
    "plt.title('Chlorophyll-a max')\n",
    "plt.xlabel('Longitude')\n",
    "plt.ylabel('Latitude')\n",
    "plt.show()"
   ]
  },
  {
   "cell_type": "code",
   "execution_count": 4,
   "id": "9aa253f8-170a-49ac-b864-a97ed90fc075",
   "metadata": {},
   "outputs": [],
   "source": [
    "#Remove yellow outlier\n",
    "chlor_a_dataset['chlor_a_mean'] = chlor_a_dataset['chlor_a_mean'].where(chlor_a_dataset['chlor_a_mean'] <= 75)\n",
    "chlor_a_dataset['chlor_a_min'] = chlor_a_dataset['chlor_a_min'].where(chlor_a_dataset['chlor_a_min'] <= 75)\n",
    "chlor_a_dataset['chlor_a_max'] = chlor_a_dataset['chlor_a_max'].where(chlor_a_dataset['chlor_a_max'] <= 75)\n"
   ]
  },
  {
   "cell_type": "code",
   "execution_count": 32,
   "id": "2e40253d-c375-4e9b-94ab-de8bdde003dd",
   "metadata": {},
   "outputs": [],
   "source": [
    "chlor_a_dataset.to_netcdf('/cluster/home/maikents/satellite_data/chlor_a_dataset_midnor_features.nc')"
   ]
  },
  {
   "cell_type": "code",
   "execution_count": 33,
   "id": "f75dd9fc-1cef-4f9b-91e5-52f7643764df",
   "metadata": {},
   "outputs": [],
   "source": [
    "chlor_a_dataset = xr.open_dataset('/cluster/home/maikents/satellite_data/chlor_a_dataset_midnor_features.nc')"
   ]
  },
  {
   "cell_type": "code",
   "execution_count": 34,
   "id": "cb58c476-eacf-4498-82df-59399e7ddf8c",
   "metadata": {},
   "outputs": [
    {
     "name": "stdout",
     "output_type": "stream",
     "text": [
      "<xarray.Dataset> Size: 2MB\n",
      "Dimensions:       (lat: 191, lon: 407)\n",
      "Coordinates:\n",
      "  * lat           (lat) float32 764B 67.94 67.9 67.85 67.81 ... 60.1 60.06 60.02\n",
      "  * lon           (lon) float32 2kB -1.896 -1.854 -1.812 ... 14.94 14.98 15.02\n",
      "Data variables:\n",
      "    chlor_a_mean  (lat, lon) float32 311kB ...\n",
      "    chlor_a_min   (lat, lon) float64 622kB ...\n",
      "    chlor_a_max   (lat, lon) float64 622kB ...\n"
     ]
    }
   ],
   "source": [
    "print(chlor_a_dataset)"
   ]
  },
  {
   "cell_type": "code",
   "execution_count": 35,
   "id": "53102903-7c38-42d6-9a01-ca7359b46fe2",
   "metadata": {},
   "outputs": [],
   "source": [
    "#Set the CRS for the chlor_a_dataset. \n",
    "#Latitude and longitude (WGS84) -> EPSG:4326\n",
    "chlor_a_dataset['chlor_a_mean'] = chlor_a_dataset['chlor_a_mean'].rio.write_crs(\"EPSG:4326\", inplace=True)\n",
    "chlor_a_dataset['chlor_a_min'] = chlor_a_dataset['chlor_a_min'].rio.write_crs(\"EPSG:4326\", inplace=True)\n",
    "chlor_a_dataset['chlor_a_max'] = chlor_a_dataset['chlor_a_max'].rio.write_crs(\"EPSG:4326\", inplace=True)"
   ]
  },
  {
   "cell_type": "markdown",
   "id": "b504f21d-a99d-4c9f-9bd1-af49d7dcc9b8",
   "metadata": {},
   "source": [
    "Transform chlor data to EMOD grid"
   ]
  },
  {
   "cell_type": "code",
   "execution_count": 37,
   "id": "d58eb910-9bae-4be7-a4e3-c8ead83db41b",
   "metadata": {},
   "outputs": [
    {
     "name": "stdout",
     "output_type": "stream",
     "text": [
      "Null land points: 24646\n",
      "Ocean points: 53091\n",
      "Total points: 77737\n"
     ]
    }
   ],
   "source": [
    "#1: Get null land points as verification\n",
    "null_land_points = chlor_a_dataset['chlor_a_mean'].isnull().sum().values\n",
    "ocean_points = chlor_a_dataset['chlor_a_mean'].notnull().sum().values\n",
    "\n",
    "print(f\"Null land points: {null_land_points}\")\n",
    "print(f\"Ocean points: {ocean_points}\")\n",
    "print(f\"Total points: {null_land_points + ocean_points}\")"
   ]
  },
  {
   "cell_type": "code",
   "execution_count": 38,
   "id": "6551606c-bfec-419f-b5dc-0c2036ce7307",
   "metadata": {},
   "outputs": [],
   "source": [
    "#4: Align the chlorophyll data with the bathymetry\n",
    "\n",
    "tif_file = '/cluster/projects/itk-SINMOD/coral-mapping/data/raw_data/EMOD-tifs/bathymetry_32N_Clip_sample.tif'\n",
    "\n",
    "tif_files = ['/cluster/projects/itk-SINMOD/coral-mapping/data/raw_data/EMOD-tifs/aspect_cos.tif', '/cluster/projects/itk-SINMOD/coral-mapping/data/raw_data/EMOD-tifs/aspect_sin.tif', '/cluster/projects/itk-SINMOD/coral-mapping/data/raw_data/EMOD-tifs/bathymetry_32N_Clip_sample.tif', '/cluster/projects/itk-SINMOD/coral-mapping/data/raw_data/EMOD-tifs/broad_BPI_std.tif',\n",
    "             '/cluster/projects/itk-SINMOD/coral-mapping/data/raw_data/EMOD-tifs/fine_BPI_std.tif', '/cluster/projects/itk-SINMOD/coral-mapping/data/raw_data/EMOD-tifs/log_ruggedness_1.tif', '/cluster/projects/itk-SINMOD/coral-mapping/data/raw_data/EMOD-tifs/slope.tif']\n",
    "\n",
    "\n",
    "def align_satellite_and_bathymetry(chlorophyll_data, tif_file, resampling=Resampling.bilinear):\n",
    "        \n",
    "    with rioxarray.open_rasterio(tif_file) as tif:\n",
    "\n",
    "        #Remove the band dimension from the tif data\n",
    "        if 'band' in tif.dims:\n",
    "            tif = tif.isel(band=0)\n",
    "\n",
    "        chlorophyll_data_reprojected = chlorophyll_data.rio.reproject_match(tif, resampling=resampling)\n",
    "\n",
    "        print(chlorophyll_data_reprojected.rio.bounds())\n",
    "        print(chlorophyll_data_reprojected.dims)\n",
    "\n",
    "\n",
    "        \n",
    "        chlorophyll_data_mask = chlorophyll_data_reprojected['chlor_a_mean'].isnull()\n",
    "\n",
    "        tif = tif.where(~chlorophyll_data_mask, np.nan)\n",
    "\n",
    "        valid_mask = chlorophyll_data_reprojected['chlor_a_mean'].notnull()\n",
    "\n",
    "        valid_columns = valid_mask.any(dim=\"y\")  \n",
    "        min_col = valid_columns.argmax().item()  \n",
    "        max_col = valid_columns.shape[0] - valid_columns[::-1].argmax().item() - 1 \n",
    "\n",
    "        valid_rows = valid_mask.any(dim=\"x\")  \n",
    "        min_row = valid_rows.argmax().item()  \n",
    "        max_row = valid_rows.shape[0] - valid_rows[::-1].argmax().item() - 1  \n",
    "\n",
    "        clipped_chlorophyll_features = chlorophyll_data_reprojected.isel(x=slice(min_col, max_col + 1), y=slice(min_row, max_row + 1))\n",
    "        \n",
    "        clipped_tif = tif.rio.clip_box(minx=clipped_chlorophyll_features.rio.bounds()[0]+1, \n",
    "                                        miny=clipped_chlorophyll_features.rio.bounds()[1], \n",
    "                                        maxx=clipped_chlorophyll_features.rio.bounds()[2], \n",
    "                                        maxy=clipped_chlorophyll_features.rio.bounds()[3])\n",
    "        \n",
    "        clipped_tif = clipped_tif.reset_coords(drop=True)\n",
    "\n",
    "    return clipped_chlorophyll_features, clipped_tif\n",
    "\n"
   ]
  },
  {
   "cell_type": "code",
   "execution_count": 39,
   "id": "38f547bc-15c5-4dbb-9dc8-61c213b926c2",
   "metadata": {},
   "outputs": [
    {
     "name": "stdout",
     "output_type": "stream",
     "text": [
      "(-148857.58868623473, 6580002.847672726, 866884.4113137652, 7621679.847672726)\n",
      "FrozenMappingWarningOnValuesAccess({'x': 11162, 'y': 11447})\n"
     ]
    }
   ],
   "source": [
    "chlor_a_features_reprojected, tif = align_satellite_and_bathymetry(chlor_a_dataset, tif_file)\n"
   ]
  },
  {
   "cell_type": "code",
   "execution_count": 40,
   "id": "14b7f1d0-3089-4db2-8a27-c83e2a5c1f9e",
   "metadata": {},
   "outputs": [
    {
     "name": "stdout",
     "output_type": "stream",
     "text": [
      "<xarray.Dataset> Size: 2MB\n",
      "Dimensions:       (lat: 191, lon: 407)\n",
      "Coordinates:\n",
      "  * lat           (lat) float32 764B 67.94 67.9 67.85 67.81 ... 60.1 60.06 60.02\n",
      "  * lon           (lon) float32 2kB -1.896 -1.854 -1.812 ... 14.94 14.98 15.02\n",
      "    spatial_ref   int64 8B 0\n",
      "Data variables:\n",
      "    chlor_a_mean  (lat, lon) float32 311kB 0.4619 0.4643 0.4519 ... nan nan nan\n",
      "    chlor_a_min   (lat, lon) float64 622kB 0.2119 0.2122 0.2131 ... nan nan nan\n",
      "    chlor_a_max   (lat, lon) float64 622kB 0.8778 0.8758 0.8188 ... nan nan nan\n"
     ]
    }
   ],
   "source": [
    "print(chlor_a_dataset)"
   ]
  },
  {
   "cell_type": "code",
   "execution_count": 41,
   "id": "25fd009e-5767-47d3-afab-a1dccc73532c",
   "metadata": {},
   "outputs": [
    {
     "name": "stdout",
     "output_type": "stream",
     "text": [
      "<xarray.Dataset> Size: 2GB\n",
      "Dimensions:       (x: 9644, y: 10182)\n",
      "Coordinates:\n",
      "    spatial_ref   int64 8B 0\n",
      "  * x             (x) float64 77kB -1.07e+05 -1.07e+05 ... 7.704e+05 7.705e+05\n",
      "  * y             (y) float64 81kB 7.579e+06 7.578e+06 ... 6.652e+06 6.652e+06\n",
      "Data variables:\n",
      "    chlor_a_mean  (y, x) float32 393MB nan nan nan nan nan ... nan nan nan nan\n",
      "    chlor_a_min   (y, x) float64 786MB nan nan nan nan nan ... nan nan nan nan\n",
      "    chlor_a_max   (y, x) float64 786MB nan nan nan nan nan ... nan nan nan nan\n"
     ]
    }
   ],
   "source": [
    "print(chlor_a_features_reprojected)"
   ]
  },
  {
   "cell_type": "code",
   "execution_count": 43,
   "id": "d46b2b60-8258-4d39-9b64-85e60a5bc7f8",
   "metadata": {},
   "outputs": [],
   "source": [
    "emod = xr.open_dataset('/cluster/home/maikents/features_midnor_2019/emod_features2/EMOD_features2.nc')"
   ]
  },
  {
   "cell_type": "code",
   "execution_count": 44,
   "id": "2c659a2a-0fbc-4fc3-bb8b-04560c34702a",
   "metadata": {},
   "outputs": [
    {
     "name": "stdout",
     "output_type": "stream",
     "text": [
      "<xarray.Dataset> Size: 4GB\n",
      "Dimensions:                     (x: 8325, y: 9671)\n",
      "Coordinates:\n",
      "  * x                           (x) float64 67kB -6.546e+04 ... 6.92e+05\n",
      "  * y                           (y) float64 77kB 7.539e+06 ... 6.659e+06\n",
      "Data variables:\n",
      "    aspect_cos                  (y, x) float64 644MB ...\n",
      "    aspect_sin                  (y, x) float64 644MB ...\n",
      "    bathymetry_32N_Clip_sample  (y, x) float32 322MB ...\n",
      "    broad_BPI_std               (y, x) float64 644MB ...\n",
      "    fine_BPI_std                (y, x) float64 644MB ...\n",
      "    log_ruggedness_1            (y, x) float32 322MB ...\n",
      "    slope                       (y, x) float64 644MB ...\n"
     ]
    }
   ],
   "source": [
    "print(emod)"
   ]
  },
  {
   "cell_type": "code",
   "execution_count": 45,
   "id": "a766ca1e-ef68-4dd1-af04-2dc661577fd7",
   "metadata": {},
   "outputs": [],
   "source": [
    "x_bounds = (emod.x.min(), emod.x.max())\n",
    "y_bounds = (emod.y.min(), emod.y.max())\n",
    "\n",
    "chlor_a_features_reprojected = chlor_a_features_reprojected.where((chlor_a_features_reprojected.x >= x_bounds[0]) & (chlor_a_features_reprojected.x <= x_bounds[1]) & \n",
    "                       (chlor_a_features_reprojected.y >= y_bounds[0]) & (chlor_a_features_reprojected.y <= y_bounds[1]), drop=True)\n"
   ]
  },
  {
   "cell_type": "code",
   "execution_count": 48,
   "id": "091c1e3a-ae4a-44a7-a3c4-b6bbb652db13",
   "metadata": {},
   "outputs": [
    {
     "name": "stdout",
     "output_type": "stream",
     "text": [
      "<xarray.Dataset> Size: 2GB\n",
      "Dimensions:       (y: 9671, x: 8325)\n",
      "Coordinates:\n",
      "    spatial_ref   int64 8B 0\n",
      "  * x             (x) float64 67kB -6.546e+04 -6.537e+04 ... 6.919e+05 6.92e+05\n",
      "  * y             (y) float64 77kB 7.539e+06 7.539e+06 ... 6.659e+06 6.659e+06\n",
      "Data variables:\n",
      "    chlor_a_mean  (y, x) float32 322MB nan nan nan nan nan ... nan nan nan nan\n",
      "    chlor_a_min   (y, x) float64 644MB nan nan nan nan nan ... nan nan nan nan\n",
      "    chlor_a_max   (y, x) float64 644MB nan nan nan nan nan ... nan nan nan nan\n"
     ]
    }
   ],
   "source": [
    "print(chlor_a_features_reprojected)"
   ]
  },
  {
   "cell_type": "code",
   "execution_count": 49,
   "id": "216a8ecf-a7ec-45c2-8ee8-53febd14c147",
   "metadata": {},
   "outputs": [],
   "source": [
    "chlor_a_features_reprojected.to_netcdf('/cluster/home/maikents/satellite_data/chlor_a_dataset_midnor_features_emod_grid.nc')"
   ]
  },
  {
   "cell_type": "code",
   "execution_count": 51,
   "id": "a9e8329e-0677-43e6-a5f7-5a96f34fd1fc",
   "metadata": {},
   "outputs": [],
   "source": [
    "masked_chlor_a = xr.open_dataset('/cluster/home/maikents/satellite_data/chlor_a_dataset_midnor_features_emod_grid.nc')"
   ]
  },
  {
   "cell_type": "code",
   "execution_count": 52,
   "id": "31ef01b6-764f-4986-b1d2-dbd7e777a534",
   "metadata": {},
   "outputs": [
    {
     "name": "stdout",
     "output_type": "stream",
     "text": [
      "<xarray.Dataset> Size: 2GB\n",
      "Dimensions:       (y: 9671, x: 8325)\n",
      "Coordinates:\n",
      "    spatial_ref   int64 8B ...\n",
      "  * x             (x) float64 67kB -6.546e+04 -6.537e+04 ... 6.919e+05 6.92e+05\n",
      "  * y             (y) float64 77kB 7.539e+06 7.539e+06 ... 6.659e+06 6.659e+06\n",
      "Data variables:\n",
      "    chlor_a_mean  (y, x) float64 644MB nan nan nan nan nan ... nan nan nan nan\n",
      "    chlor_a_min   (y, x) float64 644MB nan nan nan nan nan ... nan nan nan nan\n",
      "    chlor_a_max   (y, x) float64 644MB nan nan nan nan nan ... nan nan nan nan\n"
     ]
    }
   ],
   "source": [
    "#Standardize the chlor a data\n",
    "\n",
    "standardized_chlor_a = masked_chlor_a.copy()\n",
    "\n",
    "chlor_a_mean_data = standardized_chlor_a['chlor_a_mean'].values\n",
    "chlor_a_min_data = standardized_chlor_a['chlor_a_min'].values\n",
    "chlor_a_max_data = standardized_chlor_a['chlor_a_max'].values\n",
    "\n",
    "mean_flat = chlor_a_mean_data.flatten()\n",
    "min_flat = chlor_a_min_data.flatten()\n",
    "max_flat = chlor_a_max_data.flatten()\n",
    "\n",
    "combined_data = np.stack([mean_flat, min_flat, max_flat], axis=1)\n",
    "\n",
    "scaler = StandardScaler()\n",
    "scaled_data = scaler.fit_transform(combined_data)\n",
    "\n",
    "scaled_mean = scaled_data[:, 0].reshape(chlor_a_mean_data.shape)\n",
    "scaled_min = scaled_data[:, 1].reshape(chlor_a_min_data.shape)\n",
    "scaled_max = scaled_data[:, 2].reshape(chlor_a_max_data.shape)\n",
    "\n",
    "standardized_chlor_a['chlor_a_mean'] = (['y', 'x'], scaled_mean)\n",
    "standardized_chlor_a['chlor_a_min'] = (['y', 'x'], scaled_min)\n",
    "standardized_chlor_a['chlor_a_max'] = (['y', 'x'], scaled_max)\n",
    "\n",
    "print(standardized_chlor_a)"
   ]
  },
  {
   "cell_type": "code",
   "execution_count": 59,
   "id": "13aba2c9-9180-4acb-ad17-7bc76b91e3a1",
   "metadata": {},
   "outputs": [],
   "source": [
    "standardized_chlor_a.to_netcdf('/cluster/home/maikents/sinmod_features_masters/standardized_features_emod_grid/chlor_a_satellite_emod_grid_standardized.nc')"
   ]
  },
  {
   "cell_type": "code",
   "execution_count": null,
   "id": "d132645d-354e-434b-80b9-dfb6eb55fa3e",
   "metadata": {},
   "outputs": [],
   "source": []
  }
 ],
 "metadata": {
  "kernelspec": {
   "display_name": "Python 3 (ipykernel)",
   "language": "python",
   "name": "python3"
  },
  "language_info": {
   "codemirror_mode": {
    "name": "ipython",
    "version": 3
   },
   "file_extension": ".py",
   "mimetype": "text/x-python",
   "name": "python",
   "nbconvert_exporter": "python",
   "pygments_lexer": "ipython3",
   "version": "3.12.3"
  }
 },
 "nbformat": 4,
 "nbformat_minor": 5
}
