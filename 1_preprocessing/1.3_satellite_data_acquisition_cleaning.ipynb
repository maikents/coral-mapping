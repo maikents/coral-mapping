{
 "cells": [
  {
   "cell_type": "code",
   "execution_count": 1,
   "id": "02f4cdad-cefe-422b-83a5-11ac1878b5dc",
   "metadata": {},
   "outputs": [],
   "source": [
    "import numpy as np\n",
    "import xarray as xr\n",
    "from netCDF4 import Dataset\n",
    "import pandas as pd\n",
    "import matplotlib.pyplot as plt\n",
    "import netCDF4 as nc\n",
    "import os\n",
    "import glob\n",
    "import re\n",
    "from pyproj import CRS, Transformer\n",
    "import os\n",
    "import matplotlib.colors as mcolors"
   ]
  },
  {
   "cell_type": "code",
   "execution_count": 2,
   "id": "47d26f95-17b7-4e2c-b6e4-a1990837e6d5",
   "metadata": {
    "collapsed": true,
    "jupyter": {
     "outputs_hidden": true
    }
   },
   "outputs": [
    {
     "name": "stdout",
     "output_type": "stream",
     "text": [
      "new folder\n",
      "new folder\n",
      "new folder\n",
      "went through all files\n"
     ]
    }
   ],
   "source": [
    "folder_paths = ['/cluster/home/maikents/satellite_data/MODISA_L3m_CHL_R2022.0-20250317_094824', '/cluster/home/maikents/satellite_data/MODISA_L3m_CHL_R2022.0-20250317_104942', '/cluster/home/maikents/satellite_data/MODISA_L3m_CHL_R2022.0-20250317_102335']\n",
    "\n",
    "chlor_a_data_list = []\n",
    "\n",
    "for folder_path in folder_paths:\n",
    "    print(\"new folder\")\n",
    "    nc_files = [f for f in os.listdir(folder_path) if f.endswith('.nc')]\n",
    "    for file_name in nc_files:\n",
    "        file_path = os.path.join(folder_path, file_name)\n",
    "        \n",
    "        dataset = xr.open_dataset(file_path)\n",
    "\n",
    "        chlor_a_data_list.append(dataset['chlor_a'])\n",
    "\n",
    "        dataset.close()\n",
    "\n",
    "print(\"went through all files\")"
   ]
  },
  {
   "cell_type": "code",
   "execution_count": 12,
   "id": "6a1eaeb5-5af4-40ae-8395-1d32954473df",
   "metadata": {
    "collapsed": true,
    "jupyter": {
     "outputs_hidden": true
    }
   },
   "outputs": [
    {
     "name": "stdout",
     "output_type": "stream",
     "text": [
      "Processed chunk 1 of 18\n",
      "Processed chunk 2 of 18\n",
      "Processed chunk 3 of 18\n",
      "Processed chunk 4 of 18\n",
      "Processed chunk 5 of 18\n",
      "Processed chunk 6 of 18\n",
      "Processed chunk 7 of 18\n",
      "Processed chunk 8 of 18\n",
      "Processed chunk 9 of 18\n",
      "Processed chunk 10 of 18\n",
      "Processed chunk 11 of 18\n",
      "Processed chunk 12 of 18\n",
      "Processed chunk 13 of 18\n",
      "Processed chunk 14 of 18\n",
      "Processed chunk 15 of 18\n",
      "Processed chunk 16 of 18\n",
      "Processed chunk 17 of 18\n",
      "Processed chunk 18 of 18\n"
     ]
    }
   ],
   "source": [
    "chunk_size = 20 \n",
    "\n",
    "concatenated_chlor_a = None\n",
    "\n",
    "for i in range(0, len(chlor_a_data_list), chunk_size):\n",
    "    chunk = chlor_a_data_list[i:i+chunk_size]\n",
    "    chunk_concat = xr.concat(chunk, dim='time')\n",
    "    \n",
    "    if concatenated_chlor_a is None:\n",
    "        concatenated_chlor_a = chunk_concat\n",
    "    else:\n",
    "        concatenated_chlor_a = xr.concat([concatenated_chlor_a, chunk_concat], dim='time')\n",
    "\n",
    "\n"
   ]
  },
  {
   "cell_type": "code",
   "execution_count": 13,
   "id": "e9e0ff5c-9223-411e-b70b-7d2cf705ba1d",
   "metadata": {},
   "outputs": [],
   "source": [
    "output_file1 = '/cluster/home/maikents/satellite_data/chunks/chlor3.nc'\n",
    "concatenated_chlor_a.to_netcdf(output_file1)"
   ]
  },
  {
   "cell_type": "code",
   "execution_count": 21,
   "id": "c8f5980d-68a6-4b1d-9a2a-3e10d7bd4fa3",
   "metadata": {},
   "outputs": [
    {
     "name": "stdout",
     "output_type": "stream",
     "text": [
      "<xarray.Dataset> Size: 161GB\n",
      "Dimensions:  (time: 1081, lat: 4320, lon: 8640)\n",
      "Coordinates:\n",
      "  * lat      (lat) float32 17kB 89.98 89.94 89.9 89.85 ... -89.9 -89.94 -89.98\n",
      "  * lon      (lon) float32 35kB -180.0 -179.9 -179.9 ... 179.9 179.9 180.0\n",
      "Dimensions without coordinates: time\n",
      "Data variables:\n",
      "    chlor_a  (time, lat, lon) float32 161GB dask.array<chunksize=(23, 288, 576), meta=np.ndarray>\n"
     ]
    }
   ],
   "source": [
    "import xarray as xr\n",
    "\n",
    "file_paths = [\n",
    "    '/cluster/home/maikents/satellite_data/chunks/chlor1.nc',\n",
    "    '/cluster/home/maikents/satellite_data/chunks/chlor2.nc',\n",
    "    '/cluster/home/maikents/satellite_data/chunks/chlor3.nc'\n",
    "]\n",
    "\n",
    "concatenated_chlor_a = xr.open_mfdataset(file_paths, combine='nested', concat_dim='time')\n",
    "\n",
    "print(concatenated_chlor_a)"
   ]
  },
  {
   "cell_type": "code",
   "execution_count": 23,
   "id": "bf5a5e69-b54b-4259-b2d1-cf2b2b71eca5",
   "metadata": {},
   "outputs": [
    {
     "name": "stdout",
     "output_type": "stream",
     "text": [
      "<xarray.Dataset> Size: 336MB\n",
      "Dimensions:  (time: 1081, lat: 191, lon: 407)\n",
      "Coordinates:\n",
      "  * lat      (lat) float32 764B 67.94 67.9 67.85 67.81 ... 60.1 60.06 60.02\n",
      "  * lon      (lon) float32 2kB -1.896 -1.854 -1.812 -1.771 ... 14.94 14.98 15.02\n",
      "Dimensions without coordinates: time\n",
      "Data variables:\n",
      "    chlor_a  (time, lat, lon) float32 336MB dask.array<chunksize=(23, 191, 407), meta=np.ndarray>\n"
     ]
    }
   ],
   "source": [
    "#Remove points outside our study area\n",
    "#Dimensions of our midnor study area:\n",
    "lat_min = 59.996\n",
    "lat_max = 67.961\n",
    "lon_min = -1.901\n",
    "lon_max = 15.061\n",
    "\n",
    "lats = concatenated_chlor_a['lat']\n",
    "lons = concatenated_chlor_a['lon']\n",
    "\n",
    "lat_mask = (lats >= lat_min) & (lats <= lat_max)\n",
    "lon_mask = (lons >= lon_min) & (lons <= lon_max)\n",
    "\n",
    "masked_chlor_a = concatenated_chlor_a.where(lat_mask & lon_mask, drop=True)\n",
    "\n",
    "print(masked_chlor_a)"
   ]
  },
  {
   "cell_type": "code",
   "execution_count": 24,
   "id": "9231ee2f-6ec9-451f-9c7e-6edf3e0eb291",
   "metadata": {},
   "outputs": [],
   "source": [
    "masked_chlor_a.to_netcdf('/cluster/home/maikents/satellite_data/masked_chlor_a.nc')"
   ]
  },
  {
   "cell_type": "code",
   "execution_count": 25,
   "id": "b793857f-f734-4b87-93d0-3548d36217e9",
   "metadata": {},
   "outputs": [],
   "source": [
    "masked_chlor_a = xr.open_dataset('/cluster/home/maikents/satellite_data/masked_chlor_a.nc')"
   ]
  },
  {
   "cell_type": "code",
   "execution_count": 26,
   "id": "a8dd5594-8367-45f4-a884-7b80ec638049",
   "metadata": {},
   "outputs": [
    {
     "name": "stdout",
     "output_type": "stream",
     "text": [
      "<xarray.Dataset> Size: 336MB\n",
      "Dimensions:  (time: 1081, lat: 191, lon: 407)\n",
      "Coordinates:\n",
      "  * lat      (lat) float32 764B 67.94 67.9 67.85 67.81 ... 60.1 60.06 60.02\n",
      "  * lon      (lon) float32 2kB -1.896 -1.854 -1.812 -1.771 ... 14.94 14.98 15.02\n",
      "Dimensions without coordinates: time\n",
      "Data variables:\n",
      "    chlor_a  (time, lat, lon) float32 336MB ...\n"
     ]
    }
   ],
   "source": [
    "print(masked_chlor_a)"
   ]
  },
  {
   "cell_type": "code",
   "execution_count": 27,
   "id": "d795c5b5-42b1-4534-a9d6-b46164695da0",
   "metadata": {},
   "outputs": [
    {
     "name": "stdout",
     "output_type": "stream",
     "text": [
      "Number of NaN values: 76355909\n",
      "Number of non-NaN values: 7677788\n"
     ]
    }
   ],
   "source": [
    "chlor_a_data = masked_chlor_a['chlor_a'][:,:,:].values\n",
    "\n",
    "num_nans = np.sum(np.isnan(chlor_a_data))\n",
    "\n",
    "num_non_nans = np.sum(~np.isnan(chlor_a_data))\n",
    "\n",
    "print(f\"Number of NaN values: {num_nans}\")\n",
    "print(f\"Number of non-NaN values: {num_non_nans}\")\n"
   ]
  },
  {
   "cell_type": "markdown",
   "id": "b504f21d-a99d-4c9f-9bd1-af49d7dcc9b8",
   "metadata": {},
   "source": [
    "Transform chlor data to EMOD grid"
   ]
  },
  {
   "cell_type": "code",
   "execution_count": 2,
   "id": "6108c55a-b702-4825-8862-9f9ed4524c3e",
   "metadata": {},
   "outputs": [],
   "source": [
    "#Load the original SINMOD data from SINMOD grid\n",
    "\n",
    "filename_SINMOD_original_grid = \"/cluster/projects/itk-SINMOD/coral-mapping/midnor/PhysStates_2019.nc\"\n",
    "\n",
    "sinmod_data = Dataset(filename_SINMOD_original_grid, 'r')"
   ]
  },
  {
   "cell_type": "code",
   "execution_count": 3,
   "id": "c7f70f9b-0b2b-46c3-be94-974b2112ff4d",
   "metadata": {},
   "outputs": [
    {
     "name": "stdout",
     "output_type": "stream",
     "text": [
      "Horizontal resolution: 800.0 meters\n"
     ]
    }
   ],
   "source": [
    "\n",
    "def obtain_sinmod_crs(sinmod_data):\n",
    "    \n",
    "    grid_mapping = sinmod_data.variables['grid_mapping']\n",
    "\n",
    "    horizontal_resolution = grid_mapping.getncattr('horizontal_resolution')\n",
    "\n",
    "    print(f\"Horizontal resolution: {horizontal_resolution} meters\")\n",
    "\n",
    "    crs_sinmod = CRS.from_proj4(f\"+proj=stere \"\n",
    "                                f\"+lat_0={grid_mapping.latitude_of_projection_origin} \"\n",
    "                                f\"+lat_ts={grid_mapping.standard_parallel} \"\n",
    "                                f\"+lon_0={grid_mapping.straight_vertical_longitude_from_pole} \"\n",
    "                                f\"+x_0={grid_mapping.false_easting} \"\n",
    "                                f\"+y_0={grid_mapping.false_northing} \"\n",
    "                                f\"+a={grid_mapping.semi_major_axis} \"\n",
    "                                f\"+b={grid_mapping.semi_minor_axis} \"\n",
    "                                f\"+units=m +no_defs\")\n",
    "    return crs_sinmod\n",
    "\n",
    "\n",
    "crs_sinmod = obtain_sinmod_crs(sinmod_data)"
   ]
  },
  {
   "cell_type": "code",
   "execution_count": 37,
   "id": "2c2c63f0-5ef4-40c1-bb03-8bd2bc0496f2",
   "metadata": {},
   "outputs": [],
   "source": [
    "#Next, transform all satellite data to SINMOD grid coordinates\n",
    "\n",
    "def transform_chlorophyll_coordinates(chlor_data, crs_sinmod):\n",
    "    \n",
    "    #Define the crs for the satellite data\n",
    "    crs_wgs84 = CRS.from_epsg(4326)  #WGS84 (lat/lon coordinates)\n",
    "\n",
    "    transformer_wgs84_to_sinmod = Transformer.from_crs(crs_wgs84, crs_sinmod, always_xy=True)\n",
    "    \n",
    "    lat = chlor_data['lat'].values\n",
    "    lon = chlor_data['lon'].values\n",
    "\n",
    "    lon_grid, lat_grid = np.meshgrid(lon, lat)\n",
    "\n",
    "    lon_flat = lon_grid.flatten()\n",
    "    lat_flat = lat_grid.flatten()\n",
    "\n",
    "\n",
    "    #Transform satellite coordinates from WGS84 to SINMOD\n",
    "    chlor_x_flat, chlor_y_flat = transformer_wgs84_to_sinmod.transform(lon_flat, lat_flat)\n",
    "\n",
    "    #Reshape the transformed coordinates back to the original grid shape\n",
    "    chlor_x = chlor_x_flat.reshape(lat.shape[0], lon.shape[0])\n",
    "    chlor_y = chlor_y_flat.reshape(lat.shape[0], lon.shape[0])\n",
    "    \n",
    "    x_array = xr.DataArray(chlor_x, dims=['lat', 'lon'], coords={'lat': chlor_data['lat'], 'lon': chlor_data['lon']})\n",
    "    y_array = xr.DataArray(chlor_y, dims=['lat', 'lon'], coords={'lat': chlor_data['lat'], 'lon': chlor_data['lon']})\n",
    "\n",
    "    #Add x and y as new coordinates to the dataset\n",
    "    chlor_data = chlor_data.assign_coords(x=x_array, y=y_array)\n",
    "\n",
    "    return chlor_data\n",
    "\n",
    "\n",
    "transformed_chlor_data = transform_chlorophyll_coordinates(masked_chlor_a, crs_sinmod)\n",
    "\n",
    "output_directory = '/cluster/home/maikents/features_midnor_2019/'\n",
    "output_file = 'midnor_chlorophyll_sinmod_grid.parquet'\n",
    "\n",
    "\n",
    "#Save the file\n",
    "transformed_chlor_data.to_netcdf('/cluster/home/maikents/features_midnor_2019/midnor_chlorophyll_sinmod_grid.nc')\n"
   ]
  },
  {
   "cell_type": "code",
   "execution_count": 4,
   "id": "ccab71c4-7f82-4250-a5dc-ebe42a64150e",
   "metadata": {},
   "outputs": [],
   "source": [
    "transformed_chlor_data = xr.open_dataset('/cluster/home/maikents/features_midnor_2019/midnor_chlorophyll_sinmod_grid.nc')"
   ]
  },
  {
   "cell_type": "code",
   "execution_count": 5,
   "id": "54c4bc2e-392a-412b-a272-4730dc873f22",
   "metadata": {},
   "outputs": [],
   "source": [
    "#Next, transform all satellite data to EMOD grid coordinates\n",
    "\n",
    "import pandas as pd\n",
    "from pyproj import CRS, Transformer\n",
    "\n",
    "crs_target = CRS.from_epsg(32632)\n",
    "\n",
    "def transform_chlorophyll_coordinates(chlor_data, crs_target, crs_source):\n",
    "    \n",
    "    chlor_data = chlor_data.copy()\n",
    "    \n",
    "    transformer_crs_to_target = Transformer.from_crs(crs_source, crs_target, always_xy=True)\n",
    "    \n",
    "    old_x = chlor_data['x'].values\n",
    "    old_y = chlor_data['y'].values\n",
    "    \n",
    "    lat = chlor_data['lat'].values\n",
    "    lon = chlor_data['lon'].values\n",
    "    lon_grid, lat_grid = np.meshgrid(lon, lat)\n",
    "    \n",
    "    lon_flat = lon_grid.flatten()\n",
    "    lat_flat = lat_grid.flatten()\n",
    "\n",
    "    chlor_x_flat, chlor_y_flat = transformer_crs_to_target.transform(lon_flat, lat_flat)\n",
    "\n",
    "    chlor_x = chlor_x_flat.reshape(lat_grid.shape)\n",
    "    chlor_y = chlor_y_flat.reshape(lat_grid.shape)\n",
    "    \n",
    "    chlor_data['x'] = (['lat', 'lon'], chlor_x)\n",
    "    chlor_data['y'] = (['lat', 'lon'], chlor_y)\n",
    "\n",
    "    return chlor_data\n",
    "\n",
    "transformed_chlor_data_emod = transform_chlorophyll_coordinates(transformed_chlor_data, crs_target, crs_sinmod)"
   ]
  },
  {
   "cell_type": "code",
   "execution_count": 7,
   "id": "89c0dbc7-1a84-420a-8d8d-d50abb9e541a",
   "metadata": {},
   "outputs": [],
   "source": [
    "sinmod = xr.open_dataset('/cluster/projects/itk-SINMOD/coral-mapping/data/processed_data/features/ready-for-training/SINMOD_bottom_features.nc')"
   ]
  },
  {
   "cell_type": "code",
   "execution_count": 11,
   "id": "2d9dd829-e6d5-456e-91bc-c743f5b6ba6c",
   "metadata": {},
   "outputs": [
    {
     "name": "stdout",
     "output_type": "stream",
     "text": [
      "<xarray.Dataset> Size: 337MB\n",
      "Dimensions:  (time: 1081, lat: 191, lon: 407)\n",
      "Coordinates:\n",
      "  * lat      (lat) float32 764B 67.94 67.9 67.85 67.81 ... 60.1 60.06 60.02\n",
      "  * lon      (lon) float32 2kB -1.896 -1.854 -1.812 -1.771 ... 14.94 14.98 15.02\n",
      "    x        (lat, lon) float64 622kB 2.777e+05 2.777e+05 ... 2.777e+05\n",
      "    y        (lat, lon) float64 622kB 6.656e+06 6.656e+06 ... 6.656e+06\n",
      "Dimensions without coordinates: time\n",
      "Data variables:\n",
      "    chlor_a  (time, lat, lon) float32 336MB ...\n"
     ]
    }
   ],
   "source": [
    "print(transformed_chlor_data_emod )"
   ]
  },
  {
   "cell_type": "code",
   "execution_count": 13,
   "id": "c35ca7ac-7598-4d37-844f-ff5933406ef7",
   "metadata": {},
   "outputs": [],
   "source": [
    "transformed_chlor_data_emod.to_netcdf('/cluster/home/maikents/features_midnor_2019/midnor_chlorophyll_emod_grid.nc')"
   ]
  },
  {
   "cell_type": "code",
   "execution_count": 18,
   "id": "daea3216-6c83-4daf-b375-6a53fee5bab5",
   "metadata": {},
   "outputs": [
    {
     "name": "stdout",
     "output_type": "stream",
     "text": [
      "Number of NaN values: 76355909\n",
      "Number of non-NaN values: 7677788\n"
     ]
    }
   ],
   "source": [
    "chlor_a_data = transformed_chlor_data_emod['chlor_a'][:,:,:].values\n",
    "\n",
    "num_nans = np.sum(np.isnan(chlor_a_data))\n",
    "\n",
    "num_non_nans = np.sum(~np.isnan(chlor_a_data))\n",
    "\n",
    "print(f\"Number of NaN values: {num_nans}\")\n",
    "print(f\"Number of non-NaN values: {num_non_nans}\")\n"
   ]
  },
  {
   "cell_type": "code",
   "execution_count": 19,
   "id": "a12d52a8-7edc-46d8-9ca4-f98c91af510c",
   "metadata": {},
   "outputs": [
    {
     "name": "stdout",
     "output_type": "stream",
     "text": [
      "<xarray.Dataset> Size: 674MB\n",
      "Dimensions:               (time: 1081, lat: 191, lon: 407)\n",
      "Coordinates:\n",
      "  * lat                   (lat) float32 764B 67.94 67.9 67.85 ... 60.06 60.02\n",
      "  * lon                   (lon) float32 2kB -1.896 -1.854 -1.812 ... 14.98 15.02\n",
      "    x                     (lat, lon) float64 622kB 2.777e+05 ... 2.777e+05\n",
      "    y                     (lat, lon) float64 622kB 6.656e+06 ... 6.656e+06\n",
      "Dimensions without coordinates: time\n",
      "Data variables:\n",
      "    chlor_a               (time, lat, lon) float32 336MB nan nan nan ... nan nan\n",
      "    chlor_a_standardized  (time, lat, lon) float32 336MB nan nan nan ... nan nan\n"
     ]
    }
   ],
   "source": [
    "#Standardizing\n",
    "from sklearn.preprocessing import StandardScaler\n",
    "\n",
    "chlor_a_values = transformed_chlor_data_emod['chlor_a'].values  # (time, lat, lon)\n",
    "\n",
    "num_time = chlor_a_values.shape[0]\n",
    "num_lat = chlor_a_values.shape[1]\n",
    "num_lon = chlor_a_values.shape[2]\n",
    "\n",
    "flattened_chlor_a = chlor_a_values.reshape(-1, 1)\n",
    "\n",
    "scaler = StandardScaler()\n",
    "standardized_chlor_a = scaler.fit_transform(flattened_chlor_a)\n",
    "\n",
    "standardized_chlor_a_reshaped = standardized_chlor_a.reshape(num_time, num_lat, num_lon)\n",
    "\n",
    "transformed_chlor_data_emod['chlor_a_standardized'] = (('time', 'lat', 'lon'), standardized_chlor_a_reshaped)\n",
    "\n",
    "print(transformed_chlor_data_emod)"
   ]
  },
  {
   "cell_type": "code",
   "execution_count": 21,
   "id": "f137bab9-0041-4ed6-b363-f2a72a1ea97f",
   "metadata": {},
   "outputs": [],
   "source": [
    "transformed_chlor_data_emod.to_netcdf('/cluster/home/maikents/features_midnor_2019/midnor_chlorophyll_emod_grid_standardized.nc')"
   ]
  },
  {
   "cell_type": "code",
   "execution_count": null,
   "id": "009f5368-b2f9-4628-bc6e-23f48d8a0873",
   "metadata": {},
   "outputs": [],
   "source": []
  }
 ],
 "metadata": {
  "kernelspec": {
   "display_name": "Python 3 (ipykernel)",
   "language": "python",
   "name": "python3"
  },
  "language_info": {
   "codemirror_mode": {
    "name": "ipython",
    "version": 3
   },
   "file_extension": ".py",
   "mimetype": "text/x-python",
   "name": "python",
   "nbconvert_exporter": "python",
   "pygments_lexer": "ipython3",
   "version": "3.12.3"
  }
 },
 "nbformat": 4,
 "nbformat_minor": 5
}
