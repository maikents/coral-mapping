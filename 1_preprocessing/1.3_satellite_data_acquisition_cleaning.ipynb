{
 "cells": [
  {
   "cell_type": "code",
   "execution_count": 1,
   "id": "02f4cdad-cefe-422b-83a5-11ac1878b5dc",
   "metadata": {},
   "outputs": [],
   "source": [
    "import numpy as np\n",
    "import xarray as xr\n",
    "from netCDF4 import Dataset\n",
    "import pandas as pd\n",
    "import matplotlib.pyplot as plt\n",
    "import netCDF4 as nc\n",
    "import os\n",
    "import glob\n",
    "import re"
   ]
  },
  {
   "cell_type": "code",
   "execution_count": null,
   "id": "47d26f95-17b7-4e2c-b6e4-a1990837e6d5",
   "metadata": {},
   "outputs": [],
   "source": [
    "folder_paths = ['/cluster/home/maikents/satellite_data/MODISA_L3m_CHL_R2022.0-20250317_094824', '/cluster/home/maikents/satellite_data/MODISA_L3m_CHL_R2022.0-20250317_104942', '/cluster/home/maikents/satellite_data/MODISA_L3m_CHL_R2022.0-20250317_102335']\n",
    "\n",
    "chlor_a_data_list = []\n",
    "\n",
    "for folder_path in folder_paths:\n",
    "    print(\"new folder\")\n",
    "    nc_files = [f for f in os.listdir(folder_path) if f.endswith('.nc')]\n",
    "    for file_name in nc_files:\n",
    "        file_path = os.path.join(folder_path, file_name)\n",
    "        \n",
    "        dataset = xr.open_dataset(file_path)\n",
    "\n",
    "        chlor_a_data_list.append(dataset['chlor_a'])\n",
    "\n",
    "        dataset.close()\n",
    "\n",
    "print(\"went through all files\")\n",
    "chlor_a_time_concat = xr.concat(chlor_a_data_list, dim='time')\n",
    "print(\"concatenated all data\")\n",
    "chl_time_avg = chlor_a_time_concat.mean(dim='time')\n",
    "print(\"averaged data\")\n",
    "output_file = '/cluster/home/maikents/satellite_data/chlorophyll_time_avg.nc'\n",
    "chl_time_avg.to_netcdf(output_file)\n",
    "\n",
    "\n",
    "print(f\"Time-averaged chlorophyll data saved to {output_file}\")\n",
    "\n",
    "\"\"\"\n",
    "The output of the time-averaged chlorophyll data will look like this:\n",
    "Dimensions: (lat, lon)\n",
    "Data: Each point on the grid will have the average chlorophyll concentration over the period you’re averaging (in this case, across three years).\n",
    "\"\"\""
   ]
  },
  {
   "cell_type": "code",
   "execution_count": null,
   "id": "a5f49e06-10da-49bc-a1d6-dd0eb300d36c",
   "metadata": {},
   "outputs": [],
   "source": []
  }
 ],
 "metadata": {
  "kernelspec": {
   "display_name": "Python 3 (ipykernel)",
   "language": "python",
   "name": "python3"
  },
  "language_info": {
   "codemirror_mode": {
    "name": "ipython",
    "version": 3
   },
   "file_extension": ".py",
   "mimetype": "text/x-python",
   "name": "python",
   "nbconvert_exporter": "python",
   "pygments_lexer": "ipython3",
   "version": "3.12.3"
  }
 },
 "nbformat": 4,
 "nbformat_minor": 5
}
