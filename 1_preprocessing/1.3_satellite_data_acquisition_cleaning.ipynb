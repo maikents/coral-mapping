{
 "cells": [
  {
   "cell_type": "code",
   "execution_count": 1,
   "id": "02f4cdad-cefe-422b-83a5-11ac1878b5dc",
   "metadata": {},
   "outputs": [],
   "source": [
    "import numpy as np\n",
    "import xarray as xr\n",
    "from netCDF4 import Dataset\n",
    "import pandas as pd\n",
    "import matplotlib.pyplot as plt\n",
    "import netCDF4 as nc\n",
    "import os\n",
    "import glob\n",
    "import re"
   ]
  },
  {
   "cell_type": "code",
   "execution_count": 3,
   "id": "2ff3632d-7154-4048-950f-6e830422ec14",
   "metadata": {
    "jupyter": {
     "source_hidden": true
    }
   },
   "outputs": [
    {
     "name": "stdout",
     "output_type": "stream",
     "text": [
      "Combined dataset saved: /cluster/home/maikents/satellite_data/combined_satellite_data1.nc\n"
     ]
    }
   ],
   "source": [
    "folder = \"/cluster/home/maikents/satellite_data/MODISA_L3m_CHL_R2022.0-20250313_114001\"\n",
    "nc_files = []\n",
    "nc_files.extend(glob.glob(os.path.join(folder, \"*.nc\")))\n",
    "\n",
    "datasets = []\n",
    "date_pattern = re.compile(r\"(\\d{4})(\\d{2})(\\d{2})\")  #Extract YYYY MM DD\n",
    "\n",
    "for file in nc_files:\n",
    "    ds = xr.open_dataset(file)\n",
    "    \n",
    "    match = date_pattern.search(file)\n",
    "    if match:\n",
    "        year, month, day = map(int, match.groups())\n",
    "        time_value = pd.Timestamp(year, month, day)\n",
    "        \n",
    "        ds = ds.expand_dims(\"time\").assign_coords(time=[time_value])\n",
    "\n",
    "        datasets.append(ds)\n",
    "\n",
    "combined_dataset = xr.concat(datasets, dim=\"time\")\n",
    "\n",
    "output_file = \"/cluster/home/maikents/satellite_data/combined_satellite_data1.nc\"\n",
    "combined_dataset.to_netcdf(output_file)\n",
    "\n",
    "print(\"Combined dataset saved:\", output_file)\n",
    "\n"
   ]
  },
  {
   "cell_type": "code",
   "execution_count": 4,
   "id": "cc8ec683-8d5c-40bc-96a2-cc58af22f041",
   "metadata": {
    "jupyter": {
     "source_hidden": true
    }
   },
   "outputs": [
    {
     "name": "stdout",
     "output_type": "stream",
     "text": [
      "Combined dataset saved: /cluster/home/maikents/satellite_data/combined_satellite_data2.nc\n"
     ]
    }
   ],
   "source": [
    "folder = \"/cluster/home/maikents/satellite_data/MODISA_L3m_CHL_R2022.0-20250313_115610\"\n",
    "nc_files = []\n",
    "nc_files.extend(glob.glob(os.path.join(folder, \"*.nc\")))\n",
    "\n",
    "datasets = []\n",
    "date_pattern = re.compile(r\"(\\d{4})(\\d{2})(\\d{2})\")  #Extract YYYY MM DD\n",
    "\n",
    "for file in nc_files:\n",
    "    ds = xr.open_dataset(file)\n",
    "    \n",
    "    match = date_pattern.search(file)\n",
    "    if match:\n",
    "        year, month, day = map(int, match.groups())\n",
    "        time_value = pd.Timestamp(year, month, day)\n",
    "        \n",
    "        ds = ds.expand_dims(\"time\").assign_coords(time=[time_value])\n",
    "\n",
    "        datasets.append(ds)\n",
    "\n",
    "combined_dataset = xr.concat(datasets, dim=\"time\")\n",
    "\n",
    "output_file = \"/cluster/home/maikents/satellite_data/combined_satellite_data2.nc\"\n",
    "combined_dataset.to_netcdf(output_file)\n",
    "\n",
    "print(\"Combined dataset saved:\", output_file)\n",
    "\n"
   ]
  },
  {
   "cell_type": "code",
   "execution_count": 5,
   "id": "5f5ba044-70a1-44a5-abab-4a0f17dccdc7",
   "metadata": {
    "jupyter": {
     "source_hidden": true
    }
   },
   "outputs": [
    {
     "name": "stdout",
     "output_type": "stream",
     "text": [
      "Combined dataset saved: /cluster/home/maikents/satellite_data/combined_satellite_data3.nc\n"
     ]
    }
   ],
   "source": [
    "folder = \"/cluster/home/maikents/satellite_data/MODISA_L3m_CHL_R2022.0-20250313_121425\"\n",
    "nc_files = []\n",
    "nc_files.extend(glob.glob(os.path.join(folder, \"*.nc\")))\n",
    "\n",
    "datasets = []\n",
    "date_pattern = re.compile(r\"(\\d{4})(\\d{2})(\\d{2})\")  #Extract YYYY MM DD\n",
    "\n",
    "for file in nc_files:\n",
    "    ds = xr.open_dataset(file)\n",
    "    \n",
    "    match = date_pattern.search(file)\n",
    "    if match:\n",
    "        year, month, day = map(int, match.groups())\n",
    "        time_value = pd.Timestamp(year, month, day)\n",
    "        \n",
    "        ds = ds.expand_dims(\"time\").assign_coords(time=[time_value])\n",
    "\n",
    "        datasets.append(ds)\n",
    "\n",
    "combined_dataset = xr.concat(datasets, dim=\"time\")\n",
    "\n",
    "output_file = \"/cluster/home/maikents/satellite_data/combined_satellite_data3.nc\"\n",
    "combined_dataset.to_netcdf(output_file)\n",
    "\n",
    "print(\"Combined dataset saved:\", output_file)\n",
    "\n"
   ]
  },
  {
   "cell_type": "code",
   "execution_count": null,
   "id": "5c21f1ed-aa19-4c6d-b8f7-9420beaed3a2",
   "metadata": {},
   "outputs": [],
   "source": [
    "combined_files = [\n",
    "    \"/cluster/home/maikents/satellite_data/combined_satellite_data1.nc\",\n",
    "    \"/cluster/home/maikents/satellite_data/combined_satellite_data2.nc\",\n",
    "    \"/cluster/home/maikents/satellite_data/combined_satellite_data3.nc\"]\n",
    "\n",
    "datasets = [xr.open_dataset(file) for file in combined_files]\n",
    "final_combined_dataset = xr.concat(datasets, dim=\"time\")\n",
    "\n",
    "final_output_file = \"/cluster/home/maikents/satellite_data/final_combined_satellite_data.nc\"\n",
    "final_combined_dataset.to_netcdf(final_output_file)\n",
    "\n",
    "print(\"Final combined dataset saved:\", final_output_file)\n"
   ]
  },
  {
   "cell_type": "code",
   "execution_count": null,
   "id": "a5f49e06-10da-49bc-a1d6-dd0eb300d36c",
   "metadata": {},
   "outputs": [],
   "source": []
  }
 ],
 "metadata": {
  "kernelspec": {
   "display_name": "Python 3 (ipykernel)",
   "language": "python",
   "name": "python3"
  },
  "language_info": {
   "codemirror_mode": {
    "name": "ipython",
    "version": 3
   },
   "file_extension": ".py",
   "mimetype": "text/x-python",
   "name": "python",
   "nbconvert_exporter": "python",
   "pygments_lexer": "ipython3",
   "version": "3.12.3"
  }
 },
 "nbformat": 4,
 "nbformat_minor": 5
}
