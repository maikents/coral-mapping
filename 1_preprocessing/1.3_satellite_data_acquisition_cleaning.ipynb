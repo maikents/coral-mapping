{
 "cells": [
  {
   "cell_type": "code",
   "execution_count": 2,
   "id": "02f4cdad-cefe-422b-83a5-11ac1878b5dc",
   "metadata": {},
   "outputs": [],
   "source": [
    "import numpy as np\n",
    "import xarray as xr\n",
    "from netCDF4 import Dataset\n",
    "import pandas as pd\n",
    "import matplotlib.pyplot as plt\n",
    "import netCDF4 as nc\n",
    "import os\n",
    "import glob\n",
    "import re"
   ]
  },
  {
   "cell_type": "code",
   "execution_count": 3,
   "id": "47d26f95-17b7-4e2c-b6e4-a1990837e6d5",
   "metadata": {},
   "outputs": [
    {
     "name": "stdout",
     "output_type": "stream",
     "text": [
      "new folder\n",
      "new folder\n",
      "new folder\n",
      "went through all files\n"
     ]
    }
   ],
   "source": [
    "folder_paths = ['/cluster/home/maikents/satellite_data/MODISA_L3m_CHL_R2022.0-20250317_094824', '/cluster/home/maikents/satellite_data/MODISA_L3m_CHL_R2022.0-20250317_104942', '/cluster/home/maikents/satellite_data/MODISA_L3m_CHL_R2022.0-20250317_102335']\n",
    "\n",
    "chlor_a_data_list = []\n",
    "\n",
    "for folder_path in folder_paths:\n",
    "    print(\"new folder\")\n",
    "    nc_files = [f for f in os.listdir(folder_path) if f.endswith('.nc')]\n",
    "    for file_name in nc_files:\n",
    "        file_path = os.path.join(folder_path, file_name)\n",
    "        \n",
    "        dataset = xr.open_dataset(file_path)\n",
    "\n",
    "        chlor_a_data_list.append(dataset['chlor_a'])\n",
    "\n",
    "        dataset.close()\n",
    "\n",
    "print(\"went through all files\")"
   ]
  },
  {
   "cell_type": "code",
   "execution_count": 4,
   "id": "ed9459d7-9b54-49c3-bae6-fa90d4022358",
   "metadata": {},
   "outputs": [
    {
     "name": "stdout",
     "output_type": "stream",
     "text": [
      "109\n"
     ]
    }
   ],
   "source": [
    "chunk_size = 10\n",
    "n_chunks = int(np.ceil(len(chlor_a_data_list) / chunk_size))\n",
    "\n",
    "print(n_chunks)\n"
   ]
  },
  {
   "cell_type": "code",
   "execution_count": 5,
   "id": "ef3dc0ce-e3f6-4116-8f20-721ff2400a88",
   "metadata": {
    "collapsed": true,
    "jupyter": {
     "outputs_hidden": true,
     "source_hidden": true
    }
   },
   "outputs": [
    {
     "name": "stdout",
     "output_type": "stream",
     "text": [
      "chunk 0 done\n",
      "chunk 1 done\n",
      "chunk 2 done\n",
      "chunk 3 done\n",
      "chunk 4 done\n",
      "chunk 5 done\n",
      "chunk 6 done\n",
      "chunk 7 done\n",
      "chunk 8 done\n",
      "chunk 9 done\n"
     ]
    }
   ],
   "source": [
    "concatenated_result1 = None\n",
    "for i in range(0,10):\n",
    "    chunk = chlor_a_data_list[i * chunk_size: (i + 1) * chunk_size]\n",
    "\n",
    "    chunk_concat = xr.concat(chunk, dim='time')\n",
    "\n",
    "    if concatenated_result1 is None:\n",
    "        concatenated_result1 = chunk_concat\n",
    "    else:\n",
    "        concatenated_result1 = xr.concat([concatenated_result1, chunk_concat], dim='time')\n",
    "    print(f\"chunk {i} done\")\n"
   ]
  },
  {
   "cell_type": "code",
   "execution_count": 8,
   "id": "87c8f40c-ee6c-460e-90d2-d8dca9e66226",
   "metadata": {
    "collapsed": true,
    "jupyter": {
     "outputs_hidden": true,
     "source_hidden": true
    }
   },
   "outputs": [
    {
     "name": "stdout",
     "output_type": "stream",
     "text": [
      "chunk 11 done\n",
      "chunk 12 done\n",
      "chunk 13 done\n",
      "chunk 14 done\n",
      "chunk 15 done\n",
      "chunk 16 done\n",
      "chunk 17 done\n",
      "chunk 18 done\n",
      "chunk 19 done\n",
      "chunk 20 done\n",
      "chunk 21 done\n"
     ]
    }
   ],
   "source": [
    "concatenated_result12 = None\n",
    "for i in range(11,22):\n",
    "    chunk = chlor_a_data_list[i * chunk_size: (i + 1) * chunk_size]\n",
    "\n",
    "    chunk_concat = xr.concat(chunk, dim='time')\n",
    "\n",
    "    if concatenated_result12 is None:\n",
    "        concatenated_result12 = chunk_concat\n",
    "    else:\n",
    "        concatenated_result12 = xr.concat([concatenated_result12, chunk_concat], dim='time')\n",
    "    print(f\"chunk {i} done\")\n"
   ]
  },
  {
   "cell_type": "code",
   "execution_count": 9,
   "id": "ef6357b2-e125-4199-887c-02244d5f4ea5",
   "metadata": {
    "collapsed": true,
    "jupyter": {
     "outputs_hidden": true,
     "source_hidden": true
    }
   },
   "outputs": [
    {
     "name": "stdout",
     "output_type": "stream",
     "text": [
      "chunk 23 done\n",
      "chunk 24 done\n",
      "chunk 25 done\n",
      "chunk 26 done\n",
      "chunk 27 done\n",
      "chunk 28 done\n",
      "chunk 29 done\n",
      "chunk 30 done\n",
      "chunk 31 done\n",
      "chunk 32 done\n",
      "chunk 33 done\n",
      "chunk 34 done\n",
      "chunk 35 done\n"
     ]
    }
   ],
   "source": [
    "concatenated_result13 = None\n",
    "for i in range(23,36):\n",
    "    chunk = chlor_a_data_list[i * chunk_size: (i + 1) * chunk_size]\n",
    "\n",
    "    chunk_concat = xr.concat(chunk, dim='time')\n",
    "\n",
    "    if concatenated_result13 is None:\n",
    "        concatenated_result13 = chunk_concat\n",
    "    else:\n",
    "        concatenated_result13 = xr.concat([concatenated_result13, chunk_concat], dim='time')\n",
    "    print(f\"chunk {i} done\")\n"
   ]
  },
  {
   "cell_type": "code",
   "execution_count": 10,
   "id": "e3504882-5bb6-492d-8e64-76151576bede",
   "metadata": {},
   "outputs": [],
   "source": [
    "concatenated_result1 = xr.concat([concatenated_result1, concatenated_result12, concatenated_result13], dim='time')"
   ]
  },
  {
   "cell_type": "code",
   "execution_count": null,
   "id": "bcdac296-5c0f-4b42-adaa-f999ee47bb44",
   "metadata": {},
   "outputs": [],
   "source": [
    "output_file1 = '/cluster/home/maikents/satellite_data/chunks/chunk1.nc'\n",
    "concatenated_result1.to_netcdf(output_file1)"
   ]
  },
  {
   "cell_type": "code",
   "execution_count": 5,
   "id": "fed1c61a-1487-4fb1-be9b-270639786c4a",
   "metadata": {},
   "outputs": [],
   "source": [
    "concatenated_result2 = None\n",
    "for i in range(37,45):\n",
    "    chunk = chlor_a_data_list[i * chunk_size: (i + 1) * chunk_size]\n",
    "\n",
    "    chunk_concat = xr.concat(chunk, dim='time')\n",
    "\n",
    "    if concatenated_result2 is None:\n",
    "        concatenated_result2 = chunk_concat\n",
    "    else:\n",
    "        concatenated_result2 = xr.concat([concatenated_result2, chunk_concat], dim='time')\n"
   ]
  },
  {
   "cell_type": "code",
   "execution_count": 6,
   "id": "42bf430c-3ac9-43e4-9af3-c9547e85da48",
   "metadata": {},
   "outputs": [],
   "source": [
    "concatenated_result22 = None\n",
    "for i in range(46,59):\n",
    "    chunk = chlor_a_data_list[i * chunk_size: (i + 1) * chunk_size]\n",
    "\n",
    "    chunk_concat = xr.concat(chunk, dim='time')\n",
    "\n",
    "    if concatenated_result22 is None:\n",
    "        concatenated_result22 = chunk_concat\n",
    "    else:\n",
    "        concatenated_result22 = xr.concat([concatenated_result22, chunk_concat], dim='time')\n"
   ]
  },
  {
   "cell_type": "code",
   "execution_count": 7,
   "id": "1cfe95b4-9907-4ec5-a2cb-b60f68204ece",
   "metadata": {},
   "outputs": [],
   "source": [
    "concatenated_result23 = None\n",
    "for i in range(60,72):\n",
    "    chunk = chlor_a_data_list[i * chunk_size: (i + 1) * chunk_size]\n",
    "\n",
    "    chunk_concat = xr.concat(chunk, dim='time')\n",
    "\n",
    "    if concatenated_result23 is None:\n",
    "        concatenated_result23 = chunk_concat\n",
    "    else:\n",
    "        concatenated_result23 = xr.concat([concatenated_result23, chunk_concat], dim='time')"
   ]
  },
  {
   "cell_type": "code",
   "execution_count": null,
   "id": "66163195-d6cb-4446-807c-47ae9d333c77",
   "metadata": {},
   "outputs": [],
   "source": [
    "output_file2 = '/cluster/home/maikents/satellite_data/chunks/chunk2.nc'\n",
    "concatenated_result2.to_netcdf(output_file2)"
   ]
  },
  {
   "cell_type": "code",
   "execution_count": null,
   "id": "6b912ad3-73e8-4265-ade1-83756c9a853e",
   "metadata": {},
   "outputs": [],
   "source": [
    "concatenated_result3 = None\n",
    "for i in range(73,109):\n",
    "    chunk = chlor_a_data_list[i * chunk_size: (i + 1) * chunk_size]\n",
    "\n",
    "    chunk_concat = xr.concat(chunk, dim='time')\n",
    "\n",
    "    if concatenated_result3 is None:\n",
    "        concatenated_result3 = chunk_concat\n",
    "    else:\n",
    "        concatenated_result3 = xr.concat([concatenated_result3, chunk_concat], dim='time')\n"
   ]
  },
  {
   "cell_type": "code",
   "execution_count": null,
   "id": "4887fbfd-b4d6-46ef-9711-4ba37e88ff81",
   "metadata": {},
   "outputs": [],
   "source": [
    "output_file3 = '/cluster/home/maikents/satellite_data/chunks/chunk3.nc'\n",
    "concatenated_result3.to_netcdf(output_file3)"
   ]
  },
  {
   "cell_type": "code",
   "execution_count": null,
   "id": "f2f77365-f36d-43d4-a514-517268686d86",
   "metadata": {},
   "outputs": [],
   "source": [
    "concatenated_result = xr.concat([concatenated_result1, concatenated_result2, concatenated_result3], dim='time')"
   ]
  },
  {
   "cell_type": "code",
   "execution_count": null,
   "id": "a5f49e06-10da-49bc-a1d6-dd0eb300d36c",
   "metadata": {},
   "outputs": [],
   "source": [
    "chl_time_avg = concatenated_result.mean(dim='time')\n",
    "print(\"averaged data\")\n"
   ]
  },
  {
   "cell_type": "code",
   "execution_count": null,
   "id": "4e20c092-44fe-42f6-a2ff-2931bf9197f8",
   "metadata": {},
   "outputs": [],
   "source": [
    "output_file = '/cluster/home/maikents/satellite_data/chlorophyll_time_avg.nc'\n",
    "chl_time_avg.to_netcdf(output_file)\n",
    "\n",
    "\n",
    "print(f\"Time-averaged chlorophyll data saved to {output_file}\")\n",
    "\n",
    "\"\"\"\n",
    "The output of the time-averaged chlorophyll data will look like this:\n",
    "Dimensions: (lat, lon)\n",
    "Data: Each point on the grid will have the average chlorophyll concentration over the period you’re averaging (in this case, across three years).\n",
    "\"\"\""
   ]
  }
 ],
 "metadata": {
  "kernelspec": {
   "display_name": "Python 3 (ipykernel)",
   "language": "python",
   "name": "python3"
  },
  "language_info": {
   "codemirror_mode": {
    "name": "ipython",
    "version": 3
   },
   "file_extension": ".py",
   "mimetype": "text/x-python",
   "name": "python",
   "nbconvert_exporter": "python",
   "pygments_lexer": "ipython3",
   "version": "3.12.3"
  }
 },
 "nbformat": 4,
 "nbformat_minor": 5
}
