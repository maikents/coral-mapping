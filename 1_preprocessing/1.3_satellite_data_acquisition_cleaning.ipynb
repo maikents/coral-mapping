{
 "cells": [
  {
   "cell_type": "code",
   "execution_count": 6,
   "id": "02f4cdad-cefe-422b-83a5-11ac1878b5dc",
   "metadata": {},
   "outputs": [],
   "source": [
    "import numpy as np\n",
    "import xarray as xr\n",
    "from netCDF4 import Dataset\n",
    "import pandas as pd\n",
    "import matplotlib.pyplot as plt\n",
    "import netCDF4 as nc\n",
    "import os\n",
    "import glob\n",
    "import re"
   ]
  },
  {
   "cell_type": "code",
   "execution_count": 3,
   "id": "723be9fe-5b12-4bc9-8c48-27fe2009cf55",
   "metadata": {},
   "outputs": [],
   "source": [
    "satellite_folders = [\"/cluster/home/maikents/satellite_data/MODISA_L3m_CHL_R2022.0-20250313_114001\", \"/cluster/home/maikents/satellite_data/MODISA_L3m_CHL_R2022.0-20250313_115610\", \"/cluster/home/maikents/satellite_data/MODISA_L3m_CHL_R2022.0-20250313_121425\"]"
   ]
  },
  {
   "cell_type": "code",
   "execution_count": null,
   "id": "ece9362f-3777-4f23-882f-4c454bb9d2e1",
   "metadata": {},
   "outputs": [],
   "source": [
    "nc_files = []\n",
    "for folder in satellite_folders:\n",
    "    nc_files.extend(glob.glob(os.path.join(folder, \"*.nc\")))\n",
    "\n",
    "datasets = []\n",
    "date_pattern = re.compile(r\"(\\d{4})(\\d{2})(\\d{2})\")  #Extract YYYY MM DD\n",
    "\n",
    "for file in nc_files:\n",
    "    ds = xr.open_dataset(file)\n",
    "    \n",
    "    match = date_pattern.search(file)\n",
    "    if match:\n",
    "        year, month, day = map(int, match.groups())\n",
    "        time_value = pd.Timestamp(year, month, day)\n",
    "        \n",
    "        ds = ds.expand_dims(\"time\").assign_coords(time=[time_value])\n",
    "\n",
    "        datasets.append(ds)\n",
    "\n",
    "combined_dataset = xr.concat(datasets, dim=\"time\")\n",
    "\n",
    "output_file = \"/cluster/home/maikents/satellite_data/combined_satellite_data.nc\"\n",
    "combined_dataset.to_netcdf(output_file)\n",
    "\n",
    "print(\"Combined dataset saved:\", output_file)\n"
   ]
  },
  {
   "cell_type": "code",
   "execution_count": null,
   "id": "2ff3632d-7154-4048-950f-6e830422ec14",
   "metadata": {},
   "outputs": [],
   "source": []
  }
 ],
 "metadata": {
  "kernelspec": {
   "display_name": "Python 3 (ipykernel)",
   "language": "python",
   "name": "python3"
  },
  "language_info": {
   "codemirror_mode": {
    "name": "ipython",
    "version": 3
   },
   "file_extension": ".py",
   "mimetype": "text/x-python",
   "name": "python",
   "nbconvert_exporter": "python",
   "pygments_lexer": "ipython3",
   "version": "3.12.3"
  }
 },
 "nbformat": 4,
 "nbformat_minor": 5
}
