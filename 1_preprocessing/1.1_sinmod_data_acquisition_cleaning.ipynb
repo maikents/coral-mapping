{
 "cells": [
  {
   "cell_type": "code",
   "execution_count": 1,
   "id": "81c35af1-f84a-412d-a59f-dedaf1cc2460",
   "metadata": {},
   "outputs": [],
   "source": [
    "import numpy as np\n",
    "import xarray as xr\n",
    "import time \n",
    "import os\n",
    "from netCDF4 import Dataset\n",
    "from pyproj import CRS\n",
    "import rasterio\n",
    "import rioxarray\n",
    "from rasterio.enums import Resampling\n",
    "from sklearn.preprocessing import StandardScaler\n"
   ]
  },
  {
   "cell_type": "code",
   "execution_count": 4,
   "id": "8f70ce24-e85a-469b-8913-5a49635c57ed",
   "metadata": {},
   "outputs": [],
   "source": [
    "#For calculating statistical northness and eastness\n",
    "\n",
    "filename_physstates_2d = '/cluster/projects/itk-SINMOD/coral-mapping/midnor/samp_2D_jan_jun.nc'\n",
    "physstates_2d = Dataset(filename_physstates_2d, 'r')\n",
    "gridLons = physstates_2d.variables['gridLons']"
   ]
  },
  {
   "cell_type": "code",
   "execution_count": 2,
   "id": "e1eacd99-a838-4e34-ae97-eb68ae2e4ebe",
   "metadata": {},
   "outputs": [],
   "source": [
    "filename_sinmod = '/cluster/projects/itk-SINMOD/coral-mapping/midnor/PhysStates_2019.nc'\n",
    "sinmod_2019 = xr.open_dataset(filename_sinmod)"
   ]
  },
  {
   "cell_type": "code",
   "execution_count": 3,
   "id": "260f557b-d71f-495d-8651-c612ffa89012",
   "metadata": {},
   "outputs": [
    {
     "name": "stdout",
     "output_type": "stream",
     "text": [
      "['time', 'grid_mapping', 'LayerDepths', 'xc', 'yc', 'zc', 'depth', 'DXxDYy', 'u_velocity', 'v_velocity', 'elevation', 'temperature', 'salinity', 'ice_thickness', 'ice_compactness', 'salinity_ice']\n"
     ]
    }
   ],
   "source": [
    "print(list(sinmod_2019.variables))"
   ]
  },
  {
   "cell_type": "code",
   "execution_count": 3,
   "id": "48fb4625-cfb2-4c82-a8ca-37acd3fba5cf",
   "metadata": {},
   "outputs": [],
   "source": [
    "#Create bottom-features \n",
    "\n",
    "def process_bottom_layer(filepath,\n",
    "    variable_name,\n",
    "    gridLons=None,  # To calculate statistical northness and eastness\n",
    "    output_path=None\n",
    "):\n",
    "    \"\"\"\n",
    "    Process bottom layer data for a specified variable in a NetCDF file.\n",
    "\n",
    "    Parameters:\n",
    "    - filepath (str): Path to the NetCDF file.\n",
    "    - variable_name (str): Name of the variable to process.\n",
    "    - output_path (str): Path to save the processed file (optional). If None, the result is not saved.\n",
    "    \n",
    "    Returns:\n",
    "    - xarray.DataArray: The time-averaged bottom layer data.\n",
    "    \"\"\"\n",
    "\n",
    "    # Check if output path is valid\n",
    "    if output_path is not None:\n",
    "        output_dir = os.path.dirname(output_path)\n",
    "        if not os.path.exists(output_dir):\n",
    "            os.makedirs(output_dir)\n",
    "        elif not os.access(output_dir, os.W_OK):\n",
    "            raise PermissionError(f\"Write permission denied for the directory: {output_dir}\")\n",
    "\n",
    "    time_start = time.time()\n",
    "\n",
    "    ds = xr.open_dataset(filepath)\n",
    "    print(f\"\\nAccessed the dataset after {time.time() - time_start:.2f} seconds\")\n",
    "\n",
    "    # Drop NaN values along specified dimensions\n",
    "    #for dim in [\"time\", \"xc\", \"yc\"]:\n",
    "     #   if dim in ds.dims:  \n",
    "      #      ds = ds.dropna(dim=dim, how=\"any\")\n",
    "\n",
    "    # Extract the desired variable\n",
    "    if variable_name == \"current_speed\" or variable_name in [\"statistical_northness\", \"statistical_eastness\"]:\n",
    "        data_var = ds[\"u_velocity\"]\n",
    "    elif variable_name == \"temperature_sundahl\":\n",
    "        data_var = ds[\"temperature\"]\n",
    "    else:\n",
    "        data_var = ds[variable_name]\n",
    "\n",
    "    # Extract the first time step\n",
    "    time_slice = data_var.isel(time=0)\n",
    "\n",
    "    # Create a mask for valid values in the first time step\n",
    "    valid_mask = ~time_slice.isnull()\n",
    "\n",
    "    # Find the index of the bottom-most valid layer for each (yc, xc)\n",
    "    bottom_layer_idx = valid_mask.argmin(dim=\"zc\") - 1\n",
    "\n",
    "    # Ensure bottom_layer_idx does not go negative\n",
    "    bottom_layer_idx = bottom_layer_idx.clip(min=0)\n",
    "\n",
    "    # Extract the bottom layer data across all time steps\n",
    "    if variable_name == \"current_speed\":\n",
    "        bottom_layer_data = (data_var.isel(zc=bottom_layer_idx) ** 2 + ds[\"v_velocity\"].isel(zc=bottom_layer_idx) ** 2) ** 0.5\n",
    "    elif variable_name in [\"statistical_northness\", \"statistical_eastness\"]:\n",
    "        longitude_of_projection_origin = ds[\"grid_mapping\"].attrs[\"longitude_of_projection_origin\"]\n",
    "        theta = gridLons - longitude_of_projection_origin\n",
    "        eastward_velocity = data_var.isel(zc=bottom_layer_idx) * np.cos(np.deg2rad(theta)) - ds[\"v_velocity\"].isel(zc=bottom_layer_idx) * np.sin(np.deg2rad(theta))\n",
    "        northward_velocity = data_var.isel(zc=bottom_layer_idx) * np.sin(np.deg2rad(theta)) + ds[\"v_velocity\"].isel(zc=bottom_layer_idx) * np.cos(np.deg2rad(theta))\n",
    "        aspect = np.arctan2(eastward_velocity, northward_velocity)\n",
    "\n",
    "        if variable_name == 'statistical_eastness':\n",
    "            bottom_layer_data = np.sin(aspect)\n",
    "        else:\n",
    "            bottom_layer_data = np.cos(aspect)\n",
    "    else:\n",
    "        bottom_layer_data = data_var.isel(zc=bottom_layer_idx)\n",
    "\n",
    "    ds.close()\n",
    "\n",
    "    print(f\"\\nExtracted the bottom layer data after {time.time() - time_start:.2f} seconds.\\n\\nStarting computation of statistics...\")\n",
    "\n",
    "    if variable_name == 'temperature_sundahl':\n",
    "        print(\"variable is sundahl temp\")\n",
    "\n",
    "        march_may_data = bottom_layer_data.isel(time=slice(59, 151))\n",
    "        oct_dec_data = bottom_layer_data.isel(time=slice(273, 365))\n",
    "        print(\"extracted months\")\n",
    "        \"\"\"\n",
    "        # Convert time dimension to datetime64 if it's not already\n",
    "        if not np.issubdtype(bottom_layer_data['time'].dtype, np.datetime64):\n",
    "            bottom_layer_data['time'] = xr.decode_cf(bottom_layer_data)['time']\n",
    "        \n",
    "        # Extract March-May and October-December using time accessor\n",
    "        march_may_data = bottom_layer_data.where(bottom_layer_data['time'].dt.month.isin([3, 4, 5]), drop=True)\n",
    "        oct_dec_data = bottom_layer_data.where(bottom_layer_data['time'].dt.month.isin([10, 11, 12]), drop=True)\n",
    "        \"\"\"\n",
    "        # Compute seasonal means\n",
    "        mean_march_may = march_may_data.mean(dim=\"time\", skipna=True)\n",
    "        mean_oct_dec = oct_dec_data.mean(dim=\"time\", skipna=True)\n",
    "        print(\"means extracted\")\n",
    "    \n",
    "        print(f\"\\nComputed statistics after {time.time() - time_start:.2f} seconds\")\n",
    "    \n",
    "        # Concatenate with explicit naming\n",
    "        stats_array = xr.concat([mean_march_may, mean_oct_dec], dim=\"stat\").rename(f\"{variable_name}_features\")\n",
    "        stats_array = stats_array.assign_coords(stat=[\"min_(mean_march_may)\", \"max_(mean_oct_dec)\"])\n",
    "    else:\n",
    "        # Calculate statistics across time\n",
    "        time_avg_bottom_layer = bottom_layer_data.mean(dim=\"time\", skipna=True)\n",
    "\n",
    "        # Calculate both 10th and 90th percentiles\n",
    "        time_percentiles = bottom_layer_data.quantile([0.1, 0.9], dim=\"time\", skipna=True)\n",
    "\n",
    "        print(f\"\\nComputed statistics after {time.time() - time_start:.2f} seconds\")\n",
    "\n",
    "        # Concatenate mean and percentiles into a DataArray\n",
    "        stats_array = xr.concat(\n",
    "            [time_avg_bottom_layer, time_percentiles.sel(quantile=0.1).drop_vars(\"quantile\"), \n",
    "             time_percentiles.sel(quantile=0.9).drop_vars(\"quantile\")],\n",
    "            dim=\"stat\"\n",
    "        ).rename(f\"{variable_name}_features\")\n",
    "        stats_array = stats_array.assign_coords(stat=[\"mean\", \"10th_percentile\", \"90th_percentile\"])\n",
    "\n",
    "    # Save to output file if specified\n",
    "    if output_path:\n",
    "        stats_array.to_netcdf(output_path, mode='w')\n",
    "\n",
    "    return stats_array"
   ]
  },
  {
   "cell_type": "code",
   "execution_count": null,
   "id": "f844939f-b80b-4ced-b866-954f59644623",
   "metadata": {
    "scrolled": true
   },
   "outputs": [],
   "source": [
    "#Run for desired features\n",
    "\n",
    "#Run on temperature data (sundahl definition)\n",
    "#process_bottom_layer(\"/cluster/projects/itk-SINMOD/coral-mapping/midnor/PhysStates_2019.nc\", \"temperature_sundahl\", output_path=\"/cluster/home/maikents/features_midnor_2019/bottom_features/temperature_sundahl_bottom_features.nc\")\n",
    "\n",
    "#Run on statistical northness\n",
    "#process_bottom_layer(\"/cluster/projects/itk-SINMOD/coral-mapping/midnor/PhysStates_2019.nc\", \"statistical_northness\", gridLons, output_path=\"/cluster/home/maikents/features_midnor_2019/bottom_features/statistical_northness_bottom_features.nc\")\n",
    "\n",
    "#Run on statistical eastness\n",
    "#process_bottom_layer(\"/cluster/projects/itk-SINMOD/coral-mapping/midnor/PhysStates_2019.nc\", \"statistical_eastness\", gridLons, output_path=\"/cluster/home/maikents/features_midnor_2019/bottom_features/statistical_eastness_bottom_features.nc\")\n",
    "\n",
    "#Run on salinity\n",
    "#process_bottom_layer(\"/cluster/projects/itk-SINMOD/coral-mapping/midnor/PhysStates_2019.nc\", \"salinity\", gridLons, output_path=\"/cluster/home/maikents/features_midnor_2019/bottom_features/salinity_bottom_features.nc\")\n",
    "\n",
    "#Run on current speed\n",
    "#process_bottom_layer(\"/cluster/projects/itk-SINMOD/coral-mapping/midnor/PhysStates_2019.nc\", \"current_speed\", output_path=\"/cluster/home/maikents/features_midnor_2019/bottom_features/current_speed_bottom_features.nc\")\n"
   ]
  },
  {
   "cell_type": "code",
   "execution_count": 4,
   "id": "cbb354a7-9cd5-41ae-92ba-124215a0a09d",
   "metadata": {},
   "outputs": [],
   "source": [
    "temperature = xr.open_dataset(\"/cluster/home/maikents/features_midnor_2019/bottom_features/temperature_sundahl_bottom_features.nc\")\n",
    "statistical_northness = xr.open_dataset(\"/cluster/home/maikents/features_midnor_2019/bottom_features/statistical_northness_bottom_features.nc\")\n",
    "statistical_eastness = xr.open_dataset(\"/cluster/home/maikents/features_midnor_2019/bottom_features/statistical_eastness_bottom_features.nc\")\n",
    "salinity = xr.open_dataset(\"/cluster/home/maikents/features_midnor_2019/bottom_features/salinity_bottom_features.nc\")\n",
    "current_speed = xr.open_dataset(\"/cluster/home/maikents/features_midnor_2019/bottom_features/current_speed_bottom_features.nc\")\n"
   ]
  },
  {
   "cell_type": "code",
   "execution_count": null,
   "id": "d270f64e-52bb-4c28-a905-528720df30b3",
   "metadata": {},
   "outputs": [],
   "source": [
    "#Align SINMOD and EMOD data into same format. Returns a big array of all the features including EMOD and SINMOD, \n",
    "#with the same grid spacing and EPRSG."
   ]
  },
  {
   "cell_type": "code",
   "execution_count": 5,
   "id": "3df8e133-b9c7-4545-8d21-fa8052e4710c",
   "metadata": {},
   "outputs": [
    {
     "name": "stdout",
     "output_type": "stream",
     "text": [
      "<xarray.Dataset> Size: 74MB\n",
      "Dimensions:                                (xc: 950, yc: 555, stat: 5)\n",
      "Coordinates:\n",
      "  * xc                                     (xc) float32 4kB 800.0 ... 7.6e+05\n",
      "  * yc                                     (yc) float32 2kB 800.0 ... 4.44e+05\n",
      "  * stat                                   (stat) <U20 400B '10th_percentile'...\n",
      "Data variables:\n",
      "    bottom_temperature_sundahl_features    (stat, yc, xc) float32 11MB nan .....\n",
      "    bottom_salinity_features               (stat, yc, xc) float32 11MB nan .....\n",
      "    bottom_current_features                (stat, yc, xc) float32 11MB nan .....\n",
      "    bottom_statistical_northness_features  (stat, yc, xc) float64 21MB nan .....\n",
      "    bottom_statistical_eastness_features   (stat, yc, xc) float64 21MB nan .....\n"
     ]
    }
   ],
   "source": [
    "#1: Load and combine all bottom features \n",
    "SINMOD_features = xr.Dataset({\n",
    "    'bottom_temperature_sundahl_features': temperature[\"temperature_sundahl_features\"],\n",
    "    'bottom_salinity_features': salinity[\"salinity_features\"],\n",
    "    'bottom_current_features': current_speed[\"current_speed_features\"],\n",
    "    'bottom_statistical_northness_features': statistical_northness[\"statistical_northness_features\"],\n",
    "    'bottom_statistical_eastness_features': statistical_eastness[\"statistical_eastness_features\"],\n",
    "})\n",
    "\n",
    "temperature.close()\n",
    "salinity.close()\n",
    "current_speed.close()\n",
    "statistical_northness.close()\n",
    "statistical_eastness.close()\n",
    "\n",
    "del temperature\n",
    "del salinity\n",
    "del current_speed\n",
    "del statistical_northness\n",
    "del statistical_eastness\n",
    "\n",
    "\n",
    "SINMOD_features = SINMOD_features.reset_coords(drop=True)\n",
    "\n",
    "print(SINMOD_features)"
   ]
  },
  {
   "cell_type": "code",
   "execution_count": 9,
   "id": "6b215426-0941-44ff-a336-6ab662c7259f",
   "metadata": {},
   "outputs": [
    {
     "name": "stdout",
     "output_type": "stream",
     "text": [
      "Null land points: 102334\n",
      "Ocean points: 424916\n",
      "Total points: 527250\n"
     ]
    }
   ],
   "source": [
    "#2: Get null land points as verification\n",
    "null_land_points = sinmod_2019['temperature'].isel(time=0, zc=0).isnull().sum().values\n",
    "\n",
    "ocean_points = sinmod_2019['temperature'].isel(time=0, zc=0).notnull().sum().values\n",
    "\n",
    "print(f\"Null land points: {null_land_points}\")\n",
    "print(f\"Ocean points: {ocean_points}\")\n",
    "print(f\"Total points: {null_land_points + ocean_points}\")"
   ]
  },
  {
   "cell_type": "code",
   "execution_count": 6,
   "id": "7d7ecbb9-fabf-4293-a933-2ea8f94bfa20",
   "metadata": {},
   "outputs": [
    {
     "name": "stdout",
     "output_type": "stream",
     "text": [
      "\n",
      "Horizontal resolution: 800.0 meters\n",
      "\n",
      "SINMOD CRS: +proj=stere +lat_0=90.0 +lat_ts=60.0 +lon_0=58.0 +x_0=2544800.0 +y_0=1918800.0 +a=6370000.0 +b=6370000.0 +units=m +no_defs +type=crs\n"
     ]
    }
   ],
   "source": [
    "#3: Get the SINMOD crs and attach it to the dataset\n",
    "\n",
    "def obtain_sinmod_crs(PhysStates_data):\n",
    "    grid_mapping = PhysStates_data['grid_mapping']  #Replace 'grid_mapping' with the correct variable name if different\n",
    "    grid_attrs = grid_mapping.attrs  \n",
    "\n",
    "    #Print horizontal resolution if available\n",
    "    horizontal_resolution = grid_attrs.get('horizontal_resolution', 'unknown')\n",
    "    print(f\"\\nHorizontal resolution: {horizontal_resolution} meters\")\n",
    "\n",
    "    #Construct the CRS using the attributes\n",
    "    crs_sinmod = CRS.from_proj4(\n",
    "        f\"+proj=stere \"\n",
    "        f\"+lat_0={grid_attrs['latitude_of_projection_origin']} \"\n",
    "        f\"+lat_ts={grid_attrs['standard_parallel']} \"\n",
    "        f\"+lon_0={grid_attrs['straight_vertical_longitude_from_pole']} \"\n",
    "        f\"+x_0={grid_attrs['false_easting']} \"\n",
    "        f\"+y_0={grid_attrs['false_northing']} \"\n",
    "        f\"+a={grid_attrs['semi_major_axis']} \"\n",
    "        f\"+b={grid_attrs['semi_minor_axis']} \"\n",
    "        f\"+units=m +no_defs\"\n",
    "    )\n",
    "\n",
    "    print(f\"\\nSINMOD CRS: {crs_sinmod}\")\n",
    "    return crs_sinmod\n",
    "\n",
    "midnor_crs = obtain_sinmod_crs(sinmod_2019)\n",
    "\n",
    "del(sinmod_2019)\n",
    "\n",
    "#Attach the crs to the SINMOD dataset\n",
    "SINMOD_features = SINMOD_features.rio.write_crs(midnor_crs)"
   ]
  },
  {
   "cell_type": "code",
   "execution_count": 7,
   "id": "57eacb2a-3cbb-42d2-ba62-aa84ee296612",
   "metadata": {},
   "outputs": [
    {
     "name": "stdout",
     "output_type": "stream",
     "text": [
      "(-148857.58868623473, 6580002.847672726, 866884.4113137652, 7621679.847672726)\n"
     ]
    }
   ],
   "source": [
    "#4: Align the SINMOD data with the bathymetry\n",
    "\n",
    "tif_file = '/cluster/projects/itk-SINMOD/coral-mapping/data/raw_data/EMOD-tifs/bathymetry_32N_Clip_sample.tif'\n",
    "\n",
    "tif_files = ['/cluster/projects/itk-SINMOD/coral-mapping/data/raw_data/EMOD-tifs/aspect_cos.tif', '/cluster/projects/itk-SINMOD/coral-mapping/data/raw_data/EMOD-tifs/aspect_sin.tif', '/cluster/projects/itk-SINMOD/coral-mapping/data/raw_data/EMOD-tifs/bathymetry_32N_Clip_sample.tif', '/cluster/projects/itk-SINMOD/coral-mapping/data/raw_data/EMOD-tifs/broad_BPI_std.tif',\n",
    "             '/cluster/projects/itk-SINMOD/coral-mapping/data/raw_data/EMOD-tifs/fine_BPI_std.tif', '/cluster/projects/itk-SINMOD/coral-mapping/data/raw_data/EMOD-tifs/log_ruggedness_1.tif', '/cluster/projects/itk-SINMOD/coral-mapping/data/raw_data/EMOD-tifs/slope.tif']\n",
    "\n",
    "\n",
    "def align_SINMOD_and_bathymetry(SINMOD_features, tif_file, resampling=Resampling.bilinear):\n",
    "        \n",
    "    with rioxarray.open_rasterio(tif_file) as tif:\n",
    "\n",
    "        #Remove the band dimension from the tif data\n",
    "        if 'band' in tif.dims:\n",
    "            tif = tif.isel(band=0)\n",
    "\n",
    "        SINMOD_features_reprojected = SINMOD_features.rio.reproject_match(tif, resampling=resampling)\n",
    "\n",
    "        print(SINMOD_features_reprojected.rio.bounds())\n",
    "\n",
    "        \n",
    "        sinmod_mask = SINMOD_features_reprojected['bottom_temperature_sundahl_features'][0].isnull()\n",
    "\n",
    "        #Apply the mask to the EMOD data\n",
    "        tif = tif.where(~sinmod_mask, np.nan)\n",
    "\n",
    "        valid_mask = SINMOD_features_reprojected['bottom_temperature_sundahl_features'][0].notnull()\n",
    "\n",
    "        valid_columns = valid_mask.any(dim=\"y\")  \n",
    "        min_col = valid_columns.argmax().item()  #First non-NaN column from the left\n",
    "        max_col = valid_columns.shape[0] - valid_columns[::-1].argmax().item() - 1  #First non-NaN column from the right\n",
    "\n",
    "        #Find the first valid row (non-NaN) from the top (min row index)\n",
    "        valid_rows = valid_mask.any(dim=\"x\")  #Check for valid values in each row\n",
    "        min_row = valid_rows.argmax().item()  #First non-NaN row from the top\n",
    "        max_row = valid_rows.shape[0] - valid_rows[::-1].argmax().item() - 1  #Adjust for reverse indexing\n",
    "\n",
    "        #Slice the raster to the bounding box of valid data\n",
    "        clipped_SINMOD_features = SINMOD_features_reprojected.isel(x=slice(min_col, max_col + 1), y=slice(min_row, max_row + 1))\n",
    "        \n",
    "        clipped_tif = tif.rio.clip_box(minx=clipped_SINMOD_features.rio.bounds()[0]+1, \n",
    "                                        miny=clipped_SINMOD_features.rio.bounds()[1], \n",
    "                                        maxx=clipped_SINMOD_features.rio.bounds()[2], \n",
    "                                        maxy=clipped_SINMOD_features.rio.bounds()[3])\n",
    "        \n",
    "        clipped_tif = clipped_tif.reset_coords(drop=True)\n",
    "\n",
    "    return clipped_SINMOD_features, clipped_tif\n",
    "\n",
    "SINMOD_features_reprojected, tif = align_SINMOD_and_bathymetry(SINMOD_features, tif_file)"
   ]
  },
  {
   "cell_type": "code",
   "execution_count": 11,
   "id": "222fb12b-9377-4914-8cb1-541a3ec38018",
   "metadata": {},
   "outputs": [
    {
     "name": "stdout",
     "output_type": "stream",
     "text": [
      "['stat', 'spatial_ref', 'x', 'y', 'bottom_temperature_sundahl_features', 'bottom_salinity_features', 'bottom_current_features', 'bottom_statistical_northness_features', 'bottom_statistical_eastness_features']\n",
      "<class 'xarray.core.dataset.Dataset'>\n"
     ]
    }
   ],
   "source": [
    "print(list(SINMOD_features_reprojected.variables))\n",
    "print(type(SINMOD_features_reprojected))"
   ]
  },
  {
   "cell_type": "code",
   "execution_count": 19,
   "id": "6197ff02-2aaf-486d-87fb-1b51e8e7fd0a",
   "metadata": {
    "collapsed": true,
    "jupyter": {
     "outputs_hidden": true
    }
   },
   "outputs": [
    {
     "ename": "AssertionError",
     "evalue": "",
     "output_type": "error",
     "traceback": [
      "\u001b[0;31m---------------------------------------------------------------------------\u001b[0m",
      "\u001b[0;31mAssertionError\u001b[0m                            Traceback (most recent call last)",
      "Cell \u001b[0;32mIn[19], line 4\u001b[0m\n\u001b[1;32m      1\u001b[0m \u001b[38;5;66;03m#5: Handle missing values in the SINMOD dataset, make sure NaNs are consistent throughout\u001b[39;00m\n\u001b[1;32m      2\u001b[0m \n\u001b[1;32m      3\u001b[0m \u001b[38;5;66;03m#Check that all features have the same null points\u001b[39;00m\n\u001b[0;32m----> 4\u001b[0m \u001b[38;5;28;01massert\u001b[39;00m (SINMOD_features_reprojected[\u001b[38;5;124m'\u001b[39m\u001b[38;5;124mbottom_temperature_sundahl_features\u001b[39m\u001b[38;5;124m'\u001b[39m]\u001b[38;5;241m.\u001b[39misnull() \u001b[38;5;241m==\u001b[39m \n\u001b[1;32m      5\u001b[0m     SINMOD_features_reprojected[\u001b[38;5;124m'\u001b[39m\u001b[38;5;124mbottom_salinity_features\u001b[39m\u001b[38;5;124m'\u001b[39m]\u001b[38;5;241m.\u001b[39misnull())\u001b[38;5;241m.\u001b[39mall()\n\u001b[1;32m      6\u001b[0m \u001b[38;5;28;01massert\u001b[39;00m (SINMOD_features_reprojected[\u001b[38;5;124m'\u001b[39m\u001b[38;5;124mbottom_temperature_sundahl_features\u001b[39m\u001b[38;5;124m'\u001b[39m]\u001b[38;5;241m.\u001b[39misnull() \u001b[38;5;241m==\u001b[39m \n\u001b[1;32m      7\u001b[0m     SINMOD_features_reprojected[\u001b[38;5;124m'\u001b[39m\u001b[38;5;124mbottom_current_features\u001b[39m\u001b[38;5;124m'\u001b[39m]\u001b[38;5;241m.\u001b[39misnull())\u001b[38;5;241m.\u001b[39mall()\n\u001b[1;32m      9\u001b[0m \u001b[38;5;66;03m#Check that if one is not null, then they are all not null\u001b[39;00m\n",
      "\u001b[0;31mAssertionError\u001b[0m: "
     ]
    }
   ],
   "source": [
    "#5: Handle missing values in the SINMOD dataset, make sure NaNs are consistent throughout\n",
    "\n",
    "#Check that all features have the same null points\n",
    "assert (SINMOD_features_reprojected['bottom_temperature_sundahl_features'].isnull() == \n",
    "    SINMOD_features_reprojected['bottom_salinity_features'].isnull()).all()\n",
    "assert (SINMOD_features_reprojected['bottom_temperature_sundahl_features'].isnull() == \n",
    "    SINMOD_features_reprojected['bottom_current_features'].isnull()).all()\n",
    "\n",
    "#Check that if one is not null, then they are all not null\n",
    "assert (SINMOD_features_reprojected['bottom_temperature_sundahl_features'].notnull() == \n",
    "    SINMOD_features_reprojected['bottom_salinity_features'].notnull()).all()\n",
    "assert (SINMOD_features_reprojected['bottom_temperature_sundahl_features'].notnull() == \n",
    "    SINMOD_features_reprojected['bottom_current_features'].notnull()).all()\n",
    "\n",
    "#Ensure that tif is NaN everywhere SINMOD_features_reprojected is NaN\n",
    "assert np.all(np.isnan(tif.values) == np.isnan(SINMOD_features_reprojected['bottom_temperature_sundahl_features'][0].values))\n",
    "\n",
    "#Ensure that tif is non-Nan everywhere SINMOD_features_reprojected is non-NaN\n",
    "assert np.all(np.isfinite(tif.values) == np.isfinite(SINMOD_features_reprojected['bottom_temperature_sundahl_features'][0].values))"
   ]
  },
  {
   "cell_type": "code",
   "execution_count": 9,
   "id": "2d8c67c0-c77e-4ea2-8af1-8f1e8cd12836",
   "metadata": {
    "collapsed": true,
    "jupyter": {
     "outputs_hidden": true
    }
   },
   "outputs": [
    {
     "name": "stdout",
     "output_type": "stream",
     "text": [
      "\n",
      " File to compare is:  /cluster/projects/itk-SINMOD/coral-mapping/data/raw_data/EMOD-tifs/aspect_cos.tif\n",
      "\n",
      " Checking file:  /cluster/projects/itk-SINMOD/coral-mapping/data/raw_data/EMOD-tifs/aspect_sin.tif\n",
      "Properties match.\n",
      "\n",
      " Checking file:  /cluster/projects/itk-SINMOD/coral-mapping/data/raw_data/EMOD-tifs/bathymetry_32N_Clip_sample.tif\n",
      "Mismatch found in /cluster/projects/itk-SINMOD/coral-mapping/data/raw_data/EMOD-tifs/bathymetry_32N_Clip_sample.tif\n",
      "Expected bounds: (-65592.58868623473, 6656715.847672726, 784256.4113137652, 7539233.847672726), Found: (-148857.58868623473, 6580002.847672726, 866884.4113137652, 7621679.847672726)\n",
      "Expected CRS: EPSG:32632, Found: EPSG:32632\n",
      "Expected resolution: (91.0, -91.0), Found: (91.0, -91.0)\n",
      "Expected dimensions: (1, 9698, 9339), Found: (1, 11447, 11162)\n",
      "\n",
      " Checking file:  /cluster/projects/itk-SINMOD/coral-mapping/data/raw_data/EMOD-tifs/broad_BPI_std.tif\n",
      "Properties match.\n",
      "\n",
      " Checking file:  /cluster/projects/itk-SINMOD/coral-mapping/data/raw_data/EMOD-tifs/fine_BPI_std.tif\n",
      "Properties match.\n",
      "\n",
      " Checking file:  /cluster/projects/itk-SINMOD/coral-mapping/data/raw_data/EMOD-tifs/log_ruggedness_1.tif\n",
      "Mismatch found in /cluster/projects/itk-SINMOD/coral-mapping/data/raw_data/EMOD-tifs/log_ruggedness_1.tif\n",
      "Expected bounds: (-65592.58868623473, 6656715.847672726, 784256.4113137652, 7539233.847672726), Found: (-148857.58868623473, 6580002.847672726, 866884.4113137652, 7621679.847672726)\n",
      "Expected CRS: EPSG:32632, Found: EPSG:32632\n",
      "Expected resolution: (91.0, -91.0), Found: (91.0, -91.0)\n",
      "Expected dimensions: (1, 9698, 9339), Found: (1, 11447, 11162)\n",
      "\n",
      " Checking file:  /cluster/projects/itk-SINMOD/coral-mapping/data/raw_data/EMOD-tifs/slope.tif\n",
      "Properties match.\n"
     ]
    }
   ],
   "source": [
    "#6: Check tif properties\n",
    "def check_tif_properties(tif_files):\n",
    "\n",
    "    with rioxarray.open_rasterio(tif_files[0]) as tif:\n",
    "        print(\"\\n File to compare is: \", tif_files[0])\n",
    "        ref_bounds, ref_crs, ref_res, ref_dims = tif.rio.bounds(), tif.rio.crs, tif.rio.resolution(), tif.shape\n",
    "\n",
    "        #Check if all files match the reference properties\n",
    "        for tif_file in tif_files[1:]:\n",
    "            print(\"\\n Checking file: \", tif_file)\n",
    "            with rioxarray.open_rasterio(tif_file) as tif:\n",
    "                if not (tif.rio.bounds() == ref_bounds and\n",
    "                        tif.rio.crs == ref_crs and\n",
    "                        tif.rio.resolution() == ref_res and\n",
    "                        tif.shape == ref_dims):\n",
    "                    print(f\"Mismatch found in {tif_file}\")\n",
    "                    print(f\"Expected bounds: {ref_bounds}, Found: {tif.rio.bounds()}\")\n",
    "                    print(f\"Expected CRS: {ref_crs}, Found: {tif.rio.crs}\")\n",
    "                    print(f\"Expected resolution: {ref_res}, Found: {tif.rio.resolution()}\")\n",
    "                    print(f\"Expected dimensions: {ref_dims}, Found: {tif.shape}\")\n",
    "                    continue\n",
    "                print(\"Properties match.\")\n",
    "\n",
    "check_tif_properties(tif_files)"
   ]
  },
  {
   "cell_type": "code",
   "execution_count": null,
   "id": "8ada8651-b62c-41ac-947b-889610dd415a",
   "metadata": {},
   "outputs": [
    {
     "name": "stdout",
     "output_type": "stream",
     "text": [
      "(-65592.58868623473, 6656715.847672726, 784256.4113137652, 7539233.847672726)\n",
      "(-65592.58868623473, 6656715.847672726, 784256.4113137652, 7539233.847672726)\n",
      "(-148857.58868623473, 6580002.847672726, 866884.4113137652, 7621679.847672726)\n",
      "(-65592.58868623473, 6656715.847672726, 784256.4113137652, 7539233.847672726)\n"
     ]
    }
   ],
   "source": [
    "#7: Repeat for all the EMOD tifs and create a dataset for all the clipped tif files\n",
    "\n",
    "EMOD_features = xr.Dataset()\n",
    "\n",
    "for file in tif_files:\n",
    "    SINMOD_temp, file_tif = align_SINMOD_and_bathymetry(SINMOD_features, file)\n",
    "    \n",
    "    #Add the clipped tif as a new variable in the dataset\n",
    "    file_name = file.split(\"/\")[-1].split(\".\")[0] + \"_clipped\"\n",
    "    var_name = file.split(\"/\")[-1].split(\".\")[0]\n",
    "    EMOD_features[var_name] = file_tif\n",
    "\n",
    "    file_tif.to_netcdf(f'/cluster/home/maikents/features_midnor_2019/emod_features/{file_name}.nc', mode='w')\n",
    "\n",
    "    # Clear memory of file_tif and SINMOD_temp\n",
    "    del file_tif\n",
    "    del SINMOD_temp\n",
    "\n",
    "EMOD_features = EMOD_features.reset_coords(drop=True)\n",
    "EMOD_features.to_netcdf('/cluster/home/maikents/features_midnor_2019/emod_features/EMOD_features.nc', mode='w')"
   ]
  },
  {
   "cell_type": "code",
   "execution_count": 8,
   "id": "a42c0362-daff-4366-855a-265e55a9b6d4",
   "metadata": {
    "jupyter": {
     "source_hidden": true
    }
   },
   "outputs": [],
   "source": [
    "EMOD_features = xr.Dataset()"
   ]
  },
  {
   "cell_type": "code",
   "execution_count": 9,
   "id": "a3946757-1672-41aa-b0c7-7bf9b3a02588",
   "metadata": {},
   "outputs": [
    {
     "name": "stdout",
     "output_type": "stream",
     "text": [
      "(-65592.58868623473, 6656715.847672726, 784256.4113137652, 7539233.847672726)\n"
     ]
    }
   ],
   "source": [
    "SINMOD1, file_tif1 = align_SINMOD_and_bathymetry(SINMOD_features, '/cluster/projects/itk-SINMOD/coral-mapping/data/raw_data/EMOD-tifs/aspect_cos.tif')\n",
    "EMOD_features['aspect_cos'] = file_tif1\n"
   ]
  },
  {
   "cell_type": "code",
   "execution_count": 10,
   "id": "8fbde7f2-406b-4dac-9a1e-c91f5a6fc61c",
   "metadata": {},
   "outputs": [
    {
     "name": "stdout",
     "output_type": "stream",
     "text": [
      "(-65592.58868623473, 6656715.847672726, 784256.4113137652, 7539233.847672726)\n"
     ]
    }
   ],
   "source": [
    "SINMOD2, file_tif2 = align_SINMOD_and_bathymetry(SINMOD_features, '/cluster/projects/itk-SINMOD/coral-mapping/data/raw_data/EMOD-tifs/aspect_sin.tif')\n",
    "EMOD_features['aspect_sin'] = file_tif2"
   ]
  },
  {
   "cell_type": "code",
   "execution_count": 11,
   "id": "5a12713b-cd6a-4eb5-b1e1-7d892c5d261e",
   "metadata": {
    "jupyter": {
     "source_hidden": true
    }
   },
   "outputs": [
    {
     "name": "stdout",
     "output_type": "stream",
     "text": [
      "(-148857.58868623473, 6580002.847672726, 866884.4113137652, 7621679.847672726)\n"
     ]
    }
   ],
   "source": [
    "SINMOD3, file_tif3 = align_SINMOD_and_bathymetry(SINMOD_features, '/cluster/projects/itk-SINMOD/coral-mapping/data/raw_data/EMOD-tifs/bathymetry_32N_Clip_sample.tif')\n",
    "EMOD_features['bathymetry_32N'] = file_tif3"
   ]
  },
  {
   "cell_type": "code",
   "execution_count": 12,
   "id": "b552ebd2-b5c7-43a1-8823-dc4bba8d872e",
   "metadata": {
    "jupyter": {
     "source_hidden": true
    }
   },
   "outputs": [
    {
     "name": "stdout",
     "output_type": "stream",
     "text": [
      "(-65592.58868623473, 6656715.847672726, 784256.4113137652, 7539233.847672726)\n"
     ]
    }
   ],
   "source": [
    "SINMOD4, file_tif4 = align_SINMOD_and_bathymetry(SINMOD_features, '/cluster/projects/itk-SINMOD/coral-mapping/data/raw_data/EMOD-tifs/broad_BPI_std.tif')\n",
    "EMOD_features['broad_BPI_std'] = file_tif4"
   ]
  },
  {
   "cell_type": "code",
   "execution_count": null,
   "id": "28284003-13d4-458b-9257-a918ffc2f103",
   "metadata": {},
   "outputs": [],
   "source": [
    "EMOD_features.to_netcdf('/cluster/home/maikents/features_midnor_2019/emod_features/emod.nc', mode='w')"
   ]
  },
  {
   "cell_type": "code",
   "execution_count": 14,
   "id": "c02d26a1-2f91-4399-a8cb-16f49771f94b",
   "metadata": {},
   "outputs": [],
   "source": [
    "EMOD_features = xr.open_dataset('/cluster/home/maikents/features_midnor_2019/emod_features/emod.nc')"
   ]
  },
  {
   "cell_type": "code",
   "execution_count": 15,
   "id": "77dc073f-b858-42a6-9b42-e3e39bcb0a91",
   "metadata": {
    "jupyter": {
     "source_hidden": true
    }
   },
   "outputs": [
    {
     "name": "stdout",
     "output_type": "stream",
     "text": [
      "(-65592.58868623473, 6656715.847672726, 784256.4113137652, 7539233.847672726)\n"
     ]
    }
   ],
   "source": [
    "SINMOD5, file_tif5 = align_SINMOD_and_bathymetry(SINMOD_features, '/cluster/projects/itk-SINMOD/coral-mapping/data/raw_data/EMOD-tifs/fine_BPI_std.tif')\n",
    "EMOD_features['fine_BPI_std'] = file_tif5"
   ]
  },
  {
   "cell_type": "code",
   "execution_count": 16,
   "id": "6043de6c-54a7-4adb-975e-11da4a34dbd2",
   "metadata": {
    "jupyter": {
     "source_hidden": true
    }
   },
   "outputs": [
    {
     "name": "stdout",
     "output_type": "stream",
     "text": [
      "(-148857.58868623473, 6580002.847672726, 866884.4113137652, 7621679.847672726)\n"
     ]
    }
   ],
   "source": [
    "SINMOD6, file_tif6 = align_SINMOD_and_bathymetry(SINMOD_features_reprojected, '/cluster/projects/itk-SINMOD/coral-mapping/data/raw_data/EMOD-tifs/log_ruggedness_1.tif')\n",
    "EMOD_features['log_ruggedness'] = file_tif6"
   ]
  },
  {
   "cell_type": "code",
   "execution_count": 17,
   "id": "7d798b34-5441-4044-bde3-83d430912396",
   "metadata": {
    "jupyter": {
     "source_hidden": true
    }
   },
   "outputs": [
    {
     "name": "stdout",
     "output_type": "stream",
     "text": [
      "(-65592.58868623473, 6656715.847672726, 784256.4113137652, 7539233.847672726)\n"
     ]
    }
   ],
   "source": [
    "SINMOD7, file_tif7 = align_SINMOD_and_bathymetry(SINMOD_features_reprojected, '/cluster/projects/itk-SINMOD/coral-mapping/data/raw_data/EMOD-tifs/slope.tif')\n",
    "EMOD_features['slope'] = file_tif7"
   ]
  },
  {
   "cell_type": "code",
   "execution_count": 19,
   "id": "d906a32b-83fc-471c-afcf-d7aa8b59aa33",
   "metadata": {},
   "outputs": [],
   "source": [
    "EMOD_features.to_netcdf('/cluster/home/maikents/features_midnor_2019/emod_features/emod_complete.nc', mode='w')"
   ]
  },
  {
   "cell_type": "code",
   "execution_count": 5,
   "id": "04b92218-d16b-4f70-a4f7-31aff1a924b6",
   "metadata": {},
   "outputs": [],
   "source": [
    "EMOD_features = xr.open_dataset('/cluster/home/maikents/features_midnor_2019/emod_features/emod_complete.nc')"
   ]
  },
  {
   "cell_type": "code",
   "execution_count": null,
   "id": "8d562597-c0ae-4d5d-ae74-269bdb3fc236",
   "metadata": {},
   "outputs": [],
   "source": [
    "#Creating the current - aspect angle feature. Absolute difference between the current direction and the depth aspect direction\n",
    "\n",
    "aspect_bathymetry = EMOD_features['aspect_cos_clipped']\n",
    "aspect_current = SINMOD_features_reprojected['bottom_statistical_northness_features'].sel(stat='mean')\n",
    "\n",
    "SINMOD_features_reprojected['current_aspect_angle'] = abs(np.arccos(aspect_current) - np.arccos(aspect_bathymetry)) * 180 / np.pi"
   ]
  },
  {
   "cell_type": "code",
   "execution_count": 25,
   "id": "a216bb60-8afb-4207-9e5a-d58107d17a4c",
   "metadata": {},
   "outputs": [
    {
     "name": "stdout",
     "output_type": "stream",
     "text": [
      "['stat', 'x', 'y', 'spatial_ref', 'bottom_temperature_sundahl_features', 'bottom_salinity_features', 'bottom_current_features', 'bottom_statistical_northness_features', 'bottom_statistical_eastness_features', 'current_aspect_angle']\n"
     ]
    }
   ],
   "source": [
    "print(list(SINMOD_features_reprojected.variables))"
   ]
  },
  {
   "cell_type": "code",
   "execution_count": null,
   "id": "b6f9fcca-c290-40c4-8852-faa4ecd47ba6",
   "metadata": {},
   "outputs": [],
   "source": [
    "#10: Saving the reprojected, unstandardized data\n",
    "output_file = '/cluster/home/maikents/features_midnor_2019/ready_for_training/SINMOD_bottom_features_emod_grid.nc'\n",
    "SINMOD_features_reprojected.to_netcdf(output_file, mode='w')"
   ]
  },
  {
   "cell_type": "code",
   "execution_count": 8,
   "id": "de1cd49d-bf78-4744-86e4-211ddd2a3414",
   "metadata": {},
   "outputs": [],
   "source": [
    "sinmod_unstandardized = xr.open_dataset('/cluster/home/maikents/features_midnor_2019/ready_for_training/SINMOD_bottom_features_emod_grid.nc')"
   ]
  },
  {
   "cell_type": "code",
   "execution_count": 3,
   "id": "876f9dde-4819-40e1-802c-8b525ea457a8",
   "metadata": {},
   "outputs": [
    {
     "name": "stdout",
     "output_type": "stream",
     "text": [
      "['stat', 'x', 'y', 'spatial_ref', 'bottom_temperature_sundahl_features', 'bottom_salinity_features', 'bottom_current_features', 'bottom_statistical_northness_features', 'bottom_statistical_eastness_features', 'current_aspect_angle']\n"
     ]
    }
   ],
   "source": [
    "print(list(sinmod_unstandardized.variables))"
   ]
  },
  {
   "cell_type": "code",
   "execution_count": null,
   "id": "149a97f7-2b7f-4690-8453-a30620a020a7",
   "metadata": {},
   "outputs": [],
   "source": [
    "#Standardize temperature\n",
    "\n",
    "temperature = sinmod_unstandardized.variables['bottom_temperature_sundahl_features'][:]\n",
    "\n",
    "temp_data= temperature.astype(np.float32)  \n",
    "temp_data_scaled = np.copy(temp_data)    \n",
    "\n",
    "reshaped_temp_data = temp_data.values.reshape(temp_data.shape[0], -1)  \n",
    "\n",
    "mask = np.isnan(reshaped_temp_data)\n",
    "\n",
    "temp_scaler = StandardScaler()\n",
    "for i in range(reshaped_temp_data.shape[1]):  \n",
    "    column = reshaped_temp_data[:, i] \n",
    "    if not np.all(np.isnan(column)):  \n",
    "        reshaped_temp_data[:, i][~mask[:, i]] = temp_scaler.fit_transform(column[~mask[:, i]].reshape(-1, 1)).ravel()\n",
    "\n",
    "\n",
    "temp_data_scaled = reshaped_temp_data.reshape(temp_data.shape)\n",
    "\n",
    "temperature_standardized = xr.DataArray(temp_data_scaled, dims=temperature.dims, attrs=temperature.attrs)\n",
    "\n",
    "print(f\"Standardised Temperature - Mean: {temperature_standardized.mean():.2f}, Std Dev: {temperature_standardized.std():.2f}\")\n"
   ]
  },
  {
   "cell_type": "code",
   "execution_count": 16,
   "id": "85fdcd83-1eea-4e5d-9204-ecc176e641b3",
   "metadata": {},
   "outputs": [],
   "source": [
    "temperature_standardized.to_netcdf('/cluster/home/maikents/features_midnor_2019/ready_for_training/standardized_single_features/standardized_sundahl_temperature.nc', mode='w')"
   ]
  },
  {
   "cell_type": "code",
   "execution_count": 3,
   "id": "0c9a349e-cb71-48ac-ba27-39cf373081ad",
   "metadata": {},
   "outputs": [
    {
     "name": "stdout",
     "output_type": "stream",
     "text": [
      "Standardised Salinity - Mean: 0.00, Std Dev: 1.00\n"
     ]
    }
   ],
   "source": [
    "#Standardize salinity\n",
    "\n",
    "salinity = sinmod_unstandardized.variables['bottom_salinity_features'][:]\n",
    "\n",
    "sal_data= salinity.astype(np.float32)  \n",
    "sal_data_scaled = np.copy(sal_data)    \n",
    "\n",
    "reshaped_sal_data = sal_data.values.reshape(sal_data.shape[0], -1)  \n",
    "\n",
    "mask = np.isnan(reshaped_sal_data)\n",
    "\n",
    "sal_scaler = StandardScaler()\n",
    "for i in range(reshaped_sal_data.shape[1]):  \n",
    "    column = reshaped_sal_data[:, i] \n",
    "    if not np.all(np.isnan(column)):  \n",
    "        reshaped_sal_data[:, i][~mask[:, i]] = sal_scaler.fit_transform(column[~mask[:, i]].reshape(-1, 1)).ravel()\n",
    "\n",
    "\n",
    "sal_data_scaled = reshaped_sal_data.reshape(sal_data.shape)\n",
    "\n",
    "salinity_standardized = xr.DataArray(sal_data_scaled, dims=salinity.dims, attrs=salinity.attrs)\n",
    "\n",
    "print(f\"Standardised Salinity - Mean: {salinity_standardized.mean():.2f}, Std Dev: {salinity_standardized.std():.2f}\")\n"
   ]
  },
  {
   "cell_type": "code",
   "execution_count": 4,
   "id": "b5936bd3-70d4-4a5b-be41-fa39851dd3a8",
   "metadata": {},
   "outputs": [],
   "source": [
    "salinity_standardized.to_netcdf('/cluster/home/maikents/features_midnor_2019/ready_for_training/standardized_single_features/standardized_salinity.nc', mode='w')"
   ]
  },
  {
   "cell_type": "code",
   "execution_count": 5,
   "id": "9e846b04-aa89-485d-aa2f-f9c7f07c99db",
   "metadata": {},
   "outputs": [
    {
     "name": "stdout",
     "output_type": "stream",
     "text": [
      "Standardised Current Speed - Mean: -0.00, Std Dev: 1.00\n"
     ]
    }
   ],
   "source": [
    "#Standardize current speed\n",
    "\n",
    "current = sinmod_unstandardized.variables['bottom_current_features'][:]\n",
    "\n",
    "cur_data= current.astype(np.float32)  \n",
    "cur_data_scaled = np.copy(cur_data)    \n",
    "\n",
    "reshaped_cur_data = cur_data.values.reshape(cur_data.shape[0], -1)  \n",
    "\n",
    "mask = np.isnan(reshaped_cur_data)\n",
    "\n",
    "cur_scaler = StandardScaler()\n",
    "for i in range(reshaped_cur_data.shape[1]):  \n",
    "    column = reshaped_cur_data[:, i] \n",
    "    if not np.all(np.isnan(column)):  \n",
    "        reshaped_cur_data[:, i][~mask[:, i]] = cur_scaler.fit_transform(column[~mask[:, i]].reshape(-1, 1)).ravel()\n",
    "\n",
    "\n",
    "cur_data_scaled = reshaped_cur_data.reshape(cur_data.shape)\n",
    "\n",
    "current_standardized = xr.DataArray(cur_data_scaled, dims=current.dims, attrs=current.attrs)\n",
    "\n",
    "print(f\"Standardised Current Speed - Mean: {current_standardized.mean():.2f}, Std Dev: {current_standardized.std():.2f}\")\n"
   ]
  },
  {
   "cell_type": "code",
   "execution_count": 6,
   "id": "ddb7c071-1a25-4770-ba73-e3ded063ca7e",
   "metadata": {},
   "outputs": [],
   "source": [
    "current_standardized.to_netcdf('/cluster/home/maikents/features_midnor_2019/ready_for_training/standardized_single_features/standardized_current_speed.nc', mode='w')"
   ]
  },
  {
   "cell_type": "code",
   "execution_count": 3,
   "id": "1eb7683c-9197-47c6-84de-7975f411e3e0",
   "metadata": {},
   "outputs": [
    {
     "name": "stdout",
     "output_type": "stream",
     "text": [
      "Standardised Statistical Northness - Mean: -0.00, Std Dev: 1.00\n"
     ]
    }
   ],
   "source": [
    "#Standardize statistical northness\n",
    "\n",
    "north = sinmod_unstandardized.variables['bottom_statistical_northness_features'][:]\n",
    "\n",
    "north_data= north.astype(np.float32)  \n",
    "north_data_scaled = np.copy(north_data)    \n",
    "\n",
    "reshaped_north_data = north_data.values.reshape(north_data.shape[0], -1)  \n",
    "\n",
    "mask = np.isnan(reshaped_north_data)\n",
    "\n",
    "north_scaler = StandardScaler()\n",
    "for i in range(reshaped_north_data.shape[1]):  \n",
    "    column = reshaped_north_data[:, i] \n",
    "    if not np.all(np.isnan(column)):  \n",
    "        reshaped_north_data[:, i][~mask[:, i]] = north_scaler.fit_transform(column[~mask[:, i]].reshape(-1, 1)).ravel()\n",
    "\n",
    "\n",
    "north_data_scaled = reshaped_north_data.reshape(north_data.shape)\n",
    "\n",
    "north_standardized = xr.DataArray(north_data_scaled, dims=north.dims, attrs=north.attrs)\n",
    "\n",
    "print(f\"Standardised Statistical Northness - Mean: {north_standardized.mean():.2f}, Std Dev: {north_standardized.std():.2f}\")\n"
   ]
  },
  {
   "cell_type": "code",
   "execution_count": 4,
   "id": "b95617b1-6300-4f28-9845-feed2c8f39fb",
   "metadata": {},
   "outputs": [],
   "source": [
    "north_standardized.to_netcdf('/cluster/home/maikents/features_midnor_2019/ready_for_training/standardized_single_features/standardized_statistical_northness.nc', mode='w')"
   ]
  },
  {
   "cell_type": "code",
   "execution_count": null,
   "id": "cca74c80-be0e-473f-8952-ee6fb0005b49",
   "metadata": {},
   "outputs": [],
   "source": [
    "#Standardize statistical eastness\n",
    "\n",
    "east = sinmod_unstandardized.variables['bottom_statistical_eastness_features'][:]\n",
    "\n",
    "east_data= east.astype(np.float32)  \n",
    "east_data_scaled = np.copy(east_data)    \n",
    "\n",
    "reshaped_east_data = east_data.values.reshape(east_data.shape[0], -1)  \n",
    "\n",
    "mask = np.isnan(reshaped_east_data)\n",
    "\n",
    "east_scaler = StandardScaler()\n",
    "for i in range(reshaped_east_data.shape[1]):  \n",
    "    column = reshaped_east_data[:, i] \n",
    "    if not np.all(np.isnan(column)):  \n",
    "        reshaped_east_data[:, i][~mask[:, i]] = east_scaler.fit_transform(column[~mask[:, i]].reshape(-1, 1)).ravel()\n",
    "\n",
    "\n",
    "east_data_scaled = reshaped_east_data.reshape(east_data.shape)\n",
    "\n",
    "east_standardized = xr.DataArray(east_data_scaled, dims=east.dims, attrs=east.attrs)\n",
    "\n",
    "print(f\"Standardised Statistical Eastness - Mean: {east_standardized.mean():.2f}, Std Dev: {east_standardized.std():.2f}\")\n"
   ]
  },
  {
   "cell_type": "code",
   "execution_count": null,
   "id": "4ede176d-d108-41db-9a11-c6198f29d1f5",
   "metadata": {},
   "outputs": [],
   "source": [
    "east_standardized.to_netcdf('/cluster/home/maikents/features_midnor_2019/ready_for_training/standardized_single_features/standardized_statistical_eastness.nc', mode='w')"
   ]
  },
  {
   "cell_type": "code",
   "execution_count": 14,
   "id": "ae48c25f-0d02-434e-aa10-cabea52b0f66",
   "metadata": {},
   "outputs": [],
   "source": [
    "#Get current aspect angle\n",
    "sinmod_bottom = xr.open_dataset('/cluster/projects/itk-SINMOD/coral-mapping/data/processed_data/features/ready-for-training/SINMOD_bottom_features.nc')"
   ]
  },
  {
   "cell_type": "code",
   "execution_count": 15,
   "id": "15a01015-5edb-40ba-9fe4-57e514bef82b",
   "metadata": {},
   "outputs": [],
   "source": [
    "current_aspect_angle = sinmod_bottom.variables['current_aspect_angle']"
   ]
  },
  {
   "cell_type": "code",
   "execution_count": 23,
   "id": "2c245b71-e2ee-4263-b80b-3b6a02f0443f",
   "metadata": {},
   "outputs": [
    {
     "name": "stdout",
     "output_type": "stream",
     "text": [
      "Standardised Current Aspect Angle - Mean: 0.00, Std Dev: 1.00\n"
     ]
    }
   ],
   "source": [
    "#Standardize current aspect angle\n",
    "\n",
    "ang = current_aspect_angle[:]\n",
    "\n",
    "ang_data= ang.astype(np.float32)  \n",
    "ang_data_scaled = np.copy(ang_data)    \n",
    "\n",
    "reshaped_ang_data = ang_data.values.reshape(ang_data.shape[0], -1)  \n",
    "\n",
    "mask = np.isnan(reshaped_ang_data)\n",
    "\n",
    "ang_scaler = StandardScaler()\n",
    "for i in range(reshaped_ang_data.shape[1]):  \n",
    "    column = reshaped_ang_data[:, i] \n",
    "    if not np.all(np.isnan(column)):  \n",
    "        reshaped_ang_data[:, i][~mask[:, i]] = ang_scaler.fit_transform(column[~mask[:, i]].reshape(-1, 1)).ravel()\n",
    "\n",
    "\n",
    "ang_data_scaled = reshaped_ang_data.reshape(ang_data.shape)\n",
    "\n",
    "ang_standardized = xr.DataArray(ang_data_scaled, dims=ang.dims, attrs=ang.attrs)\n",
    "\n",
    "print(f\"Standardised Current Aspect Angle - Mean: {ang_standardized.mean():.2f}, Std Dev: {ang_standardized.std():.2f}\")"
   ]
  },
  {
   "cell_type": "code",
   "execution_count": 24,
   "id": "42d5be71-17b6-471c-bb34-deee0cb02e0d",
   "metadata": {},
   "outputs": [],
   "source": [
    "ang_standardized.to_netcdf('/cluster/home/maikents/features_midnor_2019/ready_for_training/standardized_single_features/standardized_current_aspect_angle.nc', mode='w')"
   ]
  },
  {
   "cell_type": "code",
   "execution_count": 5,
   "id": "ae9f0bb9-5060-47d9-ae47-116421ca184f",
   "metadata": {},
   "outputs": [],
   "source": [
    "#Combine standardized features\n",
    "sinmod_unstandardized = xr.open_dataset('/cluster/home/maikents/features_midnor_2019/ready_for_training/SINMOD_bottom_features_emod_grid.nc')\n",
    "temperature = xr.open_dataset('/cluster/home/maikents/features_midnor_2019/ready_for_training/standardized_single_features/standardized_sundahl_temperature.nc')\n",
    "salinity = xr.open_dataset('/cluster/home/maikents/features_midnor_2019/ready_for_training/standardized_single_features/standardized_salinity.nc')\n",
    "current = xr.open_dataset('/cluster/home/maikents/features_midnor_2019/ready_for_training/standardized_single_features/standardized_current_speed.nc')\n",
    "statistical_northness = xr.open_dataset('/cluster/home/maikents/features_midnor_2019/ready_for_training/standardized_single_features/standardized_statistical_northness.nc')\n",
    "statistical_eastness = xr.open_dataset('/cluster/home/maikents/features_midnor_2019/ready_for_training/standardized_single_features/standardized_statistical_eastness.nc')\n",
    "current_aspect_angle = xr.open_dataset('/cluster/home/maikents/features_midnor_2019/ready_for_training/standardized_single_features/standardized_current_aspect_angle.nc')"
   ]
  },
  {
   "cell_type": "code",
   "execution_count": 22,
   "id": "42e24981-cb5f-446f-b06c-6175169ec829",
   "metadata": {},
   "outputs": [],
   "source": [
    "sinmod_standardized = sinmod_unstandardized.copy()\n",
    "\n",
    "sinmod_standardized['bottom_temperature_sundahl_features'] = temperature['__xarray_dataarray_variable__']\n",
    "sinmod_standardized['bottom_salinity_features'] = salinity['__xarray_dataarray_variable__']\n",
    "sinmod_standardized['bottom_current_features'] = current['__xarray_dataarray_variable__']\n",
    "sinmod_standardized['bottom_statistical_northness_features'] = statistical_northness['__xarray_dataarray_variable__']\n",
    "sinmod_standardized['bottom_statistical_eastness_features'] = statistical_eastness['__xarray_dataarray_variable__']\n",
    "sinmod_standardized = sinmod_standardized.drop_vars('current_aspect_angle') #current_aspect_angle has to be loaded separately later!\n",
    "\n",
    "#saving it\n",
    "sinmod_standardized.to_netcdf('/cluster/home/maikents/features_midnor_2019/ready_for_training/SINMOD_bottom_features_emod_grid_standardized.nc')"
   ]
  },
  {
   "cell_type": "code",
   "execution_count": 8,
   "id": "35e32a56-aa60-4bfd-aa30-1016a3b42442",
   "metadata": {},
   "outputs": [
    {
     "name": "stdout",
     "output_type": "stream",
     "text": [
      "Standardised Aspect Cos - Mean: nan, Std Dev: nan\n"
     ]
    },
    {
     "name": "stderr",
     "output_type": "stream",
     "text": [
      "/cluster/home/maikents/PyEnvCoralMapping/lib/python3.12/site-packages/numpy/lib/_nanfunctions_impl.py:2019: RuntimeWarning: Degrees of freedom <= 0 for slice.\n",
      "  var = nanvar(a, axis=axis, dtype=dtype, out=out, ddof=ddof,\n"
     ]
    }
   ],
   "source": [
    "#Standardize aspect cos\n",
    "\n",
    "aspect_cos = EMOD_features.variables['aspect_cos'][:]\n",
    "\n",
    "aspect_cos_data= aspect_cos.astype(np.float32)  \n",
    "aspect_cos_data_scaled = np.copy(aspect_cos_data)    \n",
    "\n",
    "reshaped_aspect_cos_data = aspect_cos_data.values.reshape(aspect_cos_data.shape[0], -1)  \n",
    "\n",
    "mask = np.isnan(reshaped_aspect_cos_data)\n",
    "\n",
    "aspect_cos_scaler = StandardScaler()\n",
    "for i in range(reshaped_aspect_cos_data.shape[1]):  \n",
    "    column = reshaped_aspect_cos_data[:, i] \n",
    "    if not np.all(np.isnan(column)):  \n",
    "        reshaped_aspect_cos_data[:, i][~mask[:, i]] = aspect_cos_scaler.fit_transform(column[~mask[:, i]].reshape(-1, 1)).ravel()\n",
    "\n",
    "\n",
    "aspect_cos_data_scaled = reshaped_aspect_cos_data.reshape(aspect_cos_data.shape)\n",
    "\n",
    "aspect_cos_standardized = xr.DataArray(aspect_cos_data_scaled, dims=aspect_cos.dims, attrs=aspect_cos.attrs)\n",
    "\n",
    "print(f\"Standardised Aspect Cos - Mean: {aspect_cos_standardized.mean():.2f}, Std Dev: {aspect_cos_standardized.std():.2f}\")\n"
   ]
  },
  {
   "cell_type": "code",
   "execution_count": null,
   "id": "1332db3c-1d69-42e8-8859-976453285542",
   "metadata": {},
   "outputs": [],
   "source": [
    "east_standardized.to_netcdf('/cluster/home/maikents/features_midnor_2019/ready_for_training/standardized_single_features/standardized_statistical_eastness.nc', mode='w')"
   ]
  },
  {
   "cell_type": "code",
   "execution_count": 6,
   "id": "2ba21e5a-a703-4680-93de-85dee9d82422",
   "metadata": {},
   "outputs": [],
   "source": [
    "emod_data = xr.open_dataset(\"/cluster/projects/itk-SINMOD/coral-mapping/data/processed_data/features/EMOD_features.nc\")\n"
   ]
  },
  {
   "cell_type": "code",
   "execution_count": 7,
   "id": "51d1b92e-8e97-4ca6-90e1-201064de21f8",
   "metadata": {},
   "outputs": [
    {
     "name": "stdout",
     "output_type": "stream",
     "text": [
      "['x', 'y', 'aspect_cos', 'aspect_sin', 'bathymetry', 'broad_BPI', 'fine_BPI', 'log_ruggedness', 'slope']\n"
     ]
    }
   ],
   "source": [
    "print(list(emod_data.variables))"
   ]
  },
  {
   "cell_type": "code",
   "execution_count": 8,
   "id": "5bab3228-730f-477d-abba-796a73d268e8",
   "metadata": {},
   "outputs": [],
   "source": [
    "emod_unstandardized = emod_data.copy()"
   ]
  },
  {
   "cell_type": "code",
   "execution_count": 10,
   "id": "3996f2b5-0e03-48b2-9a35-210c101befff",
   "metadata": {
    "jupyter": {
     "source_hidden": true
    }
   },
   "outputs": [
    {
     "name": "stdout",
     "output_type": "stream",
     "text": [
      "Standardised Aspect Cos - Mean: -0.00, Std Dev: 1.00\n"
     ]
    }
   ],
   "source": [
    "#Standardize aspect cos\n",
    "\n",
    "aspect_cos = emod_unstandardized.variables['aspect_cos'][:]\n",
    "\n",
    "aspect_cos_data= aspect_cos.astype(np.float32)  \n",
    "aspect_cos_data_scaled = np.copy(aspect_cos_data)    \n",
    "\n",
    "reshaped_aspect_cos_data = aspect_cos_data.values.reshape(aspect_cos_data.shape[0], -1)  \n",
    "\n",
    "mask = np.isnan(reshaped_aspect_cos_data)\n",
    "\n",
    "aspect_cos_scaler = StandardScaler()\n",
    "for i in range(reshaped_aspect_cos_data.shape[1]):  \n",
    "    column = reshaped_aspect_cos_data[:, i] \n",
    "    if not np.all(np.isnan(column)):  \n",
    "        reshaped_aspect_cos_data[:, i][~mask[:, i]] = aspect_cos_scaler.fit_transform(column[~mask[:, i]].reshape(-1, 1)).ravel()\n",
    "\n",
    "\n",
    "aspect_cos_data_scaled = reshaped_aspect_cos_data.reshape(aspect_cos_data.shape)\n",
    "\n",
    "aspect_cos_standardized = xr.DataArray(aspect_cos_data_scaled, dims=aspect_cos.dims, attrs=aspect_cos.attrs)\n",
    "\n",
    "print(f\"Standardised Aspect Cos - Mean: {aspect_cos_standardized.mean():.2f}, Std Dev: {aspect_cos_standardized.std():.2f}\")\n"
   ]
  },
  {
   "cell_type": "code",
   "execution_count": 11,
   "id": "145834d0-3c05-4141-84a1-319a46483a32",
   "metadata": {},
   "outputs": [],
   "source": [
    "aspect_cos_standardized.to_netcdf('/cluster/home/maikents/features_midnor_2019/ready_for_training/standardized_single_features/standardized_aspect_cos.nc', mode='w')"
   ]
  },
  {
   "cell_type": "code",
   "execution_count": 12,
   "id": "2e71c589-14de-4dba-8bf2-0639018ecb03",
   "metadata": {
    "jupyter": {
     "source_hidden": true
    }
   },
   "outputs": [
    {
     "name": "stdout",
     "output_type": "stream",
     "text": [
      "Standardised Aspect Sin - Mean: 0.00, Std Dev: 1.00\n"
     ]
    }
   ],
   "source": [
    "#Standardize aspect sin\n",
    "\n",
    "aspect_sin = emod_unstandardized.variables['aspect_sin'][:]\n",
    "\n",
    "aspect_sin_data= aspect_sin.astype(np.float32)  \n",
    "aspect_sin_data_scaled = np.copy(aspect_sin_data)    \n",
    "\n",
    "reshaped_aspect_sin_data = aspect_sin_data.values.reshape(aspect_sin_data.shape[0], -1)  \n",
    "\n",
    "mask = np.isnan(reshaped_aspect_sin_data)\n",
    "\n",
    "aspect_sin_scaler = StandardScaler()\n",
    "for i in range(reshaped_aspect_sin_data.shape[1]):  \n",
    "    column = reshaped_aspect_sin_data[:, i] \n",
    "    if not np.all(np.isnan(column)):  \n",
    "        reshaped_aspect_sin_data[:, i][~mask[:, i]] = aspect_sin_scaler.fit_transform(column[~mask[:, i]].reshape(-1, 1)).ravel()\n",
    "\n",
    "\n",
    "aspect_sin_data_scaled = reshaped_aspect_sin_data.reshape(aspect_sin_data.shape)\n",
    "\n",
    "aspect_sin_standardized = xr.DataArray(aspect_sin_data_scaled, dims=aspect_sin.dims, attrs=aspect_sin.attrs)\n",
    "\n",
    "print(f\"Standardised Aspect Sin - Mean: {aspect_sin_standardized.mean():.2f}, Std Dev: {aspect_sin_standardized.std():.2f}\")\n"
   ]
  },
  {
   "cell_type": "code",
   "execution_count": 13,
   "id": "0a36496f-19be-478c-8073-e05f3396cacc",
   "metadata": {},
   "outputs": [],
   "source": [
    "aspect_sin_standardized.to_netcdf('/cluster/home/maikents/features_midnor_2019/ready_for_training/standardized_single_features/standardized_aspect_sin.nc', mode='w')"
   ]
  },
  {
   "cell_type": "code",
   "execution_count": 16,
   "id": "e4151c73-b4d4-4d03-b4cf-424917a14ede",
   "metadata": {
    "jupyter": {
     "source_hidden": true
    }
   },
   "outputs": [
    {
     "name": "stdout",
     "output_type": "stream",
     "text": [
      "Standardised Bathymetry - Mean: -0.00, Std Dev: 1.00\n"
     ]
    }
   ],
   "source": [
    "#Standardize bathymetry\n",
    "\n",
    "bathymetry = emod_unstandardized.variables['bathymetry'][:]\n",
    "\n",
    "bathymetry_data= bathymetry.astype(np.float32)  \n",
    "bathymetry_data_scaled = np.copy(bathymetry_data)    \n",
    "\n",
    "reshaped_bathymetry_data = bathymetry_data.values.reshape(bathymetry_data.shape[0], -1)  \n",
    "\n",
    "mask = np.isnan(reshaped_bathymetry_data)\n",
    "\n",
    "bathymetry_scaler = StandardScaler()\n",
    "for i in range(reshaped_bathymetry_data.shape[1]):  \n",
    "    column = reshaped_bathymetry_data[:, i] \n",
    "    if not np.all(np.isnan(column)):  \n",
    "        reshaped_bathymetry_data[:, i][~mask[:, i]] = bathymetry_scaler.fit_transform(column[~mask[:, i]].reshape(-1, 1)).ravel()\n",
    "\n",
    "\n",
    "bathymetry_data_scaled = reshaped_bathymetry_data.reshape(bathymetry_data.shape)\n",
    "\n",
    "bathymetry_standardized = xr.DataArray(bathymetry_data_scaled, dims=bathymetry.dims, attrs=bathymetry.attrs)\n",
    "\n",
    "print(f\"Standardised Bathymetry - Mean: {bathymetry_standardized.mean():.2f}, Std Dev: {bathymetry_standardized.std():.2f}\")\n"
   ]
  },
  {
   "cell_type": "code",
   "execution_count": 17,
   "id": "33b1b745-99b2-4da4-808a-b732647b20fd",
   "metadata": {},
   "outputs": [],
   "source": [
    "bathymetry_standardized.to_netcdf('/cluster/home/maikents/features_midnor_2019/ready_for_training/standardized_single_features/standardized_bathymetry.nc', mode='w')"
   ]
  },
  {
   "cell_type": "code",
   "execution_count": 19,
   "id": "c8d8773b-7197-4dbb-985e-ed04c29dbbb6",
   "metadata": {
    "jupyter": {
     "source_hidden": true
    }
   },
   "outputs": [
    {
     "name": "stdout",
     "output_type": "stream",
     "text": [
      "Standardised Broad BPI - Mean: 0.00, Std Dev: 1.00\n"
     ]
    }
   ],
   "source": [
    "#Standardize Broad BPI\n",
    "\n",
    "broad_BPI = emod_unstandardized.variables['broad_BPI'][:]\n",
    "\n",
    "broad_BPI_data= broad_BPI.astype(np.float32)  \n",
    "broad_BPI_data_scaled = np.copy(broad_BPI_data)    \n",
    "\n",
    "reshaped_broad_BPI_data = broad_BPI_data.values.reshape(broad_BPI_data.shape[0], -1)  \n",
    "\n",
    "mask = np.isnan(reshaped_broad_BPI_data)\n",
    "\n",
    "broad_BPI_scaler = StandardScaler()\n",
    "for i in range(reshaped_broad_BPI_data.shape[1]):  \n",
    "    column = reshaped_broad_BPI_data[:, i] \n",
    "    if not np.all(np.isnan(column)):  \n",
    "        reshaped_broad_BPI_data[:, i][~mask[:, i]] = broad_BPI_scaler.fit_transform(column[~mask[:, i]].reshape(-1, 1)).ravel()\n",
    "\n",
    "\n",
    "broad_BPI_data_scaled = reshaped_broad_BPI_data.reshape(broad_BPI_data.shape)\n",
    "\n",
    "broad_BPI_standardized = xr.DataArray(broad_BPI_data_scaled, dims=broad_BPI.dims, attrs=broad_BPI.attrs)\n",
    "\n",
    "print(f\"Standardised Broad BPI - Mean: {broad_BPI_standardized.mean():.2f}, Std Dev: {broad_BPI_standardized.std():.2f}\")\n"
   ]
  },
  {
   "cell_type": "code",
   "execution_count": 20,
   "id": "234aaca1-8dd8-4c38-b6bb-66a910a21f8d",
   "metadata": {},
   "outputs": [],
   "source": [
    "broad_BPI_standardized.to_netcdf('/cluster/home/maikents/features_midnor_2019/ready_for_training/standardized_single_features/standardized_broad_BPI.nc', mode='w')"
   ]
  },
  {
   "cell_type": "code",
   "execution_count": 21,
   "id": "d6a2deb0-e8ca-4787-a9b5-b38b39752918",
   "metadata": {
    "jupyter": {
     "source_hidden": true
    }
   },
   "outputs": [
    {
     "name": "stdout",
     "output_type": "stream",
     "text": [
      "Standardised Fine BPI - Mean: -0.00, Std Dev: 1.00\n"
     ]
    }
   ],
   "source": [
    "#Standardize Fine BPI\n",
    "\n",
    "fine_BPI = emod_unstandardized.variables['fine_BPI'][:]\n",
    "\n",
    "fine_BPI_data= fine_BPI.astype(np.float32)  \n",
    "fine_BPI_data_scaled = np.copy(fine_BPI_data)    \n",
    "\n",
    "reshaped_fine_BPI_data = fine_BPI_data.values.reshape(fine_BPI_data.shape[0], -1)  \n",
    "\n",
    "mask = np.isnan(reshaped_fine_BPI_data)\n",
    "\n",
    "fine_BPI_scaler = StandardScaler()\n",
    "for i in range(reshaped_fine_BPI_data.shape[1]):  \n",
    "    column = reshaped_fine_BPI_data[:, i] \n",
    "    if not np.all(np.isnan(column)):  \n",
    "        reshaped_fine_BPI_data[:, i][~mask[:, i]] = fine_BPI_scaler.fit_transform(column[~mask[:, i]].reshape(-1, 1)).ravel()\n",
    "\n",
    "\n",
    "fine_BPI_data_scaled = reshaped_fine_BPI_data.reshape(fine_BPI_data.shape)\n",
    "\n",
    "fine_BPI_standardized = xr.DataArray(fine_BPI_data_scaled, dims=fine_BPI.dims, attrs=fine_BPI.attrs)\n",
    "\n",
    "print(f\"Standardised Fine BPI - Mean: {fine_BPI_standardized.mean():.2f}, Std Dev: {fine_BPI_standardized.std():.2f}\")\n"
   ]
  },
  {
   "cell_type": "code",
   "execution_count": 22,
   "id": "c383a85a-7046-451f-86a8-e564d3a31fb5",
   "metadata": {},
   "outputs": [],
   "source": [
    "fine_BPI_standardized.to_netcdf('/cluster/home/maikents/features_midnor_2019/ready_for_training/standardized_single_features/standardized_fine_BPI.nc', mode='w')"
   ]
  },
  {
   "cell_type": "code",
   "execution_count": 23,
   "id": "fcd8c8ba-946d-4e1d-9db9-b17aa7473205",
   "metadata": {
    "jupyter": {
     "source_hidden": true
    }
   },
   "outputs": [
    {
     "name": "stdout",
     "output_type": "stream",
     "text": [
      "Standardised Log Ruggedness - Mean: -0.00, Std Dev: 1.00\n"
     ]
    }
   ],
   "source": [
    "#Standardize Log Ruggedness\n",
    "\n",
    "log_ruggedness = emod_unstandardized.variables['log_ruggedness'][:]\n",
    "\n",
    "log_ruggedness_data= log_ruggedness.astype(np.float32)  \n",
    "log_ruggedness_data_scaled = np.copy(log_ruggedness_data)    \n",
    "\n",
    "reshaped_log_ruggedness_data = log_ruggedness_data.values.reshape(log_ruggedness_data.shape[0], -1)  \n",
    "\n",
    "mask = np.isnan(reshaped_log_ruggedness_data)\n",
    "\n",
    "log_ruggedness_scaler = StandardScaler()\n",
    "for i in range(reshaped_log_ruggedness_data.shape[1]):  \n",
    "    column = reshaped_log_ruggedness_data[:, i] \n",
    "    if not np.all(np.isnan(column)):  \n",
    "        reshaped_log_ruggedness_data[:, i][~mask[:, i]] = log_ruggedness_scaler.fit_transform(column[~mask[:, i]].reshape(-1, 1)).ravel()\n",
    "\n",
    "\n",
    "log_ruggedness_data_scaled = reshaped_log_ruggedness_data.reshape(log_ruggedness_data.shape)\n",
    "\n",
    "log_ruggedness_standardized = xr.DataArray(log_ruggedness_data_scaled, dims=log_ruggedness.dims, attrs=log_ruggedness.attrs)\n",
    "\n",
    "print(f\"Standardised Log Ruggedness - Mean: {log_ruggedness_standardized.mean():.2f}, Std Dev: {log_ruggedness_standardized.std():.2f}\")\n"
   ]
  },
  {
   "cell_type": "code",
   "execution_count": 24,
   "id": "e19c2443-f37f-4f23-ace6-bdea457be3b9",
   "metadata": {},
   "outputs": [],
   "source": [
    "log_ruggedness_standardized.to_netcdf('/cluster/home/maikents/features_midnor_2019/ready_for_training/standardized_single_features/standardized_log_ruggedness.nc', mode='w')"
   ]
  },
  {
   "cell_type": "code",
   "execution_count": 25,
   "id": "98b7458f-5363-49f9-88ab-bdc0bb017975",
   "metadata": {
    "jupyter": {
     "source_hidden": true
    }
   },
   "outputs": [
    {
     "name": "stdout",
     "output_type": "stream",
     "text": [
      "Standardised Slope - Mean: 0.00, Std Dev: 1.00\n"
     ]
    }
   ],
   "source": [
    "#Standardize slope\n",
    "\n",
    "slope = emod_unstandardized.variables['slope'][:]\n",
    "\n",
    "slope_data= slope.astype(np.float32)  \n",
    "slope_data_scaled = np.copy(slope_data)    \n",
    "\n",
    "reshaped_slope_data = slope_data.values.reshape(slope_data.shape[0], -1)  \n",
    "\n",
    "mask = np.isnan(reshaped_slope_data)\n",
    "\n",
    "slope_scaler = StandardScaler()\n",
    "for i in range(reshaped_slope_data.shape[1]):  \n",
    "    column = reshaped_slope_data[:, i] \n",
    "    if not np.all(np.isnan(column)):  \n",
    "        reshaped_slope_data[:, i][~mask[:, i]] = slope_scaler.fit_transform(column[~mask[:, i]].reshape(-1, 1)).ravel()\n",
    "\n",
    "\n",
    "slope_data_scaled = reshaped_slope_data.reshape(slope_data.shape)\n",
    "\n",
    "slope_standardized = xr.DataArray(slope_data_scaled, dims=slope.dims, attrs=slope.attrs)\n",
    "\n",
    "print(f\"Standardised Slope - Mean: {slope_standardized.mean():.2f}, Std Dev: {slope_standardized.std():.2f}\")\n"
   ]
  },
  {
   "cell_type": "code",
   "execution_count": 26,
   "id": "f039456f-784b-46eb-aee3-e4cb036c232e",
   "metadata": {},
   "outputs": [],
   "source": [
    "slope_standardized.to_netcdf('/cluster/home/maikents/features_midnor_2019/ready_for_training/standardized_single_features/standardized_slope.nc', mode='w')"
   ]
  },
  {
   "cell_type": "code",
   "execution_count": 28,
   "id": "fb612b3b-df83-48c3-aeb9-c3a1e425e294",
   "metadata": {},
   "outputs": [],
   "source": [
    "aspect_cos_standardized = xr.open_dataset('/cluster/home/maikents/features_midnor_2019/ready_for_training/standardized_single_features/standardized_aspect_cos.nc')\n",
    "aspect_sin_standardized = xr.open_dataset('/cluster/home/maikents/features_midnor_2019/ready_for_training/standardized_single_features/standardized_aspect_sin.nc')\n",
    "bathymetry_standardized = xr.open_dataset('/cluster/home/maikents/features_midnor_2019/ready_for_training/standardized_single_features/standardized_bathymetry.nc')\n",
    "broad_BPI_standardized = xr.open_dataset('/cluster/home/maikents/features_midnor_2019/ready_for_training/standardized_single_features/standardized_broad_BPI.nc')\n",
    "fine_BPI_standardized = xr.open_dataset('/cluster/home/maikents/features_midnor_2019/ready_for_training/standardized_single_features/standardized_fine_BPI.nc')\n",
    "log_ruggedness_standardized = xr.open_dataset('/cluster/home/maikents/features_midnor_2019/ready_for_training/standardized_single_features/standardized_log_ruggedness.nc')\n",
    "slope_standardized = xr.open_dataset('/cluster/home/maikents/features_midnor_2019/ready_for_training/standardized_single_features/standardized_slope.nc')\n"
   ]
  },
  {
   "cell_type": "code",
   "execution_count": 30,
   "id": "3f50ee8f-7f5b-41f3-b05b-b98b942f0e06",
   "metadata": {},
   "outputs": [],
   "source": [
    "emod_standardized = emod_unstandardized.copy()\n",
    "\n",
    "emod_standardized['aspect_cos'] = aspect_cos_standardized['__xarray_dataarray_variable__']\n",
    "emod_standardized['aspect_sin'] = aspect_sin_standardized['__xarray_dataarray_variable__']\n",
    "emod_standardized['bathymetry'] = bathymetry_standardized['__xarray_dataarray_variable__']\n",
    "emod_standardized['broad_BPI'] = broad_BPI_standardized['__xarray_dataarray_variable__']\n",
    "emod_standardized['fine_BPI'] = fine_BPI_standardized['__xarray_dataarray_variable__']\n",
    "emod_standardized['log_ruggedness'] = log_ruggedness_standardized['__xarray_dataarray_variable__']\n",
    "emod_standardized['slope'] = slope_standardized['__xarray_dataarray_variable__']\n",
    "\n",
    "#saving it\n",
    "emod_standardized.to_netcdf('/cluster/home/maikents/features_midnor_2019/ready_for_training/EMOD_standardized.nc')"
   ]
  }
 ],
 "metadata": {
  "kernelspec": {
   "display_name": "Python 3 (ipykernel)",
   "language": "python",
   "name": "python3"
  },
  "language_info": {
   "codemirror_mode": {
    "name": "ipython",
    "version": 3
   },
   "file_extension": ".py",
   "mimetype": "text/x-python",
   "name": "python",
   "nbconvert_exporter": "python",
   "pygments_lexer": "ipython3",
   "version": "3.12.3"
  }
 },
 "nbformat": 4,
 "nbformat_minor": 5
}
