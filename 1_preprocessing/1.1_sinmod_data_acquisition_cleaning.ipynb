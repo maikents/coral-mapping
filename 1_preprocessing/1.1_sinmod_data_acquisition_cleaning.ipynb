{
 "cells": [
  {
   "cell_type": "code",
   "execution_count": null,
   "id": "725b0887-419c-4fcc-9d5e-05de8f7b826a",
   "metadata": {},
   "outputs": [],
   "source": [
    "#Corner points\n",
    ".....\n",
    "save !\n",
    " longitude_min = cornerpoints[0]\n",
    "    longitude_max = cornerpoints[1]\n",
    "    latitude_min = cornerpoints[2]\n",
    "    latitude_max = cornerpoints[3]"
   ]
  }
 ],
 "metadata": {
  "kernelspec": {
   "display_name": "Python 3 (ipykernel)",
   "language": "python",
   "name": "python3"
  },
  "language_info": {
   "codemirror_mode": {
    "name": "ipython",
    "version": 3
   },
   "file_extension": ".py",
   "mimetype": "text/x-python",
   "name": "python",
   "nbconvert_exporter": "python",
   "pygments_lexer": "ipython3",
   "version": "3.12.3"
  }
 },
 "nbformat": 4,
 "nbformat_minor": 5
}
