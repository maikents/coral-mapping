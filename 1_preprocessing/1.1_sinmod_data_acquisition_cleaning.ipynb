{
 "cells": [
  {
   "cell_type": "code",
   "execution_count": 1,
   "id": "81c35af1-f84a-412d-a59f-dedaf1cc2460",
   "metadata": {},
   "outputs": [],
   "source": [
    "import numpy as np\n",
    "import xarray as xr"
   ]
  },
  {
   "cell_type": "code",
   "execution_count": null,
   "id": "ad1b317d-5310-48d8-be14-9e27f7e819e9",
   "metadata": {},
   "outputs": [],
   "source": [
    "\n",
    "def clean_sinmod_data(filepath):\n",
    "    sinmod_data = xr.open_dataset(filepath)\n",
    "\n",
    "    #remove NANs \n",
    "    for dim in [\"time\", \"xc\", \"yc\"]:\n",
    "        if dim in sinmod_data.dims:  \n",
    "            sinmod_data = sinmod_data.dropna(dim=dim, how=\"any\")\n",
    "\n",
    "    return sinmod_data\n",
    "\n",
    "\n",
    "sinmod_data = clean_sinmod_data()"
   ]
  },
  {
   "cell_type": "code",
   "execution_count": null,
   "id": "48fb4625-cfb2-4c82-a8ca-37acd3fba5cf",
   "metadata": {},
   "outputs": [],
   "source": []
  }
 ],
 "metadata": {
  "kernelspec": {
   "display_name": "Python 3 (ipykernel)",
   "language": "python",
   "name": "python3"
  },
  "language_info": {
   "codemirror_mode": {
    "name": "ipython",
    "version": 3
   },
   "file_extension": ".py",
   "mimetype": "text/x-python",
   "name": "python",
   "nbconvert_exporter": "python",
   "pygments_lexer": "ipython3",
   "version": "3.12.3"
  }
 },
 "nbformat": 4,
 "nbformat_minor": 5
}
