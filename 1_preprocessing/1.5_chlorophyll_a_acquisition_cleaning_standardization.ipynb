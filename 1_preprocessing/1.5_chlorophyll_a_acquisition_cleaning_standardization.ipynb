{
 "cells": [
  {
   "cell_type": "code",
   "execution_count": 1,
   "id": "ca060175-6911-4b6a-ad19-88a2f4e9f9c7",
   "metadata": {},
   "outputs": [],
   "source": [
    "import numpy as np\n",
    "import xarray as xr\n",
    "import time \n",
    "import os\n",
    "from netCDF4 import Dataset\n",
    "from pyproj import CRS\n",
    "import rasterio\n",
    "import rioxarray\n",
    "from rasterio.enums import Resampling\n",
    "from sklearn.preprocessing import StandardScaler"
   ]
  },
  {
   "cell_type": "code",
   "execution_count": 2,
   "id": "76ca1008-a43b-45bc-bc16-a1c533ad46e5",
   "metadata": {},
   "outputs": [],
   "source": [
    "filename_biostates_2019 = '/cluster/projects/itk-SINMOD/coral-mapping/midnor/BioStates_2019.nc'\n",
    "biostates_2019 = xr.open_dataset(filename_biostates_2019)"
   ]
  },
  {
   "cell_type": "code",
   "execution_count": 3,
   "id": "e616a8c6-1eaa-4aad-9761-17a1efb44646",
   "metadata": {},
   "outputs": [],
   "source": [
    "filename_biostates_2022 = '/cluster/projects/itk-SINMOD/coral-mapping/midnor/BioStates_2022.nc'\n",
    "biostates_2022 = xr.open_dataset(filename_biostates_2022)"
   ]
  },
  {
   "cell_type": "code",
   "execution_count": 19,
   "id": "0ae8c977-c60b-42cb-abe0-8eef36afcbe7",
   "metadata": {},
   "outputs": [
    {
     "name": "stdout",
     "output_type": "stream",
     "text": [
      "['time', 'grid_mapping', 'LayerDepths', 'xc', 'yc', 'zc', 'depth', 'DXxDYy', 'nitrate', 'silicate', 'ammonium', 'diatoms', 'flagellates', 'ciliates', 'HNANO', 'bacteria', 'calanus_finmarchicus', 'calanus_glacialis', 'detritus_slow', 'detritus_fast', 'DOC', 'cDOM', 'silicate_detritus', 'sediment_Si', 'sediment_N']\n"
     ]
    }
   ],
   "source": [
    "print(list(biostates_2019.variables))"
   ]
  },
  {
   "cell_type": "code",
   "execution_count": null,
   "id": "17e44fb4-5142-489c-9382-82c8ae823c3d",
   "metadata": {},
   "outputs": [],
   "source": [
    "biostates = xr.concat([biostates_2019, biostates_2022], dim='time')"
   ]
  },
  {
   "cell_type": "code",
   "execution_count": null,
   "id": "88b7718b-71ba-494a-9966-834ab7d4e6a6",
   "metadata": {},
   "outputs": [],
   "source": [
    "print(biostates['LayerDepths'])"
   ]
  },
  {
   "cell_type": "code",
   "execution_count": null,
   "id": "7a64d2d0-02db-40ce-9dbe-145be30b759d",
   "metadata": {},
   "outputs": [],
   "source": []
  }
 ],
 "metadata": {
  "kernelspec": {
   "display_name": "Python 3 (ipykernel)",
   "language": "python",
   "name": "python3"
  },
  "language_info": {
   "codemirror_mode": {
    "name": "ipython",
    "version": 3
   },
   "file_extension": ".py",
   "mimetype": "text/x-python",
   "name": "python",
   "nbconvert_exporter": "python",
   "pygments_lexer": "ipython3",
   "version": "3.12.3"
  }
 },
 "nbformat": 4,
 "nbformat_minor": 5
}
