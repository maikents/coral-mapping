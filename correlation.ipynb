{
 "cells": [
  {
   "cell_type": "code",
   "execution_count": 1,
   "id": "04dd76e8-592c-4151-8c62-1588cdc1c6b9",
   "metadata": {},
   "outputs": [],
   "source": [
    "import matplotlib.pyplot as plt\n",
    "import numpy as np\n",
    "import matplotlib.pyplot as plt \n",
    "import netCDF4 as nc\n",
    "from netCDF4 import Dataset\n",
    "import geopandas as gpd\n",
    "import pandas as pd\n",
    "from sklearn.preprocessing import StandardScaler\n",
    "import seaborn as sns\n",
    "import random\n",
    "from sklearn.model_selection import train_test_split\n",
    "from pyproj import CRS, Transformer\n",
    "import xarray as xr"
   ]
  },
  {
   "cell_type": "code",
   "execution_count": 2,
   "id": "592e6993-d412-4147-b144-d61f4920df72",
   "metadata": {},
   "outputs": [],
   "source": [
    "#Importing bottom features \n",
    "\n",
    "EMOD_features_filepath = \"/cluster/projects/itk-SINMOD/coral-mapping/data/processed_data/features/ready-for-training/EMOD_features.nc\"\n",
    "EMOD_features = xr.open_dataset(EMOD_features_filepath)\n",
    "\n",
    "SINMOD_bottom_features_filepath = \"/cluster/projects/itk-SINMOD/coral-mapping/data/processed_data/features/ready-for-training/SINMOD_bottom_features.nc\"\n",
    "SINMOD_bottom_features = xr.open_dataset(SINMOD_bottom_features_filepath)"
   ]
  },
  {
   "cell_type": "code",
   "execution_count": 3,
   "id": "de05a3db-bbf1-4db2-bded-dd7110de5e1a",
   "metadata": {},
   "outputs": [
    {
     "name": "stdout",
     "output_type": "stream",
     "text": [
      "['stat', 'spatial_ref', 'x', 'y', 'bottom_temperature_features', 'bottom_salinity_features', 'bottom_current_features', 'bottom_statistical_northness_features', 'bottom_statistical_eastness_features', 'current_aspect_angle']\n"
     ]
    }
   ],
   "source": [
    "print(list(SINMOD_bottom_features.variables))"
   ]
  },
  {
   "cell_type": "code",
   "execution_count": 4,
   "id": "c2e20d6a-bc24-4427-9125-f81a7506da8f",
   "metadata": {},
   "outputs": [],
   "source": [
    "mean = SINMOD_bottom_features.sel(stat='mean')\n",
    "minimum = SINMOD_bottom_features.sel(stat='10th_percentile')\n",
    "maximum = SINMOD_bottom_features.sel(stat='90th_percentile')\n",
    "\n",
    "mean_data_df = mean.to_dataframe().reset_index()\n",
    "min_data_df = minimum.to_dataframe().reset_index()\n",
    "max_data_df = maximum.to_dataframe().reset_index()\n",
    "\n",
    "mean_data_df = mean_data_df.rename(columns={col: f\"{col}_mean\" for col in mean_data_df.columns if col not in ['x', 'y']})\n",
    "min_data_df = min_data_df.rename(columns={col: f\"{col}_10th_percentile\" for col in min_data_df.columns if col not in ['x', 'y']})\n",
    "max_data_df = max_data_df.rename(columns={col: f\"{col}_90th_percentile\" for col in max_data_df.columns if col not in ['x', 'y']})"
   ]
  },
  {
   "cell_type": "code",
   "execution_count": 5,
   "id": "4a211a8a-8eb9-47aa-b40b-32cbf3d1c365",
   "metadata": {},
   "outputs": [
    {
     "name": "stdout",
     "output_type": "stream",
     "text": [
      "(241533225, 9)\n"
     ]
    }
   ],
   "source": [
    "env_data_df = SINMOD_bottom_features[['x', 'y', 'bottom_temperature_features', 'bottom_salinity_features',\n",
    "                                  'bottom_current_features', 'bottom_statistical_northness_features',\n",
    "                                  'bottom_statistical_eastness_features', 'current_aspect_angle']].to_dataframe().reset_index()\n",
    "\n",
    "print(env_data_df.shape)"
   ]
  },
  {
   "cell_type": "code",
   "execution_count": 6,
   "id": "ae46dff7-7d3d-4e7a-a1f3-b053b4b0caa5",
   "metadata": {},
   "outputs": [],
   "source": [
    "final_df = env_data_df.merge(mean_data_df, on=['x', 'y'], suffixes=('', '_mean'))\n"
   ]
  },
  {
   "cell_type": "code",
   "execution_count": null,
   "id": "e0025bef-967d-4b1f-80d2-acf3a7f782dd",
   "metadata": {},
   "outputs": [],
   "source": [
    "final_df = final_df.merge(min_data_df, on=['x', 'y'], suffixes=('_mean', '_10th_percentile'))"
   ]
  },
  {
   "cell_type": "code",
   "execution_count": null,
   "id": "d1e3d126-1a01-45a9-bb39-7ea783f1bdc9",
   "metadata": {},
   "outputs": [],
   "source": [
    "final_df = final_df.merge(max_data_df, on=['x', 'y'], suffixes=('_10th_percentile', '_90th_percentile'))"
   ]
  },
  {
   "cell_type": "code",
   "execution_count": 5,
   "id": "f68db34c-6763-4ca5-a996-2657bf31324d",
   "metadata": {},
   "outputs": [
    {
     "name": "stdout",
     "output_type": "stream",
     "text": [
      "(100128072, 9)\n"
     ]
    }
   ],
   "source": [
    "env_data_df_no_nan = final_df.dropna().copy()\n",
    "print(env_df_no_nan.shape)"
   ]
  },
  {
   "cell_type": "code",
   "execution_count": null,
   "id": "efceb289-7702-422f-a9ae-d9b4b8e1decc",
   "metadata": {},
   "outputs": [],
   "source": [
    "print(env_data_df_no_nan.cols)"
   ]
  },
  {
   "cell_type": "code",
   "execution_count": 6,
   "id": "6ed8b19d-bbe8-43c7-9851-0b88b6b2b127",
   "metadata": {},
   "outputs": [],
   "source": [
    "scaler = StandardScaler()\n",
    "features_to_scale = [\n",
    "    'bottom_temperature_features',\n",
    "    'bottom_salinity_features',\n",
    "    'bottom_current_features',\n",
    "    'bottom_statistical_northness_features',\n",
    "    'bottom_statistical_eastness_features',\n",
    "    'current_aspect_angle'\n",
    "]\n",
    "scaled_env_data = scaler.fit_transform(env_data_df_no_nan[features_to_scale])\n",
    "env_data_df_no_nan[features_to_scale] = scaled_env_data\n",
    "\n"
   ]
  },
  {
   "cell_type": "code",
   "execution_count": 7,
   "id": "3d47c764-97f2-4892-8b27-8b541c88d916",
   "metadata": {},
   "outputs": [],
   "source": [
    "temp_10th_percentile = np.percentile(env_data_df_no_nan['bottom_temperature_features'], 10)\n",
    "temp_90th_percentile = np.percentile(env_data_df_no_nan['bottom_temperature_features'], 90)\n"
   ]
  },
  {
   "cell_type": "code",
   "execution_count": 8,
   "id": "44f70a14-4ef2-48ff-9e5c-92a6fbb87132",
   "metadata": {},
   "outputs": [
    {
     "name": "stdout",
     "output_type": "stream",
     "text": [
      "(100128072,)\n"
     ]
    }
   ],
   "source": [
    "print(env_data_df_no_nan['bottom_temperature_features'].shape)"
   ]
  },
  {
   "cell_type": "code",
   "execution_count": 9,
   "id": "1b3110d7-58ea-4b9e-973b-3e8535ece6f2",
   "metadata": {},
   "outputs": [
    {
     "name": "stdout",
     "output_type": "stream",
     "text": [
      "<xarray.IndexVariable 'stat' (stat: 3)> Size: 180B\n",
      "array(['mean', '10th_percentile', '90th_percentile'], dtype='<U15')\n"
     ]
    }
   ],
   "source": [
    "print(SINMOD_bottom_features.variables['stat'])"
   ]
  },
  {
   "cell_type": "code",
   "execution_count": 10,
   "id": "57d38dbf-cca0-4bbe-8dca-e65fc97a0b7a",
   "metadata": {},
   "outputs": [
    {
     "name": "stdout",
     "output_type": "stream",
     "text": [
      "<xarray.Dataset> Size: 3GB\n",
      "Dimensions:                                (x: 8325, y: 9671)\n",
      "Coordinates:\n",
      "    stat                                   <U15 60B 'mean'\n",
      "  * x                                      (x) float64 67kB -6.546e+04 ... 6....\n",
      "  * y                                      (y) float64 77kB 7.539e+06 ... 6.6...\n",
      "Data variables:\n",
      "    spatial_ref                            int64 8B ...\n",
      "    bottom_temperature_features            (y, x) float32 322MB nan nan ... nan\n",
      "    bottom_salinity_features               (y, x) float32 322MB nan nan ... nan\n",
      "    bottom_current_features                (y, x) float32 322MB nan nan ... nan\n",
      "    bottom_statistical_northness_features  (y, x) float64 644MB nan nan ... nan\n",
      "    bottom_statistical_eastness_features   (y, x) float64 644MB nan nan ... nan\n",
      "    current_aspect_angle                   (y, x) float64 644MB nan nan ... nan\n"
     ]
    }
   ],
   "source": [
    "mean_data = SINMOD_bottom_features.sel(stat='mean')\n",
    "print(mean_data)"
   ]
  },
  {
   "cell_type": "code",
   "execution_count": null,
   "id": "d985ae59-235b-4454-80f6-33cfb29be32c",
   "metadata": {},
   "outputs": [],
   "source": []
  }
 ],
 "metadata": {
  "kernelspec": {
   "display_name": "Python 3 (ipykernel)",
   "language": "python",
   "name": "python3"
  },
  "language_info": {
   "codemirror_mode": {
    "name": "ipython",
    "version": 3
   },
   "file_extension": ".py",
   "mimetype": "text/x-python",
   "name": "python",
   "nbconvert_exporter": "python",
   "pygments_lexer": "ipython3",
   "version": "3.12.3"
  }
 },
 "nbformat": 4,
 "nbformat_minor": 5
}
