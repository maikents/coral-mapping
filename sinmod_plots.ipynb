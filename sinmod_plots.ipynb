{
 "cells": [
  {
   "cell_type": "code",
   "execution_count": 21,
   "metadata": {},
   "outputs": [],
   "source": [
    "import netCDF4 as nc\n",
    "from netCDF4 import Dataset\n",
    "import pandas as pd\n",
    "import numpy as np\n",
    "import matplotlib.pyplot as plt"
   ]
  },
  {
   "cell_type": "code",
   "execution_count": 1,
   "metadata": {},
   "outputs": [
    {
     "name": "stdout",
     "output_type": "stream",
     "text": [
      "time                 No units\n",
      "grid_mapping         No units\n",
      "LayerDepths          m\n",
      "xc                   meter\n",
      "yc                   meter\n",
      "zc                   m\n",
      "depth                m\n",
      "DXxDYy               m2\n",
      "u_velocity           m/s\n",
      "v_velocity           m/s\n",
      "elevation            m\n",
      "temperature          degC\n",
      "salinity             psu\n",
      "ice_thickness        m\n",
      "ice_compactness      -\n",
      "salinity_ice         psu\n"
     ]
    }
   ],
   "source": [
    "# Importing SINMOD data\n",
    "filename_PhysStates = 'PhysStates.nc'\n",
    "\n",
    "PhysStates_data = Dataset(filename_PhysStates, 'r')\n",
    "\n",
    "# Looking at our list of available variables\n",
    "variables_list = list(PhysStates_data.variables.keys())\n",
    "for variable in variables_list:\n",
    "    units = PhysStates_data.variables[variable].units if 'units' in PhysStates_data.variables[variable].ncattrs() else 'No units'\n",
    "    print(f\"{variable:<20} {units}\")"
   ]
  },
  {
   "cell_type": "code",
   "execution_count": 3,
   "metadata": {},
   "outputs": [
    {
     "name": "stdout",
     "output_type": "stream",
     "text": [
      "SINMOD grid dimensions:\n",
      "xc shape: (300,)\n",
      "yc shape: (235,)\n",
      "zc shape: (25,)\n"
     ]
    }
   ],
   "source": [
    "# Extracting all the map dimensions\n",
    "xc = PhysStates_data.variables['xc'][:]  # x-coordinates (meters)\n",
    "yc = PhysStates_data.variables['yc'][:]  # y-coordinates (meters)\n",
    "zc = PhysStates_data['LayerDepths'][:]  # z-coordinates (meters)\n",
    "\n",
    "print(\"SINMOD grid dimensions:\")\n",
    "print(f\"xc shape: {xc.shape}\")\n",
    "print(f\"yc shape: {yc.shape}\")\n",
    "print(f\"zc shape: {zc.shape}\")"
   ]
  },
  {
   "cell_type": "code",
   "execution_count": 18,
   "metadata": {},
   "outputs": [
    {
     "name": "stdout",
     "output_type": "stream",
     "text": [
      "Missing values in minimumsdybde: 0\n",
      "Missing values in maksimumsdybde: 0\n",
      "Average minimumsdybde: 271.25783972125436\n",
      "Average maksimumsdybde: 276.3414634146341\n"
     ]
    }
   ],
   "source": [
    "coral_data = pd.read_csv(\"/Users/maikentomren/Documents/prosjektoppgave/plotting git/Illuminating-the-deep---projections-/combined_coral_data.csv\")\n",
    "\n",
    "# Get info on coral data minimumsdybde and maksimumsdybde\n",
    "missing_values_min = coral_data['minimumsdybde'].isnull().sum()\n",
    "missing_values_max = coral_data['maksimumsdybde'].isnull().sum()\n",
    "\n",
    "average_min = coral_data['minimumsdybde'][coral_data['minimumsdybde'] != 0].mean()\n",
    "average_max = coral_data['maksimumsdybde'][coral_data['maksimumsdybde'] != 0].mean()\n",
    "\n",
    "print(f\"Missing values in minimumsdybde: {missing_values_min}\")\n",
    "print(f\"Missing values in maksimumsdybde: {missing_values_max}\")\n",
    "print(f\"Average minimumsdybde: {average_min}\")\n",
    "print(f\"Average maksimumsdybde: {average_max}\")\n",
    "\n"
   ]
  },
  {
   "cell_type": "code",
   "execution_count": 19,
   "metadata": {},
   "outputs": [
    {
     "data": {
      "text/html": [
       "<div>\n",
       "<style scoped>\n",
       "    .dataframe tbody tr th:only-of-type {\n",
       "        vertical-align: middle;\n",
       "    }\n",
       "\n",
       "    .dataframe tbody tr th {\n",
       "        vertical-align: top;\n",
       "    }\n",
       "\n",
       "    .dataframe thead th {\n",
       "        text-align: right;\n",
       "    }\n",
       "</style>\n",
       "<table border=\"1\" class=\"dataframe\">\n",
       "  <thead>\n",
       "    <tr style=\"text-align: right;\">\n",
       "      <th></th>\n",
       "      <th>Unnamed: 0</th>\n",
       "      <th>gml_id</th>\n",
       "      <th>nøyaktighet</th>\n",
       "      <th>minimumsdybde</th>\n",
       "      <th>maksimumsdybde</th>\n",
       "      <th>lengdegrad</th>\n",
       "      <th>breddegrad</th>\n",
       "    </tr>\n",
       "  </thead>\n",
       "  <tbody>\n",
       "    <tr>\n",
       "      <th>0</th>\n",
       "      <td>0</td>\n",
       "      <td>idcc1ddf21-7f6f-42ae-9de0-c1beae782900</td>\n",
       "      <td>10</td>\n",
       "      <td>300</td>\n",
       "      <td>311</td>\n",
       "      <td>9.87394</td>\n",
       "      <td>64.77133</td>\n",
       "    </tr>\n",
       "    <tr>\n",
       "      <th>1</th>\n",
       "      <td>1</td>\n",
       "      <td>ide9bd1ddb-8384-48c4-a649-ba9597853be3</td>\n",
       "      <td>50</td>\n",
       "      <td>0</td>\n",
       "      <td>0</td>\n",
       "      <td>10.50748</td>\n",
       "      <td>63.60458</td>\n",
       "    </tr>\n",
       "    <tr>\n",
       "      <th>2</th>\n",
       "      <td>2</td>\n",
       "      <td>id8cddeeb9-2353-4795-9161-4e01397a3a21</td>\n",
       "      <td>10</td>\n",
       "      <td>0</td>\n",
       "      <td>0</td>\n",
       "      <td>7.95556</td>\n",
       "      <td>63.77772</td>\n",
       "    </tr>\n",
       "    <tr>\n",
       "      <th>3</th>\n",
       "      <td>3</td>\n",
       "      <td>idaa31e030-a287-4319-8dfc-183c2a169279</td>\n",
       "      <td>10</td>\n",
       "      <td>0</td>\n",
       "      <td>0</td>\n",
       "      <td>9.38355</td>\n",
       "      <td>64.29424</td>\n",
       "    </tr>\n",
       "    <tr>\n",
       "      <th>4</th>\n",
       "      <td>4</td>\n",
       "      <td>id98f7a0c4-4c26-4288-a04d-0434cf8221c6</td>\n",
       "      <td>10</td>\n",
       "      <td>0</td>\n",
       "      <td>0</td>\n",
       "      <td>8.50034</td>\n",
       "      <td>64.12643</td>\n",
       "    </tr>\n",
       "  </tbody>\n",
       "</table>\n",
       "</div>"
      ],
      "text/plain": [
       "   Unnamed: 0                                  gml_id  nøyaktighet  \\\n",
       "0           0  idcc1ddf21-7f6f-42ae-9de0-c1beae782900           10   \n",
       "1           1  ide9bd1ddb-8384-48c4-a649-ba9597853be3           50   \n",
       "2           2  id8cddeeb9-2353-4795-9161-4e01397a3a21           10   \n",
       "3           3  idaa31e030-a287-4319-8dfc-183c2a169279           10   \n",
       "4           4  id98f7a0c4-4c26-4288-a04d-0434cf8221c6           10   \n",
       "\n",
       "   minimumsdybde  maksimumsdybde  lengdegrad  breddegrad  \n",
       "0            300             311     9.87394    64.77133  \n",
       "1              0               0    10.50748    63.60458  \n",
       "2              0               0     7.95556    63.77772  \n",
       "3              0               0     9.38355    64.29424  \n",
       "4              0               0     8.50034    64.12643  "
      ]
     },
     "execution_count": 19,
     "metadata": {},
     "output_type": "execute_result"
    }
   ],
   "source": [
    "coral_data.head()\n"
   ]
  },
  {
   "cell_type": "code",
   "execution_count": 6,
   "metadata": {},
   "outputs": [
    {
     "name": "stdout",
     "output_type": "stream",
     "text": [
      "\n",
      "Temperature data shape: (25, 235, 300)\n",
      "Mean temperature:\t1.64\n",
      "Max temperature:\t10.86\n",
      "Min temperature:\t-1.80\n"
     ]
    }
   ],
   "source": [
    "#TEMPERATURE DATA\n",
    "\n",
    "# Now checking temperature data matches what we expect from the dimensions\n",
    "# Extracting temperature at t = 0, and check the dimensions\n",
    "temperature_var = PhysStates_data.variables['temperature']\n",
    "temperature = temperature_var[0,:,:,:]\n",
    "print(f\"\\nTemperature data shape: {temperature.shape}\")\n",
    "\n",
    "\n",
    "# Now checking mean, max and min temperature to see if it makes sense\n",
    "print(f\"Mean temperature:\\t{temperature.mean():.2f}\")\n",
    "print(f\"Max temperature:\\t{temperature.max():.2f}\")\n",
    "print(f\"Min temperature:\\t{temperature.min():.2f}\")\n",
    "\n",
    "\n"
   ]
  },
  {
   "cell_type": "code",
   "execution_count": 22,
   "metadata": {},
   "outputs": [
    {
     "data": {
      "image/png": "[encoded data removed]",
      "text/plain": [
       "<Figure size 640x480 with 1 Axes>"
      ]
     },
     "metadata": {},
     "output_type": "display_data"
    }
   ],
   "source": [
    "#TEMPERATURE DATA\n",
    "\n",
    "# Extracting SINMOD temperature at each lon/lat point in coral_data\n",
    "coral_temperatures = []\n",
    "for index, row in coral_data.iterrows():\n",
    "    lon = row['lengdegrad']\n",
    "    lat = row['breddegrad']\n",
    "    # Find the corresponding indices in xc and yc arrays\n",
    "    lon_index = np.abs(xc - lon).argmin()\n",
    "    lat_index = np.abs(yc - lat).argmin()\n",
    "    # Extract temperature at that point\n",
    "    temperature = temperature_var[0, :, lat_index, lon_index]\n",
    "    coral_temperatures.append(temperature)\n",
    "\n",
    "# Make a histogram of the temperatures\n",
    "plt.hist(coral_temperatures, bins=10)\n",
    "plt.xlabel('Temperature')\n",
    "plt.ylabel('Frequency')\n",
    "plt.title('Temperature Distribution at Coral Locations')\n",
    "plt.show()"
   ]
  }
 ],
 "metadata": {
  "kernelspec": {
   "display_name": "Python 3",
   "language": "python",
   "name": "python3"
  },
  "language_info": {
   "codemirror_mode": {
    "name": "ipython",
    "version": 3
   },
   "file_extension": ".py",
   "mimetype": "text/x-python",
   "name": "python",
   "nbconvert_exporter": "python",
   "pygments_lexer": "ipython3",
   "version": "3.12.5"
  }
 },
 "nbformat": 4,
 "nbformat_minor": 2
}
