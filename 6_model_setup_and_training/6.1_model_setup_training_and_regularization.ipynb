{
 "cells": [
  {
   "cell_type": "code",
   "execution_count": 1,
   "id": "d1764910-5a02-48e8-89d0-5a137d3f5c92",
   "metadata": {},
   "outputs": [],
   "source": [
    "import pandas as pd\n",
    "import numpy as np\n",
    "import elapid\n",
    "from elapid import MaxentModel\n",
    "import xarray as xr\n",
    "from sklearn.model_selection import KFold, cross_val_score\n",
    "from sklearn.metrics import make_scorer\n",
    "from sklearn.model_selection import cross_validate\n",
    "from sklearn.metrics import accuracy_score\n",
    "from sklearn import metrics\n",
    "from sklearn.model_selection import GridSearchCV\n",
    "from sklearn.metrics import roc_auc_score, f1_score, precision_score, recall_score, balanced_accuracy_score"
   ]
  },
  {
   "cell_type": "code",
   "execution_count": 2,
   "id": "01b4593e-ecfa-448d-b73f-12732249aa2f",
   "metadata": {},
   "outputs": [],
   "source": [
    "X_train = pd.read_csv(\"/cluster/home/maikents/sinmod_features_masters/ready_for_training/X_train.csv\")\n",
    "X_test = pd.read_csv(\"/cluster/home/maikents/sinmod_features_masters/ready_for_training/X_test.csv\")\n",
    "y_train = pd.read_csv(\"/cluster/home/maikents/sinmod_features_masters/ready_for_training/y_train.csv\")\n",
    "y_test = pd.read_csv(\"/cluster/home/maikents/sinmod_features_masters/ready_for_training/y_test.csv\")"
   ]
  },
  {
   "cell_type": "code",
   "execution_count": null,
   "id": "a68a7a59-3794-4bc0-b125-ea07e075bc42",
   "metadata": {},
   "outputs": [
    {
     "name": "stderr",
     "output_type": "stream",
     "text": [
      "/cluster/home/maikents/PyEnvCoralMapping/lib/python3.12/site-packages/sklearn/metrics/_scorer.py:610: FutureWarning: The `needs_threshold` and `needs_proba` parameter are deprecated in version 1.4 and will be removed in 1.6. You can either let `response_method` be `None` or set it to `predict` to preserve the same behaviour.\n",
      "  warnings.warn(\n",
      "/cluster/home/maikents/PyEnvCoralMapping/lib/python3.12/site-packages/sklearn/model_selection/_validation.py:1000: UserWarning: Scoring failed. The score on this train-test partition for these parameters will be set to nan. Details: \n",
      "Traceback (most recent call last):\n",
      "  File \"/cluster/home/maikents/PyEnvCoralMapping/lib/python3.12/site-packages/sklearn/metrics/_scorer.py\", line 139, in __call__\n",
      "    score = scorer._score(\n",
      "            ^^^^^^^^^^^^^^\n",
      "  File \"/cluster/home/maikents/PyEnvCoralMapping/lib/python3.12/site-packages/sklearn/metrics/_scorer.py\", line 371, in _score\n",
      "    y_pred = method_caller(\n",
      "             ^^^^^^^^^^^^^^\n",
      "  File \"/cluster/home/maikents/PyEnvCoralMapping/lib/python3.12/site-packages/sklearn/metrics/_scorer.py\", line 89, in _cached_call\n",
      "    result, _ = _get_response_values(\n",
      "                ^^^^^^^^^^^^^^^^^^^^^\n",
      "  File \"/cluster/home/maikents/PyEnvCoralMapping/lib/python3.12/site-packages/sklearn/utils/_response.py\", line 214, in _get_response_values\n",
      "    y_pred = _process_predict_proba(\n",
      "             ^^^^^^^^^^^^^^^^^^^^^^^\n",
      "  File \"/cluster/home/maikents/PyEnvCoralMapping/lib/python3.12/site-packages/sklearn/utils/_response.py\", line 57, in _process_predict_proba\n",
      "    col_idx = np.flatnonzero(classes == pos_label)[0]\n",
      "              ~~~~~~~~~~~~~~~~~~~~~~~~~~~~~~~~~~~~^^^\n",
      "IndexError: index 0 is out of bounds for axis 0 with size 0\n",
      "\n",
      "  warnings.warn(\n",
      "/cluster/home/maikents/PyEnvCoralMapping/lib/python3.12/site-packages/sklearn/model_selection/_validation.py:1000: UserWarning: Scoring failed. The score on this train-test partition for these parameters will be set to nan. Details: \n",
      "Traceback (most recent call last):\n",
      "  File \"/cluster/home/maikents/PyEnvCoralMapping/lib/python3.12/site-packages/sklearn/metrics/_scorer.py\", line 139, in __call__\n",
      "    score = scorer._score(\n",
      "            ^^^^^^^^^^^^^^\n",
      "  File \"/cluster/home/maikents/PyEnvCoralMapping/lib/python3.12/site-packages/sklearn/metrics/_scorer.py\", line 371, in _score\n",
      "    y_pred = method_caller(\n",
      "             ^^^^^^^^^^^^^^\n",
      "  File \"/cluster/home/maikents/PyEnvCoralMapping/lib/python3.12/site-packages/sklearn/metrics/_scorer.py\", line 89, in _cached_call\n",
      "    result, _ = _get_response_values(\n",
      "                ^^^^^^^^^^^^^^^^^^^^^\n",
      "  File \"/cluster/home/maikents/PyEnvCoralMapping/lib/python3.12/site-packages/sklearn/utils/_response.py\", line 214, in _get_response_values\n",
      "    y_pred = _process_predict_proba(\n",
      "             ^^^^^^^^^^^^^^^^^^^^^^^\n",
      "  File \"/cluster/home/maikents/PyEnvCoralMapping/lib/python3.12/site-packages/sklearn/utils/_response.py\", line 57, in _process_predict_proba\n",
      "    col_idx = np.flatnonzero(classes == pos_label)[0]\n",
      "              ~~~~~~~~~~~~~~~~~~~~~~~~~~~~~~~~~~~~^^^\n",
      "IndexError: index 0 is out of bounds for axis 0 with size 0\n",
      "\n",
      "  warnings.warn(\n"
     ]
    }
   ],
   "source": [
    "model = elapid.MaxentModel()\n",
    "param_grid = {\n",
    "    'beta_multiplier': [0.5, 1.0, 2.0, 3.0, 4.0],\n",
    "    'beta_hinge': [0.5, 1.0, 1.5, 2.0],\n",
    "    'beta_threshold': [0.5, 1.0, 1.5, 2.0]\n",
    "}\n",
    "\n",
    "#Perform Grid Search CV\n",
    "cv_model = GridSearchCV(\n",
    "    model, param_grid, \n",
    "    scoring={\n",
    "        'ROC': make_scorer(roc_auc_score, needs_proba=True)\n",
    "    }, \n",
    "    refit='ROC', \n",
    "    cv=10,\n",
    "    return_train_score=True\n",
    ")\n",
    "cv_model.fit(X_train, y_train)\n",
    "\n",
    "#Evaluate the best model on the test set\n",
    "best_model = cv_model.best_estimator_\n",
    "\n",
    "y_test_pred = best_model.predict_proba(X_test)[:, 1]\n",
    "\n",
    "auc_score = roc_auc_score(y_test, y_test_pred)\n",
    "\n",
    "print(f\"Test AUC: {auc_score:.3f}\")"
   ]
  },
  {
   "cell_type": "code",
   "execution_count": null,
   "id": "9da8fa7d-331c-4538-86bf-e46a104d2e0c",
   "metadata": {},
   "outputs": [],
   "source": [
    "print(\"Best regularization parameters found:\", cv_model.best_params_)"
   ]
  },
  {
   "cell_type": "code",
   "execution_count": null,
   "id": "16dfc23c-181f-4803-bfb2-2217529ee70c",
   "metadata": {},
   "outputs": [],
   "source": [
    "cv_model.fit(X_train, y_train)\n",
    "train_loss = 1 - cv_model.cv_results_['mean_train_ROC']\n",
    "val_loss = 1 - cv_model.cv_results_['mean_test_ROC']"
   ]
  },
  {
   "cell_type": "code",
   "execution_count": null,
   "id": "40a1213c-f103-4a84-be61-fe8d58562306",
   "metadata": {},
   "outputs": [],
   "source": [
    "best_model = cv_model.best_estimator_\n"
   ]
  },
  {
   "cell_type": "code",
   "execution_count": null,
   "id": "4500fc2d-f31e-486c-96f1-1bd5c50bb264",
   "metadata": {},
   "outputs": [],
   "source": [
    "chunk_size = 2000\n",
    "num_chunks = int(np.ceil(len(X_grid) / chunk_size))  \n",
    "\n",
    "predicted_probabilities_list = []\n",
    "\n",
    "for i in range(num_chunks):\n",
    "    start = i * chunk_size\n",
    "    end = min((i + 1) * chunk_size, len(X_grid))  \n",
    "    X_chunk = X_grid.iloc[start:end]\n",
    "    \n",
    "    chunk_probabilities = best_model.predict_proba(X_chunk)[:, 1]\n",
    "    \n",
    "    predicted_probabilities_list.append(chunk_probabilities)\n",
    "\n",
    "predicted_probabilities = np.concatenate(predicted_probabilities_list)\n"
   ]
  },
  {
   "cell_type": "code",
   "execution_count": null,
   "id": "1bc38869-c653-422d-9658-66f9b77c712e",
   "metadata": {},
   "outputs": [],
   "source": [
    "num_x = 100128072\n",
    "  # Number of unique x-coordinates\n",
    "num_y = 100128072\n",
    "  # Number of unique y-coordinates\n",
    "\n",
    "\n",
    "# Reshape predicted_probabilities into the shape of the grid\n",
    "# Assuming the grid is filled row by row (or column by column)\n",
    "predicted_probabilities_grid = predicted_probabilities.reshape((num_y, num_x))\n"
   ]
  },
  {
   "cell_type": "code",
   "execution_count": null,
   "id": "f8754d01-1b43-4c92-85a5-ac461fdc34a8",
   "metadata": {},
   "outputs": [],
   "source": [
    "np.save('/cluster/home/maikents/sinmod_features_masters/predicted_probabilities.npy', predicted_probabilities)\n"
   ]
  },
  {
   "cell_type": "code",
   "execution_count": null,
   "id": "55909920-fc9b-4481-9b4f-d9de07225cf3",
   "metadata": {},
   "outputs": [],
   "source": [
    "print()len()"
   ]
  },
  {
   "cell_type": "code",
   "execution_count": null,
   "id": "27a873e9-38ca-4f98-95aa-f3b31afb4c08",
   "metadata": {},
   "outputs": [],
   "source": []
  }
 ],
 "metadata": {
  "kernelspec": {
   "display_name": "Python 3 (ipykernel)",
   "language": "python",
   "name": "python3"
  },
  "language_info": {
   "codemirror_mode": {
    "name": "ipython",
    "version": 3
   },
   "file_extension": ".py",
   "mimetype": "text/x-python",
   "name": "python",
   "nbconvert_exporter": "python",
   "pygments_lexer": "ipython3",
   "version": "3.12.3"
  }
 },
 "nbformat": 4,
 "nbformat_minor": 5
}
