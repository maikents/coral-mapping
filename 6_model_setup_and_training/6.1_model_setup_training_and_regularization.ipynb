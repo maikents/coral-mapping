{
 "cells": [
  {
   "cell_type": "code",
   "execution_count": 1,
   "id": "d1764910-5a02-48e8-89d0-5a137d3f5c92",
   "metadata": {},
   "outputs": [],
   "source": [
    "import pandas as pd\n",
    "import numpy as np\n",
    "import elapid\n",
    "from elapid import MaxentModel\n",
    "import xarray as xr\n",
    "from sklearn.model_selection import KFold, cross_val_score\n",
    "from sklearn.metrics import make_scorer\n",
    "from sklearn.model_selection import cross_validate\n",
    "from sklearn.metrics import accuracy_score\n",
    "from sklearn import metrics\n",
    "from sklearn.model_selection import GridSearchCV\n",
    "from sklearn.metrics import roc_auc_score, f1_score, precision_score, recall_score, balanced_accuracy_score\n",
    "import matplotlib.pyplot as plt\n",
    "import joblib\n",
    "import rasterio\n",
    "from rasterio.transform import from_origin\n",
    "from rasterio.enums import Resampling\n",
    "from sklearn.model_selection import GroupKFold, GridSearchCV\n",
    "import pickle\n",
    "from sklearn.model_selection import train_test_split\n"
   ]
  },
  {
   "cell_type": "code",
   "execution_count": 6,
   "id": "01b4593e-ecfa-448d-b73f-12732249aa2f",
   "metadata": {},
   "outputs": [],
   "source": [
    "X_train = pd.read_csv(\"/cluster/home/maikents/sinmod_features_masters/ready_for_training/pipeline6_v2/X_train2.csv\")\n",
    "X_test = pd.read_csv(\"/cluster/home/maikents/sinmod_features_masters/ready_for_training/pipeline6_v2/X_test2.csv\")\n",
    "y_train = pd.read_csv(\"/cluster/home/maikents/sinmod_features_masters/ready_for_training/pipeline6_v2/y_train2.csv\")\n",
    "y_test = pd.read_csv(\"/cluster/home/maikents/sinmod_features_masters/ready_for_training/pipeline6_v2/y_test2.csv\")"
   ]
  },
  {
   "cell_type": "code",
   "execution_count": 2,
   "id": "950f1b18-48f6-4d80-88c2-525cba30d928",
   "metadata": {},
   "outputs": [],
   "source": [
    "combined_df_nans = pd.read_parquet(\"/cluster/home/maikents/sinmod_features_masters/dataframes_pipeline_6/total_df_with_nans_and_labels.parquet\")\n"
   ]
  },
  {
   "cell_type": "code",
   "execution_count": 3,
   "id": "175a4b37-aeb9-4eb9-a7da-11e6b8605c94",
   "metadata": {},
   "outputs": [],
   "source": [
    "x_coords = combined_df_nans['x']\n",
    "y_coords = combined_df_nans['y']"
   ]
  },
  {
   "cell_type": "code",
   "execution_count": 3,
   "id": "ca6117c4-42c6-4edc-b9ce-0f521e8bce92",
   "metadata": {},
   "outputs": [],
   "source": [
    "combined_df_nans = combined_df_nans.drop(columns=['chlor_a_10th_percentile', 'sediment_nitrate_mean',\n",
    "'sediment_nitrate_90th_percentile', 'temperature_max', 'salinity_10th_percentile', 'salinity_90th_percentile',\n",
    "'current_speed_90th_percentile', 'chlor_a_90th_percentile', 'sediment_silicate_mean'])"
   ]
  },
  {
   "cell_type": "code",
   "execution_count": null,
   "id": "a68a7a59-3794-4bc0-b125-ea07e075bc42",
   "metadata": {
    "scrolled": true
   },
   "outputs": [],
   "source": [
    "#Set up and run GridSearchCV for MaxEnt using 10-fold CV\n",
    "\n",
    "model = elapid.MaxentModel()\n",
    "param_grid = {\n",
    "    'beta_multiplier': [0.5, 1.0, 2.0, 3.0, 4.0],\n",
    "    'beta_hinge': [0.5, 1.0, 1.5, 2.0],\n",
    "    'beta_threshold': [0.5, 1.0, 1.5, 2.0]\n",
    "}\n",
    "\n",
    "#Perform Grid Search CV\n",
    "cv_model = GridSearchCV(\n",
    "    model, param_grid, \n",
    "    scoring={\n",
    "        'ROC': make_scorer(roc_auc_score, needs_proba=True)\n",
    "    }, \n",
    "    refit='ROC', \n",
    "    cv=10,\n",
    "    return_train_score=True\n",
    ")\n",
    "cv_model.fit(X_train, y_train)"
   ]
  },
  {
   "cell_type": "code",
   "execution_count": 13,
   "id": "4fabc263-823a-4b88-8c95-3cd40387707e",
   "metadata": {},
   "outputs": [
    {
     "data": {
      "text/plain": [
       "['/cluster/home/maikents/maxent_model_pipeline_6_v3.pkl']"
      ]
     },
     "execution_count": 13,
     "metadata": {},
     "output_type": "execute_result"
    }
   ],
   "source": [
    "joblib.dump(cv_model, '/cluster/home/maikents/maxent_model_pipeline_6_v3.pkl')"
   ]
  },
  {
   "cell_type": "code",
   "execution_count": 4,
   "id": "11656792-01c1-4814-bf7a-62a634d181f7",
   "metadata": {},
   "outputs": [],
   "source": [
    "#If using spatial block cv:\n",
    "X_train = pd.read_csv(\"/cluster/home/maikents/sinmod_features_masters/ready_for_training/pipeline6/X_train_spatial.csv\")\n",
    "X_test = pd.read_csv(\"/cluster/home/maikents/sinmod_features_masters/ready_for_training/pipeline6/X_test_spatial.csv\")\n",
    "y_train = pd.read_csv(\"/cluster/home/maikents/sinmod_features_masters/ready_for_training/pipeline6/y_train_spatial.csv\")\n",
    "y_test = pd.read_csv(\"/cluster/home/maikents/sinmod_features_masters/ready_for_training/pipeline6/y_test_spatial.csv\")\n",
    "groups_train = pd.read_csv(\"/cluster/home/maikents/sinmod_features_masters/ready_for_training/pipeline6/groups_train_spatial.csv\")\n",
    "groups_test = pd.read_csv(\"/cluster/home/maikents/sinmod_features_masters/ready_for_training/pipeline6/groups_test_spatial.csv\")"
   ]
  },
  {
   "cell_type": "code",
   "execution_count": null,
   "id": "a7b1738f-acb7-4abd-9add-365be981b581",
   "metadata": {
    "scrolled": true
   },
   "outputs": [],
   "source": [
    "#Set up and run GridSearchCV for MaxEnt using spatial block CV\n",
    "\n",
    "\n",
    "model = elapid.MaxentModel()\n",
    "gkf = GroupKFold(n_splits=6)\n",
    "cv_splits = list(gkf.split(X_train, y_train, groups=groups_train))\n",
    "\n",
    "param_grid = {\n",
    "    'beta_multiplier': [0.5, 1.0, 2.0, 3.0, 4.0],\n",
    "    'beta_hinge': [0.5, 1.0, 1.5, 2.0],\n",
    "    'beta_threshold': [0.5, 1.0, 1.5, 2.0]\n",
    "}\n",
    "\n",
    "\n",
    "\n",
    "cv_model = GridSearchCV(\n",
    "    estimator=model,\n",
    "    param_grid=param_grid,\n",
    "    cv=cv_splits,  \n",
    "    scoring={'ROC': make_scorer(roc_auc_score, needs_proba=True)},\n",
    "    refit='ROC',\n",
    "    return_train_score=True\n",
    ")\n",
    "\n",
    "feature_cols = X_train.columns.difference(['x_bin', 'y_bin'])\n",
    "X_train_clean = X_train[feature_cols]\n",
    "\n",
    "cv_model.fit(X_train_clean, y_train)\n"
   ]
  },
  {
   "cell_type": "code",
   "execution_count": 7,
   "id": "b081b3ab-0c21-4706-b6eb-f8d91f2edd41",
   "metadata": {},
   "outputs": [
    {
     "data": {
      "text/plain": [
       "['/cluster/home/maikents/maxent_model_pipeline_6_spatial.pkl']"
      ]
     },
     "execution_count": 7,
     "metadata": {},
     "output_type": "execute_result"
    }
   ],
   "source": [
    "joblib.dump(cv_model, '/cluster/home/maikents/maxent_model_pipeline_6_spatial.pkl')\n"
   ]
  },
  {
   "cell_type": "code",
   "execution_count": 5,
   "id": "813a11f0-0bad-496e-b03b-9178c1c10266",
   "metadata": {},
   "outputs": [],
   "source": [
    "#Next"
   ]
  },
  {
   "cell_type": "code",
   "execution_count": 8,
   "id": "8c351556-33fc-4973-8d3b-191fb80c9b85",
   "metadata": {},
   "outputs": [],
   "source": [
    "cv_model = joblib.load('/cluster/home/maikents/maxent_model_pipeline_6_spatial.pkl')\n"
   ]
  },
  {
   "cell_type": "code",
   "execution_count": 11,
   "id": "be4f6ae1-608d-4396-b2f0-5135ff7d9bfb",
   "metadata": {},
   "outputs": [
    {
     "name": "stdout",
     "output_type": "stream",
     "text": [
      "Train AUC: 0.966\n"
     ]
    }
   ],
   "source": [
    "#Predict probabilities on the training set\n",
    "y_train_pred = best_model.predict_proba(X_train)[:, 1]\n",
    "\n",
    "train_auc_score = roc_auc_score(y_train, y_train_pred)\n",
    "\n",
    "print(f\"Train AUC: {train_auc_score:.3f}\")\n"
   ]
  },
  {
   "cell_type": "code",
   "execution_count": 10,
   "id": "c198efeb-4afc-41e8-877c-abaec180954d",
   "metadata": {},
   "outputs": [],
   "source": [
    "#Predict across full model area \n",
    "x_coords = combined_df_nans['x']\n",
    "y_coords = combined_df_nans['y']\n",
    "#10-fold\n",
    "#features_only = combined_df_nans.drop(columns=['x', 'y', 'labels'], errors='ignore')\n",
    "#X_grid_clean = features_only.dropna()\n",
    "\n",
    "\n",
    "#spatial block\n",
    "feature_cols = X_train.columns.difference(['x_bin', 'y_bin'])\n",
    "X_grid_clean = combined_df_nans[feature_cols].dropna()\n",
    "X_grid_clean = X_grid_clean.drop(columns=['x', 'y', 'labels'], errors='ignore')\n",
    "valid_idx = X_grid_clean.index\n",
    "\n",
    "\n",
    "chunk_size = 2000\n",
    "num_chunks = int(np.ceil(len(X_grid_clean) / chunk_size))\n",
    "predicted_probabilities_list = []\n",
    "\n",
    "for i in range(num_chunks):\n",
    "    start = i * chunk_size\n",
    "    end = min((i + 1) * chunk_size, len(X_grid_clean))\n",
    "    chunk = X_grid_clean.iloc[start:end]\n",
    "    probs = best_model.predict_proba(chunk)[:, 1]\n",
    "    predicted_probabilities_list.append(probs)\n",
    "\n",
    "predicted_probs = np.concatenate(predicted_probabilities_list)\n"
   ]
  },
  {
   "cell_type": "code",
   "execution_count": 12,
   "id": "bacbad5c-d57a-4900-a7d9-973041e88c52",
   "metadata": {},
   "outputs": [
    {
     "name": "stdout",
     "output_type": "stream",
     "text": [
      "Test AUC: 0.938\n",
      "Best regularization parameters found: {'beta_hinge': 0.5, 'beta_multiplier': 0.5, 'beta_threshold': 0.5}\n"
     ]
    }
   ],
   "source": [
    "#Evaluate the test performance\n",
    "best_model = cv_model.best_estimator_\n",
    "X_grid_clean = X_grid_clean[feature_cols]\n",
    "\n",
    "y_test_pred = best_model.predict_proba(X_test)[:, 1]\n",
    "\n",
    "auc_score = roc_auc_score(y_test, y_test_pred)\n",
    "\n",
    "print(f\"Test AUC: {auc_score:.3f}\")\n",
    "print(\"Best regularization parameters found:\", cv_model.best_params_)"
   ]
  },
  {
   "cell_type": "code",
   "execution_count": 13,
   "id": "00465a6d-ddaf-47f2-9cbb-b98e55437503",
   "metadata": {},
   "outputs": [],
   "source": [
    "all_probabilities = np.full((len(combined_df_nans),), np.nan)\n",
    "\n",
    "all_probabilities[valid_idx] = predicted_probs\n",
    "\n",
    "num_x = len(np.unique(x_coords))\n",
    "num_y = len(np.unique(y_coords))"
   ]
  },
  {
   "cell_type": "code",
   "execution_count": 14,
   "id": "9d90288e-048f-43dc-9be4-4b7d26ce9985",
   "metadata": {},
   "outputs": [],
   "source": [
    "sorted_idx = np.lexsort((x_coords, y_coords))  \n",
    "all_probs_sorted = all_probabilities[sorted_idx]\n"
   ]
  },
  {
   "cell_type": "code",
   "execution_count": 15,
   "id": "c457e5c9-13f5-4d8a-ae77-8ffb8d475385",
   "metadata": {},
   "outputs": [],
   "source": [
    "predicted_grid = all_probs_sorted.reshape((num_y, num_x))\n"
   ]
  },
  {
   "cell_type": "code",
   "execution_count": 16,
   "id": "cd9648d7-918a-4122-bebc-0ce072d1c81b",
   "metadata": {},
   "outputs": [],
   "source": [
    "np.save(\"/cluster/home/maikents/sinmod_features_masters/predicted_probabilities_pipeline6_spatial.npy\", predicted_grid)\n"
   ]
  },
  {
   "cell_type": "code",
   "execution_count": 20,
   "id": "26eed466-b834-4132-8442-7d0db3f2d15a",
   "metadata": {},
   "outputs": [],
   "source": [
    "pipeline_6_grid = np.load(\"/cluster/home/maikents/predicted_probabilities_grid_pipeline6_new.npy\")"
   ]
  },
  {
   "cell_type": "code",
   "execution_count": 21,
   "id": "883724ac-56d7-4219-b64c-b54b0d90c567",
   "metadata": {},
   "outputs": [],
   "source": [
    "pipeline_1_grid = np.load(\"/cluster/home/maikents/predicted_probabilities_grid_pipeline1.npy\")"
   ]
  },
  {
   "cell_type": "code",
   "execution_count": 22,
   "id": "97ec6b19-20af-45c2-a3f6-196063734450",
   "metadata": {},
   "outputs": [],
   "source": [
    "difference = pipeline_1_grid - pipeline_6_grid"
   ]
  },
  {
   "cell_type": "code",
   "execution_count": 23,
   "id": "a7978810-6597-447e-828e-6dbd30e95053",
   "metadata": {},
   "outputs": [],
   "source": [
    "res_x = (x_coords.max() - x_coords.min()) / difference.shape[1]\n",
    "res_y = (y_coords.max() - y_coords.min()) / difference.shape[0]\n",
    "\n",
    "transform = from_origin(x_coords.min(), y_coords.max(), res_x, res_y)\n",
    "\n",
    "#Save to GeoTIFF with correct CRS\n",
    "with rasterio.open(\n",
    "    \"/cluster/home/maikents/sinmod_features_masters/coral_prediction_difference_new.tif\",\n",
    "    \"w\",\n",
    "    driver=\"GTiff\",\n",
    "    height=difference.shape[0],\n",
    "    width=difference.shape[1],\n",
    "    count=1,\n",
    "    dtype=\"float32\",\n",
    "    crs=\"EPSG:25833\",  #EMODnet UTM Zone 33N / ETRS89\n",
    "    transform=transform,\n",
    ") as dst:\n",
    "    dst.write(difference.astype(\"float32\"), 1)"
   ]
  },
  {
   "cell_type": "code",
   "execution_count": 4,
   "id": "6d9c05fe-7f77-4c0c-8e0a-6c0deaf74ddc",
   "metadata": {},
   "outputs": [],
   "source": [
    "with rasterio.open(\"/cluster/home/maikents/sinmod_features_masters/coral_prediction_difference_new.tif\") as src:\n",
    "    data = src.read(1)\n",
    "\n",
    "    flipped_data = np.flipud(data)\n",
    "\n",
    "    meta = src.meta.copy()\n",
    "\n",
    "    with rasterio.open('/cluster/home/maikents/sinmod_features_masters/coral_prediction_difference_new_flipped.tif', 'w', **meta) as dst:\n",
    "        dst.write(flipped_data, 1)\n",
    "\n"
   ]
  },
  {
   "cell_type": "code",
   "execution_count": 25,
   "id": "836cc8fe-50f9-423d-a6fa-59e435310ff9",
   "metadata": {},
   "outputs": [],
   "source": [
    "with rasterio.open(\"/cluster/home/maikents/sinmod_features_masters/coral_prediction_difference_new_flipped.tif\") as src:\n",
    "    data = src.read(1)\n",
    "    profile = src.profile\n",
    "\n",
    "#Replace NaNs with -9999\n",
    "data_clean = np.where(np.isnan(data), -9999, data)\n",
    "\n",
    "profile.update(nodata=-9999)\n",
    "\n",
    "with rasterio.open('/cluster/home/maikents/sinmod_features_masters/coral_prediction_difference_new_flipped_and_nans_replaced.tif', \"w\", **profile) as dst:\n",
    "    dst.write(data_clean, 1)"
   ]
  }
 ],
 "metadata": {
  "kernelspec": {
   "display_name": "Python 3 (ipykernel)",
   "language": "python",
   "name": "python3"
  },
  "language_info": {
   "codemirror_mode": {
    "name": "ipython",
    "version": 3
   },
   "file_extension": ".py",
   "mimetype": "text/x-python",
   "name": "python",
   "nbconvert_exporter": "python",
   "pygments_lexer": "ipython3",
   "version": "3.12.3"
  }
 },
 "nbformat": 4,
 "nbformat_minor": 5
}
