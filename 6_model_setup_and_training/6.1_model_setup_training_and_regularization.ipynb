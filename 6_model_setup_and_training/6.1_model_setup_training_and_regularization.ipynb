{
 "cells": [
  {
   "cell_type": "code",
   "execution_count": null,
   "id": "d1764910-5a02-48e8-89d0-5a137d3f5c92",
   "metadata": {},
   "outputs": [],
   "source": []
  },
  {
   "cell_type": "code",
   "execution_count": null,
   "id": "d8c71e1e-6b7c-44ed-ab67-4dc19774f1fa",
   "metadata": {},
   "outputs": [],
   "source": [
    "# Later\n",
    "import pandas as pd\n",
    "X_train = pd.read_csv('X_train.csv')\n",
    "# (an"
   ]
  }
 ],
 "metadata": {
  "kernelspec": {
   "display_name": "Python 3 (ipykernel)",
   "language": "python",
   "name": "python3"
  },
  "language_info": {
   "codemirror_mode": {
    "name": "ipython",
    "version": 3
   },
   "file_extension": ".py",
   "mimetype": "text/x-python",
   "name": "python",
   "nbconvert_exporter": "python",
   "pygments_lexer": "ipython3",
   "version": "3.12.3"
  }
 },
 "nbformat": 4,
 "nbformat_minor": 5
}
