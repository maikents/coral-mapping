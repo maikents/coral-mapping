{
 "cells": [
  {
   "cell_type": "code",
   "execution_count": 2,
   "metadata": {},
   "outputs": [
    {
     "name": "stdout",
     "output_type": "stream",
     "text": [
      "<xarray.Dataset> Size: 157GB\n",
      "Dimensions:          (time: 365, dummySampleDim: 6, zc: 50, xc: 950, yc: 555)\n",
      "Coordinates:\n",
      "    time             (time, dummySampleDim) int32 9kB ...\n",
      "  * xc               (xc) float32 4kB 800.0 1.6e+03 ... 7.592e+05 7.6e+05\n",
      "  * yc               (yc) float32 2kB 800.0 1.6e+03 ... 4.432e+05 4.44e+05\n",
      "  * zc               (zc) float32 200B 3.0 6.0 10.0 ... 2.5e+03 2.75e+03 3e+03\n",
      "Dimensions without coordinates: dummySampleDim\n",
      "Data variables:\n",
      "    grid_mapping     int32 4B ...\n",
      "    LayerDepths      (zc) float32 200B ...\n",
      "    depth            (yc, xc) float32 2MB ...\n",
      "    DXxDYy           (yc, xc) float32 2MB ...\n",
      "    u_velocity       (time, zc, yc, xc) float32 38GB ...\n",
      "    v_velocity       (time, zc, yc, xc) float32 38GB ...\n",
      "    elevation        (time, yc, xc) float32 770MB ...\n",
      "    temperature      (time, zc, yc, xc) float32 38GB ...\n",
      "    salinity         (time, zc, yc, xc) float32 38GB ...\n",
      "    ice_thickness    (time, yc, xc) float32 770MB ...\n",
      "    ice_compactness  (time, yc, xc) float32 770MB ...\n",
      "    salinity_ice     (time, yc, xc) float32 770MB ...\n",
      "Attributes: (12/31)\n",
      "    Conventions:                            CF-1.5\n",
      "    title:                                  Current data from SINMOD\n",
      "    institution:                            SINTEF Ocean\n",
      "    grid_mapping:                           grid_mapping\n",
      "    grid_mapping_name:                      polar_stereographic\n",
      "    straight_vertical_longitude_from_pole:  58.0\n",
      "    ...                                     ...\n",
      "    CH:                                     0.3\n",
      "    CI:                                     5.0\n",
      "    icedyn:                                 F\n",
      "    tidal_components:                       [0 0 0 0 0 0 0 0 0 0 0]\n",
      "    history:                                Thu Nov  7 07:52:09 2024: ncrcat ...\n",
      "    NCO:                                    netCDF Operators version 5.1.3 (H...\n"
     ]
    }
   ],
   "source": [
    "import xarray as xr\n",
    "\n",
    "# Load the SINMOD NetCDF file\n",
    "sinmod_file = '/cluster/projects/itk-SINMOD/coral-mapping/midnor/PhysStates_2019.nc'\n",
    "ds = xr.open_dataset(sinmod_file)\n",
    "\n",
    "# Print a summary of the dataset\n",
    "print(ds)"
   ]
  },
  {
   "cell_type": "code",
   "execution_count": 6,
   "metadata": {},
   "outputs": [
    {
     "name": "stdout",
     "output_type": "stream",
     "text": [
      "Target CRS: EPSG:32632, Bounds: BoundingBox(left=109798.28607731192, bottom=6812340.081526826, right=830804.4917635358, top=7965849.508304196), Resolution: (111.06072176312752, 87.50640470166668)\n"
     ]
    }
   ],
   "source": [
    "import rasterio\n",
    "\n",
    "# Open a TIFF file to extract resolution and bounds\n",
    "\n",
    "tif_file = 'raw_data/EMOD-tifs/C5_2022_mean_UTM_32_resam.tif'\n",
    "\n",
    "with rasterio.open(tif_file) as tif:\n",
    "    target_crs = tif.crs  # EPSG:32632\n",
    "    target_bounds = tif.bounds\n",
    "    target_transform = tif.transform\n",
    "    target_resolution = tif.res\n",
    "    print(f\"Target CRS: {target_crs}, Bounds: {target_bounds}, Resolution: {target_resolution}\")\n"
   ]
  },
  {
   "cell_type": "code",
   "execution_count": 9,
   "metadata": {},
   "outputs": [
    {
     "name": "stdout",
     "output_type": "stream",
     "text": [
      "\n",
      "Horizontal resolution: 800.0 meters\n",
      "\n",
      "Determined SINMOD CRS: +proj=stere +lat_0=90.0 +lat_ts=60.0 +lon_0=58.0 +x_0=2544800.0 +y_0=1918800.0 +a=6370000.0 +b=6370000.0 +units=m +no_defs +type=crs\n"
     ]
    }
   ],
   "source": [
    "from pyproj import CRS\n",
    "\n",
    "def obtain_sinmod_crs(PhysStates_data):\n",
    "    # Access grid mapping attributes from the dataset\n",
    "    grid_mapping = PhysStates_data['grid_mapping']  # Replace 'grid_mapping' with the correct variable name if different\n",
    "    grid_attrs = grid_mapping.attrs  # Get the attributes of the grid mapping\n",
    "\n",
    "    # Print horizontal resolution if available\n",
    "    horizontal_resolution = grid_attrs.get('horizontal_resolution', 'unknown')\n",
    "    print(f\"\\nHorizontal resolution: {horizontal_resolution} meters\")\n",
    "\n",
    "    # Construct the CRS using the attributes\n",
    "    crs_sinmod = CRS.from_proj4(\n",
    "        f\"+proj=stere \"\n",
    "        f\"+lat_0={grid_attrs['latitude_of_projection_origin']} \"\n",
    "        f\"+lat_ts={grid_attrs['standard_parallel']} \"\n",
    "        f\"+lon_0={grid_attrs['straight_vertical_longitude_from_pole']} \"\n",
    "        f\"+x_0={grid_attrs['false_easting']} \"\n",
    "        f\"+y_0={grid_attrs['false_northing']} \"\n",
    "        f\"+a={grid_attrs['semi_major_axis']} \"\n",
    "        f\"+b={grid_attrs['semi_minor_axis']} \"\n",
    "        f\"+units=m +no_defs\"\n",
    "    )\n",
    "\n",
    "    print(f\"\\nDetermined SINMOD CRS: {crs_sinmod}\")\n",
    "    return crs_sinmod\n",
    "\n",
    "midnor_crs = obtain_sinmod_crs(ds)\n",
    "\n",
    "# Attach the CRS to the SINMOD dataset\n",
    "ds = ds.rio.write_crs(midnor_crs)"
   ]
  },
  {
   "cell_type": "code",
   "execution_count": 12,
   "metadata": {},
   "outputs": [
    {
     "ename": "TooManyDimensions",
     "evalue": "Only 2D and 3D data arrays supported. Data variable: u_velocity",
     "output_type": "error",
     "traceback": [
      "\u001b[0;31m---------------------------------------------------------------------------\u001b[0m",
      "\u001b[0;31mTooManyDimensions\u001b[0m                         Traceback (most recent call last)",
      "Cell \u001b[0;32mIn[12], line 5\u001b[0m\n\u001b[1;32m      2\u001b[0m \u001b[38;5;28;01mfrom\u001b[39;00m \u001b[38;5;21;01mrasterio\u001b[39;00m\u001b[38;5;21;01m.\u001b[39;00m\u001b[38;5;21;01menums\u001b[39;00m \u001b[38;5;28;01mimport\u001b[39;00m Resampling\n\u001b[1;32m      4\u001b[0m \u001b[38;5;66;03m# Reproject to match the TIFF CRS\u001b[39;00m\n\u001b[0;32m----> 5\u001b[0m ds_reprojected \u001b[38;5;241m=\u001b[39m \u001b[43mds\u001b[49m\u001b[38;5;241;43m.\u001b[39;49m\u001b[43mrio\u001b[49m\u001b[38;5;241;43m.\u001b[39;49m\u001b[43mreproject\u001b[49m\u001b[43m(\u001b[49m\n\u001b[1;32m      6\u001b[0m \u001b[43m    \u001b[49m\u001b[43mdst_crs\u001b[49m\u001b[38;5;241;43m=\u001b[39;49m\u001b[43mtarget_crs\u001b[49m\u001b[38;5;241;43m.\u001b[39;49m\u001b[43mto_string\u001b[49m\u001b[43m(\u001b[49m\u001b[43m)\u001b[49m\u001b[43m,\u001b[49m\n\u001b[1;32m      7\u001b[0m \u001b[43m    \u001b[49m\u001b[43mresolution\u001b[49m\u001b[38;5;241;43m=\u001b[39;49m\u001b[43mtarget_resolution\u001b[49m\u001b[43m,\u001b[49m\u001b[43m  \u001b[49m\u001b[38;5;66;43;03m# Match TIFF resolution\u001b[39;49;00m\n\u001b[1;32m      8\u001b[0m \u001b[43m    \u001b[49m\u001b[43mresampling\u001b[49m\u001b[38;5;241;43m=\u001b[39;49m\u001b[43mResampling\u001b[49m\u001b[38;5;241;43m.\u001b[39;49m\u001b[43mbilinear\u001b[49m\u001b[43m  \u001b[49m\u001b[38;5;66;43;03m# Use 'nearest' for categorical variables\u001b[39;49;00m\n\u001b[1;32m      9\u001b[0m \u001b[43m)\u001b[49m\n\u001b[1;32m     11\u001b[0m \u001b[38;5;66;03m# Inspect reprojected data\u001b[39;00m\n\u001b[1;32m     12\u001b[0m \u001b[38;5;28mprint\u001b[39m(ds_reprojected)\n",
      "File \u001b[0;32m~/.conda/envs/SINMOD/lib/python3.12/site-packages/rioxarray/raster_dataset.py:121\u001b[0m, in \u001b[0;36mRasterDataset.reproject\u001b[0;34m(self, dst_crs, resolution, shape, transform, resampling, nodata, **kwargs)\u001b[0m\n\u001b[1;32m    118\u001b[0m \u001b[38;5;28;01mtry\u001b[39;00m:\n\u001b[1;32m    119\u001b[0m     x_dim, y_dim \u001b[38;5;241m=\u001b[39m _get_spatial_dims(\u001b[38;5;28mself\u001b[39m\u001b[38;5;241m.\u001b[39m_obj, var)\n\u001b[1;32m    120\u001b[0m     resampled_dataset[var] \u001b[38;5;241m=\u001b[39m (\n\u001b[0;32m--> 121\u001b[0m         \u001b[38;5;28;43mself\u001b[39;49m\u001b[38;5;241;43m.\u001b[39;49m\u001b[43m_obj\u001b[49m\u001b[43m[\u001b[49m\u001b[43mvar\u001b[49m\u001b[43m]\u001b[49m\n\u001b[1;32m    122\u001b[0m \u001b[43m        \u001b[49m\u001b[38;5;241;43m.\u001b[39;49m\u001b[43mrio\u001b[49m\u001b[38;5;241;43m.\u001b[39;49m\u001b[43mset_spatial_dims\u001b[49m\u001b[43m(\u001b[49m\u001b[43mx_dim\u001b[49m\u001b[38;5;241;43m=\u001b[39;49m\u001b[43mx_dim\u001b[49m\u001b[43m,\u001b[49m\u001b[43m \u001b[49m\u001b[43my_dim\u001b[49m\u001b[38;5;241;43m=\u001b[39;49m\u001b[43my_dim\u001b[49m\u001b[43m,\u001b[49m\u001b[43m \u001b[49m\u001b[43minplace\u001b[49m\u001b[38;5;241;43m=\u001b[39;49m\u001b[38;5;28;43;01mTrue\u001b[39;49;00m\u001b[43m)\u001b[49m\n\u001b[1;32m    123\u001b[0m \u001b[43m        \u001b[49m\u001b[38;5;241;43m.\u001b[39;49m\u001b[43mrio\u001b[49m\u001b[38;5;241;43m.\u001b[39;49m\u001b[43mreproject\u001b[49m\u001b[43m(\u001b[49m\n\u001b[1;32m    124\u001b[0m \u001b[43m            \u001b[49m\u001b[43mdst_crs\u001b[49m\u001b[43m,\u001b[49m\n\u001b[1;32m    125\u001b[0m \u001b[43m            \u001b[49m\u001b[43mresolution\u001b[49m\u001b[38;5;241;43m=\u001b[39;49m\u001b[43mresolution\u001b[49m\u001b[43m,\u001b[49m\n\u001b[1;32m    126\u001b[0m \u001b[43m            \u001b[49m\u001b[43mshape\u001b[49m\u001b[38;5;241;43m=\u001b[39;49m\u001b[43mshape\u001b[49m\u001b[43m,\u001b[49m\n\u001b[1;32m    127\u001b[0m \u001b[43m            \u001b[49m\u001b[43mtransform\u001b[49m\u001b[38;5;241;43m=\u001b[39;49m\u001b[43mtransform\u001b[49m\u001b[43m,\u001b[49m\n\u001b[1;32m    128\u001b[0m \u001b[43m            \u001b[49m\u001b[43mresampling\u001b[49m\u001b[38;5;241;43m=\u001b[39;49m\u001b[43mresampling\u001b[49m\u001b[43m,\u001b[49m\n\u001b[1;32m    129\u001b[0m \u001b[43m            \u001b[49m\u001b[43mnodata\u001b[49m\u001b[38;5;241;43m=\u001b[39;49m\u001b[43mnodata\u001b[49m\u001b[43m,\u001b[49m\n\u001b[1;32m    130\u001b[0m \u001b[43m            \u001b[49m\u001b[38;5;241;43m*\u001b[39;49m\u001b[38;5;241;43m*\u001b[39;49m\u001b[43mkwargs\u001b[49m\u001b[43m,\u001b[49m\n\u001b[1;32m    131\u001b[0m \u001b[43m        \u001b[49m\u001b[43m)\u001b[49m\n\u001b[1;32m    132\u001b[0m     )\n\u001b[1;32m    133\u001b[0m \u001b[38;5;28;01mexcept\u001b[39;00m MissingSpatialDimensionError:\n\u001b[1;32m    134\u001b[0m     \u001b[38;5;28;01mif\u001b[39;00m \u001b[38;5;28mlen\u001b[39m(\u001b[38;5;28mself\u001b[39m\u001b[38;5;241m.\u001b[39m_obj[var]\u001b[38;5;241m.\u001b[39mdims) \u001b[38;5;241m>\u001b[39m\u001b[38;5;241m=\u001b[39m \u001b[38;5;241m2\u001b[39m \u001b[38;5;129;01mand\u001b[39;00m \u001b[38;5;129;01mnot\u001b[39;00m get_option(\n\u001b[1;32m    135\u001b[0m         SKIP_MISSING_SPATIAL_DIMS\n\u001b[1;32m    136\u001b[0m     ):\n",
      "File \u001b[0;32m~/.conda/envs/SINMOD/lib/python3.12/site-packages/rioxarray/raster_array.py:454\u001b[0m, in \u001b[0;36mRasterArray.reproject\u001b[0;34m(self, dst_crs, resolution, shape, transform, resampling, nodata, **kwargs)\u001b[0m\n\u001b[1;32m    451\u001b[0m     \u001b[38;5;28;01melse\u001b[39;00m:\n\u001b[1;32m    452\u001b[0m         dst_height, dst_width \u001b[38;5;241m=\u001b[39m \u001b[38;5;28mself\u001b[39m\u001b[38;5;241m.\u001b[39mshape\n\u001b[0;32m--> 454\u001b[0m dst_data \u001b[38;5;241m=\u001b[39m \u001b[38;5;28;43mself\u001b[39;49m\u001b[38;5;241;43m.\u001b[39;49m\u001b[43m_create_dst_data\u001b[49m\u001b[43m(\u001b[49m\u001b[43mdst_height\u001b[49m\u001b[43m,\u001b[49m\u001b[43m \u001b[49m\u001b[43mdst_width\u001b[49m\u001b[43m)\u001b[49m\n\u001b[1;32m    456\u001b[0m dst_nodata \u001b[38;5;241m=\u001b[39m \u001b[38;5;28mself\u001b[39m\u001b[38;5;241m.\u001b[39m_get_dst_nodata(nodata)\n\u001b[1;32m    458\u001b[0m rasterio\u001b[38;5;241m.\u001b[39mwarp\u001b[38;5;241m.\u001b[39mreproject(\n\u001b[1;32m    459\u001b[0m     source\u001b[38;5;241m=\u001b[39m\u001b[38;5;28mself\u001b[39m\u001b[38;5;241m.\u001b[39m_obj\u001b[38;5;241m.\u001b[39mvalues,\n\u001b[1;32m    460\u001b[0m     destination\u001b[38;5;241m=\u001b[39mdst_data,\n\u001b[0;32m   (...)\u001b[0m\n\u001b[1;32m    468\u001b[0m     \u001b[38;5;241m*\u001b[39m\u001b[38;5;241m*\u001b[39mkwargs,\n\u001b[1;32m    469\u001b[0m )\n",
      "File \u001b[0;32m~/.conda/envs/SINMOD/lib/python3.12/site-packages/rioxarray/raster_array.py:510\u001b[0m, in \u001b[0;36mRasterArray._create_dst_data\u001b[0;34m(self, dst_height, dst_width)\u001b[0m\n\u001b[1;32m    509\u001b[0m \u001b[38;5;28;01mdef\u001b[39;00m \u001b[38;5;21m_create_dst_data\u001b[39m(\u001b[38;5;28mself\u001b[39m, dst_height: \u001b[38;5;28mint\u001b[39m, dst_width: \u001b[38;5;28mint\u001b[39m) \u001b[38;5;241m-\u001b[39m\u001b[38;5;241m>\u001b[39m numpy\u001b[38;5;241m.\u001b[39mndarray:\n\u001b[0;32m--> 510\u001b[0m     extra_dim \u001b[38;5;241m=\u001b[39m \u001b[38;5;28;43mself\u001b[39;49m\u001b[38;5;241;43m.\u001b[39;49m\u001b[43m_check_dimensions\u001b[49m\u001b[43m(\u001b[49m\u001b[43m)\u001b[49m\n\u001b[1;32m    511\u001b[0m     \u001b[38;5;28;01mif\u001b[39;00m extra_dim:\n\u001b[1;32m    512\u001b[0m         dst_data \u001b[38;5;241m=\u001b[39m numpy\u001b[38;5;241m.\u001b[39mzeros(\n\u001b[1;32m    513\u001b[0m             (\u001b[38;5;28mself\u001b[39m\u001b[38;5;241m.\u001b[39m_obj[extra_dim]\u001b[38;5;241m.\u001b[39msize, dst_height, dst_width),\n\u001b[1;32m    514\u001b[0m             dtype\u001b[38;5;241m=\u001b[39m\u001b[38;5;28mself\u001b[39m\u001b[38;5;241m.\u001b[39m_obj\u001b[38;5;241m.\u001b[39mdtype\u001b[38;5;241m.\u001b[39mtype,\n\u001b[1;32m    515\u001b[0m         )\n",
      "File \u001b[0;32m~/.conda/envs/SINMOD/lib/python3.12/site-packages/rioxarray/rioxarray.py:961\u001b[0m, in \u001b[0;36mXRasterBase._check_dimensions\u001b[0;34m(self)\u001b[0m\n\u001b[1;32m    959\u001b[0m extra_dims \u001b[38;5;241m=\u001b[39m \u001b[38;5;28mtuple\u001b[39m(\u001b[38;5;28mset\u001b[39m(\u001b[38;5;28mlist\u001b[39m(\u001b[38;5;28mself\u001b[39m\u001b[38;5;241m.\u001b[39m_obj\u001b[38;5;241m.\u001b[39mdims)) \u001b[38;5;241m-\u001b[39m {\u001b[38;5;28mself\u001b[39m\u001b[38;5;241m.\u001b[39mx_dim, \u001b[38;5;28mself\u001b[39m\u001b[38;5;241m.\u001b[39my_dim})\n\u001b[1;32m    960\u001b[0m \u001b[38;5;28;01mif\u001b[39;00m \u001b[38;5;28mlen\u001b[39m(extra_dims) \u001b[38;5;241m>\u001b[39m \u001b[38;5;241m1\u001b[39m:\n\u001b[0;32m--> 961\u001b[0m     \u001b[38;5;28;01mraise\u001b[39;00m TooManyDimensions(\n\u001b[1;32m    962\u001b[0m         \u001b[38;5;124m\"\u001b[39m\u001b[38;5;124mOnly 2D and 3D data arrays supported.\u001b[39m\u001b[38;5;124m\"\u001b[39m\n\u001b[1;32m    963\u001b[0m         \u001b[38;5;124mf\u001b[39m\u001b[38;5;124m\"\u001b[39m\u001b[38;5;132;01m{\u001b[39;00m_get_data_var_message(\u001b[38;5;28mself\u001b[39m\u001b[38;5;241m.\u001b[39m_obj)\u001b[38;5;132;01m}\u001b[39;00m\u001b[38;5;124m\"\u001b[39m\n\u001b[1;32m    964\u001b[0m     )\n\u001b[1;32m    965\u001b[0m \u001b[38;5;28;01mif\u001b[39;00m extra_dims \u001b[38;5;129;01mand\u001b[39;00m \u001b[38;5;28mself\u001b[39m\u001b[38;5;241m.\u001b[39m_obj\u001b[38;5;241m.\u001b[39mdims \u001b[38;5;241m!=\u001b[39m (extra_dims[\u001b[38;5;241m0\u001b[39m], \u001b[38;5;28mself\u001b[39m\u001b[38;5;241m.\u001b[39my_dim, \u001b[38;5;28mself\u001b[39m\u001b[38;5;241m.\u001b[39mx_dim):\n\u001b[1;32m    966\u001b[0m     dim_info: \u001b[38;5;28mtuple\u001b[39m \u001b[38;5;241m=\u001b[39m (extra_dims[\u001b[38;5;241m0\u001b[39m], \u001b[38;5;28mself\u001b[39m\u001b[38;5;241m.\u001b[39my_dim, \u001b[38;5;28mself\u001b[39m\u001b[38;5;241m.\u001b[39mx_dim)\n",
      "\u001b[0;31mTooManyDimensions\u001b[0m: Only 2D and 3D data arrays supported. Data variable: u_velocity"
     ]
    }
   ],
   "source": [
    "import rioxarray\n",
    "from rasterio.enums import Resampling\n",
    "\n",
    "# Reproject to match the TIFF CRS\n",
    "ds_reprojected = ds.rio.reproject(\n",
    "    dst_crs=target_crs.to_string(),\n",
    "    resolution=target_resolution,  # Match TIFF resolution\n",
    "    resampling=Resampling.bilinear  # Use 'nearest' for categorical variables\n",
    ")\n",
    "\n",
    "# Inspect reprojected data\n",
    "print(ds_reprojected)"
   ]
  },
  {
   "cell_type": "code",
   "execution_count": null,
   "metadata": {},
   "outputs": [],
   "source": []
  },
  {
   "cell_type": "code",
   "execution_count": null,
   "metadata": {},
   "outputs": [],
   "source": []
  },
  {
   "cell_type": "code",
   "execution_count": null,
   "metadata": {},
   "outputs": [],
   "source": []
  },
  {
   "cell_type": "code",
   "execution_count": 21,
   "metadata": {},
   "outputs": [
    {
     "name": "stdout",
     "output_type": "stream",
     "text": [
      "{'driver': 'GTiff', 'dtype': 'float32', 'nodata': -3.4028230607370965e+38, 'width': 6491, 'height': 13181, 'count': 1, 'crs': CRS.from_epsg(32632), 'transform': Affine(80.0, 0.0, 210863.54288175795,\n",
      "       0.0, -80.0, 7914483.248744318), 'blockxsize': 128, 'blockysize': 128, 'tiled': True, 'compress': 'lzw', 'interleave': 'band'}\n",
      "Dimensions: (13181, 6491)\n",
      "Number of grids: 85557871\n"
     ]
    }
   ],
   "source": [
    "import rasterio\n",
    "\n",
    "with rasterio.open('raw_data/EMOD-tifs/C5_slope.tif') as dataset:\n",
    "    print(dataset.profile)\n",
    "    data = dataset.read(1)\n",
    "\n",
    "    dimensions = data.shape\n",
    "    num_grids = data.size\n",
    "    print(f\"Dimensions: {dimensions}\")\n",
    "    print(f\"Number of grids: {num_grids}\")\n",
    "\n",
    "slope = rasterio.open('raw_data/EMOD-tifs/C5_slope.tif')"
   ]
  },
  {
   "cell_type": "code",
   "execution_count": 49,
   "metadata": {},
   "outputs": [
    {
     "name": "stdout",
     "output_type": "stream",
     "text": [
      "\n",
      "Native Corner Points:\n",
      "\n",
      "bottom_left: x = 800.0, y = 800.0\n",
      "bottom_right: x = 800.0, y = 444000.0\n",
      "top_left: x = 760000.0, y = 800.0\n",
      "top_right: x = 760000.0, y = 444000.0\n"
     ]
    }
   ],
   "source": [
    "from netCDF4 import Dataset\n",
    "\n",
    "# Cut down each tif to the same grid boundaries as MidNor data\n",
    "# 1. Get the grid boundaries of MidNor data\n",
    "filename_PhysStates = '/cluster/projects/itk-SINMOD/coral-mapping/midnor/samp_2D_jan_jun.nc'\n",
    "\n",
    "midnor_PhysStates_data = Dataset(filename_PhysStates, 'r')\n",
    "\n",
    "# # Looking at our list of available variables\n",
    "# variables_list = list(midnor_PhysStates_data.variables.keys())\n",
    "# for variable in variables_list:\n",
    "#     units = midnor_PhysStates_data.variables[variable].units if 'units' in midnor_PhysStates_data.variables[variable].ncattrs() else 'No units'\n",
    "#     print(f\"{variable:<20} {units}\")\n",
    "\n",
    "# Get the corner points from gridLats and gridLons\n",
    "gridLats = midnor_PhysStates_data.variables['gridLats'][:]\n",
    "gridLons = midnor_PhysStates_data.variables['gridLons'][:]\n",
    "\n",
    "corner_points = {\n",
    "    'bottom_left': (gridLats[0, 0], gridLons[0, 0]),\n",
    "    'bottom_right': (gridLats[0, -1], gridLons[0, -1]),\n",
    "    'top_left': (gridLats[-1, 0], gridLons[-1, 0]),\n",
    "    'top_right': (gridLats[-1, -1], gridLons[-1, -1])\n",
    "}\n",
    "\n",
    "# print(\"Corner Points:\")\n",
    "# for corner, (lat, lon) in corner_points.items():\n",
    "#     print(f\"{corner}: Latitude = {lat}, Longitude = {lon}\")\n",
    "\n",
    "# Get the corner coordinates in native coordinates using xc and yc\n",
    "xc = midnor_PhysStates_data.variables['xc'][:]\n",
    "yc = midnor_PhysStates_data.variables['yc'][:]\n",
    "\n",
    "native_corner_points = {\n",
    "    'bottom_left': (xc[0], yc[0]),\n",
    "    'bottom_right': (xc[0], yc[-1]),\n",
    "    'top_left': (xc[-1], yc[0]),\n",
    "    'top_right': (xc[-1], yc[-1])\n",
    "}\n",
    "\n",
    "print(\"\\nNative Corner Points:\\n\")\n",
    "for corner, (x, y) in native_corner_points.items():\n",
    "    print(f\"{corner}: x = {x}, y = {y}\")"
   ]
  },
  {
   "cell_type": "code",
   "execution_count": 54,
   "metadata": {},
   "outputs": [],
   "source": [
    "from pyproj import CRS, Transformer\n",
    "import numpy as np\n",
    "from rasterio import warp\n",
    "\n",
    "def obtain_sinmod_crs(PhysStates_data):\n",
    "    # Print grid mapping to see details, particularly the horizontal resolution\n",
    "    grid_mapping = PhysStates_data.variables['grid_mapping']\n",
    "    print(grid_mapping)\n",
    "\n",
    "    horizontal_resolution = grid_mapping.getncattr('horizontal_resolution')\n",
    "    print(f\"\\nHorizontal resolution: {horizontal_resolution} meters\")\n",
    "\n",
    "    crs_sinmod = CRS.from_proj4(f\"+proj=stere \"\n",
    "                                f\"+lat_0={grid_mapping.latitude_of_projection_origin} \"\n",
    "                                f\"+lat_ts={grid_mapping.standard_parallel} \"\n",
    "                                f\"+lon_0={grid_mapping.straight_vertical_longitude_from_pole} \"\n",
    "                                f\"+x_0={grid_mapping.false_easting} \"\n",
    "                                f\"+y_0={grid_mapping.false_northing} \"\n",
    "                                f\"+a={grid_mapping.semi_major_axis} \"\n",
    "                                f\"+b={grid_mapping.semi_minor_axis} \"\n",
    "                                f\"+units=m +no_defs\")\n",
    "    \n",
    "    print(f\"\\n Determined SINMOD CRS: {crs_sinmod}\")\n",
    "    return crs_sinmod\n",
    "\n",
    "def transform_coral_coordinates(coral_data, crs_sinmod):\n",
    "    # Define the Coordinate Reference Systems (CRS) for the coral data\n",
    "    crs_wgs84 = CRS.from_epsg(4326)  # WGS84 (lat/lon coordinates)\n",
    "\n",
    "    # Create a transformer to transform from wgs84 (geographic) to SINMOD\n",
    "    transformer_wgs84_to_sinmod = Transformer.from_crs(crs_wgs84, crs_sinmod, always_xy=True)\n",
    "\n",
    "    # Transform coral coordinates from WGS84 to SINMOD\n",
    "    coral_x, coral_y = transformer_wgs84_to_sinmod.transform(coral_data['lengdegrad'], coral_data['breddegrad'])\n",
    "\n",
    "    # Save coral_x and coral_y as new columns called x and y\n",
    "    coral_data.loc[:, 'x'] = coral_x\n",
    "    coral_data.loc[:, 'y'] = coral_y\n",
    "\n",
    "    return coral_data\n",
    "\n",
    "def transform_tif_coordinates(tif_data, crs_sinmod, transform):\n",
    "    # Define the Coordinate Reference Systems (CRS) for the tif data\n",
    "    crs_tif = CRS.from_epsg(32632)  # UTM Zone 32N\n",
    "\n",
    "    # Create a transformer to transform from UTM Zone 32N to SINMOD\n",
    "    transformer_tif_to_sinmod = Transformer.from_crs(crs_tif, crs_sinmod, always_xy=True)\n",
    "\n",
    "    # Get the coordinates of the tif data\n",
    "    rows, cols = tif_data.shape\n",
    "    x_coords, y_coords = rasterio.transform.xy(transform, np.arange(rows), np.arange(cols), offset='center')\n",
    "\n",
    "    # Transform tif coordinates from UTM Zone 32N to SINMOD\n",
    "    tif_x, tif_y = transformer_tif_to_sinmod.transform(x_coords, y_coords)\n",
    "\n",
    "    return tif_x, tif_y\n",
    "\n",
    "def transform_raster_to_crs(input_tif, output_tif, target_crs):\n",
    "    \"\"\"\n",
    "    Transforms a GeoTIFF file's coordinates to a specified CRS.\n",
    "    \n",
    "    Parameters:\n",
    "        input_tif (str): Path to the input GeoTIFF file.\n",
    "        output_tif (str): Path to save the transformed GeoTIFF file.\n",
    "        target_crs (str): Target CRS in WKT or EPSG format (e.g., 'EPSG:3413').\n",
    "    \"\"\"\n",
    "    with rasterio.open(input_tif) as src:\n",
    "        # Define the transformer\n",
    "        transformer = Transformer.from_crs(src.crs, target_crs, always_xy=True)\n",
    "\n",
    "        # Transform the bounding box coordinates\n",
    "        bounds = src.bounds\n",
    "        corners = [\n",
    "            (bounds.left, bounds.bottom),  # Bottom-left\n",
    "            (bounds.right, bounds.top)    # Top-right\n",
    "        ]\n",
    "        transformed_corners = [transformer.transform(x, y) for x, y in corners]\n",
    "        print(f\"Transformed corners: {transformed_corners}\")\n",
    "\n",
    "        # Get the new bounds\n",
    "        new_left, new_bottom = transformed_corners[0]\n",
    "        new_right, new_top = transformed_corners[1]\n",
    "\n",
    "        # Update the transform and metadata for the new CRS\n",
    "        new_transform, new_width, new_height = rasterio.warp.calculate_default_transform(\n",
    "            src.crs, target_crs, src.width, src.height, left=new_left, bottom=new_bottom, right=new_right, top=new_top\n",
    "        )\n",
    "\n",
    "        # Update metadata\n",
    "        new_meta = src.meta.copy()\n",
    "        new_meta.update({\n",
    "            \"crs\": target_crs,\n",
    "            \"transform\": new_transform,\n",
    "            \"width\": new_width,\n",
    "            \"height\": new_height\n",
    "        })\n",
    "\n",
    "        # Write the transformed raster to the output file\n",
    "        with rasterio.open(output_tif, \"w\", **new_meta) as dst:\n",
    "            rasterio.warp.reproject(\n",
    "                source=rasterio.band(src, 1),\n",
    "                destination=rasterio.band(dst, 1),\n",
    "                src_transform=src.transform,\n",
    "                src_crs=src.crs,\n",
    "                dst_transform=new_transform,\n",
    "                dst_crs=target_crs,\n",
    "                resampling=rasterio.warp.Resampling.nearest\n",
    "            )\n"
   ]
  },
  {
   "cell_type": "code",
   "execution_count": null,
   "metadata": {},
   "outputs": [
    {
     "name": "stdout",
     "output_type": "stream",
     "text": [
      "<class 'netCDF4._netCDF4.Variable'>\n",
      "int32 grid_mapping()\n",
      "    grid_mapping_name: polar_stereographic\n",
      "    straight_vertical_longitude_from_pole: 58.0\n",
      "    horizontal_resolution: 800.0\n",
      "    latitude_of_projection_origin: 90.0\n",
      "    longitude_of_projection_origin: 58.0\n",
      "    standard_parallel: 60.0\n",
      "    origoRef: [0. 0.]\n",
      "    semi_minor_axis: 6370000.0\n",
      "    semi_major_axis: 6370000.0\n",
      "    false_easting: 2544800.0\n",
      "    false_northing: 1918800.0\n",
      "    scale_factor_at_projection_origin: 1.0\n",
      "unlimited dimensions: \n",
      "current shape = ()\n",
      "filling on, default _FillValue of -2147483647 used\n",
      "\n",
      "Horizontal resolution: 800.0 meters\n",
      "\n",
      " Determined SINMOD CRS: +proj=stere +lat_0=90.0 +lat_ts=60.0 +lon_0=58.0 +x_0=2544800.0 +y_0=1918800.0 +a=6370000.0 +b=6370000.0 +units=m +no_defs +type=crs\n",
      "Transformed corners: [(111322.95730004925, 181891.28435119358), (1214916.3274095315, 471715.03834121255)]\n"
     ]
    }
   ],
   "source": [
    "midnor_crs = obtain_sinmod_crs(midnor_PhysStates_data)\n",
    "\n",
    "transform_raster_to_crs('raw_data/EMOD-tifs/C5_slope.tif', 'processed_data/tifs/C5_slope_transformed.tif', midnor_crs)"
   ]
  },
  {
   "cell_type": "code",
   "execution_count": null,
   "metadata": {},
   "outputs": [],
   "source": []
  },
  {
   "cell_type": "code",
   "execution_count": 57,
   "metadata": {},
   "outputs": [
    {
     "data": {
      "text/plain": [
       "12341"
      ]
     },
     "execution_count": 57,
     "metadata": {},
     "output_type": "execute_result"
    }
   ],
   "source": [
    "slope_transformed = rasterio.open('raw_data/EMOD-tifs/C5_slope_transformed.tif')\n",
    "\n",
    "slope_transformed.width"
   ]
  },
  {
   "cell_type": "code",
   "execution_count": null,
   "metadata": {},
   "outputs": [],
   "source": []
  }
 ],
 "metadata": {
  "kernelspec": {
   "display_name": "SINMOD",
   "language": "python",
   "name": "python3"
  },
  "language_info": {
   "codemirror_mode": {
    "name": "ipython",
    "version": 3
   },
   "file_extension": ".py",
   "mimetype": "text/x-python",
   "name": "python",
   "nbconvert_exporter": "python",
   "pygments_lexer": "ipython3",
   "version": "3.12.5"
  }
 },
 "nbformat": 4,
 "nbformat_minor": 2
}
