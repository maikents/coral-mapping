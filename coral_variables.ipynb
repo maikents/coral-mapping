{
 "cells": [
  {
   "cell_type": "code",
   "execution_count": 2,
   "metadata": {},
   "outputs": [],
   "source": [
    "import geopandas as gpd\n",
    "import matplotlib.pyplot as plt\n",
    "import numpy as np\n",
    "import matplotlib.pyplot as plt \n",
    "import netCDF4 as nc\n",
    "from netCDF4 import Dataset\n",
    "import pyproj\n",
    "import pandas as pd"
   ]
  },
  {
   "cell_type": "code",
   "execution_count": 24,
   "metadata": {},
   "outputs": [
    {
     "name": "stdout",
     "output_type": "stream",
     "text": [
      "                                   gml_id  \\\n",
      "0  idcc1ddf21-7f6f-42ae-9de0-c1beae782900   \n",
      "1  ide9bd1ddb-8384-48c4-a649-ba9597853be3   \n",
      "2  id8cddeeb9-2353-4795-9161-4e01397a3a21   \n",
      "3  idaa31e030-a287-4319-8dfc-183c2a169279   \n",
      "4  id98f7a0c4-4c26-4288-a04d-0434cf8221c6   \n",
      "\n",
      "                                lokalId  \\\n",
      "0  d8ba3d54-6e03-42dd-b77a-32b929c5db0f   \n",
      "1  99f8ae65-8129-4d2f-a2e0-f6cdf8e08035   \n",
      "2  4745cb87-fe72-4616-ac28-addecc91dfae   \n",
      "3  ecaa4561-58ea-48ea-80d3-04f843dd7a46   \n",
      "4  0a7f0f6c-01f2-494d-802d-3505caddf8f6   \n",
      "\n",
      "                                            navnerom    verifiseringsdato  \\\n",
      "0  https://data.geonorge.no/sosi/biomangfold/kora...  2013-11-10T23:00:00   \n",
      "1  https://data.geonorge.no/sosi/biomangfold/kora...  2011-01-16T23:00:00   \n",
      "2  https://data.geonorge.no/sosi/biomangfold/kora...  2018-03-12T23:00:00   \n",
      "3  https://data.geonorge.no/sosi/biomangfold/kora...  2018-03-12T23:00:00   \n",
      "4  https://data.geonorge.no/sosi/biomangfold/kora...  2018-03-12T23:00:00   \n",
      "\n",
      "     produkt   versjon         målemetode  nøyaktighet       medium  \\\n",
      "0  Korallrev  20240817  Spesielle metoder           10  påSjøbunnen   \n",
      "1  Korallrev  20240817  Spesielle metoder           50  påSjøbunnen   \n",
      "2  Korallrev  20240817  Spesielle metoder           10  påSjøbunnen   \n",
      "3  Korallrev  20240817  Spesielle metoder           10  påSjøbunnen   \n",
      "4  Korallrev  20240817  Spesielle metoder           10  påSjøbunnen   \n",
      "\n",
      "                                opphav  ...  maksimumsdybde  naturtype  \\\n",
      "0  Institute of marine research (2013)  ...             311        I09   \n",
      "1             Mortensen & Fosså (2001)  ...               0        I09   \n",
      "2  Institute of marine research (2012)  ...               0        I09   \n",
      "3  Institute of marine research (2012)  ...               0        I09   \n",
      "4  Institute of marine research (2012)  ...               0        I09   \n",
      "\n",
      "       naturtypeNavn     kildeNavn observasjonsMetode       observasjonsSted  \\\n",
      "0  Korallforekomster  IMR, MAREANO          ROV/Video                 Vikna.   \n",
      "1  Korallforekomster           IMR          ROV/Video  Selliggrunnen/Tautra.   \n",
      "2  Korallforekomster  IMR, MAREANO          ROV/Video          Haltenbanken.   \n",
      "3  Korallforekomster  IMR, MAREANO          ROV/Video          Haltenbanken.   \n",
      "4  Korallforekomster  IMR, MAREANO          ROV/Video                Halten.   \n",
      "\n",
      "  observasjonsSlutt lengdegrad  breddegrad                        geometry  \n",
      "0        2013-10-06    9.87394    64.77133  POINT (541561.179 7183253.544)  \n",
      "1        2000-09-21   10.50748    63.60458  POINT (574770.033 7053836.022)  \n",
      "2        2012-05-15    7.95556    63.77772  POINT (448512.417 7072664.031)  \n",
      "3        2012-05-12    9.38355    64.29424  POINT (518565.097 7129854.343)  \n",
      "4        2012-05-14    8.50034    64.12643    POINT (475669.25 7111194.85)  \n",
      "\n",
      "[5 rows x 21 columns]\n"
     ]
    }
   ],
   "source": [
    "#importing coral reef data\n",
    "\n",
    "gml_file_coral_reefs = \"/Users/maikentomren/Documents/prosjektoppgave/plotting_first_tries/KystOgFiskeri_50_Trondelag_25832_Korallrev_GML.gml\"\n",
    "gdf_coral_reefs = gpd.read_file(gml_file_coral_reefs)\n",
    "coral_data = gdf_coral_reefs[gdf_coral_reefs['naturtypeNavn'] == 'Korallforekomster']\n",
    "coral_df = pd.DataFrame(coral_data)\n",
    "\n",
    "\n",
    "\n"
   ]
  },
  {
   "cell_type": "code",
   "execution_count": 81,
   "metadata": {},
   "outputs": [
    {
     "data": {
      "text/plain": [
       "'\"\\ncoral_variable_df = coral_df[[\\'geometry\\']]\\nprint(coral_variable_df.head())\\n\\nall_equal = (coral_variable_df == coral_variable_df.iloc[0, 0]).all().all()\\n\\nif all_equal:\\n    print(\"All equal\")\\nelse:\\n    print(\"not all equal\")\\n'"
      ]
     },
     "execution_count": 81,
     "metadata": {},
     "output_type": "execute_result"
    }
   ],
   "source": [
    "#Making df's for variables in the coral reef data set. Not making df's for variables that only have equal values, that is:\n",
    "#1: navnerom - all https://data.geonorge.no/sosi/biomangfold/kora...\n",
    "#2: produkt - all \"Korallrev\"\n",
    "#3: versjon - all 20240817\n",
    "#4: målemetode - all \"Spesielle metoder\"\n",
    "#5: medium - all \"påSjøbunnen\"\n",
    "#6: naturtype - all \"I09\"\n",
    "#7: naturtypeNavn - all \"Korallforekomster\"\n",
    "\n",
    "coral_location_df = coral_df[['lengdegrad', 'breddegrad']]\n",
    "\n",
    "coral_id_df = coral_df[['gml_id', 'lokalId']]\n",
    "\n",
    "coral_verification_date_df = coral_df[['verifiseringsdato']]\n",
    "\n",
    "coral_accuracy_df = coral_df[['nøyaktighet']]\n",
    "\n",
    "coral_origin_df = coral_df[['opphav']]\n",
    "\n",
    "coral_depth_df = coral_df[['minimumsdybde', 'maksimumsdybde']]\n",
    "\n",
    "coral_source_name_df = coral_df[['kildeNavn']]\n",
    "\n",
    "coral_observation_method_df = coral_df[['observasjonsMetode']]\n",
    "\n",
    "coral_observation_location_df = coral_df[['observasjonsSted']]\n",
    "\n",
    "coral_observation_ending_df = coral_df[['observasjonsSlutt']]\n",
    "\n",
    "coral_geometry_df = coral_df[['geometry']]\n",
    "\n",
    "\n",
    "\n",
    "\"\"\"\"\n",
    "coral_variable_df = coral_df[['geometry']]\n",
    "print(coral_variable_df.head())\n",
    "\n",
    "all_equal = (coral_variable_df == coral_variable_df.iloc[0, 0]).all().all()\n",
    "\n",
    "if all_equal:\n",
    "    print(\"All equal\")\n",
    "else:\n",
    "    print(\"not all equal\")\n",
    "\"\"\"\n"
   ]
  },
  {
   "cell_type": "code",
   "execution_count": 85,
   "metadata": {},
   "outputs": [
    {
     "data": {
      "text/html": [
       "<div>\n",
       "<style scoped>\n",
       "    .dataframe tbody tr th:only-of-type {\n",
       "        vertical-align: middle;\n",
       "    }\n",
       "\n",
       "    .dataframe tbody tr th {\n",
       "        vertical-align: top;\n",
       "    }\n",
       "\n",
       "    .dataframe thead th {\n",
       "        text-align: right;\n",
       "    }\n",
       "</style>\n",
       "<table border=\"1\" class=\"dataframe\">\n",
       "  <thead>\n",
       "    <tr style=\"text-align: right;\">\n",
       "      <th></th>\n",
       "      <th>lengdegrad</th>\n",
       "      <th>breddegrad</th>\n",
       "    </tr>\n",
       "  </thead>\n",
       "  <tbody>\n",
       "    <tr>\n",
       "      <th>count</th>\n",
       "      <td>104.000000</td>\n",
       "      <td>104.000000</td>\n",
       "    </tr>\n",
       "    <tr>\n",
       "      <th>mean</th>\n",
       "      <td>9.555119</td>\n",
       "      <td>63.893455</td>\n",
       "    </tr>\n",
       "    <tr>\n",
       "      <th>std</th>\n",
       "      <td>0.949038</td>\n",
       "      <td>0.399334</td>\n",
       "    </tr>\n",
       "    <tr>\n",
       "      <th>min</th>\n",
       "      <td>7.847970</td>\n",
       "      <td>63.413300</td>\n",
       "    </tr>\n",
       "    <tr>\n",
       "      <th>25%</th>\n",
       "      <td>9.111463</td>\n",
       "      <td>63.599578</td>\n",
       "    </tr>\n",
       "    <tr>\n",
       "      <th>50%</th>\n",
       "      <td>9.747610</td>\n",
       "      <td>63.762500</td>\n",
       "    </tr>\n",
       "    <tr>\n",
       "      <th>75%</th>\n",
       "      <td>10.473000</td>\n",
       "      <td>64.123475</td>\n",
       "    </tr>\n",
       "    <tr>\n",
       "      <th>max</th>\n",
       "      <td>11.320010</td>\n",
       "      <td>65.008160</td>\n",
       "    </tr>\n",
       "  </tbody>\n",
       "</table>\n",
       "</div>"
      ],
      "text/plain": [
       "       lengdegrad  breddegrad\n",
       "count  104.000000  104.000000\n",
       "mean     9.555119   63.893455\n",
       "std      0.949038    0.399334\n",
       "min      7.847970   63.413300\n",
       "25%      9.111463   63.599578\n",
       "50%      9.747610   63.762500\n",
       "75%     10.473000   64.123475\n",
       "max     11.320010   65.008160"
      ]
     },
     "execution_count": 85,
     "metadata": {},
     "output_type": "execute_result"
    }
   ],
   "source": [
    "coral_location_df.describe()"
   ]
  },
  {
   "cell_type": "code",
   "execution_count": 86,
   "metadata": {},
   "outputs": [
    {
     "data": {
      "text/html": [
       "<div>\n",
       "<style scoped>\n",
       "    .dataframe tbody tr th:only-of-type {\n",
       "        vertical-align: middle;\n",
       "    }\n",
       "\n",
       "    .dataframe tbody tr th {\n",
       "        vertical-align: top;\n",
       "    }\n",
       "\n",
       "    .dataframe thead th {\n",
       "        text-align: right;\n",
       "    }\n",
       "</style>\n",
       "<table border=\"1\" class=\"dataframe\">\n",
       "  <thead>\n",
       "    <tr style=\"text-align: right;\">\n",
       "      <th></th>\n",
       "      <th>nøyaktighet</th>\n",
       "    </tr>\n",
       "  </thead>\n",
       "  <tbody>\n",
       "    <tr>\n",
       "      <th>count</th>\n",
       "      <td>104.000000</td>\n",
       "    </tr>\n",
       "    <tr>\n",
       "      <th>mean</th>\n",
       "      <td>201.730769</td>\n",
       "    </tr>\n",
       "    <tr>\n",
       "      <th>std</th>\n",
       "      <td>228.364563</td>\n",
       "    </tr>\n",
       "    <tr>\n",
       "      <th>min</th>\n",
       "      <td>10.000000</td>\n",
       "    </tr>\n",
       "    <tr>\n",
       "      <th>25%</th>\n",
       "      <td>10.000000</td>\n",
       "    </tr>\n",
       "    <tr>\n",
       "      <th>50%</th>\n",
       "      <td>50.000000</td>\n",
       "    </tr>\n",
       "    <tr>\n",
       "      <th>75%</th>\n",
       "      <td>500.000000</td>\n",
       "    </tr>\n",
       "    <tr>\n",
       "      <th>max</th>\n",
       "      <td>500.000000</td>\n",
       "    </tr>\n",
       "  </tbody>\n",
       "</table>\n",
       "</div>"
      ],
      "text/plain": [
       "       nøyaktighet\n",
       "count   104.000000\n",
       "mean    201.730769\n",
       "std     228.364563\n",
       "min      10.000000\n",
       "25%      10.000000\n",
       "50%      50.000000\n",
       "75%     500.000000\n",
       "max     500.000000"
      ]
     },
     "execution_count": 86,
     "metadata": {},
     "output_type": "execute_result"
    }
   ],
   "source": [
    "coral_accuracy_df.describe()"
   ]
  },
  {
   "cell_type": "code",
   "execution_count": 90,
   "metadata": {},
   "outputs": [
    {
     "data": {
      "text/html": [
       "<div>\n",
       "<style scoped>\n",
       "    .dataframe tbody tr th:only-of-type {\n",
       "        vertical-align: middle;\n",
       "    }\n",
       "\n",
       "    .dataframe tbody tr th {\n",
       "        vertical-align: top;\n",
       "    }\n",
       "\n",
       "    .dataframe thead th {\n",
       "        text-align: right;\n",
       "    }\n",
       "</style>\n",
       "<table border=\"1\" class=\"dataframe\">\n",
       "  <thead>\n",
       "    <tr style=\"text-align: right;\">\n",
       "      <th></th>\n",
       "      <th>minimumsdybde</th>\n",
       "      <th>maksimumsdybde</th>\n",
       "    </tr>\n",
       "  </thead>\n",
       "  <tbody>\n",
       "    <tr>\n",
       "      <th>count</th>\n",
       "      <td>104.000000</td>\n",
       "      <td>104.000000</td>\n",
       "    </tr>\n",
       "    <tr>\n",
       "      <th>mean</th>\n",
       "      <td>37.500000</td>\n",
       "      <td>39.990385</td>\n",
       "    </tr>\n",
       "    <tr>\n",
       "      <th>std</th>\n",
       "      <td>94.784272</td>\n",
       "      <td>100.482766</td>\n",
       "    </tr>\n",
       "    <tr>\n",
       "      <th>min</th>\n",
       "      <td>0.000000</td>\n",
       "      <td>0.000000</td>\n",
       "    </tr>\n",
       "    <tr>\n",
       "      <th>25%</th>\n",
       "      <td>0.000000</td>\n",
       "      <td>0.000000</td>\n",
       "    </tr>\n",
       "    <tr>\n",
       "      <th>50%</th>\n",
       "      <td>0.000000</td>\n",
       "      <td>0.000000</td>\n",
       "    </tr>\n",
       "    <tr>\n",
       "      <th>75%</th>\n",
       "      <td>0.000000</td>\n",
       "      <td>0.000000</td>\n",
       "    </tr>\n",
       "    <tr>\n",
       "      <th>max</th>\n",
       "      <td>363.000000</td>\n",
       "      <td>366.000000</td>\n",
       "    </tr>\n",
       "  </tbody>\n",
       "</table>\n",
       "</div>"
      ],
      "text/plain": [
       "       minimumsdybde  maksimumsdybde\n",
       "count     104.000000      104.000000\n",
       "mean       37.500000       39.990385\n",
       "std        94.784272      100.482766\n",
       "min         0.000000        0.000000\n",
       "25%         0.000000        0.000000\n",
       "50%         0.000000        0.000000\n",
       "75%         0.000000        0.000000\n",
       "max       363.000000      366.000000"
      ]
     },
     "execution_count": 90,
     "metadata": {},
     "output_type": "execute_result"
    }
   ],
   "source": [
    "coral_depth_df.describe()"
   ]
  },
  {
   "cell_type": "code",
   "execution_count": 97,
   "metadata": {},
   "outputs": [
    {
     "name": "stderr",
     "output_type": "stream",
     "text": [
      "/var/folders/lp/b8gl_n2n147_vxm1c97d933m0000gn/T/ipykernel_68633/2449126059.py:2: MatplotlibDeprecationWarning: The 'labels' parameter of boxplot() has been renamed 'tick_labels' since Matplotlib 3.9; support for the old name will be dropped in 3.11.\n",
      "  plt.boxplot([coral_depth_df['minimumsdybde'], coral_depth_df['maksimumsdybde']], labels=['Min Depth', 'Max Depth'])\n"
     ]
    },
    {
     "data": {
      "image/png": "[encoded data removed]",
      "text/plain": [
       "<Figure size 640x480 with 1 Axes>"
      ]
     },
     "metadata": {},
     "output_type": "display_data"
    }
   ],
   "source": [
    "#Creating a box plot for max and min depth\n",
    "plt.boxplot([coral_depth_df['minimumsdybde'], coral_depth_df['maksimumsdybde']], labels=['Min Depth', 'Max Depth'])\n",
    "plt.title('Box Plot of Minimum and Maximum Depths')\n",
    "plt.ylabel('Depth (m)')\n",
    "plt.show()"
   ]
  },
  {
   "cell_type": "code",
   "execution_count": 99,
   "metadata": {},
   "outputs": [
    {
     "name": "stderr",
     "output_type": "stream",
     "text": [
      "/var/folders/lp/b8gl_n2n147_vxm1c97d933m0000gn/T/ipykernel_68633/3700998207.py:11: MatplotlibDeprecationWarning: The 'labels' parameter of boxplot() has been renamed 'tick_labels' since Matplotlib 3.9; support for the old name will be dropped in 3.11.\n",
      "  plt.boxplot([coral_depth_mean_replacement['minimumsdybde'], coral_depth_mean_replacement['maksimumsdybde']], labels=['Min Depth', 'Max Depth'])\n"
     ]
    },
    {
     "data": {
      "image/png": "[encoded data removed]",
      "text/plain": [
       "<Figure size 640x480 with 1 Axes>"
      ]
     },
     "metadata": {},
     "output_type": "display_data"
    }
   ],
   "source": [
    "#Creating a box plot for max and min depth with zero values replaced with mean\n",
    "\n",
    "mean_min_depth = coral_depth_df['minimumsdybde'][coral_depth_df['minimumsdybde'] != 0].mean()\n",
    "mean_max_depth = coral_depth_df['maksimumsdybde'][coral_depth_df['maksimumsdybde'] != 0].mean()\n",
    "\n",
    "coral_depth_mean_replacement = coral_depth_df.copy()\n",
    "\n",
    "coral_depth_mean_replacement['minimumsdybde'] = coral_depth_mean_replacement['minimumsdybde'].replace(0, mean_min_depth)\n",
    "coral_depth_mean_replacement['maksimumsdybde'] = coral_depth_mean_replacement['maksimumsdybde'].replace(0, mean_max_depth)\n",
    "\n",
    "plt.boxplot([coral_depth_mean_replacement['minimumsdybde'], coral_depth_mean_replacement['maksimumsdybde']], labels=['Min Depth', 'Max Depth'])\n",
    "plt.title('Box Plot of Minimum and Maximum Depths, Zero Values Replaced With Mean')\n",
    "plt.ylabel('Depth (m)')\n",
    "plt.show()\n"
   ]
  },
  {
   "cell_type": "code",
   "execution_count": 102,
   "metadata": {},
   "outputs": [
    {
     "name": "stderr",
     "output_type": "stream",
     "text": [
      "/var/folders/lp/b8gl_n2n147_vxm1c97d933m0000gn/T/ipykernel_68633/592619433.py:5: MatplotlibDeprecationWarning: The 'labels' parameter of boxplot() has been renamed 'tick_labels' since Matplotlib 3.9; support for the old name will be dropped in 3.11.\n",
      "  plt.boxplot([coral_depth_zeros_removed['minimumsdybde'], coral_depth_zeros_removed['maksimumsdybde']], labels=['Min Depth', 'Max Depth'])\n"
     ]
    },
    {
     "data": {
      "image/png": "[encoded data removed]",
      "text/plain": [
       "<Figure size 640x480 with 1 Axes>"
      ]
     },
     "metadata": {},
     "output_type": "display_data"
    }
   ],
   "source": [
    "#Creating a box plot for max and min depth with zero values removed\n",
    "\n",
    "coral_depth_zeros_removed = coral_depth_df[(coral_depth_df['minimumsdybde'] != 0) & (coral_depth_df['maksimumsdybde'] != 0)]\n",
    "\n",
    "plt.boxplot([coral_depth_zeros_removed['minimumsdybde'], coral_depth_zeros_removed['maksimumsdybde']], labels=['Min Depth', 'Max Depth'])\n",
    "plt.title('Box Plot of Minimum and Maximum Depths, Zero Values Removed')\n",
    "plt.ylabel('Depth (m)')\n",
    "plt.show()\n",
    "\n",
    "\n"
   ]
  }
 ],
 "metadata": {
  "kernelspec": {
   "display_name": "Python 3",
   "language": "python",
   "name": "python3"
  },
  "language_info": {
   "codemirror_mode": {
    "name": "ipython",
    "version": 3
   },
   "file_extension": ".py",
   "mimetype": "text/x-python",
   "name": "python",
   "nbconvert_exporter": "python",
   "pygments_lexer": "ipython3",
   "version": "3.12.5"
  }
 },
 "nbformat": 4,
 "nbformat_minor": 2
}
