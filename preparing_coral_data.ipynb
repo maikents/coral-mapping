{
 "cells": [
  {
   "cell_type": "code",
   "execution_count": 9,
   "id": "75505046-dc53-49e5-aa34-b0703c3c01ba",
   "metadata": {},
   "outputs": [],
   "source": [
    "import netCDF4 as nc\n",
    "from netCDF4 import Dataset\n",
    "\n",
    "# Load the 4D SINMOD dataset\n",
    "\n",
    "filename_PhysStates_SINMOD = \"/cluster/projects/itk-SINMOD/coral-mapping/midnor/PhysStates_2019.nc\"\n",
    "\n",
    "midnor_PhysStates_data = Dataset(filename_PhysStates_SINMOD, 'r')\n",
    "\n",
    "\n"
   ]
  },
  {
   "cell_type": "code",
   "execution_count": 24,
   "id": "34559bcd-7000-4c0e-bedd-f24bbbc01d49",
   "metadata": {},
   "outputs": [
    {
     "name": "stdout",
     "output_type": "stream",
     "text": [
      "Index(['gml_id', 'lokalId', 'navnerom', 'verifiseringsdato', 'produkt',\n",
      "       'versjon', 'målemetode', 'nøyaktighet', 'medium', 'opphav',\n",
      "       'minimumsdybde', 'maksimumsdybde', 'naturtype', 'naturtypeNavn',\n",
      "       'kildeNavn', 'observasjonsMetode', 'observasjonsSted',\n",
      "       'observasjonsSlutt', 'lengdegrad', 'breddegrad', 'geometry'],\n",
      "      dtype='object')\n",
      "Index(['gml_id', 'lokalId', 'navnerom', 'verifiseringsdato', 'produkt',\n",
      "       'versjon', 'målemetode', 'nøyaktighet', 'medium', 'opphav',\n",
      "       'minimumsdybde', 'maksimumsdybde', 'naturtype', 'naturtypeNavn',\n",
      "       'kildeNavn', 'observasjonsMetode', 'observasjonsSted',\n",
      "       'observasjonsSlutt', 'lengdegrad', 'breddegrad', 'geometry'],\n",
      "      dtype='object')\n",
      "Index(['gml_id', 'lokalId', 'navnerom', 'verifiseringsdato', 'produkt',\n",
      "       'versjon', 'målemetode', 'nøyaktighet', 'medium', 'opphav',\n",
      "       'minimumsdybde', 'maksimumsdybde', 'naturtype', 'naturtypeNavn',\n",
      "       'kildeNavn', 'observasjonsMetode', 'observasjonsSted',\n",
      "       'observasjonsSlutt', 'lengdegrad', 'breddegrad', 'geometry'],\n",
      "      dtype='object')\n",
      "Index(['gml_id', 'lokalId', 'navnerom', 'verifiseringsdato', 'produkt',\n",
      "       'versjon', 'målemetode', 'nøyaktighet', 'medium', 'opphav',\n",
      "       'minimumsdybde', 'maksimumsdybde', 'naturtype', 'naturtypeNavn',\n",
      "       'kildeNavn', 'observasjonsMetode', 'observasjonsSted',\n",
      "       'observasjonsSlutt', 'lengdegrad', 'breddegrad', 'geometry'],\n",
      "      dtype='object')\n",
      "Index(['gml_id', 'lokalId', 'navnerom', 'verifiseringsdato', 'produkt',\n",
      "       'versjon', 'målemetode', 'nøyaktighet', 'medium', 'opphav',\n",
      "       'minimumsdybde', 'maksimumsdybde', 'naturtype', 'naturtypeNavn',\n",
      "       'observasjonsMetode', 'observasjonsSted', 'observasjonsSlutt',\n",
      "       'lengdegrad', 'breddegrad', 'kildeNavn', 'geometry'],\n",
      "      dtype='object')\n",
      "Index(['gml_id', 'lokalId', 'navnerom', 'verifiseringsdato', 'produkt',\n",
      "       'versjon', 'målemetode', 'nøyaktighet', 'medium', 'opphav',\n",
      "       'minimumsdybde', 'maksimumsdybde', 'naturtype', 'naturtypeNavn',\n",
      "       'kildeNavn', 'observasjonsMetode', 'observasjonsSted',\n",
      "       'observasjonsSlutt', 'lengdegrad', 'breddegrad', 'geometry'],\n",
      "      dtype='object')\n",
      "Index(['gml_id', 'lokalId', 'navnerom', 'verifiseringsdato', 'produkt',\n",
      "       'versjon', 'målemetode', 'nøyaktighet', 'medium', 'opphav',\n",
      "       'minimumsdybde', 'maksimumsdybde', 'naturtype', 'naturtypeNavn',\n",
      "       'kildeNavn', 'observasjonsMetode', 'observasjonsSted',\n",
      "       'observasjonsSlutt', 'lengdegrad', 'breddegrad', 'geometry'],\n",
      "      dtype='object')\n",
      "Index(['gml_id', 'lokalId', 'navnerom', 'verifiseringsdato', 'produkt',\n",
      "       'versjon', 'målemetode', 'nøyaktighet', 'medium', 'minimumsdybde',\n",
      "       'maksimumsdybde', 'naturtype', 'naturtypeNavn', 'kildeNavn',\n",
      "       'observasjonsMetode', 'observasjonsSted', 'observasjonsSlutt',\n",
      "       'lengdegrad', 'breddegrad', 'opphav', 'geometry'],\n",
      "      dtype='object')\n"
     ]
    }
   ],
   "source": [
    "import geopandas as gpd\n",
    "import pandas as pd\n",
    "# Importing coral reef data\n",
    "\n",
    "gml_file_coral_reefs_trondelag = \"/cluster/home/maikents/coral-mapping/raw_data/KystOgFiskeri_50_Trondelag_25832_Korallrev_GML.gml\"\n",
    "gdf_coral_reefs_trondelag = gpd.read_file(gml_file_coral_reefs_trondelag)\n",
    "\n",
    "gml_file_coral_reefs_more_og_romsdal = \"/cluster/home/maikents/coral-mapping/raw_data/KystOgFiskeri_15_More_og_Romsdal_25832_Korallrev_GML.gml\"\n",
    "gdf_coral_reefs_more_og_roms = gpd.read_file(gml_file_coral_reefs_more_og_romsdal)\n",
    "\n",
    "gml_file_coral_reefs_nordland = \"/cluster/home/maikents/coral-mapping/raw_data/KystOgFiskeri_18_Nordland_25833_Korallrev_GML.gml\"\n",
    "gdf_coral_reefs_nordland = gpd.read_file(gml_file_coral_reefs_nordland)\n",
    "\n",
    "gml_file_coral_reefs_vestland = \"/cluster/home/maikents/coral-mapping/raw_data/KystOgFiskeri_46_Vestland_25832_Korallrev_GML.gml\"\n",
    "gdf_coral_reefs_vestland = gpd.read_file(gml_file_coral_reefs_vestland)\n",
    "\n",
    "gml_file_coral_reefs_troms = \"/cluster/home/maikents/coral-mapping/raw_data/KystOgFiskeri_55_Troms_25833_Korallrev_GML.gml\"\n",
    "gdf_coral_reefs_troms = gpd.read_file(gml_file_coral_reefs_troms)\n",
    "\n",
    "gml_file_coral_reefs_finnmark = \"/cluster/home/maikents/coral-mapping/raw_data/KystOgFiskeri_56_Finnmark_25833_Korallrev_GML.gml\"\n",
    "gdf_coral_reefs_finnmark = gpd.read_file(gml_file_coral_reefs_finnmark)\n",
    "\n",
    "gml_file_coral_reefs_norskehavet = \"/cluster/home/maikents/coral-mapping/raw_data/KystOgFiskeri_63_Norskehavet_25832_Korallrev_GML.gml\"\n",
    "gdf_coral_reefs_norskehavet = gpd.read_file(gml_file_coral_reefs_norskehavet)\n",
    "\n",
    "gml_file_coral_reefs_barentshavet = \"/cluster/home/maikents/coral-mapping/raw_data/KystOgFiskeri_64_Barentshavet_vest_25833_Korallrev_GML.gml\"\n",
    "gdf_coral_reefs_barentshavet = gpd.read_file(gml_file_coral_reefs_barentshavet)\n",
    "\n",
    "print(gdf_coral_reefs_trondelag.columns)\n",
    "print(gdf_coral_reefs_more_og_roms.columns)\n",
    "print(gdf_coral_reefs_nordland.columns)\n",
    "print(gdf_coral_reefs_vestland.columns)\n",
    "print(gdf_coral_reefs_troms.columns)\n",
    "print(gdf_coral_reefs_finnmark.columns)\n",
    "print(gdf_coral_reefs_norskehavet.columns)\n",
    "print(gdf_coral_reefs_barentshavet.columns)"
   ]
  },
  {
   "cell_type": "code",
   "execution_count": 26,
   "id": "c568f779-927b-4285-9058-1e984341d862",
   "metadata": {},
   "outputs": [
    {
     "name": "stdout",
     "output_type": "stream",
     "text": [
      "Index(['gml_id', 'lokalId', 'navnerom', 'verifiseringsdato', 'produkt',\n",
      "       'versjon', 'målemetode', 'nøyaktighet', 'medium', 'opphav',\n",
      "       'minimumsdybde', 'maksimumsdybde', 'naturtype', 'naturtypeNavn',\n",
      "       'kildeNavn', 'observasjonsMetode', 'observasjonsSted',\n",
      "       'observasjonsSlutt', 'lengdegrad', 'breddegrad', 'geometry'],\n",
      "      dtype='object')\n"
     ]
    }
   ],
   "source": [
    "\n",
    "\n",
    "# Define file paths\n",
    "gml_files = {\n",
    "    \"Trondelag\": \"/cluster/home/maikents/coral-mapping/raw_data/KystOgFiskeri_50_Trondelag_25832_Korallrev_GML.gml\",\n",
    "    \"More_og_Romsdal\": \"/cluster/home/maikents/coral-mapping/raw_data/KystOgFiskeri_15_More_og_Romsdal_25832_Korallrev_GML.gml\",\n",
    "    \"Nordland\": \"/cluster/home/maikents/coral-mapping/raw_data/KystOgFiskeri_18_Nordland_25833_Korallrev_GML.gml\",\n",
    "    \"Vestland\": \"/cluster/home/maikents/coral-mapping/raw_data/KystOgFiskeri_46_Vestland_25832_Korallrev_GML.gml\",\n",
    "    \"Troms\": \"/cluster/home/maikents/coral-mapping/raw_data/KystOgFiskeri_55_Troms_25833_Korallrev_GML.gml\",\n",
    "    \"Finnmark\": \"/cluster/home/maikents/coral-mapping/raw_data/KystOgFiskeri_56_Finnmark_25833_Korallrev_GML.gml\",\n",
    "    \"Norskehavet\": \"/cluster/home/maikents/coral-mapping/raw_data/KystOgFiskeri_63_Norskehavet_25832_Korallrev_GML.gml\",\n",
    "    \"Barentshavet\": \"/cluster/home/maikents/coral-mapping/raw_data/KystOgFiskeri_64_Barentshavet_vest_25833_Korallrev_GML.gml\"\n",
    "}\n",
    "\n",
    "# Read all GML files into a list of GeoDataFrames\n",
    "gdfs = [gpd.read_file(file).to_crs(\"EPSG:4326\") for file in gml_files.values()]\n",
    "\n",
    "# Concatenate all GeoDataFrames into one\n",
    "gdf_all_coral_reefs = gpd.GeoDataFrame(pd.concat(gdfs, ignore_index=True))\n",
    "\n",
    "print(gdf_all_coral_reefs.columns)"
   ]
  },
  {
   "cell_type": "code",
   "execution_count": 30,
   "id": "2c995882-81e9-4d02-8e44-da70057f2292",
   "metadata": {},
   "outputs": [
    {
     "name": "stdout",
     "output_type": "stream",
     "text": [
      "<class 'netCDF4.Variable'>\n",
      "int32 grid_mapping()\n",
      "    grid_mapping_name: polar_stereographic\n",
      "    straight_vertical_longitude_from_pole: 58.0\n",
      "    horizontal_resolution: 800.0\n",
      "    latitude_of_projection_origin: 90.0\n",
      "    longitude_of_projection_origin: 58.0\n",
      "    standard_parallel: 60.0\n",
      "    origoRef: [0. 0.]\n",
      "    semi_minor_axis: 6370000.0\n",
      "    semi_major_axis: 6370000.0\n",
      "    false_easting: 2544800.0\n",
      "    false_northing: 1918800.0\n",
      "    scale_factor_at_projection_origin: 1.0\n",
      "unlimited dimensions: \n",
      "current shape = ()\n",
      "filling on, default _FillValue of -2147483647 used\n",
      "\n",
      "Horizontal resolution: 800.0 meters\n",
      "\n",
      " Determined SINMOD CRS: +proj=stere +lat_0=90.0 +lat_ts=60.0 +lon_0=58.0 +x_0=2544800.0 +y_0=1918800.0 +a=6370000.0 +b=6370000.0 +units=m +no_defs +type=crs\n"
     ]
    }
   ],
   "source": [
    "from pyproj import CRS, Transformer\n",
    "\n",
    "def obtain_sinmod_crs(PhysStates_data):\n",
    "    # Print grid mapping to see details, particularly the horizontal resolution\n",
    "    grid_mapping = PhysStates_data.variables['grid_mapping']\n",
    "    print(grid_mapping)\n",
    "\n",
    "    horizontal_resolution = grid_mapping.getncattr('horizontal_resolution')\n",
    "    print(f\"\\nHorizontal resolution: {horizontal_resolution} meters\")\n",
    "\n",
    "    crs_sinmod = CRS.from_proj4(f\"+proj=stere \"\n",
    "                                f\"+lat_0={grid_mapping.latitude_of_projection_origin} \"\n",
    "                                f\"+lat_ts={grid_mapping.standard_parallel} \"\n",
    "                                f\"+lon_0={grid_mapping.straight_vertical_longitude_from_pole} \"\n",
    "                                f\"+x_0={grid_mapping.false_easting} \"\n",
    "                                f\"+y_0={grid_mapping.false_northing} \"\n",
    "                                f\"+a={grid_mapping.semi_major_axis} \"\n",
    "                                f\"+b={grid_mapping.semi_minor_axis} \"\n",
    "                                f\"+units=m +no_defs\")\n",
    "    \n",
    "    print(f\"\\n Determined SINMOD CRS: {crs_sinmod}\")\n",
    "    return crs_sinmod\n",
    "\n",
    "\n",
    "crs_midnor = obtain_sinmod_crs(midnor_PhysStates_data)"
   ]
  },
  {
   "cell_type": "code",
   "execution_count": 39,
   "id": "f02c9e1a-30a4-49b7-a535-34cb9372ecd6",
   "metadata": {},
   "outputs": [],
   "source": [
    "import os\n",
    "\n",
    "def transform_coral_coordinates(coral_data, crs_sinmod):\n",
    "    # Define the Coordinate Reference Systems (CRS) for the coral data\n",
    "    crs_wgs84 = CRS.from_epsg(4326)  # WGS84 (lat/lon coordinates)\n",
    "\n",
    "    # Create a transformer to transform from wgs84 (geographic) to SINMOD\n",
    "    transformer_wgs84_to_sinmod = Transformer.from_crs(crs_wgs84, crs_sinmod, always_xy=True)\n",
    "\n",
    "    # Transform coral coordinates from WGS84 to SINMOD\n",
    "    coral_x, coral_y = transformer_wgs84_to_sinmod.transform(coral_data['lengdegrad'], coral_data['breddegrad'])\n",
    "\n",
    "    # Save coral_x and coral_y as new columns called x and y\n",
    "    coral_data.loc[:, 'x'] = coral_x\n",
    "    coral_data.loc[:, 'y'] = coral_y\n",
    "\n",
    "    return coral_data\n",
    "\n",
    "coral_data = transform_coral_coordinates(gdf_all_coral_reefs, crs_midnor)\n",
    "\n",
    "#output_directory = '/cluster/home/itk-SINMOD/coral-mapping/data/processed_data/'\n",
    "output_directory = '/cluster/home/maikents/'\n",
    "output_file = 'midnor_total_coral_data_processed.parquet'\n",
    "\n",
    "os.makedirs(output_directory, exist_ok=True)\n",
    "\n",
    "\n",
    "# Save the dataframe to a parquet file\n",
    "coral_data.to_parquet(os.path.join(output_directory, output_file), index=False)\n",
    "\n"
   ]
  },
  {
   "cell_type": "code",
   "execution_count": 40,
   "id": "e71765f9-620d-4be6-b7f7-b3c75a461685",
   "metadata": {},
   "outputs": [
    {
     "name": "stdout",
     "output_type": "stream",
     "text": [
      "Index(['gml_id', 'lokalId', 'navnerom', 'verifiseringsdato', 'produkt',\n",
      "       'versjon', 'målemetode', 'nøyaktighet', 'medium', 'opphav',\n",
      "       'minimumsdybde', 'maksimumsdybde', 'naturtype', 'naturtypeNavn',\n",
      "       'kildeNavn', 'observasjonsMetode', 'observasjonsSted',\n",
      "       'observasjonsSlutt', 'lengdegrad', 'breddegrad', 'geometry', 'x', 'y'],\n",
      "      dtype='object')\n"
     ]
    }
   ],
   "source": [
    "print(coral_data.columns)"
   ]
  },
  {
   "cell_type": "code",
   "execution_count": null,
   "id": "1436c918-0d81-4e5b-950e-c75e326632a4",
   "metadata": {},
   "outputs": [],
   "source": []
  }
 ],
 "metadata": {
  "kernelspec": {
   "display_name": "Python 3 (ipykernel)",
   "language": "python",
   "name": "python3"
  },
  "language_info": {
   "codemirror_mode": {
    "name": "ipython",
    "version": 3
   },
   "file_extension": ".py",
   "mimetype": "text/x-python",
   "name": "python",
   "nbconvert_exporter": "python",
   "pygments_lexer": "ipython3",
   "version": "3.12.3"
  }
 },
 "nbformat": 4,
 "nbformat_minor": 5
}
