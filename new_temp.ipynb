{
 "cells": [
  {
   "cell_type": "code",
   "execution_count": 1,
   "id": "95aa1713-a91d-4c56-b2b1-fcb9de3371b7",
   "metadata": {},
   "outputs": [],
   "source": [
    "import xarray as xr\n",
    "import numpy as np"
   ]
  },
  {
   "cell_type": "code",
   "execution_count": 4,
   "id": "212b15ed-7659-4464-954c-056a9d5c7e73",
   "metadata": {},
   "outputs": [],
   "source": [
    "#Load the SINMOD dataset\n",
    "sinmod_data = xr.open_dataset(\"/cluster/projects/itk-SINMOD/coral-mapping/midnor/PhysStates_2019.nc\")\n",
    "#print(sinmod_data)"
   ]
  },
  {
   "cell_type": "code",
   "execution_count": 6,
   "id": "203bdd49-24b4-45a7-afb7-b3dce12f7f67",
   "metadata": {},
   "outputs": [],
   "source": [
    "#Process the bottom layer\n",
    "chunks={\"time\":-1, \"zc\": -1, \"yc\": 50, \"xc\": 50}\n",
    "temp_var = sinmod_data[\"temperature\"]\n",
    "\n",
    "valid_mask = ~temp_var.isnull()\n",
    "\n",
    "\n",
    "\n",
    "bottom_layer_idx = valid_mask.argmin(dim=\"zc\") - 1\n",
    "bottom_layer_idx = bottom_layer_idx.clip(min=0)\n",
    "bottom_layer_temp = temp_var.isel(zc=bottom_layer_idx.load())"
   ]
  },
  {
   "cell_type": "code",
   "execution_count": null,
   "id": "40f7d03b-8432-4d19-83a3-14a9f14a3be9",
   "metadata": {},
   "outputs": [],
   "source": [
    "temp_march_may = #\n",
    "temp_oct_dec = #"
   ]
  },
  {
   "cell_type": "code",
   "execution_count": null,
   "id": "67a1ca4f-7aef-42af-8210-af249c825fee",
   "metadata": {},
   "outputs": [],
   "source": [
    "temperature_min = mean(temp_march_may)\n",
    "temperature_max = mean(temp_oct_dec)"
   ]
  }
 ],
 "metadata": {
  "kernelspec": {
   "display_name": "Python 3 (ipykernel)",
   "language": "python",
   "name": "python3"
  },
  "language_info": {
   "codemirror_mode": {
    "name": "ipython",
    "version": 3
   },
   "file_extension": ".py",
   "mimetype": "text/x-python",
   "name": "python",
   "nbconvert_exporter": "python",
   "pygments_lexer": "ipython3",
   "version": "3.12.3"
  }
 },
 "nbformat": 4,
 "nbformat_minor": 5
}
