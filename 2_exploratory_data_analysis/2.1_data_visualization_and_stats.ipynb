{
 "cells": [
  {
   "cell_type": "code",
   "execution_count": 1,
   "id": "b67e11e2-0398-4ea2-929f-d912f7f4eff2",
   "metadata": {},
   "outputs": [],
   "source": [
    "import numpy as np\n",
    "import xarray as xr\n",
    "from netCDF4 import Dataset\n",
    "import pandas as pd\n",
    "import random\n",
    "import netCDF4 as nc\n",
    "from scipy.spatial import cKDTree\n",
    "import matplotlib.pyplot as plt\n",
    "import seaborn as sns \n",
    "import scipy.stats as stats  \n",
    "from decimal import Decimal"
   ]
  },
  {
   "cell_type": "code",
   "execution_count": 46,
   "id": "b32efcdb-d344-481a-bab2-28f38ae195d4",
   "metadata": {
    "jupyter": {
     "source_hidden": true
    }
   },
   "outputs": [],
   "source": [
    "temperature = xr.open_dataset('/cluster/home/maikents/sinmod_combine_years/temp_bottom_layer.nc')"
   ]
  },
  {
   "cell_type": "code",
   "execution_count": 2,
   "id": "18805245-c91f-4ab7-b000-ee322c0b3e63",
   "metadata": {},
   "outputs": [],
   "source": [
    "#Load transformed (EMOD grid) coral data\n",
    "coral_filepath_emod = '/cluster/home/maikents/features_midnor_2019/coral_data/midnor_coral_data_emod_grid.parquet'\n",
    "coral_data_emod = pd.read_parquet(coral_filepath_emod)\n",
    "\n",
    "coral_x_emod = coral_data_emod['x']\n",
    "coral_y_emod = coral_data_emod['y']"
   ]
  },
  {
   "cell_type": "code",
   "execution_count": 28,
   "id": "77532b0f-0e71-4ef6-abc6-4f20dc27e74a",
   "metadata": {},
   "outputs": [],
   "source": [
    "#Load sinmod data\n",
    "sinmod_data = xr.open_dataset(\"/cluster/home/maikents/sinmod_features_masters/sinmod_bottom_features_emod_grid.nc\")\n",
    "sinmod_data_copy = sinmod_data.copy()"
   ]
  },
  {
   "cell_type": "code",
   "execution_count": 45,
   "id": "efe76229-27c5-4d82-b5f2-b64961d7af84",
   "metadata": {},
   "outputs": [],
   "source": [
    "temp_sundahl = sinmod_data_copy['bottom_temperature_sundahl_features']"
   ]
  },
  {
   "cell_type": "code",
   "execution_count": 46,
   "id": "b49f2e5e-2d66-4c2d-98d1-dbe32e377074",
   "metadata": {},
   "outputs": [],
   "source": [
    "temp_sundahl = temp_sundahl.sel(stat='max_(mean_oct_dec)')"
   ]
  },
  {
   "cell_type": "code",
   "execution_count": 47,
   "id": "8aa98abb-be4c-4725-8473-89729fafceba",
   "metadata": {},
   "outputs": [],
   "source": [
    "temp_sundahl_df = temp_sundahl.to_dataframe()"
   ]
  },
  {
   "cell_type": "code",
   "execution_count": 48,
   "id": "b9bfe660-687b-4624-8df5-4b5e3fad000f",
   "metadata": {},
   "outputs": [],
   "source": [
    "temp_sundahl_df.drop('stat', axis=1, inplace=True)"
   ]
  },
  {
   "cell_type": "code",
   "execution_count": 49,
   "id": "f6bac5c2-705c-42a1-a234-391209c0f9cf",
   "metadata": {},
   "outputs": [],
   "source": [
    "temp_sundahl_df = temp_sundahl_df.dropna(subset=['bottom_temperature_sundahl_features'])\n"
   ]
  },
  {
   "cell_type": "code",
   "execution_count": 29,
   "id": "c63cc5b3-6610-40e3-8447-e4a031dbf95d",
   "metadata": {},
   "outputs": [],
   "source": [
    "sinmod_data_copy = sinmod_data_copy.sel(stat='mean')"
   ]
  },
  {
   "cell_type": "code",
   "execution_count": 30,
   "id": "428c7b31-e813-4d39-9d8b-d93421bde575",
   "metadata": {},
   "outputs": [],
   "source": [
    "sinmod_df = sinmod_data_copy.to_dataframe()\n",
    "sinmod_df = sinmod_df.reset_index()\n",
    "sinmod_df['y'] = sinmod_df['y'].round().astype(int)\n",
    "sinmod_df['x'] = sinmod_df['x'].round().astype(int)\n",
    "sinmod_df = sinmod_df.set_index(['y', 'x'])\n",
    "nan_indices = sinmod_df[sinmod_df['bottom_temperature_features'].isna()].index\n",
    "sinmod_df_cleaned = sinmod_df.dropna(subset=['bottom_temperature_features'])\n",
    "sinmod_df = sinmod_df_cleaned.sort_values(by=\"y\")"
   ]
  },
  {
   "cell_type": "code",
   "execution_count": 32,
   "id": "b7a64681-5fc3-44ff-91d4-1b36dfb93cdf",
   "metadata": {},
   "outputs": [
    {
     "name": "stdout",
     "output_type": "stream",
     "text": [
      "Index(['stat', 'spatial_ref', 'bottom_temperature_sundahl_features',\n",
      "       'bottom_temperature_features', 'bottom_salinity_features',\n",
      "       'bottom_current_features', 'bottom_statistical_northness_features',\n",
      "       'bottom_statistical_eastness_features', 'current_aspect_angle'],\n",
      "      dtype='object')\n"
     ]
    }
   ],
   "source": [
    "print(sinmod_df.columns)"
   ]
  },
  {
   "cell_type": "code",
   "execution_count": 33,
   "id": "482dd855-978a-4367-b5c9-6306ca9231b9",
   "metadata": {},
   "outputs": [],
   "source": [
    "sinmod_df.drop('stat', axis=1, inplace=True)"
   ]
  },
  {
   "cell_type": "code",
   "execution_count": 34,
   "id": "a2b65e66-23cb-4b1c-80a5-358c8db0ff08",
   "metadata": {},
   "outputs": [],
   "source": [
    "sinmod_df.drop('spatial_ref', axis=1, inplace=True)"
   ]
  },
  {
   "cell_type": "code",
   "execution_count": 4,
   "id": "ac8dcbe3-5605-49e7-a9a1-f662c2c04433",
   "metadata": {},
   "outputs": [],
   "source": [
    "#Load EMOD data\n",
    "emod_data = xr.open_dataset(\"/cluster/home/maikents/features_midnor_2019/emod_features2/EMOD_features2.nc\")\n",
    "emod_data_copy = emod_data.copy()"
   ]
  },
  {
   "cell_type": "code",
   "execution_count": 5,
   "id": "bfb04042-911b-4720-9e77-dca4b97df632",
   "metadata": {},
   "outputs": [
    {
     "name": "stdout",
     "output_type": "stream",
     "text": [
      "['x', 'y', 'aspect_cos', 'aspect_sin', 'bathymetry_32N_Clip_sample', 'broad_BPI_std', 'fine_BPI_std', 'log_ruggedness_1', 'slope']\n"
     ]
    }
   ],
   "source": [
    "print(list(emod_data_copy.variables))"
   ]
  },
  {
   "cell_type": "code",
   "execution_count": 6,
   "id": "e8216b15-9658-4814-8bb0-a9fd64785dec",
   "metadata": {},
   "outputs": [],
   "source": [
    "#Handle the EMOD data \n",
    "emod_df = emod_data_copy.to_dataframe()\n",
    "emod_df = emod_df.reset_index()\n",
    "emod_df['y'] = emod_df['y'].round().astype(int)\n",
    "emod_df['x'] = emod_df['x'].round().astype(int)\n",
    "emod_df = emod_df.set_index(['y', 'x'])\n",
    "nan_indices = emod_df[emod_df['bathymetry_32N_Clip_sample'].isna()].index\n",
    "emod_df_cleaned = emod_df.dropna(subset=['bathymetry_32N_Clip_sample'])\n",
    "emod_df = emod_df_cleaned.sort_values(by=\"y\")"
   ]
  },
  {
   "cell_type": "code",
   "execution_count": 5,
   "id": "ae133bf9-2d6b-4c0b-84a1-3ea71b4450c7",
   "metadata": {},
   "outputs": [],
   "source": [
    "#Current aspect angle\n",
    "#sinmod_bottom = xr.open_dataset('/cluster/projects/itk-SINMOD/coral-mapping/data/processed_data/features/ready-for-training/SINMOD_bottom_features.nc')\n",
    "sinmod_bottom = xr.open_dataset(\"/cluster/home/maikents/features_midnor_2019/ready_for_training/SINMOD_bottom_features_emod_grid2.nc\")\n",
    "\n",
    "current_aspect_angle = sinmod_bottom['current_aspect_angle']"
   ]
  },
  {
   "cell_type": "code",
   "execution_count": 6,
   "id": "ff7c1e0d-1858-4f03-9482-9fe6621b9267",
   "metadata": {},
   "outputs": [],
   "source": [
    "current_df = current_aspect_angle.to_dataframe()"
   ]
  },
  {
   "cell_type": "code",
   "execution_count": 7,
   "id": "4d1c4682-56d2-4552-b15e-30ecd346e5eb",
   "metadata": {},
   "outputs": [],
   "source": [
    "current_df_cleaned = current_df.dropna(subset=['current_aspect_angle'])\n"
   ]
  },
  {
   "cell_type": "code",
   "execution_count": 33,
   "id": "0b4a43a8-da4a-4690-9931-5b2931bdbcb2",
   "metadata": {},
   "outputs": [
    {
     "name": "stdout",
     "output_type": "stream",
     "text": [
      "                current_aspect_angle\n",
      "y       x                           \n",
      "7539097 439867             11.501816\n",
      "        439958             16.181029\n",
      "        440049             26.574801\n",
      "7539006 439867             37.366278\n",
      "        439958             37.872374\n",
      "...                              ...\n",
      "6659309 274611             20.341295\n",
      "        274702             22.101466\n",
      "        274793             82.475902\n",
      "6659218 274611             31.833423\n",
      "        274702             55.508681\n",
      "\n",
      "[33376001 rows x 1 columns]\n"
     ]
    }
   ],
   "source": [
    "print(current_df_cleaned)"
   ]
  },
  {
   "cell_type": "code",
   "execution_count": 60,
   "id": "e62c376b-645f-4370-905e-c6ca20320926",
   "metadata": {},
   "outputs": [],
   "source": [
    "chlor_a_sinmod = xr.open_dataset('/cluster/home/maikents/surface_chlorophyll/surface_chlorophyll_2019_2022_2023_features_emod_grid.nc')"
   ]
  },
  {
   "cell_type": "code",
   "execution_count": 56,
   "id": "93b29e72-562c-435a-87a3-b47900475b71",
   "metadata": {},
   "outputs": [
    {
     "name": "stdout",
     "output_type": "stream",
     "text": [
      "<xarray.Dataset> Size: 966MB\n",
      "Dimensions:           (stat: 3, x: 8325, y: 9671)\n",
      "Coordinates:\n",
      "  * stat              (stat) <U15 180B 'mean' ... '90th_percentile'\n",
      "  * x                 (x) float64 67kB -6.546e+04 -6.537e+04 ... 6.92e+05\n",
      "  * y                 (y) float64 77kB 7.539e+06 7.539e+06 ... 6.659e+06\n",
      "Data variables:\n",
      "    spatial_ref       int64 8B ...\n",
      "    chlor_a_features  (stat, y, x) float32 966MB ...\n"
     ]
    }
   ],
   "source": [
    "print(chlor_a_sinmod)"
   ]
  },
  {
   "cell_type": "code",
   "execution_count": 61,
   "id": "5ad11eb3-a5e1-4dd0-8400-5d0203606ab1",
   "metadata": {},
   "outputs": [],
   "source": [
    "chlor_a_sinmod= chlor_a_sinmod['chlor_a_features'].isel(stat=0)"
   ]
  },
  {
   "cell_type": "code",
   "execution_count": 62,
   "id": "7c6d912c-56d7-4dea-bd35-e23ffba98aca",
   "metadata": {},
   "outputs": [],
   "source": [
    "chlor_a_sinmod_df = chlor_a_sinmod.to_dataframe()"
   ]
  },
  {
   "cell_type": "code",
   "execution_count": 63,
   "id": "f856862b-bd88-4505-ab74-b965399e98f6",
   "metadata": {},
   "outputs": [],
   "source": [
    "chlor_a_sinmod_df.drop('stat', axis=1, inplace=True)\n"
   ]
  },
  {
   "cell_type": "code",
   "execution_count": 64,
   "id": "00f370be-9bc4-4d19-916b-f0c491059589",
   "metadata": {},
   "outputs": [
    {
     "name": "stdout",
     "output_type": "stream",
     "text": [
      "                             chlor_a_features\n",
      "y            x                               \n",
      "7.539188e+06 -65456.088686                NaN\n",
      "             -65365.088686                NaN\n",
      "             -65274.088686                NaN\n",
      "             -65183.088686                NaN\n",
      "             -65092.088686                NaN\n",
      "...                                       ...\n",
      "6.659218e+06  691663.911314               NaN\n",
      "              691754.911314               NaN\n",
      "              691845.911314               NaN\n",
      "              691936.911314               NaN\n",
      "              692027.911314               NaN\n",
      "\n",
      "[80511075 rows x 1 columns]\n"
     ]
    }
   ],
   "source": [
    "print(chlor_a_sinmod_df)"
   ]
  },
  {
   "cell_type": "code",
   "execution_count": 65,
   "id": "60f7e3f6-98d2-43ba-916d-98f639ccd18a",
   "metadata": {},
   "outputs": [],
   "source": [
    "chlor_a_sinmod_df_cleaned = chlor_a_sinmod_df.dropna(subset=['chlor_a_features'])"
   ]
  },
  {
   "cell_type": "code",
   "execution_count": 49,
   "id": "5ff05448-5628-4900-b454-a7d79348cd7a",
   "metadata": {},
   "outputs": [],
   "source": [
    "chlor_a_satellite = xr.open_dataset('/cluster/home/maikents/satellite_data/chlor_a_dataset_midnor_features_emod_grid.nc')"
   ]
  },
  {
   "cell_type": "code",
   "execution_count": 4,
   "id": "725144a7-9c8f-409d-a232-56bb3f48bf33",
   "metadata": {},
   "outputs": [
    {
     "name": "stdout",
     "output_type": "stream",
     "text": [
      "<xarray.Dataset> Size: 2GB\n",
      "Dimensions:       (y: 9671, x: 8325)\n",
      "Coordinates:\n",
      "    spatial_ref   int64 8B ...\n",
      "  * x             (x) float64 67kB -6.546e+04 -6.537e+04 ... 6.919e+05 6.92e+05\n",
      "  * y             (y) float64 77kB 7.539e+06 7.539e+06 ... 6.659e+06 6.659e+06\n",
      "Data variables:\n",
      "    chlor_a_mean  (y, x) float32 322MB ...\n",
      "    chlor_a_min   (y, x) float64 644MB ...\n",
      "    chlor_a_max   (y, x) float64 644MB ...\n"
     ]
    }
   ],
   "source": [
    "print(chlor_a_satellite)"
   ]
  },
  {
   "cell_type": "code",
   "execution_count": 50,
   "id": "0dfed7d0-95dc-4d6e-b96c-43dcfb53ace7",
   "metadata": {},
   "outputs": [],
   "source": [
    "chlor_a_satellite = chlor_a_satellite['chlor_a_mean']"
   ]
  },
  {
   "cell_type": "code",
   "execution_count": 51,
   "id": "3a3cc7d0-246d-421d-93f0-5cbd918326f8",
   "metadata": {},
   "outputs": [],
   "source": [
    "chlor_a_satellite_df = chlor_a_satellite.to_dataframe()"
   ]
  },
  {
   "cell_type": "code",
   "execution_count": 52,
   "id": "381e0149-7d1c-442f-a69f-e934dde41792",
   "metadata": {},
   "outputs": [],
   "source": [
    "chlor_a_satellite_df_cleaned = chlor_a_satellite_df.dropna(subset=['chlor_a_mean'])"
   ]
  },
  {
   "cell_type": "code",
   "execution_count": 53,
   "id": "befff8a8-534a-4b2e-9073-809d93521408",
   "metadata": {},
   "outputs": [
    {
     "name": "stderr",
     "output_type": "stream",
     "text": [
      "/tmp/ipykernel_2236512/4054683248.py:1: SettingWithCopyWarning: \n",
      "A value is trying to be set on a copy of a slice from a DataFrame\n",
      "\n",
      "See the caveats in the documentation: https://pandas.pydata.org/pandas-docs/stable/user_guide/indexing.html#returning-a-view-versus-a-copy\n",
      "  chlor_a_satellite_df_cleaned.drop('spatial_ref', axis=1, inplace=True)\n"
     ]
    }
   ],
   "source": [
    "chlor_a_satellite_df_cleaned.drop('spatial_ref', axis=1, inplace=True)\n"
   ]
  },
  {
   "cell_type": "code",
   "execution_count": 21,
   "id": "a22cb3ba-e235-443b-ae6d-041c8d817531",
   "metadata": {},
   "outputs": [
    {
     "name": "stdout",
     "output_type": "stream",
     "text": [
      "Index(['aspect_cos', 'aspect_sin', 'bathymetry_32N_Clip_sample',\n",
      "       'broad_BPI_std', 'fine_BPI_std', 'log_ruggedness_1', 'slope'],\n",
      "      dtype='object')\n"
     ]
    }
   ],
   "source": [
    "print(emod_df.columns)"
   ]
  },
  {
   "cell_type": "code",
   "execution_count": 7,
   "id": "a8362fa6-6065-4e73-aca9-2f0b6ae0f8a5",
   "metadata": {},
   "outputs": [],
   "source": [
    "def permutation_test(x, y, num_permutations=100000):\n",
    "    observed_diff = np.mean(x) - np.mean(y)\n",
    "    combined = np.concatenate([x, y])\n",
    "    count = 0\n",
    "\n",
    "    #Perform permutations\n",
    "    for _ in range(num_permutations):\n",
    "        np.random.shuffle(combined)\n",
    "        new_x = combined[:len(x)]\n",
    "        new_y = combined[len(x):]\n",
    "        new_diff = np.mean(new_x) - np.mean(new_y)\n",
    "        if abs(new_diff) >= abs(observed_diff):\n",
    "            count += 1\n",
    "    \n",
    "    p_value_permutation = count / num_permutations\n",
    "    return observed_diff, p_value_permutation"
   ]
  },
  {
   "cell_type": "code",
   "execution_count": 75,
   "id": "6d291230-414f-49c5-bfbc-d973cd2e30fb",
   "metadata": {},
   "outputs": [],
   "source": [
    "#Histograms for EMOD data\n",
    "\n",
    "def plot_histogram_at_coral_points_emod(emod_df, coral_data, variable_name, generate_random=False):\n",
    "    \n",
    "    coral_values = []\n",
    "    valid_coords = []\n",
    "    xc_max = 692028\n",
    "    yc_max = 7539188\n",
    "    x_indices = np.clip(np.round(coral_data['x']).astype(int), -65456, xc_max - 1)\n",
    "    y_indices = np.clip(np.round(coral_data['y']).astype(int), 6659218, yc_max - 1)\n",
    "\n",
    "    emod_df.index = emod_df.index.map(lambda index: (round(index[0]), round(index[1])))\n",
    "\n",
    "    df_y_values = np.array(emod_df.index.get_level_values(0))\n",
    "    df_x_values = np.array(emod_df.index.get_level_values(1))\n",
    "\n",
    "    for x, y in zip(x_indices, y_indices):\n",
    "    \n",
    "        if (y, x) in emod_df.index:\n",
    "            closest_y, closest_x = y, x\n",
    "        else:\n",
    "            # Find the closest available indices in df\n",
    "            closest_y = df_y_values[np.abs(df_y_values - y).argmin()]\n",
    "            closest_x = df_x_values[np.abs(df_x_values - x).argmin()]\n",
    "\n",
    "        if (closest_y, closest_x) in emod_df.index:\n",
    "            value = emod_df.loc[(closest_y, closest_x)][variable_name]\n",
    "            if not np.ma.is_masked(value):\n",
    "                if (closest_y, closest_x) not in valid_coords:\n",
    "                    coral_values.append(value)\n",
    "                    valid_coords.append((closest_y, closest_x))\n",
    "\n",
    "    coral_values_flat = np.ravel(coral_values)\n",
    "    values = pd.DataFrame({f'{variable_name}': coral_values_flat})\n",
    "    \n",
    "\n",
    "    values = values[variable_name].dropna().values\n",
    "\n",
    "    print(f\"Number of valid coordinates: {len(valid_coords)} out of {len(coral_data)}\")\n",
    "\n",
    "    if len(values) == 0:\n",
    "        print(\"Error: array is empty after dropping NaNs!\")\n",
    "    else:\n",
    "\n",
    "        #Calculate statistics for coral values\n",
    "        stats_coral = {\n",
    "            'mean': np.mean(values),\n",
    "            'max': np.max(values),\n",
    "            'min': np.min(values),\n",
    "            '90th_percentile': np.percentile(values, 90),\n",
    "            '10th_percentile': np.percentile(values, 10),\n",
    "            'std': np.std(values, ddof=1), #std\n",
    "            'cv': np.std(values, ddof=1) / np.mean(values) if np.mean(values) != 0 else np.nan #Coefficient of Variation: Standard deviation as a percentage of the mean, useful for comparing variability across datasets.  \n",
    "        }\n",
    "       \n",
    "        print(f\"Statistics for {variable_name}:\", stats_coral)\n",
    "\n",
    "\n",
    "    if generate_random:\n",
    "        no_points = int(len(values))  \n",
    "\n",
    "        variable_data = emod_df[variable_name]\n",
    "        valid_data = variable_data.dropna()\n",
    "        random_indices = np.random.choice(valid_data.index, no_points, replace=False)\n",
    "        random_values = emod_df.loc[random_indices, variable_name]\n",
    "\n",
    "        #Calculate statistics for coral values\n",
    "        random_stats = {\n",
    "            'mean': np.mean(random_values),\n",
    "            'max': np.max(random_values),\n",
    "            'min': np.min(random_values),\n",
    "            '90th_percentile': np.percentile(random_values, 90),\n",
    "            '10th_percentile': np.percentile(random_values, 10),\n",
    "            'std': np.std(random_values, ddof=1), #std\n",
    "            'cv': np.std(random_values, ddof=1) / np.mean(random_values) if np.mean(random_values) != 0 else np.nan #Coefficient of Variation: Standard deviation as a percentage of the mean, useful for comparing variability across datasets.  \n",
    "        }\n",
    "\n",
    "        print(f\"Statistics for random values: {random_stats}\")\n",
    "        \n",
    "        # Mann-Whitney U Test\n",
    "        u_stat, p_value = stats.mannwhitneyu(values, random_values, alternative='two-sided')\n",
    "        print(f\"Mann-Whitney U statistic: {u_stat}\")\n",
    "        print(f\"p-value: {p_value}\")\n",
    "\n",
    "        if p_value < 0.05:\n",
    "            print(f\"The difference between coral points and random points is statistically significant (p < 0.05).\")\n",
    "        else:\n",
    "            print(f\"There is no statistically significant difference between coral points and random points (p >= 0.05).\")\n",
    "        \n",
    "        # Run permutation test\n",
    "        observed_diff, p_value_permutation = permutation_test(values, random_values)\n",
    "        p_value_permutation_rounded = Decimal(p_value_permutation)\n",
    "\n",
    "        \n",
    "        print(f\"Observed Difference in Means: {observed_diff}\")\n",
    "        print(f\"Permutation Test p-value: {p_value_permutation_rounded:.20f}\")\n",
    "        \n",
    "        if p_value_permutation < 0.05:\n",
    "            print(\"The difference between coral points and random points is statistically significant (Permutation Test).\")\n",
    "        else:\n",
    "            print(\"There is no statistically significant difference between coral points and random points (Permutation Test).\")\n",
    "\n",
    "        from scipy.stats import gaussian_kde\n",
    " \n",
    "        kde_coral = gaussian_kde(values)\n",
    "        kde_random = gaussian_kde(random_values)\n",
    "        x = np.linspace(min(values.min(), random_values.min()),\n",
    "                        max(values.max(), random_values.max()), 1000)\n",
    "      \n",
    "        coral_density = kde_coral(x)\n",
    "        random_density = kde_random(x)\n",
    "\n",
    "        ratio = coral_density / random_density\n",
    "        area = np.trapz(ratio, x)\n",
    "        normalized_ratio = ratio / area\n",
    "    \n",
    "\n",
    "        plt.figure(figsize=(10, 6))\n",
    "\n",
    "        plt.plot(x, coral_density, label='Coral KDE', color='blue')\n",
    "        plt.plot(x, random_density, label='Random KDE', color='red')\n",
    "\n",
    "        #Endre basert på plottet\n",
    "        mask = (x >= 32.5) & (x <= 37)\n",
    "        x_cut = x[mask]\n",
    "        normalized_ratio_cut = normalized_ratio[mask]\n",
    "\n",
    "\n",
    "\n",
    "        \n",
    "        #plt.plot(x, normalized_ratio, label='Normalized Density Ratio', color='green')\n",
    "        plt.plot(x_cut, normalized_ratio_cut, label='Normalized Density Ratio', color='green')\n",
    "\n",
    "        plt.grid(which='both', linestyle='--', color='gray')\n",
    "\n",
    "\n",
    "        \"\"\"\n",
    "        if emod_df is chlor_a_satellite_df_cleaned:\n",
    "            plt.title(\"KDE of Coral Points, Random Points, and Normalized Coral to Random Density Ratio (Chlorophyll-a, satellite)\", fontsize=16)\n",
    "            plt.xlabel('Chlorophyll-a, satellite', fontsize=14)\n",
    "        elif emod_df is chlor_a_sinmod_df_cleaned:\n",
    "            plt.title(\"KDE of Coral Points, Random Points, and Normalized Coral to Random Density Ratio (Chlorophyll-a, SINMOD)\", fontsize=16)\n",
    "            plt.xlabel('Chlorophyll-a, SINMOD', fontsize=14)\n",
    "        else:\n",
    "            plt.title(f\"KDE of Coral Points, Random Points, and Normalized Coral to Random Density Ratio ({variable_name})\", fontsize=16)\n",
    "            plt.xlabel(f'{variable_name}', fontsize=14) \n",
    "            \n",
    "        \"\"\"\n",
    "        #plt.title(f\"KDE of Coral Points, Random Points, and Normalized Coral to Random Density Ratio ({variable_name})\", fontsize=16)\n",
    "        plt.xlabel(f'{variable_name}', fontsize=14) \n",
    "        plt.ylabel(\"Density\", fontsize=14)\n",
    "        plt.legend()\n",
    "        \n",
    "\n",
    "\n",
    "        plt.show()\n",
    "\n",
    "        plt.figure(figsize=(10, 6))\n",
    "\n",
    "        plt.plot(x, coral_density, label='Coral KDE', color='blue')\n",
    "        plt.plot(x, random_density, label='Random KDE', color='red')\n",
    "        plt.grid(which='both', linestyle='--', color='gray')\n",
    "        plt.ylabel(\"Density\", fontsize=14)\n",
    "        \"\"\"\n",
    "        if emod_df is chlor_a_satellite_df_cleaned:\n",
    "            plt.title(\"KDE of Coral Points and Random Points (Chlorophyll-a, satellite)\", fontsize=16)\n",
    "            plt.xlabel('Chlorophyll-a, satellite', fontsize=14)\n",
    "        elif emod_df is chlor_a_sinmod_df_cleaned:\n",
    "            plt.title(\"KDE of Coral Points and Random Points (Chlorophyll-a, SINMOD)\", fontsize=16)\n",
    "            plt.xlabel('Chlorophyll-a, SINMOD', fontsize=14)\n",
    "        \n",
    "        else:\n",
    "            plt.title(f\"KDE of Coral Points and Random Points ({variable_name})\", fontsize=16)\n",
    "            plt.xlabel(f'{variable_name}', fontsize=14) \n",
    "        \"\"\"\n",
    "        #plt.title(f\"KDE of Coral Points and Random Points ({variable_name})\", fontsize=16)\n",
    "        plt.xlabel(f'{variable_name}', fontsize=14) \n",
    "          \n",
    "\n",
    "        plt.legend()\n",
    "\n",
    "    return values, random_values\n",
    "\n",
    "\n"
   ]
  },
  {
   "cell_type": "code",
   "execution_count": 77,
   "id": "cbafd8f0-532d-4691-bd2b-af273b65ce3d",
   "metadata": {},
   "outputs": [
    {
     "name": "stdout",
     "output_type": "stream",
     "text": [
      "Number of valid coordinates: 712 out of 841\n",
      "Statistics for bottom_salinity_features: {'mean': 35.116231717420426, 'max': 35.35795211791992, 'min': 31.554927825927734, '90th_percentile': 35.33175468444824, '10th_percentile': 34.68936462402344, 'std': 0.48138028936103217, 'cv': 0.01370819891025578}\n",
      "Statistics for random values: {'mean': 34.95514, 'max': 35.417656, 'min': 28.352571, '90th_percentile': 35.3648193359375, '10th_percentile': 34.85785827636719, 'std': 0.6867535, 'cv': 0.019646712}\n",
      "Mann-Whitney U statistic: 331474.5\n",
      "p-value: 8.8835009183085e-24\n",
      "The difference between coral points and random points is statistically significant (p < 0.05).\n",
      "Observed Difference in Means: 0.16109255726417615\n",
      "Permutation Test p-value: 0.00000000000000000000\n",
      "The difference between coral points and random points is statistically significant (Permutation Test).\n"
     ]
    },
    {
     "data": {
      "image/png": "[encoded data removed]",
      "text/plain": [
       "<Figure size 1000x600 with 1 Axes>"
      ]
     },
     "metadata": {},
     "output_type": "display_data"
    },
    {
     "data": {
      "image/png": "[encoded data removed]",
      "text/plain": [
       "<Figure size 1000x600 with 1 Axes>"
      ]
     },
     "metadata": {},
     "output_type": "display_data"
    }
   ],
   "source": [
    "values_salinity, random_values_salinity = plot_histogram_at_coral_points_emod(sinmod_df, coral_data_emod, 'bottom_salinity_features', True)"
   ]
  },
  {
   "cell_type": "code",
   "execution_count": null,
   "id": "e0c10d89-02de-4a11-b0a6-86b7e40e408c",
   "metadata": {},
   "outputs": [],
   "source": []
  }
 ],
 "metadata": {
  "kernelspec": {
   "display_name": "Python 3 (ipykernel)",
   "language": "python",
   "name": "python3"
  },
  "language_info": {
   "codemirror_mode": {
    "name": "ipython",
    "version": 3
   },
   "file_extension": ".py",
   "mimetype": "text/x-python",
   "name": "python",
   "nbconvert_exporter": "python",
   "pygments_lexer": "ipython3",
   "version": "3.12.3"
  }
 },
 "nbformat": 4,
 "nbformat_minor": 5
}
