{
 "cells": [
  {
   "cell_type": "code",
   "execution_count": 1,
   "id": "0afdd17e-4171-4b9a-bc78-0e1e6b3eecd9",
   "metadata": {},
   "outputs": [],
   "source": [
    "import numpy as np\n",
    "import matplotlib.pyplot as plt\n",
    "import cartopy.crs as ccrs\n",
    "import cartopy.feature as cfeature\n",
    "from matplotlib.colors import Normalize\n",
    "import matplotlib.pyplot as plt\n",
    "import numpy as np\n",
    "import xarray as xr\n",
    "import pyproj"
   ]
  },
  {
   "cell_type": "code",
   "execution_count": 2,
   "id": "f5ecc106-f44d-4752-8812-ac7d0afd6d82",
   "metadata": {},
   "outputs": [],
   "source": [
    "chlor_a_features_reprojected = xr.open_dataset('/cluster/home/maikents/surface_chlorophyll/surface_chlorophyll_2019_2022_features_emod_grid')"
   ]
  },
  {
   "cell_type": "code",
   "execution_count": 4,
   "id": "279e10d0-9fed-4cc5-bae6-70036b74eb26",
   "metadata": {},
   "outputs": [
    {
     "name": "stdout",
     "output_type": "stream",
     "text": [
      "<xarray.Dataset> Size: 966MB\n",
      "Dimensions:           (stat: 3, x: 8325, y: 9671)\n",
      "Coordinates:\n",
      "  * stat              (stat) <U15 180B 'mean' ... '90th_percentile'\n",
      "  * x                 (x) float64 67kB -6.546e+04 -6.537e+04 ... 6.92e+05\n",
      "  * y                 (y) float64 77kB 7.539e+06 7.539e+06 ... 6.659e+06\n",
      "Data variables:\n",
      "    spatial_ref       int64 8B ...\n",
      "    chlor_a_features  (stat, y, x) float32 966MB ...\n"
     ]
    }
   ],
   "source": [
    "print(chlor_a_features_reprojected)"
   ]
  },
  {
   "cell_type": "code",
   "execution_count": null,
   "id": "02136ae3-6c67-46c5-bb9e-96811922883f",
   "metadata": {},
   "outputs": [],
   "source": [
    "fig, ax = plt.subplots(figsize=(10, 8), subplot_kw={'projection': ccrs.PlateCarree()})\n",
    "\n",
    "# Plot the chlorophyll-a data (using pcolormesh under the hood)\n",
    "chlor_a_features_reprojected['chlor_a_features'].isel(stat=0).plot(\n",
    "    ax=ax,\n",
    "    transform=ccrs.PlateCarree(),  # Assuming your data is already in PlateCarree projection\n",
    "    cmap='viridis'\n",
    ")\n",
    "\n",
    "# Add coastlines and land features\n",
    "ax.coastlines(resolution='110m', zorder=2)\n",
    "ax.add_feature(cfeature.LAND, facecolor='lightgray', zorder=1)\n",
    "\n",
    "# Set plot extent (adjust these values as needed)\n",
    "ax.set_extent([-1.901, 15.061, 59.996, 67.961], crs=ccrs.PlateCarree())\n",
    "\n",
    "plt.title('Mean Chlorophyll-a')\n",
    "plt.xlabel('Xc') \n",
    "plt.ylabel('Yc') \n",
    "plt.show()\n"
   ]
  },
  {
   "cell_type": "code",
   "execution_count": null,
   "id": "7256eda3-1c02-4424-8ce5-5ba010b9416b",
   "metadata": {},
   "outputs": [],
   "source": []
  }
 ],
 "metadata": {
  "kernelspec": {
   "display_name": "Python 3 (ipykernel)",
   "language": "python",
   "name": "python3"
  },
  "language_info": {
   "codemirror_mode": {
    "name": "ipython",
    "version": 3
   },
   "file_extension": ".py",
   "mimetype": "text/x-python",
   "name": "python",
   "nbconvert_exporter": "python",
   "pygments_lexer": "ipython3",
   "version": "3.12.3"
  }
 },
 "nbformat": 4,
 "nbformat_minor": 5
}
