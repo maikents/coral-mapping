{
 "cells": [
  {
   "cell_type": "code",
   "execution_count": 4,
   "id": "e9118e2c-1209-40a3-9c8e-c4c9e21aa4ba",
   "metadata": {},
   "outputs": [],
   "source": [
    "import pandas as pd\n",
    "import pysal\n",
    "import numpy as np\n",
    "from esda.moran import Moran\n",
    "from libpysal import weights"
   ]
  },
  {
   "cell_type": "code",
   "execution_count": 17,
   "id": "6472ecbd-7c37-4aba-9ced-90bcdf8270ff",
   "metadata": {},
   "outputs": [],
   "source": [
    "combined_df_no_nans = pd.read_parquet(\"/cluster/home/maikents/sinmod_features_masters/dataframes_pipeline_4/total_df_no_nans_and_labels.parquet\")"
   ]
  },
  {
   "cell_type": "code",
   "execution_count": 6,
   "id": "5659915e-7f45-4023-9d57-94d2154f3930",
   "metadata": {},
   "outputs": [
    {
     "name": "stdout",
     "output_type": "stream",
     "text": [
      "Index(['x', 'y', 'bathymetry', 'slope', 'fine_BPI_std', 'broad_BPI_std',\n",
      "       'log_ruggedness', 'aspect_cos', 'aspect_sin',\n",
      "       'temperature_10th_percentile', 'temperature_mean',\n",
      "       'temperature_90th_percentile', 'salinity_10th_percentile',\n",
      "       'salinity_mean', 'salinity_90th_percentile', 'current_speed_mean',\n",
      "       'current_speed_90th_percentile', 'statistical_northness',\n",
      "       'statistical_eastness', 'current_aspect_angle', 'chlor_a_mean',\n",
      "       'labels'],\n",
      "      dtype='object')\n"
     ]
    }
   ],
   "source": [
    "print(combined_df_no_nans.columns)"
   ]
  },
  {
   "cell_type": "code",
   "execution_count": 5,
   "id": "7264f8ce-5ccc-4ac6-b04d-16444748220f",
   "metadata": {},
   "outputs": [],
   "source": [
    "#If no dim reduction: remove features after correlation analysis now"
   ]
  },
  {
   "cell_type": "code",
   "execution_count": 18,
   "id": "f83a03d5-2f58-4de0-9017-765adc965b4e",
   "metadata": {},
   "outputs": [],
   "source": [
    "combined_df_no_nans = combined_df_no_nans.drop(columns=['temperature_10th_percentile','temperature_90th_percentile', 'salinity_10th_percentile','salinity_90th_percentile',\n",
    "                                                       'current_speed_90th_percentile'], axis=1)"
   ]
  },
  {
   "cell_type": "code",
   "execution_count": 19,
   "id": "86459c77-afa2-42e8-a032-f400e04ab4bd",
   "metadata": {},
   "outputs": [],
   "source": [
    "coral_df = combined_df_no_nans[['x', 'y', 'labels']]"
   ]
  },
  {
   "cell_type": "code",
   "execution_count": 20,
   "id": "7ec2d547-ab4e-4948-bceb-b13d64226576",
   "metadata": {},
   "outputs": [],
   "source": [
    "absence_df = coral_df[coral_df['labels'] == 0]\n",
    "downsampled_absences = absence_df.sample(n=718, random_state=42)"
   ]
  },
  {
   "cell_type": "code",
   "execution_count": 21,
   "id": "c275b635-514c-45b8-a6cb-a0fefdb5cdc2",
   "metadata": {},
   "outputs": [],
   "source": [
    "presence_df = coral_df[coral_df['labels'] == 1]\n",
    "\n",
    "balanced_df = pd.concat([downsampled_absences, presence_df])\n",
    "\n",
    "balanced_df = balanced_df.sample(frac=1, random_state=42).reset_index(drop=True)"
   ]
  },
  {
   "cell_type": "code",
   "execution_count": 22,
   "id": "adfd2859-990f-4f87-8c2e-c32661e9bc21",
   "metadata": {},
   "outputs": [],
   "source": [
    "labels = balanced_df['labels'].values.reshape(-1, 1)"
   ]
  },
  {
   "cell_type": "code",
   "execution_count": 23,
   "id": "32957299-b9f2-4e5c-a2ac-316d5de409a4",
   "metadata": {},
   "outputs": [],
   "source": [
    "coords = balanced_df[['x', 'y']].values"
   ]
  },
  {
   "cell_type": "code",
   "execution_count": 24,
   "id": "03805cac-20be-4cf6-a7d5-0bc44875d504",
   "metadata": {},
   "outputs": [
    {
     "name": "stderr",
     "output_type": "stream",
     "text": [
      "/cluster/home/maikents/PyEnvCoralMapping/lib/python3.12/site-packages/libpysal/weights/distance.py:153: UserWarning: The weights matrix is not fully connected: \n",
      " There are 3 disconnected components.\n",
      "  W.__init__(self, neighbors, id_order=ids, **kwargs)\n"
     ]
    }
   ],
   "source": [
    "w = weights.KNN.from_array(coords, k=4)  # Create a KNN spatial weights matrix based on the coords\n",
    "                                         # k=4 means that the matrix should include the 4 nearest\n",
    "                                         # neighbors for each data point."
   ]
  },
  {
   "cell_type": "code",
   "execution_count": 25,
   "id": "f061f015-4f52-47db-9441-198cade2055e",
   "metadata": {},
   "outputs": [],
   "source": [
    "w.transform = 'r'"
   ]
  },
  {
   "cell_type": "code",
   "execution_count": 26,
   "id": "b909b69a-5e6c-4b4b-8b6a-942d28b6e1f8",
   "metadata": {},
   "outputs": [
    {
     "name": "stdout",
     "output_type": "stream",
     "text": [
      "Moran's I: 0.6853618004558114\n",
      "p-value: 0.001\n"
     ]
    }
   ],
   "source": [
    "moran = Moran(labels, w)\n",
    "\n",
    "print(f\"Moran's I: {moran.I}\")\n",
    "print(f\"p-value: {moran.p_sim}\")"
   ]
  },
  {
   "cell_type": "code",
   "execution_count": null,
   "id": "b10f2aee-af09-4b21-a089-1e6804b8694a",
   "metadata": {},
   "outputs": [],
   "source": []
  }
 ],
 "metadata": {
  "kernelspec": {
   "display_name": "Python 3 (ipykernel)",
   "language": "python",
   "name": "python3"
  },
  "language_info": {
   "codemirror_mode": {
    "name": "ipython",
    "version": 3
   },
   "file_extension": ".py",
   "mimetype": "text/x-python",
   "name": "python",
   "nbconvert_exporter": "python",
   "pygments_lexer": "ipython3",
   "version": "3.12.3"
  }
 },
 "nbformat": 4,
 "nbformat_minor": 5
}
