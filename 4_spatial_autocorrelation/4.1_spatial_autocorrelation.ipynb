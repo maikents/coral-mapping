{
 "cells": [
  {
   "cell_type": "code",
   "execution_count": 14,
   "id": "e9118e2c-1209-40a3-9c8e-c4c9e21aa4ba",
   "metadata": {},
   "outputs": [],
   "source": [
    "import pandas as pd\n",
    "import pysal\n",
    "import numpy as np\n",
    "from esda.moran import Moran\n",
    "from libpysal import weights"
   ]
  },
  {
   "cell_type": "code",
   "execution_count": 2,
   "id": "6472ecbd-7c37-4aba-9ced-90bcdf8270ff",
   "metadata": {},
   "outputs": [],
   "source": [
    "combined_df_no_nans = pd.read_parquet(\"/cluster/home/maikents/sinmod_features_masters/dataframes_pipeline_1/total_df_no_nans_and_labels.parquet\")"
   ]
  },
  {
   "cell_type": "code",
   "execution_count": 4,
   "id": "86459c77-afa2-42e8-a032-f400e04ab4bd",
   "metadata": {},
   "outputs": [],
   "source": [
    "coral_df = combined_df_no_nans[['x', 'y', 'labels']]"
   ]
  },
  {
   "cell_type": "code",
   "execution_count": 9,
   "id": "7ec2d547-ab4e-4948-bceb-b13d64226576",
   "metadata": {},
   "outputs": [],
   "source": [
    "absence_df = coral_df[coral_df['labels'] == 0]\n",
    "downsampled_absences = absence_df.sample(n=828, random_state=42)"
   ]
  },
  {
   "cell_type": "code",
   "execution_count": 10,
   "id": "c275b635-514c-45b8-a6cb-a0fefdb5cdc2",
   "metadata": {},
   "outputs": [],
   "source": [
    "presence_df = coral_df[coral_df['labels'] == 1]\n",
    "\n",
    "balanced_df = pd.concat([downsampled_absences, presence_df])\n",
    "\n",
    "balanced_df = balanced_df.sample(frac=1, random_state=42).reset_index(drop=True)"
   ]
  },
  {
   "cell_type": "code",
   "execution_count": 11,
   "id": "adfd2859-990f-4f87-8c2e-c32661e9bc21",
   "metadata": {},
   "outputs": [],
   "source": [
    "labels = balanced_df['labels'].values.reshape(-1, 1)"
   ]
  },
  {
   "cell_type": "code",
   "execution_count": 12,
   "id": "32957299-b9f2-4e5c-a2ac-316d5de409a4",
   "metadata": {},
   "outputs": [],
   "source": [
    "coords = balanced_df[['x', 'y']].values"
   ]
  },
  {
   "cell_type": "code",
   "execution_count": 15,
   "id": "03805cac-20be-4cf6-a7d5-0bc44875d504",
   "metadata": {},
   "outputs": [
    {
     "name": "stderr",
     "output_type": "stream",
     "text": [
      "/cluster/home/maikents/PyEnvCoralMapping/lib/python3.12/site-packages/libpysal/weights/distance.py:153: UserWarning: The weights matrix is not fully connected: \n",
      " There are 9 disconnected components.\n",
      "  W.__init__(self, neighbors, id_order=ids, **kwargs)\n"
     ]
    }
   ],
   "source": [
    "w = weights.KNN.from_array(coords, k=4)  # Create a KNN spatial weights matrix based on the coords\n",
    "                                         # k=4 means that the matrix should include the 4 nearest\n",
    "                                         # neighbors for each data point."
   ]
  },
  {
   "cell_type": "code",
   "execution_count": 16,
   "id": "f061f015-4f52-47db-9441-198cade2055e",
   "metadata": {},
   "outputs": [],
   "source": [
    "w.transform = 'r'"
   ]
  },
  {
   "cell_type": "code",
   "execution_count": 17,
   "id": "b909b69a-5e6c-4b4b-8b6a-942d28b6e1f8",
   "metadata": {},
   "outputs": [
    {
     "name": "stdout",
     "output_type": "stream",
     "text": [
      "Moran's I: 0.7185990338164251\n",
      "p-value: 0.001\n"
     ]
    }
   ],
   "source": [
    "moran = Moran(labels, w)\n",
    "\n",
    "print(f\"Moran's I: {moran.I}\")\n",
    "print(f\"p-value: {moran.p_sim}\")"
   ]
  }
 ],
 "metadata": {
  "kernelspec": {
   "display_name": "Python 3 (ipykernel)",
   "language": "python",
   "name": "python3"
  },
  "language_info": {
   "codemirror_mode": {
    "name": "ipython",
    "version": 3
   },
   "file_extension": ".py",
   "mimetype": "text/x-python",
   "name": "python",
   "nbconvert_exporter": "python",
   "pygments_lexer": "ipython3",
   "version": "3.12.3"
  }
 },
 "nbformat": 4,
 "nbformat_minor": 5
}
