{
 "cells": [
  {
   "cell_type": "code",
   "execution_count": 25,
   "id": "655d4764-34eb-4fb6-a818-07f52a74256c",
   "metadata": {},
   "outputs": [],
   "source": [
    "import numpy as np\n",
    "import time \n",
    "import os\n",
    "from netCDF4 import Dataset\n",
    "from pyproj import CRS\n",
    "import rasterio\n",
    "import xarray as xr\n",
    "import rioxarray\n",
    "from rasterio.enums import Resampling\n",
    "from sklearn.preprocessing import StandardScaler\n"
   ]
  },
  {
   "cell_type": "code",
   "execution_count": 10,
   "id": "a9457128-da72-4140-baf0-f9e97e826a37",
   "metadata": {},
   "outputs": [],
   "source": [
    "filename_physstates_2019 = '/cluster/projects/itk-SINMOD/coral-mapping/midnor/PhysStates_2019.nc'\n",
    "filename_physstates_2022 = '/cluster/projects/itk-SINMOD/coral-mapping/midnor/PhysStates_2022.nc'\n",
    "filename_physstates_2023 = '/cluster/projects/itk-SINMOD/coral-mapping/midnor/PhysStates_2023.nc'"
   ]
  },
  {
   "cell_type": "code",
   "execution_count": 3,
   "id": "2e03a0a4-9b7d-4d93-ad57-f034e6fb916f",
   "metadata": {},
   "outputs": [],
   "source": [
    "physstates_2023 = xr.open_dataset(filename_physstates_2023)"
   ]
  },
  {
   "cell_type": "code",
   "execution_count": 4,
   "id": "8b656645-c630-4c22-8e25-e7eb494922ee",
   "metadata": {},
   "outputs": [
    {
     "name": "stdout",
     "output_type": "stream",
     "text": [
      "['time', 'grid_mapping', 'LayerDepths', 'xc', 'yc', 'zc', 'depth', 'DXxDYy', 'u_velocity', 'v_velocity', 'elevation', 'temperature', 'salinity', 'ice_thickness', 'ice_compactness', 'salinity_ice']\n"
     ]
    }
   ],
   "source": [
    "print(list(physstates_2022.variables))"
   ]
  },
  {
   "cell_type": "code",
   "execution_count": 4,
   "id": "47020e53-4f8d-455c-b70e-f7a22a614bc1",
   "metadata": {},
   "outputs": [],
   "source": [
    "#Temperature (bottom)\n",
    "temp_2019 = physstates_2019['temperature']\n",
    "valid_mask = ~temp_2019.isnull() \n",
    "bottom_layer_idx = valid_mask.argmin(dim=\"zc\") - 1\n",
    "bottom_layer_idx = bottom_layer_idx.clip(min=0)\n",
    "no_valid_data_mask = valid_mask.sum(dim=\"zc\") == 0\n",
    "\n",
    "temp_bottom_layer_2019 = temp_2019.isel(zc=bottom_layer_idx)\n",
    "temp_bottom_layer_2019 = temp_bottom_layer_2019.where(~no_valid_data_mask, np.nan)"
   ]
  },
  {
   "cell_type": "code",
   "execution_count": 5,
   "id": "e513d764-40a6-4a22-89e2-f28c48d238e2",
   "metadata": {},
   "outputs": [],
   "source": [
    "temp_bottom_layer_2019.to_netcdf('/cluster/home/maikents/sinmod_combine_years/temp_bottom_layer_2019.nc')"
   ]
  },
  {
   "cell_type": "code",
   "execution_count": 6,
   "id": "6b3db9e1-598f-4e9d-a691-c64a384eb7af",
   "metadata": {},
   "outputs": [],
   "source": [
    "physstates_2019.close()"
   ]
  },
  {
   "cell_type": "code",
   "execution_count": 5,
   "id": "03022ccc-352d-491c-b0aa-a4fb24944908",
   "metadata": {},
   "outputs": [],
   "source": [
    "#Temperature (bottom)\n",
    "temp_2022 = physstates_2022['temperature']\n",
    "valid_mask = ~temp_2022.isnull() \n",
    "bottom_layer_idx = valid_mask.argmin(dim=\"zc\") - 1\n",
    "bottom_layer_idx = bottom_layer_idx.clip(min=0)\n",
    "no_valid_data_mask = valid_mask.sum(dim=\"zc\") == 0\n",
    "\n",
    "temp_bottom_layer_2022 = temp_2022.isel(zc=bottom_layer_idx)\n",
    "temp_bottom_layer_2022 = temp_bottom_layer_2022.where(~no_valid_data_mask, np.nan)"
   ]
  },
  {
   "cell_type": "code",
   "execution_count": 6,
   "id": "52915773-6246-494b-8e83-a8a3e53f3532",
   "metadata": {},
   "outputs": [],
   "source": [
    "temp_bottom_layer_2022.to_netcdf('/cluster/home/maikents/sinmod_combine_years/temp_bottom_layer_2022.nc')"
   ]
  },
  {
   "cell_type": "code",
   "execution_count": 8,
   "id": "4daadc17-4815-471d-9647-67e03bbf1232",
   "metadata": {},
   "outputs": [],
   "source": [
    "physstates_2022.close()"
   ]
  },
  {
   "cell_type": "code",
   "execution_count": 4,
   "id": "0b140908-b990-4655-9202-e63444d9d05e",
   "metadata": {},
   "outputs": [],
   "source": [
    "#Temperature (bottom)\n",
    "temp_2023 = physstates_2023['temperature']\n",
    "valid_mask = ~temp_2023.isnull() \n",
    "bottom_layer_idx = valid_mask.argmin(dim=\"zc\") - 1\n",
    "bottom_layer_idx = bottom_layer_idx.clip(min=0)\n",
    "no_valid_data_mask = valid_mask.sum(dim=\"zc\") == 0\n",
    "\n",
    "temp_bottom_layer_2023 = temp_2023.isel(zc=bottom_layer_idx)\n",
    "temp_bottom_layer_2023 = temp_bottom_layer_2023.where(~no_valid_data_mask, np.nan)"
   ]
  },
  {
   "cell_type": "code",
   "execution_count": 5,
   "id": "8d984506-4d90-416e-acfc-282aeab7addf",
   "metadata": {},
   "outputs": [],
   "source": [
    "temp_bottom_layer_2023.to_netcdf('/cluster/home/maikents/sinmod_combine_years/temp_bottom_layer_2023.nc')"
   ]
  },
  {
   "cell_type": "code",
   "execution_count": 3,
   "id": "f5ca111f-54ab-4b1a-9e82-0864572d0aef",
   "metadata": {},
   "outputs": [],
   "source": [
    "temp_bottom_layer_2019 = xr.open_dataset('/cluster/home/maikents/sinmod_combine_years/temp_bottom_layer_2019.nc')\n",
    "temp_bottom_layer_2022 = xr.open_dataset('/cluster/home/maikents/sinmod_combine_years/temp_bottom_layer_2022.nc')\n",
    "temp_bottom_layer_2023 = xr.open_dataset('/cluster/home/maikents/sinmod_combine_years/temp_bottom_layer_2023.nc')\n"
   ]
  },
  {
   "cell_type": "code",
   "execution_count": 8,
   "id": "6d917a26-b505-437a-8858-b312a0416bcf",
   "metadata": {},
   "outputs": [],
   "source": [
    "temp_bottom_layer_2022 = temp_bottom_layer_2022.isel(time=slice(0, 365))"
   ]
  },
  {
   "cell_type": "code",
   "execution_count": 10,
   "id": "3c8c6662-816d-4b77-a05f-552e8538420f",
   "metadata": {},
   "outputs": [],
   "source": [
    "temp_bottom_layer = xr.concat([temp_bottom_layer_2019, temp_bottom_layer_2022, temp_bottom_layer_2023], dim=\"time\")\n",
    "\n",
    "\n",
    "temp_bottom_layer.to_netcdf('/cluster/home/maikents/sinmod_combine_years/temp_bottom_layer.nc')\n"
   ]
  },
  {
   "cell_type": "code",
   "execution_count": 4,
   "id": "447a29e5-1ea8-48a5-8e19-7566ea2edb05",
   "metadata": {},
   "outputs": [],
   "source": [
    "#Salinity (bottom)\n",
    "sal_2019 = physstates_2019['salinity']\n",
    "valid_mask = ~sal_2019.isnull() \n",
    "bottom_layer_idx = valid_mask.argmin(dim=\"zc\") - 1\n",
    "bottom_layer_idx = bottom_layer_idx.clip(min=0)\n",
    "no_valid_data_mask = valid_mask.sum(dim=\"zc\") == 0\n",
    "\n",
    "sal_bottom_layer_2019 = sal_2019.isel(zc=bottom_layer_idx)\n",
    "sal_bottom_layer_2019 = sal_bottom_layer_2019.where(~no_valid_data_mask, np.nan)"
   ]
  },
  {
   "cell_type": "code",
   "execution_count": 5,
   "id": "9e2473e4-6b0e-4ca5-bca6-209d28128092",
   "metadata": {},
   "outputs": [],
   "source": [
    "sal_bottom_layer_2019.to_netcdf('/cluster/home/maikents/sinmod_combine_years/salinity_bottom_layer_2019.nc')"
   ]
  },
  {
   "cell_type": "code",
   "execution_count": 4,
   "id": "67c65a2f-6ccb-45b2-a9c1-7b3e079342cf",
   "metadata": {},
   "outputs": [],
   "source": [
    "#Salinity (bottom)\n",
    "sal_2022 = physstates_2022['salinity']\n",
    "valid_mask = ~sal_2022.isnull() \n",
    "bottom_layer_idx = valid_mask.argmin(dim=\"zc\") - 1\n",
    "bottom_layer_idx = bottom_layer_idx.clip(min=0)\n",
    "no_valid_data_mask = valid_mask.sum(dim=\"zc\") == 0\n",
    "\n",
    "sal_bottom_layer_2022 = sal_2022.isel(zc=bottom_layer_idx)\n",
    "sal_bottom_layer_2022 = sal_bottom_layer_2022.where(~no_valid_data_mask, np.nan)"
   ]
  },
  {
   "cell_type": "code",
   "execution_count": 5,
   "id": "62aab92f-7640-4a8c-aef6-84495ba6fddb",
   "metadata": {},
   "outputs": [],
   "source": [
    "sal_bottom_layer_2022.to_netcdf('/cluster/home/maikents/sinmod_combine_years/salinity_bottom_layer_2022.nc')"
   ]
  },
  {
   "cell_type": "code",
   "execution_count": 4,
   "id": "17c388f8-8fb9-4375-9fc9-cc414ac2789a",
   "metadata": {},
   "outputs": [],
   "source": [
    "#Salinity (bottom)\n",
    "sal_2023 = physstates_2023['salinity']\n",
    "valid_mask = ~sal_2023.isnull() \n",
    "bottom_layer_idx = valid_mask.argmin(dim=\"zc\") - 1\n",
    "bottom_layer_idx = bottom_layer_idx.clip(min=0)\n",
    "no_valid_data_mask = valid_mask.sum(dim=\"zc\") == 0\n",
    "\n",
    "sal_bottom_layer_2023 = sal_2023.isel(zc=bottom_layer_idx)\n",
    "sal_bottom_layer_2023 = sal_bottom_layer_2023.where(~no_valid_data_mask, np.nan)"
   ]
  },
  {
   "cell_type": "code",
   "execution_count": 5,
   "id": "aa52ad78-922a-430b-89f8-f092f73189ff",
   "metadata": {},
   "outputs": [],
   "source": [
    "sal_bottom_layer_2023.to_netcdf('/cluster/home/maikents/sinmod_combine_years/salinity_bottom_layer_2023.nc')"
   ]
  },
  {
   "cell_type": "code",
   "execution_count": 3,
   "id": "27af29fc-158d-4194-8ab3-e842d427dc09",
   "metadata": {},
   "outputs": [],
   "source": [
    "sal_bottom_layer_2019 = xr.open_dataset('/cluster/home/maikents/sinmod_combine_years/salinity_bottom_layer_2019.nc')\n",
    "sal_bottom_layer_2022 = xr.open_dataset('/cluster/home/maikents/sinmod_combine_years/salinity_bottom_layer_2022.nc')\n",
    "sal_bottom_layer_2023 = xr.open_dataset('/cluster/home/maikents/sinmod_combine_years/salinity_bottom_layer_2023.nc')\n"
   ]
  },
  {
   "cell_type": "code",
   "execution_count": 4,
   "id": "dfe6e174-c79e-4c13-a0b4-de152f847673",
   "metadata": {},
   "outputs": [],
   "source": [
    "sal_bottom_layer_2022 = sal_bottom_layer_2022.isel(time=slice(0, 365))"
   ]
  },
  {
   "cell_type": "code",
   "execution_count": 5,
   "id": "7dc7aea1-1b0c-432c-a933-fec91f9e3a8b",
   "metadata": {},
   "outputs": [],
   "source": [
    "sal_bottom_layer = xr.concat([sal_bottom_layer_2019, sal_bottom_layer_2022, sal_bottom_layer_2023], dim=\"time\")\n",
    "\n",
    "\n",
    "sal_bottom_layer.to_netcdf('/cluster/home/maikents/sinmod_combine_years/salinity_bottom_layer.nc')\n"
   ]
  },
  {
   "cell_type": "code",
   "execution_count": 9,
   "id": "c7b94276-45cd-475d-af0e-690ca0a70804",
   "metadata": {},
   "outputs": [],
   "source": [
    "#U_velocity (bottom)\n",
    "uvel_2019 = physstates_2019['u_velocity']\n",
    "valid_mask = ~uvel_2019.isnull() \n",
    "bottom_layer_idx = valid_mask.argmin(dim=\"zc\") - 1\n",
    "bottom_layer_idx = bottom_layer_idx.clip(min=0)\n",
    "no_valid_data_mask = valid_mask.sum(dim=\"zc\") == 0\n",
    "\n",
    "uvel_bottom_layer_2019 = uvel_2019.isel(zc=bottom_layer_idx)\n",
    "uvel_bottom_layer_2019 = uvel_bottom_layer_2019.where(~no_valid_data_mask, np.nan)"
   ]
  },
  {
   "cell_type": "code",
   "execution_count": 10,
   "id": "fb973f01-b82e-431e-8bd4-ac1c8322c186",
   "metadata": {},
   "outputs": [],
   "source": [
    "uvel_bottom_layer_2019.to_netcdf('/cluster/home/maikents/sinmod_combine_years/uvel_bottom_layer_2019.nc')"
   ]
  },
  {
   "cell_type": "code",
   "execution_count": 4,
   "id": "0e5837d4-03ae-4d05-8698-b39a62e14a2a",
   "metadata": {},
   "outputs": [],
   "source": [
    "#U_velocity (bottom)\n",
    "uvel_2022 = physstates_2022['u_velocity']\n",
    "valid_mask = ~uvel_2022.isnull() \n",
    "bottom_layer_idx = valid_mask.argmin(dim=\"zc\") - 1\n",
    "bottom_layer_idx = bottom_layer_idx.clip(min=0)\n",
    "no_valid_data_mask = valid_mask.sum(dim=\"zc\") == 0\n",
    "\n",
    "uvel_bottom_layer_2022 = uvel_2022.isel(zc=bottom_layer_idx)\n",
    "uvel_bottom_layer_2022 = uvel_bottom_layer_2022.where(~no_valid_data_mask, np.nan)"
   ]
  },
  {
   "cell_type": "code",
   "execution_count": 5,
   "id": "c9b48452-a893-44df-b29c-d9b507e455e8",
   "metadata": {},
   "outputs": [],
   "source": [
    "uvel_bottom_layer_2022.to_netcdf('/cluster/home/maikents/sinmod_combine_years/uvel_bottom_layer_2022.nc')"
   ]
  },
  {
   "cell_type": "code",
   "execution_count": 4,
   "id": "04fc4238-fad0-44b8-a98c-39520302d8be",
   "metadata": {},
   "outputs": [],
   "source": [
    "#U_velocity (bottom)\n",
    "uvel_2023 = physstates_2023['u_velocity']\n",
    "valid_mask = ~uvel_2023.isnull() \n",
    "bottom_layer_idx = valid_mask.argmin(dim=\"zc\") - 1\n",
    "bottom_layer_idx = bottom_layer_idx.clip(min=0)\n",
    "no_valid_data_mask = valid_mask.sum(dim=\"zc\") == 0\n",
    "\n",
    "uvel_bottom_layer_2023 = uvel_2023.isel(zc=bottom_layer_idx)\n",
    "uvel_bottom_layer_2023 = uvel_bottom_layer_2023.where(~no_valid_data_mask, np.nan)"
   ]
  },
  {
   "cell_type": "code",
   "execution_count": 5,
   "id": "b5467245-4328-4dc9-8ea5-2dc7da38ff71",
   "metadata": {},
   "outputs": [],
   "source": [
    "uvel_bottom_layer_2023.to_netcdf('/cluster/home/maikents/sinmod_combine_years/uvel_bottom_layer_2023.nc')"
   ]
  },
  {
   "cell_type": "code",
   "execution_count": 7,
   "id": "329cca6c-ea3b-4f45-916c-0ded9b6391e8",
   "metadata": {},
   "outputs": [],
   "source": [
    "uvel_bottom_layer_2019 = xr.open_dataset('/cluster/home/maikents/sinmod_combine_years/uvel_bottom_layer_2019.nc')\n",
    "uvel_bottom_layer_2022 = xr.open_dataset('/cluster/home/maikents/sinmod_combine_years/uvel_bottom_layer_2022.nc')\n",
    "uvel_bottom_layer_2023 = xr.open_dataset('/cluster/home/maikents/sinmod_combine_years/uvel_bottom_layer_2023.nc')\n"
   ]
  },
  {
   "cell_type": "code",
   "execution_count": 8,
   "id": "84d27a20-c8ae-41d4-b935-4da0060198d0",
   "metadata": {},
   "outputs": [],
   "source": [
    "uvel_bottom_layer_2022 = uvel_bottom_layer_2022.isel(time=slice(0, 365))"
   ]
  },
  {
   "cell_type": "code",
   "execution_count": 9,
   "id": "ecf29692-d2ea-440c-b27d-2665352adafc",
   "metadata": {},
   "outputs": [],
   "source": [
    "uvel_bottom_layer = xr.concat([uvel_bottom_layer_2019, uvel_bottom_layer_2022, uvel_bottom_layer_2023], dim=\"time\")\n",
    "\n",
    "\n",
    "uvel_bottom_layer.to_netcdf('/cluster/home/maikents/sinmod_combine_years/uvel_bottom_layer.nc')\n"
   ]
  },
  {
   "cell_type": "code",
   "execution_count": 4,
   "id": "e4a2728c-0518-43f2-8744-559a9bcf0e2b",
   "metadata": {},
   "outputs": [],
   "source": [
    "#V_velocity (bottom)\n",
    "vvel_2019 = physstates_2019['v_velocity']\n",
    "valid_mask = ~vvel_2019.isnull() \n",
    "bottom_layer_idx = valid_mask.argmin(dim=\"zc\") - 1\n",
    "bottom_layer_idx = bottom_layer_idx.clip(min=0)\n",
    "no_valid_data_mask = valid_mask.sum(dim=\"zc\") == 0\n",
    "\n",
    "vvel_bottom_layer_2019 = vvel_2019.isel(zc=bottom_layer_idx)\n",
    "vvel_bottom_layer_2019 = vvel_bottom_layer_2019.where(~no_valid_data_mask, np.nan)"
   ]
  },
  {
   "cell_type": "code",
   "execution_count": 5,
   "id": "176f6260-5da6-41ad-a6e8-27d7bdeeb006",
   "metadata": {},
   "outputs": [],
   "source": [
    "vvel_bottom_layer_2019.to_netcdf('/cluster/home/maikents/sinmod_combine_years/vvel_bottom_layer_2019.nc')"
   ]
  },
  {
   "cell_type": "code",
   "execution_count": 4,
   "id": "40cb346c-912d-4419-bdc7-49ebbad7c0c8",
   "metadata": {},
   "outputs": [],
   "source": [
    "#V_velocity (bottom)\n",
    "vvel_2022 = physstates_2022['v_velocity']\n",
    "valid_mask = ~vvel_2022.isnull() \n",
    "bottom_layer_idx = valid_mask.argmin(dim=\"zc\") - 1\n",
    "bottom_layer_idx = bottom_layer_idx.clip(min=0)\n",
    "no_valid_data_mask = valid_mask.sum(dim=\"zc\") == 0\n",
    "\n",
    "vvel_bottom_layer_2022 = vvel_2022.isel(zc=bottom_layer_idx)\n",
    "vvel_bottom_layer_2022 = vvel_bottom_layer_2022.where(~no_valid_data_mask, np.nan)"
   ]
  },
  {
   "cell_type": "code",
   "execution_count": 5,
   "id": "63d19663-6a5b-4de7-8fba-a6be4ae1947e",
   "metadata": {},
   "outputs": [],
   "source": [
    "vvel_bottom_layer_2022.to_netcdf('/cluster/home/maikents/sinmod_combine_years/vvel_bottom_layer_2022.nc')"
   ]
  },
  {
   "cell_type": "code",
   "execution_count": 4,
   "id": "e73f0ad0-b300-4ef0-b741-e8cec3c470d7",
   "metadata": {},
   "outputs": [],
   "source": [
    "#V_velocity (bottom)\n",
    "vvel_2023 = physstates_2023['v_velocity']\n",
    "valid_mask = ~vvel_2023.isnull() \n",
    "bottom_layer_idx = valid_mask.argmin(dim=\"zc\") - 1\n",
    "bottom_layer_idx = bottom_layer_idx.clip(min=0)\n",
    "no_valid_data_mask = valid_mask.sum(dim=\"zc\") == 0\n",
    "\n",
    "vvel_bottom_layer_2023 = vvel_2023.isel(zc=bottom_layer_idx)\n",
    "vvel_bottom_layer_2023 = vvel_bottom_layer_2023.where(~no_valid_data_mask, np.nan)"
   ]
  },
  {
   "cell_type": "code",
   "execution_count": 5,
   "id": "51b6d191-d3d6-4f75-a459-7106049ea299",
   "metadata": {},
   "outputs": [],
   "source": [
    "vvel_bottom_layer_2023.to_netcdf('/cluster/home/maikents/sinmod_combine_years/vvel_bottom_layer_2023.nc')"
   ]
  },
  {
   "cell_type": "code",
   "execution_count": 2,
   "id": "12fcf729-df11-42b3-98f7-f46ca974513e",
   "metadata": {},
   "outputs": [],
   "source": [
    "vvel_bottom_layer_2019 = xr.open_dataset('/cluster/home/maikents/sinmod_combine_years/vvel_bottom_layer_2019.nc')\n",
    "vvel_bottom_layer_2022 = xr.open_dataset('/cluster/home/maikents/sinmod_combine_years/vvel_bottom_layer_2022.nc')\n",
    "vvel_bottom_layer_2023 = xr.open_dataset('/cluster/home/maikents/sinmod_combine_years/vvel_bottom_layer_2023.nc')\n"
   ]
  },
  {
   "cell_type": "code",
   "execution_count": 3,
   "id": "47dd9714-14d2-416e-8acc-7589c2704bc0",
   "metadata": {},
   "outputs": [],
   "source": [
    "vvel_bottom_layer_2022 =vvel_bottom_layer_2022.isel(time=slice(0, 365))"
   ]
  },
  {
   "cell_type": "code",
   "execution_count": 4,
   "id": "1d36afbd-54d4-42be-b673-f01c1fd5ee9d",
   "metadata": {},
   "outputs": [],
   "source": [
    "vvel_bottom_layer = xr.concat([vvel_bottom_layer_2019, vvel_bottom_layer_2022, vvel_bottom_layer_2023], dim=\"time\")\n",
    "\n",
    "\n",
    "vvel_bottom_layer.to_netcdf('/cluster/home/maikents/sinmod_combine_years/vvel_bottom_layer.nc')\n"
   ]
  },
  {
   "cell_type": "code",
   "execution_count": 13,
   "id": "37c1357b-cc43-43ff-8b30-6869629d5704",
   "metadata": {},
   "outputs": [],
   "source": [
    "filename_physstates_2d = '/cluster/projects/itk-SINMOD/coral-mapping/midnor/samp_2D_jan_jun.nc'\n",
    "physstates_2d = xr.open_dataset(filename_physstates_2d)\n",
    "gridLons = physstates_2d['gridLons']"
   ]
  },
  {
   "cell_type": "code",
   "execution_count": 14,
   "id": "ff1f2b5f-7cb3-4799-b1d2-1aca388c7a84",
   "metadata": {},
   "outputs": [],
   "source": [
    "gridLons.to_netcdf('/cluster/home/maikents/sinmod_combine_years/gridLons.nc')\n"
   ]
  },
  {
   "cell_type": "code",
   "execution_count": null,
   "id": "19ad7be7-4055-4dd3-a430-f9217a8cc0f5",
   "metadata": {},
   "outputs": [],
   "source": [
    "'calanus_finmarchicus', 'calanus_glacialis'"
   ]
  },
  {
   "cell_type": "code",
   "execution_count": 47,
   "id": "5da7bc33-ef0a-4a5b-819c-f77e9970700e",
   "metadata": {},
   "outputs": [],
   "source": [
    "#Bio states\n",
    "filename_biostates_2019 = '/cluster/projects/itk-SINMOD/coral-mapping/midnor/BioStates_2019.nc'\n",
    "biostates_2019 = xr.open_dataset(filename_biostates_2019)"
   ]
  },
  {
   "cell_type": "code",
   "execution_count": 48,
   "id": "89dcb729-fa9d-4054-a7b4-3c0933466585",
   "metadata": {},
   "outputs": [],
   "source": [
    "filename_biostates_2022 = '/cluster/projects/itk-SINMOD/coral-mapping/midnor/BioStates_2022.nc'\n",
    "biostates_2022 = xr.open_dataset(filename_biostates_2022)"
   ]
  },
  {
   "cell_type": "code",
   "execution_count": 49,
   "id": "480eb16f-05b1-4437-84ea-5482d562bb5d",
   "metadata": {},
   "outputs": [],
   "source": [
    "filename_biostates_2023 = '/cluster/projects/itk-SINMOD/coral-mapping/midnor/BioStates_2023.nc'\n",
    "biostates_2023 = xr.open_dataset(filename_biostates_2023)"
   ]
  },
  {
   "cell_type": "code",
   "execution_count": 50,
   "id": "845b8733-d2e7-483f-ba13-0a1ea7bdc7e6",
   "metadata": {},
   "outputs": [],
   "source": [
    "calanus_glacialis_2019 = biostates_2019['calanus_glacialis']"
   ]
  },
  {
   "cell_type": "code",
   "execution_count": 51,
   "id": "69041cdf-2c3b-4783-96c5-9cf5bd67abef",
   "metadata": {},
   "outputs": [],
   "source": [
    "calanus_glacialis_2022 = biostates_2022['calanus_glacialis']"
   ]
  },
  {
   "cell_type": "code",
   "execution_count": 52,
   "id": "d52b312d-d417-4879-843d-fd84d11fccb0",
   "metadata": {},
   "outputs": [],
   "source": [
    "calanus_glacialis_2022  = calanus_glacialis_2022.isel(time=slice(0, 365))"
   ]
  },
  {
   "cell_type": "code",
   "execution_count": 53,
   "id": "5db8319d-99d4-4364-b369-b099ccc7c6db",
   "metadata": {},
   "outputs": [],
   "source": [
    "calanus_glacialis_2023 = biostates_2023['calanus_glacialis']"
   ]
  },
  {
   "cell_type": "code",
   "execution_count": 55,
   "id": "6a04f95a-ba40-4eba-a007-b42a3fac573a",
   "metadata": {},
   "outputs": [],
   "source": [
    "calanus_glacialis = xr.concat([calanus_glacialis_2019, calanus_glacialis_2022, calanus_glacialis_2023], dim=\"time\")\n",
    "\n",
    "\n",
    "calanus_glacialis.to_netcdf('/cluster/home/maikents/sinmod_combine_years/calanus_glacialis.nc')\n"
   ]
  },
  {
   "cell_type": "code",
   "execution_count": 56,
   "id": "a2fb47eb-1a3b-4171-8cdf-7b88bb00b17a",
   "metadata": {},
   "outputs": [],
   "source": [
    "calanus_finmarchicus_2019 = biostates_2019['calanus_finmarchicus']"
   ]
  },
  {
   "cell_type": "code",
   "execution_count": 57,
   "id": "08e7a5ba-164d-44ba-b095-7d7d68fe64b3",
   "metadata": {},
   "outputs": [],
   "source": [
    "calanus_finmarchicus_2022 = biostates_2022['calanus_finmarchicus']"
   ]
  },
  {
   "cell_type": "code",
   "execution_count": 58,
   "id": "4e1c9ece-287e-429b-a492-fc42de75b22e",
   "metadata": {},
   "outputs": [],
   "source": [
    "calanus_finmarchicus_2022  = calanus_finmarchicus_2022.isel(time=slice(0, 365))"
   ]
  },
  {
   "cell_type": "code",
   "execution_count": 59,
   "id": "a7010f5a-901d-4cbd-b3d9-8b52d89d2318",
   "metadata": {},
   "outputs": [],
   "source": [
    "calanus_finmarchicus_2023 = biostates_2023['calanus_finmarchicus']"
   ]
  },
  {
   "cell_type": "code",
   "execution_count": 60,
   "id": "ab606cf2-cf3d-4542-b4fb-fb297ff2af0b",
   "metadata": {},
   "outputs": [],
   "source": [
    "calanus_finmarchicus = xr.concat([calanus_finmarchicus_2019, calanus_finmarchicus_2022, calanus_finmarchicus_2023], dim=\"time\")\n",
    "\n",
    "\n",
    "calanus_finmarchicus.to_netcdf('/cluster/home/maikents/sinmod_combine_years/calanus_finmarchicus.nc')\n"
   ]
  }
 ],
 "metadata": {
  "kernelspec": {
   "display_name": "Python 3 (ipykernel)",
   "language": "python",
   "name": "python3"
  },
  "language_info": {
   "codemirror_mode": {
    "name": "ipython",
    "version": 3
   },
   "file_extension": ".py",
   "mimetype": "text/x-python",
   "name": "python",
   "nbconvert_exporter": "python",
   "pygments_lexer": "ipython3",
   "version": "3.12.3"
  }
 },
 "nbformat": 4,
 "nbformat_minor": 5
}
