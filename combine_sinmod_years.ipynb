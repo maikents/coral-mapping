{
 "cells": [
  {
   "cell_type": "code",
   "execution_count": 1,
   "id": "655d4764-34eb-4fb6-a818-07f52a74256c",
   "metadata": {},
   "outputs": [],
   "source": [
    "import numpy as np\n",
    "import time \n",
    "import os\n",
    "from netCDF4 import Dataset\n",
    "from pyproj import CRS\n",
    "import rasterio\n",
    "import xarray as xr\n",
    "import rioxarray\n",
    "from rasterio.enums import Resampling\n",
    "from sklearn.preprocessing import StandardScaler\n"
   ]
  },
  {
   "cell_type": "code",
   "execution_count": 10,
   "id": "a9457128-da72-4140-baf0-f9e97e826a37",
   "metadata": {},
   "outputs": [],
   "source": [
    "filename_physstates_2019 = '/cluster/projects/itk-SINMOD/coral-mapping/midnor/PhysStates_2019.nc'\n",
    "filename_physstates_2022 = '/cluster/projects/itk-SINMOD/coral-mapping/midnor/PhysStates_2022.nc'\n",
    "filename_physstates_2023 = '/cluster/projects/itk-SINMOD/coral-mapping/midnor/PhysStates_2023.nc'"
   ]
  },
  {
   "cell_type": "code",
   "execution_count": 11,
   "id": "2e03a0a4-9b7d-4d93-ad57-f034e6fb916f",
   "metadata": {},
   "outputs": [],
   "source": [
    "physstates_2023 = xr.open_dataset(filename_physstates_2023)"
   ]
  },
  {
   "cell_type": "code",
   "execution_count": 4,
   "id": "8b656645-c630-4c22-8e25-e7eb494922ee",
   "metadata": {},
   "outputs": [
    {
     "name": "stdout",
     "output_type": "stream",
     "text": [
      "['time', 'grid_mapping', 'LayerDepths', 'xc', 'yc', 'zc', 'depth', 'DXxDYy', 'u_velocity', 'v_velocity', 'elevation', 'temperature', 'salinity', 'ice_thickness', 'ice_compactness', 'salinity_ice']\n"
     ]
    }
   ],
   "source": [
    "print(list(physstates_2022.variables))"
   ]
  },
  {
   "cell_type": "code",
   "execution_count": 4,
   "id": "47020e53-4f8d-455c-b70e-f7a22a614bc1",
   "metadata": {},
   "outputs": [],
   "source": [
    "#Temperature (bottom)\n",
    "temp_2019 = physstates_2019['temperature']\n",
    "valid_mask = ~temp_2019.isnull() \n",
    "bottom_layer_idx = valid_mask.argmin(dim=\"zc\") - 1\n",
    "bottom_layer_idx = bottom_layer_idx.clip(min=0)\n",
    "no_valid_data_mask = valid_mask.sum(dim=\"zc\") == 0\n",
    "\n",
    "temp_bottom_layer_2019 = temp_2019.isel(zc=bottom_layer_idx)\n",
    "temp_bottom_layer_2019 = temp_bottom_layer_2019.where(~no_valid_data_mask, np.nan)"
   ]
  },
  {
   "cell_type": "code",
   "execution_count": 5,
   "id": "e513d764-40a6-4a22-89e2-f28c48d238e2",
   "metadata": {},
   "outputs": [],
   "source": [
    "temp_bottom_layer_2019.to_netcdf('/cluster/home/maikents/sinmod_combine_years/temp_bottom_layer_2019.nc')"
   ]
  },
  {
   "cell_type": "code",
   "execution_count": 6,
   "id": "6b3db9e1-598f-4e9d-a691-c64a384eb7af",
   "metadata": {},
   "outputs": [],
   "source": [
    "physstates_2019.close()"
   ]
  },
  {
   "cell_type": "code",
   "execution_count": 5,
   "id": "03022ccc-352d-491c-b0aa-a4fb24944908",
   "metadata": {},
   "outputs": [],
   "source": [
    "#Temperature (bottom)\n",
    "temp_2022 = physstates_2022['temperature']\n",
    "valid_mask = ~temp_2022.isnull() \n",
    "bottom_layer_idx = valid_mask.argmin(dim=\"zc\") - 1\n",
    "bottom_layer_idx = bottom_layer_idx.clip(min=0)\n",
    "no_valid_data_mask = valid_mask.sum(dim=\"zc\") == 0\n",
    "\n",
    "temp_bottom_layer_2022 = temp_2022.isel(zc=bottom_layer_idx)\n",
    "temp_bottom_layer_2022 = temp_bottom_layer_2022.where(~no_valid_data_mask, np.nan)"
   ]
  },
  {
   "cell_type": "code",
   "execution_count": 6,
   "id": "52915773-6246-494b-8e83-a8a3e53f3532",
   "metadata": {},
   "outputs": [],
   "source": [
    "temp_bottom_layer_2022.to_netcdf('/cluster/home/maikents/sinmod_combine_years/temp_bottom_layer_2022.nc')"
   ]
  },
  {
   "cell_type": "code",
   "execution_count": 8,
   "id": "4daadc17-4815-471d-9647-67e03bbf1232",
   "metadata": {},
   "outputs": [],
   "source": [
    "physstates_2022.close()"
   ]
  },
  {
   "cell_type": "code",
   "execution_count": 4,
   "id": "0b140908-b990-4655-9202-e63444d9d05e",
   "metadata": {},
   "outputs": [],
   "source": [
    "#Temperature (bottom)\n",
    "temp_2023 = physstates_2023['temperature']\n",
    "valid_mask = ~temp_2023.isnull() \n",
    "bottom_layer_idx = valid_mask.argmin(dim=\"zc\") - 1\n",
    "bottom_layer_idx = bottom_layer_idx.clip(min=0)\n",
    "no_valid_data_mask = valid_mask.sum(dim=\"zc\") == 0\n",
    "\n",
    "temp_bottom_layer_2023 = temp_2023.isel(zc=bottom_layer_idx)\n",
    "temp_bottom_layer_2023 = temp_bottom_layer_2023.where(~no_valid_data_mask, np.nan)"
   ]
  },
  {
   "cell_type": "code",
   "execution_count": 5,
   "id": "8d984506-4d90-416e-acfc-282aeab7addf",
   "metadata": {},
   "outputs": [],
   "source": [
    "temp_bottom_layer_2023.to_netcdf('/cluster/home/maikents/sinmod_combine_years/temp_bottom_layer_2023.nc')"
   ]
  },
  {
   "cell_type": "code",
   "execution_count": 3,
   "id": "f5ca111f-54ab-4b1a-9e82-0864572d0aef",
   "metadata": {},
   "outputs": [],
   "source": [
    "temp_bottom_layer_2019 = xr.open_dataset('/cluster/home/maikents/sinmod_combine_years/temp_bottom_layer_2019.nc')\n",
    "temp_bottom_layer_2022 = xr.open_dataset('/cluster/home/maikents/sinmod_combine_years/temp_bottom_layer_2022.nc')\n",
    "temp_bottom_layer_2023 = xr.open_dataset('/cluster/home/maikents/sinmod_combine_years/temp_bottom_layer_2023.nc')\n"
   ]
  },
  {
   "cell_type": "code",
   "execution_count": 8,
   "id": "6d917a26-b505-437a-8858-b312a0416bcf",
   "metadata": {},
   "outputs": [],
   "source": [
    "temp_bottom_layer_2022 = temp_bottom_layer_2022.isel(time=slice(0, 365))"
   ]
  },
  {
   "cell_type": "code",
   "execution_count": 10,
   "id": "3c8c6662-816d-4b77-a05f-552e8538420f",
   "metadata": {},
   "outputs": [],
   "source": [
    "temp_bottom_layer = xr.concat([temp_bottom_layer_2019, temp_bottom_layer_2022, temp_bottom_layer_2023], dim=\"time\")\n",
    "\n",
    "\n",
    "temp_bottom_layer.to_netcdf('/cluster/home/maikents/sinmod_combine_years/temp_bottom_layer.nc')\n"
   ]
  },
  {
   "cell_type": "code",
   "execution_count": 4,
   "id": "447a29e5-1ea8-48a5-8e19-7566ea2edb05",
   "metadata": {},
   "outputs": [],
   "source": [
    "#Salinity (bottom)\n",
    "sal_2019 = physstates_2019['salinity']\n",
    "valid_mask = ~sal_2019.isnull() \n",
    "bottom_layer_idx = valid_mask.argmin(dim=\"zc\") - 1\n",
    "bottom_layer_idx = bottom_layer_idx.clip(min=0)\n",
    "no_valid_data_mask = valid_mask.sum(dim=\"zc\") == 0\n",
    "\n",
    "sal_bottom_layer_2019 = sal_2019.isel(zc=bottom_layer_idx)\n",
    "sal_bottom_layer_2019 = sal_bottom_layer_2019.where(~no_valid_data_mask, np.nan)"
   ]
  },
  {
   "cell_type": "code",
   "execution_count": 5,
   "id": "9e2473e4-6b0e-4ca5-bca6-209d28128092",
   "metadata": {},
   "outputs": [],
   "source": [
    "sal_bottom_layer_2019.to_netcdf('/cluster/home/maikents/sinmod_combine_years/salinity_bottom_layer_2019.nc')"
   ]
  },
  {
   "cell_type": "code",
   "execution_count": 4,
   "id": "67c65a2f-6ccb-45b2-a9c1-7b3e079342cf",
   "metadata": {},
   "outputs": [],
   "source": [
    "#Salinity (bottom)\n",
    "sal_2022 = physstates_2022['salinity']\n",
    "valid_mask = ~sal_2022.isnull() \n",
    "bottom_layer_idx = valid_mask.argmin(dim=\"zc\") - 1\n",
    "bottom_layer_idx = bottom_layer_idx.clip(min=0)\n",
    "no_valid_data_mask = valid_mask.sum(dim=\"zc\") == 0\n",
    "\n",
    "sal_bottom_layer_2022 = sal_2022.isel(zc=bottom_layer_idx)\n",
    "sal_bottom_layer_2022 = sal_bottom_layer_2022.where(~no_valid_data_mask, np.nan)"
   ]
  },
  {
   "cell_type": "code",
   "execution_count": 5,
   "id": "62aab92f-7640-4a8c-aef6-84495ba6fddb",
   "metadata": {},
   "outputs": [],
   "source": [
    "sal_bottom_layer_2022.to_netcdf('/cluster/home/maikents/sinmod_combine_years/salinity_bottom_layer_2022.nc')"
   ]
  },
  {
   "cell_type": "code",
   "execution_count": 4,
   "id": "17c388f8-8fb9-4375-9fc9-cc414ac2789a",
   "metadata": {},
   "outputs": [],
   "source": [
    "#Salinity (bottom)\n",
    "sal_2023 = physstates_2023['salinity']\n",
    "valid_mask = ~sal_2023.isnull() \n",
    "bottom_layer_idx = valid_mask.argmin(dim=\"zc\") - 1\n",
    "bottom_layer_idx = bottom_layer_idx.clip(min=0)\n",
    "no_valid_data_mask = valid_mask.sum(dim=\"zc\") == 0\n",
    "\n",
    "sal_bottom_layer_2023 = sal_2023.isel(zc=bottom_layer_idx)\n",
    "sal_bottom_layer_2023 = sal_bottom_layer_2023.where(~no_valid_data_mask, np.nan)"
   ]
  },
  {
   "cell_type": "code",
   "execution_count": 5,
   "id": "aa52ad78-922a-430b-89f8-f092f73189ff",
   "metadata": {},
   "outputs": [],
   "source": [
    "sal_bottom_layer_2023.to_netcdf('/cluster/home/maikents/sinmod_combine_years/salinity_bottom_layer_2023.nc')"
   ]
  },
  {
   "cell_type": "code",
   "execution_count": 3,
   "id": "27af29fc-158d-4194-8ab3-e842d427dc09",
   "metadata": {},
   "outputs": [],
   "source": [
    "sal_bottom_layer_2019 = xr.open_dataset('/cluster/home/maikents/sinmod_combine_years/salinity_bottom_layer_2019.nc')\n",
    "sal_bottom_layer_2022 = xr.open_dataset('/cluster/home/maikents/sinmod_combine_years/salinity_bottom_layer_2022.nc')\n",
    "sal_bottom_layer_2023 = xr.open_dataset('/cluster/home/maikents/sinmod_combine_years/salinity_bottom_layer_2023.nc')\n"
   ]
  },
  {
   "cell_type": "code",
   "execution_count": 4,
   "id": "dfe6e174-c79e-4c13-a0b4-de152f847673",
   "metadata": {},
   "outputs": [],
   "source": [
    "sal_bottom_layer_2022 = sal_bottom_layer_2022.isel(time=slice(0, 365))"
   ]
  },
  {
   "cell_type": "code",
   "execution_count": 5,
   "id": "7dc7aea1-1b0c-432c-a933-fec91f9e3a8b",
   "metadata": {},
   "outputs": [],
   "source": [
    "sal_bottom_layer = xr.concat([sal_bottom_layer_2019, sal_bottom_layer_2022, sal_bottom_layer_2023], dim=\"time\")\n",
    "\n",
    "\n",
    "sal_bottom_layer.to_netcdf('/cluster/home/maikents/sinmod_combine_years/salinity_bottom_layer.nc')\n"
   ]
  },
  {
   "cell_type": "code",
   "execution_count": 9,
   "id": "c7b94276-45cd-475d-af0e-690ca0a70804",
   "metadata": {},
   "outputs": [],
   "source": [
    "#U_velocity (bottom)\n",
    "uvel_2019 = physstates_2019['u_velocity']\n",
    "valid_mask = ~uvel_2019.isnull() \n",
    "bottom_layer_idx = valid_mask.argmin(dim=\"zc\") - 1\n",
    "bottom_layer_idx = bottom_layer_idx.clip(min=0)\n",
    "no_valid_data_mask = valid_mask.sum(dim=\"zc\") == 0\n",
    "\n",
    "uvel_bottom_layer_2019 = uvel_2019.isel(zc=bottom_layer_idx)\n",
    "uvel_bottom_layer_2019 = uvel_bottom_layer_2019.where(~no_valid_data_mask, np.nan)"
   ]
  },
  {
   "cell_type": "code",
   "execution_count": 10,
   "id": "fb973f01-b82e-431e-8bd4-ac1c8322c186",
   "metadata": {},
   "outputs": [],
   "source": [
    "uvel_bottom_layer_2019.to_netcdf('/cluster/home/maikents/sinmod_combine_years/uvel_bottom_layer_2019.nc')"
   ]
  },
  {
   "cell_type": "code",
   "execution_count": 4,
   "id": "0e5837d4-03ae-4d05-8698-b39a62e14a2a",
   "metadata": {},
   "outputs": [],
   "source": [
    "#U_velocity (bottom)\n",
    "uvel_2022 = physstates_2022['u_velocity']\n",
    "valid_mask = ~uvel_2022.isnull() \n",
    "bottom_layer_idx = valid_mask.argmin(dim=\"zc\") - 1\n",
    "bottom_layer_idx = bottom_layer_idx.clip(min=0)\n",
    "no_valid_data_mask = valid_mask.sum(dim=\"zc\") == 0\n",
    "\n",
    "uvel_bottom_layer_2022 = uvel_2022.isel(zc=bottom_layer_idx)\n",
    "uvel_bottom_layer_2022 = uvel_bottom_layer_2022.where(~no_valid_data_mask, np.nan)"
   ]
  },
  {
   "cell_type": "code",
   "execution_count": 5,
   "id": "c9b48452-a893-44df-b29c-d9b507e455e8",
   "metadata": {},
   "outputs": [],
   "source": [
    "uvel_bottom_layer_2022.to_netcdf('/cluster/home/maikents/sinmod_combine_years/uvel_bottom_layer_2022.nc')"
   ]
  },
  {
   "cell_type": "code",
   "execution_count": 4,
   "id": "04fc4238-fad0-44b8-a98c-39520302d8be",
   "metadata": {},
   "outputs": [],
   "source": [
    "#U_velocity (bottom)\n",
    "uvel_2023 = physstates_2023['u_velocity']\n",
    "valid_mask = ~uvel_2023.isnull() \n",
    "bottom_layer_idx = valid_mask.argmin(dim=\"zc\") - 1\n",
    "bottom_layer_idx = bottom_layer_idx.clip(min=0)\n",
    "no_valid_data_mask = valid_mask.sum(dim=\"zc\") == 0\n",
    "\n",
    "uvel_bottom_layer_2023 = uvel_2023.isel(zc=bottom_layer_idx)\n",
    "uvel_bottom_layer_2023 = uvel_bottom_layer_2023.where(~no_valid_data_mask, np.nan)"
   ]
  },
  {
   "cell_type": "code",
   "execution_count": 5,
   "id": "b5467245-4328-4dc9-8ea5-2dc7da38ff71",
   "metadata": {},
   "outputs": [],
   "source": [
    "uvel_bottom_layer_2023.to_netcdf('/cluster/home/maikents/sinmod_combine_years/uvel_bottom_layer_2023.nc')"
   ]
  },
  {
   "cell_type": "code",
   "execution_count": 7,
   "id": "329cca6c-ea3b-4f45-916c-0ded9b6391e8",
   "metadata": {},
   "outputs": [],
   "source": [
    "uvel_bottom_layer_2019 = xr.open_dataset('/cluster/home/maikents/sinmod_combine_years/uvel_bottom_layer_2019.nc')\n",
    "uvel_bottom_layer_2022 = xr.open_dataset('/cluster/home/maikents/sinmod_combine_years/uvel_bottom_layer_2022.nc')\n",
    "uvel_bottom_layer_2023 = xr.open_dataset('/cluster/home/maikents/sinmod_combine_years/uvel_bottom_layer_2023.nc')\n"
   ]
  },
  {
   "cell_type": "code",
   "execution_count": 8,
   "id": "84d27a20-c8ae-41d4-b935-4da0060198d0",
   "metadata": {},
   "outputs": [],
   "source": [
    "uvel_bottom_layer_2022 = uvel_bottom_layer_2022.isel(time=slice(0, 365))"
   ]
  },
  {
   "cell_type": "code",
   "execution_count": 9,
   "id": "ecf29692-d2ea-440c-b27d-2665352adafc",
   "metadata": {},
   "outputs": [],
   "source": [
    "uvel_bottom_layer = xr.concat([uvel_bottom_layer_2019, uvel_bottom_layer_2022, uvel_bottom_layer_2023], dim=\"time\")\n",
    "\n",
    "\n",
    "uvel_bottom_layer.to_netcdf('/cluster/home/maikents/sinmod_combine_years/uvel_bottom_layer.nc')\n"
   ]
  },
  {
   "cell_type": "code",
   "execution_count": 4,
   "id": "e4a2728c-0518-43f2-8744-559a9bcf0e2b",
   "metadata": {},
   "outputs": [],
   "source": [
    "#V_velocity (bottom)\n",
    "vvel_2019 = physstates_2019['v_velocity']\n",
    "valid_mask = ~vvel_2019.isnull() \n",
    "bottom_layer_idx = valid_mask.argmin(dim=\"zc\") - 1\n",
    "bottom_layer_idx = bottom_layer_idx.clip(min=0)\n",
    "no_valid_data_mask = valid_mask.sum(dim=\"zc\") == 0\n",
    "\n",
    "vvel_bottom_layer_2019 = vvel_2019.isel(zc=bottom_layer_idx)\n",
    "vvel_bottom_layer_2019 = vvel_bottom_layer_2019.where(~no_valid_data_mask, np.nan)"
   ]
  },
  {
   "cell_type": "code",
   "execution_count": 5,
   "id": "176f6260-5da6-41ad-a6e8-27d7bdeeb006",
   "metadata": {},
   "outputs": [],
   "source": [
    "vvel_bottom_layer_2019.to_netcdf('/cluster/home/maikents/sinmod_combine_years/vvel_bottom_layer_2019.nc')"
   ]
  },
  {
   "cell_type": "code",
   "execution_count": 4,
   "id": "40cb346c-912d-4419-bdc7-49ebbad7c0c8",
   "metadata": {},
   "outputs": [],
   "source": [
    "#V_velocity (bottom)\n",
    "vvel_2022 = physstates_2022['v_velocity']\n",
    "valid_mask = ~vvel_2022.isnull() \n",
    "bottom_layer_idx = valid_mask.argmin(dim=\"zc\") - 1\n",
    "bottom_layer_idx = bottom_layer_idx.clip(min=0)\n",
    "no_valid_data_mask = valid_mask.sum(dim=\"zc\") == 0\n",
    "\n",
    "vvel_bottom_layer_2022 = vvel_2022.isel(zc=bottom_layer_idx)\n",
    "vvel_bottom_layer_2022 = vvel_bottom_layer_2022.where(~no_valid_data_mask, np.nan)"
   ]
  },
  {
   "cell_type": "code",
   "execution_count": 5,
   "id": "63d19663-6a5b-4de7-8fba-a6be4ae1947e",
   "metadata": {},
   "outputs": [],
   "source": [
    "vvel_bottom_layer_2022.to_netcdf('/cluster/home/maikents/sinmod_combine_years/vvel_bottom_layer_2022.nc')"
   ]
  },
  {
   "cell_type": "code",
   "execution_count": 4,
   "id": "e73f0ad0-b300-4ef0-b741-e8cec3c470d7",
   "metadata": {},
   "outputs": [],
   "source": [
    "#V_velocity (bottom)\n",
    "vvel_2023 = physstates_2023['v_velocity']\n",
    "valid_mask = ~vvel_2023.isnull() \n",
    "bottom_layer_idx = valid_mask.argmin(dim=\"zc\") - 1\n",
    "bottom_layer_idx = bottom_layer_idx.clip(min=0)\n",
    "no_valid_data_mask = valid_mask.sum(dim=\"zc\") == 0\n",
    "\n",
    "vvel_bottom_layer_2023 = vvel_2023.isel(zc=bottom_layer_idx)\n",
    "vvel_bottom_layer_2023 = vvel_bottom_layer_2023.where(~no_valid_data_mask, np.nan)"
   ]
  },
  {
   "cell_type": "code",
   "execution_count": 5,
   "id": "51b6d191-d3d6-4f75-a459-7106049ea299",
   "metadata": {},
   "outputs": [],
   "source": [
    "vvel_bottom_layer_2023.to_netcdf('/cluster/home/maikents/sinmod_combine_years/vvel_bottom_layer_2023.nc')"
   ]
  },
  {
   "cell_type": "code",
   "execution_count": 2,
   "id": "12fcf729-df11-42b3-98f7-f46ca974513e",
   "metadata": {},
   "outputs": [],
   "source": [
    "vvel_bottom_layer_2019 = xr.open_dataset('/cluster/home/maikents/sinmod_combine_years/vvel_bottom_layer_2019.nc')\n",
    "vvel_bottom_layer_2022 = xr.open_dataset('/cluster/home/maikents/sinmod_combine_years/vvel_bottom_layer_2022.nc')\n",
    "vvel_bottom_layer_2023 = xr.open_dataset('/cluster/home/maikents/sinmod_combine_years/vvel_bottom_layer_2023.nc')\n"
   ]
  },
  {
   "cell_type": "code",
   "execution_count": 3,
   "id": "47dd9714-14d2-416e-8acc-7589c2704bc0",
   "metadata": {},
   "outputs": [],
   "source": [
    "vvel_bottom_layer_2022 =vvel_bottom_layer_2022.isel(time=slice(0, 365))"
   ]
  },
  {
   "cell_type": "code",
   "execution_count": 4,
   "id": "1d36afbd-54d4-42be-b673-f01c1fd5ee9d",
   "metadata": {},
   "outputs": [],
   "source": [
    "vvel_bottom_layer = xr.concat([vvel_bottom_layer_2019, vvel_bottom_layer_2022, vvel_bottom_layer_2023], dim=\"time\")\n",
    "\n",
    "\n",
    "vvel_bottom_layer.to_netcdf('/cluster/home/maikents/sinmod_combine_years/vvel_bottom_layer.nc')\n"
   ]
  },
  {
   "cell_type": "code",
   "execution_count": 13,
   "id": "37c1357b-cc43-43ff-8b30-6869629d5704",
   "metadata": {},
   "outputs": [],
   "source": [
    "filename_physstates_2d = '/cluster/projects/itk-SINMOD/coral-mapping/midnor/samp_2D_jan_jun.nc'\n",
    "physstates_2d = xr.open_dataset(filename_physstates_2d)\n",
    "gridLons = physstates_2d['gridLons']"
   ]
  },
  {
   "cell_type": "code",
   "execution_count": 14,
   "id": "ff1f2b5f-7cb3-4799-b1d2-1aca388c7a84",
   "metadata": {},
   "outputs": [],
   "source": [
    "gridLons.to_netcdf('/cluster/home/maikents/sinmod_combine_years/gridLons.nc')\n"
   ]
  },
  {
   "cell_type": "code",
   "execution_count": null,
   "id": "19ad7be7-4055-4dd3-a430-f9217a8cc0f5",
   "metadata": {},
   "outputs": [],
   "source": [
    "'calanus_finmarchicus', 'calanus_glacialis'"
   ]
  },
  {
   "cell_type": "code",
   "execution_count": 47,
   "id": "5da7bc33-ef0a-4a5b-819c-f77e9970700e",
   "metadata": {},
   "outputs": [],
   "source": [
    "#Bio states\n",
    "filename_biostates_2019 = '/cluster/projects/itk-SINMOD/coral-mapping/midnor/BioStates_2019.nc'\n",
    "biostates_2019 = xr.open_dataset(filename_biostates_2019)"
   ]
  },
  {
   "cell_type": "code",
   "execution_count": 48,
   "id": "89dcb729-fa9d-4054-a7b4-3c0933466585",
   "metadata": {},
   "outputs": [],
   "source": [
    "filename_biostates_2022 = '/cluster/projects/itk-SINMOD/coral-mapping/midnor/BioStates_2022.nc'\n",
    "biostates_2022 = xr.open_dataset(filename_biostates_2022)"
   ]
  },
  {
   "cell_type": "code",
   "execution_count": 49,
   "id": "480eb16f-05b1-4437-84ea-5482d562bb5d",
   "metadata": {},
   "outputs": [],
   "source": [
    "filename_biostates_2023 = '/cluster/projects/itk-SINMOD/coral-mapping/midnor/BioStates_2023.nc'\n",
    "biostates_2023 = xr.open_dataset(filename_biostates_2023)"
   ]
  },
  {
   "cell_type": "code",
   "execution_count": 50,
   "id": "845b8733-d2e7-483f-ba13-0a1ea7bdc7e6",
   "metadata": {},
   "outputs": [],
   "source": [
    "calanus_glacialis_2019 = biostates_2019['calanus_glacialis']"
   ]
  },
  {
   "cell_type": "code",
   "execution_count": 51,
   "id": "69041cdf-2c3b-4783-96c5-9cf5bd67abef",
   "metadata": {},
   "outputs": [],
   "source": [
    "calanus_glacialis_2022 = biostates_2022['calanus_glacialis']"
   ]
  },
  {
   "cell_type": "code",
   "execution_count": 52,
   "id": "d52b312d-d417-4879-843d-fd84d11fccb0",
   "metadata": {},
   "outputs": [],
   "source": [
    "calanus_glacialis_2022  = calanus_glacialis_2022.isel(time=slice(0, 365))"
   ]
  },
  {
   "cell_type": "code",
   "execution_count": 53,
   "id": "5db8319d-99d4-4364-b369-b099ccc7c6db",
   "metadata": {},
   "outputs": [],
   "source": [
    "calanus_glacialis_2023 = biostates_2023['calanus_glacialis']"
   ]
  },
  {
   "cell_type": "code",
   "execution_count": 55,
   "id": "6a04f95a-ba40-4eba-a007-b42a3fac573a",
   "metadata": {},
   "outputs": [],
   "source": [
    "calanus_glacialis = xr.concat([calanus_glacialis_2019, calanus_glacialis_2022, calanus_glacialis_2023], dim=\"time\")\n",
    "\n",
    "\n",
    "calanus_glacialis.to_netcdf('/cluster/home/maikents/sinmod_combine_years/calanus_glacialis.nc')\n"
   ]
  },
  {
   "cell_type": "code",
   "execution_count": 56,
   "id": "a2fb47eb-1a3b-4171-8cdf-7b88bb00b17a",
   "metadata": {},
   "outputs": [],
   "source": [
    "calanus_finmarchicus_2019 = biostates_2019['calanus_finmarchicus']"
   ]
  },
  {
   "cell_type": "code",
   "execution_count": 57,
   "id": "08e7a5ba-164d-44ba-b095-7d7d68fe64b3",
   "metadata": {},
   "outputs": [],
   "source": [
    "calanus_finmarchicus_2022 = biostates_2022['calanus_finmarchicus']"
   ]
  },
  {
   "cell_type": "code",
   "execution_count": 58,
   "id": "4e1c9ece-287e-429b-a492-fc42de75b22e",
   "metadata": {},
   "outputs": [],
   "source": [
    "calanus_finmarchicus_2022  = calanus_finmarchicus_2022.isel(time=slice(0, 365))"
   ]
  },
  {
   "cell_type": "code",
   "execution_count": 59,
   "id": "a7010f5a-901d-4cbd-b3d9-8b52d89d2318",
   "metadata": {},
   "outputs": [],
   "source": [
    "calanus_finmarchicus_2023 = biostates_2023['calanus_finmarchicus']"
   ]
  },
  {
   "cell_type": "code",
   "execution_count": 60,
   "id": "ab606cf2-cf3d-4542-b4fb-fb297ff2af0b",
   "metadata": {},
   "outputs": [],
   "source": [
    "calanus_finmarchicus = xr.concat([calanus_finmarchicus_2019, calanus_finmarchicus_2022, calanus_finmarchicus_2023], dim=\"time\")\n",
    "\n",
    "\n",
    "calanus_finmarchicus.to_netcdf('/cluster/home/maikents/sinmod_combine_years/calanus_finmarchicus.nc')\n"
   ]
  },
  {
   "cell_type": "code",
   "execution_count": 2,
   "id": "63c6c9f9-cd7c-4ebd-bc26-e5d676db89e0",
   "metadata": {},
   "outputs": [],
   "source": [
    "#Calculate current speed and save\n",
    "uvel_bottom_layer = xr.open_dataset('/cluster/home/maikents/sinmod_combine_years/uvel_bottom_layer.nc')\n",
    "vvel_bottom_layer = xr.open_dataset('/cluster/home/maikents/sinmod_combine_years/vvel_bottom_layer.nc')\n"
   ]
  },
  {
   "cell_type": "code",
   "execution_count": 5,
   "id": "a7c389ca-6de6-4e52-8e57-5deb569b7fb9",
   "metadata": {},
   "outputs": [],
   "source": [
    "uvel = uvel_bottom_layer['u_velocity']\n",
    "vvel = vvel_bottom_layer['v_velocity']"
   ]
  },
  {
   "cell_type": "code",
   "execution_count": 4,
   "id": "99e377e6-d9cb-4f97-be4f-06f1a08ea1c4",
   "metadata": {},
   "outputs": [
    {
     "name": "stdout",
     "output_type": "stream",
     "text": [
      "<xarray.Dataset> Size: 5GB\n",
      "Dimensions:     (time: 1095, yc: 555, xc: 950)\n",
      "Coordinates:\n",
      "  * xc          (xc) float32 4kB 800.0 1.6e+03 2.4e+03 ... 7.592e+05 7.6e+05\n",
      "  * yc          (yc) float32 2kB 800.0 1.6e+03 2.4e+03 ... 4.432e+05 4.44e+05\n",
      "    zc          (time, yc, xc) float32 2GB ...\n",
      "Dimensions without coordinates: time\n",
      "Data variables:\n",
      "    v_velocity  (time, yc, xc) float32 2GB ...\n"
     ]
    }
   ],
   "source": [
    "print(vvel_bottom_layer)"
   ]
  },
  {
   "cell_type": "code",
   "execution_count": 6,
   "id": "3dfb5cbf-fe2e-476b-80da-8d487c541869",
   "metadata": {},
   "outputs": [],
   "source": [
    "current_speed_bottom_layer = (uvel**2 + vvel**2)**0.5"
   ]
  },
  {
   "cell_type": "code",
   "execution_count": 7,
   "id": "ee2d2710-4d48-4d7b-a40a-61f874d55d58",
   "metadata": {
    "collapsed": true,
    "jupyter": {
     "outputs_hidden": true
    }
   },
   "outputs": [
    {
     "name": "stdout",
     "output_type": "stream",
     "text": [
      "<xarray.DataArray (time: 1095, yc: 555, xc: 950)> Size: 2GB\n",
      "array([[[       nan,        nan,        nan, ...,        nan,\n",
      "                nan,        nan],\n",
      "        [       nan,        nan,        nan, ...,        nan,\n",
      "                nan,        nan],\n",
      "        [       nan,        nan,        nan, ...,        nan,\n",
      "                nan,        nan],\n",
      "        ...,\n",
      "        [0.06882205, 0.06808559, 0.06775648, ..., 0.04918993,\n",
      "         0.04734616, 0.04545254],\n",
      "        [0.06882205, 0.06764103, 0.06736906, ..., 0.05034559,\n",
      "         0.04924352, 0.04556633],\n",
      "        [0.06882205, 0.06722157, 0.06700085, ..., 0.05116431,\n",
      "         0.05105118, 0.04819467]],\n",
      "\n",
      "       [[       nan,        nan,        nan, ...,        nan,\n",
      "                nan,        nan],\n",
      "        [       nan,        nan,        nan, ...,        nan,\n",
      "                nan,        nan],\n",
      "        [       nan,        nan,        nan, ...,        nan,\n",
      "                nan,        nan],\n",
      "...\n",
      "        [0.08998546, 0.09026498, 0.09037314, ..., 0.01097309,\n",
      "         0.01439542, 0.01738859],\n",
      "        [0.08998546, 0.09054512, 0.09063864, ..., 0.008681  ,\n",
      "         0.01127319, 0.01730268],\n",
      "        [0.08998546, 0.09074766, 0.09082588, ..., 0.00861552,\n",
      "         0.00884426, 0.01652019]],\n",
      "\n",
      "       [[       nan,        nan,        nan, ...,        nan,\n",
      "                nan,        nan],\n",
      "        [       nan,        nan,        nan, ...,        nan,\n",
      "                nan,        nan],\n",
      "        [       nan,        nan,        nan, ...,        nan,\n",
      "                nan,        nan],\n",
      "        ...,\n",
      "        [0.1056404 , 0.10623422, 0.10658398, ..., 0.02172815,\n",
      "         0.02148572, 0.0214173 ],\n",
      "        [0.1056404 , 0.10690954, 0.10733251, ..., 0.02450893,\n",
      "         0.02260184, 0.02173124],\n",
      "        [0.1056404 , 0.10776696, 0.10776696, ..., 0.02764862,\n",
      "         0.02764862, 0.02827536]]], shape=(1095, 555, 950), dtype=float32)\n",
      "Coordinates:\n",
      "  * time     (time) int64 9kB 0 1 2 3 4 5 6 ... 1089 1090 1091 1092 1093 1094\n",
      "  * yc       (yc) float32 2kB 800.0 1.6e+03 2.4e+03 ... 4.432e+05 4.44e+05\n",
      "  * xc       (xc) float32 4kB 800.0 1.6e+03 2.4e+03 ... 7.592e+05 7.6e+05\n"
     ]
    }
   ],
   "source": [
    "\n",
    "current_speed_bottom_layer_da = xr.DataArray(\n",
    "    current_speed_bottom_layer,\n",
    "    coords={\"time\": uvel_bottom_layer[\"time\"], \"yc\": uvel_bottom_layer[\"yc\"], \"xc\": uvel_bottom_layer[\"xc\"]},\n",
    "    dims=[\"time\", \"yc\", \"xc\"],\n",
    ")\n",
    "\n",
    "print(current_speed_bottom_layer_da)\n"
   ]
  },
  {
   "cell_type": "code",
   "execution_count": 8,
   "id": "95e6177d-cb15-4190-abf8-6fffbdc04a58",
   "metadata": {
    "collapsed": true,
    "jupyter": {
     "outputs_hidden": true
    }
   },
   "outputs": [
    {
     "name": "stdout",
     "output_type": "stream",
     "text": [
      "<xarray.Dataset> Size: 2GB\n",
      "Dimensions:        (time: 1095, yc: 555, xc: 950)\n",
      "Coordinates:\n",
      "  * time           (time) int64 9kB 0 1 2 3 4 5 ... 1090 1091 1092 1093 1094\n",
      "  * yc             (yc) float32 2kB 800.0 1.6e+03 2.4e+03 ... 4.432e+05 4.44e+05\n",
      "  * xc             (xc) float32 4kB 800.0 1.6e+03 2.4e+03 ... 7.592e+05 7.6e+05\n",
      "Data variables:\n",
      "    current_speed  (time, yc, xc) float32 2GB nan nan nan ... 0.02765 0.02828\n"
     ]
    }
   ],
   "source": [
    "current_speed_bottom_layer_ds = xr.Dataset(\n",
    "    {\n",
    "        \"current_speed\": current_speed_bottom_layer_da\n",
    "    }\n",
    ")\n",
    "print(current_speed_bottom_layer_ds)"
   ]
  },
  {
   "cell_type": "code",
   "execution_count": 9,
   "id": "c7bffc81-3db5-41a6-9f1f-3cb0d4883188",
   "metadata": {},
   "outputs": [],
   "source": [
    "current_speed_bottom_layer_ds.to_netcdf('/cluster/home/maikents/sinmod_combine_years/current_speed_bottom_layer.nc')"
   ]
  },
  {
   "cell_type": "code",
   "execution_count": 12,
   "id": "52b11fa5-4e59-4137-9bc0-07d9a83a1f04",
   "metadata": {},
   "outputs": [],
   "source": [
    "#Statistical northness and eastness\n",
    "\n",
    "longitude_of_projection_origin = physstates_2023[\"grid_mapping\"].attrs[\"longitude_of_projection_origin\"]\n"
   ]
  },
  {
   "cell_type": "code",
   "execution_count": 14,
   "id": "7ca0be26-52e1-458f-8c65-48790fab9fc0",
   "metadata": {},
   "outputs": [],
   "source": [
    "filename_physstates_2d = '/cluster/projects/itk-SINMOD/coral-mapping/midnor/samp_2D_jan_jun.nc'\n",
    "physstates_2d = Dataset(filename_physstates_2d, 'r')\n",
    "gridLons = physstates_2d.variables['gridLons']"
   ]
  },
  {
   "cell_type": "code",
   "execution_count": 15,
   "id": "c5896c0c-6f0f-433e-852f-794afd33e358",
   "metadata": {},
   "outputs": [],
   "source": [
    "theta = gridLons - longitude_of_projection_origin"
   ]
  },
  {
   "cell_type": "code",
   "execution_count": 16,
   "id": "be2c39ea-0914-4269-8f78-c6bdb3ad78f1",
   "metadata": {},
   "outputs": [],
   "source": [
    "eastward_velocity = uvel * np.cos(np.deg2rad(theta)) - vvel * np.sin(np.deg2rad(theta))\n",
    "northward_velocity = uvel * np.sin(np.deg2rad(theta)) + vvel * np.cos(np.deg2rad(theta))\n",
    "aspect = np.arctan2(eastward_velocity, northward_velocity)"
   ]
  },
  {
   "cell_type": "code",
   "execution_count": 17,
   "id": "9fa2ffb4-b8be-4da5-99c8-a13b7391d3a2",
   "metadata": {},
   "outputs": [],
   "source": [
    "statistical_eastness_bottom_layer = np.sin(aspect)"
   ]
  },
  {
   "cell_type": "code",
   "execution_count": 22,
   "id": "e508fc27-e914-4f7a-a4b3-0a4f71121828",
   "metadata": {},
   "outputs": [],
   "source": [
    "statistical_northness_bottom_layer = np.cos(aspect)"
   ]
  },
  {
   "cell_type": "code",
   "execution_count": 19,
   "id": "daf41425-e1d5-472b-a473-dc3116bc27ea",
   "metadata": {
    "collapsed": true,
    "jupyter": {
     "outputs_hidden": true
    }
   },
   "outputs": [
    {
     "name": "stdout",
     "output_type": "stream",
     "text": [
      "<xarray.DataArray (time: 1095, yc: 555, xc: 950)> Size: 5GB\n",
      "array([[[        nan,         nan,         nan, ...,         nan,\n",
      "                 nan,         nan],\n",
      "        [        nan,         nan,         nan, ...,         nan,\n",
      "                 nan,         nan],\n",
      "        [        nan,         nan,         nan, ...,         nan,\n",
      "                 nan,         nan],\n",
      "        ...,\n",
      "        [-0.03040548, -0.04702942, -0.04870174, ..., -0.91762601,\n",
      "         -0.90454007, -0.8733897 ],\n",
      "        [-0.03017024, -0.06361802, -0.06780378, ..., -0.92254896,\n",
      "         -0.91627718, -0.87278626],\n",
      "        [-0.02993505, -0.08445249, -0.08303887, ..., -0.92231879,\n",
      "         -0.92076052, -0.86217324]],\n",
      "\n",
      "       [[        nan,         nan,         nan, ...,         nan,\n",
      "                 nan,         nan],\n",
      "        [        nan,         nan,         nan, ...,         nan,\n",
      "                 nan,         nan],\n",
      "        [        nan,         nan,         nan, ...,         nan,\n",
      "                 nan,         nan],\n",
      "...\n",
      "        [-0.33464893, -0.33699315, -0.33947598, ..., -0.94711616,\n",
      "         -0.95553151, -0.94767518],\n",
      "        [-0.33487071, -0.33966995, -0.34035611, ..., -0.80560276,\n",
      "         -0.92771576, -0.94347529],\n",
      "        [-0.33509241, -0.34329875, -0.34220068, ..., -0.49565822,\n",
      "         -0.5039373 , -0.63995368]],\n",
      "\n",
      "       [[        nan,         nan,         nan, ...,         nan,\n",
      "                 nan,         nan],\n",
      "        [        nan,         nan,         nan, ...,         nan,\n",
      "                 nan,         nan],\n",
      "        [        nan,         nan,         nan, ...,         nan,\n",
      "                 nan,         nan],\n",
      "        ...,\n",
      "        [ 0.10794475,  0.09298619,  0.08077123, ...,  0.222608  ,\n",
      "          0.17296276,  0.1452663 ],\n",
      "        [ 0.10771076,  0.07932629,  0.06874134, ...,  0.2872715 ,\n",
      "          0.22971621,  0.15364587],\n",
      "        [ 0.10747684,  0.06278324,  0.06291945, ...,  0.33653182,\n",
      "          0.33673902,  0.28288292]]], shape=(1095, 555, 950))\n",
      "Coordinates:\n",
      "  * time     (time) int64 9kB 0 1 2 3 4 5 6 ... 1089 1090 1091 1092 1093 1094\n",
      "  * yc       (yc) float32 2kB 800.0 1.6e+03 2.4e+03 ... 4.432e+05 4.44e+05\n",
      "  * xc       (xc) float32 4kB 800.0 1.6e+03 2.4e+03 ... 7.592e+05 7.6e+05\n"
     ]
    }
   ],
   "source": [
    "statistical_eastness_bottom_layer_da = xr.DataArray(\n",
    "    statistical_eastness_bottom_layer,\n",
    "    coords={\"time\": uvel_bottom_layer[\"time\"], \"yc\": uvel_bottom_layer[\"yc\"], \"xc\": uvel_bottom_layer[\"xc\"]},\n",
    "    dims=[\"time\", \"yc\", \"xc\"],\n",
    ")\n",
    "\n",
    "print(statistical_eastness_bottom_layer_da)\n"
   ]
  },
  {
   "cell_type": "code",
   "execution_count": 20,
   "id": "f1ee8632-3859-4c19-a1e5-c968fa39d0a1",
   "metadata": {
    "collapsed": true,
    "jupyter": {
     "outputs_hidden": true
    }
   },
   "outputs": [
    {
     "name": "stdout",
     "output_type": "stream",
     "text": [
      "<xarray.Dataset> Size: 5GB\n",
      "Dimensions:               (time: 1095, yc: 555, xc: 950)\n",
      "Coordinates:\n",
      "  * time                  (time) int64 9kB 0 1 2 3 4 ... 1091 1092 1093 1094\n",
      "  * yc                    (yc) float32 2kB 800.0 1.6e+03 ... 4.432e+05 4.44e+05\n",
      "  * xc                    (xc) float32 4kB 800.0 1.6e+03 ... 7.592e+05 7.6e+05\n",
      "Data variables:\n",
      "    statistical_eastness  (time, yc, xc) float64 5GB nan nan ... 0.3367 0.2829\n"
     ]
    }
   ],
   "source": [
    "statistical_eastness_bottom_layer_ds = xr.Dataset(\n",
    "    {\n",
    "        \"statistical_eastness\": statistical_eastness_bottom_layer_da\n",
    "    }\n",
    ")\n",
    "print(statistical_eastness_bottom_layer_ds)"
   ]
  },
  {
   "cell_type": "code",
   "execution_count": 23,
   "id": "b6544699-0460-48e5-905e-12f10bafc795",
   "metadata": {},
   "outputs": [],
   "source": [
    "statistical_eastness_bottom_layer_ds.to_netcdf('/cluster/home/maikents/sinmod_combine_years/statistical_eastness_bottom_layer.nc')"
   ]
  },
  {
   "cell_type": "code",
   "execution_count": 24,
   "id": "fcdac4ce-ad64-42ee-b6fc-10c78846e4fb",
   "metadata": {
    "collapsed": true,
    "jupyter": {
     "outputs_hidden": true
    }
   },
   "outputs": [
    {
     "name": "stdout",
     "output_type": "stream",
     "text": [
      "<xarray.DataArray (time: 1095, yc: 555, xc: 950)> Size: 5GB\n",
      "array([[[        nan,         nan,         nan, ...,         nan,\n",
      "                 nan,         nan],\n",
      "        [        nan,         nan,         nan, ...,         nan,\n",
      "                 nan,         nan],\n",
      "        [        nan,         nan,         nan, ...,         nan,\n",
      "                 nan,         nan],\n",
      "        ...,\n",
      "        [ 0.99953765,  0.9988935 ,  0.99881337, ...,  0.39744498,\n",
      "          0.42638863,  0.48702201],\n",
      "        [ 0.99954477,  0.99797432,  0.99769868, ...,  0.38588004,\n",
      "          0.4005448 ,  0.4881026 ],\n",
      "        [ 0.99955185,  0.99642751,  0.99654631, ...,  0.38642988,\n",
      "          0.39012826,  0.50661357]],\n",
      "\n",
      "       [[        nan,         nan,         nan, ...,         nan,\n",
      "                 nan,         nan],\n",
      "        [        nan,         nan,         nan, ...,         nan,\n",
      "                 nan,         nan],\n",
      "        [        nan,         nan,         nan, ...,         nan,\n",
      "                 nan,         nan],\n",
      "...\n",
      "        [-0.94234287, -0.9415071 , -0.94061472, ..., -0.32089091,\n",
      "         -0.29488902, -0.3192362 ],\n",
      "        [-0.94226409, -0.94054469, -0.94029661, ..., -0.59245606,\n",
      "         -0.37328738, -0.33144286],\n",
      "        [-0.94218527, -0.93922626, -0.93962689, ..., -0.86851766,\n",
      "         -0.86374024, -0.76841349]],\n",
      "\n",
      "       [[        nan,         nan,         nan, ...,         nan,\n",
      "                 nan,         nan],\n",
      "        [        nan,         nan,         nan, ...,         nan,\n",
      "                 nan,         nan],\n",
      "        [        nan,         nan,         nan, ...,         nan,\n",
      "                 nan,         nan],\n",
      "        ...,\n",
      "        [-0.99415689, -0.9956674 , -0.99673267, ..., -0.97490804,\n",
      "         -0.98492836, -0.98939259],\n",
      "        [-0.99418227, -0.9968487 , -0.99763452, ..., -0.9578492 ,\n",
      "         -0.97325766, -0.98812598],\n",
      "        [-0.99420759, -0.99802719, -0.99801861, ..., -0.9416721 ,\n",
      "         -0.94159802, -0.95915445]]], shape=(1095, 555, 950))\n",
      "Coordinates:\n",
      "  * time     (time) int64 9kB 0 1 2 3 4 5 6 ... 1089 1090 1091 1092 1093 1094\n",
      "  * yc       (yc) float32 2kB 800.0 1.6e+03 2.4e+03 ... 4.432e+05 4.44e+05\n",
      "  * xc       (xc) float32 4kB 800.0 1.6e+03 2.4e+03 ... 7.592e+05 7.6e+05\n"
     ]
    }
   ],
   "source": [
    "statistical_northness_bottom_layer_da = xr.DataArray(\n",
    "    statistical_northness_bottom_layer,\n",
    "    coords={\"time\": uvel_bottom_layer[\"time\"], \"yc\": uvel_bottom_layer[\"yc\"], \"xc\": uvel_bottom_layer[\"xc\"]},\n",
    "    dims=[\"time\", \"yc\", \"xc\"],\n",
    ")\n",
    "\n",
    "print(statistical_northness_bottom_layer_da)\n"
   ]
  },
  {
   "cell_type": "code",
   "execution_count": 25,
   "id": "f253a19a-4c3d-43e5-a93f-6175338941e6",
   "metadata": {
    "collapsed": true,
    "jupyter": {
     "outputs_hidden": true
    }
   },
   "outputs": [
    {
     "name": "stdout",
     "output_type": "stream",
     "text": [
      "<xarray.Dataset> Size: 5GB\n",
      "Dimensions:                (time: 1095, yc: 555, xc: 950)\n",
      "Coordinates:\n",
      "  * time                   (time) int64 9kB 0 1 2 3 4 ... 1091 1092 1093 1094\n",
      "  * yc                     (yc) float32 2kB 800.0 1.6e+03 ... 4.432e+05 4.44e+05\n",
      "  * xc                     (xc) float32 4kB 800.0 1.6e+03 ... 7.592e+05 7.6e+05\n",
      "Data variables:\n",
      "    statistical_northness  (time, yc, xc) float64 5GB nan nan ... -0.9592\n"
     ]
    }
   ],
   "source": [
    "statistical_northness_bottom_layer_ds = xr.Dataset(\n",
    "    {\n",
    "        \"statistical_northness\": statistical_northness_bottom_layer_da\n",
    "    }\n",
    ")\n",
    "print(statistical_northness_bottom_layer_ds)"
   ]
  },
  {
   "cell_type": "code",
   "execution_count": 26,
   "id": "86a01e37-93c0-4bd6-8a09-a0c63cd00d47",
   "metadata": {},
   "outputs": [],
   "source": [
    "statistical_northness_bottom_layer_ds.to_netcdf('/cluster/home/maikents/sinmod_combine_years/statistical_northness_bottom_layer.nc')"
   ]
  },
  {
   "cell_type": "code",
   "execution_count": null,
   "id": "216597ef-8053-4001-a2a1-2889fe353093",
   "metadata": {},
   "outputs": [],
   "source": []
  }
 ],
 "metadata": {
  "kernelspec": {
   "display_name": "Python 3 (ipykernel)",
   "language": "python",
   "name": "python3"
  },
  "language_info": {
   "codemirror_mode": {
    "name": "ipython",
    "version": 3
   },
   "file_extension": ".py",
   "mimetype": "text/x-python",
   "name": "python",
   "nbconvert_exporter": "python",
   "pygments_lexer": "ipython3",
   "version": "3.12.3"
  }
 },
 "nbformat": 4,
 "nbformat_minor": 5
}
