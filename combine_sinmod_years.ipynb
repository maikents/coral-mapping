{
 "cells": [
  {
   "cell_type": "code",
   "execution_count": 9,
   "id": "655d4764-34eb-4fb6-a818-07f52a74256c",
   "metadata": {},
   "outputs": [
    {
     "ename": "AttributeError",
     "evalue": "partially initialized module 'pandas' has no attribute '_pandas_parser_CAPI' (most likely due to a circular import)",
     "output_type": "error",
     "traceback": [
      "\u001b[0;31m---------------------------------------------------------------------------\u001b[0m",
      "\u001b[0;31mAttributeError\u001b[0m                            Traceback (most recent call last)",
      "Cell \u001b[0;32mIn[9], line 7\u001b[0m\n\u001b[1;32m      5\u001b[0m \u001b[38;5;28;01mfrom\u001b[39;00m \u001b[38;5;21;01mpyproj\u001b[39;00m \u001b[38;5;28;01mimport\u001b[39;00m CRS\n\u001b[1;32m      6\u001b[0m \u001b[38;5;28;01mimport\u001b[39;00m \u001b[38;5;21;01mrasterio\u001b[39;00m\n\u001b[0;32m----> 7\u001b[0m \u001b[38;5;28;01mimport\u001b[39;00m \u001b[38;5;21;01mxarray\u001b[39;00m \u001b[38;5;28;01mas\u001b[39;00m \u001b[38;5;21;01mxr\u001b[39;00m\n\u001b[1;32m      8\u001b[0m \u001b[38;5;28;01mimport\u001b[39;00m \u001b[38;5;21;01mrioxarray\u001b[39;00m\n\u001b[1;32m      9\u001b[0m \u001b[38;5;28;01mfrom\u001b[39;00m \u001b[38;5;21;01mrasterio\u001b[39;00m\u001b[38;5;21;01m.\u001b[39;00m\u001b[38;5;21;01menums\u001b[39;00m \u001b[38;5;28;01mimport\u001b[39;00m Resampling\n",
      "File \u001b[0;32m~/PyEnvCoralMapping/lib/python3.12/site-packages/xarray/__init__.py:3\u001b[0m\n\u001b[1;32m      1\u001b[0m \u001b[38;5;28;01mfrom\u001b[39;00m \u001b[38;5;21;01mimportlib\u001b[39;00m\u001b[38;5;21;01m.\u001b[39;00m\u001b[38;5;21;01mmetadata\u001b[39;00m \u001b[38;5;28;01mimport\u001b[39;00m version \u001b[38;5;28;01mas\u001b[39;00m _version\n\u001b[0;32m----> 3\u001b[0m \u001b[38;5;28;01mfrom\u001b[39;00m \u001b[38;5;21;01mxarray\u001b[39;00m \u001b[38;5;28;01mimport\u001b[39;00m coders, groupers, testing, tutorial, ufuncs\n\u001b[1;32m      4\u001b[0m \u001b[38;5;28;01mfrom\u001b[39;00m \u001b[38;5;21;01mxarray\u001b[39;00m\u001b[38;5;21;01m.\u001b[39;00m\u001b[38;5;21;01mbackends\u001b[39;00m\u001b[38;5;21;01m.\u001b[39;00m\u001b[38;5;21;01mapi\u001b[39;00m \u001b[38;5;28;01mimport\u001b[39;00m (\n\u001b[1;32m      5\u001b[0m     load_dataarray,\n\u001b[1;32m      6\u001b[0m     load_dataset,\n\u001b[0;32m   (...)\u001b[0m\n\u001b[1;32m     12\u001b[0m     save_mfdataset,\n\u001b[1;32m     13\u001b[0m )\n\u001b[1;32m     14\u001b[0m \u001b[38;5;28;01mfrom\u001b[39;00m \u001b[38;5;21;01mxarray\u001b[39;00m\u001b[38;5;21;01m.\u001b[39;00m\u001b[38;5;21;01mbackends\u001b[39;00m\u001b[38;5;21;01m.\u001b[39;00m\u001b[38;5;21;01mzarr\u001b[39;00m \u001b[38;5;28;01mimport\u001b[39;00m open_zarr\n",
      "File \u001b[0;32m~/PyEnvCoralMapping/lib/python3.12/site-packages/xarray/coders.py:6\u001b[0m\n\u001b[1;32m      1\u001b[0m \u001b[38;5;124;03m\"\"\"\u001b[39;00m\n\u001b[1;32m      2\u001b[0m \u001b[38;5;124;03mThis module provides coder objects that encapsulate the\u001b[39;00m\n\u001b[1;32m      3\u001b[0m \u001b[38;5;124;03m\"encoding/decoding\" process.\u001b[39;00m\n\u001b[1;32m      4\u001b[0m \u001b[38;5;124;03m\"\"\"\u001b[39;00m\n\u001b[0;32m----> 6\u001b[0m \u001b[38;5;28;01mfrom\u001b[39;00m \u001b[38;5;21;01mxarray\u001b[39;00m\u001b[38;5;21;01m.\u001b[39;00m\u001b[38;5;21;01mcoding\u001b[39;00m\u001b[38;5;21;01m.\u001b[39;00m\u001b[38;5;21;01mtimes\u001b[39;00m \u001b[38;5;28;01mimport\u001b[39;00m CFDatetimeCoder, CFTimedeltaCoder\n\u001b[1;32m      8\u001b[0m __all__ \u001b[38;5;241m=\u001b[39m [\u001b[38;5;124m\"\u001b[39m\u001b[38;5;124mCFDatetimeCoder\u001b[39m\u001b[38;5;124m\"\u001b[39m, \u001b[38;5;124m\"\u001b[39m\u001b[38;5;124mCFTimedeltaCoder\u001b[39m\u001b[38;5;124m\"\u001b[39m]\n",
      "File \u001b[0;32m~/PyEnvCoralMapping/lib/python3.12/site-packages/xarray/coding/times.py:11\u001b[0m\n\u001b[1;32m      8\u001b[0m \u001b[38;5;28;01mfrom\u001b[39;00m \u001b[38;5;21;01mtyping\u001b[39;00m \u001b[38;5;28;01mimport\u001b[39;00m TYPE_CHECKING, Union, cast\n\u001b[1;32m     10\u001b[0m \u001b[38;5;28;01mimport\u001b[39;00m \u001b[38;5;21;01mnumpy\u001b[39;00m \u001b[38;5;28;01mas\u001b[39;00m \u001b[38;5;21;01mnp\u001b[39;00m\n\u001b[0;32m---> 11\u001b[0m \u001b[38;5;28;01mimport\u001b[39;00m \u001b[38;5;21;01mpandas\u001b[39;00m \u001b[38;5;28;01mas\u001b[39;00m \u001b[38;5;21;01mpd\u001b[39;00m\n\u001b[1;32m     12\u001b[0m \u001b[38;5;28;01mfrom\u001b[39;00m \u001b[38;5;21;01mpandas\u001b[39;00m\u001b[38;5;21;01m.\u001b[39;00m\u001b[38;5;21;01merrors\u001b[39;00m \u001b[38;5;28;01mimport\u001b[39;00m OutOfBoundsDatetime, OutOfBoundsTimedelta\n\u001b[1;32m     14\u001b[0m \u001b[38;5;28;01mfrom\u001b[39;00m \u001b[38;5;21;01mxarray\u001b[39;00m\u001b[38;5;21;01m.\u001b[39;00m\u001b[38;5;21;01mcoding\u001b[39;00m\u001b[38;5;21;01m.\u001b[39;00m\u001b[38;5;21;01mvariables\u001b[39;00m \u001b[38;5;28;01mimport\u001b[39;00m (\n\u001b[1;32m     15\u001b[0m     SerializationWarning,\n\u001b[1;32m     16\u001b[0m     VariableCoder,\n\u001b[0;32m   (...)\u001b[0m\n\u001b[1;32m     21\u001b[0m     unpack_for_encoding,\n\u001b[1;32m     22\u001b[0m )\n",
      "File \u001b[0;32m~/PyEnvCoralMapping/lib/python3.12/site-packages/pandas/__init__.py:138\u001b[0m\n\u001b[1;32m    119\u001b[0m \u001b[38;5;28;01mfrom\u001b[39;00m \u001b[38;5;21;01mpandas\u001b[39;00m\u001b[38;5;21;01m.\u001b[39;00m\u001b[38;5;21;01mcore\u001b[39;00m\u001b[38;5;21;01m.\u001b[39;00m\u001b[38;5;21;01mcomputation\u001b[39;00m\u001b[38;5;21;01m.\u001b[39;00m\u001b[38;5;21;01mapi\u001b[39;00m \u001b[38;5;28;01mimport\u001b[39;00m \u001b[38;5;28meval\u001b[39m\n\u001b[1;32m    121\u001b[0m \u001b[38;5;28;01mfrom\u001b[39;00m \u001b[38;5;21;01mpandas\u001b[39;00m\u001b[38;5;21;01m.\u001b[39;00m\u001b[38;5;21;01mcore\u001b[39;00m\u001b[38;5;21;01m.\u001b[39;00m\u001b[38;5;21;01mreshape\u001b[39;00m\u001b[38;5;21;01m.\u001b[39;00m\u001b[38;5;21;01mapi\u001b[39;00m \u001b[38;5;28;01mimport\u001b[39;00m (\n\u001b[1;32m    122\u001b[0m     concat,\n\u001b[1;32m    123\u001b[0m     lreshape,\n\u001b[0;32m   (...)\u001b[0m\n\u001b[1;32m    135\u001b[0m     qcut,\n\u001b[1;32m    136\u001b[0m )\n\u001b[0;32m--> 138\u001b[0m \u001b[38;5;28;01mfrom\u001b[39;00m \u001b[38;5;21;01mpandas\u001b[39;00m \u001b[38;5;28;01mimport\u001b[39;00m api, arrays, errors, io, plotting, tseries\n\u001b[1;32m    139\u001b[0m \u001b[38;5;28;01mfrom\u001b[39;00m \u001b[38;5;21;01mpandas\u001b[39;00m \u001b[38;5;28;01mimport\u001b[39;00m testing\n\u001b[1;32m    140\u001b[0m \u001b[38;5;28;01mfrom\u001b[39;00m \u001b[38;5;21;01mpandas\u001b[39;00m\u001b[38;5;21;01m.\u001b[39;00m\u001b[38;5;21;01mutil\u001b[39;00m\u001b[38;5;21;01m.\u001b[39;00m\u001b[38;5;21;01m_print_versions\u001b[39;00m \u001b[38;5;28;01mimport\u001b[39;00m show_versions\n",
      "File \u001b[0;32m~/PyEnvCoralMapping/lib/python3.12/site-packages/pandas/api/__init__.py:2\u001b[0m\n\u001b[1;32m      1\u001b[0m \u001b[38;5;124;03m\"\"\" public toolkit API \"\"\"\u001b[39;00m\n\u001b[0;32m----> 2\u001b[0m \u001b[38;5;28;01mfrom\u001b[39;00m \u001b[38;5;21;01mpandas\u001b[39;00m\u001b[38;5;21;01m.\u001b[39;00m\u001b[38;5;21;01mapi\u001b[39;00m \u001b[38;5;28;01mimport\u001b[39;00m (\n\u001b[1;32m      3\u001b[0m     extensions,\n\u001b[1;32m      4\u001b[0m     indexers,\n\u001b[1;32m      5\u001b[0m     interchange,\n\u001b[1;32m      6\u001b[0m     types,\n\u001b[1;32m      7\u001b[0m     typing,\n\u001b[1;32m      8\u001b[0m )\n\u001b[1;32m     10\u001b[0m __all__ \u001b[38;5;241m=\u001b[39m [\n\u001b[1;32m     11\u001b[0m     \u001b[38;5;124m\"\u001b[39m\u001b[38;5;124minterchange\u001b[39m\u001b[38;5;124m\"\u001b[39m,\n\u001b[1;32m     12\u001b[0m     \u001b[38;5;124m\"\u001b[39m\u001b[38;5;124mextensions\u001b[39m\u001b[38;5;124m\"\u001b[39m,\n\u001b[0;32m   (...)\u001b[0m\n\u001b[1;32m     15\u001b[0m     \u001b[38;5;124m\"\u001b[39m\u001b[38;5;124mtyping\u001b[39m\u001b[38;5;124m\"\u001b[39m,\n\u001b[1;32m     16\u001b[0m ]\n",
      "File \u001b[0;32m~/PyEnvCoralMapping/lib/python3.12/site-packages/pandas/api/typing/__init__.py:31\u001b[0m\n\u001b[1;32m     19\u001b[0m \u001b[38;5;28;01mfrom\u001b[39;00m \u001b[38;5;21;01mpandas\u001b[39;00m\u001b[38;5;21;01m.\u001b[39;00m\u001b[38;5;21;01mcore\u001b[39;00m\u001b[38;5;21;01m.\u001b[39;00m\u001b[38;5;21;01mwindow\u001b[39;00m \u001b[38;5;28;01mimport\u001b[39;00m (\n\u001b[1;32m     20\u001b[0m     Expanding,\n\u001b[1;32m     21\u001b[0m     ExpandingGroupby,\n\u001b[0;32m   (...)\u001b[0m\n\u001b[1;32m     26\u001b[0m     Window,\n\u001b[1;32m     27\u001b[0m )\n\u001b[1;32m     29\u001b[0m \u001b[38;5;66;03m# TODO: Can't import Styler without importing jinja2\u001b[39;00m\n\u001b[1;32m     30\u001b[0m \u001b[38;5;66;03m# from pandas.io.formats.style import Styler\u001b[39;00m\n\u001b[0;32m---> 31\u001b[0m \u001b[38;5;28;01mfrom\u001b[39;00m \u001b[38;5;21;01mpandas\u001b[39;00m\u001b[38;5;21;01m.\u001b[39;00m\u001b[38;5;21;01mio\u001b[39;00m\u001b[38;5;21;01m.\u001b[39;00m\u001b[38;5;21;01mjson\u001b[39;00m\u001b[38;5;21;01m.\u001b[39;00m\u001b[38;5;21;01m_json\u001b[39;00m \u001b[38;5;28;01mimport\u001b[39;00m JsonReader\n\u001b[1;32m     32\u001b[0m \u001b[38;5;28;01mfrom\u001b[39;00m \u001b[38;5;21;01mpandas\u001b[39;00m\u001b[38;5;21;01m.\u001b[39;00m\u001b[38;5;21;01mio\u001b[39;00m\u001b[38;5;21;01m.\u001b[39;00m\u001b[38;5;21;01mstata\u001b[39;00m \u001b[38;5;28;01mimport\u001b[39;00m StataReader\n\u001b[1;32m     34\u001b[0m __all__ \u001b[38;5;241m=\u001b[39m [\n\u001b[1;32m     35\u001b[0m     \u001b[38;5;124m\"\u001b[39m\u001b[38;5;124mDataFrameGroupBy\u001b[39m\u001b[38;5;124m\"\u001b[39m,\n\u001b[1;32m     36\u001b[0m     \u001b[38;5;124m\"\u001b[39m\u001b[38;5;124mDatetimeIndexResamplerGroupby\u001b[39m\u001b[38;5;124m\"\u001b[39m,\n\u001b[0;32m   (...)\u001b[0m\n\u001b[1;32m     54\u001b[0m     \u001b[38;5;124m\"\u001b[39m\u001b[38;5;124mWindow\u001b[39m\u001b[38;5;124m\"\u001b[39m,\n\u001b[1;32m     55\u001b[0m ]\n",
      "File \u001b[0;32m~/PyEnvCoralMapping/lib/python3.12/site-packages/pandas/io/json/__init__.py:1\u001b[0m\n\u001b[0;32m----> 1\u001b[0m \u001b[38;5;28;01mfrom\u001b[39;00m \u001b[38;5;21;01mpandas\u001b[39;00m\u001b[38;5;21;01m.\u001b[39;00m\u001b[38;5;21;01mio\u001b[39;00m\u001b[38;5;21;01m.\u001b[39;00m\u001b[38;5;21;01mjson\u001b[39;00m\u001b[38;5;21;01m.\u001b[39;00m\u001b[38;5;21;01m_json\u001b[39;00m \u001b[38;5;28;01mimport\u001b[39;00m (\n\u001b[1;32m      2\u001b[0m     read_json,\n\u001b[1;32m      3\u001b[0m     to_json,\n\u001b[1;32m      4\u001b[0m     ujson_dumps,\n\u001b[1;32m      5\u001b[0m     ujson_loads,\n\u001b[1;32m      6\u001b[0m )\n\u001b[1;32m      7\u001b[0m \u001b[38;5;28;01mfrom\u001b[39;00m \u001b[38;5;21;01mpandas\u001b[39;00m\u001b[38;5;21;01m.\u001b[39;00m\u001b[38;5;21;01mio\u001b[39;00m\u001b[38;5;21;01m.\u001b[39;00m\u001b[38;5;21;01mjson\u001b[39;00m\u001b[38;5;21;01m.\u001b[39;00m\u001b[38;5;21;01m_table_schema\u001b[39;00m \u001b[38;5;28;01mimport\u001b[39;00m build_table_schema\n\u001b[1;32m      9\u001b[0m __all__ \u001b[38;5;241m=\u001b[39m [\n\u001b[1;32m     10\u001b[0m     \u001b[38;5;124m\"\u001b[39m\u001b[38;5;124mujson_dumps\u001b[39m\u001b[38;5;124m\"\u001b[39m,\n\u001b[1;32m     11\u001b[0m     \u001b[38;5;124m\"\u001b[39m\u001b[38;5;124mujson_loads\u001b[39m\u001b[38;5;124m\"\u001b[39m,\n\u001b[0;32m   (...)\u001b[0m\n\u001b[1;32m     14\u001b[0m     \u001b[38;5;124m\"\u001b[39m\u001b[38;5;124mbuild_table_schema\u001b[39m\u001b[38;5;124m\"\u001b[39m,\n\u001b[1;32m     15\u001b[0m ]\n",
      "File \u001b[0;32m~/PyEnvCoralMapping/lib/python3.12/site-packages/pandas/io/json/_json.py:71\u001b[0m\n\u001b[1;32m     66\u001b[0m \u001b[38;5;28;01mfrom\u001b[39;00m \u001b[38;5;21;01mpandas\u001b[39;00m\u001b[38;5;21;01m.\u001b[39;00m\u001b[38;5;21;01mio\u001b[39;00m\u001b[38;5;21;01m.\u001b[39;00m\u001b[38;5;21;01mjson\u001b[39;00m\u001b[38;5;21;01m.\u001b[39;00m\u001b[38;5;21;01m_normalize\u001b[39;00m \u001b[38;5;28;01mimport\u001b[39;00m convert_to_line_delimits\n\u001b[1;32m     67\u001b[0m \u001b[38;5;28;01mfrom\u001b[39;00m \u001b[38;5;21;01mpandas\u001b[39;00m\u001b[38;5;21;01m.\u001b[39;00m\u001b[38;5;21;01mio\u001b[39;00m\u001b[38;5;21;01m.\u001b[39;00m\u001b[38;5;21;01mjson\u001b[39;00m\u001b[38;5;21;01m.\u001b[39;00m\u001b[38;5;21;01m_table_schema\u001b[39;00m \u001b[38;5;28;01mimport\u001b[39;00m (\n\u001b[1;32m     68\u001b[0m     build_table_schema,\n\u001b[1;32m     69\u001b[0m     parse_table_schema,\n\u001b[1;32m     70\u001b[0m )\n\u001b[0;32m---> 71\u001b[0m \u001b[38;5;28;01mfrom\u001b[39;00m \u001b[38;5;21;01mpandas\u001b[39;00m\u001b[38;5;21;01m.\u001b[39;00m\u001b[38;5;21;01mio\u001b[39;00m\u001b[38;5;21;01m.\u001b[39;00m\u001b[38;5;21;01mparsers\u001b[39;00m\u001b[38;5;21;01m.\u001b[39;00m\u001b[38;5;21;01mreaders\u001b[39;00m \u001b[38;5;28;01mimport\u001b[39;00m validate_integer\n\u001b[1;32m     73\u001b[0m \u001b[38;5;28;01mif\u001b[39;00m TYPE_CHECKING:\n\u001b[1;32m     74\u001b[0m     \u001b[38;5;28;01mfrom\u001b[39;00m \u001b[38;5;21;01mcollections\u001b[39;00m\u001b[38;5;21;01m.\u001b[39;00m\u001b[38;5;21;01mabc\u001b[39;00m \u001b[38;5;28;01mimport\u001b[39;00m (\n\u001b[1;32m     75\u001b[0m         Hashable,\n\u001b[1;32m     76\u001b[0m         Mapping,\n\u001b[1;32m     77\u001b[0m     )\n",
      "File \u001b[0;32m~/PyEnvCoralMapping/lib/python3.12/site-packages/pandas/io/parsers/__init__.py:1\u001b[0m\n\u001b[0;32m----> 1\u001b[0m \u001b[38;5;28;01mfrom\u001b[39;00m \u001b[38;5;21;01mpandas\u001b[39;00m\u001b[38;5;21;01m.\u001b[39;00m\u001b[38;5;21;01mio\u001b[39;00m\u001b[38;5;21;01m.\u001b[39;00m\u001b[38;5;21;01mparsers\u001b[39;00m\u001b[38;5;21;01m.\u001b[39;00m\u001b[38;5;21;01mreaders\u001b[39;00m \u001b[38;5;28;01mimport\u001b[39;00m (\n\u001b[1;32m      2\u001b[0m     TextFileReader,\n\u001b[1;32m      3\u001b[0m     TextParser,\n\u001b[1;32m      4\u001b[0m     read_csv,\n\u001b[1;32m      5\u001b[0m     read_fwf,\n\u001b[1;32m      6\u001b[0m     read_table,\n\u001b[1;32m      7\u001b[0m )\n\u001b[1;32m      9\u001b[0m __all__ \u001b[38;5;241m=\u001b[39m [\u001b[38;5;124m\"\u001b[39m\u001b[38;5;124mTextFileReader\u001b[39m\u001b[38;5;124m\"\u001b[39m, \u001b[38;5;124m\"\u001b[39m\u001b[38;5;124mTextParser\u001b[39m\u001b[38;5;124m\"\u001b[39m, \u001b[38;5;124m\"\u001b[39m\u001b[38;5;124mread_csv\u001b[39m\u001b[38;5;124m\"\u001b[39m, \u001b[38;5;124m\"\u001b[39m\u001b[38;5;124mread_fwf\u001b[39m\u001b[38;5;124m\"\u001b[39m, \u001b[38;5;124m\"\u001b[39m\u001b[38;5;124mread_table\u001b[39m\u001b[38;5;124m\"\u001b[39m]\n",
      "File \u001b[0;32m~/PyEnvCoralMapping/lib/python3.12/site-packages/pandas/io/parsers/readers.py:32\u001b[0m\n\u001b[1;32m     29\u001b[0m \u001b[38;5;28;01mfrom\u001b[39;00m \u001b[38;5;21;01mpandas\u001b[39;00m\u001b[38;5;21;01m.\u001b[39;00m\u001b[38;5;21;01m_config\u001b[39;00m \u001b[38;5;28;01mimport\u001b[39;00m using_copy_on_write\n\u001b[1;32m     31\u001b[0m \u001b[38;5;28;01mfrom\u001b[39;00m \u001b[38;5;21;01mpandas\u001b[39;00m\u001b[38;5;21;01m.\u001b[39;00m\u001b[38;5;21;01m_libs\u001b[39;00m \u001b[38;5;28;01mimport\u001b[39;00m lib\n\u001b[0;32m---> 32\u001b[0m \u001b[38;5;28;01mfrom\u001b[39;00m \u001b[38;5;21;01mpandas\u001b[39;00m\u001b[38;5;21;01m.\u001b[39;00m\u001b[38;5;21;01m_libs\u001b[39;00m\u001b[38;5;21;01m.\u001b[39;00m\u001b[38;5;21;01mparsers\u001b[39;00m \u001b[38;5;28;01mimport\u001b[39;00m STR_NA_VALUES\n\u001b[1;32m     33\u001b[0m \u001b[38;5;28;01mfrom\u001b[39;00m \u001b[38;5;21;01mpandas\u001b[39;00m\u001b[38;5;21;01m.\u001b[39;00m\u001b[38;5;21;01merrors\u001b[39;00m \u001b[38;5;28;01mimport\u001b[39;00m (\n\u001b[1;32m     34\u001b[0m     AbstractMethodError,\n\u001b[1;32m     35\u001b[0m     ParserWarning,\n\u001b[1;32m     36\u001b[0m )\n\u001b[1;32m     37\u001b[0m \u001b[38;5;28;01mfrom\u001b[39;00m \u001b[38;5;21;01mpandas\u001b[39;00m\u001b[38;5;21;01m.\u001b[39;00m\u001b[38;5;21;01mutil\u001b[39;00m\u001b[38;5;21;01m.\u001b[39;00m\u001b[38;5;21;01m_decorators\u001b[39;00m \u001b[38;5;28;01mimport\u001b[39;00m Appender\n",
      "File \u001b[0;32mparsers.pyx:1418\u001b[0m, in \u001b[0;36minit pandas._libs.parsers\u001b[0;34m()\u001b[0m\n",
      "\u001b[0;31mAttributeError\u001b[0m: partially initialized module 'pandas' has no attribute '_pandas_parser_CAPI' (most likely due to a circular import)"
     ]
    }
   ],
   "source": [
    "import numpy as np\n",
    "import time \n",
    "import os\n",
    "from netCDF4 import Dataset\n",
    "from pyproj import CRS\n",
    "import rasterio\n",
    "import xarray as xr\n",
    "import rioxarray\n",
    "from rasterio.enums import Resampling\n",
    "from sklearn.preprocessing import StandardScaler\n"
   ]
  },
  {
   "cell_type": "code",
   "execution_count": 14,
   "id": "a9457128-da72-4140-baf0-f9e97e826a37",
   "metadata": {},
   "outputs": [],
   "source": [
    "filename_physstates_2019 = '/cluster/projects/itk-SINMOD/coral-mapping/midnor/PhysStates_2019.nc'\n",
    "filename_physstates_2022 = '/cluster/projects/itk-SINMOD/coral-mapping/midnor/PhysStates_2022.nc'\n",
    "filename_physstates_2023 = '/cluster/projects/itk-SINMOD/coral-mapping/midnor/PhysStates_2023.nc'"
   ]
  },
  {
   "cell_type": "code",
   "execution_count": 15,
   "id": "2e03a0a4-9b7d-4d93-ad57-f034e6fb916f",
   "metadata": {},
   "outputs": [],
   "source": [
    "physstates_2022 = xr.open_dataset(filename_physstates_2022)"
   ]
  },
  {
   "cell_type": "code",
   "execution_count": 4,
   "id": "8b656645-c630-4c22-8e25-e7eb494922ee",
   "metadata": {},
   "outputs": [
    {
     "name": "stdout",
     "output_type": "stream",
     "text": [
      "['time', 'grid_mapping', 'LayerDepths', 'xc', 'yc', 'zc', 'depth', 'DXxDYy', 'u_velocity', 'v_velocity', 'elevation', 'temperature', 'salinity', 'ice_thickness', 'ice_compactness', 'salinity_ice']\n"
     ]
    }
   ],
   "source": [
    "print(list(physstates_2022.variables))"
   ]
  },
  {
   "cell_type": "code",
   "execution_count": 4,
   "id": "47020e53-4f8d-455c-b70e-f7a22a614bc1",
   "metadata": {},
   "outputs": [],
   "source": [
    "#Temperature (bottom)\n",
    "temp_2019 = physstates_2019['temperature']\n",
    "valid_mask = ~temp_2019.isnull() \n",
    "bottom_layer_idx = valid_mask.argmin(dim=\"zc\") - 1\n",
    "bottom_layer_idx = bottom_layer_idx.clip(min=0)\n",
    "no_valid_data_mask = valid_mask.sum(dim=\"zc\") == 0\n",
    "\n",
    "temp_bottom_layer_2019 = temp_2019.isel(zc=bottom_layer_idx)\n",
    "temp_bottom_layer_2019 = temp_bottom_layer_2019.where(~no_valid_data_mask, np.nan)"
   ]
  },
  {
   "cell_type": "code",
   "execution_count": 5,
   "id": "e513d764-40a6-4a22-89e2-f28c48d238e2",
   "metadata": {},
   "outputs": [],
   "source": [
    "temp_bottom_layer_2019.to_netcdf('/cluster/home/maikents/sinmod_combine_years/temp_bottom_layer_2019.nc')"
   ]
  },
  {
   "cell_type": "code",
   "execution_count": 6,
   "id": "6b3db9e1-598f-4e9d-a691-c64a384eb7af",
   "metadata": {},
   "outputs": [],
   "source": [
    "physstates_2019.close()"
   ]
  },
  {
   "cell_type": "code",
   "execution_count": 5,
   "id": "03022ccc-352d-491c-b0aa-a4fb24944908",
   "metadata": {},
   "outputs": [],
   "source": [
    "#Temperature (bottom)\n",
    "temp_2022 = physstates_2022['temperature']\n",
    "valid_mask = ~temp_2022.isnull() \n",
    "bottom_layer_idx = valid_mask.argmin(dim=\"zc\") - 1\n",
    "bottom_layer_idx = bottom_layer_idx.clip(min=0)\n",
    "no_valid_data_mask = valid_mask.sum(dim=\"zc\") == 0\n",
    "\n",
    "temp_bottom_layer_2022 = temp_2022.isel(zc=bottom_layer_idx)\n",
    "temp_bottom_layer_2022 = temp_bottom_layer_2022.where(~no_valid_data_mask, np.nan)"
   ]
  },
  {
   "cell_type": "code",
   "execution_count": 6,
   "id": "52915773-6246-494b-8e83-a8a3e53f3532",
   "metadata": {},
   "outputs": [],
   "source": [
    "temp_bottom_layer_2022.to_netcdf('/cluster/home/maikents/sinmod_combine_years/temp_bottom_layer_2022.nc')"
   ]
  },
  {
   "cell_type": "code",
   "execution_count": 8,
   "id": "4daadc17-4815-471d-9647-67e03bbf1232",
   "metadata": {},
   "outputs": [],
   "source": [
    "physstates_2022.close()"
   ]
  },
  {
   "cell_type": "code",
   "execution_count": 4,
   "id": "0b140908-b990-4655-9202-e63444d9d05e",
   "metadata": {},
   "outputs": [],
   "source": [
    "#Temperature (bottom)\n",
    "temp_2023 = physstates_2023['temperature']\n",
    "valid_mask = ~temp_2023.isnull() \n",
    "bottom_layer_idx = valid_mask.argmin(dim=\"zc\") - 1\n",
    "bottom_layer_idx = bottom_layer_idx.clip(min=0)\n",
    "no_valid_data_mask = valid_mask.sum(dim=\"zc\") == 0\n",
    "\n",
    "temp_bottom_layer_2023 = temp_2023.isel(zc=bottom_layer_idx)\n",
    "temp_bottom_layer_2023 = temp_bottom_layer_2023.where(~no_valid_data_mask, np.nan)"
   ]
  },
  {
   "cell_type": "code",
   "execution_count": 5,
   "id": "8d984506-4d90-416e-acfc-282aeab7addf",
   "metadata": {},
   "outputs": [],
   "source": [
    "temp_bottom_layer_2023.to_netcdf('/cluster/home/maikents/sinmod_combine_years/temp_bottom_layer_2023.nc')"
   ]
  },
  {
   "cell_type": "code",
   "execution_count": 3,
   "id": "f5ca111f-54ab-4b1a-9e82-0864572d0aef",
   "metadata": {},
   "outputs": [],
   "source": [
    "temp_bottom_layer_2019 = xr.open_dataset('/cluster/home/maikents/sinmod_combine_years/temp_bottom_layer_2019.nc')\n",
    "temp_bottom_layer_2022 = xr.open_dataset('/cluster/home/maikents/sinmod_combine_years/temp_bottom_layer_2022.nc')\n",
    "temp_bottom_layer_2023 = xr.open_dataset('/cluster/home/maikents/sinmod_combine_years/temp_bottom_layer_2023.nc')\n"
   ]
  },
  {
   "cell_type": "code",
   "execution_count": 8,
   "id": "6d917a26-b505-437a-8858-b312a0416bcf",
   "metadata": {},
   "outputs": [],
   "source": [
    "temp_bottom_layer_2022 = temp_bottom_layer_2022.isel(time=slice(0, 365))"
   ]
  },
  {
   "cell_type": "code",
   "execution_count": 10,
   "id": "3c8c6662-816d-4b77-a05f-552e8538420f",
   "metadata": {},
   "outputs": [],
   "source": [
    "temp_bottom_layer = xr.concat([temp_bottom_layer_2019, temp_bottom_layer_2022, temp_bottom_layer_2023], dim=\"time\")\n",
    "\n",
    "\n",
    "temp_bottom_layer.to_netcdf('/cluster/home/maikents/sinmod_combine_years/temp_bottom_layer.nc')\n"
   ]
  },
  {
   "cell_type": "code",
   "execution_count": 4,
   "id": "447a29e5-1ea8-48a5-8e19-7566ea2edb05",
   "metadata": {},
   "outputs": [],
   "source": [
    "#Salinity (bottom)\n",
    "sal_2019 = physstates_2019['salinity']\n",
    "valid_mask = ~sal_2019.isnull() \n",
    "bottom_layer_idx = valid_mask.argmin(dim=\"zc\") - 1\n",
    "bottom_layer_idx = bottom_layer_idx.clip(min=0)\n",
    "no_valid_data_mask = valid_mask.sum(dim=\"zc\") == 0\n",
    "\n",
    "sal_bottom_layer_2019 = sal_2019.isel(zc=bottom_layer_idx)\n",
    "sal_bottom_layer_2019 = sal_bottom_layer_2019.where(~no_valid_data_mask, np.nan)"
   ]
  },
  {
   "cell_type": "code",
   "execution_count": 5,
   "id": "9e2473e4-6b0e-4ca5-bca6-209d28128092",
   "metadata": {},
   "outputs": [],
   "source": [
    "sal_bottom_layer_2019.to_netcdf('/cluster/home/maikents/sinmod_combine_years/salinity_bottom_layer_2019.nc')"
   ]
  },
  {
   "cell_type": "code",
   "execution_count": 4,
   "id": "67c65a2f-6ccb-45b2-a9c1-7b3e079342cf",
   "metadata": {},
   "outputs": [],
   "source": [
    "#Salinity (bottom)\n",
    "sal_2022 = physstates_2022['salinity']\n",
    "valid_mask = ~sal_2022.isnull() \n",
    "bottom_layer_idx = valid_mask.argmin(dim=\"zc\") - 1\n",
    "bottom_layer_idx = bottom_layer_idx.clip(min=0)\n",
    "no_valid_data_mask = valid_mask.sum(dim=\"zc\") == 0\n",
    "\n",
    "sal_bottom_layer_2022 = sal_2022.isel(zc=bottom_layer_idx)\n",
    "sal_bottom_layer_2022 = sal_bottom_layer_2022.where(~no_valid_data_mask, np.nan)"
   ]
  },
  {
   "cell_type": "code",
   "execution_count": 5,
   "id": "62aab92f-7640-4a8c-aef6-84495ba6fddb",
   "metadata": {},
   "outputs": [],
   "source": [
    "sal_bottom_layer_2022.to_netcdf('/cluster/home/maikents/sinmod_combine_years/salinity_bottom_layer_2022.nc')"
   ]
  },
  {
   "cell_type": "code",
   "execution_count": 4,
   "id": "17c388f8-8fb9-4375-9fc9-cc414ac2789a",
   "metadata": {},
   "outputs": [],
   "source": [
    "#Salinity (bottom)\n",
    "sal_2023 = physstates_2023['salinity']\n",
    "valid_mask = ~sal_2023.isnull() \n",
    "bottom_layer_idx = valid_mask.argmin(dim=\"zc\") - 1\n",
    "bottom_layer_idx = bottom_layer_idx.clip(min=0)\n",
    "no_valid_data_mask = valid_mask.sum(dim=\"zc\") == 0\n",
    "\n",
    "sal_bottom_layer_2023 = sal_2023.isel(zc=bottom_layer_idx)\n",
    "sal_bottom_layer_2023 = sal_bottom_layer_2023.where(~no_valid_data_mask, np.nan)"
   ]
  },
  {
   "cell_type": "code",
   "execution_count": 5,
   "id": "aa52ad78-922a-430b-89f8-f092f73189ff",
   "metadata": {},
   "outputs": [],
   "source": [
    "sal_bottom_layer_2023.to_netcdf('/cluster/home/maikents/sinmod_combine_years/salinity_bottom_layer_2023.nc')"
   ]
  },
  {
   "cell_type": "code",
   "execution_count": 3,
   "id": "27af29fc-158d-4194-8ab3-e842d427dc09",
   "metadata": {},
   "outputs": [],
   "source": [
    "sal_bottom_layer_2019 = xr.open_dataset('/cluster/home/maikents/sinmod_combine_years/salinity_bottom_layer_2019.nc')\n",
    "sal_bottom_layer_2022 = xr.open_dataset('/cluster/home/maikents/sinmod_combine_years/salinity_bottom_layer_2022.nc')\n",
    "sal_bottom_layer_2023 = xr.open_dataset('/cluster/home/maikents/sinmod_combine_years/salinity_bottom_layer_2023.nc')\n"
   ]
  },
  {
   "cell_type": "code",
   "execution_count": 4,
   "id": "dfe6e174-c79e-4c13-a0b4-de152f847673",
   "metadata": {},
   "outputs": [],
   "source": [
    "sal_bottom_layer_2022 = sal_bottom_layer_2022.isel(time=slice(0, 365))"
   ]
  },
  {
   "cell_type": "code",
   "execution_count": 5,
   "id": "7dc7aea1-1b0c-432c-a933-fec91f9e3a8b",
   "metadata": {},
   "outputs": [],
   "source": [
    "sal_bottom_layer = xr.concat([sal_bottom_layer_2019, sal_bottom_layer_2022, sal_bottom_layer_2023], dim=\"time\")\n",
    "\n",
    "\n",
    "sal_bottom_layer.to_netcdf('/cluster/home/maikents/sinmod_combine_years/salinity_bottom_layer.nc')\n"
   ]
  },
  {
   "cell_type": "code",
   "execution_count": 9,
   "id": "c7b94276-45cd-475d-af0e-690ca0a70804",
   "metadata": {},
   "outputs": [],
   "source": [
    "#U_velocity (bottom)\n",
    "uvel_2019 = physstates_2019['u_velocity']\n",
    "valid_mask = ~uvel_2019.isnull() \n",
    "bottom_layer_idx = valid_mask.argmin(dim=\"zc\") - 1\n",
    "bottom_layer_idx = bottom_layer_idx.clip(min=0)\n",
    "no_valid_data_mask = valid_mask.sum(dim=\"zc\") == 0\n",
    "\n",
    "uvel_bottom_layer_2019 = uvel_2019.isel(zc=bottom_layer_idx)\n",
    "uvel_bottom_layer_2019 = uvel_bottom_layer_2019.where(~no_valid_data_mask, np.nan)"
   ]
  },
  {
   "cell_type": "code",
   "execution_count": 10,
   "id": "fb973f01-b82e-431e-8bd4-ac1c8322c186",
   "metadata": {},
   "outputs": [],
   "source": [
    "uvel_bottom_layer_2019.to_netcdf('/cluster/home/maikents/sinmod_combine_years/uvel_bottom_layer_2019.nc')"
   ]
  },
  {
   "cell_type": "code",
   "execution_count": null,
   "id": "0e5837d4-03ae-4d05-8698-b39a62e14a2a",
   "metadata": {},
   "outputs": [],
   "source": [
    "#U_velocity (bottom)\n",
    "uvel_2022 = physstates_2022['u_velocity']\n",
    "valid_mask = ~uvel_2022.isnull() \n",
    "bottom_layer_idx = valid_mask.argmin(dim=\"zc\") - 1\n",
    "bottom_layer_idx = bottom_layer_idx.clip(min=0)\n",
    "no_valid_data_mask = valid_mask.sum(dim=\"zc\") == 0\n",
    "\n",
    "uvel_bottom_layer_2022 = uvel_2022.isel(zc=bottom_layer_idx)\n",
    "uvel_bottom_layer_2022 = uvel_bottom_layer_2022.where(~no_valid_data_mask, np.nan)"
   ]
  },
  {
   "cell_type": "code",
   "execution_count": null,
   "id": "c9b48452-a893-44df-b29c-d9b507e455e8",
   "metadata": {},
   "outputs": [],
   "source": [
    "uvel_bottom_layer_2022.to_netcdf('/cluster/home/maikents/sinmod_combine_years/uvel_bottom_layer_2022.nc')"
   ]
  }
 ],
 "metadata": {
  "kernelspec": {
   "display_name": "Python 3 (ipykernel)",
   "language": "python",
   "name": "python3"
  },
  "language_info": {
   "codemirror_mode": {
    "name": "ipython",
    "version": 3
   },
   "file_extension": ".py",
   "mimetype": "text/x-python",
   "name": "python",
   "nbconvert_exporter": "python",
   "pygments_lexer": "ipython3",
   "version": "3.12.3"
  }
 },
 "nbformat": 4,
 "nbformat_minor": 5
}
