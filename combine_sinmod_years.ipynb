{
 "cells": [
  {
   "cell_type": "code",
   "execution_count": 1,
   "id": "655d4764-34eb-4fb6-a818-07f52a74256c",
   "metadata": {},
   "outputs": [],
   "source": [
    "import numpy as np\n",
    "import xarray as xr\n",
    "import time \n",
    "import os\n",
    "from netCDF4 import Dataset\n",
    "from pyproj import CRS\n",
    "import rasterio\n",
    "import rioxarray\n",
    "from rasterio.enums import Resampling\n",
    "from sklearn.preprocessing import StandardScaler\n",
    "import rioxarray"
   ]
  },
  {
   "cell_type": "code",
   "execution_count": 3,
   "id": "a9457128-da72-4140-baf0-f9e97e826a37",
   "metadata": {},
   "outputs": [],
   "source": [
    "filename_physstates_2019 = '/cluster/projects/itk-SINMOD/coral-mapping/midnor/PhysStates_2019.nc'\n",
    "filename_physstates_2022 = '/cluster/projects/itk-SINMOD/coral-mapping/midnor/PhysStates_2022.nc'\n",
    "filename_physstates_2023 = '/cluster/projects/itk-SINMOD/coral-mapping/midnor/PhysStates_2023.nc'"
   ]
  },
  {
   "cell_type": "code",
   "execution_count": 4,
   "id": "2e03a0a4-9b7d-4d93-ad57-f034e6fb916f",
   "metadata": {},
   "outputs": [],
   "source": [
    "physstates_2019 = xr.open_dataset(filename_physstates_2019)"
   ]
  },
  {
   "cell_type": "code",
   "execution_count": 5,
   "id": "8b656645-c630-4c22-8e25-e7eb494922ee",
   "metadata": {},
   "outputs": [
    {
     "name": "stdout",
     "output_type": "stream",
     "text": [
      "['time', 'grid_mapping', 'LayerDepths', 'xc', 'yc', 'zc', 'depth', 'DXxDYy', 'u_velocity', 'v_velocity', 'elevation', 'temperature', 'salinity', 'ice_thickness', 'ice_compactness', 'salinity_ice']\n"
     ]
    }
   ],
   "source": [
    "print(list(physstates_2019.variables))"
   ]
  },
  {
   "cell_type": "code",
   "execution_count": null,
   "id": "47020e53-4f8d-455c-b70e-f7a22a614bc1",
   "metadata": {},
   "outputs": [],
   "source": [
    "#Temperature (bottom)\n",
    "temp_2019 = physstates_2019['temperature']\n",
    "valid_mask = ~temp_2019.isnull() \n",
    "bottom_layer_idx = valid_mask.argmin(dim=\"zc\") - 1\n",
    "bottom_layer_idx = bottom_layer_idx.clip(min=0)\n",
    "no_valid_data_mask = valid_mask.sum(dim=\"zc\") == 0\n",
    "\n",
    "temp_bottom_layer_2019 = temp_2019.isel(zc=bottom_layer_idx)\n",
    "temp_bottom_layer_2019 = temp_bottom_layer_2019.where(~no_valid_data_mask, np.nan)"
   ]
  }
 ],
 "metadata": {
  "kernelspec": {
   "display_name": "Python 3 (ipykernel)",
   "language": "python",
   "name": "python3"
  },
  "language_info": {
   "codemirror_mode": {
    "name": "ipython",
    "version": 3
   },
   "file_extension": ".py",
   "mimetype": "text/x-python",
   "name": "python",
   "nbconvert_exporter": "python",
   "pygments_lexer": "ipython3",
   "version": "3.12.3"
  }
 },
 "nbformat": 4,
 "nbformat_minor": 5
}
